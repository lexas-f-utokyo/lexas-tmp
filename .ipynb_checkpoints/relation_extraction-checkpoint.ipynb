{
 "cells": [
  {
   "cell_type": "code",
   "execution_count": null,
   "metadata": {
    "colab": {
     "base_uri": "https://localhost:8080/"
    },
    "executionInfo": {
     "elapsed": 25824,
     "status": "ok",
     "timestamp": 1633570083567,
     "user": {
      "displayName": "伊藤慶",
      "photoUrl": "https://lh3.googleusercontent.com/a/default-user=s64",
      "userId": "07271948982802047026"
     },
     "user_tz": -540
    },
    "id": "DpI3yOtHMlvh",
    "outputId": "197cc2a1-227f-4e1f-86ad-42401898561a"
   },
   "outputs": [
    {
     "name": "stdout",
     "output_type": "stream",
     "text": [
      "Mounted at /content/drive\n"
     ]
    }
   ],
   "source": [
    "from google.colab import drive\n",
    "drive.mount('/content/drive')"
   ]
  },
  {
   "cell_type": "code",
   "execution_count": null,
   "metadata": {
    "colab": {
     "base_uri": "https://localhost:8080/"
    },
    "executionInfo": {
     "elapsed": 3866,
     "status": "ok",
     "timestamp": 1633570087421,
     "user": {
      "displayName": "伊藤慶",
      "photoUrl": "https://lh3.googleusercontent.com/a/default-user=s64",
      "userId": "07271948982802047026"
     },
     "user_tz": -540
    },
    "id": "b0taJEMbeuix",
    "outputId": "3428b490-610f-4f29-ad7a-1dec28599a52"
   },
   "outputs": [
    {
     "name": "stdout",
     "output_type": "stream",
     "text": [
      "/content/drive/MyDrive/Colab Notebooks/nlp\n"
     ]
    }
   ],
   "source": [
    "cd /content/drive/MyDrive/Colab\\ Notebooks/nlp"
   ]
  },
  {
   "cell_type": "code",
   "execution_count": null,
   "metadata": {
    "colab": {
     "base_uri": "https://localhost:8080/"
    },
    "executionInfo": {
     "elapsed": 3951,
     "status": "ok",
     "timestamp": 1632740337847,
     "user": {
      "displayName": "伊藤慶",
      "photoUrl": "https://lh3.googleusercontent.com/a/default-user=s64",
      "userId": "07271948982802047026"
     },
     "user_tz": -540
    },
    "id": "brmHGy3UmhpK",
    "outputId": "1f0f29b6-fd51-4cb3-80af-98ca6431ce06"
   },
   "outputs": [
    {
     "name": "stdout",
     "output_type": "stream",
     "text": [
      "tensor([5, 2, 4]) tensor([0, 1, 1])\n",
      "tensor([1, 3, 6]) tensor([0, 0, 1])\n"
     ]
    }
   ],
   "source": [
    "import torch\n",
    "class Mydatasets(torch.utils.data.Dataset):\n",
    "    def __init__(self, transform = None):\n",
    "        self.transform = transform\n",
    "\n",
    "        self.data = [1, 2, 3, 4, 5, 6]\n",
    "        self.label = [0, 1, 0, 1, 0, 1]\n",
    "\n",
    "        self.datanum = 6\n",
    "\n",
    "    def __len__(self):\n",
    "        return self.datanum\n",
    "\n",
    "    def __getitem__(self, idx):\n",
    "        out_data = self.data[idx]\n",
    "        out_label = self.label[idx]\n",
    "\n",
    "        if self.transform:\n",
    "            out_data = self.transform(out_data)\n",
    "\n",
    "        return out_data, out_label\n",
    "c = Mydatasets()\n",
    "trainloader = torch.utils.data.DataLoader(c, batch_size = 3, shuffle = True)\n",
    "for a,b in trainloader:\n",
    "  print(a,b)"
   ]
  },
  {
   "cell_type": "markdown",
   "metadata": {
    "id": "rnLQ5WCZXAvh"
   },
   "source": [
    "#BERTの読み込み"
   ]
  },
  {
   "cell_type": "code",
   "execution_count": null,
   "metadata": {
    "colab": {
     "base_uri": "https://localhost:8080/"
    },
    "executionInfo": {
     "elapsed": 6121,
     "status": "ok",
     "timestamp": 1632740343964,
     "user": {
      "displayName": "伊藤慶",
      "photoUrl": "https://lh3.googleusercontent.com/a/default-user=s64",
      "userId": "07271948982802047026"
     },
     "user_tz": -540
    },
    "id": "Hd4Bv_lZehdt",
    "outputId": "a620b0ca-fe26-4298-f706-baf520931467"
   },
   "outputs": [
    {
     "name": "stdout",
     "output_type": "stream",
     "text": [
      "Collecting transformers\n",
      "  Downloading transformers-4.10.3-py3-none-any.whl (2.8 MB)\n",
      "\u001b[K     |████████████████████████████████| 2.8 MB 5.1 MB/s \n",
      "\u001b[?25hRequirement already satisfied: regex!=2019.12.17 in /usr/local/lib/python3.7/dist-packages (from transformers) (2019.12.20)\n",
      "Requirement already satisfied: requests in /usr/local/lib/python3.7/dist-packages (from transformers) (2.23.0)\n",
      "Collecting pyyaml>=5.1\n",
      "  Downloading PyYAML-5.4.1-cp37-cp37m-manylinux1_x86_64.whl (636 kB)\n",
      "\u001b[K     |████████████████████████████████| 636 kB 74.6 MB/s \n",
      "\u001b[?25hCollecting sacremoses\n",
      "  Downloading sacremoses-0.0.46-py3-none-any.whl (895 kB)\n",
      "\u001b[K     |████████████████████████████████| 895 kB 75.9 MB/s \n",
      "\u001b[?25hRequirement already satisfied: tqdm>=4.27 in /usr/local/lib/python3.7/dist-packages (from transformers) (4.62.2)\n",
      "Collecting huggingface-hub>=0.0.12\n",
      "  Downloading huggingface_hub-0.0.17-py3-none-any.whl (52 kB)\n",
      "\u001b[K     |████████████████████████████████| 52 kB 1.9 MB/s \n",
      "\u001b[?25hCollecting tokenizers<0.11,>=0.10.1\n",
      "  Downloading tokenizers-0.10.3-cp37-cp37m-manylinux_2_5_x86_64.manylinux1_x86_64.manylinux_2_12_x86_64.manylinux2010_x86_64.whl (3.3 MB)\n",
      "\u001b[K     |████████████████████████████████| 3.3 MB 60.5 MB/s \n",
      "\u001b[?25hRequirement already satisfied: importlib-metadata in /usr/local/lib/python3.7/dist-packages (from transformers) (4.8.1)\n",
      "Requirement already satisfied: numpy>=1.17 in /usr/local/lib/python3.7/dist-packages (from transformers) (1.19.5)\n",
      "Requirement already satisfied: packaging in /usr/local/lib/python3.7/dist-packages (from transformers) (21.0)\n",
      "Requirement already satisfied: filelock in /usr/local/lib/python3.7/dist-packages (from transformers) (3.0.12)\n",
      "Requirement already satisfied: typing-extensions in /usr/local/lib/python3.7/dist-packages (from huggingface-hub>=0.0.12->transformers) (3.7.4.3)\n",
      "Requirement already satisfied: pyparsing>=2.0.2 in /usr/local/lib/python3.7/dist-packages (from packaging->transformers) (2.4.7)\n",
      "Requirement already satisfied: zipp>=0.5 in /usr/local/lib/python3.7/dist-packages (from importlib-metadata->transformers) (3.5.0)\n",
      "Requirement already satisfied: certifi>=2017.4.17 in /usr/local/lib/python3.7/dist-packages (from requests->transformers) (2021.5.30)\n",
      "Requirement already satisfied: urllib3!=1.25.0,!=1.25.1,<1.26,>=1.21.1 in /usr/local/lib/python3.7/dist-packages (from requests->transformers) (1.24.3)\n",
      "Requirement already satisfied: idna<3,>=2.5 in /usr/local/lib/python3.7/dist-packages (from requests->transformers) (2.10)\n",
      "Requirement already satisfied: chardet<4,>=3.0.2 in /usr/local/lib/python3.7/dist-packages (from requests->transformers) (3.0.4)\n",
      "Requirement already satisfied: joblib in /usr/local/lib/python3.7/dist-packages (from sacremoses->transformers) (1.0.1)\n",
      "Requirement already satisfied: six in /usr/local/lib/python3.7/dist-packages (from sacremoses->transformers) (1.15.0)\n",
      "Requirement already satisfied: click in /usr/local/lib/python3.7/dist-packages (from sacremoses->transformers) (7.1.2)\n",
      "Installing collected packages: tokenizers, sacremoses, pyyaml, huggingface-hub, transformers\n",
      "  Attempting uninstall: pyyaml\n",
      "    Found existing installation: PyYAML 3.13\n",
      "    Uninstalling PyYAML-3.13:\n",
      "      Successfully uninstalled PyYAML-3.13\n",
      "Successfully installed huggingface-hub-0.0.17 pyyaml-5.4.1 sacremoses-0.0.46 tokenizers-0.10.3 transformers-4.10.3\n"
     ]
    }
   ],
   "source": [
    "!pip install transformers"
   ]
  },
  {
   "cell_type": "code",
   "execution_count": null,
   "metadata": {
    "id": "_Xni3Z-agSYa"
   },
   "outputs": [],
   "source": [
    "import pandas as pd\n",
    "import transformers"
   ]
  },
  {
   "cell_type": "code",
   "execution_count": null,
   "metadata": {
    "colab": {
     "base_uri": "https://localhost:8080/"
    },
    "executionInfo": {
     "elapsed": 6,
     "status": "ok",
     "timestamp": 1632740343965,
     "user": {
      "displayName": "伊藤慶",
      "photoUrl": "https://lh3.googleusercontent.com/a/default-user=s64",
      "userId": "07271948982802047026"
     },
     "user_tz": -540
    },
    "id": "lVtW9I30fScv",
    "outputId": "daee366c-7db8-4ebc-8394-198de16c0342"
   },
   "outputs": [
    {
     "name": "stdout",
     "output_type": "stream",
     "text": [
      "There are 1 GPU(s) available.\n",
      "We will use the GPU: Tesla P100-PCIE-16GB\n"
     ]
    }
   ],
   "source": [
    "import torch\n",
    "# If there's a GPU available...\n",
    "if torch.cuda.is_available():    \n",
    "    # Tell PyTorch to use the GPU.    \n",
    "    device = torch.device(\"cuda\")\n",
    "    print('There are %d GPU(s) available.' % torch.cuda.device_count())\n",
    "    print('We will use the GPU:', torch.cuda.get_device_name(0))\n",
    "# If not...\n",
    "else:\n",
    "    print('No GPU available, using the CPU instead.')\n",
    "    device = torch.device(\"cpu\")"
   ]
  },
  {
   "cell_type": "code",
   "execution_count": null,
   "metadata": {
    "colab": {
     "base_uri": "https://localhost:8080/",
     "referenced_widgets": [
      "ce64d1c7edc14f749ea45a2eab4ed5c3",
      "15f965848823424dabf986fd7276cbb1",
      "cdb8c8c6a15d48c0be0a931dae2efd76",
      "f22bf7b9a90444539afb0d9e28cd8896",
      "82baae3ae255434fb8d02c9e6111f82c",
      "4d46ceebd32f44f6a82f95a6645324a4",
      "c50622af9eb147629127e326131e3690",
      "73fbcb59870a409fb59f829a40d6eed6",
      "27dcb261fe064461b4a5eee9ac8b7681",
      "3e2a599bd17f4d788f2ac4ba08a26ceb",
      "bc3b95d347b74b6bb320d3531ee5ac71",
      "4c3d845906cb441db331b6cb3ce2587c",
      "ad4f0e7dfc0f40349f868cc3f6a9c68a",
      "cc9fae9ed1d74008866e239f1a0a4506",
      "9bfd7dfd70714aba925209282774d5a6",
      "6ef1671ffce9460ba8ccc33566b4d6d0",
      "ef136d66058b41f9b6390059c557360d",
      "83b029f7ba8a4578885052430ff82392",
      "ac77b3eb57364754894b00627c61eb84",
      "32cafa24ab2c42abafce7fd37b89e169",
      "72f3a1aca2bd42f1a5247f34229b4577",
      "46db75d6afe44f7a9a7df77d5f16d358"
     ]
    },
    "executionInfo": {
     "elapsed": 2778,
     "status": "ok",
     "timestamp": 1632740346739,
     "user": {
      "displayName": "伊藤慶",
      "photoUrl": "https://lh3.googleusercontent.com/a/default-user=s64",
      "userId": "07271948982802047026"
     },
     "user_tz": -540
    },
    "id": "U6v3w-sng3eL",
    "outputId": "95c47341-fc45-4364-f6aa-d9846ed128e5"
   },
   "outputs": [
    {
     "name": "stdout",
     "output_type": "stream",
     "text": [
      "Loading BERT tokenizer...\n"
     ]
    },
    {
     "data": {
      "application/vnd.jupyter.widget-view+json": {
       "model_id": "ce64d1c7edc14f749ea45a2eab4ed5c3",
       "version_major": 2,
       "version_minor": 0
      },
      "text/plain": [
       "Downloading:   0%|          | 0.00/213k [00:00<?, ?B/s]"
      ]
     },
     "metadata": {},
     "output_type": "display_data"
    },
    {
     "data": {
      "application/vnd.jupyter.widget-view+json": {
       "model_id": "4c3d845906cb441db331b6cb3ce2587c",
       "version_major": 2,
       "version_minor": 0
      },
      "text/plain": [
       "Downloading:   0%|          | 0.00/313 [00:00<?, ?B/s]"
      ]
     },
     "metadata": {},
     "output_type": "display_data"
    }
   ],
   "source": [
    "from transformers import BertTokenizer\n",
    "# Load the BERT tokenizer.\n",
    "print('Loading BERT tokenizer...')\n",
    "#tokenizer = tokenizer_bb\n",
    "tokenizer = BertTokenizer.from_pretrained('dmis-lab/biobert-base-cased-v1.1', do_lower_case=True)\n",
    "#tokenizer = BertTokenizer.from_pretrained('bert-base-cased', do_lower_case=True)\n",
    "#tokenizer = BertTokenizer.from_pretrained('allenai/scibert_scivocab_uncased', do_lower_case=True)\n",
    "\n",
    "#tokenizer = AutoTokenizer.from_pretrained(\"bert-base-uncased\")"
   ]
  },
  {
   "cell_type": "code",
   "execution_count": null,
   "metadata": {
    "colab": {
     "base_uri": "https://localhost:8080/",
     "referenced_widgets": [
      "8e920d8a1dda4de9ac68f11bcc7a0005",
      "bc66c18c560941e7962bf261024c6046",
      "7129ac8ba89545d0ad8c44310120d66e",
      "ff238655e9a849deb3fea8e28e971326",
      "4d164b32679b408189328dd93b413fac",
      "25e66ad564ac4fc7b1c23320726811a6",
      "cbe3548d644d450c866f9d256b569d1a",
      "7f06eae3128f4038a41ffa1e5a99de08",
      "705330ab1f7e402b8475c8fcaea488a5",
      "29c1a6da97d44450bbd454f7c3b8e319",
      "b5e74e59076949119472910475d14dea"
     ]
    },
    "executionInfo": {
     "elapsed": 16265,
     "status": "ok",
     "timestamp": 1632740363000,
     "user": {
      "displayName": "伊藤慶",
      "photoUrl": "https://lh3.googleusercontent.com/a/default-user=s64",
      "userId": "07271948982802047026"
     },
     "user_tz": -540
    },
    "id": "BgE6emhghlsT",
    "outputId": "4a615544-b95b-4679-a4cf-cbf18f8f8285"
   },
   "outputs": [
    {
     "data": {
      "application/vnd.jupyter.widget-view+json": {
       "model_id": "8e920d8a1dda4de9ac68f11bcc7a0005",
       "version_major": 2,
       "version_minor": 0
      },
      "text/plain": [
       "Downloading:   0%|          | 0.00/436M [00:00<?, ?B/s]"
      ]
     },
     "metadata": {},
     "output_type": "display_data"
    },
    {
     "name": "stderr",
     "output_type": "stream",
     "text": [
      "Some weights of the model checkpoint at dmis-lab/biobert-base-cased-v1.1 were not used when initializing BertForSequenceClassification: ['cls.seq_relationship.bias', 'cls.predictions.bias', 'cls.predictions.decoder.weight', 'cls.seq_relationship.weight', 'cls.predictions.transform.dense.weight', 'cls.predictions.decoder.bias', 'cls.predictions.transform.dense.bias', 'cls.predictions.transform.LayerNorm.weight', 'cls.predictions.transform.LayerNorm.bias']\n",
      "- This IS expected if you are initializing BertForSequenceClassification from the checkpoint of a model trained on another task or with another architecture (e.g. initializing a BertForSequenceClassification model from a BertForPreTraining model).\n",
      "- This IS NOT expected if you are initializing BertForSequenceClassification from the checkpoint of a model that you expect to be exactly identical (initializing a BertForSequenceClassification model from a BertForSequenceClassification model).\n",
      "Some weights of BertForSequenceClassification were not initialized from the model checkpoint at dmis-lab/biobert-base-cased-v1.1 and are newly initialized: ['classifier.weight', 'classifier.bias']\n",
      "You should probably TRAIN this model on a down-stream task to be able to use it for predictions and inference.\n"
     ]
    },
    {
     "data": {
      "text/plain": [
       "BertForSequenceClassification(\n",
       "  (bert): BertModel(\n",
       "    (embeddings): BertEmbeddings(\n",
       "      (word_embeddings): Embedding(28996, 768, padding_idx=0)\n",
       "      (position_embeddings): Embedding(512, 768)\n",
       "      (token_type_embeddings): Embedding(2, 768)\n",
       "      (LayerNorm): LayerNorm((768,), eps=1e-12, elementwise_affine=True)\n",
       "      (dropout): Dropout(p=0.1, inplace=False)\n",
       "    )\n",
       "    (encoder): BertEncoder(\n",
       "      (layer): ModuleList(\n",
       "        (0): BertLayer(\n",
       "          (attention): BertAttention(\n",
       "            (self): BertSelfAttention(\n",
       "              (query): Linear(in_features=768, out_features=768, bias=True)\n",
       "              (key): Linear(in_features=768, out_features=768, bias=True)\n",
       "              (value): Linear(in_features=768, out_features=768, bias=True)\n",
       "              (dropout): Dropout(p=0.1, inplace=False)\n",
       "            )\n",
       "            (output): BertSelfOutput(\n",
       "              (dense): Linear(in_features=768, out_features=768, bias=True)\n",
       "              (LayerNorm): LayerNorm((768,), eps=1e-12, elementwise_affine=True)\n",
       "              (dropout): Dropout(p=0.1, inplace=False)\n",
       "            )\n",
       "          )\n",
       "          (intermediate): BertIntermediate(\n",
       "            (dense): Linear(in_features=768, out_features=3072, bias=True)\n",
       "          )\n",
       "          (output): BertOutput(\n",
       "            (dense): Linear(in_features=3072, out_features=768, bias=True)\n",
       "            (LayerNorm): LayerNorm((768,), eps=1e-12, elementwise_affine=True)\n",
       "            (dropout): Dropout(p=0.1, inplace=False)\n",
       "          )\n",
       "        )\n",
       "        (1): BertLayer(\n",
       "          (attention): BertAttention(\n",
       "            (self): BertSelfAttention(\n",
       "              (query): Linear(in_features=768, out_features=768, bias=True)\n",
       "              (key): Linear(in_features=768, out_features=768, bias=True)\n",
       "              (value): Linear(in_features=768, out_features=768, bias=True)\n",
       "              (dropout): Dropout(p=0.1, inplace=False)\n",
       "            )\n",
       "            (output): BertSelfOutput(\n",
       "              (dense): Linear(in_features=768, out_features=768, bias=True)\n",
       "              (LayerNorm): LayerNorm((768,), eps=1e-12, elementwise_affine=True)\n",
       "              (dropout): Dropout(p=0.1, inplace=False)\n",
       "            )\n",
       "          )\n",
       "          (intermediate): BertIntermediate(\n",
       "            (dense): Linear(in_features=768, out_features=3072, bias=True)\n",
       "          )\n",
       "          (output): BertOutput(\n",
       "            (dense): Linear(in_features=3072, out_features=768, bias=True)\n",
       "            (LayerNorm): LayerNorm((768,), eps=1e-12, elementwise_affine=True)\n",
       "            (dropout): Dropout(p=0.1, inplace=False)\n",
       "          )\n",
       "        )\n",
       "        (2): BertLayer(\n",
       "          (attention): BertAttention(\n",
       "            (self): BertSelfAttention(\n",
       "              (query): Linear(in_features=768, out_features=768, bias=True)\n",
       "              (key): Linear(in_features=768, out_features=768, bias=True)\n",
       "              (value): Linear(in_features=768, out_features=768, bias=True)\n",
       "              (dropout): Dropout(p=0.1, inplace=False)\n",
       "            )\n",
       "            (output): BertSelfOutput(\n",
       "              (dense): Linear(in_features=768, out_features=768, bias=True)\n",
       "              (LayerNorm): LayerNorm((768,), eps=1e-12, elementwise_affine=True)\n",
       "              (dropout): Dropout(p=0.1, inplace=False)\n",
       "            )\n",
       "          )\n",
       "          (intermediate): BertIntermediate(\n",
       "            (dense): Linear(in_features=768, out_features=3072, bias=True)\n",
       "          )\n",
       "          (output): BertOutput(\n",
       "            (dense): Linear(in_features=3072, out_features=768, bias=True)\n",
       "            (LayerNorm): LayerNorm((768,), eps=1e-12, elementwise_affine=True)\n",
       "            (dropout): Dropout(p=0.1, inplace=False)\n",
       "          )\n",
       "        )\n",
       "        (3): BertLayer(\n",
       "          (attention): BertAttention(\n",
       "            (self): BertSelfAttention(\n",
       "              (query): Linear(in_features=768, out_features=768, bias=True)\n",
       "              (key): Linear(in_features=768, out_features=768, bias=True)\n",
       "              (value): Linear(in_features=768, out_features=768, bias=True)\n",
       "              (dropout): Dropout(p=0.1, inplace=False)\n",
       "            )\n",
       "            (output): BertSelfOutput(\n",
       "              (dense): Linear(in_features=768, out_features=768, bias=True)\n",
       "              (LayerNorm): LayerNorm((768,), eps=1e-12, elementwise_affine=True)\n",
       "              (dropout): Dropout(p=0.1, inplace=False)\n",
       "            )\n",
       "          )\n",
       "          (intermediate): BertIntermediate(\n",
       "            (dense): Linear(in_features=768, out_features=3072, bias=True)\n",
       "          )\n",
       "          (output): BertOutput(\n",
       "            (dense): Linear(in_features=3072, out_features=768, bias=True)\n",
       "            (LayerNorm): LayerNorm((768,), eps=1e-12, elementwise_affine=True)\n",
       "            (dropout): Dropout(p=0.1, inplace=False)\n",
       "          )\n",
       "        )\n",
       "        (4): BertLayer(\n",
       "          (attention): BertAttention(\n",
       "            (self): BertSelfAttention(\n",
       "              (query): Linear(in_features=768, out_features=768, bias=True)\n",
       "              (key): Linear(in_features=768, out_features=768, bias=True)\n",
       "              (value): Linear(in_features=768, out_features=768, bias=True)\n",
       "              (dropout): Dropout(p=0.1, inplace=False)\n",
       "            )\n",
       "            (output): BertSelfOutput(\n",
       "              (dense): Linear(in_features=768, out_features=768, bias=True)\n",
       "              (LayerNorm): LayerNorm((768,), eps=1e-12, elementwise_affine=True)\n",
       "              (dropout): Dropout(p=0.1, inplace=False)\n",
       "            )\n",
       "          )\n",
       "          (intermediate): BertIntermediate(\n",
       "            (dense): Linear(in_features=768, out_features=3072, bias=True)\n",
       "          )\n",
       "          (output): BertOutput(\n",
       "            (dense): Linear(in_features=3072, out_features=768, bias=True)\n",
       "            (LayerNorm): LayerNorm((768,), eps=1e-12, elementwise_affine=True)\n",
       "            (dropout): Dropout(p=0.1, inplace=False)\n",
       "          )\n",
       "        )\n",
       "        (5): BertLayer(\n",
       "          (attention): BertAttention(\n",
       "            (self): BertSelfAttention(\n",
       "              (query): Linear(in_features=768, out_features=768, bias=True)\n",
       "              (key): Linear(in_features=768, out_features=768, bias=True)\n",
       "              (value): Linear(in_features=768, out_features=768, bias=True)\n",
       "              (dropout): Dropout(p=0.1, inplace=False)\n",
       "            )\n",
       "            (output): BertSelfOutput(\n",
       "              (dense): Linear(in_features=768, out_features=768, bias=True)\n",
       "              (LayerNorm): LayerNorm((768,), eps=1e-12, elementwise_affine=True)\n",
       "              (dropout): Dropout(p=0.1, inplace=False)\n",
       "            )\n",
       "          )\n",
       "          (intermediate): BertIntermediate(\n",
       "            (dense): Linear(in_features=768, out_features=3072, bias=True)\n",
       "          )\n",
       "          (output): BertOutput(\n",
       "            (dense): Linear(in_features=3072, out_features=768, bias=True)\n",
       "            (LayerNorm): LayerNorm((768,), eps=1e-12, elementwise_affine=True)\n",
       "            (dropout): Dropout(p=0.1, inplace=False)\n",
       "          )\n",
       "        )\n",
       "        (6): BertLayer(\n",
       "          (attention): BertAttention(\n",
       "            (self): BertSelfAttention(\n",
       "              (query): Linear(in_features=768, out_features=768, bias=True)\n",
       "              (key): Linear(in_features=768, out_features=768, bias=True)\n",
       "              (value): Linear(in_features=768, out_features=768, bias=True)\n",
       "              (dropout): Dropout(p=0.1, inplace=False)\n",
       "            )\n",
       "            (output): BertSelfOutput(\n",
       "              (dense): Linear(in_features=768, out_features=768, bias=True)\n",
       "              (LayerNorm): LayerNorm((768,), eps=1e-12, elementwise_affine=True)\n",
       "              (dropout): Dropout(p=0.1, inplace=False)\n",
       "            )\n",
       "          )\n",
       "          (intermediate): BertIntermediate(\n",
       "            (dense): Linear(in_features=768, out_features=3072, bias=True)\n",
       "          )\n",
       "          (output): BertOutput(\n",
       "            (dense): Linear(in_features=3072, out_features=768, bias=True)\n",
       "            (LayerNorm): LayerNorm((768,), eps=1e-12, elementwise_affine=True)\n",
       "            (dropout): Dropout(p=0.1, inplace=False)\n",
       "          )\n",
       "        )\n",
       "        (7): BertLayer(\n",
       "          (attention): BertAttention(\n",
       "            (self): BertSelfAttention(\n",
       "              (query): Linear(in_features=768, out_features=768, bias=True)\n",
       "              (key): Linear(in_features=768, out_features=768, bias=True)\n",
       "              (value): Linear(in_features=768, out_features=768, bias=True)\n",
       "              (dropout): Dropout(p=0.1, inplace=False)\n",
       "            )\n",
       "            (output): BertSelfOutput(\n",
       "              (dense): Linear(in_features=768, out_features=768, bias=True)\n",
       "              (LayerNorm): LayerNorm((768,), eps=1e-12, elementwise_affine=True)\n",
       "              (dropout): Dropout(p=0.1, inplace=False)\n",
       "            )\n",
       "          )\n",
       "          (intermediate): BertIntermediate(\n",
       "            (dense): Linear(in_features=768, out_features=3072, bias=True)\n",
       "          )\n",
       "          (output): BertOutput(\n",
       "            (dense): Linear(in_features=3072, out_features=768, bias=True)\n",
       "            (LayerNorm): LayerNorm((768,), eps=1e-12, elementwise_affine=True)\n",
       "            (dropout): Dropout(p=0.1, inplace=False)\n",
       "          )\n",
       "        )\n",
       "        (8): BertLayer(\n",
       "          (attention): BertAttention(\n",
       "            (self): BertSelfAttention(\n",
       "              (query): Linear(in_features=768, out_features=768, bias=True)\n",
       "              (key): Linear(in_features=768, out_features=768, bias=True)\n",
       "              (value): Linear(in_features=768, out_features=768, bias=True)\n",
       "              (dropout): Dropout(p=0.1, inplace=False)\n",
       "            )\n",
       "            (output): BertSelfOutput(\n",
       "              (dense): Linear(in_features=768, out_features=768, bias=True)\n",
       "              (LayerNorm): LayerNorm((768,), eps=1e-12, elementwise_affine=True)\n",
       "              (dropout): Dropout(p=0.1, inplace=False)\n",
       "            )\n",
       "          )\n",
       "          (intermediate): BertIntermediate(\n",
       "            (dense): Linear(in_features=768, out_features=3072, bias=True)\n",
       "          )\n",
       "          (output): BertOutput(\n",
       "            (dense): Linear(in_features=3072, out_features=768, bias=True)\n",
       "            (LayerNorm): LayerNorm((768,), eps=1e-12, elementwise_affine=True)\n",
       "            (dropout): Dropout(p=0.1, inplace=False)\n",
       "          )\n",
       "        )\n",
       "        (9): BertLayer(\n",
       "          (attention): BertAttention(\n",
       "            (self): BertSelfAttention(\n",
       "              (query): Linear(in_features=768, out_features=768, bias=True)\n",
       "              (key): Linear(in_features=768, out_features=768, bias=True)\n",
       "              (value): Linear(in_features=768, out_features=768, bias=True)\n",
       "              (dropout): Dropout(p=0.1, inplace=False)\n",
       "            )\n",
       "            (output): BertSelfOutput(\n",
       "              (dense): Linear(in_features=768, out_features=768, bias=True)\n",
       "              (LayerNorm): LayerNorm((768,), eps=1e-12, elementwise_affine=True)\n",
       "              (dropout): Dropout(p=0.1, inplace=False)\n",
       "            )\n",
       "          )\n",
       "          (intermediate): BertIntermediate(\n",
       "            (dense): Linear(in_features=768, out_features=3072, bias=True)\n",
       "          )\n",
       "          (output): BertOutput(\n",
       "            (dense): Linear(in_features=3072, out_features=768, bias=True)\n",
       "            (LayerNorm): LayerNorm((768,), eps=1e-12, elementwise_affine=True)\n",
       "            (dropout): Dropout(p=0.1, inplace=False)\n",
       "          )\n",
       "        )\n",
       "        (10): BertLayer(\n",
       "          (attention): BertAttention(\n",
       "            (self): BertSelfAttention(\n",
       "              (query): Linear(in_features=768, out_features=768, bias=True)\n",
       "              (key): Linear(in_features=768, out_features=768, bias=True)\n",
       "              (value): Linear(in_features=768, out_features=768, bias=True)\n",
       "              (dropout): Dropout(p=0.1, inplace=False)\n",
       "            )\n",
       "            (output): BertSelfOutput(\n",
       "              (dense): Linear(in_features=768, out_features=768, bias=True)\n",
       "              (LayerNorm): LayerNorm((768,), eps=1e-12, elementwise_affine=True)\n",
       "              (dropout): Dropout(p=0.1, inplace=False)\n",
       "            )\n",
       "          )\n",
       "          (intermediate): BertIntermediate(\n",
       "            (dense): Linear(in_features=768, out_features=3072, bias=True)\n",
       "          )\n",
       "          (output): BertOutput(\n",
       "            (dense): Linear(in_features=3072, out_features=768, bias=True)\n",
       "            (LayerNorm): LayerNorm((768,), eps=1e-12, elementwise_affine=True)\n",
       "            (dropout): Dropout(p=0.1, inplace=False)\n",
       "          )\n",
       "        )\n",
       "        (11): BertLayer(\n",
       "          (attention): BertAttention(\n",
       "            (self): BertSelfAttention(\n",
       "              (query): Linear(in_features=768, out_features=768, bias=True)\n",
       "              (key): Linear(in_features=768, out_features=768, bias=True)\n",
       "              (value): Linear(in_features=768, out_features=768, bias=True)\n",
       "              (dropout): Dropout(p=0.1, inplace=False)\n",
       "            )\n",
       "            (output): BertSelfOutput(\n",
       "              (dense): Linear(in_features=768, out_features=768, bias=True)\n",
       "              (LayerNorm): LayerNorm((768,), eps=1e-12, elementwise_affine=True)\n",
       "              (dropout): Dropout(p=0.1, inplace=False)\n",
       "            )\n",
       "          )\n",
       "          (intermediate): BertIntermediate(\n",
       "            (dense): Linear(in_features=768, out_features=3072, bias=True)\n",
       "          )\n",
       "          (output): BertOutput(\n",
       "            (dense): Linear(in_features=3072, out_features=768, bias=True)\n",
       "            (LayerNorm): LayerNorm((768,), eps=1e-12, elementwise_affine=True)\n",
       "            (dropout): Dropout(p=0.1, inplace=False)\n",
       "          )\n",
       "        )\n",
       "      )\n",
       "    )\n",
       "    (pooler): BertPooler(\n",
       "      (dense): Linear(in_features=768, out_features=768, bias=True)\n",
       "      (activation): Tanh()\n",
       "    )\n",
       "  )\n",
       "  (dropout): Dropout(p=0.1, inplace=False)\n",
       "  (classifier): Linear(in_features=768, out_features=2, bias=True)\n",
       ")"
      ]
     },
     "execution_count": 8,
     "metadata": {},
     "output_type": "execute_result"
    }
   ],
   "source": [
    "from transformers import BertForSequenceClassification, AdamW, BertConfig\n",
    "# Load BertForSequenceClassification, the pretrained BERT model with a single \n",
    "# linear classification layer on top. \n",
    "model = BertForSequenceClassification.from_pretrained(\n",
    "     \"dmis-lab/biobert-base-cased-v1.1\",\n",
    "   # \"allenai/scibert_scivocab_uncased\", # Use the 12-layer BERT model, with an uncased vocab.\n",
    "   #\"bert-base-cased\", \n",
    "     num_labels = 2, # The number of output labels--2 for binary classification.\n",
    "#                    # You can increase this for multi-class tasks.   \n",
    "     output_attentions = False, # Whether the model returns attentions weights.\n",
    "     output_hidden_states = True, # Whether the model returns all hidden-states.\n",
    ")\n",
    "\n",
    "# Tell pytorch to run this model on the GPU.\n",
    "model.cuda()\n",
    "#model = model.to(\"cpu\")"
   ]
  },
  {
   "cell_type": "markdown",
   "metadata": {
    "id": "UtUko5XSXJbJ"
   },
   "source": [
    "#独自関数"
   ]
  },
  {
   "cell_type": "code",
   "execution_count": null,
   "metadata": {
    "id": "8S2EeiO4QJ0O"
   },
   "outputs": [],
   "source": [
    "import pandas as pd\n",
    "df = pd.read_csv(\"bert_0403_onlynew.csv\")\n",
    "df_dev = pd.read_csv(\"bert_dev0323.csv\")#=Chikan_2_2\n",
    "df_dev= df_dev.dropna()\n",
    "sents = df[\"sentence\"]\n",
    "dist = []\n",
    "for s in sents:\n",
    "  ss = s.strip().split(\" \")\n",
    "  dis = abs(ss.index(\"[GENE]\") - ss.index(\"[EXPE]\"))\n",
    "  dist.append(dis)\n",
    "df[\"dist\"] = dist\n",
    "sents = df_dev[\"sentence\"]\n",
    "dist = []\n",
    "for s in sents:\n",
    "  ss = s.strip().split(\" \")\n",
    "  dis = abs(ss.index(\"[GENE]\") - ss.index(\"[EXPE]\"))\n",
    "  dist.append(dis)\n",
    "df_dev[\"dist\"] = dist\n",
    "df = df[df[\"dist\"]<100]\n",
    "df_dev = df_dev[df_dev[\"dist\"]<100]\n",
    "df = df.sample(len(df))"
   ]
  },
  {
   "cell_type": "code",
   "execution_count": null,
   "metadata": {
    "id": "vYkJljTr8pAg"
   },
   "outputs": [],
   "source": [
    "import torch\n",
    "class Mydatasets(torch.utils.data.Dataset):\n",
    "    def __init__(self, transform = None):\n",
    "        self.transform = transform\n",
    "        self.sent = df[\"sentence\"]\n",
    "        self.dist = df[\"dist\"]\n",
    "        self.label = df[\"label\"]\n",
    "        self.datanum = len(df)\n",
    "\n",
    "    def __len__(self):\n",
    "        return self.datanum\n",
    "\n",
    "    def __getitem__(self, idx):\n",
    "        out_data = self.sent[idx]\n",
    "        out_dist = self.dist[idx]\n",
    "        out_label = self.label[idx]\n",
    "        return out_data,out_dist, out_label"
   ]
  },
  {
   "cell_type": "code",
   "execution_count": null,
   "metadata": {
    "id": "e_-6fdyMzmY9"
   },
   "outputs": [],
   "source": [
    "import torch\n",
    "class val_Mydatasets(torch.utils.data.Dataset):\n",
    "    def __init__(self, transform = None):\n",
    "        self.transform = transform\n",
    "        self.sent = df_dev[\"sentence\"]\n",
    "        self.dist = df_dev[\"dist\"]\n",
    "        self.label = df_dev[\"label\"]\n",
    "        self.datanum = len(df_dev)\n",
    "\n",
    "    def __len__(self):\n",
    "        return self.datanum\n",
    "\n",
    "    def __getitem__(self, idx):\n",
    "        out_data = self.sent[idx]\n",
    "        out_dist = self.dist[idx]\n",
    "        out_label = self.label[idx]\n",
    "        return out_data,out_dist, out_label"
   ]
  },
  {
   "cell_type": "code",
   "execution_count": null,
   "metadata": {
    "colab": {
     "base_uri": "https://localhost:8080/",
     "height": 379,
     "referenced_widgets": [
      "739d7c615bc54901bc4ebd584ea1fc73",
      "1e1ae2955187477dba8fa8101ab27c00",
      "5aa25bf45d9447deaaed8f5104c498da",
      "c419347b47f94262bb6a6a98218701e9",
      "f699f97a286e424d8a6c2ba821c5606d",
      "843fa0122ba14210b854da344eb4e799",
      "0602906878ce44aa81c628ee59abc89b",
      "6772e582b4044346a91405d4b8b9d9bc",
      "1369bd53f8564b798d3b1108616da62a",
      "436461e55c1a4aa48f5600665488408e",
      "c073172dda97468b93e4dee6d2795d2c",
      "f650ef0c02c44dcc8c0cdfbc65517bb6",
      "e1ffa7470f974fa897b6e14eef0f8e01",
      "98c915b06a04432a883611db31835c3b",
      "5815331f57c84030bedbc64ed69dd55b",
      "0fce19e758ed4caba6179d23c10a3da6",
      "1cc0686a77bb40b0a01dd229b2b8f67d",
      "8bb38435b41d4d34bb6857e9454f6a51",
      "e154310a7065462f8a58d3e37ee55e71",
      "ad703b026db34a8e91fe0c876683d412",
      "9d0403b6d9004db9b3063b585e3193ee",
      "94b54245ad7141aa904725e463e86bb0",
      "611533082d9742feb7adeb0e374bad10",
      "c24767ec76a64a4ba8e9479d6b762442",
      "51907a0879894082bd12ba7404e626cb",
      "46312c661f464f119293b8f12d6ed69a",
      "3cd11ccf65f047889eed1243d225a563",
      "9bc92fae9ad64de98fcb799f93687bd4",
      "f41f55c723894203a19629f221e56750",
      "cc6c1829094f4cfe92d5fec3c14ec8e6",
      "def4deb532db4d54a8bc517e5bae2ca4",
      "17d23266359e405da8682f3fc55b9a25",
      "f006ad14ad0f404caecdd3bce3afd635",
      "d805220ab1f3469eb8d446ec520501a8",
      "78a3cfeeed2b46409675c2f66d3a4189",
      "cccc5eb8ec5a40a3a97a2b0f650add32",
      "1cde37fca2124d2aa004772b30253e96",
      "0f1d8c9ab81d43e98ab4f74a4642ebbc",
      "8905217c1bb14f14939e153d86cc1834",
      "57c7fe354d5b46bdb68e073e9032876d",
      "1b15a6396ded4ffba3a0cbe10477bd5d",
      "e4322864e396434092a04a68142cac48",
      "47272304dc474008b1bcffc204933ff5",
      "26c2f9e2d866487fa36f87bd0a36c428",
      "2ba58f9efe87440ba1e335f09cd29ff0",
      "66d3d87e9f88404686d41e2766349810",
      "b914821a0c99420badb4868477bf6a16",
      "7df4f70ecc1f4dc2b3b4683f9ae11798",
      "c88cac4a723a4477beefbf88ca1754d7",
      "e892669f12f94f4788db84f04ba1ede5",
      "c46f45a5aabe492ba354b19f7c78d714",
      "c60cf980738645f7b31d6e4c94e768af",
      "43e1fbc1094044b2a1ac003cd0d811c1",
      "f9115f41a75f43bfa16be88e52b98930",
      "caaba6c134614195be4d7b19af69dbc8",
      "8e475a6b115e475cbd22dc530ee8deb8",
      "836f1b9ece5e416d88ab12b4c21743e6",
      "e6dd7b1017194035be7e73bf81c7bbea",
      "8440cb7d0bfe47bebd351a151ff82f08",
      "72f00d6877094537bb76358a389fa19e",
      "41e208c65b9748b59e74d3bfec333712",
      "ecd4747ef5464ae2baddd0757b2ed2a1",
      "927b6f01f98a4799a6538da5892a5e13",
      "1db6cdaa3e9b49cc8cc50aab073df511",
      "6448696c4e5b4b07a113cc7a23bf1d05",
      "172ebff1a6cd4fe18e38e730f8cc9123"
     ]
    },
    "executionInfo": {
     "elapsed": 101800,
     "status": "ok",
     "timestamp": 1632740465291,
     "user": {
      "displayName": "伊藤慶",
      "photoUrl": "https://lh3.googleusercontent.com/a/default-user=s64",
      "userId": "07271948982802047026"
     },
     "user_tz": -540
    },
    "id": "FIVpjyn_-xhO",
    "outputId": "fd47846d-f783-4148-91d4-6f823d3cd63c"
   },
   "outputs": [
    {
     "name": "stderr",
     "output_type": "stream",
     "text": [
      "/usr/local/lib/python3.7/dist-packages/ipykernel_launcher.py:20: TqdmDeprecationWarning: This function will be removed in tqdm==5.0.0\n",
      "Please use `tqdm.notebook.tqdm` instead of `tqdm.tqdm_notebook`\n"
     ]
    },
    {
     "data": {
      "application/vnd.jupyter.widget-view+json": {
       "model_id": "739d7c615bc54901bc4ebd584ea1fc73",
       "version_major": 2,
       "version_minor": 0
      },
      "text/plain": [
       "  0%|          | 0/80 [00:00<?, ?it/s]"
      ]
     },
     "metadata": {},
     "output_type": "display_data"
    },
    {
     "name": "stderr",
     "output_type": "stream",
     "text": [
      "/usr/local/lib/python3.7/dist-packages/ipykernel_launcher.py:40: TqdmDeprecationWarning: This function will be removed in tqdm==5.0.0\n",
      "Please use `tqdm.notebook.tqdm` instead of `tqdm.tqdm_notebook`\n"
     ]
    },
    {
     "data": {
      "application/vnd.jupyter.widget-view+json": {
       "model_id": "f650ef0c02c44dcc8c0cdfbc65517bb6",
       "version_major": 2,
       "version_minor": 0
      },
      "text/plain": [
       "  0%|          | 0/1 [00:00<?, ?it/s]"
      ]
     },
     "metadata": {},
     "output_type": "display_data"
    },
    {
     "name": "stdout",
     "output_type": "stream",
     "text": [
      "Train: 0.5950628519058228\n",
      "Val: 0.5601020455360413\n"
     ]
    },
    {
     "data": {
      "application/vnd.jupyter.widget-view+json": {
       "model_id": "611533082d9742feb7adeb0e374bad10",
       "version_major": 2,
       "version_minor": 0
      },
      "text/plain": [
       "  0%|          | 0/80 [00:00<?, ?it/s]"
      ]
     },
     "metadata": {},
     "output_type": "display_data"
    },
    {
     "data": {
      "application/vnd.jupyter.widget-view+json": {
       "model_id": "d805220ab1f3469eb8d446ec520501a8",
       "version_major": 2,
       "version_minor": 0
      },
      "text/plain": [
       "  0%|          | 0/1 [00:00<?, ?it/s]"
      ]
     },
     "metadata": {},
     "output_type": "display_data"
    },
    {
     "name": "stdout",
     "output_type": "stream",
     "text": [
      "Train: 0.3206580579280853\n",
      "Val: 0.35567447543144226\n"
     ]
    },
    {
     "data": {
      "application/vnd.jupyter.widget-view+json": {
       "model_id": "2ba58f9efe87440ba1e335f09cd29ff0",
       "version_major": 2,
       "version_minor": 0
      },
      "text/plain": [
       "  0%|          | 0/80 [00:00<?, ?it/s]"
      ]
     },
     "metadata": {},
     "output_type": "display_data"
    },
    {
     "data": {
      "application/vnd.jupyter.widget-view+json": {
       "model_id": "8e475a6b115e475cbd22dc530ee8deb8",
       "version_major": 2,
       "version_minor": 0
      },
      "text/plain": [
       "  0%|          | 0/1 [00:00<?, ?it/s]"
      ]
     },
     "metadata": {},
     "output_type": "display_data"
    },
    {
     "name": "stdout",
     "output_type": "stream",
     "text": [
      "Train: 0.33693644404411316\n",
      "Val: 0.3284447491168976\n"
     ]
    }
   ],
   "source": [
    "#単純なFine-tuningの実装\n",
    "model.cuda()\n",
    "model.train()\n",
    "from torch import optim\n",
    "from torch.utils.data import TensorDataset, DataLoader\n",
    "optimizer = optim.AdamW(model.parameters(),lr=2e-5)\n",
    "train_data = Mydatasets()\n",
    "loader=DataLoader(train_data, batch_size=16,shuffle=True)\n",
    "val_data = val_Mydatasets()\n",
    "val_loader=DataLoader(val_data, batch_size=1000,shuffle=True)\n",
    "loss_fn = torch.nn.CrossEntropyLoss()\n",
    "losses = []\n",
    "val_losses=[]\n",
    "import tqdm \n",
    "m = torch.nn.Softmax()\n",
    "for epoch in range(3):\n",
    "  t = 0\n",
    "  running_loss = 0\n",
    "  model.train()\n",
    "  for sent,dist,label in tqdm.tqdm_notebook(loader):\n",
    "    optimizer.zero_grad()\n",
    "    outs = torch.Tensor(0,2).to(device)\n",
    "    for s in sent:\n",
    "      indexed_tokens = tokenizer.encode(\n",
    "                        s,                      # Sentence to encode.\n",
    "                        add_special_tokens = True)\n",
    "      tokens_tensor = torch.tensor([indexed_tokens])\n",
    "      all_encoder_layers = model(tokens_tensor.to(device))\n",
    "      out = all_encoder_layers[0]\n",
    "      #out = m(out)\n",
    "      outs = torch.cat([outs,out])\n",
    "    label= label.to(device).long()\n",
    "    loss = loss_fn(outs,label)\n",
    "    loss.backward()\n",
    "    optimizer.step()\n",
    "    running_loss += loss.item()\n",
    "    losses.append(loss.item())\n",
    "  with torch.no_grad():\n",
    "    \n",
    "    for sent,dist,label in tqdm.tqdm_notebook(val_loader):\n",
    "        outs = torch.Tensor(0,2).to(device)\n",
    "        model.eval()\n",
    "        for s in sent:\n",
    "          indexed_tokens = tokenizer.encode(\n",
    "                        s,                      # Sentence to encode.\n",
    "                        add_special_tokens = True)\n",
    "          tokens_tensor = torch.tensor([indexed_tokens])\n",
    "          all_encoder_layers = model(tokens_tensor.to(device))\n",
    "          out = all_encoder_layers[0]\n",
    "\n",
    "          outs = torch.cat([outs,out])\n",
    "        label= label.to(device).long()\n",
    "        loss = loss_fn(outs,label)\n",
    "        val_losses.append(loss.item())\n",
    "    \n",
    "  print(\"Train:\",losses[-1])\n",
    "  print(\"Val:\",val_losses[-1])\n",
    "  #losses.append(running_loss)\n"
   ]
  },
  {
   "cell_type": "code",
   "execution_count": null,
   "metadata": {
    "colab": {
     "base_uri": "https://localhost:8080/",
     "height": 379,
     "referenced_widgets": [
      "79c64cbe6d09493283fa7b10bd8e45df",
      "78e742f65ef04810b212da6a808b1a09",
      "94b9040d60a04971995c8747a5d73110",
      "de9fa598fe7a4d878fd8b5ddd8149b96",
      "d9af19c543f54c8781761ce2ad952cd0",
      "55b0d7df5e794e17a2f6bd4125790fc6",
      "c4f9fe2fd2454df2a1e64c5138d36c36",
      "e82dd7c5107d4e27a0ab951f188899ff",
      "8899c1175c374f94ae4deb88de1b3390",
      "46ec9f1347ea458eb5552543788950c4",
      "87b482a6b93c4e28ba1f26c75fae3098",
      "1bd6eb07e1984e49a9edb1da64e82dab",
      "77408c72741946cd8487ddf44235ab74",
      "69154883cc3f427dbad0dc7aad49d029",
      "0ac74ce668cb42b1bac3e1bc94eb2584",
      "d6bfc97d593944e986f9b7cb6e742f1e",
      "61deb4565bf44c538b921cea90d1f127",
      "40d85fc1085945d39180bcf2d7b0e73e",
      "2166a4f6bfc14e88ac3500239c927e86",
      "649f163804324fc19aef6be061d3613d",
      "e0cacb3b2e924c04814578f81946b811",
      "500e5c42076540d982ddf91fd045d226",
      "52d9d0d109bf488bb6e81b5d4cbec8c4",
      "35c08b5dce504841914bac4a558b984a",
      "765e8e656cee4da7ab3a4886bb73ee41",
      "c4fb94f582524eceadcc1dbb0b21aec9",
      "97d72a06657a4c0e9e8ec4ac15890470",
      "ef2b1c245f9a41b1b33042ec4377137d",
      "47b6fe2ab62d4c928676fc307c15e82e",
      "092bffed0e9645a9b4b9c7efd209416c",
      "9689467311c64f81b20ae8937b9cafaa",
      "d9e1f835eade4948829aecaf19ed35b4",
      "8a00cf63e6bf46448cbee17b3860b193",
      "561016b4bf664295a012d4e4657562cd",
      "64eb5d9779724efcbe8f7cd131a7ef0d",
      "b5c8edf78439446fbe9f5275947f111f",
      "2ccc55b9214743179a0b023c84e394fb",
      "ff0667f3ef964189891d797f86a28ef7",
      "b891e155c8924d51b4a1a519e819b86b",
      "889d8612bb924c1a85f98b6f58193f2f",
      "39845d77360b4ca8ab88dc82c59b78b9",
      "c9421db67dba44679ebf0e452965e3a4",
      "fc33ab3ee3364496a9e991c38867cd79",
      "7251745d1c3c4109a88582aa88ba3f3d",
      "0e4d34cc408246c39e45c65e51231d87",
      "0bfe5a47a9a74bd3884275602403e123",
      "c2d37d11829c4e1cb732483ffb4e5164",
      "4e4e7a4e12be44368bf9889a4d64d5e1",
      "4f8ed25e503444f98a170e4a541f763a",
      "2db9059675184e68856e798e89759567",
      "f018ae25a7f347ea8de64393ea8c2a29",
      "e9d3a088f8c04410a63b425a98845e9f",
      "f695f33a29a849ee87cdc6913301ae42",
      "acce0d9c286a45828a9bc6183f057e99",
      "8c3023551e4b4abcbe62564ffb6e607e",
      "7c23d72107d847bdb7c7896b54c9a750",
      "ea6fb468052f40a1a4a8aabe3e2e1917",
      "da6a5ede58fc474cb115b7cd610f8aeb",
      "7e8d5c14bf884a43b9b6e8786af0a070",
      "e7f95c77edb54d20aab50c03297c39db",
      "7652eccd31374b8e964840d1c9be6488",
      "d0a73b506c304fec9da61c01bc45814b",
      "c6536368918f47b89eca18b342254ced",
      "83d93e7c2aef4796853282467ab28924",
      "21f3bc2f68a547cdae6780c97100f7d3",
      "e7567cfe840c47c08d253ed2a97fbbda"
     ]
    },
    "executionInfo": {
     "elapsed": 128324,
     "status": "ok",
     "timestamp": 1632222314079,
     "user": {
      "displayName": "伊藤慶",
      "photoUrl": "https://lh3.googleusercontent.com/a/default-user=s64",
      "userId": "07271948982802047026"
     },
     "user_tz": -540
    },
    "id": "S159QtjbhsQO",
    "outputId": "19d5997f-a412-4cd6-ca2f-11c5c753ee95"
   },
   "outputs": [
    {
     "name": "stderr",
     "output_type": "stream",
     "text": [
      "/usr/local/lib/python3.7/dist-packages/ipykernel_launcher.py:32: TqdmDeprecationWarning: This function will be removed in tqdm==5.0.0\n",
      "Please use `tqdm.notebook.tqdm` instead of `tqdm.tqdm_notebook`\n"
     ]
    },
    {
     "data": {
      "application/vnd.jupyter.widget-view+json": {
       "model_id": "79c64cbe6d09493283fa7b10bd8e45df",
       "version_major": 2,
       "version_minor": 0
      },
      "text/plain": [
       "  0%|          | 0/80 [00:00<?, ?it/s]"
      ]
     },
     "metadata": {},
     "output_type": "display_data"
    },
    {
     "name": "stderr",
     "output_type": "stream",
     "text": [
      "/usr/local/lib/python3.7/dist-packages/ipykernel_launcher.py:55: TqdmDeprecationWarning: This function will be removed in tqdm==5.0.0\n",
      "Please use `tqdm.notebook.tqdm` instead of `tqdm.tqdm_notebook`\n"
     ]
    },
    {
     "data": {
      "application/vnd.jupyter.widget-view+json": {
       "model_id": "1bd6eb07e1984e49a9edb1da64e82dab",
       "version_major": 2,
       "version_minor": 0
      },
      "text/plain": [
       "  0%|          | 0/1 [00:00<?, ?it/s]"
      ]
     },
     "metadata": {},
     "output_type": "display_data"
    },
    {
     "name": "stdout",
     "output_type": "stream",
     "text": [
      "Train: 0.865555465221405\n",
      "Val: 0.4385806620121002\n"
     ]
    },
    {
     "data": {
      "application/vnd.jupyter.widget-view+json": {
       "model_id": "52d9d0d109bf488bb6e81b5d4cbec8c4",
       "version_major": 2,
       "version_minor": 0
      },
      "text/plain": [
       "  0%|          | 0/80 [00:00<?, ?it/s]"
      ]
     },
     "metadata": {},
     "output_type": "display_data"
    },
    {
     "data": {
      "application/vnd.jupyter.widget-view+json": {
       "model_id": "561016b4bf664295a012d4e4657562cd",
       "version_major": 2,
       "version_minor": 0
      },
      "text/plain": [
       "  0%|          | 0/1 [00:00<?, ?it/s]"
      ]
     },
     "metadata": {},
     "output_type": "display_data"
    },
    {
     "name": "stdout",
     "output_type": "stream",
     "text": [
      "Train: 0.2602306306362152\n",
      "Val: 0.337690532207489\n"
     ]
    },
    {
     "data": {
      "application/vnd.jupyter.widget-view+json": {
       "model_id": "0e4d34cc408246c39e45c65e51231d87",
       "version_major": 2,
       "version_minor": 0
      },
      "text/plain": [
       "  0%|          | 0/80 [00:00<?, ?it/s]"
      ]
     },
     "metadata": {},
     "output_type": "display_data"
    },
    {
     "data": {
      "application/vnd.jupyter.widget-view+json": {
       "model_id": "7c23d72107d847bdb7c7896b54c9a750",
       "version_major": 2,
       "version_minor": 0
      },
      "text/plain": [
       "  0%|          | 0/1 [00:00<?, ?it/s]"
      ]
     },
     "metadata": {},
     "output_type": "display_data"
    },
    {
     "name": "stdout",
     "output_type": "stream",
     "text": [
      "Train: 0.21360214054584503\n",
      "Val: 0.3051601052284241\n"
     ]
    }
   ],
   "source": [
    "#単純なFine-tuningの実装に余計なものを噛ませる\n",
    "import torch.nn as nn\n",
    "class Net(nn.Module):\n",
    "    def __init__(self):\n",
    "        super().__init__()\n",
    "        self.fc1 = nn.Linear(768+13,2)\n",
    "    def forward(self, x):\n",
    "        x = self.fc1(x)\n",
    "        return x\n",
    "net = Net()\n",
    "net.cuda()\n",
    "net.train()\n",
    "model.cuda()\n",
    "model.train()\n",
    "from torch import optim\n",
    "from torch.utils.data import TensorDataset, DataLoader\n",
    "params = list(model.parameters())+list(net.parameters())\n",
    "optimizer = optim.AdamW(params,lr=2e-5)\n",
    "train_data = Mydatasets()\n",
    "loader=DataLoader(train_data, batch_size=16,shuffle=True)\n",
    "val_data = val_Mydatasets()\n",
    "val_loader=DataLoader(val_data, batch_size=1000,shuffle=True)\n",
    "loss_fn = torch.nn.CrossEntropyLoss()\n",
    "losses = []\n",
    "val_losses=[]\n",
    "import tqdm \n",
    "m = torch.nn.Softmax()\n",
    "for epoch in range(3):\n",
    "  t = 0\n",
    "  running_loss = 0\n",
    "  model.train()\n",
    "  for sent,dist,label in tqdm.tqdm_notebook(loader):\n",
    "    optimizer.zero_grad()\n",
    "    outs = torch.Tensor(0,2).to(device)\n",
    "    for n,s in enumerate(sent):\n",
    "      indexed_tokens = tokenizer.encode(\n",
    "                        s,                      # Sentence to encode.\n",
    "                        add_special_tokens = True)\n",
    "      tokens_tensor = torch.tensor([indexed_tokens])\n",
    "      all_encoder_layers = model(tokens_tensor.to(device))\n",
    "      out = all_encoder_layers[1][-1][0][0]\n",
    "      d = dist_to_tensor(dist[n]).to(device)\n",
    "      out = torch.cat([out,d],axis=0)\n",
    "      out = net(out).unsqueeze(0)\n",
    "      #out = m(out)\n",
    "      outs = torch.cat([outs,out])\n",
    "    label= label.to(device).long()\n",
    "    loss = loss_fn(outs,label)\n",
    "    loss.backward()\n",
    "    optimizer.step()\n",
    "    running_loss += loss.item()\n",
    "    losses.append(loss.item())\n",
    "  with torch.no_grad():\n",
    "    \n",
    "    for sent,dist,label in tqdm.tqdm_notebook(val_loader):\n",
    "        outs = torch.Tensor(0,2).to(device)\n",
    "        model.eval()\n",
    "        net.eval()\n",
    "        for n,s in enumerate(sent):\n",
    "          indexed_tokens = tokenizer.encode(\n",
    "                        s,                      # Sentence to encode.\n",
    "                        add_special_tokens = True)\n",
    "          tokens_tensor = torch.tensor([indexed_tokens])\n",
    "          all_encoder_layers = model(tokens_tensor.to(device))\n",
    "          out = all_encoder_layers[1][-1][0][0]\n",
    "          d = dist_to_tensor(dist[n]).to(device)\n",
    "          out = torch.cat([out,d],axis=0)\n",
    "          out = net(out).unsqueeze(0)\n",
    "          outs = torch.cat([outs,out])\n",
    "        label= label.to(device).long()\n",
    "        loss = loss_fn(outs,label)\n",
    "        val_losses.append(loss.item())\n",
    "    \n",
    "  print(\"Train:\",losses[-1])\n",
    "  print(\"Val:\",val_losses[-1])\n",
    "  #losses.append(running_loss)\n"
   ]
  },
  {
   "cell_type": "code",
   "execution_count": null,
   "metadata": {
    "colab": {
     "base_uri": "https://localhost:8080/"
    },
    "executionInfo": {
     "elapsed": 276,
     "status": "ok",
     "timestamp": 1632221106949,
     "user": {
      "displayName": "伊藤慶",
      "photoUrl": "https://lh3.googleusercontent.com/a/default-user=s64",
      "userId": "07271948982802047026"
     },
     "user_tz": -540
    },
    "id": "L1uahqfK8i94",
    "outputId": "51752512-252f-432e-a5da-1c797c9bd33c"
   },
   "outputs": [
    {
     "data": {
      "text/plain": [
       "tensor([[-0.4624, -0.1731]], device='cuda:0', grad_fn=<CatBackward>)"
      ]
     },
     "execution_count": 24,
     "metadata": {},
     "output_type": "execute_result"
    }
   ],
   "source": [
    "torch.cat([outs,out.unsqueeze(0)])"
   ]
  },
  {
   "cell_type": "code",
   "execution_count": null,
   "metadata": {
    "colab": {
     "base_uri": "https://localhost:8080/"
    },
    "executionInfo": {
     "elapsed": 343,
     "status": "ok",
     "timestamp": 1632215062983,
     "user": {
      "displayName": "伊藤慶",
      "photoUrl": "https://lh3.googleusercontent.com/a/default-user=s64",
      "userId": "07271948982802047026"
     },
     "user_tz": -540
    },
    "id": "aD4CfFUEmMB1",
    "outputId": "c727ff28-391c-4728-bf0c-9bebe69a85ec"
   },
   "outputs": [
    {
     "data": {
      "text/plain": [
       "tensor([1, 2, 2, 3])"
      ]
     },
     "execution_count": 28,
     "metadata": {},
     "output_type": "execute_result"
    }
   ],
   "source": [
    "a = torch.tensor([1,2])\n",
    "b = torch.tensor([2,3])\n",
    "torch.cat([a,b])"
   ]
  },
  {
   "cell_type": "code",
   "execution_count": null,
   "metadata": {
    "id": "S9sMpBihh-QK"
   },
   "outputs": [],
   "source": [
    "import math\n",
    "def dist_to_tensor(d):\n",
    "  t = [0]*13\n",
    "  t[9] = d\n",
    "  t[10] = d ** (1/2)\n",
    "  t[11] = d ** (1/3)\n",
    "  t[12] = math.log(d)\n",
    "  if d == 1 :t[0]=1\n",
    "  elif d == 2 :t[1]=1\n",
    "  elif 3 <=d <=4:t[2]=1\n",
    "  elif 5 <=d <=6:t[3]=1\n",
    "  elif 7 <=d <=9:t[4]=1\n",
    "  elif 10<=d<=13:t[5]=1\n",
    "  elif 14<=d<=19:t[6]=1\n",
    "  elif 20<=d<=29:t[7]=1\n",
    "  elif d >= 30: t[8] =1\n",
    "  t = torch.tensor(t)\n",
    "  return t"
   ]
  },
  {
   "cell_type": "code",
   "execution_count": null,
   "metadata": {
    "colab": {
     "base_uri": "https://localhost:8080/"
    },
    "executionInfo": {
     "elapsed": 316,
     "status": "ok",
     "timestamp": 1632213984386,
     "user": {
      "displayName": "伊藤慶",
      "photoUrl": "https://lh3.googleusercontent.com/a/default-user=s64",
      "userId": "07271948982802047026"
     },
     "user_tz": -540
    },
    "id": "l1ielNdeh-VZ",
    "outputId": "e62e8f64-f69d-4931-e103-7b960e93311b"
   },
   "outputs": [
    {
     "data": {
      "text/plain": [
       "tensor([0.0000, 0.0000, 1.0000, 0.0000, 0.0000, 0.0000, 0.0000, 0.0000, 0.0000,\n",
       "        3.0000, 1.7321, 1.4422, 1.0986])"
      ]
     },
     "execution_count": 26,
     "metadata": {},
     "output_type": "execute_result"
    }
   ],
   "source": [
    "dist_to_tensor(3)"
   ]
  },
  {
   "cell_type": "code",
   "execution_count": null,
   "metadata": {
    "colab": {
     "base_uri": "https://localhost:8080/"
    },
    "executionInfo": {
     "elapsed": 3180,
     "status": "ok",
     "timestamp": 1632740468463,
     "user": {
      "displayName": "伊藤慶",
      "photoUrl": "https://lh3.googleusercontent.com/a/default-user=s64",
      "userId": "07271948982802047026"
     },
     "user_tz": -540
    },
    "id": "zo9R9n69ymvV",
    "outputId": "9204d33c-e35a-4e35-ccc4-f5dd65fc561d"
   },
   "outputs": [
    {
     "name": "stderr",
     "output_type": "stream",
     "text": [
      "/usr/local/lib/python3.7/dist-packages/ipykernel_launcher.py:22: UserWarning: Implicit dimension choice for softmax has been deprecated. Change the call to include dim=X as an argument.\n"
     ]
    }
   ],
   "source": [
    "#評価\n",
    "model.eval()\n",
    "preds,ans = [],[]\n",
    "m = torch.nn.Softmax()\n",
    "with torch.no_grad():\n",
    " for n in range(len(df_dev)):\n",
    "  l = df_dev[\"label\"].tolist()[n]\n",
    "  ans.append(l)\n",
    "  s = df_dev[\"sentence\"].tolist()[n]\n",
    "  #dist = df[\"dist\"].tolist()[n]\n",
    "  indexed_tokens = tokenizer.encode(\n",
    "                        s,                      # Sentence to encode.\n",
    "                        add_special_tokens = True)\n",
    "  tokens_tensor = torch.tensor([indexed_tokens])\n",
    "  all_encoder_layers = model(tokens_tensor.to(device))\n",
    "  #out = all_encoder_layers[1][-1][0][0]\n",
    "  #d = dist_to_tensor(dist).to(device)\n",
    "  #out = torch.cat([out,d],axis=0)\n",
    "  #out = net(out)\n",
    "\n",
    "  out= all_encoder_layers[0]\n",
    "  out = int(m(out)[0][1] > 0.4)\n",
    "  #out = torch.argmax(out).detach().cpu().item()\n",
    "\n",
    "  preds.append(out)  "
   ]
  },
  {
   "cell_type": "code",
   "execution_count": null,
   "metadata": {
    "id": "i3GNtcJ6DKs2"
   },
   "outputs": [],
   "source": [
    "３４"
   ]
  },
  {
   "cell_type": "code",
   "execution_count": null,
   "metadata": {
    "colab": {
     "base_uri": "https://localhost:8080/"
    },
    "executionInfo": {
     "elapsed": 737,
     "status": "ok",
     "timestamp": 1632740469196,
     "user": {
      "displayName": "伊藤慶",
      "photoUrl": "https://lh3.googleusercontent.com/a/default-user=s64",
      "userId": "07271948982802047026"
     },
     "user_tz": -540
    },
    "id": "KsR38OoVNm4N",
    "outputId": "8a205955-afc5-4382-b397-f7f9fdd637f5"
   },
   "outputs": [
    {
     "data": {
      "text/plain": [
       "array([[229,  19],\n",
       "       [ 31,  99]])"
      ]
     },
     "execution_count": 14,
     "metadata": {},
     "output_type": "execute_result"
    }
   ],
   "source": [
    "from sklearn.metrics import confusion_matrix\n",
    "confusion_matrix(ans, preds)"
   ]
  },
  {
   "cell_type": "code",
   "execution_count": null,
   "metadata": {
    "colab": {
     "base_uri": "https://localhost:8080/"
    },
    "executionInfo": {
     "elapsed": 17,
     "status": "ok",
     "timestamp": 1632740469198,
     "user": {
      "displayName": "伊藤慶",
      "photoUrl": "https://lh3.googleusercontent.com/a/default-user=s64",
      "userId": "07271948982802047026"
     },
     "user_tz": -540
    },
    "id": "EQID981cOI23",
    "outputId": "84ade6fb-78ca-47f4-e98c-43a2640eb9e1"
   },
   "outputs": [
    {
     "name": "stdout",
     "output_type": "stream",
     "text": [
      "0.8389830508474576\n",
      "0.7615384615384615\n",
      "0.7983870967741936\n"
     ]
    }
   ],
   "source": [
    "from sklearn.metrics import precision_score\n",
    "from sklearn.metrics import recall_score\n",
    "from sklearn.metrics import f1_score\n",
    "print(precision_score(ans, preds))\n",
    "print(recall_score(ans, preds))\n",
    "print(f1_score(ans, preds))"
   ]
  },
  {
   "cell_type": "markdown",
   "metadata": {
    "id": "vWKOtq9XKPeh"
   },
   "source": [
    "#ここからは大規模テキスト\n"
   ]
  },
  {
   "cell_type": "code",
   "execution_count": null,
   "metadata": {
    "colab": {
     "base_uri": "https://localhost:8080/"
    },
    "executionInfo": {
     "elapsed": 13,
     "status": "ok",
     "timestamp": 1632241461181,
     "user": {
      "displayName": "伊藤慶",
      "photoUrl": "https://lh3.googleusercontent.com/a/default-user=s64",
      "userId": "07271948982802047026"
     },
     "user_tz": -540
    },
    "id": "1dBE2ANuKepv",
    "outputId": "a8cb6a4d-0137-45c1-e071-ebde9c206f1b"
   },
   "outputs": [
    {
     "name": "stdout",
     "output_type": "stream",
     "text": [
      "2001\tPMC13901\tbrca1\twestern blotting\tThe specificity of the polyclonal antibody against BRCA1 (K-18) has been demonstrated elsewhere for BRCA1 [ 6 , 7 ], ascertained by Western blotting, and the 220 kDa band corresponding to BRCA1 was detected in both HBL-100 and MCF-7 breast cell lines.\t The specificity of the polyclonal antibody against [GENE] (K-18) has been demonstrated elsewhere for BRCA1 [ 6  7 ] ascertained by [EXPE] and the 220 kDa band corresponding to BRCA1 was detected in both HBL-100 and MCF-7 breast cell lines \n",
      "\n",
      "6\n"
     ]
    }
   ],
   "source": [
    "f = open(\"2109_sentences/Part1_chikan_2109.csv\",\"r\")\n",
    "for line in f:\n",
    "  print(line)\n",
    "  ls = line.strip().split(\"\\t\")\n",
    "  print(len(ls))\n",
    "  break"
   ]
  },
  {
   "cell_type": "code",
   "execution_count": null,
   "metadata": {
    "colab": {
     "base_uri": "https://localhost:8080/"
    },
    "executionInfo": {
     "elapsed": 240,
     "status": "ok",
     "timestamp": 1632241711343,
     "user": {
      "displayName": "伊藤慶",
      "photoUrl": "https://lh3.googleusercontent.com/a/default-user=s64",
      "userId": "07271948982802047026"
     },
     "user_tz": -540
    },
    "id": "hOQAFXBuLiC3",
    "outputId": "3cb9ee8a-d1ba-4e4c-d718-a014ab80fa31"
   },
   "outputs": [
    {
     "name": "stdout",
     "output_type": "stream",
     "text": [
      "/content/drive/MyDrive/Colab Notebooks/nlp\n"
     ]
    }
   ],
   "source": [
    "!pwd"
   ]
  },
  {
   "cell_type": "code",
   "execution_count": null,
   "metadata": {
    "colab": {
     "base_uri": "https://localhost:8080/"
    },
    "executionInfo": {
     "elapsed": 23112,
     "status": "ok",
     "timestamp": 1632241743572,
     "user": {
      "displayName": "伊藤慶",
      "photoUrl": "https://lh3.googleusercontent.com/a/default-user=s64",
      "userId": "07271948982802047026"
     },
     "user_tz": -540
    },
    "id": "kcjRzt31L3vZ",
    "outputId": "0642171d-8d46-4486-c5c2-012c21571a94"
   },
   "outputs": [
    {
     "name": "stdout",
     "output_type": "stream",
     "text": [
      "^C\n"
     ]
    }
   ],
   "source": [
    "!wc -l ./2109_sentences/Part1_chikan_2109.csv"
   ]
  },
  {
   "cell_type": "code",
   "execution_count": null,
   "metadata": {
    "colab": {
     "base_uri": "https://localhost:8080/"
    },
    "executionInfo": {
     "elapsed": 16,
     "status": "ok",
     "timestamp": 1632718677537,
     "user": {
      "displayName": "伊藤慶",
      "photoUrl": "https://lh3.googleusercontent.com/a/default-user=s64",
      "userId": "07271948982802047026"
     },
     "user_tz": -540
    },
    "id": "aZG_Ilk6ndJg",
    "outputId": "0d524394-c5c9-42cb-a522-b5813f81f2a0"
   },
   "outputs": [
    {
     "data": {
      "text/plain": [
       "device(type='cuda')"
      ]
     },
     "execution_count": 27,
     "metadata": {},
     "output_type": "execute_result"
    }
   ],
   "source": [
    "device"
   ]
  },
  {
   "cell_type": "code",
   "execution_count": null,
   "metadata": {
    "colab": {
     "base_uri": "https://localhost:8080/",
     "height": 117,
     "referenced_widgets": [
      "78a53dd2f2eb4709942772fd3266d1c8",
      "0553da58ee014d39aaf08ff451a7587e",
      "6546be0b03db4f72ae79c8bd39213506",
      "640bdf26ce7040898e38082dee00311c",
      "48a86b02556847eb86376ee19042632d",
      "d5bc593c1b8b43df97c40222197a907c",
      "88547389bf244cac8b767ca5c1b03308",
      "698a5d988e6a47fa90a5205d96ff0deb",
      "f4954082463e471eb5650bd1115bc833",
      "6e63d069295b4aa4a0b13a8d5f0c05ee",
      "79083f3b0a454ff3b96c2f2a85f29e2a"
     ]
    },
    "executionInfo": {
     "elapsed": 169892,
     "status": "ok",
     "timestamp": 1632754096269,
     "user": {
      "displayName": "伊藤慶",
      "photoUrl": "https://lh3.googleusercontent.com/a/default-user=s64",
      "userId": "07271948982802047026"
     },
     "user_tz": -540
    },
    "id": "S4Ty0OSiKSOZ",
    "outputId": "1a790a03-191b-46e0-e027-106572effa43"
   },
   "outputs": [
    {
     "name": "stderr",
     "output_type": "stream",
     "text": [
      "/usr/local/lib/python3.7/dist-packages/ipykernel_launcher.py:14: TqdmDeprecationWarning: This function will be removed in tqdm==5.0.0\n",
      "Please use `tqdm.notebook.tqdm` instead of `tqdm.tqdm_notebook`\n",
      "  \n"
     ]
    },
    {
     "data": {
      "application/vnd.jupyter.widget-view+json": {
       "model_id": "78a53dd2f2eb4709942772fd3266d1c8",
       "version_major": 2,
       "version_minor": 0
      },
      "text/plain": [
       "0it [00:00, ?it/s]"
      ]
     },
     "metadata": {},
     "output_type": "display_data"
    },
    {
     "name": "stdout",
     "output_type": "stream",
     "text": [
      "2770271\n"
     ]
    }
   ],
   "source": [
    "model.eval()\n",
    "model.cuda()\n",
    "import time\n",
    "preds,ans = [],[]\n",
    "#m = nn.Softmax()\n",
    "with torch.no_grad():\n",
    " f = open(\"./2109_sentences/Part8_chikan_2109.csv\",\"r\")\n",
    " f2 = open(\"./2109_sentences/Part8_bert_2109.csv\",\"a\")\n",
    " t = 1\n",
    " c = 0\n",
    " go = False\n",
    " kakiko = []\n",
    " m = torch.nn.Softmax()\n",
    " for line in tqdm.tqdm_notebook(f):\n",
    "   t += 1\n",
    "   ls = line.strip().split(\"\\t\")\n",
    "   if len(ls) != 6:continue\n",
    "   if go != True:\n",
    "     check = ls[-1]\n",
    "     if check.startswith(\" The raw sequence reads have been submitted to the [EXPE] [GENE]\"):\n",
    "       go = True\n",
    "       print(t)\n",
    "       continue\n",
    "     else:\n",
    "       continue\n",
    "   s = ls[5]\n",
    "   if len(s.split(\" \")) > 500:continue\n",
    "  #dist = df[\"dist\"].tolist()[n]\n",
    "   indexed_tokens = tokenizer.encode(\n",
    "                        s,                      # Sentence to encode.\n",
    "                        add_special_tokens = True)\n",
    "   tokens_tensor = torch.tensor([indexed_tokens])\n",
    "   if len(tokens_tensor[0]) > 500:continue\n",
    "   all_encoder_layers = model(tokens_tensor.to(device))\n",
    "   out= all_encoder_layers[0]\n",
    "   out = m(out)\n",
    "   #j = torch.argmax(out).detach().cpu().item()\n",
    "   j = int(out[0][1] > 0.3)\n",
    "   if j ==1:\n",
    "     c += 1\n",
    "     #kakiko.append(str(out[0][1].item())+\"\\t\"+line)\n",
    "     f2.write(str(out[0][1].item())+\"\\t\"+line)\n",
    "   if t % 10000 == 0:\n",
    "     print(t,c)\n",
    "     #for ka in kakiko:\n",
    "     #   f2.write(ka)  \n",
    "     #kakiko = []\n",
    "     f2.close()\n",
    "     time.sleep(0.3)\n",
    "     f2 = open(\"2109_sentences/Part8_bert_2109.csv\",\"a\")\n",
    " f2.close() "
   ]
  },
  {
   "cell_type": "code",
   "execution_count": null,
   "metadata": {
    "colab": {
     "base_uri": "https://localhost:8080/",
     "height": 1000
    },
    "executionInfo": {
     "elapsed": 402,
     "status": "ok",
     "timestamp": 1632722537901,
     "user": {
      "displayName": "伊藤慶",
      "photoUrl": "https://lh3.googleusercontent.com/a/default-user=s64",
      "userId": "07271948982802047026"
     },
     "user_tz": -540
    },
    "id": "C8JZ5WH52MMp",
    "outputId": "61631e2d-c36f-48da-abda-7e627ed7bf5b"
   },
   "outputs": [
    {
     "data": {
      "application/vnd.google.colaboratory.intrinsic+json": {
       "type": "string"
      },
      "text/plain": [
       "' PVal t value Regulations GeneName ARMS2 1105122 328E-07 0000198 553328 Up age-related maculopathy susceptibility 2 [GENE] 1005863 159E-06 0000459 5153257 Up serine protease 46 pseudogene MYH13 103327 164E-06 000046 5144666 Up myosin heavy chain 13 RAD21L1 1367492 287E-06 0000592 5007555 Up RAD21 cohesin complex component like 1 AS3MT 1172185 297E-06 0000593 4998809 Up arsenitemethyltransferase UPK1B 1142189 425E-06 0000663 4909531 Up uroplakin 1B CRHR2 1057435 466E-06 0000686 4886267 Up corticotropin releasing hormone receptor 2 KRT20 1041956 547E-06 0000738 4845569 Up keratin 20 CYP2F1 0996571 549E-06 0000738 4844967 Up cytochrome P450 family 2 subfamily F member 1 TBX20 0915545 665E-06 0000852 4796325 Up T-box transcription factor 20 TEX15 1040483 67E-06 0000852 4794446 Up testis expressed 15 meiosis and synapsis associated REN 0918655 74E-06 000091 4769059 Up renin RDH8 1031642 82E-06 0000925 4743027 Up retinol dehydrogenase 8 PADI3 1004196 823E-06 0000925 4742198 Up peptidyl arginine deiminase 3 RIMS4 1005408 844E-06 0000925 4735751 Up regulating synaptic membrane exocytosis 4 MS4A5 0988204 845E-06 0000925 4735279 Up membrane spanning 4-domains A5 HFM1 1083591 104E-05 0001038 4683383 Up helicase for meiosis 1 EGFR 1045618 116E-05 0001078 4655195 Up epidermal growth factor receptor C10orf113 0984302 127E-05 0001122 4629975 Up chromosome 10 open reading frame 113 RGS4 0968679 128E-05 0001122 4629106 Up regulator of G protein signaling 4 C2orf73 0965222 129E-05 0001122 4626793 Up chromosome 2 open reading frame 73 ACSBG2 1181896 127E-05 0001122 4631273 Up acyl-CoA synthetasebubblegum family member 2 BTBD18 0963267 141E-05 0001181 4604073 Up BTB domain containing 18 DPPA5 0954617 144E-05 0001195 4598614 Up developmental pluripotency associated 5 OR10J3 0985446 156E-05 0001237 4578119 Up olfactory receptor family 10 subfamily J member 3 KCNK4 1033357 157E-05 0001237 4575705 Up potassium two pore domain channel subfamily K member 4 LRAT 0925599 161E-05 0001259 4568727 Up lecithin retinol acyltransferase IL17B 0958598 172E-05 0001302 4551641 Up interleukin 17B FBXO10 1012141 176E-05 0001319 4545579 Up F-box protein 10 LRRC74A 0894289 178E-05 0001319 454289 Up leucine rich repeat containing 74A TM4SF5 0988935 186E-05 0001335 4531217 Up transmembrane 4\\u2009L six family member 5 OR2T29 0956232 189E-05 0001335 4527962 Up olfactory receptor family 2 subfamily T member 29 RNF180 1050934 189E-05 0001335 4526775 Up ring finger protein 180 MYOT 0998153 19E-05 0001335 4525922 Up myotilin SLC22A25 0905085 21E-05 0001407 4499193 Up solute carrier family 22 member 25 CMA1 0871927 212E-05 0001407 4497403 Up chymase 1 PCDHB10 1017337 214E-05 0001407 4494598 Up protocadherin beta 10 HRCT1 0931584 216E-05 0001407 4492152 Up histidine rich carboxyl terminus 1 TRHR 0967196 217E-05 0001407 4491435 Up thyrotropin releasing hormone receptor NACA2 1235555 215E-05 0001407 4494057 Up nascent polypeptide associated complex subunit alpha 2 CCL19 105675 217E-05 0001407 4490985 Up C-C motif chemokine ligand 19 DMRTA2 0919949 231E-05 0001446 4474549 Up DMRT like family A2 NRAP 0970444 242E-05 0001479 446211 Up nebulin related anchoring protein DNAH3 0948597 246E-05 0001483 4458656 Up dynein axonemal heavy chain 3 CCL13 1008793 246E-05 0001483 4458373 Up C-C motif chemokine ligand 13 OSR1 099949 247E-05 0001483 4456576 Up odd-skipped related transcription factor 1 TMEM145 0966024 246E-05 0001483 4457613 Up transmembrane protein 145 AVP 0940076 25E-05 000149 4453465 Up arginine vasopressin CSHL1 084012 255E-05 0001496 444882 Up chorionic somatomammotropin hormone like 1 LHFPL3 1029874 256E-05 0001497 444723 Up LHFPL tetraspan subfamily member 3 SNAP91 1023292 257E-05 0001497 4446795 Up synaptosome associated protein 91 SOX18 1029443 26E-05 0001504 444371 Up SRY-box transcription factor 18 CAP2 10769 263E-05 0001511 4440701 Up cyclase associated actin cytoskeleton regulatory protein 2 C1orf146 0912546 269E-05 0001529 4434806 Up chromosome 1 open reading frame 146 PDE6C 0880944 282E-05 0001574 4421773 Up phosphodiesterase 6C CRYAA 0894932 289E-05 0001596 441523 Up crystallin alpha A NR0B2 0903675 29E-05 0001596 4414618 Up nuclear receptor subfamily 0 group B member 2 ANKRD30B 0953544 293E-05 0001599 4411547 Up ankyrin repeat domain 30B CST6 0946705 304E-05 0001632 4401733 Up cystatin E/M CAMK1G 0956887 305E-05 0001632 4401395 Up calcium/calmodulin dependent protein kinase IG CYP39A1 0879266 308E-05 0001632 4399046 Up cytochrome P450 family 39 subfamily A member 1 ZNF214 0948008 314E-05 0001653 4393435 Up zinc finger protein 214 MRGPRF 0936902 318E-05 0001666 4390434 Up MAS related GPR family member F PTPRT 1102577 322E-05 0001674 4386782 Up protein tyrosine phosphatase receptor type T KRT39 1081629 321E-05 0001674 4387502 Up keratin 39 PHF21B 0897853 326E-05 0001681 4383695 Up PHD finger protein 21B ABRA 0967897 326E-05 0001681 4383147 Up actin binding Rho activating protein ADGRF4 0958187 33E-05 0001693 4380467 Up adhesion G protein-coupled receptor F4 ABCC12 0932702 335E-05 0001709 4376353 Up ATP binding cassette subfamily C member 12 SLC16A8 0908131 338E-05 0001712 4374274 Up solute carrier family 16 member 8 ATP6V1G2-DDX39B 0990995 34E-05 0001715 4372164 Up ATP6V1G2-DDX39B readthrough (NMD candidate) LEMD1 0846889 351E-05 0001738 4363856 Up LEM domain containing 1 KPNA7 0953213 351E-05 0001738 4363815 Up karyopherin subunit alpha 7 MYH6 0952519 356E-05 0001753 4359936 Up myosin heavy chain 6 FRMPD2 0957963 368E-05 0001757 4351517 Up FERM and PDZ domain containing 2 SULT6B1 0965243 369E-05 0001757 4350796 Up sulfotransferase family 6B member 1 HSD3B2 0933208 37E-05 0001757 43496 Up hydroxy-delta-5-steroid dehydrogenase 3 beta- and steroid delta-isomerase 2 SULF1 09309 371E-05 0001757 4349307 Up sulfatase 1 G6PC 1038462 371E-05 0001757 4349175 Up glucose-6-phosphatase catalytic subunit MTRNR2L6 1015308 372E-05 0001757 4348247 Up MT-RNR2 like 6 IZUMO1 0863468 373E-05 0001757 4347643 Up izumo sperm-egg fusion 1 CFAP77 0854205 375E-05 0001757 4346388 Up cilia and flagella associated protein 77 GPR37 0969013 375E-05 0001757 4346128 Up G protein-coupled receptor 37 OR6C70 0996132 378E-05 0001757 4344383 Up olfactory receptor family 6 subfamily C member 70 URGCP-MRPS24 0929538 38E-05 0001759 4342672 Up URGCP-MRPS24 readthrough SLC26A3 0912109 384E-05 0001766 433951 Up solute carrier family 26 member 3 ITGBL1 089074 388E-05 0001766 4337347 Up integrin subunit beta like 1 LOC102725072 093312 388E-05 0001766 4336863 Up Putative uncharacterized protein DKFZp434K191 BLACE 0837756 394E-05 0001771 4332862 Up B cell acute lymphoblastic leukemia expressed LOC100131496 0873058 396E-05 0001771 4331895 Up uncharacterized LOC100131496 LIPF 0971728 397E-05 0001771 4331252 Up lipase F gastric type FNDC8 0897073 4E-05 0001771 43287 Up fibronectin type III domain containing 8 LOC389199 0873159 41E-05 0001785 4322016 Up uncharacterized LOC389199 OR2K2 0856644 428E-05 0001834 4310597 Up olfactory receptor family 2 subfamily K member 2 FABP6 0940984 431E-05 0001842 4308644 Up fatty acid binding protein 6 SPATA16 0946274 437E-05 0001845 4305413 Up spermatogenesis associated 16 SMCO1 1042857 436E-05 0001845 4305897 Up single-pass membrane protein with coiled-coil domains 1 PCDHB2 1169306 441E-05 0001855 4302798 Up protocadherin beta 2 FAM243A 0902671 449E-05 0001866 429812 Up family with sequence similarity 243 member A HOXB8 0886424 451E-05 0001866 4296412 Up homeobox B8 LMO1 0892873 453E-05 000187 429529 Up LIM domain only 1 MAS1L 089613 456E-05 0001876 4293436 Up MAS1 proto-oncogene like G protein-coupled receptor GLYATL3 090734 459E-05 0001876 4291841 Up glycine-N-acyltransferase like 3 UGT2A1 0870199 469E-05 0001883 4286149 Up UDP glucuronosyltransferase family 2 member A1 complex locus RERG 0939549 469E-05 0001883 4286306 Up RAS like estrogen regulated growth inhibitor CELA2A 0924629 47E-05 0001883 4285588 Up chymotrypsin like elastase 2A LRFN5 0946274 48E-05 0001915 4279702 Up leucine rich repeat and fibronectin type III domain containing 5 PAX3 0826938 483E-05 0001921 427827 Up paired box 3 KIF1A 0973095 486E-05 0001927 4276802 Up kinesin family member 1A MRGPRE 086341 493E-05 0001952 4272623 Up MAS related GPR family member E NPY 0877892 499E-05 0001962 4269525 Up neuropeptide Y EFS 1003465 5E-05 0001962 4269001 Up embryonal Fyn-associated substrate ZSCAN1 0921942 502E-05 0001962 426778 Up zinc finger and SCAN domain containing 1 MEIOB 0971239 503E-05 0001962 4267016 Up meiosis specific with OB-fold TMPRSS15 0884284 502E-05 0001962 4267806 Up transmembrane serine protease 15 DRD2 0861436 504E-05 0001962 4266826 Up dopamine receptor D2 CNMD 0959271 505E-05 0001963 4266074 Up chondromodulin AMBP 0883904 508E-05 0001966 4264596 Up alpha-1-microglobulin/bikunin precursor C8orf34 0874882 516E-05 000198 4260541 Up chromosome 8 open reading frame 34 EGR4 093485 519E-05 0001987 425858 Up early growth response 4 LGALS7 0958985 524E-05 0001987 4255983 Up galectin 7 INHA 0858348 523E-05 0001987 4256562 Up inhibin subunit alpha MNX1 0845332 528E-05 000199 4254289 Up motor neuron and pancreas homeobox 1 SLC10A1 0889098 541E-05 0002017 4247721 Up solute carrier family 10 member 1 NPBWR1 0965049 542E-05 0002017 4246995 Up neuropeptides B and W receptor 1 PMF1-BGLAP 0976467 545E-05 0002025 4245385 Up PMF1-BGLAP readthrough LHCGR 0897295 557E-05 0002041 4239485 Up luteinizing hormone/choriogonadotropin receptor NT5C1A 086506 559E-05 0002041 4238871 Up 5′-nucleotidase cytosolic IA ASCL1 0918002 56E-05 0002041 4238038 Up achaete-scute family bHLH transcription factor 1 CCDC140 0969595 561E-05 0002041 4237583 Up coiled-coil domain containing 140 NEUROG3 0951564 579E-05 0002073 4229287 Up neurogenin 3 TMC2 1236136 562E-05 0002041 4237443 Up transmembrane channel like 2 MINDY4B 1034321 581E-05 0002073 4228387 Up MINDY family member 4B COL3A1 0899332 586E-05 0002073 4226076 Up collagen type III alpha 1 chain SLCO6A1 0920379 589E-05 0002073 4224473 Up solute carrier organic anion transporter family member 6A1 THRSP 0891603 593E-05 0002073 4222727 Up thyroid hormone responsive DBX2 0883726 593E-05 0002073 4222452 Up developing brain homeobox 2 OR52N5 0874656 594E-05 0002073 4221942 Up olfactory receptor family 52 subfamily N member 5 ANO4 0891458 595E-05 0002073 422163 Up anoctamin 4 RPRML 1013736 596E-05 0002073 422104 Up reprimo like LIPM 0857463 597E-05 0002073 4220906 Up lipase family member M EFCAB3 0930354 598E-05 0002073 4220334 Up EF-hand calcium binding domain 3 LRRC2-AS1 0891603 599E-05 0002073 4220002 Up LRRC2 antisense RNA 1 GJA1 0940111 594E-05 0002073 4222116 Up gap junction protein alpha 1 OR51E1 0966601 613E-05 0002103 421374 Up olfactory receptor family 51 subfamily E member 1 ANP32D 0855187 614E-05 0002103 4213256 Up acidic nuclear phosphoprotein 32 family member D FMC1-LUC7L2 0914577 621E-05 0002109 421018 Up FMC1-LUC7L2 readthrough PRLHR 0905404 626E-05 0002114 4207869 Up prolactin releasing hormone receptor PPFIA2 0962581 628E-05 0002114 4206985 Up PTPRF interacting protein alpha 2 IRX5 0930915 635E-05 0002124 4203899 Up iroquoishomeobox 5 CSRNP3 0893691 637E-05 0002125 420305 Up cysteine and serine rich nuclear protein 3 DAND5 0869683 639E-05 0002125 420215 Up DAN domain BMP antagonist family member 5 NKAIN4 0986106 638E-05 0002125 4202648 Up sodium/potassium transporting ATPase interacting 4 TMPRSS11B 0859699 645E-05 0002126 419958 Up transmembrane serine protease 11B GULP1 098403 648E-05 0002126 4198514 Up GULP PTB domain containing engulfment adaptor 1 ADGRL4 0967777 653E-05 0002135 4196582 Up adhesion G protein-coupled receptor L4 HOXD8 0897017 66E-05 0002143 4193495 Up homeobox D8 OR52N1 0839763 666E-05 0002154 4191133 Up olfactory receptor family 52 subfamily N member 1 LINC01555 0897816 666E-05 0002154 4190957 Up long intergenic non-protein coding RNA 1555 CA10 1011486 689E-05 0002212 4181597 Up carbonic anhydrase 10 CYP2W1 0875193 707E-05 0002224 4174858 Up cytochrome P450 family 2 subfamily W member 1 CCDC27 0885529 708E-05 0002224 4174477 Up coiled-coil domain containing 27 MYH7 0885529 708E-05 0002224 4174477 Up myosin heavy chain 7 GNAT1 0885529 708E-05 0002224 4174477 Up G protein subunit alpha transducin 1 NPPC 0964362 736E-05 0002263 4163694 Up natriuretic peptide C CBLC 0891165 75E-05 0002292 4158584 Up Cbl proto-oncogene C TRIM55 0945582 746E-05 0002284 4160085 Up tripartite motif containing 55 EEF1G 083887 757E-05 0002293 4155878 Up eukaryotic translation elongation factor 1 gamma ADCYAP1R1 0896389 758E-05 0002293 4155685 Up ADCYAP receptor type I TAFA4 0838908 758E-05 0002293 4155485 Up TAFA chemokine like family member 4 OVOL1 0884916 757E-05 0002293 4156118 Up ovo like transcriptional repressor 1 EFEMP1 0913807 767E-05 0002304 4152284 Up EGF containing fibulin extracellular matrix protein 1 SLC36A2 0897775 769E-05 0002304 4151795 Up solute carrier family 36 member 2 SPINK13 0860333 776E-05 0002322 4149133 Up serine peptidase inhibitor Kazal type 13 (putative) CCDC158 0832487 797E-05 0002364 4141709 Up coiled-coil domain containing 158 RBAK-RBAKDN 0916027 811E-05 0002396 4137123 Up RBAK-RBAKDN readthrough CCL17 0896315 825E-05 0002434 4132223 Up C-C motif chemokine ligand 17 SELE 0850167 829E-05 0002443 4130829 Up selectin E GOLGA6B 09457 837E-05 0002446 4128465 Up golgin A6 family member B IGFL4 0850147 844E-05 0002452 4125895 Up IGF like family member 4 CNTFR 0883786 848E-05 0002457 4124845 Up ciliaryneurotrophic factor receptor C1orf141 0949302 851E-05 000246 4123621 Up chromosome 1 open reading frame 141 NOS1 0932437 863E-05 0002471 4119973 Up nitric oxide synthase 1 REG1B 0893055 876E-05 0002495 4115883 Up regenerating family member 1 beta CAPSL 0894376 879E-05 0002501 4114845 Up calcyphosine like C1QTNF7 0883655 886E-05 0002513 4112561 Up C1q and TNF related 7 RHBDL2 0883638 888E-05 0002513 4111975 Up rhomboid like 2 TEAD4 0893342 891E-05 0002513 4111195 Up TEA domain transcription factor 4 PRRX1 0923623 893E-05 0002513 4110382 Up paired related homeobox 1 SERPINB12 0833849 895E-05 0002513 4109731 Up serpin family B member 12 TBX10 0833115 9E-05 0002513 4108444 Up T-box transcription factor 10 COL6A5 0920311 901E-05 0002513 4108069 Up collagen type VI alpha 5 chain KLK4 0837318 903E-05 0002513 4107393 Up kallikrein related peptidase 4 GRIN2B 0950071 906E-05 0002513 4106573 Up glutamate ionotropic receptor NMDA type subunit 2B RGS20 0900519 907E-05 0002513 4106097 Up regulator of G protein signaling 20 ZNF728 0883605 914E-05 0002515 4103954 Up zinc finger protein 728 SIX4 085187 918E-05 0002518 4102815 Up SIX homeobox 4 NPFFR2 0929088 921E-05 0002521 4101991 Up neuropeptide FF receptor 2 ANKRD62 0899096 923E-05 0002521 4101348 Up ankyrin repeat domain 62 CLLU1 1132069 903E-05 0002513 410742 Up chronic lymphocytic leukemia up-regulated 1 CNTNAP4 0914215 932E-05 0002528 409853 Up contactin associated protein like 4 COL12A1 0912316 956E-05 0002587 4091597 Up collagen type XII alpha 1 chain EBF3 0839069 97E-05 0002604 4087742 Up EBF transcription factor 3 GRIA4 0979336 98E-05 0002614 4084733 Up glutamate ionotropic receptor AMPA type subunit 4 PTHLH 0963725 98E-05 0002614 408484 Up parathyroid hormone like hormone SLC9A2 0881992 982E-05 0002614 4084262 Up solute carrier family 9 member A2 HEPHL1 0882607 986E-05 0002619 4083035 Up hephaestin like 1 SCG3 0893171 991E-05 000262 4081758 Up secretogranin III SIX1 0921197 992E-05 000262 4081507 Up SIX homeobox 1 TSPYL6 0891306 997E-05 0002628 407987 Up TSPY like 6 IRGC 0839346 00001 0002634 4078065 Up immunity related GTPase cinema GPR6 0930096 0000101 000264 4076739 Up G protein-coupled receptor 6 SCN3B 0832646 0000101 000264 4076478 Up sodium voltage-gated channel beta subunit 3 EMILIN3 0967257 0000102 0002653 4074049 Up elastin microfibrilinterfacer 3 EPN3 0914055 0000104 0002683 4068937 Up epsin 3 PDLIM4 0933994 0000104 0002683 4068455 Up PDZ and LIM domain 4 DCC 1037614 0000106 0002705 406329 Up DCC netrin 1 receptor IL9 0854817 0000107 0002723 4060443 Up interleukin 9 GRM5 0826169 0000108 0002744 4057559 Up glutamate metabotropic receptor 5 ODF3L2 0894219 0000108 0002744 4057227 Up outer dense fiber of sperm tails 3 like 2 C5orf60 0929657 0000113 0002843 4044374 Up chromosome 5 open reading frame 60 LRRC3B 0885916 0000114 0002843 4042437 Up leucine rich repeat containing 3B NLRP14 0859959 0000114 0002843 4043418 Up NLR family pyrin domain containing 14 SLC25A51P4 0889805 0000117 0002902 4035322 Up SLC25A51 pseudogene 4 FOXD4L4 0839378 000012 0002931 4028918 Up forkhead box D4 like 4 PGR 0831922 000012 0002931 4028878 Up progesterone receptor PRL 1125879 0000118 0002906 4034159 Up prolactin C3orf79 0857368 0000121 000294 4025807 Up chromosome 3 open reading frame 79 SERPIND1 0906509 0000121 0002937 40271 Up serpin family D member 1 S100A7A 0847703 0000122 0002953 4023133 Up S100 calcium binding protein A7A EN1 09169 0000124 0002964 4018471 Up engrailed homeobox 1 KRT38 1042088 0000125 0002971 4016678 Up keratin 38 LINC02108 0846143 0000126 0002975 4014499 Up long intergenic non-protein coding RNA 2108 GPR158 0831736 0000126 0002975 4013975 Up G protein-coupled receptor 158 ACSM6 0908554 0000128 0002993 4011439 Up acyl-CoA synthetase medium chain family member 6 ASPA 0871659 0000129 0003 4007633 Up aspartoacylase SH3GL2 0918924 0000132 0003024 4001385 Up SH3 domain containing GRB2 like 2 endophilin A1 HAO1 0826311 0000133 000303 4000253 Up hydroxyacid oxidase 1 PDPN 0889264 0000134 0003031 3996743 Up podoplanin CWH43 0839103 0000135 0003032 3996334 Up cell wall biogenesis 43 C-terminal homolog OR6S1 0835524 0000135 0003042 3994961 Up olfactory receptor family 6 subfamily S member 1 OR51B4 0827743 0000137 0003053 3992138 Up olfactory receptor family 51 subfamily B member 4 NPBWR2 0868277 0000138 0003069 3989344 Up neuropeptides B and W receptor 2 THSD4 0846128 0000138 0003069 3988521 Up thrombospondin type 1 domain containing 4 ADAMTS9 0834461 0000139 0003069 3988039 Up ADAM metallopeptidase with thrombospondin type 1 motif 9 FOXQ1 1443796 0000136 0003044 3993401 Up forkhead box Q1 PLN 0949551 0000139 000307 3986876 Up phospholamban MAP3K19 087061 0000141 000309 3982479 Up mitogen-activated protein kinase kinasekinase 19 CSNK1A1L 1098186 0000141 000309 3983183 Up casein kinase 1 alpha 1 like BARX2 0902302 0000142 0003091 3981995 Up BARX homeobox 2 ISY1-RAB43 0930431 0000143 0003092 3980065 Up ISY1-RAB43 readthrough NELL1 0869267 0000146 0003138 3972653 Up neural EGFL like 1 WT1 0833065 0000148 0003154 3968739 Up WT1 transcription factor CTCFL 0834806 0000151 0003178 3963845 Up CCCTC-binding factor like REG1A 0848322 0000151 0003178 3962989 Up regenerating family member 1 alpha CELA2B 0861666 0000153 0003182 3960649 Up chymotrypsin like elastase 2B PRELP 0854017 0000153 0003182 3960358 Up proline and arginine rich end leucine rich repeat protein CNTN2 0848239 0000154 0003184 3958439 Up contactin 2 CRP 0836218 0000154 0003184 3958316 Up C-reactive protein GGTLC2 0890003 0000157 0003207 3953599 Up gamma-glutamyltransferase light chain 2 FSD2 0856494 0000156 0003207 3953925 Up fibronectin type III and SPRY domain containing 2 MYH4 0862217 0000157 0003207 3953188 Up myosin heavy chain 4 TUBA3C 0881504 000016 0003247 3947266 Up tubulin alpha 3c HSD11B2 0865869 0000164 0003268 3941252 Up hydroxysteroid 11-beta dehydrogenase 2 MKRN2OS 0852903 0000164 0003273 3940266 Up MKRN2 opposite strand SYT4 0859298 0000164 0003275 3939713 Up synaptotagmin 4 TM4SF20 0900136 0000167 0003292 3934626 Up transmembrane 4\\u2009L six family member 20 LRP2 0963595 0000167 0003292 3935053 Up LDL receptor related protein 2 ADAM7 0872506 000017 000331 3930757 Up ADAM metallopeptidase domain 7 GPR15 0902774 0000212 0003705 3867416 Up G protein-coupled receptor 15 SMTNL2 0867183 0000173 000334 392602 Up smoothelin like 2 APOH 0921926 0000173 000334 3924941 Up apolipoprotein H FCAMR 0946932 0000174 0003343 3924287 Up Fc fragment of IgA and IgM receptor TRPA1 0914295 0000175 0003346 3922484 Up transient receptor potential cation channel subfamily A member 1 WIF1 0847809 0000176 000336 3919958 Up WNT inhibitory factor 1 CLDN20 0883524 0000177 0003361 3919207 Up claudin 20 OPRM1 0913422 0000177 0003361 3919346 Up opioid receptor mu 1 CCDC198 0938346 0000177 0003364 3918639 Up coiled-coil domain containing 198 FREM3 0956335 0000182 0003437 3910621 Up FRAS1 related extracellular matrix 3 ANKRD18B 1013694 0000183 0003441 3908794 Up ankyrin repeat domain 18B AMY1A 094182 0000183 0003441 3908943 Up amylase alpha 1A C2orf80 0907847 0000188 0003491 3902387 Up chromosome 2 open reading frame 80 SP9 090324 0000188 0003492 3901414 Up Sp9 transcription factor SLCO1C1 09077 0000194 0003562 389294 Up solute carrier organic anion transporter family member 1C1 RFX6 0897237 0000195 0003562 3891995 Up regulatory factor X6 MRO 0892061 0000195 0003563 3891612 Up maestro THSD7B 0829227 0000196 0003567 3890001 Up thrombospondin type 1 domain containing 7B C11orf44 0825633 0000197 0003573 3888583 Up chromosome 11 open reading frame 44 PDE11A 0882109 00002 0003608 388364 Up phosphodiesterase 11A BTC 0842319 0000202 0003619 3881898 Up betacellulin C14orf39 0852061 0000202 0003625 3881117 Up chromosome 14 open reading frame 39 KCNIP1 0831954 0000203 0003634 3879927 Up potassium voltage-gated channel interacting protein 1 DDC 0899141 0000205 0003655 3876928 Up dopa decarboxylase KRTAP10–5 083581 0000206 0003664 3875023 Up keratin associated protein 10–5 B3GALT1 0865828 0000207 0003672 3874106 Up beta-13-galactosyltransferase 1 KCNT2 0882533 0000209 0003692 3871085 Up potassium sodium-activated channel subfamily T member 2 OTOGL 1017886 0000211 0003705 3868493 Up otogelin like ELAVL3 0837778 0000213 000371 386572 Up ELAV like RNA binding protein 3 CFHR1 0865906 0000214 0003716 3864405 Up complement factor H related 1 PLA2G5 083062 0000216 000373 3862104 Up phospholipase A2 group V FOLH1 0917208 0000217 0003735 3861207 Up folate hydrolase 1 LPA 0875646 0000221 0003777 3856187 Up lipoprotein(a) LOC100130449 0831124 0000221 0003777 3855362 Up uncharacterized LOC100130449 LINC00923 0918504 0000222 0003777 3854828 Up long intergenic non-protein coding RNA 923 TERB2 0876286 0000222 0003777 3854536 Up telomere repeat binding bouquet formation protein 2 HHIP 0825721 0000222 0003777 3854168 Up hedgehog interacting protein DRGX 0842289 0000228 0003835 3846389 Up dorsal root ganglia homeobox SERPINA9 084755 0000228 0003835 3846199 Up serpin family A member 9 PRKAA2 0894063 0000233 0003871 3840763 Up protein kinase AMP-activated catalytic subunit alpha 2 MMP27 0867836 0000236 0003895 3837287 Up matrix metallopeptidase 27 NPNT 090569 0000236 0003899 3836429 Up nephronectin SLC51B 0839976 0000238 0003904 3834684 Up solute carrier family 51 beta subunit C3orf80 0904281 0000236 0003895 3836993 Up chromosome 3 open reading frame 80 SOX2 0869644 0000238 0003904 3834656 Up SRY-box transcription factor 2 EYA1 1078018 0000237 0003901 3835456 Up EYA transcriptional coactivator and phosphatase 1 SI 0880135 000024 0003926 3831805 Up sucrase-isomaltase TIMP4 090339 0000241 000393 383074 Up TIMP metallopeptidase [EXPE] 4 LARP6 0890316 000024 0003926 3831332 Up La ribonucleoprotein 6 translational regulator MOGAT2 0833587 0000243 0003943 3828618 Up monoacylglycerol O-acyltransferase 2 OR1L3 0835533 0000243 0003943 382828 Up olfactory receptor family 1 subfamily L member 3 CACNA1G 0912907 0000243 0003943 3828145 Up calcium voltage-gated channel subunit alpha1 G CRX 089157 0000243 0003944 38278 Up cone-rod homeobox PPP2R2C 0882852 0000247 000397 3824007 Up protein phosphatase 2 regulatory subunit Bgamma SLC30A3 0892961 0000248 0003978 3822534 Up solute carrier family 30 member 3 RHOJ 0860054 0000252 0004016 381792 Up ras homolog family member J KCNJ13 0853986 0000256 0004054 3813553 Up potassium inwardly rectifying channel subfamily J member 13 HAS2 0882356 0000257 0004062 3812592 Up hyaluronan synthase 2 KRTAP10–6 0879999 0000257 0004062 3811877 Up keratin associated protein 10–6 FFAR1 088097 0000257 0004062 3812033 Up free fatty acid receptor 1 FGF6 0835818 0000259 0004077 3810292 Up fibroblast growth factor 6 OTX2 10534 0000267 0004169 3800608 Up orthodenticlehomeobox 2 CLRN2 0823406 0000269 0004182 3798898 Up clarin 2 C19orf81 0847143 0000272 0004205 3795697 Up chromosome 19 open reading frame 81 NUPR2 0908781 0000272 0004205 3796129 Up nuclear protein 2 transcriptional regulator CCN1 0860705 0000276 000423 3791036 Up cellular communication network factor 1 HECW1 0933254 0000278 0004243 3789303 Up HECT C2 and WW domain containing E3 ubiquitin protein ligase 1 PTGER1 0840067 0000279 0004243 3788337 Up prostaglandin E receptor 1 CDH15 086729 000028 0004248 3787447 Up cadherin 15 CLVS2 0851515 0000281 0004253 3786814 Up clavesin 2 LY6G6F-LY6G6D 0856601 0000281 0004261 378581 Up LY6G6F-LY6G6D readthrough CYP4X1 0824815 0000288 0004307 3779012 Up cytochrome P450 family 4 subfamily X member 1 MYOG 0879018 0000289 0004307 3778098 Up myogenin RFPL4AL1 1159429 0000295 000436 3772636 Up ret finger protein like 4A like 1 LRRC8E 0830259 00003 0004418 3767782 Up leucine rich repeat containing 8 VRAC subunit E NXPE1 0860153 0000302 0004436 3765215 Up neurexophilin and PC-esterase domain family member 1 KIF25 0853635 0000304 0004441 3763906 Up kinesin family member 25 CBLN2 0966722 0000305 0004454 3762634 Up cerebellin 2 precursor AREG 0901451 0000308 0004485 3759795 Up amphiregulin SPATA8 0878422 0000311 0004508 37569 Up spermatogenesis associated 8 GCGR 086834 0000311 0004508 3756813 Up glucagon receptor OR51E2 1003339 0000313 0004529 3754696 Up olfactory receptor family 51 subfamily E member 2 RPE65 0835844 0000315 0004549 3752653 Up retinoid isomerohydrolase RPE65 LAMA4 0925931 0000318 0004572 3750191 Up laminin subunit alpha 4 GABRA4 09215 0000322 0004599 3747009 Up gamma-aminobutyric acid type A receptor alpha4 subunit MFAP2 0972218 0000324 0004611 374445 Up microfibril associated protein 2 WFDC5 084266 0000328 0004639 3740917 Up WAP four-disulfide core domain 5 IGSF21 0851515 0000331 0004652 3738722 Up immunoglobin superfamily member 21 C17orf102 0839208 0000332 0004669 3737396 Up chromosome 17 open reading frame 102 A2ML1 0846661 0000334 0004675 373642 Up alpha-2-macroglobulin like 1 PLA2G3 0828347 0000334 0004675 373607 Up phospholipase A2 group III C1orf229 0851752 0000335 0004681 3735201 Up chromosome 1 open reading frame 229 PLA2G10 0831528 0000345 0004783 3726918 Up phospholipase A2 group X UTF1 0940212 0000346 0004796 3725564 Up undifferentiated embryonic cell transcription factor 1 CELF4 0871614 000035 0004827 3722421 Up CUGBP Elav-like family member 4 BTBD16 0859346 0000354 0004868 371863 Up BTB domain containing 16 TMPRSS12 087545 0000356 0004868 3717707 Up transmembrane serine protease 12 SPRY4 0899144 0000369 0004997 3707011 Up sprouty RTK signaling antagonist 4 FUT6 088066 0000369 0004997 3706933 Up fucosyltransferase 6 LINC01551 087545 0000372 0005023 3704451 Up long intergenic non-protein coding RNA 1551 GNG12 0937701 0000372 0005023 3704226 Up G protein subunit gamma 12 RD3 0880776 0000374 0005038 3703076 Up retinal degeneration 3 GUCY2D regulator DKK1 0950344 0000383 0005138 3695639 Up dickkopf WNT signaling pathway inhibitor 1 NUTM2F 0890116 0000384 0005147 3694933 Up NUT family member 2F NPAP1 0841125 0000385 000515 3694524 Up nuclear pore associated protein 1 PDE10A 0838498 0000402 0005283 3681647 Up phosphodiesterase 10A BDKRB2 0859999 0000401 0005283 3681948 Up bradykinin receptor B2 HES5 0898473 0000404 0005292 3680429 Up hes family bHLH transcription factor 5 SCEL 0834584 0000413 0005347 3673264 Up sciellin TMIGD1 0827595 0000413 0005347 3673264 Up transmembrane and immunoglobulin domain containing 1 PDE1A 0866557 0000413 0005347 3673886 Up phosphodiesterase 1A GOLGA8G 1023375 0000419 0005389 3669375 Up golgin A8 family member G C12orf77 0836295 0000436 0005501 3657361 Up chromosome 12 open reading frame 77 PRSS12 0917236 0000437 0005502 365691 Up serine protease 12 RBM46 0951241 0000438 0005502 36564 Up RNA binding motif protein 46 KRT78 0835349 0000439 0005502 3655735 Up keratin 78 TAC4 0866135 000044 0005508 3654937 Up tachykinin precursor 4 KRBOX1 0865226 0000439 0005502 3655612 Up KRAB box domain containing 1 PERM1 085926 0000442 0005508 36534 Up PPARGC1 and ESRR induced regulator muscle 1 CAPN9 0968118 0000455 0005612 3644617 Up calpain 9 MAS1 0874605 0000469 0005723 3635607 Up MAS1 proto-oncogene G protein-coupled receptor ALDOB 0840212 0000481 0005821 3628603 Up aldolase fructose-bisphosphate B FAM131C 0843355 0000483 0005829 3627366 Up family with sequence similarity 131 member C FAM71D 1002051 0000482 0005825 3628064 Up family with sequence similarity 71 member D TMEM72 0847662 0000505 0005976 3613798 Up transmembrane protein 72 GSX2 0884597 0000505 0005976 3613792 Up GS homeobox 2 RASA4B 1064804 0000499 0005946 3617563 Up RAS p21 protein activator 4B HSPB2 0843999 0000508 0005984 3611888 Up heat shock protein family B (small) member 2 FSTL5 0877677 0000523 0006098 3603482 Up follistatin like 5 RAX2 084501 0000525 0006112 360243 Up retina and anterior neural fold homeobox 2 BCO1 0833952 0000536 0006202 359581 Up beta-carotene oxygenase 1 GPR62 086578 0000536 0006202 3595965 Up G protein-coupled receptor 62 CDH18 0829682 000054 0006224 3593699 Up cadherin 18 HSPE1-MOB4 0902692 0000545 0006264 3590982 Up HSPE1-MOB4 readthrough MEGF10 0828489 0000545 0006264 3590973 Up multiple EGF like domains 10 RASSF9 0833952 0000582 0006473 3571637 Up Ras association domain family member 9 PALM2AKAP2 0841084 0000608 0006683 3558351 Up PALM2 and AKAP2 fusion ZFPM2 083487 0000614 000671 3555258 Up zinc finger protein FOG family member 2 IL21 0872983 000063 0006805 3547506 Up interleukin 21 TCHH 0913257 0000641 0006828 3542218 Up trichohyalin DNAI1 0825247 0000645 0006844 3540376 Up dynein axonemal intermediate chain 1 LHX2 0825638 0000664 0006981 3531404 Up LIM homeobox 2 TCIM 0880336 0000669 0007015 3529277 Up transcriptional and immune response regulator CHKB-CPT1B 0908843 0000671 0007024 352834 Up CHKB-CPT1B readthrough (NMD candidate) FAXC 0832545 0000693 0007167 3518441 Up failed axon connections homolog metaxin like GST domain containing SPECC1L-ADORA2A 0828726 0000728 000737 3503843 Up SPECC1L-ADORA2A readthrough (NMD candidate) DPP10 0834719 0000736 0007433 3500365 Up dipeptidyl peptidase like 10 AMER2 0854851 0000749 000752 3494939 Up APC membrane recruitment protein 2 SPATA22 1255195 0000761 0007595 3490127 Up spermatogenesis associated 22 TMEM151A 0881109 0000781 0007713 3482345 Up transmembrane protein 151A ATP1A4 1689421 0000778 0007691 3483567 Up ATPase Na+/K+ transporting subunit alpha 4 HOXB7 0989446 0000781 0007714 3482117 Up homeobox B7 CCDC169 0897611 0000815 0007946 3469141 Up coiled-coil domain containing 169 SPINK4 0843362 0000821 0007979 3466965 Up serine peptidase inhibitor Kazal type 4 LKAAEAR1 1056911 0000821 0007979 3467037 Up LKAAEAR motif containing 1 BPIFC 0838473 0000822 0007982 3466596 Up BPI fold containing family C EIF4E1B 0823457 0000847 0008124 3457562 Up eukaryotic translation initiation factor 4E family member 1B COX8C 0823798 0000853 0008147 3455114 Up cytochrome c oxidase subunit 8C MIF 1110365 0000941 0008696 3425057 Up macrophage migration inhibitory factor LRRC71 0833583 0000886 0008347 3443592 Up leucine rich repeat containing 71 EPB41L4B 1108212 0000896 0008413 3440042 Up erythrocyte membrane protein band 41 like 4B MYRIP 0847925 0000903 0008457 3437595 Up myosin VIIA and Rab interacting protein CORO7-PAM16 0904171 0000939 0008696 3425726 Up CORO7-PAM16 readthrough ZSWIM2 0880153 0000983 0008909 3411475 Up zinc finger SWIM-type containing 2 TPPP2 085002 0000983 0008909 3411351 Up tubulin polymerization promoting protein family member 2 PTPN20 0978815 0000982 0008909 3411957 Up protein tyrosine phosphatase non-receptor type 20 CST8 0828046 0000998 0008992 340695 Up cystatin 8 KCNH5 0840209 0001002 0009002 3405458 Up potassium voltage-gated channel subfamily H member 5 WFDC1 088007 0001062 0009383 3387406 Up WAP four-disulfide core domain 1 OR3A1 0842916 0001063 0009383 3387314 Up olfactory receptor family 3 subfamily A member 1 (gene/pseudogene) EXOC3L4 0847958 0001109 0009648 3374087 Up exocyst complex component 3 like 4 GHSR 0849126 0001113 0009673 3372795 Up growth hormone secretagogue receptor GDA 0889672 0001119 0009709 3371151 Up guanine deaminase SHISA8 0861981 0001118 0009704 3371469 Up shisa family member 8 ZSCAN10 086053 0001192 001015 3351508 Up zinc finger and SCAN domain containing 10 GDPD4 0825987 0001228 0010386 3342107 Up glycerophosphodiesterphosphodiesterase domain containing 4 C4orf48 0963154 0001242 0010457 3338544 Up chromosome 4 open reading frame 48 SPDEF 0881194 0001231 0010399 3341393 Up SAM pointed domain containing ETS transcription factor PMCH 0938262 0001273 0010644 3330774 Up pro-melanin concentrating hormone TMEM121 1161269 0001281 0010665 3328878 Up transmembrane protein 121 ESRP2 086225 0001323 0010867 3318668 Up epithelial splicing regulatory protein 2 GOLGA6L9 0913468 0001369 0011101 330796 Up golgin A6 family like 9 LRRTM2 0922665 0001414 0011348 3297763 Up leucine rich repeat transmembrane neuronal 2 RFX4 0831273 0001445 0011513 3290825 Up regulatory factor X4 FAP 099642 0001437 0011476 3292583 Up fibroblast activation protein alpha CTAGE6 0885238 0001484 0011748 3282458 Up CTAGE family member 6 GPC6 0897005 0001603 0012397 3257934 Up glypican 6 BOLA2B 1348547 0001587 0012335 3261001 Up bolA family member 2B ANGPT4 0829222 0001678 0012731 324332 Up angiopoietin 4 GLYATL1 0859167 0001744 0013066 3230845 Up glycine-N-acyltransferase like 1 ALPI 083854 0001782 0013284 3223964 Up alkaline phosphatase intestinal LINC02312 0846436 000182 0013468 3217256 Up long intergenic non-protein coding RNA 2312 MAGI1 0834329 0001979 0014332 3190204 Up membrane associated guanylate kinase WW and PDZ domain containing 1 LOC105377590 0827061 0002067 0014767 3176133 Up uncharacterized LOC105377590 UGT2A3 1084825 0002072 0014775 3175415 Up UDP glucuronosyltransferase family 2 member A3 SEMA6B 097473 0002148 0015121 3163707 Up semaphorin 6B RFPL4A 1618683 0002173 0015241 3159916 Up ret finger protein like 4A P2RX2 0823852 0002237 0015538 3150517 Up purinergic receptor P2X 2 COL1A2 0873234 0002262 0015671 314683 Up collagen type I alpha 2 chain CDKL2 0900439 0002301 0015857 3141203 Up cyclin dependent kinase like 2 CLUL1 0934087 0002373 0016257 3131195 Up clusterin like 1 MIPOL1 0862616 0002732 0017911 3084864 Up mirror-image polydactyly 1 PKNOX2 0859428 0002743 0017952 3083472 Up PBX/knotted 1 homeobox 2 TRHDE 0950234 0002983 0019018 305568 Up thyrotropin releasing hormone degrading enzyme BCAR1 0894146 0002995 0019072 3054351 Up BCAR1 scaffold protein Cas family member ZPLD1 083027 0003108 0019559 3042048 Up zonapellucida like domain containing 1 ECM2 0881103 0003166 0019806 3035863 Up extracellular matrix protein 2 C8B 083507 0003179 0019849 3034511 Up complement C8 beta chain ZSCAN4 0824589 0003335 0020502 3018496 Up zinc finger and SCAN domain containing 4 DUSP15 0835463 0003583 0021602 2994384 Up dual specificity phosphatase 15 FSIP2 1051501 0003654 0021884 2987718 Up fibrous sheath interacting protein 2 GYPA 0838823 0003832 0022535 2971603 Up glycophorin A (MNS blood group) MICU3 0836643 0004058 0023381 2952197 Up mitochondrial calcium uptake family member 3 ABCB5 0828852 000415 0023751 2944524 Up ATP binding cassette subfamily B member 5 MTRNR2L1 2018372 0004535 0025279 2914228 Up MT-RNR2 like 1 TRAPPC5 0871477 0004667 0025812 2904327 Up trafficking protein particle complex 5 MYT1L 120911 0004898 0026721 288766 Up myelin transcription factor 1 like DKK2 089525 0005299 0028207 2860463 Up dickkopf WNT signaling pathway inhibitor 2 SRXN1 1018618 0005734 0029851 2832953 Up sulfiredoxin 1 HBZ 1056697 0005869 0030365 2824809 Up hemoglobin subunit zeta GABRB3 0916767 0005973 0030651 2818616 Up gamma-aminobutyric acid type A receptor beta3 subunit TDRD15 0860035 0006628 0033041 2781952 Up tudor domain containing 15 PDF 0908183 000747 0036155 2739388 Up peptide deformylase mitochondrial CCDC144A 1387575 0007676 0036885 2729663 Up coiled-coil domain containing 144A MRPL12 1043343 0011635 0049872 257764 Up mitochondrial ribosomal protein L12 SIRPB2 −047534 844E-09 463E-05 −637763 Down signal regulatory protein beta 2 RNF122 −040229 136E-08 463E-05 −626932 Down ring finger protein 122 SYK −032942 238E-08 666E-05 −61427 Down spleen associated tyrosine kinase LASP1 −039444 715E-08 0000109 −589021 Down LIM and SH3 protein 1 SLC44A2 −03592 109E-07 0000141 −579236 Down solute carrier family 44 member 2 C5AR2 −045692 158E-07 0000165 −570624 Down complement component 5a receptor 2 PRKACA −049178 212E-07 0000197 −563649 Down protein kinase cAMP-activated catalytic subunit alpha TP53INP2 −059653 235E-07 0000198 −561183 Down tumor protein p53 inducible nuclear protein 2 F11R −037662 327E-07 0000198 −553422 Down F11 receptor INKA2 −04438 325E-07 0000198 −55354 Down inka box actin regulator 2 GABARAP −049797 353E-07 0000205 −55156 Down GABA type A receptor-associated protein CRTC2 −048092 366E-07 0000205 −550724 Down CREB regulated transcription coactivator 2 RXRB −03761 452E-07 000023 −545685 Down retinoid X receptor beta CASP9 −027139 584E-07 0000258 −539557 Down caspase 9 C6orf136 −03863 796E-07 0000297 −5321 Down chromosome 6 open reading frame 136 CTDSP2 −032959 748E-07 0000288 −53362 Down CTD small phosphatase 2 DPEP2 −041998 756E-07 0000288 −533349 Down dipeptidase 2 TMEM234 −038446 895E-07 0000313 −529278 Down transmembrane protein 234 TMEM179B −027682 914E-07 0000313 −528769 Down transmembrane protein 179B SNX11 −032558 947E-07 0000318 −527902 Down sorting nexin 11 AGAP9 −141788 442E-07 000023 −546256 Down ArfGAP with GTPase domain ankyrin repeat and PH domain 9 FAM219A −045019 117E-06 0000376 −522858 Down family with sequence similarity 219 member A CSNK2B −029639 141E-06 000043 −518303 Down casein kinase 2 beta TMEM127 −034378 143E-06 000043 −51782 Down transmembrane protein 127 MEFV −052752 162E-06 000046 −514816 Down MEFV innate immuity regulator pyrin KCTD21 −031051 192E-06 0000504 −51065 Down potassium channel tetramerization domain containing 21 TMBIM1 −032832 186E-06 00005 −511415 Down transmembrane BAX inhibitor motif containing 1 IL17RA −04439 199E-06 0000507 −509788 Down interleukin 17 receptor A RAB37 −031838 204E-06 000051 −509207 Down RAB37 member RAS oncogene family GAB2 −044824 215E-06 0000532 −507836 Down GRB2 associated binding protein 2 BLOC1S3 −028757 243E-06 0000544 −504845 Down biogenesis of lysosomal organelles complex 1 subunit 3 APOL2 −046372 238E-06 0000544 −505359 Down apolipoprotein L2 KIAA0319L −035586 24E-06 0000544 −505141 Down KIAA0319 like SIPA1L1 −037533 284E-06 0000592 −500972 Down signal induced proliferation associated 1 like 1 ARF3 −039406 286E-06 0000592 −500779 Down ADP ribosylation factor 3 CASC3 −028443 289E-06 0000592 −500572 Down CASC3 exon junction complex subunit ARHGAP30 −02905 304E-06 0000593 −499258 Down Rho GTPase activating protein 30 TOP3A −035048 321E-06 0000593 −497967 Down DNA topoisomerase III alpha C16orf54 −026747 324E-06 0000593 −497743 Down chromosome 16 open reading frame 54 BEST1 −050351 337E-06 0000593 −496756 Down bestrophin 1 C6orf89 −028041 339E-06 0000593 −496553 Down chromosome 6 open reading frame 89 SUSD6 −037933 337E-06 0000593 −496707 Down sushi domain containing 6 STAT6 −0386 346E-06 0000594 −496042 Down signal transducer and activator of transcription 6 SH3D21 −062962 405E-06 0000648 −492115 Down SH3 domain containing 21 FAM214B −036064 372E-06 0000615 −494269 Down family with sequence similarity 214 member B AGPAT1 −037351 397E-06 0000641 −492639 Down 1-acylglycerol-3-phosphate O-acyltransferase 1 CPSF7 −033791 439E-06 000067 −490105 Down cleavage and polyadenylation specific factor 7 EGLN2 −033487 497E-06 000072 −486981 Down egl-9 family hypoxia inducible factor 2 VAMP2 −032282 523E-06 0000738 −485729 Down vesicle associated membrane protein 2 ARHGAP1 −046187 532E-06 0000738 −485289 Down Rho GTPase activating protein 1 CPT2 −030399 625E-06 000082 −481205 Down carnitinepalmitoyltransferase 2 OSCAR −04824 726E-06 0000909 −477404 Down osteoclast associated Ig-like receptor EXTL3 −044258 737E-06 000091 −477025 Down exostosin like glycosyltransferase 3 NOMO2 −058975 827E-06 0000925 −474093 Down NODAL modulator 2 PIK3R5 −028302 801E-06 0000925 −474887 Down phosphoinositide-3-kinase regulatory subunit 5 IGF2R −052404 821E-06 0000925 −474277 Down insulin like growth factor 2 receptor EPHX1 −055423 997E-06 0001014 −46931 Down epoxide hydrolase 1 MAPKAPK2 −029705 855E-06 0000925 −473251 Down MAPK activated protein kinase 2 STAT3 −036483 91E-06 0000967 −471639 Down signal transducer and activator of transcription 3 NPIPB3 −096437 113E-05 0001075 −466109 Down nuclear pore complex interacting protein family member B3 RNF19B −029623 104E-05 0001038 −4681 Down ring finger protein 19B PBX2 −036625 107E-05 0001047 −467424 Down PBX homeobox 2 MTMR3 −030993 116E-05 0001078 −465496 Down myotubularin related protein 3 PI4KB −032556 117E-05 0001078 −465218 Down phosphatidylinositol 4-kinase beta GLYR1 −033045 123E-05 0001111 −463863 Down glyoxylatereductase 1 homolog TK2 −030672 133E-05 0001135 −461837 Down thymidine kinase 2 RAF1 −026209 134E-05 0001139 −461618 Down Raf-1 proto-oncogene serine/threonine kinase PPP1R10 −032024 144E-05 0001195 −459736 Down protein phosphatase 1 regulatory subunit 10 ARRB2 −026361 145E-05 0001195 −459727 Down arrestin beta 2 ATP6V0D1 −039381 145E-05 0001196 −459576 Down ATPase H+ transporting V0 subunit d1 SMAP2 −035835 147E-05 0001201 −459347 Down small ArfGAP2 KDELR1 −034331 153E-05 0001232 −458193 Down KDEL endoplasmic reticulum protein retention receptor 1 ATP6V0A1 −03471 164E-05 000127 −45643 Down ATPase H+ transporting V0 subunit a1 NDST1 −051316 168E-05 0001284 −455772 Down N-deacetylase and N-sulfotransferase 1 SF3A1 −036624 179E-05 0001319 −454121 Down splicing factor 3a subunit 1 TPCN2 −041036 193E-05 0001352 −452153 Down two pore segment channel 2 TAPBP −035224 189E-05 0001335 −452755 Down TAP binding protein TRPC4AP −027784 195E-05 0001354 −451955 Down transient receptor potential cation channel subfamily C member 4 associated protein NDE1 −03477 198E-05 0001369 −451459 Down nudE neurodevelopment protein 1 PIGS −026132 215E-05 0001407 −449392 Down phosphatidylinositol glycan anchor biosynthesis class S TIFAB −067622 229E-05 0001441 −447698 Down TIFA inhibitor DGKG −035931 261E-05 0001504 −444284 Down diacylglycerol kinase gamma CYTH2 −027 265E-05 0001515 −443896 Down cytohesin 2 PDZD3 −11876 223E-05 0001411 −448422 Down PDZ domain containing 3 PXN −040274 28E-05 000157 −442421 Down paxillin MOB3A −038776 299E-05 0001621 −440616 Down MOB kinase activator 3A CHKB −069168 378E-05 0001757 −434418 Down choline kinase beta TMEM121B −058616 36E-05 0001757 −435738 Down transmembrane protein 121B PEAK3 −064308 386E-05 0001766 −433852 Down PEAK family member 3 APOL1 −043281 339E-05 0001712 −43734 Down apolipoprotein L1 IRF1 −027784 351E-05 0001738 −436395 Down interferon regulatory factor 1 MINDY1 −037272 376E-05 0001757 −434574 Down MINDY lysine 48 deubiquitinase 1 RNF24 −038862 38E-05 0001759 −434233 Down ring finger protein 24 PRCC −026648 435E-05 0001845 −430641 Down proline rich mitotic checkpoint control factor BORCS8 −036271 462E-05 0001879 −428997 Down BLOC-1 related complex subunit 8 ITGA5 −035353 434E-05 0001845 −430671 Down integrin subunit alpha 5 SMPD2 −028647 533E-05 0001995 −425178 Down sphingomyelinphosphodiesterase 2 SMARCD1 −033626 511E-05 0001972 −426291 Down SWI/SNF related matrix associated actin dependent regulator of chromatin subfamily d member 1 SIK3 −026974 536E-05 0002002 −425023 Down SIK family kinase 3 C9orf129 −118267 501E-05 0001962 −426853 Down chromosome 9 open reading frame 129 SCAMP5 −060055 719E-05 000225 −417021 Down secretory carrier membrane protein 5 IP6K1 −032228 567E-05 0002052 −423471 Down inositol hexakisphosphate kinase 1 TRANK1 −042013 58E-05 0002073 −422853 Down tetratricopeptide repeat and ankyrin repeat containing 1 PRR14L −029747 619E-05 0002108 −421102 Down proline rich 14 like SETDB1 −028227 625E-05 0002114 −420826 Down SET domain bifurcated histone lysine methyltransferase 1 ZNFX1 −032602 625E-05 0002114 −420844 Down zinc finger NFX1-type containing 1 GSK3A −035215 647E-05 0002126 −419898 Down glycogen synthase kinase 3 alpha GPSM3 −038027 628E-05 0002114 −420685 Down G protein signaling modulator 3 CLN3 −031966 741E-05 0002275 −416164 Down CLN3 lysosomal/endosomaltransmembrane protein battenin CYB561D1 −030277 706E-05 0002224 −417511 Down cytochrome b561 family member D1 GBA2 −026836 706E-05 0002224 −417523 Down glucosylceramidase beta 2 SEC14L1 −031028 706E-05 0002224 −417493 Down SEC14 like lipid binding 1 KCTD2 −028549 752E-05 0002293 −415781 Down potassium channel tetramerization domain containing 2 RGL3 −075662 874E-05 0002495 −411629 Down ral guanine nucleotide dissociation stimulator like 3 DTX4 −040937 903E-05 0002513 −41075 Down deltex E3 ubiquitin ligase 4 CLEC4C −088455 0000102 0002653 −407383 Down C-type lectin domain family 4 member C GTPBP1 −041546 809E-05 0002396 −413758 Down GTP binding protein 1 RNF135 −027712 849E-05 0002457 −412445 Down ring finger protein 135 ASF1B −045437 924E-05 0002521 −410114 Down anti-silencing function 1B histone chaperone ARAP3 −052053 866E-05 0002477 −411882 Down ArfGAP with RhoGAP domain ankyrin repeat and PH domain 3 ST6GALNAC2 −038956 96E-05 0002588 −409059 Down ST6 N-acetylgalactosaminide alpha-26-sialyltransferase 2 VPS37C −03927 0000106 0002705 −40635 Down VPS37C subunit of ESCRT-I TNFRSF1B −032737 96E-05 0002588 −409033 Down TNF receptor superfamily member 1B LY6G5B −041293 0000115 0002866 −403965 Down lymphocyte antigen 6 family member G5B PTAFR −029634 98E-05 0002614 −408471 Down platelet activating factor receptor MYADM −041938 0000102 000266 −407268 Down myeloid associated differentiation marker MBD6 −055341 0000105 0002693 −406584 Down methyl-CpG binding domain protein 6 RETREG2 −02614 0000107 0002723 −406108 Down reticulophagy regulator family member 2 LMBR1L −027058 0000114 0002843 −404291 Down limb development membrane protein 1 like BET1L −032294 0000118 0002909 −403319 Down Bet1 golgi vesicular membrane trafficking protein like SORT1 −034943 0000117 0002904 −403473 Down sortilin 1 MTF1 −029397 0000123 0002957 −402199 Down metal regulatory transcription factor 1 C19orf54 −034173 0000147 0003138 −397225 Down chromosome 19 open reading frame 54 CXCL16 −035275 0000124 0002964 −401814 Down C-X-C motif chemokine ligand 16 RUBCN −03292 0000126 0002975 −401499 Down rubicon autophagy regulator SNX27 −026986 0000124 0002964 −401952 Down sorting nexin 27 RAB11FIP1 −029163 0000123 0002964 −402057 Down RAB11 family interacting protein 1 LGALS9 −03923 0000126 0002975 −401527 Down galectin 9 PTPN18 −027467 0000129 0003 −400738 Down protein tyrosine phosphatase non-receptor type 18 SIRPA −02873 000013 0003 −400656 Down signal regulatory protein alpha CHST15 −027829 0000133 0003031 −399914 Down carbohydrate sulfotransferase 15 UBN1 −038058 0000134 0003031 −399765 Down ubinuclein 1 NCOA6 −032966 0000148 0003154 −39687 Down nuclear receptor coactivator 6 ARSG −027821 000017 0003316 −392992 Down arylsulfatase G EIF3CL −135741 00002 0003608 −388399 Down eukaryotic translation initiation factor 3 subunit C like POLR2A −061547 0000153 0003182 −396085 Down RNA polymerase II subunit A AOC2 −045479 0000182 0003432 −391142 Down amine oxidase copper containing 2 NLRP12 −034542 000016 0003242 −394814 Down NLR family pyrin domain containing 12 SEC24C −030954 0000158 0003221 −395154 Down SEC24 homolog C COPII coat complex component KCNMB1 −040521 0000212 0003705 −386745 Down potassium calcium-activated channel subfamily M regulatory beta subunit 1 SLC48A1 −036957 0000185 0003451 −390712 Down solute carrier family 48 member 1 ZNF592 −030397 000016 0003247 −394689 Down zinc finger protein 592 MEF2D −035897 0000165 0003278 −393885 Down myocyte enhancer factor 2D SLC25A44 −026274 0000166 0003282 −393716 Down solute carrier family 25 member 44 PPCDC −031808 0000179 0003395 −391543 Down phosphopantothenoylcysteine decarboxylase PLEKHO2 −035445 0000175 0003346 −392211 Down pleckstrin homology domain containing O2 PIGO −035859 0000198 0003586 −388709 Down phosphatidylinositol glycan anchor biosynthesis class O ZBTB22 −028471 0000214 000371 −386516 Down zinc finger and BTB domain containing 22 ZSWIM1 −029063 0000229 0003835 −384574 Down zinc finger SWIM-type containing 1 DUSP18 −046032 0000234 0003882 −383938 Down dual specificity phosphatase 18 BAZ2A −041201 0000191 0003523 −389726 Down bromodomain adjacent to zinc finger domain 2A ARRB1 −02686 0000196 0003567 −389016 Down arrestin beta 1 SMG5 −037995 00002 0003608 −388407 Down SMG5 nonsense mediated mRNA decay factor DAP −026058 0000204 0003634 −387917 Down death associated protein RIMS3 −050216 0000274 0004209 −379409 Down regulating synaptic membrane exocytosis 3 WIPF2 −031686 0000214 000371 −386514 Down WAS/WASL interacting protein family member 2 NSD1 −03405 0000219 0003768 −385773 Down nuclear receptor binding SET domain protein 1 VPS53 −037707 000024 0003926 −383213 Down VPS53 subunit of GARP complex RASGRP4 −033615 0000225 000382 −385013 Down RAS guanyl releasing protein 4 FAM168A −026973 0000246 0003969 −382519 Down family with sequence similarity 168 member A ZBTB3 −043164 0000328 0004639 −374095 Down zinc finger and BTB domain containing 3 PHC2 −037839 0000246 0003969 −382531 Down polyhomeotic homolog 2 RGL2 −040321 0000252 0004016 −381807 Down ral guanine nucleotide dissociation stimulator like 2 SPINT1 −042854 000029 0004307 −377766 Down serine peptidase inhibitor Kunitz type 1 CBX7 −028076 0000267 0004169 −380078 Down chromobox 7 ADAM19 −030366 0000284 0004279 −378351 Down ADAM metallopeptidase domain 19 PRR16 −099695 0000343 0004771 −372824 Down proline rich 16 SP110 −027632 000029 0004307 −377759 Down SP110 nuclear body protein SIGLEC14 −05177 0000302 0004436 −376517 Down sialic acid binding Ig like lectin 14 RNPEP −035393 0000304 0004441 −376372 Down arginylaminopeptidase ABAT −030955 0000326 0004625 −374264 Down 4-aminobutyrate aminotransferase ITGAX −051435 0000313 0004529 −375521 Down integrin subunit alpha X ARHGEF11 −037753 0000329 000464 −373998 Down Rho guanine nucleotide exchange factor 11 SLC35F6 −029772 0000368 0004997 −370727 Down solute carrier family 35 member F6 ACP2 −030411 000039 0005185 −369061 Down acid phosphatase 2 lysosomal SYVN1 −03935 0000362 0004927 −371249 Down synoviolin 1 TMEM229B −033641 0000404 0005292 −368022 Down transmembrane protein 229B C7orf26 −029812 0000413 0005347 −367329 Down chromosome 7 open reading frame 26 ALKBH6 −040327 0000526 0006123 −36017 Down alkB homolog 6 MAST3 −042877 0000386 0005167 −369332 Down microtubule associated serine/threonine kinase 3 ADAR −028407 0000388 0005173 −369224 Down adenosine deaminase RNA specific MAP3K3 −026552 0000395 0005231 −368687 Down mitogen-activated protein kinase kinasekinase 3 MFSD14C −051982 0000578 0006457 −357334 Down major facilitator superfamily domain containing 14C PVR −035231 0000528 0006129 −36006 Down PVR cell adhesion molecule STIM1 −032389 0000409 0005319 −367666 Down stromal interaction molecule 1 STK35 −026227 0000425 0005423 −366486 Down serine/threonine kinase 35 PILRA −029576 0000415 0005359 −367194 Down paired immunoglobin like type 2 receptor alpha PRKCD −027159 0000419 0005389 −366952 Down protein kinase C delta PFKFB4 −029916 000043 0005461 −36616 Down 6-phosphofructo-2-kinase/fructose-26-biphosphatase 4 RAB3D −028769 0000427 0005423 −36641 Down RAB3D member RAS oncogene family NAGK −026431 0000445 0005535 −365121 Down N-acetylglucosamine kinase RELL1 −038387 0000562 0006383 −358164 Down RELT like 1 LCNL1 −104762 0000615 0006715 −355463 Down lipocalin like 1 ASPRV1 −051579 0000567 0006394 −357928 Down aspartic peptidase retroviral like 1 TBC1D13 −031201 0000496 0005933 −361904 Down TBC1 domain family member 13 CANT1 −026414 0000469 0005723 −363568 Down calcium activated nucleotidase 1 GPR107 −030509 0000479 0005804 −362991 Down G protein-coupled receptor 107 ATXN1L −028945 0000492 00059 −362183 Down ataxin 1 like CHST14 −031667 0000614 000671 −355538 Down carbohydrate sulfotransferase 14 SIGLEC9 −026149 00005 0005946 −361695 Down sialic acid binding Ig like lectin 9 FLCN −03041 0000527 0006129 −360096 Down folliculin WRAP53 −028624 0000632 0006817 −354662 Down WD repeat containing antisense to TP53 RIPK3 −028326 0000527 0006129 −360102 Down receptor interacting serine/threonine kinase 3 FAM53C −026774 0000505 0005976 −361408 Down family with sequence similarity 53 member C WDFY4 −042866 0000513 0006018 −360918 Down WDFY family member 4 GALNT6 −030319 0000593 0006558 −356589 Down polypeptide N-acetylgalactosaminyltransferase 6 IQCN −059607 0000676 000706 −352611 Down IQ motif containing N KCNIP2 −04831 000077 0007639 −348639 Down potassium voltage-gated channel interacting protein 2 USP22 −028086 0000539 0006218 −359461 Down ubiquitin specific peptidase 22 APOM −036363 00008 0007857 −347507 Down apolipoprotein M MAFF −033734 0000758 0007573 −349137 Down MAF bZIP transcription factor F TNFAIP2 −043598 0000547 0006267 −358999 Down TNF alpha induced protein 2 CRISPLD2 −044839 0000554 0006323 −358616 Down cysteine rich secretory protein LCCL domain containing 2 SMURF1 −028252 0000613 0006707 −355597 Down SMAD specific E3 ubiquitin protein ligase 1 SLC35E2A −065437 0000832 0008038 −346296 Down solute carrier family 35 member E2A ADAMTSL4-AS1 −062083 000084 0008094 −34601 Down ADAMTSL4 antisense RNA 1 C17orf49 −035504 0000843 0008114 −345892 Down chromosome 17 open reading frame 49 MAPK13 −034929 000064 0006828 −354262 Down mitogen-activated protein kinase 13 MAPRE3 −041136 0000774 0007663 −348489 Down microtubule associated protein RP/EB family member 3 RIPOR1 −045424 0000623 000676 −355065 Down RHO family interacting cell polarization regulator 1 EPS15L1 −026529 0000638 0006823 −354359 Down epidermal growth factor receptor pathway substrate 15 like 1 RERE −031584 0000638 0006823 −35437 Down arginine-glutamic acid dipeptide repeats DGLUCY −02802 0000649 0006868 −353869 Down D-glutamate cyclase CSF3R −037028 0000656 0006907 −353531 Down colony stimulating factor 3 receptor HCG27 −041468 0000665 0006981 −353133 Down HLA complex group 27 GNAI2 −031016 0000678 000706 −352531 Down G protein subunit alpha i2 HSH2D −028176 0000684 000711 −352276 Down hematopoietic SH2 domain containing KIAA0513 −037074 0000709 0007246 −35118 Down KIAA0513 SEMA4A −032944 0000725 0007356 −350486 Down semaphorin 4A PLBD2 −042359 0000941 0008696 −342516 Down phospholipase B domain containing 2 LRP10 −035142 0000757 0007571 −349174 Down LDL receptor related protein 10 GATAD2B −029403 0000784 0007727 −348124 Down GATA zinc finger domain containing 2B NICN1 −031258 0000918 0008552 −343258 Down nicolin 1 DIAPH1 −031756 0000808 0007898 −347192 Down diaphanous related formin 1 ITGAL −035006 0000857 0008169 −345376 Down integrin subunit alpha L ZNF784 −032453 0001326 0010881 −331793 Down zinc finger protein 784 ARHGAP9 −032141 0000888 000836 −344285 Down Rho GTPase activating protein 9 WWP2 −03584 0000901 0008438 −343845 Down WW domain containing E3 ubiquitin protein ligase 2 MICALL1 −044326 0001108 0009644 −337439 Down MICAL like 1 TP53 −028135 0000961 0008834 −34185 Down tumor protein p53 WDTC1 −041259 0000934 0008664 −34274 Down WD and tetratricopeptide repeats 1 UBE2C −037342 0001447 0011521 −329045 Down ubiquitin conjugating enzyme E2 C ORAI2 −026578 0000971 0008867 −341533 Down ORAI calcium release-activated calcium modulator 2 TMEM63C −066345 0001471 0011659 −328516 Down transmembrane protein 63C NAPA −030533 000099 0008953 −340941 Down NSF attachment protein alpha SCAMP2 −027934 0000995 0008979 −340775 Down secretory carrier membrane protein 2 PSAP −026071 0001008 0009037 −340361 Down prosaposin ZNF385A −044893 0001055 0009343 −338947 Down zinc finger protein 385A XPO6 −028059 0001023 0009125 −33991 Down exportin 6 TREML2 −029456 0001038 0009222 −339466 Down triggering receptor expressed on myeloid cells like 2 TMEM106A −035251 0001317 0010844 −332008 Down transmembrane protein 106A CNNM4 −030466 0001368 0011101 −330823 Down cyclin and CBS domain divalent metal cation transport mediator 4 ADA2 −032201 0001086 0009543 −338059 Down adenosine deaminase 2 MPEG1 −026839 0001092 0009571 −337885 Down macrophage expressed 1 SLC9A1 −040045 0001164 0009954 −33589 Down solute carrier family 9 member A1 INTS3 −034455 0001156 000991 −336104 Down integrator complex subunit 3 APOBEC3D −030439 0001328 0010888 −331758 Down apolipoprotein B mRNA editing enzyme catalytic subunit 3D ZNF324 −029262 0001606 0012416 −32573 Down zinc finger protein 324 SIDT2 −035226 0001217 0010314 −334508 Down SID1 transmembrane family member 2 TMEM214 −029447 0001256 0010538 −333517 Down transmembrane protein 214 ZNF687 −033153 0001277 0010659 −332985 Down zinc finger protein 687 MFN2 −028625 0001236 001042 −334017 Down mitofusin 2 RAB36 −043526 0001925 0014054 −319916 Down RAB36 member RAS oncogene family PLPPR2 −040458 0001273 0010644 −333082 Down phospholipid phosphatase related 2 DYSF −045611 000128 0010665 −332913 Down dysferlin FIZ1 −028749 0001808 0013394 −321933 Down FLT3 interacting zinc finger 1 STK10 −026283 0001306 0010781 −33227 Down serine/threonine kinase 10 MAML3 −028886 0001556 0012181 −326737 Down mastermind like transcriptional coactivator 3 KSR1 −037381 0001394 0011257 −330217 Down kinase suppressor of ras 1 TRIM62 −030433 0001646 0012623 −32494 Down tripartite motif containing 62 SESN2 −03122 000169 0012795 −324092 Down sestrin 2 MARK2 −031865 000141 0011332 −329873 Down microtubule affinity regulating kinase 2 CDIP1 −031975 000157 0012243 −326456 Down cell death inducing p53 target 1 PAQR6 −061509 0002215 0015442 −315361 Down progestin and adipoQ receptor family member 6 PISD −027421 0001455 0011557 −328858 Down phosphatidylserine decarboxylase TNFSF12 −028316 0001722 0012942 −32349 Down TNF superfamily member 12 MAP11 −031678 0001495 0011825 −32801 Down microtubule associated protein 11 IQCE −031488 0001787 0013302 −322309 Down IQ motif containing E ADGRE5 −039217 0001542 0012114 −327021 Down adhesion G protein-coupled receptor E5 SCAP −032181 0001592 0012352 −326013 Down SREBF chaperone NECTIN1 −04398 0002047 0014673 −317924 Down nectin cell adhesion molecule 1 CDK5RAP3 −034828 0001582 001231 −326209 Down CDK5 regulatory subunit associated protein 3 DAPK2 −030512 0001699 0012832 −323936 Down death associated protein kinase 2 PLAGL2 −027659 0001719 0012929 −323551 Down PLAG1 like zinc finger 2 ZDHHC18 −029438 0001667 0012699 −324539 Down zinc finger DHHC-type containing 18 CD4 −029252 0001675 0012725 −324392 Down CD4 molecule ATG16L2 −047049 0001688 0012792 −324146 Down autophagy related 16 like 2 GBGT1 −030319 0002212 0015431 −315412 Down globoside alpha-13-N-acetylgalactosaminyltransferase 1 (FORS blood group) SKIV2L −032579 0001807 0013394 −32196 Down Ski2 like RNA helicase TTC4 −034101 0003031 0019228 −305037 Down tetratricopeptide repeat domain 4 RAD54L2 −037561 0002087 0014855 −317303 Down RAD54 like 2 PI4K2A −026735 000229 0015792 −314278 Down phosphatidylinositol 4-kinase type 2 alpha JAK3 −030717 0001914 0013982 −320098 Down Janus kinase 3 FLT3 −035297 0002633 0017514 −309708 Down fms related tyrosine kinase 3 RNF31 −033297 0002109 0014969 −316959 Down ring finger protein 31 POMZP3 −04664 0002875 0018477 −306791 Down POM121 and ZP3 fusion LMTK2 −026618 0002202 0015375 −315558 Down lemur tyrosine kinase 2 AOC3 −044883 0002455 0016657 −312003 Down amine oxidase copper containing 3 FANCA −035504 0002422 0016499 −312447 Down FA complementation group A WBP2 −031533 0002039 0014631 −31806 Down WW domain binding protein 2 OGFOD2 −038737 0003433 0020952 −300876 Down 2-oxoglutarate and iron dependent oxygenase domain containing 2 ITIH4 −07173 0003584 0021602 −299422 Down inter-alpha-trypsin inhibitor heavy chain 4 ITGAM −028014 0002099 001493 −317112 Down integrin subunit alpha M CHD8 −028304 0002143 0015097 −316436 Down chromodomain helicase DNA binding protein 8 DENND1A −031755 0002347 0016118 −313479 Down DENN domain containing 1A TRIM41 −026057 000236 0016189 −313294 Down tripartite motif containing 41 NLRP1 −03423 0002242 001557 −314971 Down NLR family pyrin domain containing 1 MMP25 −048039 0002249 001561 −31487 Down matrix metallopeptidase 25 POPDC2 −032941 0003559 0021496 −299664 Down popeye domain containing 2 CPNE9 −066459 0003856 0022604 −296956 Down copine family member 9 LAG3 −046043 0003252 0020199 −302693 Down lymphocyte activating 3 NDRG2 −027747 0003018 0019177 −305186 Down NDRG family member 2 INPP5B −031274 0002511 0016952 −311262 Down inositol polyphosphate-5-phosphatase B BMF −026451 0002523 0017008 −311107 Down Bcl2 modifying factor INPP5D −026393 0002376 0016265 −313076 Down inositol polyphosphate-5-phosphatase D PAPLN −052955 0004162 0023765 −294356 Down papilin proteoglycan like sulfated glycoprotein SLC27A3 −031556 0002609 0017417 −310008 Down solute carrier family 27 member 3 XKR8 −026542 0002565 0017192 −310567 Down XK related 8 DOP1B −026995 0002714 0017839 −308698 Down DOP1 leucine zipper like protein B GMIP −03929 0002527 0017026 −311057 Down GEM interacting protein PNKD −029826 0002802 0018154 −307643 Down PNKD metallo-beta-lactamase domain containing ZNF264 −026952 0003525 0021391 −299983 Down zinc finger protein 264 PLXNA2 −04063 0003836 0022539 −297125 Down plexin A2 TAF8 −030568 000284 0018306 −307201 Down TATA-box binding protein associated factor 8 GYS1 −030134 0002951 0018854 −305932 Down glycogen synthase 1 SLC1A4 −036474 0003534 0021412 −299901 Down solute carrier family 1 member 4 SLC15A3 −028569 0002848 001835 −307109 Down solute carrier family 15 member 3 TLE3 −032824 0002748 0017961 −308292 Down TLE family member 3 transcriptional corepressor SLC16A5 −031497 0003097 001951 −304325 Down solute carrier family 16 member 5 OGDH −032269 0002818 0018207 −307457 Down oxoglutarate dehydrogenase RTN1 −033417 0003191 0019886 −303327 Down reticulon 1 THBS3 −034867 0003237 0020126 −30284 Down thrombospondin 3 BCL3 −036376 0003035 0019247 −304991 Down BCL3 transcription coactivator ADCY4 −036448 0003609 0021672 −299194 Down adenylatecyclase 4 ZNF530 −032785 0004519 0025209 −291541 Down zinc finger protein 530 ZMYND15 −048374 0004583 002545 −29106 Down zinc finger MYND-type containing 15 AMY1B −072088 0005292 0028186 −286091 Down amylase alpha 1B ZNF417 −030434 0003838 0022543 −297107 Down zinc finger protein 417 GTF2IRD2 −03548 0004795 002631 −289503 Down GTF2I repeat domain containing 2 PRSS21 −078843 0005521 002903 −284617 Down serine protease 21 CADM4 −03036 0005273 0028121 −286213 Down cell adhesion molecule 4 HIP1 −045352 0003301 0020406 −302192 Down huntingtin interacting protein 1 STIMATE-MUSTN1 −054123 0005515 0029012 −28465 Down STIMATE-MUSTN1 readthrough KCTD11 −02781 0004312 0024369 −293148 Down potassium channel tetramerization domain containing 11 ZNF70 −057012 0005544 0029142 −284472 Down zinc finger protein 70 HIVEP3 −039006 0004369 0024627 −292696 Down HIVEP zinc finger 3 LOC100129697 −060899 0005981 0030664 −281815 Down uncharacterized LOC100129697 CIITA −043886 0003378 0020711 −301412 Down class II major histocompatibility complex transactivator EPOR −027146 0004472 0025006 −291898 Down erythropoietin receptor SHISA4 −064173 0005489 0028917 −284818 Down shisa family member 4 STIMATE −030689 0006148 0031273 −280846 Down STIM activating enhancer ADAT1 −027445 0004127 0023668 −294646 Down adenosine deaminasetRNA specific 1 TTLL11 −030463 0006288 0031761 −280055 Down tubulin tyrosine ligase like 11 H6PD −040411 000368 0021976 −29853 Down hexose-6-phosphate dehydrogenase/glucose 1-dehydrogenase RAPGEFL1 −046135 0004927 002685 −288567 Down Rap guanine nucleotide exchange factor like 1 TMEM63B −031929 0004159 0023761 −294384 Down transmembrane protein 63B PSPN −032479 0006167 0031326 −280738 Down persephin HLA-DQA1 −105471 0004016 0023213 −295571 Down major histocompatibility complex class II DQ alpha 1 TRAPPC9 −031907 0004124 0023668 −294672 Down trafficking protein particle complex 9 CCNJL −030896 000384 0022544 −297093 Down cyclin J like MAP1A −048755 0005854 0030316 −28257 Down microtubule associated protein 1A PPP1R12B −032586 0003774 0022328 −29768 Down protein phosphatase 1 regulatory subunit 12B DNMBP −036414 0004698 0025936 −29021 Down dynamin binding protein CLEC17A −048511 0005274 0028121 −286207 Down C-type lectin domain containing 17A PACS1 −035178 0003745 0022242 −297938 Down phosphofurin acidic cluster sorting protein 1 TRIM25 −026502 000377 0022316 −297712 Down tripartite motif containing 25 DSP −174666 0007097 0034701 −275765 Down desmoplakin PHF7 −033686 0006229 0031548 −280388 Down PHD finger protein 7 ADGRG3 −036957 0003871 0022639 −296821 Down adhesion G protein-coupled receptor G3 SULT1A2 −076588 0007036 0034482 −276074 Down sulfotransferase family 1A member 2 SPIB −038425 0004951 0026919 −2884 Down Spi-B transcription factor DRICH1 −066714 0007466 0036148 −273956 Down aspartate rich 1 ZNF445 −034371 0004446 0024908 −2921 Down zinc finger protein 445 USP19 −027666 0004041 0023332 −295362 Down ubiquitin specific peptidase 19 STK36 −029142 0005018 0027206 −287931 Down serine/threonine kinase 36 CDKN2A −069258 0007729 0037039 −272716 Down cyclin dependent kinase inhibitor 2A METTL7A −027873 0004291 0024292 −293314 Down methyltransferase like 7A TTLL3 −040446 0004358 0024578 −292787 Down tubulin tyrosine ligase like 3 C19orf84 −073685 0007933 0037785 −271782 Down chromosome 19 open reading frame 84 ARHGAP31 −030623 0005156 002773 −286992 Down Rho GTPase activating protein 31 C2CD2L −026804 0004428 0024824 −29224 Down C2CD2 like PLEKHG3 −035043 000427 0024204 −293484 Down pleckstrin homology and RhoGEF domain containing G3 GBF1 −035336 0004328 002444 −293017 Down golgibrefeldin A resistant guanine nucleotide exchange factor 1 SLC6A16 −036797 0006412 0032156 −279366 Down solute carrier family 6 member 16 VARS2 −038504 0005076 0027413 −287536 Down valyl-tRNAsynthetase 2 mitochondrial PLEKHM1 −031734 0004414 0024784 −292345 Down pleckstrin homology and RUN domain containing M1 SMIM34A −072037 0008217 0038787 −270514 Down small integral membrane protein 34A MARK4 −03283 0005433 0028678 −285174 Down microtubule affinity regulating kinase 4 SLC38A7 −028303 0005751 0029924 −283191 Down solute carrier family 38 member 7 SLC25A35 −02993 0006192 0031428 −280596 Down solute carrier family 25 member 35 VAT1 −027067 0004901 0026728 −288746 Down vesicle amine transport 1 C15orf39 −040438 0004391 0024697 −292529 Down chromosome 15 open reading frame 39 NF2 −028694 0005349 0028401 −28572 Down neurofibromin 2 BSCL2 −026614 0007512 0036312 −273739 Down BSCL2 lipid droplet biogenesis associated seipin VDR −02684 0005304 0028225 −286013 Down vitamin D receptor PADI4 −044486 0004656 0025758 −290517 Down peptidyl arginine deiminase 4 ABCG1 −029576 0005169 0027735 −286904 Down ATP binding cassette subfamily G member 1 ABTB2 −044053 0008044 0038142 −271281 Down ankyrin repeat and BTB domain containing 2 SLC16A13 −028493 0007676 0036885 −272966 Down solute carrier family 16 member 13 FHOD1 −031983 000504 0027298 −287781 Down formin homology 2 domain containing 1 ARID1A −031182 0004979 0027052 −288206 Down AT-rich interaction domain 1A GPR157 −033012 0007318 003555 −274675 Down G protein-coupled receptor 157 DAAM2 −117025 0008639 0040251 −268706 Down dishevelled associated activator of morphogenesis 2 INCA1 −060309 0009868 004423 −263853 Down inhibitor of CDK cyclin A1 interacting protein 1 TIGD3 −0368 0006217 0031506 −280456 Down tigger transposable element derived 3 ENTPD2 −085818 0009711 0043759 −264442 Down ectonucleoside triphosphate diphosphohydrolase 2 ARHGEF5 −039012 0009339 0042517 −26587 Down Rho guanine nucleotide exchange factor 5 PLD2 −028888 0005989 0030695 −281768 Down phospholipase D2 POLR1A −03791 0006226 0031544 −280404 Down RNA polymerase I subunit A KIAA0556 −031343 0005811 0030142 −282826 Down KIAA0556 RAP1GAP2 −032685 0005276 0028122 −286195 Down RAP1 GTPase activating protein 2 ADD1 −026923 0005269 002812 −286242 Down adducin 1 EHBP1L1 −035615 0005468 0028814 −284954 Down EH domain binding protein 1 like 1 FAM160A1 −07446 0010863 0047396 −260316 Down family with sequence similarity 160 member A1 SOGA1 −042952 0007824 0037374 −272278 Down suppressor of glucose autophagy associated 1 TNFRSF21 −061534 001054 0046315 −261431 Down TNF receptor superfamily member 21 NFAM1 −029308 0005706 0029771 −283465 Down NFAT activating protein with ITAM motif 1 CNOT3 −030586 0005959 0030608 −281943 Down CCR4-NOT transcription complex subunit 3 RSKR −056514 0010578 0046421 −261296 Down ribosomal protein S6 kinase related PLXNA4 −050001 0010531 004631 −261461 Down plexin A4 CNTROB −029089 0006896 0033945 −276788 Down centrobin centriole duplication and spindle assembly protein TBC1D10B −026939 0006094 0031079 −281158 Down TBC1 domain family member 10B NOXRED1 −034558 0011102 0048163 −259509 Down NADP dependent oxidoreductase domain containing 1 HYOU1 −030667 0006028 0030859 −281539 Down hypoxia up-regulated 1 SUPT5H −027837 0005938 0030542 −282067 Down SPT5 homolog DSIF elongation factor subunit CLPB −026559 0008773 0040714 −268144 Down ClpB homolog mitochondrial AAA ATPase chaperonin SIGLEC5 −030815 0006387 0032082 −279502 Down sialic acid binding Ig like lectin 5 NCR1 −046793 0008972 0041383 −267332 Down natural cytotoxicity triggering receptor 1 LRRC20 −028981 0010509 0046236 −26154 Down leucine rich repeat containing 20 MAP7D1 −030089 0006066 0030993 −281322 Down MAP7 domain containing 1 GHRL −028653 0008139 0038516 −270858 Down ghrelin and obestatinprepropeptide KDM6B −04334 0006275 0031734 −280128 Down lysine demethylase 6B CCDC17 −032392 0009183 0041985 −266487 Down coiled-coil domain containing 17 U2AF1L4 −026211 0008081 0038264 −271116 Down U2 small nuclear RNA auxiliary factor 1 like 4 CEACAM4 −030283 0006663 0033138 −278007 Down CEA cell adhesion molecule 4 TNS3 −028418 0007707 0036969 −272819 Down tensin 3 ADAP2 −027485 000825 0038875 −270371 Down ArfGAP with dual PH domains 2 NLRX1 −02759 0007971 0037933 −271612 Down NLR family member X1 RABL2A −030042 0009208 0042068 −266386 Down RAB member of RAS oncogene family like 2A PROSER3 −047732 0009247 0042198 −266234 Down proline and serine rich 3 MIDN −029956 0006943 0034146 −276547 Down midnolin DENND4B −031441 0006859 0033811 −276981 Down DENN domain containing 4B SORBS3 −040358 000832 0039149 −270067 Down sorbin and SH3 domain containing 3 PLB1 −036701 0007831 0037384 −272248 Down phospholipase B1 DPEP3 −034095 0009581 0043304 −264937 Down dipeptidase 3 SEMA4B −031138 0007518 0036312 −273711 Down semaphorin 4B WASF2 −028093 0007388 0035832 −274331 Down WASP family member 2 NUCB1 −034217 0007574 0036492 −273442 Down nucleobindin 1 SH3BP2 −028179 0007608 0036623 −273283 Down SH3 domain binding protein 2 P2RX5 −037743 0008788 0040771 −268084 Down purinergic receptor P2X 5 SPN −03575 0007702 0036969 −272842 Down sialophorin KRTCAP2 −027178 0010587 0046448 −261265 Down keratinocyte associated protein 2 MRTFA −032285 0007914 0037715 −27187 Down myocardin related transcription factor A MBOAT7 −029593 0007972 0037933 −271605 Down membrane bound O-acyltransferase domain containing 7 PREX1 −030088 0008158 0038573 −270775 Down phosphatidylinositol-345-trisphosphate dependent Rac exchange factor 1 YLPM1 −028757 0008714 0040515 −268392 Down YLP motif containing 1 STK40 −026465 0008277 0038982 −270252 Down serine/threonine kinase 40 ARHGAP17 −033169 0009266 004223 −266157 Down Rho GTPase activating protein 17 VNN3 −030084 0008574 0040052 −268977 Down vanin 3 SLC9A8 −026299 0008652 0040285 −268649 Down solute carrier family 9 member A8 RPGRIP1 −027294 0010455 0046081 −26173 Down RPGR interacting protein 1 LRRC4 −027126 0009351 0042557 −265825 Down leucine rich repeat containing 4 MAVS −037027 0009896 004429 −263751 Down mitochondrial antiviral signaling protein DENND3 −029167 0008663 0040323 −268605 Down DENN domain containing 3 BAG6 −029939 0008921 0041228 −267539 Down BCL2 associated athanogene 6 STAT2 −03148 0008975 0041387 −267319 Down signal transducer and activator of transcription 2 TAGLN −047191 001024 0045397 −262496 Down transgelin ARHGEF40 −030666 0009153 0041943 −266604 Down Rho guanine nucleotide exchange factor 40 HEATR6 −028169 0011601 0049803 −257873 Down HEAT repeat containing 6 DGAT2 −026818 0009139 0041901 −26666 Down diacylglycerol O-acyltransferase 2 PRKD2 −030467 0009203 0042065 −266408 Down protein kinase D2 AGER −03384 0009421 0042727 −265554 Down advanced glycosylation end-product specific receptor UBA7 −026693 0009299 0042344 −266029 Down ubiquitin like modifier activating enzyme 7 CAMKK1 −029228 0011032 0047934 −259743 Down calcium/calmodulin dependent protein kinase kinase 1 DLGAP4 −029263 0009963 0044477 −263502 Down DLG associated protein 4 REC8 −03437 0010365 004582 −262047 Down REC8 meiotic recombination protein TLN1 −04416 0009401 0042661 −265628 Down talin 1 QSOX1 −028813 0009808 0044044 −264077 Down quiescin sulfhydryl oxidase 1 ZNF692 −027196 0010424 0045995 −26184 Down zinc finger protein 692 CSF1R −029204 000998 0044538 −263442 Down colony stimulating factor 1 receptor ABCC10 −03171 001149 004946 −258231 Down ATP binding cassette subfamily C member 10 ABTB1 −033918 0010031 0044708 −263253 Down ankyrin repeat and BTB domain containing 1 GALNS −02628 0011209 0048514 −259152 Down galactosamine (N-acetyl)-6-sulfatase PRRC2A −042124 0010301 0045643 −262278 Down proline rich coiled-coil 2A SLC11A1 −032785 0010591 0046449 −261254 Down solute carrier family 11 member 1 TEP1 −027091 0011336 0048899 −258735 Down telomerase associated protein 1 P2RX1 −033856 0011621 0049837 −257809 Down purinergic receptor P2X 1 Fig 2 Heat map of differentially expressed genes'"
      ]
     },
     "execution_count": 20,
     "metadata": {},
     "output_type": "execute_result"
    }
   ],
   "source": [
    "s"
   ]
  },
  {
   "cell_type": "code",
   "execution_count": null,
   "metadata": {
    "colab": {
     "base_uri": "https://localhost:8080/"
    },
    "executionInfo": {
     "elapsed": 231,
     "status": "ok",
     "timestamp": 1632753897160,
     "user": {
      "displayName": "伊藤慶",
      "photoUrl": "https://lh3.googleusercontent.com/a/default-user=s64",
      "userId": "07271948982802047026"
     },
     "user_tz": -540
    },
    "id": "yoV4V7_YKSYJ",
    "outputId": "4ee8aa99-8318-4002-c0c9-7ef674bb722a"
   },
   "outputs": [
    {
     "name": "stdout",
     "output_type": "stream",
     "text": [
      "0.9803062677383423\t2021\tPMC8407730\tsra\tncbi\tThe raw sequence reads have been submitted to the NCBI SRA under the accession numbers  SRR13076822  and  SRR13076823 .\t The raw sequence reads have been submitted to the [EXPE] [GENE] under the accession numbers  SRR13076822  and  SRR13076823  \n"
     ]
    }
   ],
   "source": [
    "!tail  ./2109_sentences/Part8_bert_2109.csv -n 1"
   ]
  },
  {
   "cell_type": "code",
   "execution_count": null,
   "metadata": {
    "colab": {
     "base_uri": "https://localhost:8080/"
    },
    "executionInfo": {
     "elapsed": 295,
     "status": "ok",
     "timestamp": 1632718581693,
     "user": {
      "displayName": "伊藤慶",
      "photoUrl": "https://lh3.googleusercontent.com/a/default-user=s64",
      "userId": "07271948982802047026"
     },
     "user_tz": -540
    },
    "id": "jSFLXK8xbFqJ",
    "outputId": "89c9eded-c876-45c5-c44f-d7beedec9268"
   },
   "outputs": [
    {
     "name": "stdout",
     "output_type": "stream",
     "text": [
      "Mon Sep 27 04:56:21 2021       \n",
      "+-----------------------------------------------------------------------------+\n",
      "| NVIDIA-SMI 470.63.01    Driver Version: 460.32.03    CUDA Version: 11.2     |\n",
      "|-------------------------------+----------------------+----------------------+\n",
      "| GPU  Name        Persistence-M| Bus-Id        Disp.A | Volatile Uncorr. ECC |\n",
      "| Fan  Temp  Perf  Pwr:Usage/Cap|         Memory-Usage | GPU-Util  Compute M. |\n",
      "|                               |                      |               MIG M. |\n",
      "|===============================+======================+======================|\n",
      "|   0  Tesla P100-PCIE...  Off  | 00000000:00:04.0 Off |                    0 |\n",
      "| N/A   46C    P0    36W / 250W |   4077MiB / 16280MiB |      0%      Default |\n",
      "|                               |                      |                  N/A |\n",
      "+-------------------------------+----------------------+----------------------+\n",
      "                                                                               \n",
      "+-----------------------------------------------------------------------------+\n",
      "| Processes:                                                                  |\n",
      "|  GPU   GI   CI        PID   Type   Process name                  GPU Memory |\n",
      "|        ID   ID                                                   Usage      |\n",
      "|=============================================================================|\n",
      "|  No running processes found                                                 |\n",
      "+-----------------------------------------------------------------------------+\n"
     ]
    }
   ],
   "source": [
    "!nvidia-smi"
   ]
  },
  {
   "cell_type": "code",
   "execution_count": null,
   "metadata": {
    "colab": {
     "base_uri": "https://localhost:8080/"
    },
    "executionInfo": {
     "elapsed": 267,
     "status": "ok",
     "timestamp": 1632660276041,
     "user": {
      "displayName": "伊藤慶",
      "photoUrl": "https://lh3.googleusercontent.com/a/default-user=s64",
      "userId": "07271948982802047026"
     },
     "user_tz": -540
    },
    "id": "NOf6MNOqIpqR",
    "outputId": "1388f30f-fd2a-4d66-f1a3-808ee44af6d7"
   },
   "outputs": [
    {
     "name": "stdout",
     "output_type": "stream",
     "text": [
      "nvcc: NVIDIA (R) Cuda compiler driver\n",
      "Copyright (c) 2005-2020 NVIDIA Corporation\n",
      "Built on Mon_Oct_12_20:09:46_PDT_2020\n",
      "Cuda compilation tools, release 11.1, V11.1.105\n",
      "Build cuda_11.1.TC455_06.29190527_0\n"
     ]
    }
   ],
   "source": [
    "!nvcc -V"
   ]
  },
  {
   "cell_type": "code",
   "execution_count": null,
   "metadata": {
    "colab": {
     "base_uri": "https://localhost:8080/"
    },
    "executionInfo": {
     "elapsed": 235,
     "status": "ok",
     "timestamp": 1632561636462,
     "user": {
      "displayName": "伊藤慶",
      "photoUrl": "https://lh3.googleusercontent.com/a/default-user=s64",
      "userId": "07271948982802047026"
     },
     "user_tz": -540
    },
    "id": "Jq6s1JFW0jFb",
    "outputId": "03d2d7fa-4184-4f68-ecf6-a190489d244f"
   },
   "outputs": [
    {
     "name": "stdout",
     "output_type": "stream",
     "text": [
      "END!\n"
     ]
    }
   ],
   "source": [
    "print(\"END!\")"
   ]
  },
  {
   "cell_type": "code",
   "execution_count": null,
   "metadata": {
    "colab": {
     "base_uri": "https://localhost:8080/",
     "height": 164
    },
    "executionInfo": {
     "elapsed": 252,
     "status": "error",
     "timestamp": 1632561642888,
     "user": {
      "displayName": "伊藤慶",
      "photoUrl": "https://lh3.googleusercontent.com/a/default-user=s64",
      "userId": "07271948982802047026"
     },
     "user_tz": -540
    },
    "id": "XbC1bAwIxKG-",
    "outputId": "c713ccaf-b1e4-4609-8221-b06d4f7673f0"
   },
   "outputs": [
    {
     "ename": "NameError",
     "evalue": "ignored",
     "output_type": "error",
     "traceback": [
      "\u001b[0;31m---------------------------------------------------------------------------\u001b[0m",
      "\u001b[0;31mNameError\u001b[0m                                 Traceback (most recent call last)",
      "\u001b[0;32m<ipython-input-2-cd653b2c8062>\u001b[0m in \u001b[0;36m<module>\u001b[0;34m()\u001b[0m\n\u001b[0;32m----> 1\u001b[0;31m \u001b[0mplt\u001b[0m\u001b[0;34m\u001b[0m\u001b[0;34m\u001b[0m\u001b[0m\n\u001b[0m",
      "\u001b[0;31mNameError\u001b[0m: name 'plt' is not defined"
     ]
    }
   ],
   "source": [
    "plt"
   ]
  },
  {
   "cell_type": "markdown",
   "metadata": {
    "id": "sfyQyFG-KSmN"
   },
   "source": [
    "#Distanceを加えたもの、大差はない\n"
   ]
  },
  {
   "cell_type": "markdown",
   "metadata": {
    "id": "lreiScS8KPjQ"
   },
   "source": []
  },
  {
   "cell_type": "code",
   "execution_count": null,
   "metadata": {
    "colab": {
     "base_uri": "https://localhost:8080/",
     "height": 282
    },
    "executionInfo": {
     "elapsed": 680,
     "status": "ok",
     "timestamp": 1632272851734,
     "user": {
      "displayName": "伊藤慶",
      "photoUrl": "https://lh3.googleusercontent.com/a/default-user=s64",
      "userId": "07271948982802047026"
     },
     "user_tz": -540
    },
    "id": "Z4WoQEeE-xkI",
    "outputId": "c3807bbb-0ddc-43c7-d971-7a2af3769ae1"
   },
   "outputs": [
    {
     "data": {
      "text/plain": [
       "[<matplotlib.lines.Line2D at 0x7f7c2ed67e50>]"
      ]
     },
     "execution_count": 12,
     "metadata": {},
     "output_type": "execute_result"
    },
    {
     "data": {
      "image/png": "[encoded data removed]",
      "text/plain": [
       "<Figure size 432x288 with 1 Axes>"
      ]
     },
     "metadata": {},
     "output_type": "display_data"
    }
   ],
   "source": [
    "import matplotlib.pyplot as plt\n",
    "plt.plot(losses)\n",
    "plt.plot(val_losses)"
   ]
  },
  {
   "cell_type": "code",
   "execution_count": null,
   "metadata": {
    "id": "5ayVfjX09rar"
   },
   "outputs": [],
   "source": [
    "import torch\n",
    "from torch import nn\n",
    "prec = []\n",
    "reca = []\n",
    "fsco = []\n",
    "def train_num(n,X,y,X_test,y_test,epo=3):\n",
    "  X = X[:n]\n",
    "  y = y[:n]\n",
    "  net = nn.Sequential(\n",
    "    nn.Linear(781,100),\n",
    "    nn.ReLU(),\n",
    "    #nn.Dropout(0.3),\n",
    "    nn.Linear(100,20),    \n",
    "    nn.ReLU(),\n",
    "    #nn.Dropout(0.3),\n",
    "    nn.Linear(20,2)\n",
    "  )\n",
    "  net.cuda()\n",
    "  net.train()\n",
    "  from torch import optim\n",
    "  X_t = torch.tensor(X, dtype=torch.float32).to(device)\n",
    "  y_t = torch.tensor(y, dtype=torch.int64).to(device)\n",
    "  X_t_test = torch.tensor(X_test, dtype=torch.float32).to(device)\n",
    "  y_t_test = torch.tensor(y_test, dtype=torch.int64).to(device)\n",
    "  loss_fn = nn.CrossEntropyLoss()\n",
    "  optimizer = optim.Adam(net.parameters(), weight_decay=0.05,lr=0.001)\n",
    "  from torch.utils.data import TensorDataset, DataLoader\n",
    "  train_data = Mydatasets()\n",
    "  loader=DataLoader(train_data, batch_size=5,shuffle=True)\n",
    "  losses = []\n",
    "  test_losses = []\n",
    "    running_loss = 0\n",
    "    rlt =0\n",
    "    for sent, dist,label in loader:\n",
    "      net.train()\n",
    "      optimizer.zero_grad()\n",
    "      y_pred = net(xx)\n",
    "      loss = loss_fn(y_pred,yy)\n",
    "      loss.backward()\n",
    "      optimizer.step()\n",
    "      running_loss += loss.item()\n",
    "\n",
    "      net.eval()\n",
    "      y_pred = net(X_t)\n",
    "      loss = loss_fn(y_pred, y_t)\n",
    "      losses.append(loss.item())#running_loss)\n",
    "      y_pred = net(X_t_test)\n",
    "      test_loss = loss_fn(y_pred, y_t_test)\n",
    "      #rlt += test_loss.item()\n",
    "      test_losses.append(test_loss.item())\n",
    "    #losses.append(running_loss)\n",
    "    #test_losses.append(rlt)\n",
    "  p = y_pred.detach().cpu()#.numpy()\n",
    "  pt = nn.functional.softmax(p,dim=1).numpy()\n",
    "  p2 = [int(pp[1]> 0.3) for pp in pt]#np.argmax(pt,axis=1)\n",
    "  #p2 = [int(pp[1]>-0.50) for pp in p]\n",
    "  #print(p)\n",
    "  TP = 0\n",
    "  TN = 0\n",
    "  FP = 0\n",
    "  FN = 0\n",
    "  for a in range(len(p)):\n",
    "    if p2[a] == 1 and y_test[a] == 1: TP +=1\n",
    "    if p2[a] == 1 and y_test[a] == 0: FP +=1\n",
    "    if p2[a] == 0 and y_test[a] == 1: \n",
    "      FN +=1\n",
    "     # print(df_dev[\"sentence\"][a])\n",
    "    if p2[a] == 0 and y_test[a] == 0: TN +=1\n",
    "  print(n,\":\",TP,TN,FP,FN)\n",
    "  return TP,TN,FP,FN,losses,test_losses,net\n"
   ]
  },
  {
   "cell_type": "code",
   "execution_count": null,
   "metadata": {
    "colab": {
     "base_uri": "https://localhost:8080/"
    },
    "executionInfo": {
     "elapsed": 619,
     "status": "ok",
     "timestamp": 1633570158586,
     "user": {
      "displayName": "伊藤慶",
      "photoUrl": "https://lh3.googleusercontent.com/a/default-user=s64",
      "userId": "07271948982802047026"
     },
     "user_tz": -540
    },
    "id": "buuryCroXZ3e",
    "outputId": "aeac5423-408d-4226-e461-f343cb484614"
   },
   "outputs": [
    {
     "name": "stdout",
     "output_type": "stream",
     "text": [
      "0.9854140281677246\t2021\tPMC8004084\tvascular endothelial growth factor\tinhibitors\tThe National Comprehensive Cancer Network (NCCN) recommends the use of α-IFN, somatostatin receptor agonists, and vascular endothelial growth factor (VEGF) inhibitors for the treatment of meningioma [ 113 ]; however, efficacy is greatly limited.\t The National Comprehensive Cancer Network (NCCN) recommends the use of α-IFN somatostatin receptor agonists and [GENE] (VEGF) [EXPE] for the treatment of meningioma [ 113 ]; however efficacy is greatly limited \n",
      "0.8172237277030945\t2021\tPMC8004084\tsmo\tinhibitors\tThere are ongoing clinical trials investigating chemotherapeutics that target molecular mutations such as vismodegib and GSK2256098 (NCT02523014), which are inhibitors of SMO and FAK, respectively.\t There are ongoing clinical trials investigating chemotherapeutics that target molecular mutations such as vismodegib and GSK2256098 (NCT02523014) which are [EXPE] of [GENE] and FAK respectively \n",
      "0.6866414546966553\t2021\tPMC8004084\tfak\tinhibitors\tThere are ongoing clinical trials investigating chemotherapeutics that target molecular mutations such as vismodegib and GSK2256098 (NCT02523014), which are inhibitors of SMO and FAK, respectively.\t There are ongoing clinical trials investigating chemotherapeutics that target molecular mutations such as vismodegib and GSK2256098 (NCT02523014) which are [EXPE] of SMO and [GENE] respectively \n",
      "0.586615264415741\t2021\tPMC8004085\thtl\tdatabases\tNext, CTL and HTL epitopes were predicted from polyprotein sequence using various servers and databases.\t Next CTL and [GENE] epitopes were predicted from polyprotein sequence using various servers and [EXPE] \n",
      "0.9406830668449402\t2021\tPMC8004088\ttnc\tcompounds\tHowever, there is no information about the potential bioactive compounds in TNC and their crossbred counterparts.\t However there is no information about the potential bioactive [EXPE] in [GENE] and their crossbred counterparts \n",
      "0.9603918790817261\t2021\tPMC8004090\tmtor\tinhibition\tIt may suggest less intense cellular proliferation in CVD since  TSC2  was evidenced to exert suppressing effect on cell cycle through inhibition of mTOR signaling [ 78 ].\t It may suggest less intense cellular proliferation in CVD since  TSC2  was evidenced to exert suppressing effect on cell cycle through [EXPE] of [GENE] signaling [ 78 ] \n",
      "0.8835429549217224\t2021\tPMC8004092\tapx\tassay\tAn APX (EC 1.11.1.11) activity assay was performed based on the method of Rao et al. [ 45 ] and the absorbance was read at 290 nm.\t An [GENE] (EC 111111) activity [EXPE] was performed based on the method of Rao et al [ 45 ] and the absorbance was read at 290 nm \n",
      "0.972264289855957\t2021\tPMC8004096\tendoglin\timmunofluorescence\tEndoglin (also known as CD105) was first identified by immunofluorescence staining of vascular endothelium [ 10 ].\t [GENE] (also known as CD105) was first identified by [EXPE] staining of vascular endothelium [ 10 ] \n",
      "0.9743684530258179\t2021\tPMC8004096\tendoglin\tstaining\tEndoglin (also known as CD105) was first identified by immunofluorescence staining of vascular endothelium [ 10 ].\t [GENE] (also known as CD105) was first identified by immunofluorescence [EXPE] of vascular endothelium [ 10 ] \n",
      "0.9895986318588257\t2021\tPMC8004096\tcd34\timmunohistochemistry\tImmunohistochemistry (IHC) assays of CD34 and CD31 (pan-endothelial antibodies) have been used to evaluate areas of high vascularization, showing that CD105 overexpression correlates with neovascularization.\t [EXPE] (IHC) assays of [GENE] and CD31 (pan-endothelial antibodies) have been used to evaluate areas of high vascularization showing that CD105 overexpression correlates with neovascularization \n"
     ]
    }
   ],
   "source": [
    "!head 2109_sentences/Part8_bert_2109.csv"
   ]
  },
  {
   "cell_type": "markdown",
   "metadata": {
    "id": "B9AeKu2DXaTS"
   },
   "source": [
    "#カウントするだけ"
   ]
  },
  {
   "cell_type": "code",
   "execution_count": 9,
   "metadata": {
    "colab": {
     "base_uri": "https://localhost:8080/",
     "height": 325,
     "referenced_widgets": [
      "a89b6e8580984c46b2a6e4e085c3a58e",
      "3039c6b812854e03a285ac1fca251e80",
      "4edfd464bd0f44ee8b06252d768f27d5",
      "972dbd45fe7c4fda92a4054f0ec6d0dd",
      "011452f516da4fed94d1af498ec37ce8",
      "2b601eca30554ac5834b37421b519c39",
      "4afef81af5c64e809b526cb88360ce26",
      "df7531faab614836a685d5ae2ce6618f",
      "8eb0638a245347f19d07ba7a5404d8e7",
      "ed65f867c9934e29a49942e999773fe7",
      "c49be13ab57e4dacad58d036a91c3c12"
     ]
    },
    "executionInfo": {
     "elapsed": 866904,
     "status": "ok",
     "timestamp": 1633571358280,
     "user": {
      "displayName": "伊藤慶",
      "photoUrl": "https://lh3.googleusercontent.com/a/default-user=s64",
      "userId": "07271948982802047026"
     },
     "user_tz": -540
    },
    "id": "a9VV8WcNXZ6B",
    "outputId": "4c1a7941-292f-4d90-8b78-7476915b7bcb"
   },
   "outputs": [
    {
     "name": "stderr",
     "output_type": "stream",
     "text": [
      "/usr/local/lib/python3.7/dist-packages/ipykernel_launcher.py:6: TqdmDeprecationWarning: This function will be removed in tqdm==5.0.0\n",
      "Please use `tqdm.notebook.tqdm` instead of `tqdm.tqdm_notebook`\n",
      "  \n"
     ]
    },
    {
     "data": {
      "application/vnd.jupyter.widget-view+json": {
       "model_id": "a89b6e8580984c46b2a6e4e085c3a58e",
       "version_major": 2,
       "version_minor": 0
      },
      "text/plain": [
       "0it [00:00, ?it/s]"
      ]
     },
     "metadata": {},
     "output_type": "display_data"
    },
    {
     "data": {
      "application/vnd.jupyter.widget-view+json": {
       "model_id": "221289e1a4ee4d729dfb4e5a8d09351d",
       "version_major": 2,
       "version_minor": 0
      },
      "text/plain": [
       "0it [00:00, ?it/s]"
      ]
     },
     "metadata": {},
     "output_type": "display_data"
    },
    {
     "data": {
      "application/vnd.jupyter.widget-view+json": {
       "model_id": "e46c6f0e12564ba2953829ec2a92a1e5",
       "version_major": 2,
       "version_minor": 0
      },
      "text/plain": [
       "0it [00:00, ?it/s]"
      ]
     },
     "metadata": {},
     "output_type": "display_data"
    },
    {
     "data": {
      "application/vnd.jupyter.widget-view+json": {
       "model_id": "73fdba7989584b63a6c1fddabe5c7556",
       "version_major": 2,
       "version_minor": 0
      },
      "text/plain": [
       "0it [00:00, ?it/s]"
      ]
     },
     "metadata": {},
     "output_type": "display_data"
    },
    {
     "data": {
      "application/vnd.jupyter.widget-view+json": {
       "model_id": "0d59f4f4307a43f0a1f98c89a2773e17",
       "version_major": 2,
       "version_minor": 0
      },
      "text/plain": [
       "0it [00:00, ?it/s]"
      ]
     },
     "metadata": {},
     "output_type": "display_data"
    },
    {
     "data": {
      "application/vnd.jupyter.widget-view+json": {
       "model_id": "58662d5b4d14443c979c088f7c3f78d5",
       "version_major": 2,
       "version_minor": 0
      },
      "text/plain": [
       "0it [00:00, ?it/s]"
      ]
     },
     "metadata": {},
     "output_type": "display_data"
    },
    {
     "data": {
      "application/vnd.jupyter.widget-view+json": {
       "model_id": "268adcaf30c348cb83cd39f07797a6dc",
       "version_major": 2,
       "version_minor": 0
      },
      "text/plain": [
       "0it [00:00, ?it/s]"
      ]
     },
     "metadata": {},
     "output_type": "display_data"
    },
    {
     "data": {
      "application/vnd.jupyter.widget-view+json": {
       "model_id": "c956912d5d054217bafe237fa6890c81",
       "version_major": 2,
       "version_minor": 0
      },
      "text/plain": [
       "0it [00:00, ?it/s]"
      ]
     },
     "metadata": {},
     "output_type": "display_data"
    }
   ],
   "source": [
    "pmcs = set()\n",
    "n = 0\n",
    "import tqdm\n",
    "for i in range(1,9):\n",
    "  f = open(\"2109_sentences/Part{}_chikan_2109.csv\".format(i),\"r\")\n",
    "  for line in tqdm.tqdm_notebook(f):\n",
    "    ls = line.strip().split(\"\\t\")\n",
    "    pmc  = ls[2]\n",
    "    pmcs.add(pmc)\n",
    "    n += 1"
   ]
  },
  {
   "cell_type": "code",
   "execution_count": 19,
   "metadata": {
    "executionInfo": {
     "elapsed": 283,
     "status": "ok",
     "timestamp": 1633572143459,
     "user": {
      "displayName": "伊藤慶",
      "photoUrl": "https://lh3.googleusercontent.com/a/default-user=s64",
      "userId": "07271948982802047026"
     },
     "user_tz": -540
    },
    "id": "HajPzH_nYZI5"
   },
   "outputs": [],
   "source": [
    "import torch\n",
    "a = torch.tensor([1,1])\n",
    "a = a.cuda()"
   ]
  },
  {
   "cell_type": "code",
   "execution_count": 20,
   "metadata": {
    "colab": {
     "base_uri": "https://localhost:8080/"
    },
    "executionInfo": {
     "elapsed": 238,
     "status": "ok",
     "timestamp": 1633572145105,
     "user": {
      "displayName": "伊藤慶",
      "photoUrl": "https://lh3.googleusercontent.com/a/default-user=s64",
      "userId": "07271948982802047026"
     },
     "user_tz": -540
    },
    "id": "nOdcZS7dfDJM",
    "outputId": "da578360-ce67-4f92-d3a3-afa1535efa19"
   },
   "outputs": [
    {
     "data": {
      "text/plain": [
       "device(type='cuda', index=0)"
      ]
     },
     "execution_count": 20,
     "metadata": {},
     "output_type": "execute_result"
    }
   ],
   "source": [
    "a.device"
   ]
  },
  {
   "cell_type": "markdown",
   "metadata": {
    "id": "fgk2ts469rvK"
   },
   "source": [
    "#この下は仮"
   ]
  },
  {
   "cell_type": "code",
   "execution_count": null,
   "metadata": {
    "colab": {
     "base_uri": "https://localhost:8080/",
     "height": 375
    },
    "executionInfo": {
     "elapsed": 8083,
     "status": "error",
     "timestamp": 1632105055928,
     "user": {
      "displayName": "伊藤慶",
      "photoUrl": "https://lh3.googleusercontent.com/a/default-user=s64",
      "userId": "07271948982802047026"
     },
     "user_tz": -540
    },
    "id": "TFVhDKA6gEZG",
    "outputId": "3e0e714c-4743-4a07-bcee-d41e9acfdbfc"
   },
   "outputs": [
    {
     "ename": "RuntimeError",
     "evalue": "ignored",
     "output_type": "error",
     "traceback": [
      "\u001b[0;31m---------------------------------------------------------------------------\u001b[0m",
      "\u001b[0;31mRuntimeError\u001b[0m                              Traceback (most recent call last)",
      "\u001b[0;32m<ipython-input-36-297fc1b6e2aa>\u001b[0m in \u001b[0;36m<module>\u001b[0;34m()\u001b[0m\n\u001b[1;32m      5\u001b[0m   \u001b[0md\u001b[0m \u001b[0;34m=\u001b[0m \u001b[0mdf\u001b[0m\u001b[0;34m[\u001b[0m\u001b[0;34m\"dist\"\u001b[0m\u001b[0;34m]\u001b[0m\u001b[0;34m.\u001b[0m\u001b[0mtolist\u001b[0m\u001b[0;34m(\u001b[0m\u001b[0;34m)\u001b[0m\u001b[0;34m[\u001b[0m\u001b[0mn\u001b[0m\u001b[0;34m]\u001b[0m\u001b[0;34m\u001b[0m\u001b[0;34m\u001b[0m\u001b[0m\n\u001b[1;32m      6\u001b[0m   \u001b[0;31m#t = sent_to_emb2(sent)\u001b[0m\u001b[0;34m\u001b[0m\u001b[0;34m\u001b[0m\u001b[0;34m\u001b[0m\u001b[0m\n\u001b[0;32m----> 7\u001b[0;31m   \u001b[0mtens\u001b[0m \u001b[0;34m=\u001b[0m \u001b[0msent_to_emb3\u001b[0m\u001b[0;34m(\u001b[0m\u001b[0msent\u001b[0m\u001b[0;34m)\u001b[0m\u001b[0;34m.\u001b[0m\u001b[0mto\u001b[0m\u001b[0;34m(\u001b[0m\u001b[0;34m\"cpu\"\u001b[0m\u001b[0;34m)\u001b[0m\u001b[0;31m#torch.Tensor\u001b[0m\u001b[0;34m\u001b[0m\u001b[0;34m\u001b[0m\u001b[0m\n\u001b[0m\u001b[1;32m      8\u001b[0m   \u001b[0;31m#t = t[0].tolist()\u001b[0m\u001b[0;34m\u001b[0m\u001b[0;34m\u001b[0m\u001b[0;34m\u001b[0m\u001b[0m\n\u001b[1;32m      9\u001b[0m   \u001b[0mt\u001b[0m \u001b[0;34m=\u001b[0m \u001b[0;34m[\u001b[0m\u001b[0;36m0\u001b[0m\u001b[0;34m]\u001b[0m\u001b[0;34m*\u001b[0m\u001b[0;36m13\u001b[0m\u001b[0;34m\u001b[0m\u001b[0;34m\u001b[0m\u001b[0m\n",
      "\u001b[0;32m<ipython-input-35-c295d7892eb3>\u001b[0m in \u001b[0;36msent_to_emb3\u001b[0;34m(sent)\u001b[0m\n\u001b[1;32m      6\u001b[0m                         add_special_tokens = True)\n\u001b[1;32m      7\u001b[0m   \u001b[0mtokens_tensor\u001b[0m \u001b[0;34m=\u001b[0m \u001b[0mtorch\u001b[0m\u001b[0;34m.\u001b[0m\u001b[0mtensor\u001b[0m\u001b[0;34m(\u001b[0m\u001b[0;34m[\u001b[0m\u001b[0mindexed_tokens\u001b[0m\u001b[0;34m]\u001b[0m\u001b[0;34m)\u001b[0m\u001b[0;34m\u001b[0m\u001b[0;34m\u001b[0m\u001b[0m\n\u001b[0;32m----> 8\u001b[0;31m   \u001b[0mall_encoder_layers\u001b[0m \u001b[0;34m=\u001b[0m \u001b[0mmodel\u001b[0m\u001b[0;34m(\u001b[0m\u001b[0mtokens_tensor\u001b[0m\u001b[0;34m.\u001b[0m\u001b[0mto\u001b[0m\u001b[0;34m(\u001b[0m\u001b[0mdevice\u001b[0m\u001b[0;34m)\u001b[0m\u001b[0;34m)\u001b[0m\u001b[0;34m\u001b[0m\u001b[0;34m\u001b[0m\u001b[0m\n\u001b[0m\u001b[1;32m      9\u001b[0m   \u001b[0membedding\u001b[0m \u001b[0;34m=\u001b[0m \u001b[0mall_encoder_layers\u001b[0m\u001b[0;34m[\u001b[0m\u001b[0;36m1\u001b[0m\u001b[0;34m]\u001b[0m\u001b[0;34m[\u001b[0m\u001b[0;34m-\u001b[0m\u001b[0;36m1\u001b[0m\u001b[0;34m]\u001b[0m\u001b[0;34m[\u001b[0m\u001b[0;36m0\u001b[0m\u001b[0;34m]\u001b[0m\u001b[0;34m.\u001b[0m\u001b[0mto\u001b[0m\u001b[0;34m(\u001b[0m\u001b[0;34m\"cpu\"\u001b[0m\u001b[0;34m)\u001b[0m\u001b[0;34m\u001b[0m\u001b[0;34m\u001b[0m\u001b[0m\n\u001b[1;32m     10\u001b[0m   \u001b[0mt\u001b[0m \u001b[0;34m=\u001b[0m \u001b[0mtorch\u001b[0m\u001b[0;34m.\u001b[0m\u001b[0mmean\u001b[0m\u001b[0;34m(\u001b[0m\u001b[0membedding\u001b[0m\u001b[0;34m,\u001b[0m\u001b[0maxis\u001b[0m\u001b[0;34m=\u001b[0m\u001b[0;36m0\u001b[0m\u001b[0;34m)\u001b[0m\u001b[0;31m#.cpu().numpy()[0]\u001b[0m\u001b[0;34m\u001b[0m\u001b[0;34m\u001b[0m\u001b[0m\n",
      "\u001b[0;32m/usr/local/lib/python3.7/dist-packages/torch/nn/modules/module.py\u001b[0m in \u001b[0;36m_call_impl\u001b[0;34m(self, *input, **kwargs)\u001b[0m\n\u001b[1;32m   1049\u001b[0m         if not (self._backward_hooks or self._forward_hooks or self._forward_pre_hooks or _global_backward_hooks\n\u001b[1;32m   1050\u001b[0m                 or _global_forward_hooks or _global_forward_pre_hooks):\n\u001b[0;32m-> 1051\u001b[0;31m             \u001b[0;32mreturn\u001b[0m \u001b[0mforward_call\u001b[0m\u001b[0;34m(\u001b[0m\u001b[0;34m*\u001b[0m\u001b[0minput\u001b[0m\u001b[0;34m,\u001b[0m \u001b[0;34m**\u001b[0m\u001b[0mkwargs\u001b[0m\u001b[0;34m)\u001b[0m\u001b[0;34m\u001b[0m\u001b[0;34m\u001b[0m\u001b[0m\n\u001b[0m\u001b[1;32m   1052\u001b[0m         \u001b[0;31m# Do not call functions when jit is used\u001b[0m\u001b[0;34m\u001b[0m\u001b[0;34m\u001b[0m\u001b[0;34m\u001b[0m\u001b[0m\n\u001b[1;32m   1053\u001b[0m         \u001b[0mfull_backward_hooks\u001b[0m\u001b[0;34m,\u001b[0m \u001b[0mnon_full_backward_hooks\u001b[0m \u001b[0;34m=\u001b[0m \u001b[0;34m[\u001b[0m\u001b[0;34m]\u001b[0m\u001b[0;34m,\u001b[0m \u001b[0;34m[\u001b[0m\u001b[0;34m]\u001b[0m\u001b[0;34m\u001b[0m\u001b[0;34m\u001b[0m\u001b[0m\n",
      "\u001b[0;32m/usr/local/lib/python3.7/dist-packages/transformers/models/bert/modeling_bert.py\u001b[0m in \u001b[0;36mforward\u001b[0;34m(self, input_ids, attention_mask, token_type_ids, position_ids, head_mask, inputs_embeds, labels, output_attentions, output_hidden_states, return_dict)\u001b[0m\n\u001b[1;32m   1531\u001b[0m             \u001b[0moutput_attentions\u001b[0m\u001b[0;34m=\u001b[0m\u001b[0moutput_attentions\u001b[0m\u001b[0;34m,\u001b[0m\u001b[0;34m\u001b[0m\u001b[0;34m\u001b[0m\u001b[0m\n\u001b[1;32m   1532\u001b[0m             \u001b[0moutput_hidden_states\u001b[0m\u001b[0;34m=\u001b[0m\u001b[0moutput_hidden_states\u001b[0m\u001b[0;34m,\u001b[0m\u001b[0;34m\u001b[0m\u001b[0;34m\u001b[0m\u001b[0m\n\u001b[0;32m-> 1533\u001b[0;31m             \u001b[0mreturn_dict\u001b[0m\u001b[0;34m=\u001b[0m\u001b[0mreturn_dict\u001b[0m\u001b[0;34m,\u001b[0m\u001b[0;34m\u001b[0m\u001b[0;34m\u001b[0m\u001b[0m\n\u001b[0m\u001b[1;32m   1534\u001b[0m         )\n\u001b[1;32m   1535\u001b[0m \u001b[0;34m\u001b[0m\u001b[0m\n",
      "\u001b[0;32m/usr/local/lib/python3.7/dist-packages/torch/nn/modules/module.py\u001b[0m in \u001b[0;36m_call_impl\u001b[0;34m(self, *input, **kwargs)\u001b[0m\n\u001b[1;32m   1049\u001b[0m         if not (self._backward_hooks or self._forward_hooks or self._forward_pre_hooks or _global_backward_hooks\n\u001b[1;32m   1050\u001b[0m                 or _global_forward_hooks or _global_forward_pre_hooks):\n\u001b[0;32m-> 1051\u001b[0;31m             \u001b[0;32mreturn\u001b[0m \u001b[0mforward_call\u001b[0m\u001b[0;34m(\u001b[0m\u001b[0;34m*\u001b[0m\u001b[0minput\u001b[0m\u001b[0;34m,\u001b[0m \u001b[0;34m**\u001b[0m\u001b[0mkwargs\u001b[0m\u001b[0;34m)\u001b[0m\u001b[0;34m\u001b[0m\u001b[0;34m\u001b[0m\u001b[0m\n\u001b[0m\u001b[1;32m   1052\u001b[0m         \u001b[0;31m# Do not call functions when jit is used\u001b[0m\u001b[0;34m\u001b[0m\u001b[0;34m\u001b[0m\u001b[0;34m\u001b[0m\u001b[0m\n\u001b[1;32m   1053\u001b[0m         \u001b[0mfull_backward_hooks\u001b[0m\u001b[0;34m,\u001b[0m \u001b[0mnon_full_backward_hooks\u001b[0m \u001b[0;34m=\u001b[0m \u001b[0;34m[\u001b[0m\u001b[0;34m]\u001b[0m\u001b[0;34m,\u001b[0m \u001b[0;34m[\u001b[0m\u001b[0;34m]\u001b[0m\u001b[0;34m\u001b[0m\u001b[0;34m\u001b[0m\u001b[0m\n",
      "\u001b[0;32m/usr/local/lib/python3.7/dist-packages/transformers/models/bert/modeling_bert.py\u001b[0m in \u001b[0;36mforward\u001b[0;34m(self, input_ids, attention_mask, token_type_ids, position_ids, head_mask, inputs_embeds, encoder_hidden_states, encoder_attention_mask, past_key_values, use_cache, output_attentions, output_hidden_states, return_dict)\u001b[0m\n\u001b[1;32m    998\u001b[0m             \u001b[0moutput_attentions\u001b[0m\u001b[0;34m=\u001b[0m\u001b[0moutput_attentions\u001b[0m\u001b[0;34m,\u001b[0m\u001b[0;34m\u001b[0m\u001b[0;34m\u001b[0m\u001b[0m\n\u001b[1;32m    999\u001b[0m             \u001b[0moutput_hidden_states\u001b[0m\u001b[0;34m=\u001b[0m\u001b[0moutput_hidden_states\u001b[0m\u001b[0;34m,\u001b[0m\u001b[0;34m\u001b[0m\u001b[0;34m\u001b[0m\u001b[0m\n\u001b[0;32m-> 1000\u001b[0;31m             \u001b[0mreturn_dict\u001b[0m\u001b[0;34m=\u001b[0m\u001b[0mreturn_dict\u001b[0m\u001b[0;34m,\u001b[0m\u001b[0;34m\u001b[0m\u001b[0;34m\u001b[0m\u001b[0m\n\u001b[0m\u001b[1;32m   1001\u001b[0m         )\n\u001b[1;32m   1002\u001b[0m         \u001b[0msequence_output\u001b[0m \u001b[0;34m=\u001b[0m \u001b[0mencoder_outputs\u001b[0m\u001b[0;34m[\u001b[0m\u001b[0;36m0\u001b[0m\u001b[0;34m]\u001b[0m\u001b[0;34m\u001b[0m\u001b[0;34m\u001b[0m\u001b[0m\n",
      "\u001b[0;32m/usr/local/lib/python3.7/dist-packages/torch/nn/modules/module.py\u001b[0m in \u001b[0;36m_call_impl\u001b[0;34m(self, *input, **kwargs)\u001b[0m\n\u001b[1;32m   1049\u001b[0m         if not (self._backward_hooks or self._forward_hooks or self._forward_pre_hooks or _global_backward_hooks\n\u001b[1;32m   1050\u001b[0m                 or _global_forward_hooks or _global_forward_pre_hooks):\n\u001b[0;32m-> 1051\u001b[0;31m             \u001b[0;32mreturn\u001b[0m \u001b[0mforward_call\u001b[0m\u001b[0;34m(\u001b[0m\u001b[0;34m*\u001b[0m\u001b[0minput\u001b[0m\u001b[0;34m,\u001b[0m \u001b[0;34m**\u001b[0m\u001b[0mkwargs\u001b[0m\u001b[0;34m)\u001b[0m\u001b[0;34m\u001b[0m\u001b[0;34m\u001b[0m\u001b[0m\n\u001b[0m\u001b[1;32m   1052\u001b[0m         \u001b[0;31m# Do not call functions when jit is used\u001b[0m\u001b[0;34m\u001b[0m\u001b[0;34m\u001b[0m\u001b[0;34m\u001b[0m\u001b[0m\n\u001b[1;32m   1053\u001b[0m         \u001b[0mfull_backward_hooks\u001b[0m\u001b[0;34m,\u001b[0m \u001b[0mnon_full_backward_hooks\u001b[0m \u001b[0;34m=\u001b[0m \u001b[0;34m[\u001b[0m\u001b[0;34m]\u001b[0m\u001b[0;34m,\u001b[0m \u001b[0;34m[\u001b[0m\u001b[0;34m]\u001b[0m\u001b[0;34m\u001b[0m\u001b[0;34m\u001b[0m\u001b[0m\n",
      "\u001b[0;32m/usr/local/lib/python3.7/dist-packages/transformers/models/bert/modeling_bert.py\u001b[0m in \u001b[0;36mforward\u001b[0;34m(self, hidden_states, attention_mask, head_mask, encoder_hidden_states, encoder_attention_mask, past_key_values, use_cache, output_attentions, output_hidden_states, return_dict)\u001b[0m\n\u001b[1;32m    587\u001b[0m                     \u001b[0mencoder_attention_mask\u001b[0m\u001b[0;34m,\u001b[0m\u001b[0;34m\u001b[0m\u001b[0;34m\u001b[0m\u001b[0m\n\u001b[1;32m    588\u001b[0m                     \u001b[0mpast_key_value\u001b[0m\u001b[0;34m,\u001b[0m\u001b[0;34m\u001b[0m\u001b[0;34m\u001b[0m\u001b[0m\n\u001b[0;32m--> 589\u001b[0;31m                     \u001b[0moutput_attentions\u001b[0m\u001b[0;34m,\u001b[0m\u001b[0;34m\u001b[0m\u001b[0;34m\u001b[0m\u001b[0m\n\u001b[0m\u001b[1;32m    590\u001b[0m                 )\n\u001b[1;32m    591\u001b[0m \u001b[0;34m\u001b[0m\u001b[0m\n",
      "\u001b[0;32m/usr/local/lib/python3.7/dist-packages/torch/nn/modules/module.py\u001b[0m in \u001b[0;36m_call_impl\u001b[0;34m(self, *input, **kwargs)\u001b[0m\n\u001b[1;32m   1049\u001b[0m         if not (self._backward_hooks or self._forward_hooks or self._forward_pre_hooks or _global_backward_hooks\n\u001b[1;32m   1050\u001b[0m                 or _global_forward_hooks or _global_forward_pre_hooks):\n\u001b[0;32m-> 1051\u001b[0;31m             \u001b[0;32mreturn\u001b[0m \u001b[0mforward_call\u001b[0m\u001b[0;34m(\u001b[0m\u001b[0;34m*\u001b[0m\u001b[0minput\u001b[0m\u001b[0;34m,\u001b[0m \u001b[0;34m**\u001b[0m\u001b[0mkwargs\u001b[0m\u001b[0;34m)\u001b[0m\u001b[0;34m\u001b[0m\u001b[0;34m\u001b[0m\u001b[0m\n\u001b[0m\u001b[1;32m   1052\u001b[0m         \u001b[0;31m# Do not call functions when jit is used\u001b[0m\u001b[0;34m\u001b[0m\u001b[0;34m\u001b[0m\u001b[0;34m\u001b[0m\u001b[0m\n\u001b[1;32m   1053\u001b[0m         \u001b[0mfull_backward_hooks\u001b[0m\u001b[0;34m,\u001b[0m \u001b[0mnon_full_backward_hooks\u001b[0m \u001b[0;34m=\u001b[0m \u001b[0;34m[\u001b[0m\u001b[0;34m]\u001b[0m\u001b[0;34m,\u001b[0m \u001b[0;34m[\u001b[0m\u001b[0;34m]\u001b[0m\u001b[0;34m\u001b[0m\u001b[0;34m\u001b[0m\u001b[0m\n",
      "\u001b[0;32m/usr/local/lib/python3.7/dist-packages/transformers/models/bert/modeling_bert.py\u001b[0m in \u001b[0;36mforward\u001b[0;34m(self, hidden_states, attention_mask, head_mask, encoder_hidden_states, encoder_attention_mask, past_key_value, output_attentions)\u001b[0m\n\u001b[1;32m    473\u001b[0m             \u001b[0mhead_mask\u001b[0m\u001b[0;34m,\u001b[0m\u001b[0;34m\u001b[0m\u001b[0;34m\u001b[0m\u001b[0m\n\u001b[1;32m    474\u001b[0m             \u001b[0moutput_attentions\u001b[0m\u001b[0;34m=\u001b[0m\u001b[0moutput_attentions\u001b[0m\u001b[0;34m,\u001b[0m\u001b[0;34m\u001b[0m\u001b[0;34m\u001b[0m\u001b[0m\n\u001b[0;32m--> 475\u001b[0;31m             \u001b[0mpast_key_value\u001b[0m\u001b[0;34m=\u001b[0m\u001b[0mself_attn_past_key_value\u001b[0m\u001b[0;34m,\u001b[0m\u001b[0;34m\u001b[0m\u001b[0;34m\u001b[0m\u001b[0m\n\u001b[0m\u001b[1;32m    476\u001b[0m         )\n\u001b[1;32m    477\u001b[0m         \u001b[0mattention_output\u001b[0m \u001b[0;34m=\u001b[0m \u001b[0mself_attention_outputs\u001b[0m\u001b[0;34m[\u001b[0m\u001b[0;36m0\u001b[0m\u001b[0;34m]\u001b[0m\u001b[0;34m\u001b[0m\u001b[0;34m\u001b[0m\u001b[0m\n",
      "\u001b[0;32m/usr/local/lib/python3.7/dist-packages/torch/nn/modules/module.py\u001b[0m in \u001b[0;36m_call_impl\u001b[0;34m(self, *input, **kwargs)\u001b[0m\n\u001b[1;32m   1049\u001b[0m         if not (self._backward_hooks or self._forward_hooks or self._forward_pre_hooks or _global_backward_hooks\n\u001b[1;32m   1050\u001b[0m                 or _global_forward_hooks or _global_forward_pre_hooks):\n\u001b[0;32m-> 1051\u001b[0;31m             \u001b[0;32mreturn\u001b[0m \u001b[0mforward_call\u001b[0m\u001b[0;34m(\u001b[0m\u001b[0;34m*\u001b[0m\u001b[0minput\u001b[0m\u001b[0;34m,\u001b[0m \u001b[0;34m**\u001b[0m\u001b[0mkwargs\u001b[0m\u001b[0;34m)\u001b[0m\u001b[0;34m\u001b[0m\u001b[0;34m\u001b[0m\u001b[0m\n\u001b[0m\u001b[1;32m   1052\u001b[0m         \u001b[0;31m# Do not call functions when jit is used\u001b[0m\u001b[0;34m\u001b[0m\u001b[0;34m\u001b[0m\u001b[0;34m\u001b[0m\u001b[0m\n\u001b[1;32m   1053\u001b[0m         \u001b[0mfull_backward_hooks\u001b[0m\u001b[0;34m,\u001b[0m \u001b[0mnon_full_backward_hooks\u001b[0m \u001b[0;34m=\u001b[0m \u001b[0;34m[\u001b[0m\u001b[0;34m]\u001b[0m\u001b[0;34m,\u001b[0m \u001b[0;34m[\u001b[0m\u001b[0;34m]\u001b[0m\u001b[0;34m\u001b[0m\u001b[0;34m\u001b[0m\u001b[0m\n",
      "\u001b[0;32m/usr/local/lib/python3.7/dist-packages/transformers/models/bert/modeling_bert.py\u001b[0m in \u001b[0;36mforward\u001b[0;34m(self, hidden_states, attention_mask, head_mask, encoder_hidden_states, encoder_attention_mask, past_key_value, output_attentions)\u001b[0m\n\u001b[1;32m    406\u001b[0m             \u001b[0mencoder_attention_mask\u001b[0m\u001b[0;34m,\u001b[0m\u001b[0;34m\u001b[0m\u001b[0;34m\u001b[0m\u001b[0m\n\u001b[1;32m    407\u001b[0m             \u001b[0mpast_key_value\u001b[0m\u001b[0;34m,\u001b[0m\u001b[0;34m\u001b[0m\u001b[0;34m\u001b[0m\u001b[0m\n\u001b[0;32m--> 408\u001b[0;31m             \u001b[0moutput_attentions\u001b[0m\u001b[0;34m,\u001b[0m\u001b[0;34m\u001b[0m\u001b[0;34m\u001b[0m\u001b[0m\n\u001b[0m\u001b[1;32m    409\u001b[0m         )\n\u001b[1;32m    410\u001b[0m         \u001b[0mattention_output\u001b[0m \u001b[0;34m=\u001b[0m \u001b[0mself\u001b[0m\u001b[0;34m.\u001b[0m\u001b[0moutput\u001b[0m\u001b[0;34m(\u001b[0m\u001b[0mself_outputs\u001b[0m\u001b[0;34m[\u001b[0m\u001b[0;36m0\u001b[0m\u001b[0;34m]\u001b[0m\u001b[0;34m,\u001b[0m \u001b[0mhidden_states\u001b[0m\u001b[0;34m)\u001b[0m\u001b[0;34m\u001b[0m\u001b[0;34m\u001b[0m\u001b[0m\n",
      "\u001b[0;32m/usr/local/lib/python3.7/dist-packages/torch/nn/modules/module.py\u001b[0m in \u001b[0;36m_call_impl\u001b[0;34m(self, *input, **kwargs)\u001b[0m\n\u001b[1;32m   1049\u001b[0m         if not (self._backward_hooks or self._forward_hooks or self._forward_pre_hooks or _global_backward_hooks\n\u001b[1;32m   1050\u001b[0m                 or _global_forward_hooks or _global_forward_pre_hooks):\n\u001b[0;32m-> 1051\u001b[0;31m             \u001b[0;32mreturn\u001b[0m \u001b[0mforward_call\u001b[0m\u001b[0;34m(\u001b[0m\u001b[0;34m*\u001b[0m\u001b[0minput\u001b[0m\u001b[0;34m,\u001b[0m \u001b[0;34m**\u001b[0m\u001b[0mkwargs\u001b[0m\u001b[0;34m)\u001b[0m\u001b[0;34m\u001b[0m\u001b[0;34m\u001b[0m\u001b[0m\n\u001b[0m\u001b[1;32m   1052\u001b[0m         \u001b[0;31m# Do not call functions when jit is used\u001b[0m\u001b[0;34m\u001b[0m\u001b[0;34m\u001b[0m\u001b[0;34m\u001b[0m\u001b[0m\n\u001b[1;32m   1053\u001b[0m         \u001b[0mfull_backward_hooks\u001b[0m\u001b[0;34m,\u001b[0m \u001b[0mnon_full_backward_hooks\u001b[0m \u001b[0;34m=\u001b[0m \u001b[0;34m[\u001b[0m\u001b[0;34m]\u001b[0m\u001b[0;34m,\u001b[0m \u001b[0;34m[\u001b[0m\u001b[0;34m]\u001b[0m\u001b[0;34m\u001b[0m\u001b[0;34m\u001b[0m\u001b[0m\n",
      "\u001b[0;32m/usr/local/lib/python3.7/dist-packages/transformers/models/bert/modeling_bert.py\u001b[0m in \u001b[0;36mforward\u001b[0;34m(self, hidden_states, attention_mask, head_mask, encoder_hidden_states, encoder_attention_mask, past_key_value, output_attentions)\u001b[0m\n\u001b[1;32m    288\u001b[0m         \u001b[0;32melse\u001b[0m\u001b[0;34m:\u001b[0m\u001b[0;34m\u001b[0m\u001b[0;34m\u001b[0m\u001b[0m\n\u001b[1;32m    289\u001b[0m             \u001b[0mkey_layer\u001b[0m \u001b[0;34m=\u001b[0m \u001b[0mself\u001b[0m\u001b[0;34m.\u001b[0m\u001b[0mtranspose_for_scores\u001b[0m\u001b[0;34m(\u001b[0m\u001b[0mself\u001b[0m\u001b[0;34m.\u001b[0m\u001b[0mkey\u001b[0m\u001b[0;34m(\u001b[0m\u001b[0mhidden_states\u001b[0m\u001b[0;34m)\u001b[0m\u001b[0;34m)\u001b[0m\u001b[0;34m\u001b[0m\u001b[0;34m\u001b[0m\u001b[0m\n\u001b[0;32m--> 290\u001b[0;31m             \u001b[0mvalue_layer\u001b[0m \u001b[0;34m=\u001b[0m \u001b[0mself\u001b[0m\u001b[0;34m.\u001b[0m\u001b[0mtranspose_for_scores\u001b[0m\u001b[0;34m(\u001b[0m\u001b[0mself\u001b[0m\u001b[0;34m.\u001b[0m\u001b[0mvalue\u001b[0m\u001b[0;34m(\u001b[0m\u001b[0mhidden_states\u001b[0m\u001b[0;34m)\u001b[0m\u001b[0;34m)\u001b[0m\u001b[0;34m\u001b[0m\u001b[0;34m\u001b[0m\u001b[0m\n\u001b[0m\u001b[1;32m    291\u001b[0m \u001b[0;34m\u001b[0m\u001b[0m\n\u001b[1;32m    292\u001b[0m         \u001b[0mquery_layer\u001b[0m \u001b[0;34m=\u001b[0m \u001b[0mself\u001b[0m\u001b[0;34m.\u001b[0m\u001b[0mtranspose_for_scores\u001b[0m\u001b[0;34m(\u001b[0m\u001b[0mmixed_query_layer\u001b[0m\u001b[0;34m)\u001b[0m\u001b[0;34m\u001b[0m\u001b[0;34m\u001b[0m\u001b[0m\n",
      "\u001b[0;32m/usr/local/lib/python3.7/dist-packages/torch/nn/modules/module.py\u001b[0m in \u001b[0;36m_call_impl\u001b[0;34m(self, *input, **kwargs)\u001b[0m\n\u001b[1;32m   1049\u001b[0m         if not (self._backward_hooks or self._forward_hooks or self._forward_pre_hooks or _global_backward_hooks\n\u001b[1;32m   1050\u001b[0m                 or _global_forward_hooks or _global_forward_pre_hooks):\n\u001b[0;32m-> 1051\u001b[0;31m             \u001b[0;32mreturn\u001b[0m \u001b[0mforward_call\u001b[0m\u001b[0;34m(\u001b[0m\u001b[0;34m*\u001b[0m\u001b[0minput\u001b[0m\u001b[0;34m,\u001b[0m \u001b[0;34m**\u001b[0m\u001b[0mkwargs\u001b[0m\u001b[0;34m)\u001b[0m\u001b[0;34m\u001b[0m\u001b[0;34m\u001b[0m\u001b[0m\n\u001b[0m\u001b[1;32m   1052\u001b[0m         \u001b[0;31m# Do not call functions when jit is used\u001b[0m\u001b[0;34m\u001b[0m\u001b[0;34m\u001b[0m\u001b[0;34m\u001b[0m\u001b[0m\n\u001b[1;32m   1053\u001b[0m         \u001b[0mfull_backward_hooks\u001b[0m\u001b[0;34m,\u001b[0m \u001b[0mnon_full_backward_hooks\u001b[0m \u001b[0;34m=\u001b[0m \u001b[0;34m[\u001b[0m\u001b[0;34m]\u001b[0m\u001b[0;34m,\u001b[0m \u001b[0;34m[\u001b[0m\u001b[0;34m]\u001b[0m\u001b[0;34m\u001b[0m\u001b[0;34m\u001b[0m\u001b[0m\n",
      "\u001b[0;32m/usr/local/lib/python3.7/dist-packages/torch/nn/modules/linear.py\u001b[0m in \u001b[0;36mforward\u001b[0;34m(self, input)\u001b[0m\n\u001b[1;32m     94\u001b[0m \u001b[0;34m\u001b[0m\u001b[0m\n\u001b[1;32m     95\u001b[0m     \u001b[0;32mdef\u001b[0m \u001b[0mforward\u001b[0m\u001b[0;34m(\u001b[0m\u001b[0mself\u001b[0m\u001b[0;34m,\u001b[0m \u001b[0minput\u001b[0m\u001b[0;34m:\u001b[0m \u001b[0mTensor\u001b[0m\u001b[0;34m)\u001b[0m \u001b[0;34m->\u001b[0m \u001b[0mTensor\u001b[0m\u001b[0;34m:\u001b[0m\u001b[0;34m\u001b[0m\u001b[0;34m\u001b[0m\u001b[0m\n\u001b[0;32m---> 96\u001b[0;31m         \u001b[0;32mreturn\u001b[0m \u001b[0mF\u001b[0m\u001b[0;34m.\u001b[0m\u001b[0mlinear\u001b[0m\u001b[0;34m(\u001b[0m\u001b[0minput\u001b[0m\u001b[0;34m,\u001b[0m \u001b[0mself\u001b[0m\u001b[0;34m.\u001b[0m\u001b[0mweight\u001b[0m\u001b[0;34m,\u001b[0m \u001b[0mself\u001b[0m\u001b[0;34m.\u001b[0m\u001b[0mbias\u001b[0m\u001b[0;34m)\u001b[0m\u001b[0;34m\u001b[0m\u001b[0;34m\u001b[0m\u001b[0m\n\u001b[0m\u001b[1;32m     97\u001b[0m \u001b[0;34m\u001b[0m\u001b[0m\n\u001b[1;32m     98\u001b[0m     \u001b[0;32mdef\u001b[0m \u001b[0mextra_repr\u001b[0m\u001b[0;34m(\u001b[0m\u001b[0mself\u001b[0m\u001b[0;34m)\u001b[0m \u001b[0;34m->\u001b[0m \u001b[0mstr\u001b[0m\u001b[0;34m:\u001b[0m\u001b[0;34m\u001b[0m\u001b[0;34m\u001b[0m\u001b[0m\n",
      "\u001b[0;32m/usr/local/lib/python3.7/dist-packages/torch/nn/functional.py\u001b[0m in \u001b[0;36mlinear\u001b[0;34m(input, weight, bias)\u001b[0m\n\u001b[1;32m   1845\u001b[0m     \u001b[0;32mif\u001b[0m \u001b[0mhas_torch_function_variadic\u001b[0m\u001b[0;34m(\u001b[0m\u001b[0minput\u001b[0m\u001b[0;34m,\u001b[0m \u001b[0mweight\u001b[0m\u001b[0;34m)\u001b[0m\u001b[0;34m:\u001b[0m\u001b[0;34m\u001b[0m\u001b[0;34m\u001b[0m\u001b[0m\n\u001b[1;32m   1846\u001b[0m         \u001b[0;32mreturn\u001b[0m \u001b[0mhandle_torch_function\u001b[0m\u001b[0;34m(\u001b[0m\u001b[0mlinear\u001b[0m\u001b[0;34m,\u001b[0m \u001b[0;34m(\u001b[0m\u001b[0minput\u001b[0m\u001b[0;34m,\u001b[0m \u001b[0mweight\u001b[0m\u001b[0;34m)\u001b[0m\u001b[0;34m,\u001b[0m \u001b[0minput\u001b[0m\u001b[0;34m,\u001b[0m \u001b[0mweight\u001b[0m\u001b[0;34m,\u001b[0m \u001b[0mbias\u001b[0m\u001b[0;34m=\u001b[0m\u001b[0mbias\u001b[0m\u001b[0;34m)\u001b[0m\u001b[0;34m\u001b[0m\u001b[0;34m\u001b[0m\u001b[0m\n\u001b[0;32m-> 1847\u001b[0;31m     \u001b[0;32mreturn\u001b[0m \u001b[0mtorch\u001b[0m\u001b[0;34m.\u001b[0m\u001b[0m_C\u001b[0m\u001b[0;34m.\u001b[0m\u001b[0m_nn\u001b[0m\u001b[0;34m.\u001b[0m\u001b[0mlinear\u001b[0m\u001b[0;34m(\u001b[0m\u001b[0minput\u001b[0m\u001b[0;34m,\u001b[0m \u001b[0mweight\u001b[0m\u001b[0;34m,\u001b[0m \u001b[0mbias\u001b[0m\u001b[0;34m)\u001b[0m\u001b[0;34m\u001b[0m\u001b[0;34m\u001b[0m\u001b[0m\n\u001b[0m\u001b[1;32m   1848\u001b[0m \u001b[0;34m\u001b[0m\u001b[0m\n\u001b[1;32m   1849\u001b[0m \u001b[0;34m\u001b[0m\u001b[0m\n",
      "\u001b[0;31mRuntimeError\u001b[0m: CUDA out of memory. Tried to allocate 2.00 MiB (GPU 0; 15.90 GiB total capacity; 14.92 GiB already allocated; 7.75 MiB free; 14.99 GiB reserved in total by PyTorch)"
     ]
    }
   ],
   "source": [
    "import math\n",
    "tmpl = torch.Tensor(0,781).to(\"cpu\")#.to(device)\n",
    "for n in range(len(df)):\n",
    "  sent = df[\"sentence\"].tolist()[n]\n",
    "  d = df[\"dist\"].tolist()[n]\n",
    "  #t = sent_to_emb2(sent)\n",
    "  tens = sent_to_emb3(sent).to(\"cpu\")#torch.Tensor\n",
    "  #t = t[0].tolist()\n",
    "  t = [0]*13\n",
    "  t[9] = d\n",
    "  t[10] = d ** (1/2)\n",
    "  t[11] = d ** (1/3)\n",
    "  t[12] = math.log(d)\n",
    "  if d == 1 :t[0]=1\n",
    "  elif d == 2 :t[1]=1\n",
    "  elif 3 <=d <=4:t[2]=1\n",
    "  elif 5 <=d <=6:t[3]=1\n",
    "  elif 7 <=d <=9:t[4]=1\n",
    "  elif 10<=d<=13:t[5]=1\n",
    "  elif 14<=d<=19:t[6]=1\n",
    "  elif 20<=d<=29:t[7]=1\n",
    "  elif d >= 30: t[8] =1\n",
    "  t = torch.Tensor(t)\n",
    "  t = t.reshape(1, 13)#.to(device)\n",
    "  t = torch.cat([tens,t],axis=1)\n",
    "  tmpl = torch.cat([tmpl,t])\n",
    "y = torch.Tensor(df[\"label\"].tolist())"
   ]
  },
  {
   "cell_type": "code",
   "execution_count": null,
   "metadata": {
    "colab": {
     "base_uri": "https://localhost:8080/"
    },
    "executionInfo": {
     "elapsed": 225,
     "status": "ok",
     "timestamp": 1632104796349,
     "user": {
      "displayName": "伊藤慶",
      "photoUrl": "https://lh3.googleusercontent.com/a/default-user=s64",
      "userId": "07271948982802047026"
     },
     "user_tz": -540
    },
    "id": "PMDn-II8BjRh",
    "outputId": "e16ccf51-bccb-40f0-d662-96f1e1dc02c5"
   },
   "outputs": [
    {
     "data": {
      "text/plain": [
       "tensor([], size=(0, 781))"
      ]
     },
     "execution_count": 25,
     "metadata": {},
     "output_type": "execute_result"
    }
   ],
   "source": [
    "t"
   ]
  },
  {
   "cell_type": "code",
   "execution_count": null,
   "metadata": {
    "colab": {
     "base_uri": "https://localhost:8080/"
    },
    "executionInfo": {
     "elapsed": 7,
     "status": "ok",
     "timestamp": 1632104687993,
     "user": {
      "displayName": "伊藤慶",
      "photoUrl": "https://lh3.googleusercontent.com/a/default-user=s64",
      "userId": "07271948982802047026"
     },
     "user_tz": -540
    },
    "id": "kRTnuusBBEaG",
    "outputId": "7a4e164f-567e-48b4-b876-7a5c1a418859"
   },
   "outputs": [
    {
     "data": {
      "text/plain": [
       "tensor([[0., 0., 0., 0., 0., 1.]])"
      ]
     },
     "execution_count": 23,
     "metadata": {},
     "output_type": "execute_result"
    }
   ],
   "source": [
    "a =torch.Tensor([[0,0,0]])\n",
    "b =torch.Tensor([[0,0,1]])\n",
    "ab = torch.cat([a,b],axis=1)\n",
    "ab"
   ]
  },
  {
   "cell_type": "code",
   "execution_count": null,
   "metadata": {
    "id": "yaguUKCDkCmH"
   },
   "outputs": [],
   "source": [
    "import math\n",
    "tmpl2 = []\n",
    "for n in range(len(df_dev)):\n",
    "  sent = df_dev[\"sentence\"].tolist()[n]\n",
    "  d = df_dev[\"dist\"].tolist()[n]\n",
    "  #t = sent_to_emb2(sent)\n",
    "\n",
    "  t = sent_to_emb2(sent)\n",
    "  t = t[0].tolist()\n",
    "  t = t + [0]*13\n",
    "  t[768+9] = d\n",
    "  t[768+10] = d ** (1/2)\n",
    "  t[768+11] = d ** (1/3)\n",
    "  t[768+12] = math.log(d)\n",
    "  if d == 1 :t[768]=1\n",
    "  elif d == 2 :t[768+1]=1\n",
    "  elif 3 <=d <=4:t[768+2]=1\n",
    "  elif 5 <=d <=6:t[768+3]=1\n",
    "  elif 7 <=d <=9:t[768+4]=1\n",
    "  elif 10<=d<=13:t[768+5]=1\n",
    "  elif 14<=d<=19:t[768+6]=1\n",
    "  elif 20<=d<=29:t[768+7]=1\n",
    "  elif d >= 30: t[768+8] =1\n",
    "  t = np.array(t)\n",
    "  t = t.reshape(1, 781)\n",
    "  tmpl2.append(t)"
   ]
  },
  {
   "cell_type": "code",
   "execution_count": null,
   "metadata": {
    "id": "RzhpZw4ls_Dx"
   },
   "outputs": [],
   "source": [
    "import torch\n",
    "from torch import nn\n",
    "prec = []\n",
    "reca = []\n",
    "fsco = []\n",
    "def train_num(n,X,y,X_test,y_test,epo=3):\n",
    "  X = X[:n]\n",
    "  y = y[:n]\n",
    "  net = nn.Sequential(\n",
    "    nn.Linear(781,100),\n",
    "    nn.ReLU(),\n",
    "    #nn.Dropout(0.3),\n",
    "    nn.Linear(100,20),    \n",
    "    nn.ReLU(),\n",
    "    #nn.Dropout(0.3),\n",
    "    nn.Linear(20,2)\n",
    "  )\n",
    "  net.cuda()\n",
    "  net.train()\n",
    "  from torch import optim\n",
    "  X_t = torch.tensor(X, dtype=torch.float32).to(device)\n",
    "  y_t = torch.tensor(y, dtype=torch.int64).to(device)\n",
    "  X_t_test = torch.tensor(X_test, dtype=torch.float32).to(device)\n",
    "  y_t_test = torch.tensor(y_test, dtype=torch.int64).to(device)\n",
    "  loss_fn = nn.CrossEntropyLoss()\n",
    "  optimizer = optim.Adam(net.parameters(), weight_decay=0.05,lr=0.001)\n",
    "  from torch.utils.data import TensorDataset, DataLoader\n",
    "  ds = TensorDataset(X_t,y_t)\n",
    "  loader=DataLoader(ds, batch_size=20,shuffle=True)\n",
    "  losses = []\n",
    "  test_losses = []\n",
    "  for epoc in range(epo):\n",
    "    running_loss = 0\n",
    "    rlt =0\n",
    "    #for xx, yy in loader:#バッチ学習してない？　5000epochっぽい\n",
    "    #  net.train()\n",
    "    #  optimizer.zero_grad()\n",
    "    #  y_pred = net(X_t)\n",
    "    #  loss = loss_fn(y_pred,y_t)\n",
    "    #  loss.backward()\n",
    "    #  optimizer.step()\n",
    "    #  running_loss += loss.item()\n",
    "    #  losses.append(loss.item())#running_loss)\n",
    "    #  net.eval()\n",
    "    #  y_pred = net(X_t_test)\n",
    "    #  test_loss = loss_fn(y_pred, y_t_test)\n",
    "      #rlt += test_loss.item()\n",
    "    #  test_losses.append(test_loss.item())\n",
    "    for xx, yy in loader:\n",
    "      net.train()\n",
    "      optimizer.zero_grad()\n",
    "      y_pred = net(xx)\n",
    "      loss = loss_fn(y_pred,yy)\n",
    "      loss.backward()\n",
    "      optimizer.step()\n",
    "      running_loss += loss.item()\n",
    "\n",
    "      net.eval()\n",
    "      y_pred = net(X_t)\n",
    "      loss = loss_fn(y_pred, y_t)\n",
    "      losses.append(loss.item())#running_loss)\n",
    "      y_pred = net(X_t_test)\n",
    "      test_loss = loss_fn(y_pred, y_t_test)\n",
    "      #rlt += test_loss.item()\n",
    "      test_losses.append(test_loss.item())\n",
    "    #losses.append(running_loss)\n",
    "    #test_losses.append(rlt)\n",
    "  p = y_pred.detach().cpu()#.numpy()\n",
    "  pt = nn.functional.softmax(p,dim=1).numpy()\n",
    "  p2 = [int(pp[1]> 0.3) for pp in pt]#np.argmax(pt,axis=1)\n",
    "  #p2 = [int(pp[1]>-0.50) for pp in p]\n",
    "  #print(p)\n",
    "  TP = 0\n",
    "  TN = 0\n",
    "  FP = 0\n",
    "  FN = 0\n",
    "  for a in range(len(p)):\n",
    "    if p2[a] == 1 and y_test[a] == 1: TP +=1\n",
    "    if p2[a] == 1 and y_test[a] == 0: FP +=1\n",
    "    if p2[a] == 0 and y_test[a] == 1: \n",
    "      FN +=1\n",
    "     # print(df_dev[\"sentence\"][a])\n",
    "    if p2[a] == 0 and y_test[a] == 0: TN +=1\n",
    "  print(n,\":\",TP,TN,FP,FN)\n",
    "  return TP,TN,FP,FN,losses,test_losses,net\n"
   ]
  },
  {
   "cell_type": "code",
   "execution_count": null,
   "metadata": {
    "id": "BDqiFfnEqShP"
   },
   "outputs": [],
   "source": [
    "tmpl2_2 = []\n",
    "dss = df_dev[\"dist\"].tolist()\n",
    "for n,ddd in enumerate(dss):\n",
    "  #if  10 <= ddd <= 100:#and ddd <= 10:\n",
    "  tmpl2_2.append(tmpl2[n])\n",
    "def testyou(tmpl2):\n",
    "  X_test = tmpl2[0]\n",
    "  uu = 0\n",
    "  for tt in tmpl2:\n",
    "    if uu == 0:\n",
    "      uu = 1\n",
    "      continue\n",
    "    X_test = np.concatenate([X_test,tt])\n",
    "  y_test = np.array(df_dev[\"label\"].tolist()).astype(\"int16\")\n",
    "  #y_test = np.array(df_dev[(df_dev[\"dist\"]>=10) & (df_dev[\"dist\"]<=100)][\"label\"].tolist())\n",
    "  return X_test,y_test\n",
    "X_test, y_test = testyou(tmpl2_2)"
   ]
  },
  {
   "cell_type": "code",
   "execution_count": null,
   "metadata": {
    "colab": {
     "base_uri": "https://localhost:8080/",
     "height": 350
    },
    "executionInfo": {
     "elapsed": 1656,
     "status": "ok",
     "timestamp": 1631364451661,
     "user": {
      "displayName": "伊藤慶",
      "photoUrl": "https://lh3.googleusercontent.com/a/default-user=s64",
      "userId": "07271948982802047026"
     },
     "user_tz": -540
    },
    "id": "di_dAxbouDCy",
    "outputId": "ca493158-7772-40eb-af25-fef0fbd1dc6c"
   },
   "outputs": [
    {
     "name": "stdout",
     "output_type": "stream",
     "text": [
      "1278 : 105 194 54 25\n",
      "2021-09-11 12:47:31.164812\n",
      "105 194 54 25\n",
      "448\n",
      "0.4146066904067993\n"
     ]
    },
    {
     "data": {
      "image/png": "[encoded data removed]",
      "text/plain": [
       "<Figure size 432x288 with 1 Axes>"
      ]
     },
     "metadata": {},
     "output_type": "display_data"
    }
   ],
   "source": [
    "import matplotlib.pyplot as plt\n",
    "#print(datetime.datetime.now())\n",
    "#tps2,tns2,fps2,fns2,l,tl=train_num(len(df),X,y,epo=3)\n",
    "tps2,tns2,fps2,fns2,l,tl,net=train_num(len(df),X,y,X_test,y_test,epo=7)\n",
    "print(datetime.datetime.now())\n",
    "print(tps2,tns2,fps2,fns2)\n",
    "#pres = (tps2/(tps2+fps2))\n",
    "#recs = (tps2/(tps2+fns2))\n",
    "#fsco = (2*(tps2/(tps2+fps2))*(tps2/(tps2+fns2))/((tps2/(tps2+fns2))+(tps2/(tps2+fps2))))\n",
    "#print(pres,recs,fsco)\n",
    "plt.plot(l)\n",
    "print(len(l))\n",
    "plt.plot(tl)\n",
    "print(tl[-1])\n",
    "#plt.ylim((0,70))"
   ]
  },
  {
   "cell_type": "code",
   "execution_count": null,
   "metadata": {
    "colab": {
     "base_uri": "https://localhost:8080/",
     "height": 419
    },
    "executionInfo": {
     "elapsed": 319,
     "status": "ok",
     "timestamp": 1631364643538,
     "user": {
      "displayName": "伊藤慶",
      "photoUrl": "https://lh3.googleusercontent.com/a/default-user=s64",
      "userId": "07271948982802047026"
     },
     "user_tz": -540
    },
    "id": "5gckRmSW6OBF",
    "outputId": "53572d98-7f44-4156-f8cd-a0f41777811f"
   },
   "outputs": [
    {
     "data": {
      "text/html": [
       "<div>\n",
       "<style scoped>\n",
       "    .dataframe tbody tr th:only-of-type {\n",
       "        vertical-align: middle;\n",
       "    }\n",
       "\n",
       "    .dataframe tbody tr th {\n",
       "        vertical-align: top;\n",
       "    }\n",
       "\n",
       "    .dataframe thead th {\n",
       "        text-align: right;\n",
       "    }\n",
       "</style>\n",
       "<table border=\"1\" class=\"dataframe\">\n",
       "  <thead>\n",
       "    <tr style=\"text-align: right;\">\n",
       "      <th></th>\n",
       "      <th>Unnamed: 0</th>\n",
       "      <th>label</th>\n",
       "      <th>sentence</th>\n",
       "      <th>dist</th>\n",
       "    </tr>\n",
       "  </thead>\n",
       "  <tbody>\n",
       "    <tr>\n",
       "      <th>0</th>\n",
       "      <td>0</td>\n",
       "      <td>1</td>\n",
       "      <td>To assess the validity of the microarray appro...</td>\n",
       "      <td>12</td>\n",
       "    </tr>\n",
       "    <tr>\n",
       "      <th>1</th>\n",
       "      <td>1</td>\n",
       "      <td>0</td>\n",
       "      <td>However a consistent observation was a marked ...</td>\n",
       "      <td>29</td>\n",
       "    </tr>\n",
       "    <tr>\n",
       "      <th>2</th>\n",
       "      <td>2</td>\n",
       "      <td>0</td>\n",
       "      <td>Using [GENE] Regular Expressions it was trivia...</td>\n",
       "      <td>28</td>\n",
       "    </tr>\n",
       "    <tr>\n",
       "      <th>3</th>\n",
       "      <td>3</td>\n",
       "      <td>0</td>\n",
       "      <td>To verify that the white clones retrieved in o...</td>\n",
       "      <td>7</td>\n",
       "    </tr>\n",
       "    <tr>\n",
       "      <th>4</th>\n",
       "      <td>4</td>\n",
       "      <td>1</td>\n",
       "      <td>To study the effect of the HS7 mutations on HI...</td>\n",
       "      <td>3</td>\n",
       "    </tr>\n",
       "    <tr>\n",
       "      <th>...</th>\n",
       "      <td>...</td>\n",
       "      <td>...</td>\n",
       "      <td>...</td>\n",
       "      <td>...</td>\n",
       "    </tr>\n",
       "    <tr>\n",
       "      <th>373</th>\n",
       "      <td>387</td>\n",
       "      <td>0</td>\n",
       "      <td>When we compared the staining profiles in fema...</td>\n",
       "      <td>38</td>\n",
       "    </tr>\n",
       "    <tr>\n",
       "      <th>374</th>\n",
       "      <td>388</td>\n",
       "      <td>1</td>\n",
       "      <td>The low-dose [GENE] eNOS [EXPE] mice in which ...</td>\n",
       "      <td>2</td>\n",
       "    </tr>\n",
       "    <tr>\n",
       "      <th>375</th>\n",
       "      <td>389</td>\n",
       "      <td>0</td>\n",
       "      <td>We further examined the combined effects of [E...</td>\n",
       "      <td>10</td>\n",
       "    </tr>\n",
       "    <tr>\n",
       "      <th>376</th>\n",
       "      <td>390</td>\n",
       "      <td>0</td>\n",
       "      <td>[GENE] loosening was the only complication see...</td>\n",
       "      <td>14</td>\n",
       "    </tr>\n",
       "    <tr>\n",
       "      <th>377</th>\n",
       "      <td>391</td>\n",
       "      <td>0</td>\n",
       "      <td>The protein levels of Isl1 Dppa4 and Gdf3 were...</td>\n",
       "      <td>4</td>\n",
       "    </tr>\n",
       "  </tbody>\n",
       "</table>\n",
       "<p>378 rows × 4 columns</p>\n",
       "</div>"
      ],
      "text/plain": [
       "     Unnamed: 0  label                                           sentence  dist\n",
       "0             0      1  To assess the validity of the microarray appro...    12\n",
       "1             1      0  However a consistent observation was a marked ...    29\n",
       "2             2      0  Using [GENE] Regular Expressions it was trivia...    28\n",
       "3             3      0  To verify that the white clones retrieved in o...     7\n",
       "4             4      1  To study the effect of the HS7 mutations on HI...     3\n",
       "..          ...    ...                                                ...   ...\n",
       "373         387      0  When we compared the staining profiles in fema...    38\n",
       "374         388      1  The low-dose [GENE] eNOS [EXPE] mice in which ...     2\n",
       "375         389      0  We further examined the combined effects of [E...    10\n",
       "376         390      0  [GENE] loosening was the only complication see...    14\n",
       "377         391      0  The protein levels of Isl1 Dppa4 and Gdf3 were...     4\n",
       "\n",
       "[378 rows x 4 columns]"
      ]
     },
     "execution_count": 73,
     "metadata": {},
     "output_type": "execute_result"
    }
   ],
   "source": [
    "df_dev"
   ]
  },
  {
   "cell_type": "code",
   "execution_count": null,
   "metadata": {
    "colab": {
     "base_uri": "https://localhost:8080/",
     "height": 419
    },
    "executionInfo": {
     "elapsed": 313,
     "status": "ok",
     "timestamp": 1631364650704,
     "user": {
      "displayName": "伊藤慶",
      "photoUrl": "https://lh3.googleusercontent.com/a/default-user=s64",
      "userId": "07271948982802047026"
     },
     "user_tz": -540
    },
    "id": "5s87NxTn6Qxj",
    "outputId": "ae339212-50dc-4df8-87a4-e37577ce3afb"
   },
   "outputs": [
    {
     "data": {
      "text/html": [
       "<div>\n",
       "<style scoped>\n",
       "    .dataframe tbody tr th:only-of-type {\n",
       "        vertical-align: middle;\n",
       "    }\n",
       "\n",
       "    .dataframe tbody tr th {\n",
       "        vertical-align: top;\n",
       "    }\n",
       "\n",
       "    .dataframe thead th {\n",
       "        text-align: right;\n",
       "    }\n",
       "</style>\n",
       "<table border=\"1\" class=\"dataframe\">\n",
       "  <thead>\n",
       "    <tr style=\"text-align: right;\">\n",
       "      <th></th>\n",
       "      <th>Unnamed: 0</th>\n",
       "      <th>label</th>\n",
       "      <th>sentence</th>\n",
       "      <th>dist</th>\n",
       "    </tr>\n",
       "  </thead>\n",
       "  <tbody>\n",
       "    <tr>\n",
       "      <th>775</th>\n",
       "      <td>775</td>\n",
       "      <td>0</td>\n",
       "      <td>To investigate the potential involvement of [G...</td>\n",
       "      <td>8</td>\n",
       "    </tr>\n",
       "    <tr>\n",
       "      <th>952</th>\n",
       "      <td>111</td>\n",
       "      <td>0</td>\n",
       "      <td>These results indicate that [GENE] mediates in...</td>\n",
       "      <td>9</td>\n",
       "    </tr>\n",
       "    <tr>\n",
       "      <th>867</th>\n",
       "      <td>26</td>\n",
       "      <td>0</td>\n",
       "      <td>In such patient populations [GENE] are often i...</td>\n",
       "      <td>9</td>\n",
       "    </tr>\n",
       "    <tr>\n",
       "      <th>941</th>\n",
       "      <td>100</td>\n",
       "      <td>0</td>\n",
       "      <td>In contrast cholesterol [EXPE] had no effect o...</td>\n",
       "      <td>6</td>\n",
       "    </tr>\n",
       "    <tr>\n",
       "      <th>470</th>\n",
       "      <td>470</td>\n",
       "      <td>1</td>\n",
       "      <td>we first determined the localization of these ...</td>\n",
       "      <td>12</td>\n",
       "    </tr>\n",
       "    <tr>\n",
       "      <th>...</th>\n",
       "      <td>...</td>\n",
       "      <td>...</td>\n",
       "      <td>...</td>\n",
       "      <td>...</td>\n",
       "    </tr>\n",
       "    <tr>\n",
       "      <th>1037</th>\n",
       "      <td>77</td>\n",
       "      <td>1</td>\n",
       "      <td>Because  Hs2st; Hs6st  mutants die during embr...</td>\n",
       "      <td>7</td>\n",
       "    </tr>\n",
       "    <tr>\n",
       "      <th>639</th>\n",
       "      <td>639</td>\n",
       "      <td>1</td>\n",
       "      <td>[EXPE] suggested that the ectopic [GENE] prote...</td>\n",
       "      <td>5</td>\n",
       "    </tr>\n",
       "    <tr>\n",
       "      <th>67</th>\n",
       "      <td>67</td>\n",
       "      <td>0</td>\n",
       "      <td>As shown in  Figure 7C and D   neither overexp...</td>\n",
       "      <td>8</td>\n",
       "    </tr>\n",
       "    <tr>\n",
       "      <th>720</th>\n",
       "      <td>720</td>\n",
       "      <td>1</td>\n",
       "      <td>To test this  we analysed binding of [EXPE] gl...</td>\n",
       "      <td>8</td>\n",
       "    </tr>\n",
       "    <tr>\n",
       "      <th>569</th>\n",
       "      <td>569</td>\n",
       "      <td>1</td>\n",
       "      <td>siRNA-mediated [EXPE] of two other Wnt ligands...</td>\n",
       "      <td>9</td>\n",
       "    </tr>\n",
       "  </tbody>\n",
       "</table>\n",
       "<p>1278 rows × 4 columns</p>\n",
       "</div>"
      ],
      "text/plain": [
       "      Unnamed: 0  ...  dist\n",
       "775          775  ...     8\n",
       "952          111  ...     9\n",
       "867           26  ...     9\n",
       "941          100  ...     6\n",
       "470          470  ...    12\n",
       "...          ...  ...   ...\n",
       "1037          77  ...     7\n",
       "639          639  ...     5\n",
       "67            67  ...     8\n",
       "720          720  ...     8\n",
       "569          569  ...     9\n",
       "\n",
       "[1278 rows x 4 columns]"
      ]
     },
     "execution_count": 74,
     "metadata": {},
     "output_type": "execute_result"
    }
   ],
   "source": [
    "df"
   ]
  },
  {
   "cell_type": "code",
   "execution_count": null,
   "metadata": {
    "colab": {
     "base_uri": "https://localhost:8080/"
    },
    "executionInfo": {
     "elapsed": 14012,
     "status": "ok",
     "timestamp": 1623057125882,
     "user": {
      "displayName": "伊藤慶",
      "photoUrl": "",
      "userId": "07271948982802047026"
     },
     "user_tz": -540
    },
    "id": "ik-_DPoJfyNd",
    "outputId": "c1b83a94-bc45-45ca-dd37-8bee2323fbd1"
   },
   "outputs": [
    {
     "name": "stdout",
     "output_type": "stream",
     "text": [
      "25720000\n",
      "2021-06-07 09:12:05.396720\n"
     ]
    }
   ],
   "source": [
    "def step1(sent,d):\n",
    "  t = sent_to_emb2(sent)\n",
    "  if type(t) == str:return set()\n",
    "  t = np.append(t[0],np.zeros(13))\n",
    "  #t += [0]*13\n",
    "  t[768+9] = d\n",
    "  t[768+10] = d ** (1/2)\n",
    "  t[768+11] = d ** (1/3)\n",
    "  t[768+12] = math.log(d)\n",
    "  if d == 1 :t[768]=1\n",
    "  elif d == 2 :t[768+1]=1\n",
    "  elif 3 <=d <=4:t[768+2]=1\n",
    "  elif 5 <=d <=6:t[768+3]=1\n",
    "  elif 7 <=d <=9:t[768+4]=1\n",
    "  elif 10<=d<=13:t[768+5]=1\n",
    "  elif 14<=d<=19:t[768+6]=1\n",
    "  elif 20<=d<=29:t[768+7]=1\n",
    "  elif d >= 30: t[768+8] =1\n",
    "  #t = np.array(t)\n",
    "  t = t.reshape(1,781)\n",
    "  return t\n",
    "\n",
    "def step3(tmpl2,net):\n",
    "  X_test = tmpl2\n",
    "\n",
    "  X_t_test = torch.tensor(X_test, dtype=torch.float32).to(device)\n",
    "  y_pred = net(X_t_test)\n",
    "  #print(datetime.datetime.now(),4)\n",
    "  p = y_pred.detach().cpu()#.numpy()\n",
    "  #print(datetime.datetime.now(),5)\n",
    "  pt = nn.functional.softmax(p,dim=1).numpy()\n",
    "  #print(datetime.datetime.now(),6)\n",
    "  p2 = [int(pp[1]> 0.3) for pp in pt]\n",
    "  p3 = [pp[1] for pp in pt]\n",
    "\n",
    "  return p2,p3\n",
    "import time\n",
    "import datetime\n",
    "def do():\n",
    "  ff = open(\"Chikan_ver2.csv\",\"r\")\n",
    "  #fw = open(\"AfterBiobert_0525_2.csv\",\"a\")\n",
    "  c = 0\n",
    "  tmp  =[]\n",
    "  #tmpra=[]\n",
    "  status = 1\n",
    "  passing = 0\n",
    "  t0 = time.time()\n",
    "  for line in ff:\n",
    "    c += 1\n",
    "    if c <1200*10000:continue #1200万以上を処理します\n",
    "    ls = line.strip().split(\"\\t\")\n",
    "    if len(ls) == 6:\n",
    "      #print(datetime.datetime.now())\n",
    "      pmc = ls[1]\n",
    "      if passing == 0:\n",
    "        if pmc == \"PMC7254992\":\n",
    "          passing = 1\n",
    "        else:continue\n",
    "      s = ls[5]\n",
    "      if len(s)>500:continue\n",
    "      tmp.append(\"\\t\".join(ls))\n",
    "      ss = s.strip().split(\" \")\n",
    "\n",
    "      dis = abs(ss.index(\"[GENE]\") - ss.index(\"[EXPE]\"))\n",
    "      #print(datetime.datetime.now())\n",
    "      t = step1(s,dis)\n",
    "      if type(t) == set:continue\n",
    "      if status == 1:\n",
    "        tmpra = t\n",
    "        status = 0\n",
    "        fw = open(\"AfterBiobert_0525_2.csv\",\"a\") #突然死対策\n",
    "      else:\n",
    "        tmpra = np.concatenate([tmpra,t])\n",
    "      #print(datetime.datetime.now())\n",
    "      #print(datetime.datetime.now())\n",
    "      if c % 10000 == 0:\n",
    "        print(c)\n",
    "        p2,p3 = step3(tmpra,net)\n",
    "        #print(c)\n",
    "        for n in range(len(tmp)):\n",
    "          if p2[n] == 1:\n",
    "            status=1\n",
    "            #print(c)\n",
    "            fw.write(tmp[n]+\"\\t\"+str(p3[n])+\"\\n\")\n",
    "            #print(tmp[n])\n",
    "        tmp = []\n",
    "        tmpra = []\n",
    "        fw.close()\n",
    "      t1 = time.time()\n",
    "      if t1-t0 > 23*60*60:\n",
    "        #print(datetime.datetime.now())\n",
    "        break\n",
    "      #if c == 2300*10000:break\n",
    "  for n in range(len(tmp)):\n",
    "    if p2[n] == 1:\n",
    "         status=1\n",
    "         #print(c)\n",
    "         fw.write(tmp[n]) \n",
    "  ff.close()\n",
    "  fw.close()\n",
    "\n",
    "\n",
    "print(datetime.datetime.now())\n",
    "do()\n",
    "print(datetime.datetime.now())"
   ]
  },
  {
   "cell_type": "code",
   "execution_count": null,
   "metadata": {
    "colab": {
     "base_uri": "https://localhost:8080/"
    },
    "executionInfo": {
     "elapsed": 759,
     "status": "ok",
     "timestamp": 1623070841543,
     "user": {
      "displayName": "伊藤慶",
      "photoUrl": "",
      "userId": "07271948982802047026"
     },
     "user_tz": -540
    },
    "id": "WsLk5X595Osn",
    "outputId": "7f3e55c6-7685-4f20-bab2-c91f5b62bf28"
   },
   "outputs": [
    {
     "name": "stdout",
     "output_type": "stream",
     "text": [
      "2020\tPMC7493339\timp3\toverexpression\tIn addition, we observed that overexpression of IMP3 induced a significant decrease in PTEN protein stability in LNCap and DU145 cells (Fig.  3 d-f), and promoted PTEN degradation via ubiquitination pathway (Fig.  3 g-n).\t In addition we observed that [EXPE] of [GENE] induced a significant decrease in PTEN protein stability in LNCap and DU145 cells (Fig  3 d-f) and promoted PTEN degradation via ubiquitination pathway (Fig  3 g-n)\t0.8778901\n",
      "2020\tPMC7493339\timp3\toverexpression\tThese results suggested that IMP3 overexpression decreased PTEN expression in DU145 and LNCap cells, leading to the activation of PI3K/AKT/mTOR signaling.\t These results suggested that [GENE] [EXPE] decreased PTEN expression in DU145 and LNCap cells leading to the activation of PI3K/AKT/mTOR signaling\t0.81521416\n",
      "2020\tPMC7493339\tpten\toverexpression\tThese results suggested that IMP3 overexpression decreased PTEN expression in DU145 and LNCap cells, leading to the activation of PI3K/AKT/mTOR signaling.\t These results suggested that IMP3 [EXPE] decreased [GENE] expression in DU145 and LNCap cells leading to the activation of PI3K/AKT/mTOR signaling\t0.6726936\n",
      "2020\tPMC7493339\tsmurf1\trt-pcr\tTo further assess the relationship between SMURF1 and IMP3, RT-PCR was carried out.\t To further assess the relationship between [GENE] and IMP3 [EXPE] was carried out\t0.90686095\n",
      "2020\tPMC7493339\timp3\trt-pcr\tTo further assess the relationship between SMURF1 and IMP3, RT-PCR was carried out.\t To further assess the relationship between SMURF1 and [GENE] [EXPE] was carried out\t0.92528194\n",
      "2020\tPMC7493339\timp3\toverexpression\tAs shown in Fig.  4 c-d, IMP3 overexpression significantly increased SMURF1 mRNA level in DU145 and LNCap cells, and vice versa.\t As shown in Fig  4 c-d [GENE] [EXPE] significantly increased SMURF1 mRNA level in DU145 and LNCap cells and vice versa\t0.8645917\n",
      "2020\tPMC7493339\tsmurf1\toverexpression\tAs shown in Fig.  4 c-d, IMP3 overexpression significantly increased SMURF1 mRNA level in DU145 and LNCap cells, and vice versa.\t As shown in Fig  4 c-d IMP3 [EXPE] significantly increased [GENE] mRNA level in DU145 and LNCap cells and vice versa\t0.57420284\n",
      "2020\tPMC7493339\tpten\tlentiviral\tTo uncover SMURF1 role in IMP3-induced ubiquitination of PTEN protein, we recruited the lentiviral vectors (OE-SMURF1 and sh-SMURF1) to upregulate and silence SMURF1 in prostate cancer DU145 and LNCap cells.\t To uncover SMURF1 role in IMP3-induced ubiquitination of [GENE] protein we recruited the [EXPE] vectors (OE-SMURF1 and sh-SMURF1) to upregulate and silence SMURF1 in prostate cancer DU145 and LNCap cells\t0.51220906\n",
      "2020\tPMC7493339\tsmurf1\tknockdown\tAs sh-SMURF1–3 showed the highest knockdown efficiency among the 3 shRNAs of SMURF1, sh-1 was used in the following experiments.\t As sh-SMURF1–3 showed the highest [EXPE] efficiency among the 3 shRNAs of [GENE] sh-1 was used in the following experiments\t0.31923148\n",
      "2020\tPMC7493339\tsmurf1\trescued\tDownregulation of SMURF1 rescued the increase in the ubiquitination level of PTEN induced by IMP3 overexpression in DU145 and LNCap cells (Fig.  6 a), suggesting that IMP3 negatively modulated PTEN expression via promoting SMURF1-mediated PTEN ubiquitination.\t Downregulation of [GENE] [EXPE] the increase in the ubiquitination level of PTEN induced by IMP3 overexpression in DU145 and LNCap cells (Fig  6 a) suggesting that IMP3 negatively modulated PTEN expression via promoting SMURF1-mediated PTEN ubiquitination2020\tPMC7493339\tpten\trescued\tDownregulation of SMURF1 rescued the increase in the ubiquitination level of PTEN induced by IMP3 overexpression in DU145 and LNCap cells (Fig.  6 a), suggesting that IMP3 negatively modulated PTEN expression via promoting SMURF1-mediated PTEN ubiquitination.\t Downregulation of SMURF1 [EXPE] the increase in the ubiquitination level of PTEN induced by IMP3 overexpression in DU145 and LNCap cells (Fig  6 a) suggesting that IMP3 negatively modulated [GENE] expression via promoting SMURF1-mediated PTEN ubiquitination2020\tPMC7493339\tpten\toverexpression\tDownregulation of SMURF1 rescued the increase in the ubiquitination level of PTEN induced by IMP3 overexpression in DU145 and LNCap cells (Fig.  6 a), suggesting that IMP3 negatively modulated PTEN expression via promoting SMURF1-mediated PTEN ubiquitination.\t Downregulation of SMURF1 rescued the increase in the ubiquitination level of PTEN induced by IMP3 [EXPE] in DU145 and LNCap cells (Fig  6 a) suggesting that IMP3 negatively modulated PTEN expression via promoting SMURF1-mediated [GENE] ubiquitination2020\tPMC7493339\timp3\tassays\tThese results suggested that IMP3 served as an oncogene in prostate cancer, which was further confirmed by the loss-of-function assays induced by shRNA infection.\t These results suggested that [GENE] served as an oncogene in prostate cancer which was further confirmed by the loss-of-function [EXPE] induced by shRNA infection2020\tPMC7493339\timp3\toverexpression\tThe results showed that IMP3 overexpression decreased PTEN expression in DU145 and LNCap cells, while showed no affect in PTEN level in PC3 cells.\t The results showed that [GENE] [EXPE] decreased PTEN expression in DU145 and LNCap cells while showed no affect in PTEN level in PC3 cells2020\tPMC7493339\tuvrag\tinhibition\tFeng et al. [ 37 ] demonstrated that SMURF1 promoted the ubiquitination of UVRAG, an important regulator of mammalian macroautophagy/autophagy, resulting in autophagosome maturation and inhibition in cell growth in hepatocellular carcinoma.\t Feng et al [ 37 ] demonstrated that SMURF1 promoted the ubiquitination of [GENE] an important regulator of mammalian macroautophagy/autophagy resulting in autophagosome maturation and [EXPE] in cell growth in hepatocellular carcinoma2020\tPMC7493339\tsmurf1\tknockdown\tWe also found that knockdown of SMURF1 decreased the ubiquitylation level of PTEN induced by IMP3 upregulation, suggesting that IMP3 facilitated the ubiquitylation level of PTEN in a SMURF1-depedent manner in DU145 and LNCap cells.\t We also found that [EXPE] of [GENE] decreased the ubiquitylation level of PTEN induced by IMP3 upregulation suggesting that IMP3 facilitated the ubiquitylation level of PTEN in a SMURF1-depedent manner in DU145 and LNCap cells2020\tPMC7493339\tpten\tknockdown\tWe also found that knockdown of SMURF1 decreased the ubiquitylation level of PTEN induced by IMP3 upregulation, suggesting that IMP3 facilitated the ubiquitylation level of PTEN in a SMURF1-depedent manner in DU145 and LNCap cells.\t We also found that [EXPE] of SMURF1 decreased the ubiquitylation level of [GENE] induced by IMP3 upregulation suggesting that IMP3 facilitated the ubiquitylation level of PTEN in a SMURF1-depedent manner in DU145 and LNCap cells2020\tPMC7493339\tsmurf1\tinhibited\tIn addition, we found that cell proliferation was significantly enhanced and apoptosis was inhibited when SMURF1 was upregulated in prostate cancer DU145 and LNCap cells, whereas knockdown of SMURF1 inhibited cell proliferation and induced cell apoptosis.\t In addition we found that cell proliferation was significantly enhanced and apoptosis was [EXPE] when [GENE] was upregulated in prostate cancer DU145 and LNCap cells whereas knockdown of SMURF1 inhibited cell proliferation and induced cell apoptosis2020\tPMC7493341\tmbp\tblock\tA 36 Mbp linkage disequilibrium (LD) block included the single nucleotide polymorphism (SNP) markers RAC875_c38018_278, which was associated with shoot fresh weight after salt stress in the association panel.\t A 36 [GENE] linkage disequilibrium (LD) [EXPE] included the single nucleotide polymorphism (SNP) markers RAC875_c38018_278 which was associated with shoot fresh weight after salt stress in the association panel2020\tPMC7493341\tzip7\trt-qpcr\tRT-qPCR confirmed TraesCS5D02G238700 up-regulation at the osmotic phase, while the up-regulation of  TraesCS1B02G144500  ( ZIP7 ) at the ionic phase was corroborated in the study by Oyiga et al. [ 28 ].\t [EXPE] confirmed TraesCS5D02G238700 up-regulation at the osmotic phase while the up-regulation of  TraesCS1B02G144500  ( [GENE] ) at the ionic phase was corroborated in the study by Oyiga et al [ 28 ]2020\tPMC7493343\tcod\tfish\tCod is one of the most commonly consumed fish species in Europe and Japan [ 3 ], and is also the most well-characterized fish species with allergen components [ 8 ].\t [GENE] is one of the most commonly consumed [EXPE] species in Europe and Japan [ 3 ] and is also the most well-characterized fish species with allergen components [ 8 ]2020\tPMC7493343\tcod\telisa\tSpecific IgE reactivity to crude cod extracts was examined in the atopic dogs using ELISA.\t Specific IgE reactivity to crude [GENE] extracts was examined in the atopic dogs using [EXPE]2020\tPMC7493343\tcod\tpurified\tIgE reactivity to the purified cod allergens parvalbumin and collagen was tested in the sera of the 36 dogs with IgE reactivity to crude cod extracts using ELISA.\t IgE reactivity to the [EXPE] cod allergens parvalbumin and collagen was tested in the sera of the 36 dogs with IgE reactivity to crude [GENE] extracts using ELISA2020\tPMC7493343\tcod\telisa\tUsing the sera of 36 atopic dogs with IgE reactivity to cod extract, we determined the IgE reactivity to cod tropomyosin with ELISA (Fig.  4 ), and observed that 50% (18/36) of the dogs exhibited IgE reactivity to tropomyosin.\t Using the sera of 36 atopic dogs with IgE reactivity to [GENE] extract we determined the IgE reactivity to cod tropomyosin with [EXPE] (Fig  4 ) and observed that 50% (18/36) of the dogs exhibited IgE reactivity to tropomyosin2020\tPMC7493343\tcod\telisa\tUsing the sera of 36 atopic dogs with IgE reactivity to cod extract, we determined the IgE reactivity to cod tropomyosin with ELISA (Fig.  4 ), and observed that 50% (18/36) of the dogs exhibited IgE reactivity to tropomyosin.\t Using the sera of 36 atopic dogs with IgE reactivity to cod extract we determined the IgE reactivity to [GENE] tropomyosin with [EXPE] (Fig  4 ) and observed that 50% (18/36) of the dogs exhibited IgE reactivity to tropomyosin2020\tPMC7493343\tparvalbumin\tfish\tAdditionally, humans exhibit broad cross-reactivity to parvalbumin and collagen from distinct fish species [ 3 ,  24 ] and the same might occur in dogs with fish allergy as well.\t Additionally humans exhibit broad cross-reactivity to [GENE] and collagen from distinct [EXPE] species [ 3   24 ] and the same might occur in dogs with fish allergy as well2020\tPMC7493343\tcod\tfish\tMoreover, in the present study, 25% (9/36) of the dogs with specific IgE to crude cod extracts did not exhibit IgE reactivity to any of the three major purified allergens in ELISA, which implies that other cod allergens be responsible for inducing fish allergy in dogs.\t Moreover in the present study 25% (9/36) of the dogs with specific IgE to crude [GENE] extracts did not exhibit IgE reactivity to any of the three major purified allergens in ELISA which implies that other cod allergens be responsible for inducing [EXPE] allergy in dogs2020\tPMC7493343\tbca\tassay\tAfter centrifugation at 21500 x  g  for 5 min at 4 °C, the supernatant was collected, and the protein was quantified using the BCA protein assay (Bio-Rad, Hercules, CA, USA).\t After centrifugation at 21500 x  g  for 5 min at 4 °C the supernatant was collected and the protein was quantified using the [GENE] protein [EXPE] (Bio-Rad Hercules CA USA)2020\tPMC7493343\tparvalbumin\tpurified\tFish parvalbumin [ 4 ] and collagen [ 23 ] were purified as described previously.\t Fish [GENE] [ 4 ] and collagen [ 23 ] were [EXPE] as described previously2020\tPMC7493343\tcod\tpolyacrylamide\tThe crude cod extracts were separated electrophoretically using 5–20% gradient polyacrylamide gels, and the proteins were visualized either by Coomassie brilliant blue R250 (Bio-Rad) staining or by transferring onto polyvinylidene difluoride membranes (GE Healthcare, Chicago, IL, USA).\t The crude [GENE] extracts were separated electrophoretically using 5–20% gradient [EXPE] gels and the proteins were visualized either by Coomassie brilliant blue R250 (Bio-Rad) staining or by transferring onto polyvinylidene difluoride membranes (GE Healthcare Chicago IL USA)2020\tPMC7493343\tcod\tvisualized\tThe crude cod extracts were separated electrophoretically using 5–20% gradient polyacrylamide gels, and the proteins were visualized either by Coomassie brilliant blue R250 (Bio-Rad) staining or by transferring onto polyvinylidene difluoride membranes (GE Healthcare, Chicago, IL, USA).\t The crude [GENE] extracts were separated electrophoretically using 5–20% gradient polyacrylamide gels and the proteins were [EXPE] either by Coomassie brilliant blue R250 (Bio-Rad) staining or by transferring onto polyvinylidene difluoride membranes (GE Healthcare Chicago IL USA)2020\tPMC7493343\tcod\tcoomassie\tThe crude cod extracts were separated electrophoretically using 5–20% gradient polyacrylamide gels, and the proteins were visualized either by Coomassie brilliant blue R250 (Bio-Rad) staining or by transferring onto polyvinylidene difluoride membranes (GE Healthcare, Chicago, IL, USA).\t The crude [GENE] extracts were separated electrophoretically using 5–20% gradient polyacrylamide gels and the proteins were visualized either by [EXPE] brilliant blue R250 (Bio-Rad) staining or by transferring onto polyvinylidene difluoride membranes (GE Healthcare Chicago IL USA)2020\tPMC7493343\tcod\tstaining\tThe crude cod extracts were separated electrophoretically using 5–20% gradient polyacrylamide gels, and the proteins were visualized either by Coomassie brilliant blue R250 (Bio-Rad) staining or by transferring onto polyvinylidene difluoride membranes (GE Healthcare, Chicago, IL, USA).\t The crude [GENE] extracts were separated electrophoretically using 5–20% gradient polyacrylamide gels and the proteins were visualized either by Coomassie brilliant blue R250 (Bio-Rad) [EXPE] or by transferring onto polyvinylidene difluoride membranes (GE Healthcare Chicago IL USA)2020\tPMC7493343\tlas\tchemiluminescence\tAn enhanced chemiluminescence immunoblotting detection reagent (GE Healthcare) and the ImageQuant LAS 4000mini (GE Healthcare) were used for detection and visualization, respectively.\t An enhanced [EXPE] immunoblotting detection reagent (GE Healthcare) and the ImageQuant [GENE] 4000mini (GE Healthcare) were used for detection and visualization respectively2020\tPMC7493343\tlas\timmunoblotting\tAn enhanced chemiluminescence immunoblotting detection reagent (GE Healthcare) and the ImageQuant LAS 4000mini (GE Healthcare) were used for detection and visualization, respectively.\t An enhanced chemiluminescence [EXPE] detection reagent (GE Healthcare) and the ImageQuant [GENE] 4000mini (GE Healthcare) were used for detection and visualization respectively2020\tPMC7493343\tcod\telisa\tThe levels of specific IgE to cod crude extracts and individual purified allergens were measured using fluorometric ELISA, as previously described [ 20 ].\t The levels of specific IgE to [GENE] crude extracts and individual purified allergens were measured using fluorometric [EXPE] as previously described [ 20 ]2020\tPMC7493343\tcod\tcoomassie\t Non-cropped, non-modified images (A) of the Coomassie blue-stained SDS-PAGE and (B) of immunoblotting for crude cod extracts.\t  Non-cropped non-modified images (A) of the [EXPE] blue-stained SDS-PAGE and (B) of immunoblotting for crude [GENE] extracts2020\tPMC7493343\tcod\tsds-page\t Non-cropped, non-modified images (A) of the Coomassie blue-stained SDS-PAGE and (B) of immunoblotting for crude cod extracts.\t  Non-cropped non-modified images (A) of the Coomassie blue-stained [EXPE] and (B) of immunoblotting for crude [GENE] extracts2020\tPMC7493345\tsnail\tinfection\tWhen evaluating infection risks the life span results indicate that cercariae survive several days after emergence from the snail.\t When evaluating [EXPE] risks the life span results indicate that cercariae survive several days after emergence from the [GENE]2020\tPMC7493367\taes\tinfection\tWe found statistically-significant RORs for eight organs/systems of AEs, including gastrointestinal, pancreatitis, malignancies, infection, musculoskeletal, general disorders, hypersensitivity, and skin AEs.\t We found statistically-significant RORs for eight organs/systems of AEs including gastrointestinal pancreatitis malignancies [EXPE] musculoskeletal general disorders hypersensitivity and skin [GENE]2020\tPMC7493367\taes\tinfection\tAmong non-insulin antidiabetics, DPP-4is are associated with higher AEs reporting of the gastrointestinal tract, pancreatitis, malignancies, infection, musculoskeletal system, general disorders, hypersensitivity and skin, corroborating clinical trial evidence.\t Among non-insulin antidiabetics DPP-4is are associated with higher [GENE] reporting of the gastrointestinal tract pancreatitis malignancies [EXPE] musculoskeletal system general disorders hypersensitivity and skin corroborating clinical trial evidence2020\tPMC7493368\tfell\tassays\tIn this investigation, all DPP assays fell short of meeting these cutoffs, particularly when used on samples with high Ct value (low viral load).\t In this investigation all DPP [EXPE] [GENE] short of meeting these cutoffs particularly when used on samples with high Ct value (low viral load)2020\tPMC7493369\tago\tdrug\tForming part of daily meals of many people through seafood, grains, vegetables and broadly utilized in the food industry, silica has been acknowledged as “safe” by the U.S. Food and Drug Administration 50 years ago [ 27 ].\t Forming part of daily meals of many people through seafood grains vegetables and broadly utilized in the food industry silica has been acknowledged as “safe” by the US Food and [EXPE] Administration 50 years [GENE] [ 27 ]2020\tPMC7493370\tmea\ttranscriptomic\tWhen using most MEA methods, regulatory regions are typically scored by their biological response in transcriptomic or epigenomic assays.\t When using most [GENE] methods regulatory regions are typically scored by their biological response in [EXPE] or epigenomic assays2020\tPMC7493370\tklf13\tsilenced\tNotably, while MEIRLOP finds enrichment for a KLF13 binding motif associated with transcriptionally silenced chromatin (enrichment coefficient = − 0.33, adjusted p-value <1e-8) (Fig.  5 b), it requires the additional DNase-seq signal covariate to do so: Running MEIRLOP with only dinucleotide-based covariates does not find a significant enrichment of this motif (enrichment coefficient − 4.8e-2, adjusted p-value = 0.18).\t Notably while MEIRLOP finds enrichment for a [GENE] binding motif associated with transcriptionally [EXPE] chromatin (enrichment coefficient = − 033 adjusted p-value <1e-8) (Fig  5 b) it requires the additional DNase-seq signal covariate to do so: Running MEIRLOP with only dinucleotide-based covariates does not find a significant enrichment of this motif (enrichment coefficient − 48e-2 adjusted p-value = 018)2020\tPMC7493373\tgem\tdatabase\tAnother recent tool based on mapping is TaxMaps [ 6 ]: it uses a database compression algorithm that eliminates redundancy by performing a lowest common ancestor (LCA) pre-assignment and collapse for k-mers of length greater than a specified read length; this allows GEM mapper [ 17 ] to conduct non-exact searches in the same manner as it would against the original database, resulting in compression that, for the purpose of taxonomic classification, is lossless.\t Another recent tool based on mapping is TaxMaps [ 6 ]: it uses a database compression algorithm that eliminates redundancy by performing a lowest common ancestor (LCA) pre-assignment and collapse for k-mers of length greater than a specified read length; this allows [GENE] mapper [ 17 ] to conduct non-exact searches in the same manner as it would against the original [EXPE] resulting in compression that for the purpose of taxonomic classification is lossless2020\tPMC7493373\tram\tdatabase\tFor instance, CLARK-S needs about 120 GB of RAM for the database used for its classification of the simulated datasets, while Centrifuge, Kraken 2 and taxMaps need about 10 GB of RAM.\t For instance CLARK-S needs about 120 GB of RAM for the [EXPE] used for its classification of the simulated datasets while Centrifuge Kraken 2 and taxMaps need about 10 GB of [GENE]2020\tPMC7493374\tapoe\tassays\t APOE  was genotyped from 45/60 (75%) of the probable fNPH patients and from 25/49 (51%) of their ≥ 60-year-old non-iNPH relatives by determining 2 single-nucleotide polymorphisms (rs429358 and rs7412) by using the polymerase chain reaction (PCR), the TaqMan genotyping assays (Applied Biosystems (ABI), Foster City, CA, USA) and an allelic discrimination method on the ABI 7000 platform [ 36 ].\t  [GENE]  was genotyped from 45/60 (75%) of the probable fNPH patients and from 25/49 (51%) of their ≥ 60-year-old non-iNPH relatives by determining 2 single-nucleotide polymorphisms (rs429358 and rs7412) by using the polymerase chain reaction (PCR) the TaqMan genotyping [EXPE] (Applied Biosystems (ABI) Foster City CA USA) and an allelic discrimination method on the ABI 7000 platform [ 36 ]2020\tPMC7493375\ttst\tem\t Abbreviations : em, embryo; ext., exotesta; pems, proembryos; po, polar nuclei; tg, tegmen; tst, testa.\t  Abbreviations : [EXPE] embryo; ext exotesta; pems proembryos; po polar nuclei; tg tegmen; [GENE] testa2020\tPMC7493381\tklf4\ttetracycline-inducible\tWe developed a tetracycline-inducible expression system to re-express KLF4 in PDX B-ALL cells in vivo .\t We developed a [EXPE] expression system to re-express [GENE] in PDX B-ALL cells in vivo2020\tPMC7493381\tklf4\tknockout\tWith the aid of a CRISPR/Cas9-mediated KLF4 knockout in PDX cells, we further demonstrated that azacitidine exerts its antitumor effect by upregulating KLF4, supporting our interpretation.\t With the aid of a CRISPR/Cas9-mediated KLF4 [EXPE] in PDX cells we further demonstrated that azacitidine exerts its antitumor effect by upregulating [GENE] supporting our interpretation2020\tPMC7493381\tklf4\tinducible\tFor inducible transgene expression, PDX B-ALL cells were consecutively lentivirally transduced with three constructs containing the tet activator, the tet repressor and KLF4 expression cassettes under the control of the TRE promoter [ 42 ].\t For [EXPE] transgene expression PDX B-ALL cells were consecutively lentivirally transduced with three constructs containing the tet activator the tet repressor and [GENE] expression cassettes under the control of the TRE promoter [ 42 ]2020\tPMC7493381\tklf4\ttransgene\tFor inducible transgene expression, PDX B-ALL cells were consecutively lentivirally transduced with three constructs containing the tet activator, the tet repressor and KLF4 expression cassettes under the control of the TRE promoter [ 42 ].\t For inducible [EXPE] expression PDX B-ALL cells were consecutively lentivirally transduced with three constructs containing the tet activator the tet repressor and [GENE] expression cassettes under the control of the TRE promoter [ 42 ]2020\tPMC7493381\tklf4\ttransduced\tFor inducible transgene expression, PDX B-ALL cells were consecutively lentivirally transduced with three constructs containing the tet activator, the tet repressor and KLF4 expression cassettes under the control of the TRE promoter [ 42 ].\t For inducible transgene expression PDX B-ALL cells were consecutively lentivirally [EXPE] with three constructs containing the tet activator the tet repressor and [GENE] expression cassettes under the control of the TRE promoter [ 42 ]2020\tPMC7493381\tbca\tassay\tProtein concentration was measured by BCA assay (#7780, New England Biolabs, Beverly, USA) and abundance of specific proteins determined by two different methods.\t Protein concentration was measured by [GENE] [EXPE] (#7780 New England Biolabs Beverly USA) and abundance of specific proteins determined by two different methods2020\tPMC7493381\tklf4\ttranscriptome\tDetails are provided in the supplement regarding transcriptome analysis (Table S 2 ), the constructs used for the inducible expression of KLF4 and CRISPR/Cas9-mediated knockout of KLF4 (Table S 3 ), cell isolation and culture conditions, EBV infection, in vitro culture, in vivo growth of PDX-ALL, monitoring of tumor burden and drug treatments, PDX cell homing assay, in vitro culture and drug treatment of cells, cell cycle analysis, RT-PCR (Table S 4 ) and statistical analysis.\t Details are provided in the supplement regarding [EXPE] analysis (Table S 2 ) the constructs used for the inducible expression of [GENE] and CRISPR/Cas9-mediated knockout of KLF4 (Table S 3 ) cell isolation and culture conditions EBV infection in vitro culture in vivo growth of PDX-ALL monitoring of tumor burden and drug treatments PDX cell homing assay in vitro culture and drug treatment of cells cell cycle analysis RT-PCR (Table S 4 ) and statistical analysis2020\tPMC7493381\tklf4\tinducible\tDetails are provided in the supplement regarding transcriptome analysis (Table S 2 ), the constructs used for the inducible expression of KLF4 and CRISPR/Cas9-mediated knockout of KLF4 (Table S 3 ), cell isolation and culture conditions, EBV infection, in vitro culture, in vivo growth of PDX-ALL, monitoring of tumor burden and drug treatments, PDX cell homing assay, in vitro culture and drug treatment of cells, cell cycle analysis, RT-PCR (Table S 4 ) and statistical analysis.\t Details are provided in the supplement regarding transcriptome analysis (Table S 2 ) the constructs used for the [EXPE] expression of [GENE] and CRISPR/Cas9-mediated knockout of KLF4 (Table S 3 ) cell isolation and culture conditions EBV infection in vitro culture in vivo growth of PDX-ALL monitoring of tumor burden and drug treatments PDX cell homing assay in vitro culture and drug treatment of cells cell cycle analysis RT-PCR (Table S 4 ) and statistical analysis2020\tPMC7493381\tklf4\tknockout\tDetails are provided in the supplement regarding transcriptome analysis (Table S 2 ), the constructs used for the inducible expression of KLF4 and CRISPR/Cas9-mediated knockout of KLF4 (Table S 3 ), cell isolation and culture conditions, EBV infection, in vitro culture, in vivo growth of PDX-ALL, monitoring of tumor burden and drug treatments, PDX cell homing assay, in vitro culture and drug treatment of cells, cell cycle analysis, RT-PCR (Table S 4 ) and statistical analysis.\t Details are provided in the supplement regarding transcriptome analysis (Table S 2 ) the constructs used for the inducible expression of [GENE] and CRISPR/Cas9-mediated [EXPE] of KLF4 (Table S 3 ) cell isolation and culture conditions EBV infection in vitro culture in vivo growth of PDX-ALL monitoring of tumor burden and drug treatments PDX cell homing assay in vitro culture and drug treatment of cells cell cycle analysis RT-PCR (Table S 4 ) and statistical analysis2020\tPMC7493381\tklf4\trt-pcr\tDetails are provided in the supplement regarding transcriptome analysis (Table S 2 ), the constructs used for the inducible expression of KLF4 and CRISPR/Cas9-mediated knockout of KLF4 (Table S 3 ), cell isolation and culture conditions, EBV infection, in vitro culture, in vivo growth of PDX-ALL, monitoring of tumor burden and drug treatments, PDX cell homing assay, in vitro culture and drug treatment of cells, cell cycle analysis, RT-PCR (Table S 4 ) and statistical analysis.\t Details are provided in the supplement regarding transcriptome analysis (Table S 2 ) the constructs used for the inducible expression of [GENE] and CRISPR/Cas9-mediated knockout of KLF4 (Table S 3 ) cell isolation and culture conditions EBV infection in vitro culture in vivo growth of PDX-ALL monitoring of tumor burden and drug treatments PDX cell homing assay in vitro culture and drug treatment of cells cell cycle analysis [EXPE] (Table S 4 ) and statistical analysis2020\tPMC7493381\tklf4\tinducible\tDetails are provided in the supplement regarding transcriptome analysis (Table S 2 ), the constructs used for the inducible expression of KLF4 and CRISPR/Cas9-mediated knockout of KLF4 (Table S 3 ), cell isolation and culture conditions, EBV infection, in vitro culture, in vivo growth of PDX-ALL, monitoring of tumor burden and drug treatments, PDX cell homing assay, in vitro culture and drug treatment of cells, cell cycle analysis, RT-PCR (Table S 4 ) and statistical analysis.\t Details are provided in the supplement regarding transcriptome analysis (Table S 2 ) the constructs used for the [EXPE] expression of KLF4 and CRISPR/Cas9-mediated knockout of [GENE] (Table S 3 ) cell isolation and culture conditions EBV infection in vitro culture in vivo growth of PDX-ALL monitoring of tumor burden and drug treatments PDX cell homing assay in vitro culture and drug treatment of cells cell cycle analysis RT-PCR (Table S 4 ) and statistical analysis2020\tPMC7493381\tklf4\tknockout\tDetails are provided in the supplement regarding transcriptome analysis (Table S 2 ), the constructs used for the inducible expression of KLF4 and CRISPR/Cas9-mediated knockout of KLF4 (Table S 3 ), cell isolation and culture conditions, EBV infection, in vitro culture, in vivo growth of PDX-ALL, monitoring of tumor burden and drug treatments, PDX cell homing assay, in vitro culture and drug treatment of cells, cell cycle analysis, RT-PCR (Table S 4 ) and statistical analysis.\t Details are provided in the supplement regarding transcriptome analysis (Table S 2 ) the constructs used for the inducible expression of KLF4 and CRISPR/Cas9-mediated [EXPE] of [GENE] (Table S 3 ) cell isolation and culture conditions EBV infection in vitro culture in vivo growth of PDX-ALL monitoring of tumor burden and drug treatments PDX cell homing assay in vitro culture and drug treatment of cells cell cycle analysis RT-PCR (Table S 4 ) and statistical analysis2020\tPMC7493381\tklf4\tdrug\tDetails are provided in the supplement regarding transcriptome analysis (Table S 2 ), the constructs used for the inducible expression of KLF4 and CRISPR/Cas9-mediated knockout of KLF4 (Table S 3 ), cell isolation and culture conditions, EBV infection, in vitro culture, in vivo growth of PDX-ALL, monitoring of tumor burden and drug treatments, PDX cell homing assay, in vitro culture and drug treatment of cells, cell cycle analysis, RT-PCR (Table S 4 ) and statistical analysis.\t Details are provided in the supplement regarding transcriptome analysis (Table S 2 ) the constructs used for the inducible expression of KLF4 and CRISPR/Cas9-mediated knockout of [GENE] (Table S 3 ) cell isolation and culture conditions EBV infection in vitro culture in vivo growth of PDX-ALL monitoring of tumor burden and [EXPE] treatments PDX cell homing assay in vitro culture and drug treatment of cells cell cycle analysis RT-PCR (Table S 4 ) and statistical analysis2020\tPMC7493381\tklf4\trecombinant\tTwo different variants of KLF4, wildtype KLF4 (wtKLF4) and a variant form of KLF4 (mutKLF4) were cloned into recombinant viruses (Supplementary Figure S 2 B and C).\t Two different variants of KLF4 wildtype KLF4 (wtKLF4) and a variant form of [GENE] (mutKLF4) were cloned into [EXPE] viruses (Supplementary Figure S 2 B and C)2020\tPMC7493381\tklf4\tinhibitor\tThus, KLF4 acts as a cell cycle inhibitor in the model of in vitro EBV-induced oncogenesis and conversion of normal B-cells into B-blasts.\t Thus [GENE] acts as a cell cycle [EXPE] in the model of in vitro EBV-induced oncogenesis and conversion of normal B-cells into B-blasts2020\tPMC7493381\tklf4\tdrug\tAs we discovered that downregulating KLF4 plays an essential role in the growth of 2 established PDX models of B-ALL in vivo and that the widely used drug Aza upregulates KLF4, our data support the further evaluation of Aza as a therapeutic strategy and the idea of applying Aza to the treatment of patients with B-ALL.\t As we discovered that downregulating [GENE] plays an essential role in the growth of 2 established PDX models of B-ALL in vivo and that the widely used [EXPE] Aza upregulates KLF4 our data support the further evaluation of Aza as a therapeutic strategy and the idea of applying Aza to the treatment of patients with B-ALL2020\tPMC7493381\tklf4\tdrug\tAs we discovered that downregulating KLF4 plays an essential role in the growth of 2 established PDX models of B-ALL in vivo and that the widely used drug Aza upregulates KLF4, our data support the further evaluation of Aza as a therapeutic strategy and the idea of applying Aza to the treatment of patients with B-ALL.\t As we discovered that downregulating KLF4 plays an essential role in the growth of 2 established PDX models of B-ALL in vivo and that the widely used [EXPE] Aza upregulates [GENE] our data support the further evaluation of Aza as a therapeutic strategy and the idea of applying Aza to the treatment of patients with B-ALL2020\tPMC7493382\thint\tpatient\tThis CDSS aims to identify similar patients to an undiagnosed patient in the DIC, which could give a physician an hint for diagnosis [ 8 ].\t This CDSS aims to identify similar patients to an undiagnosed [EXPE] in the DIC which could give a physician an [GENE] for diagnosis [ 8 ]2020\tPMC7493387\tchia\trecombinant\tHowever, the yield is still far from the requirement of industrial application, multiple strategies are still needed to increase the expression of recombinant ChiA in yeast.\t However the yield is still far from the requirement of industrial application multiple strategies are still needed to increase the expression of [EXPE] [GENE] in yeast2020\tPMC7493387\thac1\trecombinant\tHAC1 can trigger the unfolded protein response (UPR) and increase the secretion of recombinant proteins which were demonstrated in many studies.\t [GENE] can trigger the unfolded protein response (UPR) and increase the secretion of [EXPE] proteins which were demonstrated in many studies2020\tPMC7493387\terv29\trecombinant\tERV29, SEC16 and COG5 are involved in the secretory and trafficking pathway, which have been identified to improve the secretion of recombinant proteins in  S. cerevisiae  [ 19 ,  20 ].\t [GENE] SEC16 and COG5 are involved in the secretory and trafficking pathway which have been identified to improve the secretion of [EXPE] proteins in  S cerevisiae  [ 19   20 ]2020\tPMC7493387\tchia\trecombinant\tThe recombinant plasmid included single copy of  ChiA  was confirmed by sequencing and named as pHBM905M- ChiA -1C (Additional file  1 : Fig.S2A).\t The [EXPE] plasmid included single copy of  [GENE]  was confirmed by sequencing and named as pHBM905M- ChiA -1C (Additional file  1 : FigS2A)2020\tPMC7493387\tchia\trecombinant\tThe recombinant plasmid included single copy of  ChiA  was confirmed by sequencing and named as pHBM905M- ChiA -1C (Additional file  1 : Fig.S2A).\t The [EXPE] plasmid included single copy of  ChiA  was confirmed by sequencing and named as pHBM905M- [GENE] -1C (Additional file  1 : FigS2A)2020\tPMC7493387\tchia\tchromatography\tThe reaction mixtures, including 200 µL ChiA (18 U/mL) mixed with 500 µL 10%, 15%, 25%, 30%, 35% and 40% colloidal chitin respectively were incubated at 50 °C for 12 h. The reaction products were determined by high performance liquid chromatography (HPLC), using Nexera UHPLC/HPLC System with a Zorbax Carbohydrate Analysis Column (4.6 × 250 mm, 5 µm) (Agilent, America).\t The reaction mixtures including 200 µL [GENE] (18 U/mL) mixed with 500 µL 10% 15% 25% 30% 35% and 40% colloidal chitin respectively were incubated at 50 °C for 12 h The reaction products were determined by high performance liquid [EXPE] (HPLC) using Nexera UHPLC/HPLC System with a Zorbax Carbohydrate Analysis Column (46 × 250 mm 5 µm) (Agilent America)2020\tPMC7493387\tchia\tbioinformatics\tThe molecular weight of ChiA is 76.20 kDa predicted by the ExPASy Bioinformatics Resource program, and the ChiA has 7 potential N-glycosylation sites.\t The molecular weight of [GENE] is 7620 kDa predicted by the ExPASy [EXPE] Resource program and the ChiA has 7 potential N-glycosylation sites2020\tPMC7493387\tchia\tbioinformatics\tThe molecular weight of ChiA is 76.20 kDa predicted by the ExPASy Bioinformatics Resource program, and the ChiA has 7 potential N-glycosylation sites.\t The molecular weight of ChiA is 7620 kDa predicted by the ExPASy [EXPE] Resource program and the [GENE] has 7 potential N-glycosylation sites2020\tPMC7493387\tchia\tsds-page\tHere, the recombinant ChiA migrated as an about 100 kDa band through SDS-PAGE analysis (Fig.  1 a), same as the previous report [ 10 ].\t Here the recombinant [GENE] migrated as an about 100 kDa band through [EXPE] analysis (Fig  1 a) same as the previous report [ 10 ]2020\tPMC7493387\tchia\trecombinant\tMenghiu et al. determined the hydrolysis products of recombinant ChiA from  P. pastoris  by TLC using 2% colloidal chitin as substrate, which showed the reaction products were mainly  N ,  N ′-diacetylchitobiose, followed by GlcNAc, and considered that ChiA is an endochitinase [ 10 ].\t Menghiu et al determined the hydrolysis products of [EXPE] [GENE] from  P pastoris  by TLC using 2% colloidal chitin as substrate which showed the reaction products were mainly  N   N ′-diacetylchitobiose followed by GlcNAc and considered that ChiA is an endochitinase [ 10 ]2020\tPMC7493387\ttlc\trecombinant\tMenghiu et al. determined the hydrolysis products of recombinant ChiA from  P. pastoris  by TLC using 2% colloidal chitin as substrate, which showed the reaction products were mainly  N ,  N ′-diacetylchitobiose, followed by GlcNAc, and considered that ChiA is an endochitinase [ 10 ].\t Menghiu et al determined the hydrolysis products of [EXPE] ChiA from  P pastoris  by [GENE] using 2% colloidal chitin as substrate which showed the reaction products were mainly  N   N ′-diacetylchitobiose followed by GlcNAc and considered that ChiA is an endochitinase [ 10 ]2020\tPMC7493387\tchia\tco-expressed\tHere five molecular chaperones  HAC1 ,  EVR29 ,  SEC16 ,  COG5  and  TRM1  have been co-expressed separately with 4 copies of  ChiA  in  P. pastoris .\t Here five molecular chaperones  HAC1   EVR29   SEC16   COG5  and  TRM1  have been [EXPE] separately with 4 copies of  [GENE]  in  P pastoris2020\tPMC7493387\terv29\toverexpressed\tHuang et al. reported that overexpressed  ERV29  or  COG5  individually could improved the secretion level of amylase in  S. cerevisiae.\t Huang et al reported that [EXPE]  [GENE]  or  COG5  individually could improved the secretion level of amylase in  S cerevisiae2020\tPMC7493387\tcog5\toverexpressed\tHuang et al. reported that overexpressed  ERV29  or  COG5  individually could improved the secretion level of amylase in  S. cerevisiae.\t Huang et al reported that [EXPE]  ERV29  or  [GENE]  individually could improved the secretion level of amylase in  S cerevisiae2020\tPMC7493387\tchia\trecombinant\t Construction of pHBM905M- ChiA  recombinant plasmids.\t  Construction of pHBM905M- [GENE]  [EXPE] plasmids2020\tPMC7493388\tsparc\tadenovirus\tSPARC expression in hepatic tissue was significantly increased during the development of liver fibrosis, and targeting SPARC through an adenovirus carrying antisense SPARC suppressed HSCs activation in thioacetamide induced liver fibrosis in rats [ 19 ].\t [GENE] expression in hepatic tissue was significantly increased during the development of liver fibrosis and targeting SPARC through an [EXPE] carrying antisense SPARC suppressed HSCs activation in thioacetamide induced liver fibrosis in rats [ 19 ]2020\tPMC7493388\tfstl1\t−/−\tHomozygous  Fstl1 −/−  mice die of respiratory failure shortly after birth [ 20 ], so  Fstl1 +/−  or conditional knockout mice have been used to study the lung and kidney fibrosis [ 21 ,  22 ].\t Homozygous  [GENE] [EXPE]  mice die of respiratory failure shortly after birth [ 20 ] so  Fstl1 +/−  or conditional knockout mice have been used to study the lung and kidney fibrosis [ 21   22 ]2020\tPMC7493388\tfstl1\tknockout\tHomozygous  Fstl1 −/−  mice die of respiratory failure shortly after birth [ 20 ], so  Fstl1 +/−  or conditional knockout mice have been used to study the lung and kidney fibrosis [ 21 ,  22 ].\t Homozygous  [GENE] −/−  mice die of respiratory failure shortly after birth [ 20 ] so  Fstl1 +/−  or conditional [EXPE] mice have been used to study the lung and kidney fibrosis [ 21   22 ]2020\tPMC7493388\tfstl1\tknockout\tHomozygous  Fstl1 −/−  mice die of respiratory failure shortly after birth [ 20 ], so  Fstl1 +/−  or conditional knockout mice have been used to study the lung and kidney fibrosis [ 21 ,  22 ].\t Homozygous  Fstl1 −/−  mice die of respiratory failure shortly after birth [ 20 ] so  [GENE] +/−  or conditional [EXPE] mice have been used to study the lung and kidney fibrosis [ 21   22 ]2020\tPMC7493388\tcxcl8\trecombinant\tRecombinant standards of FSTL1, CCL2 or CXCL8 provided in the kit and the serum or isolated culture medium were added to a plate pre-coated with a monoclonal antibody against the chemokine.\t [EXPE] standards of FSTL1 CCL2 or [GENE] provided in the kit and the serum or isolated culture medium were added to a plate pre-coated with a monoclonal antibody against the chemokine2020\tPMC7493388\tecl\tvisualized\tThe bands were visualized using ECL reagents (Thermofisher Scientific, USA).\t The bands were [EXPE] using [GENE] reagents (Thermofisher Scientific USA)2020\tPMC7493388\tfstl1\tdigestion\tThe Wildtype (WT) or mutant (Mut) 3 ‘UTR region of Fstl1 was cloned to the downstream of reporter Renilla luciferase gene (hRluc) by XhoI and NotI digestion.\t The Wildtype (WT) or mutant (Mut) 3 ‘UTR region of [GENE] was cloned to the downstream of reporter Renilla luciferase gene (hRluc) by XhoI and NotI [EXPE]2020\tPMC7493388\tfstl1\tover-expression\tOver-expression of FSTL1 in Serum and Livers of Human Patients with Chronic liver diseases.\t [EXPE] of [GENE] in Serum and Livers of Human Patients with Chronic liver diseases2020\tPMC7493388\tfstl1\tco-stained\tFSTL1 immunostaining was weak in liver sections from CTL and was increased significantly (more than two-fold,  p  < 0.05) in the cytoplasm of hepatocyte in liver sections from patients with HBV and LC which co-stained with α-SMA (Fig.  1 b).\t [GENE] immunostaining was weak in liver sections from CTL and was increased significantly (more than two-fold  p  < 005) in the cytoplasm of hepatocyte in liver sections from patients with HBV and LC which [EXPE] with α-SMA (Fig  1 b)2020\tPMC7493388\tfstl1\tncbi\tThen we analyzed  FSTL1  expression in a gene-profiling dataset of percutaneous liver biopsies from NAFLD patients [ 33 ] through The NCBI Gene Expression Omnibus (GEO accession:GSE31803).\t Then we analyzed  [GENE]  expression in a gene-profiling dataset of percutaneous liver biopsies from NAFLD patients [ 33 ] through The [EXPE] Gene Expression Omnibus (GEO accession:GSE31803)2020\tPMC7493388\tfstl1\tstained\t b  Paraffin liver sections from healthy CTL, and patients with HBV and LC were stained with FSTL1 (red), α-SMA (green) and DAPI ( n  = 5 per group).\t  b  Paraffin liver sections from healthy CTL and patients with HBV and LC were [EXPE] with [GENE] (red) α-SMA (green) and DAPI ( n  = 5 per group)2020\tPMC7493388\tfstl1\tco-stained\tWe detected Fstl1 +  cells co-stained with HSCs activation marker α-SMA in mouse livers at 28 days after prolonged administration of CCl 4  (Fig.  2 e).\t We detected [GENE] +  cells [EXPE] with HSCs activation marker α-SMA in mouse livers at 28 days after prolonged administration of CCl 4  (Fig  2 e)2020\tPMC7493388\tfstl1\tmicroarray\tFSTL1 gene expression was significantly up-regulated (more than 5 fold) in human active cell line LX-2 compared with primary HSCs through DNA microarray analyses [ 35 ].\t [GENE] gene expression was significantly up-regulated (more than 5 fold) in human active cell line LX-2 compared with primary HSCs through DNA [EXPE] analyses [ 35 ]2020\tPMC7493388\tfstl1\tdatabase\tBased on the GEO database (GEO accession: GDS3492), the gene expression of Fstl1 was significantly higher in growing activated HSCs than senescent HSCs stimulated by DNA damage drug etoposide (Figure S 1 ).\t Based on the GEO [EXPE] (GEO accession: GDS3492) the gene expression of [GENE] was significantly higher in growing activated HSCs than senescent HSCs stimulated by DNA damage drug etoposide (Figure S 1 )2020\tPMC7493388\tfstl1\tdrug\tBased on the GEO database (GEO accession: GDS3492), the gene expression of Fstl1 was significantly higher in growing activated HSCs than senescent HSCs stimulated by DNA damage drug etoposide (Figure S 1 ).\t Based on the GEO database (GEO accession: GDS3492) the gene expression of [GENE] was significantly higher in growing activated HSCs than senescent HSCs stimulated by DNA damage [EXPE] etoposide (Figure S 1 )2020\tPMC7493388\tfstl1\tstaining\t Fstl1 +/−  mice also showed reduced degree of liver fibrosis, as determined by Sirius-red staining (Fig.  3 g).\t  [GENE] +/−  mice also showed reduced degree of liver fibrosis as determined by Sirius-red [EXPE] (Fig  3 g)2020\tPMC7493388\tfstl1\tsirna\tFSTL1 siRNA was highly effective in decreasing Fstl1 gene and protein expression relative to a scramble siRNA control (Figure S 4 a-b).\t [GENE] siRNA was highly effective in decreasing Fstl1 gene and protein expression relative to a scramble [EXPE] control (Figure S 4 a-b)2020\tPMC7493388\tfstl1\tsirna\tFSTL1 siRNA was highly effective in decreasing Fstl1 gene and protein expression relative to a scramble siRNA control (Figure S 4 a-b).\t FSTL1 [EXPE] was highly effective in decreasing [GENE] gene and protein expression relative to a scramble siRNA control (Figure S 4 a-b)2020\tPMC7493388\tfstl1\tsirna\tFSTL1 siRNA was highly effective in decreasing Fstl1 gene and protein expression relative to a scramble siRNA control (Figure S 4 a-b).\t FSTL1 siRNA was highly effective in decreasing [GENE] gene and protein expression relative to a scramble [EXPE] control (Figure S 4 a-b)2020\tPMC7493388\tfstl1\tinhibition\tDecreased FSTL1 expression led to the inhibition of expression of α-SMA and COL1 (Figure S 4 a-c).\t Decreased [GENE] expression led to the [EXPE] of expression of α-SMA and COL1 (Figure S 4 a-c)2020\tPMC7493388\tjnk\tknockdown\tIn addition, knockdown FSTL1 inhibited phosphorylation of JNK and TGF-β1 induced phosphorylation of Smad2 (Figure S 4 b-c).\t In addition [EXPE] FSTL1 inhibited phosphorylation of [GENE] and TGF-β1 induced phosphorylation of Smad2 (Figure S 4 b-c)2020\tPMC7493388\tfstl1\tinhibitor\tIn consistent with this,  miR29a  inhibitor up-regulated expression of Fstl1, α-SMA and  Col1  (Fig.  5 f,h).\t In consistent with this  miR29a  [EXPE] up-regulated expression of [GENE] α-SMA and  Col1  (Fig  5 fh)2020\tPMC7493388\thsc\tinhibitor\t4-methylumbelliferone, an inhibitor of hyaluronan deposition, suppressed the HSC trans-differentiation and altered macrophage localization with the down-regulation of Fstl1 in CCl 4  treated mice [ 40 ].\t 4-methylumbelliferone an [EXPE] of hyaluronan deposition suppressed the [GENE] trans-differentiation and altered macrophage localization with the down-regulation of Fstl1 in CCl 4  treated mice [ 40 ]2020\tPMC7493388\tfstl1\tinhibitor\t4-methylumbelliferone, an inhibitor of hyaluronan deposition, suppressed the HSC trans-differentiation and altered macrophage localization with the down-regulation of Fstl1 in CCl 4  treated mice [ 40 ].\t 4-methylumbelliferone an [EXPE] of hyaluronan deposition suppressed the HSC trans-differentiation and altered macrophage localization with the down-regulation of [GENE] in CCl 4  treated mice [ 40 ]2020\tPMC7493390\terbb3\tdrug\tIn this context we reported that monoclonal antibodies targeting ErbB3, a member of EGFR family, are able to inhibit activation of this receptor as a mechanism of escaping from MAPKi in melanoma and to delay the emergence of drug resistance in vitro and in vivo [ 8 ].\t In this context we reported that monoclonal antibodies targeting [GENE] a member of EGFR family are able to inhibit activation of this receptor as a mechanism of escaping from MAPKi in melanoma and to delay the emergence of [EXPE] resistance in vitro and in vivo [ 8 ]2020\tPMC7493390\tegfr\tdrug\tIn this context we reported that monoclonal antibodies targeting ErbB3, a member of EGFR family, are able to inhibit activation of this receptor as a mechanism of escaping from MAPKi in melanoma and to delay the emergence of drug resistance in vitro and in vivo [ 8 ].\t In this context we reported that monoclonal antibodies targeting ErbB3 a member of [GENE] family are able to inhibit activation of this receptor as a mechanism of escaping from MAPKi in melanoma and to delay the emergence of [EXPE] resistance in vitro and in vivo [ 8 ]2020\tPMC7493390\tadenomatous polyposis coli\tinactivation\tAmong them, LINE-1 insertions were observed in the oncosuppressor Adenomatous Polyposis Coli (APC) leading to its inactivation, which suggests a direct contribution to tumor-initiation [ 19 ].\t Among them LINE-1 insertions were observed in the oncosuppressor [GENE] (APC) leading to its [EXPE] which suggests a direct contribution to tumor-initiation [ 19 ]2020\tPMC7493390\tbraf\tinhibitors\tThis compound has largely demonstrated to be able to exert antitumor effects on melanoma cells [ 34 ,  35 ] although never in the presence of BRAF inhibitors.\t This compound has largely demonstrated to be able to exert antitumor effects on melanoma cells [ 34   35 ] although never in the presence of [GENE] [EXPE]2020\tPMC7493390\th2ax\tinhibitor\tResults (Fig.  2 a, left panels) clearly show the increase of H2A.X foci corresponding to DNA double-strand breaks sites when we combine SPV122 with either BRAFi alone or to greater extent with both a BRAF and a MEK inhibitor.\t Results (Fig  2 a left panels) clearly show the increase of [GENE] foci corresponding to DNA double-strand breaks sites when we combine SPV122 with either BRAFi alone or to greater extent with both a BRAF and a MEK [EXPE]2020\tPMC7493390\tbraf\tinhibitors\tWe are aware that our data do not directly allow to correlate SPV122 effects as potentiator of BRAF and MEK inhibitors in melanoma, with inhibition of retrotransposon activity.\t We are aware that our data do not directly allow to correlate SPV122 effects as potentiator of [GENE] and MEK [EXPE] in melanoma with inhibition of retrotransposon activity2020\tPMC7493390\tbraf\tinhibition\tWe are aware that our data do not directly allow to correlate SPV122 effects as potentiator of BRAF and MEK inhibitors in melanoma, with inhibition of retrotransposon activity.\t We are aware that our data do not directly allow to correlate SPV122 effects as potentiator of [GENE] and MEK inhibitors in melanoma with [EXPE] of retrotransposon activity2020\tPMC7493393\tplasminogen\tinhibitor\tPA inhibitor, plasminogen activator inhivitor-1 (PAI-1), and the plasmin inhibitor α 2 -antiplasmin (α 2 -AP) are present as fibrinolytic system-controlling factors [ 9 ].\t PA inhibitor [GENE] activator inhivitor-1 (PAI-1) and the plasmin [EXPE] α 2 -antiplasmin (α 2 -AP) are present as fibrinolytic system-controlling factors [ 9 ]2020\tPMC7493394\tard\tin situ\tIn contrast, the MexTAg model involves induction of ARD in situ following asbestos exposure, where TAg expression phenocopies p16 loss, effectively bypassing p53/p16 mediated cell cycle control [ 21 ].\t In contrast the MexTAg model involves induction of [GENE] [EXPE] following asbestos exposure where TAg expression phenocopies p16 loss effectively bypassing p53/p16 mediated cell cycle control [ 21 ]2020\tPMC7493396\twave\tinhibitor\tStewart et al. [ 42 ] found that the aortic AIx and carotid-femoral pulse wave velocity increases after the application of a nitric oxide synthase inhibitor, thus pointing out the importance of basal nitric oxide on functional regulation of central arteries in humans.\t Stewart et al [ 42 ] found that the aortic AIx and carotid-femoral pulse [GENE] velocity increases after the application of a nitric oxide synthase [EXPE] thus pointing out the importance of basal nitric oxide on functional regulation of central arteries in humans2020\tPMC7493399\tspp\tstaining\tAdditionally, microscopy using India ink staining is performed to detect capsulated strains in  K. pneumoniae  and  Streptococcus  spp.\t Additionally microscopy using India ink [EXPE] is performed to detect capsulated strains in  K pneumoniae  and  Streptococcus  [GENE]2020\tPMC7493400\tcpu\talignment\tThis strategy has been implemented for CPU SIMD units by Wozniak and a GPU version was implemented in CUDAlign, which targets the use case of Megabase (DNA) alignment where the sequences to be aligned are very long [ 10 ,  11 ].\t This strategy has been implemented for [GENE] SIMD units by Wozniak and a GPU version was implemented in CUDAlign which targets the use case of Megabase (DNA) [EXPE] where the sequences to be aligned are very long [ 10   11 ]2020\tPMC7493400\tsms\tblock\tIn NVIDIA hardware, the threads of a block are scheduled on to the SMs in groups of 32 known as warps.\t In NVIDIA hardware the threads of a [EXPE] are scheduled on to the [GENE] in groups of 32 known as warps2020\tPMC7493400\tgap\talignments\tFor DNA alignments we used the same scores for all algorithms, i.e. match-score of 6, mismatch penalty of 4, gap open penalty of 4 and gap extension penalty of 1.\t For DNA [EXPE] we used the same scores for all algorithms ie match-score of 6 mismatch penalty of 4 [GENE] open penalty of 4 and gap extension penalty of 12020\tPMC7493400\tcpu\tbioinformatics\tThese experiments were again performed using a single socket (16 CPU cores) and a single GPU first and then repeated for full nodes to evaluate their ability for large scale bioinformatics tools.\t These experiments were again performed using a single socket (16 [GENE] cores) and a single GPU first and then repeated for full nodes to evaluate their ability for large scale [EXPE] tools2020\tPMC7493400\tcpu\talignment\tWe demonstrated the performance of this strategy by implementing the Smith-Waterman algorithm, an optimal local alignment algorithm, and comparing its performance with similar approaches for CPU SIMD units and the existing fastest GPU implementations available for DNA and Protein alignment.\t We demonstrated the performance of this strategy by implementing the Smith-Waterman algorithm an optimal local [EXPE] algorithm and comparing its performance with similar approaches for [GENE] SIMD units and the existing fastest GPU implementations available for DNA and Protein alignment2020\tPMC7493402\ttnfa\tdrug\tCollectively, these results suggest that the three drug delivery formulations with entrapped IFX successfully targeted  Tnfa  in the inflamed colon and had an anti-inflammatory effect in a DSS-induced colitis model.\t Collectively these results suggest that the three [EXPE] delivery formulations with entrapped IFX successfully targeted  [GENE]  in the inflamed colon and had an anti-inflammatory effect in a DSS-induced colitis model2020\tPMC7493402\ttnfa\tdrug\tOur results indicate that drug delivery formulations significantly increased MFI values for lymphocytes in patients with ulcerative colitis, while the mRNA expression of  Tnfa ,  Il1b , and  Il17  was significantly decreased.\t Our results indicate that [EXPE] delivery formulations significantly increased MFI values for lymphocytes in patients with ulcerative colitis while the mRNA expression of  [GENE]   Il1b  and  Il17  was significantly decreased2020\tPMC7493402\til1b\tdrug\tOur results indicate that drug delivery formulations significantly increased MFI values for lymphocytes in patients with ulcerative colitis, while the mRNA expression of  Tnfa ,  Il1b , and  Il17  was significantly decreased.\t Our results indicate that [EXPE] delivery formulations significantly increased MFI values for lymphocytes in patients with ulcerative colitis while the mRNA expression of  Tnfa   [GENE]  and  Il17  was significantly decreased2020\tPMC7493402\til17\tdrug\tOur results indicate that drug delivery formulations significantly increased MFI values for lymphocytes in patients with ulcerative colitis, while the mRNA expression of  Tnfa ,  Il1b , and  Il17  was significantly decreased.\t Our results indicate that [EXPE] delivery formulations significantly increased MFI values for lymphocytes in patients with ulcerative colitis while the mRNA expression of  Tnfa   Il1b  and  [GENE]  was significantly decreased2020\tPMC7493402\tcd4\tdrug\tOral drug delivery by EAC-L may be a novel means of transporting large molecule drugs to the intestines in a non-cytotoxic way, to stimulate CD4 +  T cells as well as macrophages.\t Oral [EXPE] delivery by EAC-L may be a novel means of transporting large molecule drugs to the intestines in a non-cytotoxic way to stimulate [GENE] +  T cells as well as macrophages2020\tPMC7493402\tbca\tassay\tBCA Protein Assay Kit and PageRuler Prestained Protein Ladders were purchased from Thermo Fisher Scientific (Waltham, MA, USA).\t [GENE] Protein [EXPE] Kit and PageRuler Prestained Protein Ladders were purchased from Thermo Fisher Scientific (Waltham MA USA)2019\tPMC7493424\tstop\tdepletion\tTherefore, a successful batchPC process should be stopped at  t stop  toavoid undesired depletion in purity and contamination of product.\t Therefore a successful batchPC process should be stopped at  t [GENE]  toavoid undesired [EXPE] in purity and contamination of product2019\tPMC7493424\tstop\tcrystallization\tThen, as shown in  eqs  8 – 12 , the SCM has three main additional parameters: stop time( t stop ), effective crystallization rateconstant ( k eff ), and effective order ofcrystallization ( n eff ).\t Then as shown in  eqs  8 – 12  the SCM has three main additional parameters: [GENE] time( t stop ) effective [EXPE] rateconstant ( k eff ) and effective order ofcrystallization ( n eff )2019\tPMC7493424\tstop\tcrystallization\tThen, as shown in  eqs  8 – 12 , the SCM has three main additional parameters: stop time( t stop ), effective crystallization rateconstant ( k eff ), and effective order ofcrystallization ( n eff ).\t Then as shown in  eqs  8 – 12  the SCM has three main additional parameters: stop time( t [GENE] ) effective [EXPE] rateconstant ( k eff ) and effective order ofcrystallization ( n eff )2019\tPMC7493424\tstop\tcrystallization\tThe SCM exploits as free parameters a stop time, an effective rateconstant, and an effective order of crystallization.\t The SCM exploits as free parameters a [GENE] time an effective rateconstant and an effective order of [EXPE]2020\tPMC7493695\tkras\tpatient\tAlthough there are differences in methodology and patient populations among these analyses, ECOG PS,  KRAS  status and number of metastatic sites are factors common to many models.\t Although there are differences in methodology and [EXPE] populations among these analyses ECOG PS  [GENE]  status and number of metastatic sites are factors common to many models2020\tPMC7493768\tinterleukin 6\tinhibitors\tImmunomodulatory agents such as steroids, interleukin 6 inhibitors, and interleukin 1 inhibitors are currently being assessed in clinical trials for safety and efficacy in COVID-19.\t Immunomodulatory agents such as steroids [GENE] [EXPE] and interleukin 1 inhibitors are currently being assessed in clinical trials for safety and efficacy in COVID-192020\tPMC7493768\tinterleukin 6\tinhibitors\tImmunomodulatory agents such as steroids, interleukin 6 inhibitors, and interleukin 1 inhibitors are currently being assessed in clinical trials for safety and efficacy in COVID-19.\t Immunomodulatory agents such as steroids [GENE] inhibitors and interleukin 1 [EXPE] are currently being assessed in clinical trials for safety and efficacy in COVID-192020\tPMC7493771\tcd4\tdatabase\tLast CD4 +  T-cell count and plasma HIV RNA (viral load) were the most recent values registered at the clinical database, usually within the last 6 months period.\t Last [GENE] +  T-cell count and plasma HIV RNA (viral load) were the most recent values registered at the clinical [EXPE] usually within the last 6 months period2020\tPMC7493775\tkiller\tinhibitors\tIncreasing evidence reveals potential therapeutic agents acting directly against SARS-CoV-2, such as interferon (IFN), RdRp inhibitors, protease inhibitors, coronaviral protease inhibitor, viral entry blocker, neuraminidase inhibitor, vaccine, antibody, agent targeting the SARS-CoV-2 RNA genome, natural killer cells, and nucleocytoplasmic trafficking inhibitors.\t Increasing evidence reveals potential therapeutic agents acting directly against SARS-CoV-2 such as interferon (IFN) RdRp inhibitors protease [EXPE] coronaviral protease inhibitor viral entry blocker neuraminidase inhibitor vaccine antibody agent targeting the SARS-CoV-2 RNA genome natural [GENE] cells and nucleocytoplasmic trafficking inhibitors2020\tPMC7493775\tkiller\tinhibitor\tIncreasing evidence reveals potential therapeutic agents acting directly against SARS-CoV-2, such as interferon (IFN), RdRp inhibitors, protease inhibitors, coronaviral protease inhibitor, viral entry blocker, neuraminidase inhibitor, vaccine, antibody, agent targeting the SARS-CoV-2 RNA genome, natural killer cells, and nucleocytoplasmic trafficking inhibitors.\t Increasing evidence reveals potential therapeutic agents acting directly against SARS-CoV-2 such as interferon (IFN) RdRp inhibitors protease inhibitors coronaviral protease inhibitor viral entry blocker neuraminidase [EXPE] vaccine antibody agent targeting the SARS-CoV-2 RNA genome natural [GENE] cells and nucleocytoplasmic trafficking inhibitors2020\tPMC7493775\tkiller\tinhibitors\tIncreasing evidence reveals potential therapeutic agents acting directly against SARS-CoV-2, such as interferon (IFN), RdRp inhibitors, protease inhibitors, coronaviral protease inhibitor, viral entry blocker, neuraminidase inhibitor, vaccine, antibody, agent targeting the SARS-CoV-2 RNA genome, natural killer cells, and nucleocytoplasmic trafficking inhibitors.\t Increasing evidence reveals potential therapeutic agents acting directly against SARS-CoV-2 such as interferon (IFN) RdRp inhibitors protease inhibitors coronaviral protease inhibitor viral entry blocker neuraminidase inhibitor vaccine antibody agent targeting the SARS-CoV-2 RNA genome natural [GENE] cells and nucleocytoplasmic trafficking [EXPE]2020\tPMC7493775\tifn\tinhibition\tSeveral effector antiviral mechanisms of IFN are known, such as mRNA translation inhibition, enhancement of RNA degradation, RNA editing, targeting viral nucleocapsids, and inhibiting RNA synthesis.\t Several effector antiviral mechanisms of [GENE] are known such as mRNA translation [EXPE] enhancement of RNA degradation RNA editing targeting viral nucleocapsids and inhibiting RNA synthesis2020\tPMC7493775\tifn\tinfection\t6  Among the type I IFN, IFN-α is quickly stimulated in innate immune response to initial virus infection.\t 6  Among the type I [GENE] IFN-α is quickly stimulated in innate immune response to initial virus [EXPE]2020\tPMC7493775\tifn\tinhibited\tIFN-α and β inhibit the replication of SARS-CoV. 7 , 8  However, IFN-γ was identified to lack antiviral activity against SARS-CoV. 9  Previous study demonstrated that SARS-CoV inhibited IFN transcription in infected cells and the additional IFN could partly resume innate immunity against SARS-CoV. 10  Pegylated IFN-α2b, a licensed drug for chronic hepatitis B and C, showed the anti-SARS-CoV activity by decreasing viral replication and lung damage.\t IFN-α and β inhibit the replication of SARS-CoV 7  8  However IFN-γ was identified to lack antiviral activity against SARS-CoV 9  Previous study demonstrated that SARS-CoV [EXPE] IFN transcription in infected cells and the additional [GENE] could partly resume innate immunity against SARS-CoV 10  Pegylated IFN-α2b a licensed drug for chronic hepatitis B and C showed the anti-SARS-CoV activity by decreasing viral replication and lung damage2020\tPMC7493775\tifn\tinfected\tIFN-α and β inhibit the replication of SARS-CoV. 7 , 8  However, IFN-γ was identified to lack antiviral activity against SARS-CoV. 9  Previous study demonstrated that SARS-CoV inhibited IFN transcription in infected cells and the additional IFN could partly resume innate immunity against SARS-CoV. 10  Pegylated IFN-α2b, a licensed drug for chronic hepatitis B and C, showed the anti-SARS-CoV activity by decreasing viral replication and lung damage.\t IFN-α and β inhibit the replication of SARS-CoV 7  8  However IFN-γ was identified to lack antiviral activity against SARS-CoV 9  Previous study demonstrated that SARS-CoV inhibited IFN transcription in [EXPE] cells and the additional [GENE] could partly resume innate immunity against SARS-CoV 10  Pegylated IFN-α2b a licensed drug for chronic hepatitis B and C showed the anti-SARS-CoV activity by decreasing viral replication and lung damage2020\tPMC7493775\tace2\tinterfering\tIn a recent study, it was shown that SARS-CoV-2 recognizes ACE2 more efficiently than SARS-CoV. 5  Therefore, interfering with the interaction between S protein of SARS-CoV-2 and ACE2 might be a potential approach for antiviral therapy.\t In a recent study it was shown that SARS-CoV-2 recognizes [GENE] more efficiently than SARS-CoV 5  Therefore [EXPE] with the interaction between S protein of SARS-CoV-2 and ACE2 might be a potential approach for antiviral therapy2020\tPMC7493775\tace2\tinterfering\tIn a recent study, it was shown that SARS-CoV-2 recognizes ACE2 more efficiently than SARS-CoV. 5  Therefore, interfering with the interaction between S protein of SARS-CoV-2 and ACE2 might be a potential approach for antiviral therapy.\t In a recent study it was shown that SARS-CoV-2 recognizes ACE2 more efficiently than SARS-CoV 5  Therefore [EXPE] with the interaction between S protein of SARS-CoV-2 and [GENE] might be a potential approach for antiviral therapy2020\tPMC7493775\tace2\thigh-throughput\tUsing the world’s most powerful supercomputer, SUMMIT, the high-throughput screening of the possible docking models and identification of novel small molecules which can bind to the viral S protein or S protein–human ACE2 interface has been proposed.\t Using the world’s most powerful supercomputer SUMMIT the [EXPE] screening of the possible docking models and identification of novel small molecules which can bind to the viral S protein or S protein–human [GENE] interface has been proposed2020\tPMC7493775\ttmprss2\tinhibitor\t37  Hence, camostat mesylate, a TMPRSS2 inhibitor, can eliminate SARS-CoV-2 infection  in vitro  assay.\t 37  Hence camostat mesylate a [GENE] [EXPE] can eliminate SARS-CoV-2 infection  in vitro  assay2020\tPMC7493778\tiga\tinfected\tIn patients infected by SARS-CoV-1 in 2003, the immunoglobulin IgA was observed in the serum, followed by IgM and IgG. 19  The IgM and IgG are useful for indicating whether the person has been infected, and whether the infection has triggered host immunological response.\t In patients infected by SARS-CoV-1 in 2003 the immunoglobulin [GENE] was observed in the serum followed by IgM and IgG 19  The IgM and IgG are useful for indicating whether the person has been [EXPE] and whether the infection has triggered host immunological response2020\tPMC7493780\tace2\tstorm\tThe downregulation of ACE2 leads to decreased ANG1-7 level and increased ANG2 level, which may induce uncontrollable cytokine storm and could lead to organ dysfunction in critical cases.\t The downregulation of [GENE] leads to decreased ANG1-7 level and increased ANG2 level which may induce uncontrollable cytokine [EXPE] and could lead to organ dysfunction in critical cases2020\tPMC7493780\tang2\tstorm\tThe downregulation of ACE2 leads to decreased ANG1-7 level and increased ANG2 level, which may induce uncontrollable cytokine storm and could lead to organ dysfunction in critical cases.\t The downregulation of ACE2 leads to decreased ANG1-7 level and increased [GENE] level which may induce uncontrollable cytokine [EXPE] and could lead to organ dysfunction in critical cases2020\tPMC7493780\tang\tinfection\tExperimental models of acute lung injury, including a model of SARS-CoV infection, suggest that ARBs may mitigate COVID-19 by attenuating Ang II–mediated acute lung injury by blocking AT1R.\t Experimental models of acute lung injury including a model of SARS-CoV [EXPE] suggest that ARBs may mitigate COVID-19 by attenuating [GENE] II–mediated acute lung injury by blocking AT1R2020\tPMC7493780\tace2\tinhibitors\t46  RAAS inhibitors on ACE2 are complex and should not be assumed that changes in ACE2 levels reflect changes in ACE2 levels in the lung, which is the portal of entry for SARS-CoV2.\t 46  RAAS [EXPE] on [GENE] are complex and should not be assumed that changes in ACE2 levels reflect changes in ACE2 levels in the lung which is the portal of entry for SARS-CoV22020\tPMC7493780\tp2y12\tinhibition\tTicagrelor is unique in having the most potent anti-inflammatory properties via dual inhibition of platelet P2Y12 receptor and equilibrative nucleoside transporter 1 (ENT1), which contributes to inhibition of cellular adenosine uptake.\t Ticagrelor is unique in having the most potent anti-inflammatory properties via dual inhibition of platelet [GENE] receptor and equilibrative nucleoside transporter 1 (ENT1) which contributes to [EXPE] of cellular adenosine uptake2020\tPMC7493780\tp2y12\tinhibitors\t49 , 50  However, P2Y12 inhibitors could aggregate DAH according to published literatures.\t 49  50  However [GENE] [EXPE] could aggregate DAH according to published literatures2020\tPMC7493780\tp2y12\tinhibitor\t52  Zhou et al suggested among patients with COVID-19 who are currently on DAPT, maintaining P2Y12 inhibitor monotherapy (preferably ticagrelor) may be scientifically reasonable for patients with PCI performed ≥3 months.\t 52  Zhou et al suggested among patients with COVID-19 who are currently on DAPT maintaining [GENE] [EXPE] monotherapy (preferably ticagrelor) may be scientifically reasonable for patients with PCI performed ≥3 months2020\tPMC7493780\tpci\tinhibitor\t52  Zhou et al suggested among patients with COVID-19 who are currently on DAPT, maintaining P2Y12 inhibitor monotherapy (preferably ticagrelor) may be scientifically reasonable for patients with PCI performed ≥3 months.\t 52  Zhou et al suggested among patients with COVID-19 who are currently on DAPT maintaining P2Y12 [EXPE] monotherapy (preferably ticagrelor) may be scientifically reasonable for patients with [GENE] performed ≥3 months2020\tPMC7493780\tmyd88\tinfection\tStatins are known to have anti-inflammatory effects which involved in Myd88 and downstream nuclear factor kappa B signaling pathways, which was highly activated in SARS-CoV infection.\t Statins are known to have anti-inflammatory effects which involved in [GENE] and downstream nuclear factor kappa B signaling pathways which was highly activated in SARS-CoV [EXPE]2020\tPMC7493780\tstatin\tinfection\tFor now, statin therapy should be continued in patients with suspected COVID-19 infection with existing cardiovascular comorbidities since no evidence show harmful and acute cardiac injury could also occur in COVID-19.\t For now [GENE] therapy should be continued in patients with suspected COVID-19 [EXPE] with existing cardiovascular comorbidities since no evidence show harmful and acute cardiac injury could also occur in COVID-192020\tPMC7493781\tprep\tdatabase\tBased on compulsory HIV diagnosis declarations and antiretrovirals reimbursement, this database covers more than 95% of HIV-infected patients and PrEP users living in the Rhône department.\t Based on compulsory HIV diagnosis declarations and antiretrovirals reimbursement this [EXPE] covers more than 95% of HIV-infected patients and [GENE] users living in the Rhône department2020\tPMC7493781\tprep\tinfection\tThe only factor associated with COVID-19 was age, both in univariable [odds ratio (OR) 1.01 per year (1.01–1.01%)] and in multivariable analyses [OR 1.01 per year (1.01–1.01%)], while male gender [OR 0.97 (0.89–1.06)], HIV infection [OR 0.73 (0.44–1.58)] and PrEP use [OR 1.1 (0.38–3.21)] were not.\t The only factor associated with COVID-19 was age both in univariable [odds ratio (OR) 101 per year (101–101%)] and in multivariable analyses [OR 101 per year (101–101%)] while male gender [OR 097 (089–106)] HIV [EXPE] [OR 073 (044–158)] and [GENE] use [OR 11 (038–321)] were not2020\tPMC7493781\tcd4\tdatabase\tWhile 36.4% of HIV-infected patients in our database were born outside Western Europe, a factor that could contribute to precariousness, and since CD4 +  cell count was below 361/μl in a quarter of our patients, these results are reassuring regarding the epidemiological impact of COVID-19 in this population.\t While 364% of HIV-infected patients in our [EXPE] were born outside Western Europe a factor that could contribute to precariousness and since [GENE] +  cell count was below 361/μl in a quarter of our patients these results are reassuring regarding the epidemiological impact of COVID-19 in this population2020\tPMC7493783\tace2\tinhibitor\tInspecting conserved amino acids within ACE2 domain, Hoffmann group perform SARS-CoV-2 to transmit cell entry depends on ACE2 and transmembrane serine protease 2 two proteins and is blocked by applied clinically proven protease inhibitor.\t Inspecting conserved amino acids within [GENE] domain Hoffmann group perform SARS-CoV-2 to transmit cell entry depends on ACE2 and transmembrane serine protease 2 two proteins and is blocked by applied clinically proven protease [EXPE]2020\tPMC7493783\ttransmembrane serine protease 2\tblocked\tInspecting conserved amino acids within ACE2 domain, Hoffmann group perform SARS-CoV-2 to transmit cell entry depends on ACE2 and transmembrane serine protease 2 two proteins and is blocked by applied clinically proven protease inhibitor.\t Inspecting conserved amino acids within ACE2 domain Hoffmann group perform SARS-CoV-2 to transmit cell entry depends on ACE2 and [GENE] two proteins and is [EXPE] by applied clinically proven protease inhibitor2020\tPMC7493783\tserine protease 2\tinhibitor\tInspecting conserved amino acids within ACE2 domain, Hoffmann group perform SARS-CoV-2 to transmit cell entry depends on ACE2 and transmembrane serine protease 2 two proteins and is blocked by applied clinically proven protease inhibitor.\t Inspecting conserved amino acids within ACE2 domain Hoffmann group perform SARS-CoV-2 to transmit cell entry depends on ACE2 and transmembrane [GENE] two proteins and is blocked by applied clinically proven protease [EXPE]2020\tPMC7493802\tsacs\tcrystals\tIn others, the crystals are formed in idioblasts, specialized secretory cells with a distinctive form (vesicles, sacs, or tubes).\t In others the [EXPE] are formed in idioblasts specialized secretory cells with a distinctive form (vesicles [GENE] or tubes)2020\tPMC7493802\ttraits\thigh resolution\tThe high resolution images obtained by both techniques were able to evidence each of the studied morphological traits in the archaeobotanical samples from Monte Castelo.\t The [EXPE] images obtained by both techniques were able to evidence each of the studied morphological [GENE] in the archaeobotanical samples from Monte Castelo2020\tPMC7493885\tmyod\tinteractome\tMore recently, a direct role of MyoD in reorganizing the three-dimensional chromatin interactome during the myogenic conversion, has been reported 20 .\t More recently a direct role of [GENE] in reorganizing the three-dimensional chromatin [EXPE] during the myogenic conversion has been reported 202020\tPMC7493885\tsnail\tblocked\tSimilarly, the access of MyoD to a number of differentiation genes, before the onset of differentiation, is blocked by a repressor complex containing Snail and the histone deacetylases I and II, which is removed only upon differentiation stimuli 23 .\t Similarly the access of MyoD to a number of differentiation genes before the onset of differentiation is [EXPE] by a repressor complex containing [GENE] and the histone deacetylases I and II which is removed only upon differentiation stimuli 232020\tPMC7493885\tezh2\tinhibition\tAn additional strategy by which active PARP1 promotes chromatin accessibility, involves the inhibition of EZH2 activity, through PARylation of the histone methyltransferase, and the consequent decrease of the global levels of H3K27me3 46 , 47 .\t An additional strategy by which active PARP1 promotes chromatin accessibility involves the [EXPE] of [GENE] activity through PARylation of the histone methyltransferase and the consequent decrease of the global levels of H3K27me3 46  472020\tPMC7493885\tparp1\tblock\tOn the other hand, inactive PARP1 was recognized to be a critical component of the corepressor complexes Groucho/TLE and CtBP, which block transcription from the  MASH1  and  p21  promoters respectively 49 , 50 .\t On the other hand inactive [GENE] was recognized to be a critical component of the corepressor complexes Groucho/TLE and CtBP which [EXPE] transcription from the  MASH1  and  p21  promoters respectively 49  502020\tPMC7493885\tparp1\tknock-out\tThis function was initially underestimated, due to the absence of evident phenotypes, apart from the hypersensitivity to DNA damage, in PARP1 knock-out mice, probably as a consequence of redundant and/or compensatory roles of other PARP family members 59 .\t This function was initially underestimated due to the absence of evident phenotypes apart from the hypersensitivity to DNA damage in [GENE] [EXPE] mice probably as a consequence of redundant and/or compensatory roles of other PARP family members 592020\tPMC7493885\tparp\tknock-out\tThis function was initially underestimated, due to the absence of evident phenotypes, apart from the hypersensitivity to DNA damage, in PARP1 knock-out mice, probably as a consequence of redundant and/or compensatory roles of other PARP family members 59 .\t This function was initially underestimated due to the absence of evident phenotypes apart from the hypersensitivity to DNA damage in PARP1 [EXPE] mice probably as a consequence of redundant and/or compensatory roles of other [GENE] family members 592020\tPMC7493885\tmyod\tinterfering\tIn the present work we provide evidence that PARP1 participates in the transcriptional control of some paradigmatic examples of MyoD target genes by interfering, independently of its catalytic activity, with the recruitment of this myogenic factor to their regulatory regions within chromatin.\t In the present work we provide evidence that PARP1 participates in the transcriptional control of some paradigmatic examples of [GENE] target genes by [EXPE] independently of its catalytic activity with the recruitment of this myogenic factor to their regulatory regions within chromatin2020\tPMC7493885\tparp1\tdepletion\tTo explore this hypothesis, we first examined the effects of PARP1 depletion on muscle gene expression in C2.7 cells stably knocked-down for PARP1.\t To explore this hypothesis we first examined the effects of PARP1 [EXPE] on muscle gene expression in C27 cells stably knocked-down for [GENE]2020\tPMC7493885\tparp1\thairpin\tFor this purpose, we employed a short hairpin RNA for PARP1 (shPARP1) cloned into a retroviral vector as previously described 45 .\t For this purpose we employed a short [EXPE] RNA for [GENE] (shPARP1) cloned into a retroviral vector as previously described 452020\tPMC7493885\tparp1\tretroviral\tFor this purpose, we employed a short hairpin RNA for PARP1 (shPARP1) cloned into a retroviral vector as previously described 45 .\t For this purpose we employed a short hairpin RNA for [GENE] (shPARP1) cloned into a [EXPE] vector as previously described 452020\tPMC7493885\tparp1\tknock-down\tRemarkably, as reported in Fig.  1 b, the knock-down of PARP1 correlated with an increased induction of  p57  and  myogenin  expression in differentiated cells.\t Remarkably as reported in Fig  1 b the [EXPE] of [GENE] correlated with an increased induction of  p57  and  myogenin  expression in differentiated cells2020\tPMC7493885\tp57\tknock-down\tRemarkably, as reported in Fig.  1 b, the knock-down of PARP1 correlated with an increased induction of  p57  and  myogenin  expression in differentiated cells.\t Remarkably as reported in Fig  1 b the [EXPE] of PARP1 correlated with an increased induction of  [GENE]  and  myogenin  expression in differentiated cells2020\tPMC7493885\tp21\tinhibitor\tA similar effect was observed on the induction of  p21 , another Cip/Kip inhibitor, and of  Mef2C , another muscle-regulatory factor, both directly up-regulated by MyoD at early stages of muscle differentiation 1 .\t A similar effect was observed on the induction of  [GENE]  another Cip/Kip [EXPE] and of  Mef2C  another muscle-regulatory factor both directly up-regulated by MyoD at early stages of muscle differentiation 12020\tPMC7493885\tmyod\tinhibitor\tA similar effect was observed on the induction of  p21 , another Cip/Kip inhibitor, and of  Mef2C , another muscle-regulatory factor, both directly up-regulated by MyoD at early stages of muscle differentiation 1 .\t A similar effect was observed on the induction of  p21  another Cip/Kip [EXPE] and of  Mef2C  another muscle-regulatory factor both directly up-regulated by [GENE] at early stages of muscle differentiation 12020\tPMC7493885\tparp1\tdepletion\tThe observation that PARP1 depletion did not affect the basal, but only the induced expression of these genes, is easily explained by the well-established occurrence of multiple repressive mechanisms that prevent MyoD activity in proliferating myoblasts 65  and suggests that PARP1 participates in keeping under control the MyoD-target genes during the differentiation process.\t The observation that [GENE] [EXPE] did not affect the basal but only the induced expression of these genes is easily explained by the well-established occurrence of multiple repressive mechanisms that prevent MyoD activity in proliferating myoblasts 65  and suggests that PARP1 participates in keeping under control the MyoD-target genes during the differentiation process2020\tPMC7493885\tparp1\tco-transfected\tshPARP1 myoblasts were co-transfected with either the puc19—human PARP1 vector or with the empty vector, together with a selection vector containing the hygromycin resistance gene.\t shPARP1 myoblasts were [EXPE] with either the puc19—human [GENE] vector or with the empty vector together with a selection vector containing the hygromycin resistance gene2020\tPMC7493885\tp57\tdepletion\tRemarkably, as shown in Fig.  2 b, and conversely to the effect of PARP1 depletion, PARP1 re-expression impaired the induction of  p57 ,  myogenin ,  p21  and  Mef2C  RNA levels, compared to shPARP1 control cells.\t Remarkably as shown in Fig  2 b and conversely to the effect of PARP1 [EXPE] PARP1 re-expression impaired the induction of  [GENE]   myogenin   p21  and  Mef2C  RNA levels compared to shPARP1 control cells2020\tPMC7493885\tmyogenin\tdepletion\tRemarkably, as shown in Fig.  2 b, and conversely to the effect of PARP1 depletion, PARP1 re-expression impaired the induction of  p57 ,  myogenin ,  p21  and  Mef2C  RNA levels, compared to shPARP1 control cells.\t Remarkably as shown in Fig  2 b and conversely to the effect of PARP1 [EXPE] PARP1 re-expression impaired the induction of  p57   [GENE]   p21  and  Mef2C  RNA levels compared to shPARP1 control cells2020\tPMC7493885\tmef2c\tdepletion\tRemarkably, as shown in Fig.  2 b, and conversely to the effect of PARP1 depletion, PARP1 re-expression impaired the induction of  p57 ,  myogenin ,  p21  and  Mef2C  RNA levels, compared to shPARP1 control cells.\t Remarkably as shown in Fig  2 b and conversely to the effect of PARP1 [EXPE] PARP1 re-expression impaired the induction of  p57   myogenin   p21  and  [GENE]  RNA levels compared to shPARP1 control cells2020\tPMC7493885\tmyod\tover-expression\tThe impaired induction of MyoD targets was also observed in response to the transient over-expression of PARP1, as reported for  p57  and  myogenin  in Supplementary Fig.  S4 .\t The impaired induction of [GENE] targets was also observed in response to the transient [EXPE] of PARP1 as reported for  p57  and  myogenin  in Supplementary Fig  S42020\tPMC7493885\tp57\tover-expression\tThe impaired induction of MyoD targets was also observed in response to the transient over-expression of PARP1, as reported for  p57  and  myogenin  in Supplementary Fig.  S4 .\t The impaired induction of MyoD targets was also observed in response to the transient [EXPE] of PARP1 as reported for  [GENE]  and  myogenin  in Supplementary Fig  S42020\tPMC7493885\tparp1\tinterfering\tConsidering that the association of PARP1 with KvDMR1 and  myogenin  promoter declines during differentiation, in concomitance with the onset of MyoD recruitment, we speculated that PARP1 could repress  p57  and  myogenin  expression by interfering with the binding of MyoD to their regulatory regions.\t Considering that the association of [GENE] with KvDMR1 and  myogenin  promoter declines during differentiation in concomitance with the onset of MyoD recruitment we speculated that PARP1 could repress  p57  and  myogenin  expression by [EXPE] with the binding of MyoD to their regulatory regions2020\tPMC7493885\tmyogenin\tinterfering\tConsidering that the association of PARP1 with KvDMR1 and  myogenin  promoter declines during differentiation, in concomitance with the onset of MyoD recruitment, we speculated that PARP1 could repress  p57  and  myogenin  expression by interfering with the binding of MyoD to their regulatory regions.\t Considering that the association of PARP1 with KvDMR1 and  [GENE]  promoter declines during differentiation in concomitance with the onset of MyoD recruitment we speculated that PARP1 could repress  p57  and  myogenin  expression by [EXPE] with the binding of MyoD to their regulatory regions2020\tPMC7493885\tmyod\tinterfering\tConsidering that the association of PARP1 with KvDMR1 and  myogenin  promoter declines during differentiation, in concomitance with the onset of MyoD recruitment, we speculated that PARP1 could repress  p57  and  myogenin  expression by interfering with the binding of MyoD to their regulatory regions.\t Considering that the association of PARP1 with KvDMR1 and  myogenin  promoter declines during differentiation in concomitance with the onset of [GENE] recruitment we speculated that PARP1 could repress  p57  and  myogenin  expression by [EXPE] with the binding of MyoD to their regulatory regions2020\tPMC7493885\tparp1\tinterfering\tConsidering that the association of PARP1 with KvDMR1 and  myogenin  promoter declines during differentiation, in concomitance with the onset of MyoD recruitment, we speculated that PARP1 could repress  p57  and  myogenin  expression by interfering with the binding of MyoD to their regulatory regions.\t Considering that the association of PARP1 with KvDMR1 and  myogenin  promoter declines during differentiation in concomitance with the onset of MyoD recruitment we speculated that [GENE] could repress  p57  and  myogenin  expression by [EXPE] with the binding of MyoD to their regulatory regions2020\tPMC7493885\tmyogenin\tinterfering\tConsidering that the association of PARP1 with KvDMR1 and  myogenin  promoter declines during differentiation, in concomitance with the onset of MyoD recruitment, we speculated that PARP1 could repress  p57  and  myogenin  expression by interfering with the binding of MyoD to their regulatory regions.\t Considering that the association of PARP1 with KvDMR1 and  myogenin  promoter declines during differentiation in concomitance with the onset of MyoD recruitment we speculated that PARP1 could repress  p57  and  [GENE]  expression by [EXPE] with the binding of MyoD to their regulatory regions2020\tPMC7493885\tmyod\tinterfering\tConsidering that the association of PARP1 with KvDMR1 and  myogenin  promoter declines during differentiation, in concomitance with the onset of MyoD recruitment, we speculated that PARP1 could repress  p57  and  myogenin  expression by interfering with the binding of MyoD to their regulatory regions.\t Considering that the association of PARP1 with KvDMR1 and  myogenin  promoter declines during differentiation in concomitance with the onset of MyoD recruitment we speculated that PARP1 could repress  p57  and  myogenin  expression by [EXPE] with the binding of [GENE] to their regulatory regions2020\tPMC7493885\tparp1\tchip\tChIP assays for the interaction of PARP1 or MyoD with KvDMR1 and  myogenin  promoter were performed in cells cultured in differentiation conditions, in which MyoD is normally recruited to these regions.\t [EXPE] assays for the interaction of [GENE] or MyoD with KvDMR1 and  myogenin  promoter were performed in cells cultured in differentiation conditions in which MyoD is normally recruited to these regions2020\tPMC7493885\tparp1\tassays\tChIP assays for the interaction of PARP1 or MyoD with KvDMR1 and  myogenin  promoter were performed in cells cultured in differentiation conditions, in which MyoD is normally recruited to these regions.\t ChIP [EXPE] for the interaction of [GENE] or MyoD with KvDMR1 and  myogenin  promoter were performed in cells cultured in differentiation conditions in which MyoD is normally recruited to these regions2020\tPMC7493885\tmyod\tchip\tChIP assays for the interaction of PARP1 or MyoD with KvDMR1 and  myogenin  promoter were performed in cells cultured in differentiation conditions, in which MyoD is normally recruited to these regions.\t [EXPE] assays for the interaction of PARP1 or [GENE] with KvDMR1 and  myogenin  promoter were performed in cells cultured in differentiation conditions in which MyoD is normally recruited to these regions2020\tPMC7493885\tmyogenin\tchip\tChIP assays for the interaction of PARP1 or MyoD with KvDMR1 and  myogenin  promoter were performed in cells cultured in differentiation conditions, in which MyoD is normally recruited to these regions.\t [EXPE] assays for the interaction of PARP1 or MyoD with KvDMR1 and  [GENE]  promoter were performed in cells cultured in differentiation conditions in which MyoD is normally recruited to these regions2020\tPMC7493885\tparp1\tdepleted\tAs shown in Fig.  4 , cells depleted of PARP1 show decreased PARP1 binding, as expected, while cells re-expressing PARP1 showed increased PARP1 binding to both regions.\t As shown in Fig  4  cells [EXPE] of [GENE] show decreased PARP1 binding as expected while cells re-expressing PARP1 showed increased PARP1 binding to both regions2020\tPMC7493885\tparp1\tdepleted\tAs shown in Fig.  4 , cells depleted of PARP1 show decreased PARP1 binding, as expected, while cells re-expressing PARP1 showed increased PARP1 binding to both regions.\t As shown in Fig  4  cells [EXPE] of PARP1 show decreased [GENE] binding as expected while cells re-expressing PARP1 showed increased PARP1 binding to both regions2020\tPMC7493885\tparp1\tdepleted\tAs shown in Fig.  4 , cells depleted of PARP1 show decreased PARP1 binding, as expected, while cells re-expressing PARP1 showed increased PARP1 binding to both regions.\t As shown in Fig  4  cells [EXPE] of PARP1 show decreased PARP1 binding as expected while cells re-expressing PARP1 showed increased [GENE] binding to both regions2020\tPMC7493885\tparp1\tinhibitors\tTo directly address whether the transcriptional control of  p57  and  myogenin  by PARP1 was independent of the enzyme activity, we measured the expression of the two genes in myoblast cells induced to differentiate in the presence of pharmacological PARP inhibitors.\t To directly address whether the transcriptional control of  p57  and  myogenin  by [GENE] was independent of the enzyme activity we measured the expression of the two genes in myoblast cells induced to differentiate in the presence of pharmacological PARP [EXPE]2020\tPMC7493885\tparp\tinhibitors\tTo directly address whether the transcriptional control of  p57  and  myogenin  by PARP1 was independent of the enzyme activity, we measured the expression of the two genes in myoblast cells induced to differentiate in the presence of pharmacological PARP inhibitors.\t To directly address whether the transcriptional control of  p57  and  myogenin  by PARP1 was independent of the enzyme activity we measured the expression of the two genes in myoblast cells induced to differentiate in the presence of pharmacological [GENE] [EXPE]2020\tPMC7493885\tp57\tinhibition\tHowever, the inhibition of the enzyme activity, unlike the depletion of the protein, did not promote, rather it slightly inhibited  p57  and  myogenin  induction (Fig.  6 ), indicating that PARP1 represses the expression of the two genes through a catalytic-independent mechanism.\t However the [EXPE] of the enzyme activity unlike the depletion of the protein did not promote rather it slightly inhibited  [GENE]  and  myogenin  induction (Fig  6 ) indicating that PARP1 represses the expression of the two genes through a catalytic-independent mechanism2020\tPMC7493885\tmyogenin\tinhibition\tHowever, the inhibition of the enzyme activity, unlike the depletion of the protein, did not promote, rather it slightly inhibited  p57  and  myogenin  induction (Fig.  6 ), indicating that PARP1 represses the expression of the two genes through a catalytic-independent mechanism.\t However the [EXPE] of the enzyme activity unlike the depletion of the protein did not promote rather it slightly inhibited  p57  and  [GENE]  induction (Fig  6 ) indicating that PARP1 represses the expression of the two genes through a catalytic-independent mechanism2020\tPMC7493885\tmyogenin\tinhibited\tHowever, the inhibition of the enzyme activity, unlike the depletion of the protein, did not promote, rather it slightly inhibited  p57  and  myogenin  induction (Fig.  6 ), indicating that PARP1 represses the expression of the two genes through a catalytic-independent mechanism.\t However the inhibition of the enzyme activity unlike the depletion of the protein did not promote rather it slightly [EXPE]  p57  and  [GENE]  induction (Fig  6 ) indicating that PARP1 represses the expression of the two genes through a catalytic-independent mechanism2020\tPMC7493885\tparp1\tinhibition\tHowever, the inhibition of the enzyme activity, unlike the depletion of the protein, did not promote, rather it slightly inhibited  p57  and  myogenin  induction (Fig.  6 ), indicating that PARP1 represses the expression of the two genes through a catalytic-independent mechanism.\t However the [EXPE] of the enzyme activity unlike the depletion of the protein did not promote rather it slightly inhibited  p57  and  myogenin  induction (Fig  6 ) indicating that [GENE] represses the expression of the two genes through a catalytic-independent mechanism2020\tPMC7493885\tparp1\tdepletion\tHowever, the inhibition of the enzyme activity, unlike the depletion of the protein, did not promote, rather it slightly inhibited  p57  and  myogenin  induction (Fig.  6 ), indicating that PARP1 represses the expression of the two genes through a catalytic-independent mechanism.\t However the inhibition of the enzyme activity unlike the [EXPE] of the protein did not promote rather it slightly inhibited  p57  and  myogenin  induction (Fig  6 ) indicating that [GENE] represses the expression of the two genes through a catalytic-independent mechanism2020\tPMC7493885\tparp1\tinhibited\tHowever, the inhibition of the enzyme activity, unlike the depletion of the protein, did not promote, rather it slightly inhibited  p57  and  myogenin  induction (Fig.  6 ), indicating that PARP1 represses the expression of the two genes through a catalytic-independent mechanism.\t However the inhibition of the enzyme activity unlike the depletion of the protein did not promote rather it slightly [EXPE]  p57  and  myogenin  induction (Fig  6 ) indicating that [GENE] represses the expression of the two genes through a catalytic-independent mechanism2020\tPMC7493885\tparp1\tinhibition\tThis effect, ascribed both to the inhibition of the enzyme activity and to the induction of a conformational change of PARP1 72 , was especially detected in the presence of DNA strand breaks.\t This effect ascribed both to the [EXPE] of the enzyme activity and to the induction of a conformational change of [GENE] 72  was especially detected in the presence of DNA strand breaks2020\tPMC7493885\tparp1\tchip\tTo verify whether Olaparib treatment affected PARP1 binding to MyoD targets, we performed ChIP assays in C2 cells differentiated in the presence or absence of Olaparib treatment.\t To verify whether Olaparib treatment affected [GENE] binding to MyoD targets we performed [EXPE] assays in C2 cells differentiated in the presence or absence of Olaparib treatment2020\tPMC7493885\tparp1\tassays\tTo verify whether Olaparib treatment affected PARP1 binding to MyoD targets, we performed ChIP assays in C2 cells differentiated in the presence or absence of Olaparib treatment.\t To verify whether Olaparib treatment affected [GENE] binding to MyoD targets we performed ChIP [EXPE] in C2 cells differentiated in the presence or absence of Olaparib treatment2020\tPMC7493885\tmyod\tchip\tTo verify whether Olaparib treatment affected PARP1 binding to MyoD targets, we performed ChIP assays in C2 cells differentiated in the presence or absence of Olaparib treatment.\t To verify whether Olaparib treatment affected PARP1 binding to [GENE] targets we performed [EXPE] assays in C2 cells differentiated in the presence or absence of Olaparib treatment2020\tPMC7493885\tmyod\tassays\tTo verify whether Olaparib treatment affected PARP1 binding to MyoD targets, we performed ChIP assays in C2 cells differentiated in the presence or absence of Olaparib treatment.\t To verify whether Olaparib treatment affected PARP1 binding to [GENE] targets we performed ChIP [EXPE] in C2 cells differentiated in the presence or absence of Olaparib treatment2020\tPMC7493885\tparp1\tinhibitors\tThe molecular mechanisms of PARP1 trapping by PARP inhibitors have not been completely clarified yet 73 , nor we can say whether the increased PARP1 binding to muscle genes after Olabarib treatment involves its trapping on DNA breaks.\t The molecular mechanisms of [GENE] trapping by PARP [EXPE] have not been completely clarified yet 73  nor we can say whether the increased PARP1 binding to muscle genes after Olabarib treatment involves its trapping on DNA breaks2020\tPMC7493885\tparp\tinhibitors\tThe molecular mechanisms of PARP1 trapping by PARP inhibitors have not been completely clarified yet 73 , nor we can say whether the increased PARP1 binding to muscle genes after Olabarib treatment involves its trapping on DNA breaks.\t The molecular mechanisms of PARP1 trapping by [GENE] [EXPE] have not been completely clarified yet 73  nor we can say whether the increased PARP1 binding to muscle genes after Olabarib treatment involves its trapping on DNA breaks2020\tPMC7493885\tparp1\tinhibitors\tThe molecular mechanisms of PARP1 trapping by PARP inhibitors have not been completely clarified yet 73 , nor we can say whether the increased PARP1 binding to muscle genes after Olabarib treatment involves its trapping on DNA breaks.\t The molecular mechanisms of PARP1 trapping by PARP [EXPE] have not been completely clarified yet 73  nor we can say whether the increased [GENE] binding to muscle genes after Olabarib treatment involves its trapping on DNA breaks2020\tPMC7493885\tmyogenin\tchip-seq\tBy inspecting the ChIP-seq data for muscle cells from ENCODE/Caltech, we noticed that the levels of H3K4me3 at KvDMR1 and  myogenin  promoter, were lower in undifferentiated respect to differentiated cells.\t By inspecting the [EXPE] data for muscle cells from ENCODE/Caltech we noticed that the levels of H3K4me3 at KvDMR1 and  [GENE]  promoter were lower in undifferentiated respect to differentiated cells2020\tPMC7493885\tparp1\tchip\tTo assess the possible relationship of these chromatin changes with the differential binding of PARP1, we performed ChIP assays for H3K4me3 in cells re-expressing PARP1 compared to silenced cells.\t To assess the possible relationship of these chromatin changes with the differential binding of [GENE] we performed [EXPE] assays for H3K4me3 in cells re-expressing PARP1 compared to silenced cells2020\tPMC7493885\tparp1\tassays\tTo assess the possible relationship of these chromatin changes with the differential binding of PARP1, we performed ChIP assays for H3K4me3 in cells re-expressing PARP1 compared to silenced cells.\t To assess the possible relationship of these chromatin changes with the differential binding of [GENE] we performed ChIP [EXPE] for H3K4me3 in cells re-expressing PARP1 compared to silenced cells2020\tPMC7493885\tparp1\tsilenced\tTo assess the possible relationship of these chromatin changes with the differential binding of PARP1, we performed ChIP assays for H3K4me3 in cells re-expressing PARP1 compared to silenced cells.\t To assess the possible relationship of these chromatin changes with the differential binding of [GENE] we performed ChIP assays for H3K4me3 in cells re-expressing PARP1 compared to [EXPE] cells2020\tPMC7493885\tparp1\tsilenced\tTo assess the possible relationship of these chromatin changes with the differential binding of PARP1, we performed ChIP assays for H3K4me3 in cells re-expressing PARP1 compared to silenced cells.\t To assess the possible relationship of these chromatin changes with the differential binding of PARP1 we performed ChIP assays for H3K4me3 in cells re-expressing [GENE] compared to [EXPE] cells2020\tPMC7493885\tparp1\tdepleted\tWhen PARP1 is depleted, the binding of MyoD and the accumulation of H3K4me3 to the regulatory regions are further facilitated, resulting in increased up-regulation of MyoD targets.\t When [GENE] is [EXPE] the binding of MyoD and the accumulation of H3K4me3 to the regulatory regions are further facilitated resulting in increased up-regulation of MyoD targets2020\tPMC7493885\tmyod\tdepleted\tWhen PARP1 is depleted, the binding of MyoD and the accumulation of H3K4me3 to the regulatory regions are further facilitated, resulting in increased up-regulation of MyoD targets.\t When PARP1 is [EXPE] the binding of [GENE] and the accumulation of H3K4me3 to the regulatory regions are further facilitated resulting in increased up-regulation of MyoD targets2020\tPMC7493885\tparp1\tdepletion\tWe found that PARP1 depletion promotes the induction of  p57 ,  myogenin ,  Mef2C  and  p21 , while PARP1 re-expression reduces their up-regulation.\t We found that [GENE] [EXPE] promotes the induction of  p57   myogenin   Mef2C  and  p21  while PARP1 re-expression reduces their up-regulation2020\tPMC7493885\tp57\tdepletion\tWe found that PARP1 depletion promotes the induction of  p57 ,  myogenin ,  Mef2C  and  p21 , while PARP1 re-expression reduces their up-regulation.\t We found that PARP1 [EXPE] promotes the induction of  [GENE]   myogenin   Mef2C  and  p21  while PARP1 re-expression reduces their up-regulation2020\tPMC7493885\tmyogenin\tdepletion\tWe found that PARP1 depletion promotes the induction of  p57 ,  myogenin ,  Mef2C  and  p21 , while PARP1 re-expression reduces their up-regulation.\t We found that PARP1 [EXPE] promotes the induction of  p57   [GENE]   Mef2C  and  p21  while PARP1 re-expression reduces their up-regulation2020\tPMC7493885\tparp1\tdepletion\tWe found that PARP1 depletion promotes the induction of  p57 ,  myogenin ,  Mef2C  and  p21 , while PARP1 re-expression reduces their up-regulation.\t We found that PARP1 [EXPE] promotes the induction of  p57   myogenin   Mef2C  and  p21  while [GENE] re-expression reduces their up-regulation2020\tPMC7493885\tparp1\tdepletion\tIt is worth noticing that the loss of PARP1, although necessary, does not appear sufficient for inducing MyoD targets, as indicated by the observation that the basal expression of these genes, in undifferentiated cells, was not up-regulated upon PARP1 depletion.\t It is worth noticing that the loss of [GENE] although necessary does not appear sufficient for inducing MyoD targets as indicated by the observation that the basal expression of these genes in undifferentiated cells was not up-regulated upon PARP1 [EXPE]2020\tPMC7493885\tmyod\tdepletion\tIt is worth noticing that the loss of PARP1, although necessary, does not appear sufficient for inducing MyoD targets, as indicated by the observation that the basal expression of these genes, in undifferentiated cells, was not up-regulated upon PARP1 depletion.\t It is worth noticing that the loss of PARP1 although necessary does not appear sufficient for inducing [GENE] targets as indicated by the observation that the basal expression of these genes in undifferentiated cells was not up-regulated upon PARP1 [EXPE]2020\tPMC7493885\tparp1\tdepletion\tIt is worth noticing that the loss of PARP1, although necessary, does not appear sufficient for inducing MyoD targets, as indicated by the observation that the basal expression of these genes, in undifferentiated cells, was not up-regulated upon PARP1 depletion.\t It is worth noticing that the loss of PARP1 although necessary does not appear sufficient for inducing MyoD targets as indicated by the observation that the basal expression of these genes in undifferentiated cells was not up-regulated upon [GENE] [EXPE]2020\tPMC7493885\tparp\tinhibition\tMost importantly, the inhibition of PARP activity by each of two different inhibitors, Veliparib and Olaparib, does not increase  myogenin  and  p57  expression as PARP1 depletion does.\t Most importantly the [EXPE] of [GENE] activity by each of two different inhibitors Veliparib and Olaparib does not increase  myogenin  and  p57  expression as PARP1 depletion does2020\tPMC7493885\tparp\tinhibitors\tMost importantly, the inhibition of PARP activity by each of two different inhibitors, Veliparib and Olaparib, does not increase  myogenin  and  p57  expression as PARP1 depletion does.\t Most importantly the inhibition of [GENE] activity by each of two different [EXPE] Veliparib and Olaparib does not increase  myogenin  and  p57  expression as PARP1 depletion does2020\tPMC7493885\tparp\tdepletion\tMost importantly, the inhibition of PARP activity by each of two different inhibitors, Veliparib and Olaparib, does not increase  myogenin  and  p57  expression as PARP1 depletion does.\t Most importantly the inhibition of [GENE] activity by each of two different inhibitors Veliparib and Olaparib does not increase  myogenin  and  p57  expression as PARP1 [EXPE] does2020\tPMC7493885\tmyogenin\tinhibition\tMost importantly, the inhibition of PARP activity by each of two different inhibitors, Veliparib and Olaparib, does not increase  myogenin  and  p57  expression as PARP1 depletion does.\t Most importantly the [EXPE] of PARP activity by each of two different inhibitors Veliparib and Olaparib does not increase  [GENE]  and  p57  expression as PARP1 depletion does2020\tPMC7493885\tmyogenin\tinhibitors\tMost importantly, the inhibition of PARP activity by each of two different inhibitors, Veliparib and Olaparib, does not increase  myogenin  and  p57  expression as PARP1 depletion does.\t Most importantly the inhibition of PARP activity by each of two different [EXPE] Veliparib and Olaparib does not increase  [GENE]  and  p57  expression as PARP1 depletion does2020\tPMC7493885\tmyogenin\tdepletion\tMost importantly, the inhibition of PARP activity by each of two different inhibitors, Veliparib and Olaparib, does not increase  myogenin  and  p57  expression as PARP1 depletion does.\t Most importantly the inhibition of PARP activity by each of two different inhibitors Veliparib and Olaparib does not increase  [GENE]  and  p57  expression as PARP1 [EXPE] does2020\tPMC7493885\tp57\tinhibition\tMost importantly, the inhibition of PARP activity by each of two different inhibitors, Veliparib and Olaparib, does not increase  myogenin  and  p57  expression as PARP1 depletion does.\t Most importantly the [EXPE] of PARP activity by each of two different inhibitors Veliparib and Olaparib does not increase  myogenin  and  [GENE]  expression as PARP1 depletion does2020\tPMC7493885\tp57\tdepletion\tMost importantly, the inhibition of PARP activity by each of two different inhibitors, Veliparib and Olaparib, does not increase  myogenin  and  p57  expression as PARP1 depletion does.\t Most importantly the inhibition of PARP activity by each of two different inhibitors Veliparib and Olaparib does not increase  myogenin  and  [GENE]  expression as PARP1 [EXPE] does2020\tPMC7493885\tparp1\tinhibition\tMost importantly, the inhibition of PARP activity by each of two different inhibitors, Veliparib and Olaparib, does not increase  myogenin  and  p57  expression as PARP1 depletion does.\t Most importantly the [EXPE] of PARP activity by each of two different inhibitors Veliparib and Olaparib does not increase  myogenin  and  p57  expression as [GENE] depletion does2020\tPMC7493885\tparp1\tinhibitors\tMost importantly, the inhibition of PARP activity by each of two different inhibitors, Veliparib and Olaparib, does not increase  myogenin  and  p57  expression as PARP1 depletion does.\t Most importantly the inhibition of PARP activity by each of two different [EXPE] Veliparib and Olaparib does not increase  myogenin  and  p57  expression as [GENE] depletion does2020\tPMC7493885\tparp1\tdepletion\tMost importantly, the inhibition of PARP activity by each of two different inhibitors, Veliparib and Olaparib, does not increase  myogenin  and  p57  expression as PARP1 depletion does.\t Most importantly the inhibition of PARP activity by each of two different inhibitors Veliparib and Olaparib does not increase  myogenin  and  p57  expression as [GENE] [EXPE] does2020\tPMC7493885\tctcf\tinhibition\tHowever, it is very unlikely that this is the case, since PARP1-dependent regulation of CTCF requires CTCF PARylation 83 , whereas we found that the ability of MyoD to activate its targets is not influenced by the inhibition of PARP activity.\t However it is very unlikely that this is the case since PARP1-dependent regulation of [GENE] requires CTCF PARylation 83  whereas we found that the ability of MyoD to activate its targets is not influenced by the [EXPE] of PARP activity2020\tPMC7493885\tctcf\tinhibition\tHowever, it is very unlikely that this is the case, since PARP1-dependent regulation of CTCF requires CTCF PARylation 83 , whereas we found that the ability of MyoD to activate its targets is not influenced by the inhibition of PARP activity.\t However it is very unlikely that this is the case since PARP1-dependent regulation of CTCF requires [GENE] PARylation 83  whereas we found that the ability of MyoD to activate its targets is not influenced by the [EXPE] of PARP activity2020\tPMC7493885\tmyod\tinhibition\tHowever, it is very unlikely that this is the case, since PARP1-dependent regulation of CTCF requires CTCF PARylation 83 , whereas we found that the ability of MyoD to activate its targets is not influenced by the inhibition of PARP activity.\t However it is very unlikely that this is the case since PARP1-dependent regulation of CTCF requires CTCF PARylation 83  whereas we found that the ability of [GENE] to activate its targets is not influenced by the [EXPE] of PARP activity2020\tPMC7493885\tparp\tinhibition\tHowever, it is very unlikely that this is the case, since PARP1-dependent regulation of CTCF requires CTCF PARylation 83 , whereas we found that the ability of MyoD to activate its targets is not influenced by the inhibition of PARP activity.\t However it is very unlikely that this is the case since PARP1-dependent regulation of CTCF requires CTCF PARylation 83  whereas we found that the ability of MyoD to activate its targets is not influenced by the [EXPE] of [GENE] activity2020\tPMC7493885\tparp1\tinhibition\tInterestingly, although active PARP1 inhibits the histone demethylase KDM5B through its PARylation, which results in the accumulation of the active mark H3K4me3 at several genomic regions 48 , it has been reported that inactive PARP1 prevents the deposition of the same histone modification at IL-6 promoter, through the inhibition of the histone methyltransferase MLL1, leading to the suppression of  IL-6  expression 74 .\t Interestingly although active [GENE] inhibits the histone demethylase KDM5B through its PARylation which results in the accumulation of the active mark H3K4me3 at several genomic regions 48  it has been reported that inactive PARP1 prevents the deposition of the same histone modification at IL-6 promoter through the [EXPE] of the histone methyltransferase MLL1 leading to the suppression of  IL-6  expression 742020\tPMC7493885\tkdm5b\tinhibition\tInterestingly, although active PARP1 inhibits the histone demethylase KDM5B through its PARylation, which results in the accumulation of the active mark H3K4me3 at several genomic regions 48 , it has been reported that inactive PARP1 prevents the deposition of the same histone modification at IL-6 promoter, through the inhibition of the histone methyltransferase MLL1, leading to the suppression of  IL-6  expression 74 .\t Interestingly although active PARP1 inhibits the histone demethylase [GENE] through its PARylation which results in the accumulation of the active mark H3K4me3 at several genomic regions 48  it has been reported that inactive PARP1 prevents the deposition of the same histone modification at IL-6 promoter through the [EXPE] of the histone methyltransferase MLL1 leading to the suppression of  IL-6  expression 742020\tPMC7493885\tmark\tinhibition\tInterestingly, although active PARP1 inhibits the histone demethylase KDM5B through its PARylation, which results in the accumulation of the active mark H3K4me3 at several genomic regions 48 , it has been reported that inactive PARP1 prevents the deposition of the same histone modification at IL-6 promoter, through the inhibition of the histone methyltransferase MLL1, leading to the suppression of  IL-6  expression 74 .\t Interestingly although active PARP1 inhibits the histone demethylase KDM5B through its PARylation which results in the accumulation of the active [GENE] H3K4me3 at several genomic regions 48  it has been reported that inactive PARP1 prevents the deposition of the same histone modification at IL-6 promoter through the [EXPE] of the histone methyltransferase MLL1 leading to the suppression of  IL-6  expression 742020\tPMC7493885\tparp1\tinhibition\tInterestingly, although active PARP1 inhibits the histone demethylase KDM5B through its PARylation, which results in the accumulation of the active mark H3K4me3 at several genomic regions 48 , it has been reported that inactive PARP1 prevents the deposition of the same histone modification at IL-6 promoter, through the inhibition of the histone methyltransferase MLL1, leading to the suppression of  IL-6  expression 74 .\t Interestingly although active PARP1 inhibits the histone demethylase KDM5B through its PARylation which results in the accumulation of the active mark H3K4me3 at several genomic regions 48  it has been reported that inactive [GENE] prevents the deposition of the same histone modification at IL-6 promoter through the [EXPE] of the histone methyltransferase MLL1 leading to the suppression of  IL-6  expression 742020\tPMC7493885\til-6\tinhibition\tInterestingly, although active PARP1 inhibits the histone demethylase KDM5B through its PARylation, which results in the accumulation of the active mark H3K4me3 at several genomic regions 48 , it has been reported that inactive PARP1 prevents the deposition of the same histone modification at IL-6 promoter, through the inhibition of the histone methyltransferase MLL1, leading to the suppression of  IL-6  expression 74 .\t Interestingly although active PARP1 inhibits the histone demethylase KDM5B through its PARylation which results in the accumulation of the active mark H3K4me3 at several genomic regions 48  it has been reported that inactive PARP1 prevents the deposition of the same histone modification at [GENE] promoter through the [EXPE] of the histone methyltransferase MLL1 leading to the suppression of  IL-6  expression 742020\tPMC7493885\til-6\tinhibition\tInterestingly, although active PARP1 inhibits the histone demethylase KDM5B through its PARylation, which results in the accumulation of the active mark H3K4me3 at several genomic regions 48 , it has been reported that inactive PARP1 prevents the deposition of the same histone modification at IL-6 promoter, through the inhibition of the histone methyltransferase MLL1, leading to the suppression of  IL-6  expression 74 .\t Interestingly although active PARP1 inhibits the histone demethylase KDM5B through its PARylation which results in the accumulation of the active mark H3K4me3 at several genomic regions 48  it has been reported that inactive PARP1 prevents the deposition of the same histone modification at IL-6 promoter through the [EXPE] of the histone methyltransferase MLL1 leading to the suppression of  [GENE]  expression 742020\tPMC7493885\tparp\tinhibitor\tIt is worth mentioning that the PARP inhibitor Olaparib, already approved for the therapy of some tumor types defective for homologous recombination DNA repair, is currently under investigation for the possible treatment of inflammatory and oxidative stress diseases 86 .\t It is worth mentioning that the [GENE] [EXPE] Olaparib already approved for the therapy of some tumor types defective for homologous recombination DNA repair is currently under investigation for the possible treatment of inflammatory and oxidative stress diseases 862020\tPMC7493885\tparp1\tknock-down\tFor the stable knock-down of PARP1, C2.7 cells were incubated with the BOSC23 retroviral supernatant supplemented with 4 μg/ml polybrene for 8 h and then re-fed with fresh medium.\t For the stable [EXPE] of [GENE] C27 cells were incubated with the BOSC23 retroviral supernatant supplemented with 4 μg/ml polybrene for 8 h and then re-fed with fresh medium2020\tPMC7493885\ttbs\tblocked\tMembranes were blocked in 2% non-fat dry milk in TBS containing 0.05% Tween 20 for 1 h at room temperature and incubated with the primary antibodies overnight at 4 °C, then washed three times and incubated with peroxidase-conjugated anti-mouse or anti-rabbit secondary antibodies (Bio-Rad).\t Membranes were [EXPE] in 2% non-fat dry milk in [GENE] containing 005% Tween 20 for 1 h at room temperature and incubated with the primary antibodies overnight at 4 °C then washed three times and incubated with peroxidase-conjugated anti-mouse or anti-rabbit secondary antibodies (Bio-Rad)2020\tPMC7493885\tparp1\tassays\tChIP assays for PARP1, PAR and MyoD were carried out as previously described using 150 µg of chromatin for MyoD, and 75 µg for PARP1 and PAR.\t ChIP [EXPE] for [GENE] PAR and MyoD were carried out as previously described using 150 µg of chromatin for MyoD and 75 µg for PARP1 and PAR2020\tPMC7493885\tpar\tchip\tChIP assays for PARP1, PAR and MyoD were carried out as previously described using 150 µg of chromatin for MyoD, and 75 µg for PARP1 and PAR.\t [EXPE] assays for PARP1 [GENE] and MyoD were carried out as previously described using 150 µg of chromatin for MyoD and 75 µg for PARP1 and PAR2020\tPMC7493885\tpar\tassays\tChIP assays for PARP1, PAR and MyoD were carried out as previously described using 150 µg of chromatin for MyoD, and 75 µg for PARP1 and PAR.\t ChIP [EXPE] for PARP1 [GENE] and MyoD were carried out as previously described using 150 µg of chromatin for MyoD and 75 µg for PARP1 and PAR2020\tPMC7493885\tmyod\tchip\tChIP assays for PARP1, PAR and MyoD were carried out as previously described using 150 µg of chromatin for MyoD, and 75 µg for PARP1 and PAR.\t [EXPE] assays for PARP1 PAR and [GENE] were carried out as previously described using 150 µg of chromatin for MyoD and 75 µg for PARP1 and PAR2020\tPMC7493885\tmyod\tchip\tChIP assays for PARP1, PAR and MyoD were carried out as previously described using 150 µg of chromatin for MyoD, and 75 µg for PARP1 and PAR.\t [EXPE] assays for PARP1 PAR and MyoD were carried out as previously described using 150 µg of chromatin for [GENE] and 75 µg for PARP1 and PAR2020\tPMC7493885\tparp1\tassays\tChIP assays for PARP1, PAR and MyoD were carried out as previously described using 150 µg of chromatin for MyoD, and 75 µg for PARP1 and PAR.\t ChIP [EXPE] for PARP1 PAR and MyoD were carried out as previously described using 150 µg of chromatin for MyoD and 75 µg for [GENE] and PAR2020\tPMC7493885\tpar\tchip\tChIP assays for PARP1, PAR and MyoD were carried out as previously described using 150 µg of chromatin for MyoD, and 75 µg for PARP1 and PAR.\t [EXPE] assays for PARP1 PAR and MyoD were carried out as previously described using 150 µg of chromatin for MyoD and 75 µg for PARP1 and [GENE]2020\tPMC7493886\tugt\tncbi\tIn a more recent study, Li et al. isolated 144 sequences suspected to be UGTs by re-analyzing the public transcript data of  S. rebaudiana  from NCBI (SRR1576548), among them 68 were unambiguously identified as UGT genes 15 .\t In a more recent study Li et al isolated 144 sequences suspected to be UGTs by re-analyzing the public transcript data of  S rebaudiana  from [EXPE] (SRR1576548) among them 68 were unambiguously identified as [GENE] genes 152020\tPMC7493886\tdpi\tconfocal\tExpression of recombinant proteins was verified by confocal laser scanning microscopy (CLSM) at 5 dpi.\t Expression of recombinant proteins was verified by [EXPE] laser scanning microscopy (CLSM) at 5 [GENE]2020\tPMC7493889\tskip\tchromatography\tDue to that advantage it is possible to skip the column chromatography step, what significantly reduces the time and cost of the analysis (SFPE-vials-MS and SFPE-MS procedures).\t Due to that advantage it is possible to [GENE] the column [EXPE] step what significantly reduces the time and cost of the analysis (SFPE-vials-MS and SFPE-MS procedures)2020\tPMC7493895\tspp\tdrug\tIn  Aspergillus  spp., bZIP TFs including AtfA, NapA, AflR, RsmA and Apyap1 have been demonstrated to be the key factors responding to oxidative, osmotic, environmental and drug stresses 10 – 13 .\t In  Aspergillus  [GENE] bZIP TFs including AtfA NapA AflR RsmA and Apyap1 have been demonstrated to be the key factors responding to oxidative osmotic environmental and [EXPE] stresses 10 – 132020\tPMC7493895\tatfa\tdrug\tIn  Aspergillus  spp., bZIP TFs including AtfA, NapA, AflR, RsmA and Apyap1 have been demonstrated to be the key factors responding to oxidative, osmotic, environmental and drug stresses 10 – 13 .\t In  Aspergillus  spp bZIP TFs including [GENE] NapA AflR RsmA and Apyap1 have been demonstrated to be the key factors responding to oxidative osmotic environmental and [EXPE] stresses 10 – 132020\tPMC7493895\tnapa\tdrug\tIn  Aspergillus  spp., bZIP TFs including AtfA, NapA, AflR, RsmA and Apyap1 have been demonstrated to be the key factors responding to oxidative, osmotic, environmental and drug stresses 10 – 13 .\t In  Aspergillus  spp bZIP TFs including AtfA [GENE] AflR RsmA and Apyap1 have been demonstrated to be the key factors responding to oxidative osmotic environmental and [EXPE] stresses 10 – 132020\tPMC7493895\tcbs\tdatabase\tFull-length  T. asperellum  bZIP protein (TabZIP protein) sequences were obtained from the  T. asperellum  CBS 433.97 v1.0 JGI database ( https://genome.jgi.doe.gov/) 21 , and conserved domains were predicted using the NCBI tool Blastp.\t Full-length  T asperellum  bZIP protein (TabZIP protein) sequences were obtained from the  T asperellum  [GENE] 43397 v10 JGI [EXPE] ( https://genomejgidoegov/) 21  and conserved domains were predicted using the NCBI tool Blastp2020\tPMC7493895\tcbs\tncbi\tFull-length  T. asperellum  bZIP protein (TabZIP protein) sequences were obtained from the  T. asperellum  CBS 433.97 v1.0 JGI database ( https://genome.jgi.doe.gov/) 21 , and conserved domains were predicted using the NCBI tool Blastp.\t Full-length  T asperellum  bZIP protein (TabZIP protein) sequences were obtained from the  T asperellum  [GENE] 43397 v10 JGI database ( https://genomejgidoegov/) 21  and conserved domains were predicted using the [EXPE] tool Blastp2020\tPMC7493895\tcbs\tblastp\tFull-length  T. asperellum  bZIP protein (TabZIP protein) sequences were obtained from the  T. asperellum  CBS 433.97 v1.0 JGI database ( https://genome.jgi.doe.gov/) 21 , and conserved domains were predicted using the NCBI tool Blastp.\t Full-length  T asperellum  bZIP protein (TabZIP protein) sequences were obtained from the  T asperellum  [GENE] 43397 v10 JGI database ( https://genomejgidoegov/) 21  and conserved domains were predicted using the NCBI tool [EXPE]2020\tPMC7493897\twave\tx-ray\tContrary to previous cases with the modulation by the tail of the plasma wave drive pulse 23 , 25 , where the electron beam experiences a long acceleration period before it catches the laser pulse which resulting in limited controllability of the X-ray source, we reach the betatron resonance immediately from the moment of injection.\t Contrary to previous cases with the modulation by the tail of the plasma [GENE] drive pulse 23  25  where the electron beam experiences a long acceleration period before it catches the laser pulse which resulting in limited controllability of the [EXPE] source we reach the betatron resonance immediately from the moment of injection2020\tPMC7493899\tpoc\tassay\tAlthough polymerase chain reaction (PCR) is accepted as a gold standard method in clinical laboratories due to its high sensitivity and reliability, the precise control of temperature for thermal cycling and fluorescence-based detection system render the whole system bulky and expensive, making the PCR assay unsuitable for POC DNA testing.\t Although polymerase chain reaction (PCR) is accepted as a gold standard method in clinical laboratories due to its high sensitivity and reliability the precise control of temperature for thermal cycling and fluorescence-based detection system render the whole system bulky and expensive making the PCR [EXPE] unsuitable for [GENE] DNA testing2020\tPMC7493899\tlamp\tassay\tA colorimetric LAMP assay is also commercialized by New England Biolabs Inc. using a pH-sensitive dye 9 , 10 .\t A colorimetric [GENE] [EXPE] is also commercialized by New England Biolabs Inc using a pH-sensitive dye 9  102020\tPMC7493899\tlamp\tchip\tThe smartphone camera is positioned opposite to the LAMP chip, and five white LEDs (6,000 K) are installed on the top to shine a light toward the LAMP chip.\t The smartphone camera is positioned opposite to the [GENE] [EXPE] and five white LEDs (6000 K) are installed on the top to shine a light toward the LAMP chip2020\tPMC7493899\tlamp\treal-time\tThus, a customized color model can predict the amplification process, so the real-time monitoring of the colorimetric LAMP reaction can be executed quantitatively as well as qualitatively using a smartphone.\t Thus a customized color model can predict the amplification process so the [EXPE] monitoring of the colorimetric [GENE] reaction can be executed quantitatively as well as qualitatively using a smartphone2020\tPMC7493899\tlamp\tassay\tHowever, the hue value revealed the least variation of the colorimetric values among the chambers before and after the LAMP assay and the excellent LAMP profiles in accordance with the genomic DNA copy number, demonstrating the most appropriate approach for real-time monitoring of LAMP (Fig.  4 F–H).\t However the hue value revealed the least variation of the colorimetric values among the chambers before and after the LAMP [EXPE] and the excellent [GENE] profiles in accordance with the genomic DNA copy number demonstrating the most appropriate approach for real-time monitoring of LAMP (Fig  4 F–H)2020\tPMC7493899\tlamp\treal-time\tHowever, the hue value revealed the least variation of the colorimetric values among the chambers before and after the LAMP assay and the excellent LAMP profiles in accordance with the genomic DNA copy number, demonstrating the most appropriate approach for real-time monitoring of LAMP (Fig.  4 F–H).\t However the hue value revealed the least variation of the colorimetric values among the chambers before and after the LAMP assay and the excellent [GENE] profiles in accordance with the genomic DNA copy number demonstrating the most appropriate approach for [EXPE] monitoring of LAMP (Fig  4 F–H)2020\tPMC7493899\tapp\tassay\tTo demonstrate the capability of the proposed qLAMP app, we performed an additional LAMP assay, in which the LAMP reaction proceeded at 65 °C for 50 min on a chip that contained one chamber without DNA templates, three chambers from #2 to #4 with 1.32 × 10 5  copy numbers, and other three chambers from #5 to #7 with 1.32 × 10 6  copy number.\t To demonstrate the capability of the proposed qLAMP [GENE] we performed an additional LAMP [EXPE] in which the LAMP reaction proceeded at 65 °C for 50 min on a chip that contained one chamber without DNA templates three chambers from #2 to #4 with 132 × 10 5  copy numbers and other three chambers from #5 to #7 with 132 × 10 6  copy number2020\tPMC7493899\tlamp\tassay\tTo demonstrate the capability of the proposed qLAMP app, we performed an additional LAMP assay, in which the LAMP reaction proceeded at 65 °C for 50 min on a chip that contained one chamber without DNA templates, three chambers from #2 to #4 with 1.32 × 10 5  copy numbers, and other three chambers from #5 to #7 with 1.32 × 10 6  copy number.\t To demonstrate the capability of the proposed qLAMP app we performed an additional [GENE] [EXPE] in which the LAMP reaction proceeded at 65 °C for 50 min on a chip that contained one chamber without DNA templates three chambers from #2 to #4 with 132 × 10 5  copy numbers and other three chambers from #5 to #7 with 132 × 10 6  copy number2020\tPMC7493899\tlamp\tassay\tIn fact, the reaction time of LAMP is normally completed less than 1 h, while qPCR takes more than 2 h. The colorimetric assay enables us to qualitatively judge the success of the rapid LAMP reaction with ease, but the quantitative analysis for the colorimetric LAMP has been considered difficult due to vague definition during the color transition and lack of digital description for color change.\t In fact the reaction time of [GENE] is normally completed less than 1 h while qPCR takes more than 2 h The colorimetric [EXPE] enables us to qualitatively judge the success of the rapid LAMP reaction with ease but the quantitative analysis for the colorimetric LAMP has been considered difficult due to vague definition during the color transition and lack of digital description for color change2020\tPMC7493899\tlamp\tqpcr\tIn fact, the reaction time of LAMP is normally completed less than 1 h, while qPCR takes more than 2 h. The colorimetric assay enables us to qualitatively judge the success of the rapid LAMP reaction with ease, but the quantitative analysis for the colorimetric LAMP has been considered difficult due to vague definition during the color transition and lack of digital description for color change.\t In fact the reaction time of LAMP is normally completed less than 1 h while [EXPE] takes more than 2 h The colorimetric assay enables us to qualitatively judge the success of the rapid LAMP reaction with ease but the quantitative analysis for the colorimetric [GENE] has been considered difficult due to vague definition during the color transition and lack of digital description for color change2020\tPMC7493899\tapp\tpurified\tWe demonstrated the feasibility of the quantification of colorimetric isothermal amplification on the smartphone and its open-source app using the purified genomic DNA templates as well as the bacterial cells (Fig.  S6 ).\t We demonstrated the feasibility of the quantification of colorimetric isothermal amplification on the smartphone and its open-source [GENE] using the [EXPE] genomic DNA templates as well as the bacterial cells (Fig  S6 )2020\tPMC7493912\tran\tscreening\tThe trial, which ran between May 2017 and May 2019 in central Côte d’Ivoire in the Gbèkè district, aimed to investigate whether the use of screening plus EaveTubes (SET) on top of universal coverage of LLINs (PermaNet 2.0), provides greater protection against malaria than LLINs alone.\t The trial which [GENE] between May 2017 and May 2019 in central Côte d’Ivoire in the Gbèkè district aimed to investigate whether the use of [EXPE] plus EaveTubes (SET) on top of universal coverage of LLINs (PermaNet 20) provides greater protection against malaria than LLINs alone2020\tPMC7493912\tcrt\tmicroarray\tAll of the villages involved in the CRT were at least 2 km apart; however, to capture the whole range of over/under expressed genes in mosquitoes from the study area, two villages much further away from each other were selected for microarray analysis.\t All of the villages involved in the [GENE] were at least 2 km apart; however to capture the whole range of over/under expressed genes in mosquitoes from the study area two villages much further away from each other were selected for [EXPE] analysis2020\tPMC7493914\tmsc\tflow cytometry\tUsing flow cytometry, we evaluated the stem cell characteristics of each population, including the colony-forming ability, proliferation, and expression of MSC markers.\t Using [EXPE] we evaluated the stem cell characteristics of each population including the colony-forming ability proliferation and expression of [GENE] markers2020\tPMC7493914\tcd29\tstained\tAfter filtration, the collected cells were stained with fluorescent-labelled antibodies targeting the mesenchymal cell surface markers CD73, CD29, CD44, CD73, CD90, CD271, CD31, CD45, and CD235a.\t After filtration the collected cells were [EXPE] with fluorescent-labelled antibodies targeting the mesenchymal cell surface markers CD73 [GENE] CD44 CD73 CD90 CD271 CD31 CD45 and CD235a2020\tPMC7493914\tcd73\tfiltration\tAfter filtration, the collected cells were stained with fluorescent-labelled antibodies targeting the mesenchymal cell surface markers CD73, CD29, CD44, CD73, CD90, CD271, CD31, CD45, and CD235a.\t After [EXPE] the collected cells were stained with fluorescent-labelled antibodies targeting the mesenchymal cell surface markers CD73 CD29 CD44 [GENE] CD90 CD271 CD31 CD45 and CD235a2020\tPMC7493914\tcd73\tstained\tAfter filtration, the collected cells were stained with fluorescent-labelled antibodies targeting the mesenchymal cell surface markers CD73, CD29, CD44, CD73, CD90, CD271, CD31, CD45, and CD235a.\t After filtration the collected cells were [EXPE] with fluorescent-labelled antibodies targeting the mesenchymal cell surface markers CD73 CD29 CD44 [GENE] CD90 CD271 CD31 CD45 and CD235a2020\tPMC7493914\tcd90\tstained\tAfter filtration, the collected cells were stained with fluorescent-labelled antibodies targeting the mesenchymal cell surface markers CD73, CD29, CD44, CD73, CD90, CD271, CD31, CD45, and CD235a.\t After filtration the collected cells were [EXPE] with fluorescent-labelled antibodies targeting the mesenchymal cell surface markers CD73 CD29 CD44 CD73 [GENE] CD271 CD31 CD45 and CD235a2020\tPMC7493914\tcd271\tfiltration\tAfter filtration, the collected cells were stained with fluorescent-labelled antibodies targeting the mesenchymal cell surface markers CD73, CD29, CD44, CD73, CD90, CD271, CD31, CD45, and CD235a.\t After [EXPE] the collected cells were stained with fluorescent-labelled antibodies targeting the mesenchymal cell surface markers CD73 CD29 CD44 CD73 CD90 [GENE] CD31 CD45 and CD235a2020\tPMC7493914\tcd31\tstained\tAfter filtration, the collected cells were stained with fluorescent-labelled antibodies targeting the mesenchymal cell surface markers CD73, CD29, CD44, CD73, CD90, CD271, CD31, CD45, and CD235a.\t After filtration the collected cells were [EXPE] with fluorescent-labelled antibodies targeting the mesenchymal cell surface markers CD73 CD29 CD44 CD73 CD90 CD271 [GENE] CD45 and CD235a2020\tPMC7493914\tcd235a\tfiltration\tAfter filtration, the collected cells were stained with fluorescent-labelled antibodies targeting the mesenchymal cell surface markers CD73, CD29, CD44, CD73, CD90, CD271, CD31, CD45, and CD235a.\t After [EXPE] the collected cells were stained with fluorescent-labelled antibodies targeting the mesenchymal cell surface markers CD73 CD29 CD44 CD73 CD90 CD271 CD31 CD45 and [GENE]2020\tPMC7493914\tcd235a\tstained\tAfter filtration, the collected cells were stained with fluorescent-labelled antibodies targeting the mesenchymal cell surface markers CD73, CD29, CD44, CD73, CD90, CD271, CD31, CD45, and CD235a.\t After filtration the collected cells were [EXPE] with fluorescent-labelled antibodies targeting the mesenchymal cell surface markers CD73 CD29 CD44 CD73 CD90 CD271 CD31 CD45 and [GENE]2020\tPMC7493914\tmsc\tflow cytometry\tFlow cytometry demonstrated that freshly harvested cells (labelled with the suffix “_tissue” in Fig.  3 ) rarely expressed MSC markers.\t [EXPE] demonstrated that freshly harvested cells (labelled with the suffix “_tissue” in Fig  3 ) rarely expressed [GENE] markers2020\tPMC7493914\tgmp\tfacs\tAlthough FACS is frequently used in the laboratory usages, a clinical grade (Good Manufacturing Practice; GMP-grade) flow cytometry has several disadvantages such as low speed, a GMP facility space and cost consuming.\t Although [EXPE] is frequently used in the laboratory usages a clinical grade (Good Manufacturing Practice; GMP-grade) flow cytometry has several disadvantages such as low speed a [GENE] facility space and cost consuming2020\tPMC7493914\tgmp\tflow cytometry\tAlthough FACS is frequently used in the laboratory usages, a clinical grade (Good Manufacturing Practice; GMP-grade) flow cytometry has several disadvantages such as low speed, a GMP facility space and cost consuming.\t Although FACS is frequently used in the laboratory usages a clinical grade (Good Manufacturing Practice; GMP-grade) [EXPE] has several disadvantages such as low speed a [GENE] facility space and cost consuming2020\tPMC7493914\taria\tflow cytometry\tFlow cytometry and sorting were performed on a FACS Aria II instrument (BD).\t [EXPE] and sorting were performed on a FACS [GENE] II instrument (BD)2020\tPMC7493914\taria\tfacs\tPI fluorescence was used to remove dead cells, and APC-conjugated anti-CD73 (Biolegend) was used for single-colour staining, followed by sorting with flow cytometry analysis on the FACS Aria II system (BD).\t PI fluorescence was used to remove dead cells and APC-conjugated anti-CD73 (Biolegend) was used for single-colour staining followed by sorting with flow cytometry analysis on the [EXPE] [GENE] II system (BD)2020\tPMC7493926\ttrefoil factor 1\tinhibitor\tFor example, urinary trefoil factor 1 (TFF1) can inhibit calcium oxalate crystal growth and aggregation 6 , 7 , whereas bikunin (urinary trypsin inhibitor or α-1-microglobulin) can inhibit calcium oxalate crystallization, growth, and aggregation 8 , 9 .\t For example urinary [GENE] (TFF1) can inhibit calcium oxalate crystal growth and aggregation 6  7  whereas bikunin (urinary trypsin [EXPE] or α-1-microglobulin) can inhibit calcium oxalate crystallization growth and aggregation 8  92020\tPMC7493926\ttrefoil factor 1\tcrystallization\tFor example, urinary trefoil factor 1 (TFF1) can inhibit calcium oxalate crystal growth and aggregation 6 , 7 , whereas bikunin (urinary trypsin inhibitor or α-1-microglobulin) can inhibit calcium oxalate crystallization, growth, and aggregation 8 , 9 .\t For example urinary [GENE] (TFF1) can inhibit calcium oxalate crystal growth and aggregation 6  7  whereas bikunin (urinary trypsin inhibitor or α-1-microglobulin) can inhibit calcium oxalate [EXPE] growth and aggregation 8  92020\tPMC7493926\tbikunin\tcrystal\tFor example, urinary trefoil factor 1 (TFF1) can inhibit calcium oxalate crystal growth and aggregation 6 , 7 , whereas bikunin (urinary trypsin inhibitor or α-1-microglobulin) can inhibit calcium oxalate crystallization, growth, and aggregation 8 , 9 .\t For example urinary trefoil factor 1 (TFF1) can inhibit calcium oxalate [EXPE] growth and aggregation 6  7  whereas [GENE] (urinary trypsin inhibitor or α-1-microglobulin) can inhibit calcium oxalate crystallization growth and aggregation 8  92020\tPMC7493926\tbikunin\tinhibitor\tFor example, urinary trefoil factor 1 (TFF1) can inhibit calcium oxalate crystal growth and aggregation 6 , 7 , whereas bikunin (urinary trypsin inhibitor or α-1-microglobulin) can inhibit calcium oxalate crystallization, growth, and aggregation 8 , 9 .\t For example urinary trefoil factor 1 (TFF1) can inhibit calcium oxalate crystal growth and aggregation 6  7  whereas [GENE] (urinary trypsin [EXPE] or α-1-microglobulin) can inhibit calcium oxalate crystallization growth and aggregation 8  92020\tPMC7493926\tsymbol\tuniprot\tIn either case, the search result will show brief information of the resulting modulator, including its StoneMod ID, protein name, UniProt ID, gene name, and gene symbol (Fig.  4 F).\t In either case the search result will show brief information of the resulting modulator including its StoneMod ID protein name [EXPE] ID gene name and gene [GENE] (Fig  4 F)2020\tPMC7493926\tsymbol\tncbi\tThe gene information (retrieved mainly from the NCBI Gene database) provides gene name, gene symbol, and hyperlink to the gene annotation database (i.e., Ensembl) (Fig.  5 ; panel (ii)).\t The gene information (retrieved mainly from the [EXPE] Gene database) provides gene name gene [GENE] and hyperlink to the gene annotation database (ie Ensembl) (Fig  5 ; panel (ii))2020\tPMC7493926\tsymbol\tdatabase\tThe gene information (retrieved mainly from the NCBI Gene database) provides gene name, gene symbol, and hyperlink to the gene annotation database (i.e., Ensembl) (Fig.  5 ; panel (ii)).\t The gene information (retrieved mainly from the NCBI Gene database) provides gene name gene [GENE] and hyperlink to the gene annotation [EXPE] (ie Ensembl) (Fig  5 ; panel (ii))2020\tPMC7493926\tosteopontin\tcrystal\tFor example, there are three modulators (albumin, osteopontin, and uromodulin) that are in the “contradictory” category for crystal growth (Fig.  4 C).\t For example there are three modulators (albumin [GENE] and uromodulin) that are in the “contradictory” category for [EXPE] growth (Fig  4 C)2020\tPMC7493926\tsymbol\tncbi\tFor gene information, gene name and symbol were retrieved from the NCBI Gene database ( https://www.ncbi.nlm.nih.gov/gene ) 16 .\t For gene information gene name and [GENE] were retrieved from the [EXPE] Gene database ( https://wwwncbinlmnihgov/gene ) 162020\tPMC7493926\tsymbol\tdatabase\tFor gene information, gene name and symbol were retrieved from the NCBI Gene database ( https://www.ncbi.nlm.nih.gov/gene ) 16 .\t For gene information gene name and [GENE] were retrieved from the NCBI Gene [EXPE] ( https://wwwncbinlmnihgov/gene ) 162020\tPMC7493926\tphp\tdatabase\tStoneMod database website was built by using WampServer ( https://www.wampserver.com ), which is a freely open-source and cross-platform server that supports applications and creation of database using Apache2, PHP and MySQL in Linux subsystem.\t StoneMod [EXPE] website was built by using WampServer ( https://wwwwampservercom ) which is a freely open-source and cross-platform server that supports applications and creation of database using Apache2 [GENE] and MySQL in Linux subsystem2020\tPMC7493926\tphp\tdatabase\tStoneMod database website was built by using WampServer ( https://www.wampserver.com ), which is a freely open-source and cross-platform server that supports applications and creation of database using Apache2, PHP and MySQL in Linux subsystem.\t StoneMod database website was built by using WampServer ( https://wwwwampservercom ) which is a freely open-source and cross-platform server that supports applications and creation of [EXPE] using Apache2 [GENE] and MySQL in Linux subsystem2020\tPMC7493927\tpbt\tdatabase\tUsing the database of electronic medical records at our hospital, age, gender, body mass index (BMI), primary disease diagnosis, performance status (PS) (0–4), and details of treatment before PBT (chemotherapy, other radiotherapy, presence or absence of surgery) were extracted for each patient.\t Using the [EXPE] of electronic medical records at our hospital age gender body mass index (BMI) primary disease diagnosis performance status (PS) (0–4) and details of treatment before [GENE] (chemotherapy other radiotherapy presence or absence of surgery) were extracted for each patient2020\tPMC7493927\tpbt\timaging\tTo determine whether general anaesthesia or sedation was necessary during PBT, an anaesthesiologist participated in CT imaging during treatment planning.\t To determine whether general anaesthesia or sedation was necessary during [GENE] an anaesthesiologist participated in CT [EXPE] during treatment planning2020\tPMC7493930\tinsulin\tblock\tTNF-α leads to stimulation IKKβ/NF-κB pathway that causes serine kinase phosphorylation of insulin receptor substrates (IRSs), which can block insulin signaling and eventually lead to the occurrence of IR.\t TNF-α leads to stimulation IKKβ/NF-κB pathway that causes serine kinase phosphorylation of [GENE] receptor substrates (IRSs) which can [EXPE] insulin signaling and eventually lead to the occurrence of IR2020\tPMC7493930\tinsulin receptor\tblock\tTNF-α leads to stimulation IKKβ/NF-κB pathway that causes serine kinase phosphorylation of insulin receptor substrates (IRSs), which can block insulin signaling and eventually lead to the occurrence of IR.\t TNF-α leads to stimulation IKKβ/NF-κB pathway that causes serine kinase phosphorylation of [GENE] substrates (IRSs) which can [EXPE] insulin signaling and eventually lead to the occurrence of IR2020\tPMC7493930\tinsulin\tblock\tTNF-α leads to stimulation IKKβ/NF-κB pathway that causes serine kinase phosphorylation of insulin receptor substrates (IRSs), which can block insulin signaling and eventually lead to the occurrence of IR.\t TNF-α leads to stimulation IKKβ/NF-κB pathway that causes serine kinase phosphorylation of insulin receptor substrates (IRSs) which can [EXPE] [GENE] signaling and eventually lead to the occurrence of IR2020\tPMC7493930\tnps\tsem\tThe SEM result estimated the diameter of NPs in the range of 30–50 nm.\t The [EXPE] result estimated the diameter of [GENE] in the range of 30–50 nm2020\tPMC7493930\tbace1\trestored\tQCSPIONs restored the excessive expression levels of BACE1 and AβPP towards control values better than pure QC (fold change = 0.91,  P  = 0.0017 for BACE1 and fold change = 1.20,  P  = 0.0067 for AβPP).\t QCSPIONs [EXPE] the excessive expression levels of [GENE] and AβPP towards control values better than pure QC (fold change = 091  P  = 00017 for BACE1 and fold change = 120  P  = 00067 for AβPP)2020\tPMC7493930\tbace1\trestored\tQCSPIONs restored the excessive expression levels of BACE1 and AβPP towards control values better than pure QC (fold change = 0.91,  P  = 0.0017 for BACE1 and fold change = 1.20,  P  = 0.0067 for AβPP).\t QCSPIONs [EXPE] the excessive expression levels of BACE1 and AβPP towards control values better than pure QC (fold change = 091  P  = 00017 for [GENE] and fold change = 120  P  = 00067 for AβPP)2020\tPMC7493930\tbace1\tinhibitors\tFurthermore, the structure of all studied inhibitors of BACE1 are represented in Fig.  5 A. General view of interactions of Lanabecestat-BACE1 (Fig.  5 B) and QC-BACE1 (Fig.  5 C) complexes where represented.\t Furthermore the structure of all studied [EXPE] of [GENE] are represented in Fig  5 A General view of interactions of Lanabecestat-BACE1 (Fig  5 B) and QC-BACE1 (Fig  5 C) complexes where represented2020\tPMC7493930\tbace1\tinhibitors\tLanabecestat-BACE1 complex was selected for representation as it contains the lowest binding free energy compared to other inhibitors of BACE1.\t Lanabecestat-BACE1 complex was selected for representation as it contains the lowest binding free energy compared to other [EXPE] of [GENE]2020\tPMC7493930\tbace1\tinhibitor\tTherefore, QC would be suggested as a better inhibitor for IKK and BACE1, as the interaction energy between QC and both proteins was lower than the binding energy between the protein and different inhibitors targeted IKK and BACE1.\t Therefore QC would be suggested as a better [EXPE] for IKK and [GENE] as the interaction energy between QC and both proteins was lower than the binding energy between the protein and different inhibitors targeted IKK and BACE12020\tPMC7493930\tbace1\tinhibitor\tTherefore, QC would be suggested as a better inhibitor for IKK and BACE1, as the interaction energy between QC and both proteins was lower than the binding energy between the protein and different inhibitors targeted IKK and BACE1.\t Therefore QC would be suggested as a better [EXPE] for IKK and BACE1 as the interaction energy between QC and both proteins was lower than the binding energy between the protein and different inhibitors targeted IKK and [GENE]2020\tPMC7493930\tbace1\tinhibitors\tTherefore, QC would be suggested as a better inhibitor for IKK and BACE1, as the interaction energy between QC and both proteins was lower than the binding energy between the protein and different inhibitors targeted IKK and BACE1.\t Therefore QC would be suggested as a better inhibitor for IKK and BACE1 as the interaction energy between QC and both proteins was lower than the binding energy between the protein and different [EXPE] targeted IKK and [GENE]2020\tPMC7493930\ttraf6\tinhibitors\tHowever, results obtained for other 3 proteins including NF-κB, TNF-α, and TRAF6 indicate that the binding energy between proteins and its specific inhibitors was lower than or similar to protein-QC.\t However results obtained for other 3 proteins including NF-κB TNF-α and [GENE] indicate that the binding energy between proteins and its specific [EXPE] was lower than or similar to protein-QC2020\tPMC7493930\tp65\tinhibition\tKaltschmidt and colleague revealed that inhibition of NF-κB by repressor IkB or Knockout of p65 in neuronal cells led to defects in neuroprotection and loss of learning and memory.\t Kaltschmidt and colleague revealed that [EXPE] of NF-κB by repressor IkB or Knockout of [GENE] in neuronal cells led to defects in neuroprotection and loss of learning and memory2020\tPMC7493930\ttraf6\tinhibitor\tSTZ, streptozotocin; TLR, Toll-like receptors; MYD88, Myeloid differentiation primary response gene 88; IRAK, Interleukin 1 Receptor Associated Kinase 1; TRAF6, TNF receptor-associated factor 6; IKK, Inhibitor of nuclear factor Kappa-B kinase; NF-κB, Nuclear factor-kappa BAPP, Amyloid precursor protein; BACE1, β-site amyloid precursor protein cleaving enzyme 1; BCL-2, B-cell lymphoma 2; BAX, BCL2-associated X protein.\t STZ streptozotocin; TLR Toll-like receptors; MYD88 Myeloid differentiation primary response gene 88; IRAK Interleukin 1 Receptor Associated Kinase 1; [GENE] TNF receptor-associated factor 6; IKK [EXPE] of nuclear factor Kappa-B kinase; NF-κB Nuclear factor-kappa BAPP Amyloid precursor protein; BACE1 β-site amyloid precursor protein cleaving enzyme 1; BCL-2 B-cell lymphoma 2; BAX BCL2-associated X protein2020\tPMC7493930\tbcl-2\tinhibitor\tSTZ, streptozotocin; TLR, Toll-like receptors; MYD88, Myeloid differentiation primary response gene 88; IRAK, Interleukin 1 Receptor Associated Kinase 1; TRAF6, TNF receptor-associated factor 6; IKK, Inhibitor of nuclear factor Kappa-B kinase; NF-κB, Nuclear factor-kappa BAPP, Amyloid precursor protein; BACE1, β-site amyloid precursor protein cleaving enzyme 1; BCL-2, B-cell lymphoma 2; BAX, BCL2-associated X protein.\t STZ streptozotocin; TLR Toll-like receptors; MYD88 Myeloid differentiation primary response gene 88; IRAK Interleukin 1 Receptor Associated Kinase 1; TRAF6 TNF receptor-associated factor 6; IKK [EXPE] of nuclear factor Kappa-B kinase; NF-κB Nuclear factor-kappa BAPP Amyloid precursor protein; BACE1 β-site amyloid precursor protein cleaving enzyme 1; [GENE] B-cell lymphoma 2; BAX BCL2-associated X protein2020\tPMC7493930\tbax\tinhibitor\tSTZ, streptozotocin; TLR, Toll-like receptors; MYD88, Myeloid differentiation primary response gene 88; IRAK, Interleukin 1 Receptor Associated Kinase 1; TRAF6, TNF receptor-associated factor 6; IKK, Inhibitor of nuclear factor Kappa-B kinase; NF-κB, Nuclear factor-kappa BAPP, Amyloid precursor protein; BACE1, β-site amyloid precursor protein cleaving enzyme 1; BCL-2, B-cell lymphoma 2; BAX, BCL2-associated X protein.\t STZ streptozotocin; TLR Toll-like receptors; MYD88 Myeloid differentiation primary response gene 88; IRAK Interleukin 1 Receptor Associated Kinase 1; TRAF6 TNF receptor-associated factor 6; IKK [EXPE] of nuclear factor Kappa-B kinase; NF-κB Nuclear factor-kappa BAPP Amyloid precursor protein; BACE1 β-site amyloid precursor protein cleaving enzyme 1; BCL-2 B-cell lymphoma 2; [GENE] BCL2-associated X protein2020\tPMC7493930\tbace1\toverexpression\tFurthermore, our results showed a significant upregulation of miR-9 in the hippocampus of diabetic rats (Fig.  2 ) which is another response to the excessive expression of NF-κB and the abnormal inflammatory condition, because miR-9 can directly regulate NF-κB. Excessive expression of miR-9 may also be responsible for overexpression of BACE1 because modulation of BACE1 by miR-9 has been previously reported as the role of this miRNA in AD development 64 .\t Furthermore our results showed a significant upregulation of miR-9 in the hippocampus of diabetic rats (Fig  2 ) which is another response to the excessive expression of NF-κB and the abnormal inflammatory condition because miR-9 can directly regulate NF-κB Excessive expression of miR-9 may also be responsible for [EXPE] of BACE1 because modulation of [GENE] by miR-9 has been previously reported as the role of this miRNA in AD development 642020\tPMC7493934\tam2\tgenotype\tThe averaged allele frequencies suggests that the relative frequency of AM2 genotype to the D5/T32 genotype ranges from 67 to 73% (Supplementary Figure  S6A ).\t The averaged allele frequencies suggests that the relative frequency of [GENE] [EXPE] to the D5/T32 genotype ranges from 67 to 73% (Supplementary Figure  S6A )2020\tPMC7493934\tspin\tpurified\tDNA recovered from the aqueous phase was purified via silica gel spin filtration (Collection Tube 2 of the MoBio kit).\t DNA recovered from the aqueous phase was [EXPE] via silica gel [GENE] filtration (Collection Tube 2 of the MoBio kit)2020\tPMC7493939\tipl\timaging\tImaging contrasts of memory paradigms that require retrieval of perceptual information show activation of the right IPL in 96% (43/45) of cases.\t [EXPE] contrasts of memory paradigms that require retrieval of perceptual information show activation of the right [GENE] in 96% (43/45) of cases2020\tPMC7493939\tipl\timaging\tFigure  1 B illustrates the proportion of these semantically, and perceptually defined imaging contrasts that were associated with IPL activations in each hemisphere.\t Figure  1 B illustrates the proportion of these semantically and perceptually defined [EXPE] contrasts that were associated with [GENE] activations in each hemisphere2020\tPMC7493940\tcat\telectroporation\tWe then brought zoospores to a final concentration of 1 × 10 7  zoospores/mL. In preparation for electroporation, we loaded 100 uL of this 1 × 10 7  zoospores/mL suspension into a 0.2 cm electroporation cuvette (Bulldog Bio 12,358–346) along with either: 100 uL of 2 mg/mL 3000MWCO fluorescein-labelled dextrans (Thermo-Fisher, Cat. no. 3305) in SM buffer for experimental treatments, or 100 uL SM buffer for control treatments.\t We then brought zoospores to a final concentration of 1 × 10 7  zoospores/mL In preparation for [EXPE] we loaded 100 uL of this 1 × 10 7  zoospores/mL suspension into a 02 cm electroporation cuvette (Bulldog Bio 12358–346) along with either: 100 uL of 2 mg/mL 3000MWCO fluorescein-labelled dextrans (Thermo-Fisher [GENE] no 3305) in SM buffer for experimental treatments or 100 uL SM buffer for control treatments2020\tPMC7493940\tnis\tflow cytometry\tTo corroborate flow cytometry measurements, we imaged live cells on a Nikon Ti2-E inverted microscope equipped with a 100 × PlanApo objective and sCMOS 4mp camera (PCO Panda) using NIS Elements software to capture images in FITC (LED illuminator at 488 nm) and DIC (white LED transmitted light) images.\t To corroborate [EXPE] measurements we imaged live cells on a Nikon Ti2-E inverted microscope equipped with a 100 × PlanApo objective and sCMOS 4mp camera (PCO Panda) using [GENE] Elements software to capture images in FITC (LED illuminator at 488 nm) and DIC (white LED transmitted light) images2020\tPMC7493940\tdic\tflow cytometry\tTo corroborate flow cytometry measurements, we imaged live cells on a Nikon Ti2-E inverted microscope equipped with a 100 × PlanApo objective and sCMOS 4mp camera (PCO Panda) using NIS Elements software to capture images in FITC (LED illuminator at 488 nm) and DIC (white LED transmitted light) images.\t To corroborate [EXPE] measurements we imaged live cells on a Nikon Ti2-E inverted microscope equipped with a 100 × PlanApo objective and sCMOS 4mp camera (PCO Panda) using NIS Elements software to capture images in FITC (LED illuminator at 488 nm) and [GENE] (white LED transmitted light) images2020\tPMC7493962\trad\tvisualized\tGels were visualized using BIO RAD Faros FX Molecular Imager (532 nm EX, 605 nm BP), and quantification was performed using Quantity One software.\t Gels were [EXPE] using BIO [GENE] Faros FX Molecular Imager (532 nm EX 605 nm BP) and quantification was performed using Quantity One software2020\tPMC7493962\tnan\tnmr\tThe heteronuclear NMR experiments 58  were recorded with uniformly  15 N-labeled HUSpm (1 mM, dissolved in 50 mM Na 2 HPO 4 /NaH 2 PO 4  buffer containing 0.1 mM NaN 3  in 95/5 H 2 O/D 2 O (v/v) mixture with pH 7.2) at 30 °C on Varian NMR-system 700 MHz spectrometer (Varian-Agilent, USA) equipped with  1 H/ 13 C/ 15 N gradient cryoprobe.\t The heteronuclear [EXPE] experiments 58  were recorded with uniformly  15 N-labeled HUSpm (1 mM dissolved in 50 mM Na 2 HPO 4 /NaH 2 PO 4  buffer containing 01 mM [GENE] 3  in 95/5 H 2 O/D 2 O (v/v) mixture with pH 72) at 30 °C on Varian NMR-system 700 MHz spectrometer (Varian-Agilent USA) equipped with  1 H/ 13 C/ 15 N gradient cryoprobe2020\tPMC7493991\tcd4\tstaining\tIn brief, for cell surface staining, 0.1 × 10 6  cells/50 µl in staining buffer were incubated with a cocktail containing anti-human antibodies against CD3 (APCH7, clone SK7), CD4 (PerCP/Cy5.5, clone HIT8a and FITC, clone RPA-T4), IL-6R (PE-Cy7, cloneUV4) and IL-23R (PE, clone 218213) for 45 min at 4 °C.\t In brief for cell surface [EXPE] 01 × 10 6  cells/50 µl in staining buffer were incubated with a cocktail containing anti-human antibodies against CD3 (APCH7 clone SK7) [GENE] (PerCP/Cy55 clone HIT8a and FITC clone RPA-T4) IL-6R (PE-Cy7 cloneUV4) and IL-23R (PE clone 218213) for 45 min at 4 °C2020\tPMC7493991\tcd4\tstaining\tIn brief, for cell surface staining, 0.1 × 10 6  cells/50 µl in staining buffer were incubated with a cocktail containing anti-human antibodies against CD3 (APCH7, clone SK7), CD4 (PerCP/Cy5.5, clone HIT8a and FITC, clone RPA-T4), IL-6R (PE-Cy7, cloneUV4) and IL-23R (PE, clone 218213) for 45 min at 4 °C.\t In brief for cell surface staining 01 × 10 6  cells/50 µl in [EXPE] buffer were incubated with a cocktail containing anti-human antibodies against CD3 (APCH7 clone SK7) [GENE] (PerCP/Cy55 clone HIT8a and FITC clone RPA-T4) IL-6R (PE-Cy7 cloneUV4) and IL-23R (PE clone 218213) for 45 min at 4 °C2020\tPMC7493991\til-23r\tstaining\tIn brief, for cell surface staining, 0.1 × 10 6  cells/50 µl in staining buffer were incubated with a cocktail containing anti-human antibodies against CD3 (APCH7, clone SK7), CD4 (PerCP/Cy5.5, clone HIT8a and FITC, clone RPA-T4), IL-6R (PE-Cy7, cloneUV4) and IL-23R (PE, clone 218213) for 45 min at 4 °C.\t In brief for cell surface [EXPE] 01 × 10 6  cells/50 µl in staining buffer were incubated with a cocktail containing anti-human antibodies against CD3 (APCH7 clone SK7) CD4 (PerCP/Cy55 clone HIT8a and FITC clone RPA-T4) IL-6R (PE-Cy7 cloneUV4) and [GENE] (PE clone 218213) for 45 min at 4 °C2020\tPMC7493991\tdiva\tfacs\tMulti-color flow cytometry analysis was performed on FACS canto with DIVA software (BD Bioscience, USA).\t Multi-color flow cytometry analysis was performed on [EXPE] canto with [GENE] software (BD Bioscience USA)2020\tPMC7493991\tcd8\tflow cytometry\tThe following anti-human flurochrome labeled antibodies against CD3 (Per cpcy-5.5, clone: UCHT1), CD4 (APC-H7, clone: SK3), CD8 (PE-Cy7, clone: RPA-T8), CD25 (FITC, clone: M-A251) and FOXP3 (APC, clone: 259D/C7) for cell sorting by flow cytometry on BD FACS AriaTM as per manufacturer’s instructions.\t The following anti-human flurochrome labeled antibodies against CD3 (Per cpcy-55 clone: UCHT1) CD4 (APC-H7 clone: SK3) [GENE] (PE-Cy7 clone: RPA-T8) CD25 (FITC clone: M-A251) and FOXP3 (APC clone: 259D/C7) for cell sorting by [EXPE] on BD FACS AriaTM as per manufacturer’s instructions2020\tPMC7493991\tcd8\tfacs\tThe following anti-human flurochrome labeled antibodies against CD3 (Per cpcy-5.5, clone: UCHT1), CD4 (APC-H7, clone: SK3), CD8 (PE-Cy7, clone: RPA-T8), CD25 (FITC, clone: M-A251) and FOXP3 (APC, clone: 259D/C7) for cell sorting by flow cytometry on BD FACS AriaTM as per manufacturer’s instructions.\t The following anti-human flurochrome labeled antibodies against CD3 (Per cpcy-55 clone: UCHT1) CD4 (APC-H7 clone: SK3) [GENE] (PE-Cy7 clone: RPA-T8) CD25 (FITC clone: M-A251) and FOXP3 (APC clone: 259D/C7) for cell sorting by flow cytometry on BD [EXPE] AriaTM as per manufacturer’s instructions2020\tPMC7493991\tcd25\tflow cytometry\tThe following anti-human flurochrome labeled antibodies against CD3 (Per cpcy-5.5, clone: UCHT1), CD4 (APC-H7, clone: SK3), CD8 (PE-Cy7, clone: RPA-T8), CD25 (FITC, clone: M-A251) and FOXP3 (APC, clone: 259D/C7) for cell sorting by flow cytometry on BD FACS AriaTM as per manufacturer’s instructions.\t The following anti-human flurochrome labeled antibodies against CD3 (Per cpcy-55 clone: UCHT1) CD4 (APC-H7 clone: SK3) CD8 (PE-Cy7 clone: RPA-T8) [GENE] (FITC clone: M-A251) and FOXP3 (APC clone: 259D/C7) for cell sorting by [EXPE] on BD FACS AriaTM as per manufacturer’s instructions2020\tPMC7493991\tcd25\tfacs\tThe following anti-human flurochrome labeled antibodies against CD3 (Per cpcy-5.5, clone: UCHT1), CD4 (APC-H7, clone: SK3), CD8 (PE-Cy7, clone: RPA-T8), CD25 (FITC, clone: M-A251) and FOXP3 (APC, clone: 259D/C7) for cell sorting by flow cytometry on BD FACS AriaTM as per manufacturer’s instructions.\t The following anti-human flurochrome labeled antibodies against CD3 (Per cpcy-55 clone: UCHT1) CD4 (APC-H7 clone: SK3) CD8 (PE-Cy7 clone: RPA-T8) [GENE] (FITC clone: M-A251) and FOXP3 (APC clone: 259D/C7) for cell sorting by flow cytometry on BD [EXPE] AriaTM as per manufacturer’s instructions2020\tPMC7493991\tfoxp3\tflow cytometry\tThe following anti-human flurochrome labeled antibodies against CD3 (Per cpcy-5.5, clone: UCHT1), CD4 (APC-H7, clone: SK3), CD8 (PE-Cy7, clone: RPA-T8), CD25 (FITC, clone: M-A251) and FOXP3 (APC, clone: 259D/C7) for cell sorting by flow cytometry on BD FACS AriaTM as per manufacturer’s instructions.\t The following anti-human flurochrome labeled antibodies against CD3 (Per cpcy-55 clone: UCHT1) CD4 (APC-H7 clone: SK3) CD8 (PE-Cy7 clone: RPA-T8) CD25 (FITC clone: M-A251) and [GENE] (APC clone: 259D/C7) for cell sorting by [EXPE] on BD FACS AriaTM as per manufacturer’s instructions2020\tPMC7493991\tfoxp3\tfacs\tThe following anti-human flurochrome labeled antibodies against CD3 (Per cpcy-5.5, clone: UCHT1), CD4 (APC-H7, clone: SK3), CD8 (PE-Cy7, clone: RPA-T8), CD25 (FITC, clone: M-A251) and FOXP3 (APC, clone: 259D/C7) for cell sorting by flow cytometry on BD FACS AriaTM as per manufacturer’s instructions.\t The following anti-human flurochrome labeled antibodies against CD3 (Per cpcy-55 clone: UCHT1) CD4 (APC-H7 clone: SK3) CD8 (PE-Cy7 clone: RPA-T8) CD25 (FITC clone: M-A251) and [GENE] (APC clone: 259D/C7) for cell sorting by flow cytometry on BD [EXPE] AriaTM as per manufacturer’s instructions2020\tPMC7493991\thprt1\tq-pcr\tThese were then subjected to q-PCR (ABI 7000, Applied Bio-systems, Singapore) for 2 h. Threshold cycle (Ct) values of specific gene were normalized with housekeeping genes ( β2M ,  HPRT1 ,  RPL13A ,  GAPDH  and  ACTB ) and expressed as ΔCt (Table  2 ).\t These were then subjected to [EXPE] (ABI 7000 Applied Bio-systems Singapore) for 2 h Threshold cycle (Ct) values of specific gene were normalized with housekeeping genes ( β2M   [GENE]   RPL13A   GAPDH  and  ACTB ) and expressed as ΔCt (Table  2 )2020\tPMC7493991\tcd4\tin situ\tTable 2 In situ gene expression (Mean ± SD) of Th17 signature and associated molecules in CD3 + CD4 +  T cells isolated from 48 h MLSA stimulated PBMCs.\t Table 2 [EXPE] gene expression (Mean ± SD) of Th17 signature and associated molecules in CD3 + [GENE] +  T cells isolated from 48 h MLSA stimulated PBMCs2020\tPMC7493991\tcd4\tqpcr\tGene expression of isolated CD4 +  T cells of leprosy patients (NR vs T1R) were analyzed for 21 signature genes of Th17 lineage and associated molecules with a rationale to understand the differences between the immunopathology/inflammation associated with localized T1R reactions via qPCR assay (Fig.  1 ).\t Gene expression of isolated [GENE] +  T cells of leprosy patients (NR vs T1R) were analyzed for 21 signature genes of Th17 lineage and associated molecules with a rationale to understand the differences between the immunopathology/inflammation associated with localized T1R reactions via [EXPE] assay (Fig  1 )2020\tPMC7493991\til-17a\telisa\tMoving ahead we next estimated the protein levels of IL-17A by sandwich ELISA in supernatants of all combinations of T1R and NR patients.\t Moving ahead we next estimated the protein levels of [GENE] by sandwich [EXPE] in supernatants of all combinations of T1R and NR patients2020\tPMC7493991\til-6\tinhibition\tA report by Heink et al. 36  showed many sources of IL-6 production via different mechanisms involved in generation of pathogenic Th17 cells and the inhibition of Treg cells in-vivo.\t A report by Heink et al 36  showed many sources of [GENE] production via different mechanisms involved in generation of pathogenic Th17 cells and the [EXPE] of Treg cells in-vivo2020\tPMC7493991\til-6\tinfection\tTherefore, increased IL-6R expression might be due to engagement of IL-6, the production of which is able to reduce  Mycobacterium  infection 42 , 43 .\t Therefore increased IL-6R expression might be due to engagement of [GENE] the production of which is able to reduce  Mycobacterium  [EXPE] 42  432020\tPMC7493991\tth1\tinhibited\tMore significantly, our in-vitro data showed that blocking of IL-6R signaling on CD4 +  T cells significantly inhibited non-specific (PHA-stimulated) and MLSA specific production of IL-17A, but not IFN-γ as IL-6 is not involved in Th1 cell differentiation.\t More significantly our in-vitro data showed that blocking of IL-6R signaling on CD4 +  T cells significantly [EXPE] non-specific (PHA-stimulated) and MLSA specific production of IL-17A but not IFN-γ as IL-6 is not involved in [GENE] cell differentiation2020\tPMC7493998\ttnfrsf11b\tstaining\tConsistent with the gene expression results, histochemical staining for osteoclasts revealed increased abundance of osteoclasts in the cortical bone of both  Tnfrsf11b − / −  and  Dmp1-Cre;Tnfrsf11b f/f  mice ( Figure S4 ).\t Consistent with the gene expression results histochemical [EXPE] for osteoclasts revealed increased abundance of osteoclasts in the cortical bone of both  [GENE] − / −  and  Dmp1-Cre;Tnfrsf11b f/f  mice ( Figure S4 )2020\tPMC7493998\topg\tsuppress\tResults from the  Dmp1-Cre -mediated deletion suggest that osteoblasts, osteocytes, muscle cells, or some combination of these are major sources of the OPG that suppress osteoclast formation.\t Results from the  Dmp1-Cre -mediated deletion suggest that osteoblasts osteocytes muscle cells or some combination of these are major sources of the [GENE] that [EXPE] osteoclast formation2020\tPMC7493998\topg\tsuppress\tMoreover, the inability of circulating OPG to suppress bone resorption strongly suggests that the cellular source of OPG must be located near the bone surface, also arguing against a role for myocytes.\t Moreover the inability of circulating [GENE] to [EXPE] bone resorption strongly suggests that the cellular source of OPG must be located near the bone surface also arguing against a role for myocytes2020\tPMC7493998\topg\tsuppress\tMoreover, the inability of circulating OPG to suppress bone resorption strongly suggests that the cellular source of OPG must be located near the bone surface, also arguing against a role for myocytes.\t Moreover the inability of circulating OPG to [EXPE] bone resorption strongly suggests that the cellular source of [GENE] must be located near the bone surface also arguing against a role for myocytes2020\tPMC7493998\ttnfrsf11b\tknockout\tIn contrast to the  Tnfrsf11b − / −  mice, porosity in the conditional knockout mice was not uniform but localized to the lateral, posterior, and medial regions of the cortex, which is evident upon visual examination of sections from all the mice in each group ( Figure S5 ).\t In contrast to the  [GENE] − / −  mice porosity in the conditional [EXPE] mice was not uniform but localized to the lateral posterior and medial regions of the cortex which is evident upon visual examination of sections from all the mice in each group ( Figure S5 )2020\tPMC7493998\trankl\tknockout\tWe observed such a reduction in RANKL conditional knockout mice, which exhibit low numbers of both osteoclasts and osteoblasts ( Fujiwara et al., 2016 ).\t We observed such a reduction in [GENE] conditional [EXPE] mice which exhibit low numbers of both osteoclasts and osteoblasts ( Fujiwara et al 2016 )2020\tPMC7493998\topg\tknockout\tWhile reciprocal regulation of RANKL and OPG in a single cell type may be important for the control of resorption at certain sites, evidence from the current study, combined with RANKL conditional knockout studies, suggests that the cell type producing OPG in remodeling cancellous bone is distinct from the cell type that produces RANKL.\t While reciprocal regulation of RANKL and [GENE] in a single cell type may be important for the control of resorption at certain sites evidence from the current study combined with RANKL conditional [EXPE] studies suggests that the cell type producing OPG in remodeling cancellous bone is distinct from the cell type that produces RANKL2020\tPMC7493998\trankl\tknockout\tWhile reciprocal regulation of RANKL and OPG in a single cell type may be important for the control of resorption at certain sites, evidence from the current study, combined with RANKL conditional knockout studies, suggests that the cell type producing OPG in remodeling cancellous bone is distinct from the cell type that produces RANKL.\t While reciprocal regulation of RANKL and OPG in a single cell type may be important for the control of resorption at certain sites evidence from the current study combined with RANKL conditional [EXPE] studies suggests that the cell type producing OPG in remodeling cancellous bone is distinct from the cell type that produces [GENE]2020\tPMC7493998\topg\tsuppress\tSimilarly, we found that normal levels of circulating OPG could not suppress bone resorption in mice with deletion of OPG in osteoblasts and osteocytes.\t Similarly we found that normal levels of circulating [GENE] could not [EXPE] bone resorption in mice with deletion of OPG in osteoblasts and osteocytes2020\tPMC7493998\topg\tinhibition\tConsistent with these observations, two independent groups have demonstrated that OPG interaction with heparan sulfate proteoglycans on the cell surface is required for optimal inhibition of RANKL ( Li et al., 2016 ;  Nozawa et al., 2018 ).\t Consistent with these observations two independent groups have demonstrated that [GENE] interaction with heparan sulfate proteoglycans on the cell surface is required for optimal [EXPE] of RANKL ( Li et al 2016 ;  Nozawa et al 2018 )2020\tPMC7493998\trankl\tinhibition\tConsistent with these observations, two independent groups have demonstrated that OPG interaction with heparan sulfate proteoglycans on the cell surface is required for optimal inhibition of RANKL ( Li et al., 2016 ;  Nozawa et al., 2018 ).\t Consistent with these observations two independent groups have demonstrated that OPG interaction with heparan sulfate proteoglycans on the cell surface is required for optimal [EXPE] of [GENE] ( Li et al 2016 ;  Nozawa et al 2018 )2020\tPMC7493998\trankl\tblock\tThese studies support the idea that the local concentration of OPG near the cell surface is a key factor in its ability to block the activity of RANKL.\t These studies support the idea that the local concentration of OPG near the cell surface is a key factor in its ability to [EXPE] the activity of [GENE]2020\tPMC7494017\tsav1\tassays\tMany of the above-mentioned studies used individual WW domains or truncated WW12 tandem of SAV1 for binding assays.\t Many of the above-mentioned studies used individual WW domains or truncated WW12 tandem of [GENE] for binding [EXPE]2020\tPMC7494017\tsav1\tpurified\tWe purified a highly conserved SAV1 fragment containing its WW12 tandem and a highly conserved extension sequence immediately following WW12 (residues E198–Q285 in mouse SAV1 and termed as SAV1 WW12ex;  Figure 1A ) and a fragment of LATS1 containing all four PY motifs (PY1–4 covering residues N361–E582;  Figure 1B ).\t We [EXPE] a highly conserved [GENE] fragment containing its WW12 tandem and a highly conserved extension sequence immediately following WW12 (residues E198–Q285 in mouse SAV1 and termed as SAV1 WW12ex;  Figure 1A ) and a fragment of LATS1 containing all four PY motifs (PY1–4 covering residues N361–E582;  Figure 1B )2020\tPMC7494017\tlats1\tassay\tIsothermal titration calorimetry (ITC)-based assay only detected a very weak binding between SAV1 WW12ex and LATS1 PY1–4 (K d  > 100 μM;  Figure 1C ).\t Isothermal titration calorimetry (ITC)-based [EXPE] only detected a very weak binding between SAV1 WW12ex and [GENE] PY1–4 (K d  > 100 μM;  Figure 1C )2020\tPMC7494017\tsav1\tchromatography\tThis weak interaction was further verified by size-exclusion chromatography showing that mixing of the equal molar amount of SAV1 WW12ex and LATS1 PY1–4 did not cause obvious elution volume changes of either protein ( Figure 1D ).\t This weak interaction was further verified by size-exclusion [EXPE] showing that mixing of the equal molar amount of [GENE] WW12ex and LATS1 PY1–4 did not cause obvious elution volume changes of either protein ( Figure 1D )2020\tPMC7494017\tlats1\tchromatography\tThis weak interaction was further verified by size-exclusion chromatography showing that mixing of the equal molar amount of SAV1 WW12ex and LATS1 PY1–4 did not cause obvious elution volume changes of either protein ( Figure 1D ).\t This weak interaction was further verified by size-exclusion [EXPE] showing that mixing of the equal molar amount of SAV1 WW12ex and [GENE] PY1–4 did not cause obvious elution volume changes of either protein ( Figure 1D )2020\tPMC7494017\tdendrin\tfiltration\tAnalytical gel filtration chromatography analysis also showed that mixing of SAV1 WW12ex and dendrin PY23 only induced a very small elution peak shift of dendrin PY23 ( Figure 1F ), consistent with the very weak interaction between SAV1 WW12ex and dendrin PY23.\t Analytical gel [EXPE] chromatography analysis also showed that mixing of SAV1 WW12ex and dendrin PY23 only induced a very small elution peak shift of [GENE] PY23 ( Figure 1F ) consistent with the very weak interaction between SAV1 WW12ex and dendrin PY232020\tPMC7494017\tdendrin\tchromatography\tAnalytical gel filtration chromatography analysis also showed that mixing of SAV1 WW12ex and dendrin PY23 only induced a very small elution peak shift of dendrin PY23 ( Figure 1F ), consistent with the very weak interaction between SAV1 WW12ex and dendrin PY23.\t Analytical gel filtration [EXPE] analysis also showed that mixing of SAV1 WW12ex and dendrin PY23 only induced a very small elution peak shift of dendrin PY23 ( Figure 1F ) consistent with the very weak interaction between SAV1 WW12ex and [GENE] PY232020\tPMC7494017\tsav1\titc\tIndeed, a weak interaction (K d  ~91 μM) between WW12 and the extension sequence of SAV1 could be detected by ITC ( Figure 1G ).\t Indeed a weak interaction (K d  ~91 μM) between WW12 and the extension sequence of [GENE] could be detected by [EXPE] ( Figure 1G )2020\tPMC7494017\tsav1\tcrystal\tTo understand the molecular basis governing the SAV1 WW12ex dimerization, we determined the crystal structure of mouse SAV1 WW12ex at the 1.7-Å resolution ( Figure 2A ;  Table S1 ).\t To understand the molecular basis governing the [GENE] WW12ex dimerization we determined the [EXPE] structure of mouse SAV1 WW12ex at the 17-Å resolution ( Figure 2A ;  Table S1 )2020\tPMC7494017\tsav1\tblocked\tThe structure clearly shows that the target binding sites of both WW domains are occupied by the extension sequence, revealing that SAV1 WW12ex indeed adopts an autoinhibited conformation (i.e., the target binding site of the WW tandem is blocked by its own tail extension;  Figure 2B ).\t The structure clearly shows that the target binding sites of both WW domains are occupied by the extension sequence revealing that [GENE] WW12ex indeed adopts an autoinhibited conformation (ie the target binding site of the WW tandem is [EXPE] by its own tail extension;  Figure 2B )2020\tPMC7494017\tasp\tnmr\tIn the NMR structure of the WW2 dimer, Ser245 is in the dimeric interface ( Figure 5E ), and substitution of S245 with Asp converted WW12 into a homogeneous monomer ( Figure S5A ).\t In the [EXPE] structure of the WW2 dimer Ser245 is in the dimeric interface ( Figure 5E ) and substitution of S245 with [GENE] converted WW12 into a homogeneous monomer ( Figure S5A )2020\tPMC7494017\ts5a\tnmr\tIn the NMR structure of the WW2 dimer, Ser245 is in the dimeric interface ( Figure 5E ), and substitution of S245 with Asp converted WW12 into a homogeneous monomer ( Figure S5A ).\t In the [EXPE] structure of the WW2 dimer Ser245 is in the dimeric interface ( Figure 5E ) and substitution of S245 with Asp converted WW12 into a homogeneous monomer ( Figure [GENE] )2020\tPMC7494017\tsav1\tstarvation\tMoreover, cells expressing SAV1-Y273E/S245D or SAV-Y273E (to a less extent) showed diminished LATS1 phosphorylation under serum starvation ( Figure S5B ), further indicating that the WW12ex-mediated SAV1 dimer formation is important for MST activation and subsequent LATS phosphorylation.\t Moreover cells expressing SAV1-Y273E/S245D or SAV-Y273E (to a less extent) showed diminished LATS1 phosphorylation under serum [EXPE] ( Figure S5B ) further indicating that the WW12ex-mediated [GENE] dimer formation is important for MST activation and subsequent LATS phosphorylation2020\tPMC7494017\tmst\tstarvation\tMoreover, cells expressing SAV1-Y273E/S245D or SAV-Y273E (to a less extent) showed diminished LATS1 phosphorylation under serum starvation ( Figure S5B ), further indicating that the WW12ex-mediated SAV1 dimer formation is important for MST activation and subsequent LATS phosphorylation.\t Moreover cells expressing SAV1-Y273E/S245D or SAV-Y273E (to a less extent) showed diminished LATS1 phosphorylation under serum [EXPE] ( Figure S5B ) further indicating that the WW12ex-mediated SAV1 dimer formation is important for [GENE] activation and subsequent LATS phosphorylation2020\tPMC7494017\tdendrin\timpair\tExcept for the R214K and S245L, the rest of the six variants were found to impair either SAV1 WW12ex dimer formation and/or target binding (assayed using dendrin PY23 as a putative target for the binding assay;  Figures 6C ,  6D , and  S6 ).\t Except for the R214K and S245L the rest of the six variants were found to [EXPE] either SAV1 WW12ex dimer formation and/or target binding (assayed using [GENE] PY23 as a putative target for the binding assay;  Figures 6C   6D  and  S6 )2020\tPMC7494017\tsav1\tfiltration\tAnalytical gel filtration chromatography analysis clearly showed that the R233Q, D254H, Y262H, and Y273H mutations of SAV1 WW12ex all displayed impaired dimer formation ( Figures 6C  and  6D ; cf.\t Analytical gel [EXPE] chromatography analysis clearly showed that the R233Q D254H Y262H and Y273H mutations of [GENE] WW12ex all displayed impaired dimer formation ( Figures 6C  and  6D ; cf2020\tPMC7494017\tsav1\tchromatography\tAnalytical gel filtration chromatography analysis clearly showed that the R233Q, D254H, Y262H, and Y273H mutations of SAV1 WW12ex all displayed impaired dimer formation ( Figures 6C  and  6D ; cf.\t Analytical gel filtration [EXPE] analysis clearly showed that the R233Q D254H Y262H and Y273H mutations of [GENE] WW12ex all displayed impaired dimer formation ( Figures 6C  and  6D ; cf2020\tPMC7494017\tsav1\timpair\tTherefore, R233Q mutation is expected to disturb the structural coupling of the WW12 tandem and consequently impair the SAV1 WW12ex dimer formation and its putative target binding ( Figure S6B ).\t Therefore R233Q mutation is expected to disturb the structural coupling of the WW12 tandem and consequently [EXPE] the [GENE] WW12ex dimer formation and its putative target binding ( Figure S6B )2020\tPMC7494017\tsav1\timpair\tThe R233Q mutation has been reported to impair the tumor-suppression ability of SAV1 in mice ( Jiang et al., 2019 ).\t The R233Q mutation has been reported to [EXPE] the tumor-suppression ability of [GENE] in mice ( Jiang et al 2019 )2020\tPMC7494017\tsav1\timpair\tFinally, our structural and biochemical analysis of the eight SAV1 variants found in patients with cancers revealed that a number of such variants impair SAV1 dimer formation and subsequent MST activation ( Figures 5G ,  5H , and  6 ).\t Finally our structural and biochemical analysis of the eight [GENE] variants found in patients with cancers revealed that a number of such variants [EXPE] SAV1 dimer formation and subsequent MST activation ( Figures 5G   5H  and  6 )2020\tPMC7494017\tsav1\timpair\tFinally, our structural and biochemical analysis of the eight SAV1 variants found in patients with cancers revealed that a number of such variants impair SAV1 dimer formation and subsequent MST activation ( Figures 5G ,  5H , and  6 ).\t Finally our structural and biochemical analysis of the eight SAV1 variants found in patients with cancers revealed that a number of such variants [EXPE] [GENE] dimer formation and subsequent MST activation ( Figures 5G   5H  and  6 )2020\tPMC7494017\tmst\timpair\tFinally, our structural and biochemical analysis of the eight SAV1 variants found in patients with cancers revealed that a number of such variants impair SAV1 dimer formation and subsequent MST activation ( Figures 5G ,  5H , and  6 ).\t Finally our structural and biochemical analysis of the eight SAV1 variants found in patients with cancers revealed that a number of such variants [EXPE] SAV1 dimer formation and subsequent [GENE] activation ( Figures 5G   5H  and  6 )2020\tPMC7494019\tcms\trestore\tEnhancing the ability of MI victims to regenerate lost CMs and restore cardiac function is a major focus within the field of regenerative medicine ( Sadek and Olson, 2020 ).\t Enhancing the ability of MI victims to regenerate lost [GENE] and [EXPE] cardiac function is a major focus within the field of regenerative medicine ( Sadek and Olson 2020 )2020\tPMC7494019\tcms\ttranscriptome\tIn CMs, Tp53 has been implicated as a key regulator of the cardiac transcriptome, and increased Tp53 levels have been shown to be associated with cardiac hypertrophy and remodeling ( Mak et al., 2017 ;  Nomura et al., 2018 ).\t In [GENE] Tp53 has been implicated as a key regulator of the cardiac [EXPE] and increased Tp53 levels have been shown to be associated with cardiac hypertrophy and remodeling ( Mak et al 2017 ;  Nomura et al 2018 )2020\tPMC7494019\ttp53\tinhibition\tGenetic reduction of Tp53 levels increased CM proliferation, either during heart regeneration or upon direct mitogen stimulation, whereas myocardial inhibition of Mdm2 decreased CM proliferation.\t Genetic reduction of [GENE] levels increased CM proliferation either during heart regeneration or upon direct mitogen stimulation whereas myocardial [EXPE] of Mdm2 decreased CM proliferation2020\tPMC7494019\tmdm2\tinhibition\tGenetic reduction of Tp53 levels increased CM proliferation, either during heart regeneration or upon direct mitogen stimulation, whereas myocardial inhibition of Mdm2 decreased CM proliferation.\t Genetic reduction of Tp53 levels increased CM proliferation either during heart regeneration or upon direct mitogen stimulation whereas myocardial [EXPE] of [GENE] decreased CM proliferation2020\tPMC7494019\ttp53\tsuppress\tOur experiments indicate that zebrafish heart regeneration is enabled by a mechanism in which injury-induced mitogens suppress Tp53.\t Our experiments indicate that zebrafish heart regeneration is enabled by a mechanism in which injury-induced mitogens [EXPE] [GENE]2020\tPMC7494019\ttp53\ttranscriptome\tStatistical tests reflected sample variability, but trends were consistent with the analyses of our transcriptome data and with a recent proteomics study assessing Tp53 levels by mass spectrometry after resection of the zebrafish ventricle ( Ma et al., 2018 ).\t Statistical tests reflected sample variability but trends were consistent with the analyses of our [EXPE] data and with a recent proteomics study assessing [GENE] levels by mass spectrometry after resection of the zebrafish ventricle ( Ma et al 2018 )2020\tPMC7494019\tdpi\ttranscriptome\tBased on our previously published transcriptome datasets,  mdm2  transcripts are increased at 7 and 14 dpi at 1.7- and 2.6-fold those of uninjured levels, respectively ( Figure S2B ;  Goldman et al., 2017 ;  Kang et al., 2016 ).\t Based on our previously published [EXPE] datasets  mdm2  transcripts are increased at 7 and 14 [GENE] at 17- and 26-fold those of uninjured levels respectively ( Figure S2B ;  Goldman et al 2017 ;  Kang et al 2016 )2020\tPMC7494019\ttp53\ttranscriptome\tTranscriptome sequencing of uninjured and regenerating  tp53 M214K  hearts revealed significant expression changes from wild types in a relatively small number of genes, 42 and 82, respectively, which represent a variety of cellular processes as characterized by gene ontology terms and IPA ( Figure S2 ;  Tables S3  and  S4 ).\t [EXPE] sequencing of uninjured and regenerating  [GENE] M214K  hearts revealed significant expression changes from wild types in a relatively small number of genes 42 and 82 respectively which represent a variety of cellular processes as characterized by gene ontology terms and IPA ( Figure S2 ;  Tables S3  and  S4 )2020\tPMC7494019\tnrg1\toverexpression\tTo determine effects of Nrg1 overexpression on expression of  mdm2 , we first performed ISH on  cmlc2 : CreER ;  β-act2 : BSNrg1  fish 14 days after induction of the  nrg1  transgene.\t To determine effects of [GENE] [EXPE] on expression of  mdm2  we first performed ISH on  cmlc2 : CreER ;  β-act2 : BSNrg1  fish 14 days after induction of the  nrg1  transgene2020\tPMC7494019\tmdm2\tfish\tTo determine effects of Nrg1 overexpression on expression of  mdm2 , we first performed ISH on  cmlc2 : CreER ;  β-act2 : BSNrg1  fish 14 days after induction of the  nrg1  transgene.\t To determine effects of Nrg1 overexpression on expression of  [GENE]  we first performed ISH on  cmlc2 : CreER ;  β-act2 : BSNrg1  [EXPE] 14 days after induction of the  nrg1  transgene2020\tPMC7494019\tmdm2\ttransgene\tTo determine effects of Nrg1 overexpression on expression of  mdm2 , we first performed ISH on  cmlc2 : CreER ;  β-act2 : BSNrg1  fish 14 days after induction of the  nrg1  transgene.\t To determine effects of Nrg1 overexpression on expression of  [GENE]  we first performed ISH on  cmlc2 : CreER ;  β-act2 : BSNrg1  fish 14 days after induction of the  nrg1  [EXPE]2020\tPMC7494019\tnrg1\toverexpression\tTo determine effects of Nrg1 overexpression on expression of  mdm2 , we first performed ISH on  cmlc2 : CreER ;  β-act2 : BSNrg1  fish 14 days after induction of the  nrg1  transgene.\t To determine effects of Nrg1 [EXPE] on expression of  mdm2  we first performed ISH on  cmlc2 : CreER ;  β-act2 : BSNrg1  fish 14 days after induction of the  [GENE]  transgene2020\tPMC7494019\tnrg1\ttransgene\tTo determine effects of Nrg1 overexpression on expression of  mdm2 , we first performed ISH on  cmlc2 : CreER ;  β-act2 : BSNrg1  fish 14 days after induction of the  nrg1  transgene.\t To determine effects of Nrg1 overexpression on expression of  mdm2  we first performed ISH on  cmlc2 : CreER ;  β-act2 : BSNrg1  fish 14 days after induction of the  [GENE]  [EXPE]2020\tPMC7494019\tmdm2\toverexpression\tWhereas  mdm2  was undetectable in control hearts as described above,  nrg1  overexpression for 14 days led to strong and consistent  mdm2  expression in CMs within the cortical wall by ISH ( Figure S4A ).\t Whereas  [GENE]  was undetectable in control hearts as described above  nrg1  [EXPE] for 14 days led to strong and consistent  mdm2  expression in CMs within the cortical wall by ISH ( Figure S4A )2020\tPMC7494019\tnrg1\toverexpression\tWhereas  mdm2  was undetectable in control hearts as described above,  nrg1  overexpression for 14 days led to strong and consistent  mdm2  expression in CMs within the cortical wall by ISH ( Figure S4A ).\t Whereas  mdm2  was undetectable in control hearts as described above  [GENE]  [EXPE] for 14 days led to strong and consistent  mdm2  expression in CMs within the cortical wall by ISH ( Figure S4A )2020\tPMC7494019\tvegfa\toverexpression\tTo examine effects of a second CM mitogen, we experimentally induced myocardial Vegfa overexpression, which hypervascularizes the adult zebrafish heart in the absence of injury but also has mitogenic effects on CMs ( Karra et al., 2018 ).\t To examine effects of a second CM mitogen we experimentally induced myocardial [GENE] [EXPE] which hypervascularizes the adult zebrafish heart in the absence of injury but also has mitogenic effects on CMs ( Karra et al 2018 )2020\tPMC7494019\tcms\toverexpression\tVisualization of EGFP in  cmlc2 : CreER ,  β-act2 : BSVegfa , and  mdm2 : EGFP  hearts revealed analogous findings as with  nrg1  overexpression, with  mdm2 :EGFP fluorescence activated in areas of proliferating CMs ( Figure 3B ).\t Visualization of EGFP in  cmlc2 : CreER   β-act2 : BSVegfa  and  mdm2 : EGFP  hearts revealed analogous findings as with  nrg1  [EXPE] with  mdm2 :EGFP fluorescence activated in areas of proliferating [GENE] ( Figure 3B )2020\tPMC7494019\tnrg1\tfish\tIn addition,  mdm2 - and  gata4 -directed fluorescence were tightly co-localized in adult  cmlc2:CreER ;  β-act2:BSNrg1 ;  mdm2:EGFP ;  gata4:dsRed  fish after 14 days of  nrg1  overexpression ( Figure 4D ).\t In addition  mdm2 - and  gata4 -directed fluorescence were tightly co-localized in adult  cmlc2:CreER ;  β-act2:BSNrg1 ;  mdm2:EGFP ;  gata4:dsRed  [EXPE] after 14 days of  [GENE]  overexpression ( Figure 4D )2020\tPMC7494212\tafp\tinfection\tNotably, AFP levels can be increased in patients with active hepatitis, and thus, AFP is less accurate in patients with active HCV infection, whereas AFP has higher sensitivity in other subgroups (e.g., patients with cirrhosis and HIV infection [ 24 , 25 ] .\t Notably [GENE] levels can be increased in patients with active hepatitis and thus AFP is less accurate in patients with active HCV infection whereas AFP has higher sensitivity in other subgroups (eg patients with cirrhosis and HIV [EXPE] [ 24  25 ]2020\tPMC7494212\tafp\tinfection\tNotably, AFP levels can be increased in patients with active hepatitis, and thus, AFP is less accurate in patients with active HCV infection, whereas AFP has higher sensitivity in other subgroups (e.g., patients with cirrhosis and HIV infection [ 24 , 25 ] .\t Notably AFP levels can be increased in patients with active hepatitis and thus [GENE] is less accurate in patients with active HCV [EXPE] whereas AFP has higher sensitivity in other subgroups (eg patients with cirrhosis and HIV infection [ 24  25 ]2020\tPMC7494212\tafp\tinfection\tNotably, AFP levels can be increased in patients with active hepatitis, and thus, AFP is less accurate in patients with active HCV infection, whereas AFP has higher sensitivity in other subgroups (e.g., patients with cirrhosis and HIV infection [ 24 , 25 ] .\t Notably AFP levels can be increased in patients with active hepatitis and thus AFP is less accurate in patients with active HCV [EXPE] whereas [GENE] has higher sensitivity in other subgroups (eg patients with cirrhosis and HIV infection [ 24  25 ]2020\tPMC7494212\tafp\tinfection\tNotably, AFP levels can be increased in patients with active hepatitis, and thus, AFP is less accurate in patients with active HCV infection, whereas AFP has higher sensitivity in other subgroups (e.g., patients with cirrhosis and HIV infection [ 24 , 25 ] .\t Notably AFP levels can be increased in patients with active hepatitis and thus AFP is less accurate in patients with active HCV infection whereas [GENE] has higher sensitivity in other subgroups (eg patients with cirrhosis and HIV [EXPE] [ 24  25 ]2020\tPMC7494215\ttap\tscreening\tThe MAP study will examine constructs that tap into both categories and, thereby, be positioned to develop an effective general population screening tool (Aim 2).\t The MAP study will examine constructs that [GENE] into both categories and thereby be positioned to develop an effective general population [EXPE] tool (Aim 2)2020\tPMC7494215\taps\tscreening\tWith the addition of Attenuated Psychosis Syndrome (APS) as a condition for further study in the DSM-5, along with Other Specified Schizophrenia Spectrum and Other Psychotic Disorder which includes APS, valid screening of suspected APS may become important for practitioners with little background in psychosis-risk who may be increasingly assessing for APS.\t With the addition of Attenuated Psychosis Syndrome (APS) as a condition for further study in the DSM-5 along with Other Specified Schizophrenia Spectrum and Other Psychotic Disorder which includes [GENE] valid [EXPE] of suspected APS may become important for practitioners with little background in psychosis-risk who may be increasingly assessing for APS2020\tPMC7494215\taps\tscreening\tThis is the time for such a screening tool to be developed, when APS is still a condition for further study, as it is essential to prepare for wide-spread use of the diagnosis.\t This is the time for such a [EXPE] tool to be developed when [GENE] is still a condition for further study as it is essential to prepare for wide-spread use of the diagnosis"
     ]
    }
   ],
   "source": [
    "!tail AfterBiobert_0525_2.csv"
   ]
  },
  {
   "cell_type": "code",
   "execution_count": null,
   "metadata": {
    "colab": {
     "base_uri": "https://localhost:8080/"
    },
    "executionInfo": {
     "elapsed": 10427,
     "status": "ok",
     "timestamp": 1623070839917,
     "user": {
      "displayName": "伊藤慶",
      "photoUrl": "",
      "userId": "07271948982802047026"
     },
     "user_tz": -540
    },
    "id": "ndKzh33PyYU1",
    "outputId": "d45908e7-27d2-472c-da4b-2fa0a17b0ad5"
   },
   "outputs": [
    {
     "name": "stdout",
     "output_type": "stream",
     "text": [
      "2020\tPMC7493339\tsmurf1\trescued\tDownregulation of SMURF1 rescued the increase in the ubiquitination level of PTEN induced by IMP3 overexpression in DU145 and LNCap cells (Fig.  6 a), suggesting that IMP3 negatively modulated PTEN expression via promoting SMURF1-mediated PTEN ubiquitination.\t Downregulation of [GENE] [EXPE] the increase in the ubiquitination level of PTEN induced by IMP3 overexpression in DU145 and LNCap cells (Fig  6 a) suggesting that IMP3 negatively modulated PTEN expression via promoting SMURF1-mediated PTEN ubiquitination2020\tPMC7493339\tpten\trescued\tDownregulation of SMURF1 rescued the increase in the ubiquitination level of PTEN induced by IMP3 overexpression in DU145 and LNCap cells (Fig.  6 a), suggesting that IMP3 negatively modulated PTEN expression via promoting SMURF1-mediated PTEN ubiquitination.\t Downregulation of SMURF1 [EXPE] the increase in the ubiquitination level of PTEN induced by IMP3 overexpression in DU145 and LNCap cells (Fig  6 a) suggesting that IMP3 negatively modulated [GENE] expression via promoting SMURF1-mediated PTEN ubiquitination2020\tPMC7493339\tpten\toverexpression\tDownregulation of SMURF1 rescued the increase in the ubiquitination level of PTEN induced by IMP3 overexpression in DU145 and LNCap cells (Fig.  6 a), suggesting that IMP3 negatively modulated PTEN expression via promoting SMURF1-mediated PTEN ubiquitination.\t Downregulation of SMURF1 rescued the increase in the ubiquitination level of PTEN induced by IMP3 [EXPE] in DU145 and LNCap cells (Fig  6 a) suggesting that IMP3 negatively modulated PTEN expression via promoting SMURF1-mediated [GENE] ubiquitination2020\tPMC7493339\timp3\tassays\tThese results suggested that IMP3 served as an oncogene in prostate cancer, which was further confirmed by the loss-of-function assays induced by shRNA infection.\t These results suggested that [GENE] served as an oncogene in prostate cancer which was further confirmed by the loss-of-function [EXPE] induced by shRNA infection2020\tPMC7493339\timp3\toverexpression\tThe results showed that IMP3 overexpression decreased PTEN expression in DU145 and LNCap cells, while showed no affect in PTEN level in PC3 cells.\t The results showed that [GENE] [EXPE] decreased PTEN expression in DU145 and LNCap cells while showed no affect in PTEN level in PC3 cells2020\tPMC7493339\tuvrag\tinhibition\tFeng et al. [ 37 ] demonstrated that SMURF1 promoted the ubiquitination of UVRAG, an important regulator of mammalian macroautophagy/autophagy, resulting in autophagosome maturation and inhibition in cell growth in hepatocellular carcinoma.\t Feng et al [ 37 ] demonstrated that SMURF1 promoted the ubiquitination of [GENE] an important regulator of mammalian macroautophagy/autophagy resulting in autophagosome maturation and [EXPE] in cell growth in hepatocellular carcinoma2020\tPMC7493339\tsmurf1\tknockdown\tWe also found that knockdown of SMURF1 decreased the ubiquitylation level of PTEN induced by IMP3 upregulation, suggesting that IMP3 facilitated the ubiquitylation level of PTEN in a SMURF1-depedent manner in DU145 and LNCap cells.\t We also found that [EXPE] of [GENE] decreased the ubiquitylation level of PTEN induced by IMP3 upregulation suggesting that IMP3 facilitated the ubiquitylation level of PTEN in a SMURF1-depedent manner in DU145 and LNCap cells2020\tPMC7493339\tpten\tknockdown\tWe also found that knockdown of SMURF1 decreased the ubiquitylation level of PTEN induced by IMP3 upregulation, suggesting that IMP3 facilitated the ubiquitylation level of PTEN in a SMURF1-depedent manner in DU145 and LNCap cells.\t We also found that [EXPE] of SMURF1 decreased the ubiquitylation level of [GENE] induced by IMP3 upregulation suggesting that IMP3 facilitated the ubiquitylation level of PTEN in a SMURF1-depedent manner in DU145 and LNCap cells2020\tPMC7493339\tsmurf1\tinhibited\tIn addition, we found that cell proliferation was significantly enhanced and apoptosis was inhibited when SMURF1 was upregulated in prostate cancer DU145 and LNCap cells, whereas knockdown of SMURF1 inhibited cell proliferation and induced cell apoptosis.\t In addition we found that cell proliferation was significantly enhanced and apoptosis was [EXPE] when [GENE] was upregulated in prostate cancer DU145 and LNCap cells whereas knockdown of SMURF1 inhibited cell proliferation and induced cell apoptosis2020\tPMC7493341\tmbp\tblock\tA 36 Mbp linkage disequilibrium (LD) block included the single nucleotide polymorphism (SNP) markers RAC875_c38018_278, which was associated with shoot fresh weight after salt stress in the association panel.\t A 36 [GENE] linkage disequilibrium (LD) [EXPE] included the single nucleotide polymorphism (SNP) markers RAC875_c38018_278 which was associated with shoot fresh weight after salt stress in the association panel2020\tPMC7493341\tzip7\trt-qpcr\tRT-qPCR confirmed TraesCS5D02G238700 up-regulation at the osmotic phase, while the up-regulation of  TraesCS1B02G144500  ( ZIP7 ) at the ionic phase was corroborated in the study by Oyiga et al. [ 28 ].\t [EXPE] confirmed TraesCS5D02G238700 up-regulation at the osmotic phase while the up-regulation of  TraesCS1B02G144500  ( [GENE] ) at the ionic phase was corroborated in the study by Oyiga et al [ 28 ]2020\tPMC7493343\tcod\tfish\tCod is one of the most commonly consumed fish species in Europe and Japan [ 3 ], and is also the most well-characterized fish species with allergen components [ 8 ].\t [GENE] is one of the most commonly consumed [EXPE] species in Europe and Japan [ 3 ] and is also the most well-characterized fish species with allergen components [ 8 ]2020\tPMC7493343\tcod\telisa\tSpecific IgE reactivity to crude cod extracts was examined in the atopic dogs using ELISA.\t Specific IgE reactivity to crude [GENE] extracts was examined in the atopic dogs using [EXPE]2020\tPMC7493343\tcod\tpurified\tIgE reactivity to the purified cod allergens parvalbumin and collagen was tested in the sera of the 36 dogs with IgE reactivity to crude cod extracts using ELISA.\t IgE reactivity to the [EXPE] cod allergens parvalbumin and collagen was tested in the sera of the 36 dogs with IgE reactivity to crude [GENE] extracts using ELISA2020\tPMC7493343\tcod\telisa\tUsing the sera of 36 atopic dogs with IgE reactivity to cod extract, we determined the IgE reactivity to cod tropomyosin with ELISA (Fig.  4 ), and observed that 50% (18/36) of the dogs exhibited IgE reactivity to tropomyosin.\t Using the sera of 36 atopic dogs with IgE reactivity to [GENE] extract we determined the IgE reactivity to cod tropomyosin with [EXPE] (Fig  4 ) and observed that 50% (18/36) of the dogs exhibited IgE reactivity to tropomyosin2020\tPMC7493343\tcod\telisa\tUsing the sera of 36 atopic dogs with IgE reactivity to cod extract, we determined the IgE reactivity to cod tropomyosin with ELISA (Fig.  4 ), and observed that 50% (18/36) of the dogs exhibited IgE reactivity to tropomyosin.\t Using the sera of 36 atopic dogs with IgE reactivity to cod extract we determined the IgE reactivity to [GENE] tropomyosin with [EXPE] (Fig  4 ) and observed that 50% (18/36) of the dogs exhibited IgE reactivity to tropomyosin2020\tPMC7493343\tparvalbumin\tfish\tAdditionally, humans exhibit broad cross-reactivity to parvalbumin and collagen from distinct fish species [ 3 ,  24 ] and the same might occur in dogs with fish allergy as well.\t Additionally humans exhibit broad cross-reactivity to [GENE] and collagen from distinct [EXPE] species [ 3   24 ] and the same might occur in dogs with fish allergy as well2020\tPMC7493343\tcod\tfish\tMoreover, in the present study, 25% (9/36) of the dogs with specific IgE to crude cod extracts did not exhibit IgE reactivity to any of the three major purified allergens in ELISA, which implies that other cod allergens be responsible for inducing fish allergy in dogs.\t Moreover in the present study 25% (9/36) of the dogs with specific IgE to crude [GENE] extracts did not exhibit IgE reactivity to any of the three major purified allergens in ELISA which implies that other cod allergens be responsible for inducing [EXPE] allergy in dogs2020\tPMC7493343\tbca\tassay\tAfter centrifugation at 21500 x  g  for 5 min at 4 °C, the supernatant was collected, and the protein was quantified using the BCA protein assay (Bio-Rad, Hercules, CA, USA).\t After centrifugation at 21500 x  g  for 5 min at 4 °C the supernatant was collected and the protein was quantified using the [GENE] protein [EXPE] (Bio-Rad Hercules CA USA)2020\tPMC7493343\tparvalbumin\tpurified\tFish parvalbumin [ 4 ] and collagen [ 23 ] were purified as described previously.\t Fish [GENE] [ 4 ] and collagen [ 23 ] were [EXPE] as described previously2020\tPMC7493343\tcod\tpolyacrylamide\tThe crude cod extracts were separated electrophoretically using 5–20% gradient polyacrylamide gels, and the proteins were visualized either by Coomassie brilliant blue R250 (Bio-Rad) staining or by transferring onto polyvinylidene difluoride membranes (GE Healthcare, Chicago, IL, USA).\t The crude [GENE] extracts were separated electrophoretically using 5–20% gradient [EXPE] gels and the proteins were visualized either by Coomassie brilliant blue R250 (Bio-Rad) staining or by transferring onto polyvinylidene difluoride membranes (GE Healthcare Chicago IL USA)2020\tPMC7493343\tcod\tvisualized\tThe crude cod extracts were separated electrophoretically using 5–20% gradient polyacrylamide gels, and the proteins were visualized either by Coomassie brilliant blue R250 (Bio-Rad) staining or by transferring onto polyvinylidene difluoride membranes (GE Healthcare, Chicago, IL, USA).\t The crude [GENE] extracts were separated electrophoretically using 5–20% gradient polyacrylamide gels and the proteins were [EXPE] either by Coomassie brilliant blue R250 (Bio-Rad) staining or by transferring onto polyvinylidene difluoride membranes (GE Healthcare Chicago IL USA)2020\tPMC7493343\tcod\tcoomassie\tThe crude cod extracts were separated electrophoretically using 5–20% gradient polyacrylamide gels, and the proteins were visualized either by Coomassie brilliant blue R250 (Bio-Rad) staining or by transferring onto polyvinylidene difluoride membranes (GE Healthcare, Chicago, IL, USA).\t The crude [GENE] extracts were separated electrophoretically using 5–20% gradient polyacrylamide gels and the proteins were visualized either by [EXPE] brilliant blue R250 (Bio-Rad) staining or by transferring onto polyvinylidene difluoride membranes (GE Healthcare Chicago IL USA)2020\tPMC7493343\tcod\tstaining\tThe crude cod extracts were separated electrophoretically using 5–20% gradient polyacrylamide gels, and the proteins were visualized either by Coomassie brilliant blue R250 (Bio-Rad) staining or by transferring onto polyvinylidene difluoride membranes (GE Healthcare, Chicago, IL, USA).\t The crude [GENE] extracts were separated electrophoretically using 5–20% gradient polyacrylamide gels and the proteins were visualized either by Coomassie brilliant blue R250 (Bio-Rad) [EXPE] or by transferring onto polyvinylidene difluoride membranes (GE Healthcare Chicago IL USA)2020\tPMC7493343\tlas\tchemiluminescence\tAn enhanced chemiluminescence immunoblotting detection reagent (GE Healthcare) and the ImageQuant LAS 4000mini (GE Healthcare) were used for detection and visualization, respectively.\t An enhanced [EXPE] immunoblotting detection reagent (GE Healthcare) and the ImageQuant [GENE] 4000mini (GE Healthcare) were used for detection and visualization respectively2020\tPMC7493343\tlas\timmunoblotting\tAn enhanced chemiluminescence immunoblotting detection reagent (GE Healthcare) and the ImageQuant LAS 4000mini (GE Healthcare) were used for detection and visualization, respectively.\t An enhanced chemiluminescence [EXPE] detection reagent (GE Healthcare) and the ImageQuant [GENE] 4000mini (GE Healthcare) were used for detection and visualization respectively2020\tPMC7493343\tcod\telisa\tThe levels of specific IgE to cod crude extracts and individual purified allergens were measured using fluorometric ELISA, as previously described [ 20 ].\t The levels of specific IgE to [GENE] crude extracts and individual purified allergens were measured using fluorometric [EXPE] as previously described [ 20 ]2020\tPMC7493343\tcod\tcoomassie\t Non-cropped, non-modified images (A) of the Coomassie blue-stained SDS-PAGE and (B) of immunoblotting for crude cod extracts.\t  Non-cropped non-modified images (A) of the [EXPE] blue-stained SDS-PAGE and (B) of immunoblotting for crude [GENE] extracts2020\tPMC7493343\tcod\tsds-page\t Non-cropped, non-modified images (A) of the Coomassie blue-stained SDS-PAGE and (B) of immunoblotting for crude cod extracts.\t  Non-cropped non-modified images (A) of the Coomassie blue-stained [EXPE] and (B) of immunoblotting for crude [GENE] extracts2020\tPMC7493345\tsnail\tinfection\tWhen evaluating infection risks the life span results indicate that cercariae survive several days after emergence from the snail.\t When evaluating [EXPE] risks the life span results indicate that cercariae survive several days after emergence from the [GENE]2020\tPMC7493367\taes\tinfection\tWe found statistically-significant RORs for eight organs/systems of AEs, including gastrointestinal, pancreatitis, malignancies, infection, musculoskeletal, general disorders, hypersensitivity, and skin AEs.\t We found statistically-significant RORs for eight organs/systems of AEs including gastrointestinal pancreatitis malignancies [EXPE] musculoskeletal general disorders hypersensitivity and skin [GENE]2020\tPMC7493367\taes\tinfection\tAmong non-insulin antidiabetics, DPP-4is are associated with higher AEs reporting of the gastrointestinal tract, pancreatitis, malignancies, infection, musculoskeletal system, general disorders, hypersensitivity and skin, corroborating clinical trial evidence.\t Among non-insulin antidiabetics DPP-4is are associated with higher [GENE] reporting of the gastrointestinal tract pancreatitis malignancies [EXPE] musculoskeletal system general disorders hypersensitivity and skin corroborating clinical trial evidence2020\tPMC7493368\tfell\tassays\tIn this investigation, all DPP assays fell short of meeting these cutoffs, particularly when used on samples with high Ct value (low viral load).\t In this investigation all DPP [EXPE] [GENE] short of meeting these cutoffs particularly when used on samples with high Ct value (low viral load)2020\tPMC7493369\tago\tdrug\tForming part of daily meals of many people through seafood, grains, vegetables and broadly utilized in the food industry, silica has been acknowledged as “safe” by the U.S. Food and Drug Administration 50 years ago [ 27 ].\t Forming part of daily meals of many people through seafood grains vegetables and broadly utilized in the food industry silica has been acknowledged as “safe” by the US Food and [EXPE] Administration 50 years [GENE] [ 27 ]2020\tPMC7493370\tmea\ttranscriptomic\tWhen using most MEA methods, regulatory regions are typically scored by their biological response in transcriptomic or epigenomic assays.\t When using most [GENE] methods regulatory regions are typically scored by their biological response in [EXPE] or epigenomic assays2020\tPMC7493370\tklf13\tsilenced\tNotably, while MEIRLOP finds enrichment for a KLF13 binding motif associated with transcriptionally silenced chromatin (enrichment coefficient = − 0.33, adjusted p-value <1e-8) (Fig.  5 b), it requires the additional DNase-seq signal covariate to do so: Running MEIRLOP with only dinucleotide-based covariates does not find a significant enrichment of this motif (enrichment coefficient − 4.8e-2, adjusted p-value = 0.18).\t Notably while MEIRLOP finds enrichment for a [GENE] binding motif associated with transcriptionally [EXPE] chromatin (enrichment coefficient = − 033 adjusted p-value <1e-8) (Fig  5 b) it requires the additional DNase-seq signal covariate to do so: Running MEIRLOP with only dinucleotide-based covariates does not find a significant enrichment of this motif (enrichment coefficient − 48e-2 adjusted p-value = 018)2020\tPMC7493373\tgem\tdatabase\tAnother recent tool based on mapping is TaxMaps [ 6 ]: it uses a database compression algorithm that eliminates redundancy by performing a lowest common ancestor (LCA) pre-assignment and collapse for k-mers of length greater than a specified read length; this allows GEM mapper [ 17 ] to conduct non-exact searches in the same manner as it would against the original database, resulting in compression that, for the purpose of taxonomic classification, is lossless.\t Another recent tool based on mapping is TaxMaps [ 6 ]: it uses a database compression algorithm that eliminates redundancy by performing a lowest common ancestor (LCA) pre-assignment and collapse for k-mers of length greater than a specified read length; this allows [GENE] mapper [ 17 ] to conduct non-exact searches in the same manner as it would against the original [EXPE] resulting in compression that for the purpose of taxonomic classification is lossless2020\tPMC7493373\tram\tdatabase\tFor instance, CLARK-S needs about 120 GB of RAM for the database used for its classification of the simulated datasets, while Centrifuge, Kraken 2 and taxMaps need about 10 GB of RAM.\t For instance CLARK-S needs about 120 GB of RAM for the [EXPE] used for its classification of the simulated datasets while Centrifuge Kraken 2 and taxMaps need about 10 GB of [GENE]2020\tPMC7493374\tapoe\tassays\t APOE  was genotyped from 45/60 (75%) of the probable fNPH patients and from 25/49 (51%) of their ≥ 60-year-old non-iNPH relatives by determining 2 single-nucleotide polymorphisms (rs429358 and rs7412) by using the polymerase chain reaction (PCR), the TaqMan genotyping assays (Applied Biosystems (ABI), Foster City, CA, USA) and an allelic discrimination method on the ABI 7000 platform [ 36 ].\t  [GENE]  was genotyped from 45/60 (75%) of the probable fNPH patients and from 25/49 (51%) of their ≥ 60-year-old non-iNPH relatives by determining 2 single-nucleotide polymorphisms (rs429358 and rs7412) by using the polymerase chain reaction (PCR) the TaqMan genotyping [EXPE] (Applied Biosystems (ABI) Foster City CA USA) and an allelic discrimination method on the ABI 7000 platform [ 36 ]2020\tPMC7493375\ttst\tem\t Abbreviations : em, embryo; ext., exotesta; pems, proembryos; po, polar nuclei; tg, tegmen; tst, testa.\t  Abbreviations : [EXPE] embryo; ext exotesta; pems proembryos; po polar nuclei; tg tegmen; [GENE] testa2020\tPMC7493381\tklf4\ttetracycline-inducible\tWe developed a tetracycline-inducible expression system to re-express KLF4 in PDX B-ALL cells in vivo .\t We developed a [EXPE] expression system to re-express [GENE] in PDX B-ALL cells in vivo2020\tPMC7493381\tklf4\tknockout\tWith the aid of a CRISPR/Cas9-mediated KLF4 knockout in PDX cells, we further demonstrated that azacitidine exerts its antitumor effect by upregulating KLF4, supporting our interpretation.\t With the aid of a CRISPR/Cas9-mediated KLF4 [EXPE] in PDX cells we further demonstrated that azacitidine exerts its antitumor effect by upregulating [GENE] supporting our interpretation2020\tPMC7493381\tklf4\tinducible\tFor inducible transgene expression, PDX B-ALL cells were consecutively lentivirally transduced with three constructs containing the tet activator, the tet repressor and KLF4 expression cassettes under the control of the TRE promoter [ 42 ].\t For [EXPE] transgene expression PDX B-ALL cells were consecutively lentivirally transduced with three constructs containing the tet activator the tet repressor and [GENE] expression cassettes under the control of the TRE promoter [ 42 ]2020\tPMC7493381\tklf4\ttransgene\tFor inducible transgene expression, PDX B-ALL cells were consecutively lentivirally transduced with three constructs containing the tet activator, the tet repressor and KLF4 expression cassettes under the control of the TRE promoter [ 42 ].\t For inducible [EXPE] expression PDX B-ALL cells were consecutively lentivirally transduced with three constructs containing the tet activator the tet repressor and [GENE] expression cassettes under the control of the TRE promoter [ 42 ]2020\tPMC7493381\tklf4\ttransduced\tFor inducible transgene expression, PDX B-ALL cells were consecutively lentivirally transduced with three constructs containing the tet activator, the tet repressor and KLF4 expression cassettes under the control of the TRE promoter [ 42 ].\t For inducible transgene expression PDX B-ALL cells were consecutively lentivirally [EXPE] with three constructs containing the tet activator the tet repressor and [GENE] expression cassettes under the control of the TRE promoter [ 42 ]2020\tPMC7493381\tbca\tassay\tProtein concentration was measured by BCA assay (#7780, New England Biolabs, Beverly, USA) and abundance of specific proteins determined by two different methods.\t Protein concentration was measured by [GENE] [EXPE] (#7780 New England Biolabs Beverly USA) and abundance of specific proteins determined by two different methods2020\tPMC7493381\tklf4\ttranscriptome\tDetails are provided in the supplement regarding transcriptome analysis (Table S 2 ), the constructs used for the inducible expression of KLF4 and CRISPR/Cas9-mediated knockout of KLF4 (Table S 3 ), cell isolation and culture conditions, EBV infection, in vitro culture, in vivo growth of PDX-ALL, monitoring of tumor burden and drug treatments, PDX cell homing assay, in vitro culture and drug treatment of cells, cell cycle analysis, RT-PCR (Table S 4 ) and statistical analysis.\t Details are provided in the supplement regarding [EXPE] analysis (Table S 2 ) the constructs used for the inducible expression of [GENE] and CRISPR/Cas9-mediated knockout of KLF4 (Table S 3 ) cell isolation and culture conditions EBV infection in vitro culture in vivo growth of PDX-ALL monitoring of tumor burden and drug treatments PDX cell homing assay in vitro culture and drug treatment of cells cell cycle analysis RT-PCR (Table S 4 ) and statistical analysis2020\tPMC7493381\tklf4\tinducible\tDetails are provided in the supplement regarding transcriptome analysis (Table S 2 ), the constructs used for the inducible expression of KLF4 and CRISPR/Cas9-mediated knockout of KLF4 (Table S 3 ), cell isolation and culture conditions, EBV infection, in vitro culture, in vivo growth of PDX-ALL, monitoring of tumor burden and drug treatments, PDX cell homing assay, in vitro culture and drug treatment of cells, cell cycle analysis, RT-PCR (Table S 4 ) and statistical analysis.\t Details are provided in the supplement regarding transcriptome analysis (Table S 2 ) the constructs used for the [EXPE] expression of [GENE] and CRISPR/Cas9-mediated knockout of KLF4 (Table S 3 ) cell isolation and culture conditions EBV infection in vitro culture in vivo growth of PDX-ALL monitoring of tumor burden and drug treatments PDX cell homing assay in vitro culture and drug treatment of cells cell cycle analysis RT-PCR (Table S 4 ) and statistical analysis2020\tPMC7493381\tklf4\tknockout\tDetails are provided in the supplement regarding transcriptome analysis (Table S 2 ), the constructs used for the inducible expression of KLF4 and CRISPR/Cas9-mediated knockout of KLF4 (Table S 3 ), cell isolation and culture conditions, EBV infection, in vitro culture, in vivo growth of PDX-ALL, monitoring of tumor burden and drug treatments, PDX cell homing assay, in vitro culture and drug treatment of cells, cell cycle analysis, RT-PCR (Table S 4 ) and statistical analysis.\t Details are provided in the supplement regarding transcriptome analysis (Table S 2 ) the constructs used for the inducible expression of [GENE] and CRISPR/Cas9-mediated [EXPE] of KLF4 (Table S 3 ) cell isolation and culture conditions EBV infection in vitro culture in vivo growth of PDX-ALL monitoring of tumor burden and drug treatments PDX cell homing assay in vitro culture and drug treatment of cells cell cycle analysis RT-PCR (Table S 4 ) and statistical analysis2020\tPMC7493381\tklf4\trt-pcr\tDetails are provided in the supplement regarding transcriptome analysis (Table S 2 ), the constructs used for the inducible expression of KLF4 and CRISPR/Cas9-mediated knockout of KLF4 (Table S 3 ), cell isolation and culture conditions, EBV infection, in vitro culture, in vivo growth of PDX-ALL, monitoring of tumor burden and drug treatments, PDX cell homing assay, in vitro culture and drug treatment of cells, cell cycle analysis, RT-PCR (Table S 4 ) and statistical analysis.\t Details are provided in the supplement regarding transcriptome analysis (Table S 2 ) the constructs used for the inducible expression of [GENE] and CRISPR/Cas9-mediated knockout of KLF4 (Table S 3 ) cell isolation and culture conditions EBV infection in vitro culture in vivo growth of PDX-ALL monitoring of tumor burden and drug treatments PDX cell homing assay in vitro culture and drug treatment of cells cell cycle analysis [EXPE] (Table S 4 ) and statistical analysis2020\tPMC7493381\tklf4\tinducible\tDetails are provided in the supplement regarding transcriptome analysis (Table S 2 ), the constructs used for the inducible expression of KLF4 and CRISPR/Cas9-mediated knockout of KLF4 (Table S 3 ), cell isolation and culture conditions, EBV infection, in vitro culture, in vivo growth of PDX-ALL, monitoring of tumor burden and drug treatments, PDX cell homing assay, in vitro culture and drug treatment of cells, cell cycle analysis, RT-PCR (Table S 4 ) and statistical analysis.\t Details are provided in the supplement regarding transcriptome analysis (Table S 2 ) the constructs used for the [EXPE] expression of KLF4 and CRISPR/Cas9-mediated knockout of [GENE] (Table S 3 ) cell isolation and culture conditions EBV infection in vitro culture in vivo growth of PDX-ALL monitoring of tumor burden and drug treatments PDX cell homing assay in vitro culture and drug treatment of cells cell cycle analysis RT-PCR (Table S 4 ) and statistical analysis2020\tPMC7493381\tklf4\tknockout\tDetails are provided in the supplement regarding transcriptome analysis (Table S 2 ), the constructs used for the inducible expression of KLF4 and CRISPR/Cas9-mediated knockout of KLF4 (Table S 3 ), cell isolation and culture conditions, EBV infection, in vitro culture, in vivo growth of PDX-ALL, monitoring of tumor burden and drug treatments, PDX cell homing assay, in vitro culture and drug treatment of cells, cell cycle analysis, RT-PCR (Table S 4 ) and statistical analysis.\t Details are provided in the supplement regarding transcriptome analysis (Table S 2 ) the constructs used for the inducible expression of KLF4 and CRISPR/Cas9-mediated [EXPE] of [GENE] (Table S 3 ) cell isolation and culture conditions EBV infection in vitro culture in vivo growth of PDX-ALL monitoring of tumor burden and drug treatments PDX cell homing assay in vitro culture and drug treatment of cells cell cycle analysis RT-PCR (Table S 4 ) and statistical analysis2020\tPMC7493381\tklf4\tdrug\tDetails are provided in the supplement regarding transcriptome analysis (Table S 2 ), the constructs used for the inducible expression of KLF4 and CRISPR/Cas9-mediated knockout of KLF4 (Table S 3 ), cell isolation and culture conditions, EBV infection, in vitro culture, in vivo growth of PDX-ALL, monitoring of tumor burden and drug treatments, PDX cell homing assay, in vitro culture and drug treatment of cells, cell cycle analysis, RT-PCR (Table S 4 ) and statistical analysis.\t Details are provided in the supplement regarding transcriptome analysis (Table S 2 ) the constructs used for the inducible expression of KLF4 and CRISPR/Cas9-mediated knockout of [GENE] (Table S 3 ) cell isolation and culture conditions EBV infection in vitro culture in vivo growth of PDX-ALL monitoring of tumor burden and [EXPE] treatments PDX cell homing assay in vitro culture and drug treatment of cells cell cycle analysis RT-PCR (Table S 4 ) and statistical analysis2020\tPMC7493381\tklf4\trecombinant\tTwo different variants of KLF4, wildtype KLF4 (wtKLF4) and a variant form of KLF4 (mutKLF4) were cloned into recombinant viruses (Supplementary Figure S 2 B and C).\t Two different variants of KLF4 wildtype KLF4 (wtKLF4) and a variant form of [GENE] (mutKLF4) were cloned into [EXPE] viruses (Supplementary Figure S 2 B and C)2020\tPMC7493381\tklf4\tinhibitor\tThus, KLF4 acts as a cell cycle inhibitor in the model of in vitro EBV-induced oncogenesis and conversion of normal B-cells into B-blasts.\t Thus [GENE] acts as a cell cycle [EXPE] in the model of in vitro EBV-induced oncogenesis and conversion of normal B-cells into B-blasts2020\tPMC7493381\tklf4\tdrug\tAs we discovered that downregulating KLF4 plays an essential role in the growth of 2 established PDX models of B-ALL in vivo and that the widely used drug Aza upregulates KLF4, our data support the further evaluation of Aza as a therapeutic strategy and the idea of applying Aza to the treatment of patients with B-ALL.\t As we discovered that downregulating [GENE] plays an essential role in the growth of 2 established PDX models of B-ALL in vivo and that the widely used [EXPE] Aza upregulates KLF4 our data support the further evaluation of Aza as a therapeutic strategy and the idea of applying Aza to the treatment of patients with B-ALL2020\tPMC7493381\tklf4\tdrug\tAs we discovered that downregulating KLF4 plays an essential role in the growth of 2 established PDX models of B-ALL in vivo and that the widely used drug Aza upregulates KLF4, our data support the further evaluation of Aza as a therapeutic strategy and the idea of applying Aza to the treatment of patients with B-ALL.\t As we discovered that downregulating KLF4 plays an essential role in the growth of 2 established PDX models of B-ALL in vivo and that the widely used [EXPE] Aza upregulates [GENE] our data support the further evaluation of Aza as a therapeutic strategy and the idea of applying Aza to the treatment of patients with B-ALL2020\tPMC7493382\thint\tpatient\tThis CDSS aims to identify similar patients to an undiagnosed patient in the DIC, which could give a physician an hint for diagnosis [ 8 ].\t This CDSS aims to identify similar patients to an undiagnosed [EXPE] in the DIC which could give a physician an [GENE] for diagnosis [ 8 ]2020\tPMC7493387\tchia\trecombinant\tHowever, the yield is still far from the requirement of industrial application, multiple strategies are still needed to increase the expression of recombinant ChiA in yeast.\t However the yield is still far from the requirement of industrial application multiple strategies are still needed to increase the expression of [EXPE] [GENE] in yeast2020\tPMC7493387\thac1\trecombinant\tHAC1 can trigger the unfolded protein response (UPR) and increase the secretion of recombinant proteins which were demonstrated in many studies.\t [GENE] can trigger the unfolded protein response (UPR) and increase the secretion of [EXPE] proteins which were demonstrated in many studies2020\tPMC7493387\terv29\trecombinant\tERV29, SEC16 and COG5 are involved in the secretory and trafficking pathway, which have been identified to improve the secretion of recombinant proteins in  S. cerevisiae  [ 19 ,  20 ].\t [GENE] SEC16 and COG5 are involved in the secretory and trafficking pathway which have been identified to improve the secretion of [EXPE] proteins in  S cerevisiae  [ 19   20 ]2020\tPMC7493387\tchia\trecombinant\tThe recombinant plasmid included single copy of  ChiA  was confirmed by sequencing and named as pHBM905M- ChiA -1C (Additional file  1 : Fig.S2A).\t The [EXPE] plasmid included single copy of  [GENE]  was confirmed by sequencing and named as pHBM905M- ChiA -1C (Additional file  1 : FigS2A)2020\tPMC7493387\tchia\trecombinant\tThe recombinant plasmid included single copy of  ChiA  was confirmed by sequencing and named as pHBM905M- ChiA -1C (Additional file  1 : Fig.S2A).\t The [EXPE] plasmid included single copy of  ChiA  was confirmed by sequencing and named as pHBM905M- [GENE] -1C (Additional file  1 : FigS2A)2020\tPMC7493387\tchia\tchromatography\tThe reaction mixtures, including 200 µL ChiA (18 U/mL) mixed with 500 µL 10%, 15%, 25%, 30%, 35% and 40% colloidal chitin respectively were incubated at 50 °C for 12 h. The reaction products were determined by high performance liquid chromatography (HPLC), using Nexera UHPLC/HPLC System with a Zorbax Carbohydrate Analysis Column (4.6 × 250 mm, 5 µm) (Agilent, America).\t The reaction mixtures including 200 µL [GENE] (18 U/mL) mixed with 500 µL 10% 15% 25% 30% 35% and 40% colloidal chitin respectively were incubated at 50 °C for 12 h The reaction products were determined by high performance liquid [EXPE] (HPLC) using Nexera UHPLC/HPLC System with a Zorbax Carbohydrate Analysis Column (46 × 250 mm 5 µm) (Agilent America)2020\tPMC7493387\tchia\tbioinformatics\tThe molecular weight of ChiA is 76.20 kDa predicted by the ExPASy Bioinformatics Resource program, and the ChiA has 7 potential N-glycosylation sites.\t The molecular weight of [GENE] is 7620 kDa predicted by the ExPASy [EXPE] Resource program and the ChiA has 7 potential N-glycosylation sites2020\tPMC7493387\tchia\tbioinformatics\tThe molecular weight of ChiA is 76.20 kDa predicted by the ExPASy Bioinformatics Resource program, and the ChiA has 7 potential N-glycosylation sites.\t The molecular weight of ChiA is 7620 kDa predicted by the ExPASy [EXPE] Resource program and the [GENE] has 7 potential N-glycosylation sites2020\tPMC7493387\tchia\tsds-page\tHere, the recombinant ChiA migrated as an about 100 kDa band through SDS-PAGE analysis (Fig.  1 a), same as the previous report [ 10 ].\t Here the recombinant [GENE] migrated as an about 100 kDa band through [EXPE] analysis (Fig  1 a) same as the previous report [ 10 ]2020\tPMC7493387\tchia\trecombinant\tMenghiu et al. determined the hydrolysis products of recombinant ChiA from  P. pastoris  by TLC using 2% colloidal chitin as substrate, which showed the reaction products were mainly  N ,  N ′-diacetylchitobiose, followed by GlcNAc, and considered that ChiA is an endochitinase [ 10 ].\t Menghiu et al determined the hydrolysis products of [EXPE] [GENE] from  P pastoris  by TLC using 2% colloidal chitin as substrate which showed the reaction products were mainly  N   N ′-diacetylchitobiose followed by GlcNAc and considered that ChiA is an endochitinase [ 10 ]2020\tPMC7493387\ttlc\trecombinant\tMenghiu et al. determined the hydrolysis products of recombinant ChiA from  P. pastoris  by TLC using 2% colloidal chitin as substrate, which showed the reaction products were mainly  N ,  N ′-diacetylchitobiose, followed by GlcNAc, and considered that ChiA is an endochitinase [ 10 ].\t Menghiu et al determined the hydrolysis products of [EXPE] ChiA from  P pastoris  by [GENE] using 2% colloidal chitin as substrate which showed the reaction products were mainly  N   N ′-diacetylchitobiose followed by GlcNAc and considered that ChiA is an endochitinase [ 10 ]2020\tPMC7493387\tchia\tco-expressed\tHere five molecular chaperones  HAC1 ,  EVR29 ,  SEC16 ,  COG5  and  TRM1  have been co-expressed separately with 4 copies of  ChiA  in  P. pastoris .\t Here five molecular chaperones  HAC1   EVR29   SEC16   COG5  and  TRM1  have been [EXPE] separately with 4 copies of  [GENE]  in  P pastoris2020\tPMC7493387\terv29\toverexpressed\tHuang et al. reported that overexpressed  ERV29  or  COG5  individually could improved the secretion level of amylase in  S. cerevisiae.\t Huang et al reported that [EXPE]  [GENE]  or  COG5  individually could improved the secretion level of amylase in  S cerevisiae2020\tPMC7493387\tcog5\toverexpressed\tHuang et al. reported that overexpressed  ERV29  or  COG5  individually could improved the secretion level of amylase in  S. cerevisiae.\t Huang et al reported that [EXPE]  ERV29  or  [GENE]  individually could improved the secretion level of amylase in  S cerevisiae2020\tPMC7493387\tchia\trecombinant\t Construction of pHBM905M- ChiA  recombinant plasmids.\t  Construction of pHBM905M- [GENE]  [EXPE] plasmids2020\tPMC7493388\tsparc\tadenovirus\tSPARC expression in hepatic tissue was significantly increased during the development of liver fibrosis, and targeting SPARC through an adenovirus carrying antisense SPARC suppressed HSCs activation in thioacetamide induced liver fibrosis in rats [ 19 ].\t [GENE] expression in hepatic tissue was significantly increased during the development of liver fibrosis and targeting SPARC through an [EXPE] carrying antisense SPARC suppressed HSCs activation in thioacetamide induced liver fibrosis in rats [ 19 ]2020\tPMC7493388\tfstl1\t−/−\tHomozygous  Fstl1 −/−  mice die of respiratory failure shortly after birth [ 20 ], so  Fstl1 +/−  or conditional knockout mice have been used to study the lung and kidney fibrosis [ 21 ,  22 ].\t Homozygous  [GENE] [EXPE]  mice die of respiratory failure shortly after birth [ 20 ] so  Fstl1 +/−  or conditional knockout mice have been used to study the lung and kidney fibrosis [ 21   22 ]2020\tPMC7493388\tfstl1\tknockout\tHomozygous  Fstl1 −/−  mice die of respiratory failure shortly after birth [ 20 ], so  Fstl1 +/−  or conditional knockout mice have been used to study the lung and kidney fibrosis [ 21 ,  22 ].\t Homozygous  [GENE] −/−  mice die of respiratory failure shortly after birth [ 20 ] so  Fstl1 +/−  or conditional [EXPE] mice have been used to study the lung and kidney fibrosis [ 21   22 ]2020\tPMC7493388\tfstl1\tknockout\tHomozygous  Fstl1 −/−  mice die of respiratory failure shortly after birth [ 20 ], so  Fstl1 +/−  or conditional knockout mice have been used to study the lung and kidney fibrosis [ 21 ,  22 ].\t Homozygous  Fstl1 −/−  mice die of respiratory failure shortly after birth [ 20 ] so  [GENE] +/−  or conditional [EXPE] mice have been used to study the lung and kidney fibrosis [ 21   22 ]2020\tPMC7493388\tcxcl8\trecombinant\tRecombinant standards of FSTL1, CCL2 or CXCL8 provided in the kit and the serum or isolated culture medium were added to a plate pre-coated with a monoclonal antibody against the chemokine.\t [EXPE] standards of FSTL1 CCL2 or [GENE] provided in the kit and the serum or isolated culture medium were added to a plate pre-coated with a monoclonal antibody against the chemokine2020\tPMC7493388\tecl\tvisualized\tThe bands were visualized using ECL reagents (Thermofisher Scientific, USA).\t The bands were [EXPE] using [GENE] reagents (Thermofisher Scientific USA)2020\tPMC7493388\tfstl1\tdigestion\tThe Wildtype (WT) or mutant (Mut) 3 ‘UTR region of Fstl1 was cloned to the downstream of reporter Renilla luciferase gene (hRluc) by XhoI and NotI digestion.\t The Wildtype (WT) or mutant (Mut) 3 ‘UTR region of [GENE] was cloned to the downstream of reporter Renilla luciferase gene (hRluc) by XhoI and NotI [EXPE]2020\tPMC7493388\tfstl1\tover-expression\tOver-expression of FSTL1 in Serum and Livers of Human Patients with Chronic liver diseases.\t [EXPE] of [GENE] in Serum and Livers of Human Patients with Chronic liver diseases2020\tPMC7493388\tfstl1\tco-stained\tFSTL1 immunostaining was weak in liver sections from CTL and was increased significantly (more than two-fold,  p  < 0.05) in the cytoplasm of hepatocyte in liver sections from patients with HBV and LC which co-stained with α-SMA (Fig.  1 b).\t [GENE] immunostaining was weak in liver sections from CTL and was increased significantly (more than two-fold  p  < 005) in the cytoplasm of hepatocyte in liver sections from patients with HBV and LC which [EXPE] with α-SMA (Fig  1 b)2020\tPMC7493388\tfstl1\tncbi\tThen we analyzed  FSTL1  expression in a gene-profiling dataset of percutaneous liver biopsies from NAFLD patients [ 33 ] through The NCBI Gene Expression Omnibus (GEO accession:GSE31803).\t Then we analyzed  [GENE]  expression in a gene-profiling dataset of percutaneous liver biopsies from NAFLD patients [ 33 ] through The [EXPE] Gene Expression Omnibus (GEO accession:GSE31803)2020\tPMC7493388\tfstl1\tstained\t b  Paraffin liver sections from healthy CTL, and patients with HBV and LC were stained with FSTL1 (red), α-SMA (green) and DAPI ( n  = 5 per group).\t  b  Paraffin liver sections from healthy CTL and patients with HBV and LC were [EXPE] with [GENE] (red) α-SMA (green) and DAPI ( n  = 5 per group)2020\tPMC7493388\tfstl1\tco-stained\tWe detected Fstl1 +  cells co-stained with HSCs activation marker α-SMA in mouse livers at 28 days after prolonged administration of CCl 4  (Fig.  2 e).\t We detected [GENE] +  cells [EXPE] with HSCs activation marker α-SMA in mouse livers at 28 days after prolonged administration of CCl 4  (Fig  2 e)2020\tPMC7493388\tfstl1\tmicroarray\tFSTL1 gene expression was significantly up-regulated (more than 5 fold) in human active cell line LX-2 compared with primary HSCs through DNA microarray analyses [ 35 ].\t [GENE] gene expression was significantly up-regulated (more than 5 fold) in human active cell line LX-2 compared with primary HSCs through DNA [EXPE] analyses [ 35 ]2020\tPMC7493388\tfstl1\tdatabase\tBased on the GEO database (GEO accession: GDS3492), the gene expression of Fstl1 was significantly higher in growing activated HSCs than senescent HSCs stimulated by DNA damage drug etoposide (Figure S 1 ).\t Based on the GEO [EXPE] (GEO accession: GDS3492) the gene expression of [GENE] was significantly higher in growing activated HSCs than senescent HSCs stimulated by DNA damage drug etoposide (Figure S 1 )2020\tPMC7493388\tfstl1\tdrug\tBased on the GEO database (GEO accession: GDS3492), the gene expression of Fstl1 was significantly higher in growing activated HSCs than senescent HSCs stimulated by DNA damage drug etoposide (Figure S 1 ).\t Based on the GEO database (GEO accession: GDS3492) the gene expression of [GENE] was significantly higher in growing activated HSCs than senescent HSCs stimulated by DNA damage [EXPE] etoposide (Figure S 1 )2020\tPMC7493388\tfstl1\tstaining\t Fstl1 +/−  mice also showed reduced degree of liver fibrosis, as determined by Sirius-red staining (Fig.  3 g).\t  [GENE] +/−  mice also showed reduced degree of liver fibrosis as determined by Sirius-red [EXPE] (Fig  3 g)2020\tPMC7493388\tfstl1\tsirna\tFSTL1 siRNA was highly effective in decreasing Fstl1 gene and protein expression relative to a scramble siRNA control (Figure S 4 a-b).\t [GENE] siRNA was highly effective in decreasing Fstl1 gene and protein expression relative to a scramble [EXPE] control (Figure S 4 a-b)2020\tPMC7493388\tfstl1\tsirna\tFSTL1 siRNA was highly effective in decreasing Fstl1 gene and protein expression relative to a scramble siRNA control (Figure S 4 a-b).\t FSTL1 [EXPE] was highly effective in decreasing [GENE] gene and protein expression relative to a scramble siRNA control (Figure S 4 a-b)2020\tPMC7493388\tfstl1\tsirna\tFSTL1 siRNA was highly effective in decreasing Fstl1 gene and protein expression relative to a scramble siRNA control (Figure S 4 a-b).\t FSTL1 siRNA was highly effective in decreasing [GENE] gene and protein expression relative to a scramble [EXPE] control (Figure S 4 a-b)2020\tPMC7493388\tfstl1\tinhibition\tDecreased FSTL1 expression led to the inhibition of expression of α-SMA and COL1 (Figure S 4 a-c).\t Decreased [GENE] expression led to the [EXPE] of expression of α-SMA and COL1 (Figure S 4 a-c)2020\tPMC7493388\tjnk\tknockdown\tIn addition, knockdown FSTL1 inhibited phosphorylation of JNK and TGF-β1 induced phosphorylation of Smad2 (Figure S 4 b-c).\t In addition [EXPE] FSTL1 inhibited phosphorylation of [GENE] and TGF-β1 induced phosphorylation of Smad2 (Figure S 4 b-c)2020\tPMC7493388\tfstl1\tinhibitor\tIn consistent with this,  miR29a  inhibitor up-regulated expression of Fstl1, α-SMA and  Col1  (Fig.  5 f,h).\t In consistent with this  miR29a  [EXPE] up-regulated expression of [GENE] α-SMA and  Col1  (Fig  5 fh)2020\tPMC7493388\thsc\tinhibitor\t4-methylumbelliferone, an inhibitor of hyaluronan deposition, suppressed the HSC trans-differentiation and altered macrophage localization with the down-regulation of Fstl1 in CCl 4  treated mice [ 40 ].\t 4-methylumbelliferone an [EXPE] of hyaluronan deposition suppressed the [GENE] trans-differentiation and altered macrophage localization with the down-regulation of Fstl1 in CCl 4  treated mice [ 40 ]2020\tPMC7493388\tfstl1\tinhibitor\t4-methylumbelliferone, an inhibitor of hyaluronan deposition, suppressed the HSC trans-differentiation and altered macrophage localization with the down-regulation of Fstl1 in CCl 4  treated mice [ 40 ].\t 4-methylumbelliferone an [EXPE] of hyaluronan deposition suppressed the HSC trans-differentiation and altered macrophage localization with the down-regulation of [GENE] in CCl 4  treated mice [ 40 ]2020\tPMC7493390\terbb3\tdrug\tIn this context we reported that monoclonal antibodies targeting ErbB3, a member of EGFR family, are able to inhibit activation of this receptor as a mechanism of escaping from MAPKi in melanoma and to delay the emergence of drug resistance in vitro and in vivo [ 8 ].\t In this context we reported that monoclonal antibodies targeting [GENE] a member of EGFR family are able to inhibit activation of this receptor as a mechanism of escaping from MAPKi in melanoma and to delay the emergence of [EXPE] resistance in vitro and in vivo [ 8 ]2020\tPMC7493390\tegfr\tdrug\tIn this context we reported that monoclonal antibodies targeting ErbB3, a member of EGFR family, are able to inhibit activation of this receptor as a mechanism of escaping from MAPKi in melanoma and to delay the emergence of drug resistance in vitro and in vivo [ 8 ].\t In this context we reported that monoclonal antibodies targeting ErbB3 a member of [GENE] family are able to inhibit activation of this receptor as a mechanism of escaping from MAPKi in melanoma and to delay the emergence of [EXPE] resistance in vitro and in vivo [ 8 ]2020\tPMC7493390\tadenomatous polyposis coli\tinactivation\tAmong them, LINE-1 insertions were observed in the oncosuppressor Adenomatous Polyposis Coli (APC) leading to its inactivation, which suggests a direct contribution to tumor-initiation [ 19 ].\t Among them LINE-1 insertions were observed in the oncosuppressor [GENE] (APC) leading to its [EXPE] which suggests a direct contribution to tumor-initiation [ 19 ]2020\tPMC7493390\tbraf\tinhibitors\tThis compound has largely demonstrated to be able to exert antitumor effects on melanoma cells [ 34 ,  35 ] although never in the presence of BRAF inhibitors.\t This compound has largely demonstrated to be able to exert antitumor effects on melanoma cells [ 34   35 ] although never in the presence of [GENE] [EXPE]2020\tPMC7493390\th2ax\tinhibitor\tResults (Fig.  2 a, left panels) clearly show the increase of H2A.X foci corresponding to DNA double-strand breaks sites when we combine SPV122 with either BRAFi alone or to greater extent with both a BRAF and a MEK inhibitor.\t Results (Fig  2 a left panels) clearly show the increase of [GENE] foci corresponding to DNA double-strand breaks sites when we combine SPV122 with either BRAFi alone or to greater extent with both a BRAF and a MEK [EXPE]2020\tPMC7493390\tbraf\tinhibitors\tWe are aware that our data do not directly allow to correlate SPV122 effects as potentiator of BRAF and MEK inhibitors in melanoma, with inhibition of retrotransposon activity.\t We are aware that our data do not directly allow to correlate SPV122 effects as potentiator of [GENE] and MEK [EXPE] in melanoma with inhibition of retrotransposon activity2020\tPMC7493390\tbraf\tinhibition\tWe are aware that our data do not directly allow to correlate SPV122 effects as potentiator of BRAF and MEK inhibitors in melanoma, with inhibition of retrotransposon activity.\t We are aware that our data do not directly allow to correlate SPV122 effects as potentiator of [GENE] and MEK inhibitors in melanoma with [EXPE] of retrotransposon activity2020\tPMC7493393\tplasminogen\tinhibitor\tPA inhibitor, plasminogen activator inhivitor-1 (PAI-1), and the plasmin inhibitor α 2 -antiplasmin (α 2 -AP) are present as fibrinolytic system-controlling factors [ 9 ].\t PA inhibitor [GENE] activator inhivitor-1 (PAI-1) and the plasmin [EXPE] α 2 -antiplasmin (α 2 -AP) are present as fibrinolytic system-controlling factors [ 9 ]2020\tPMC7493394\tard\tin situ\tIn contrast, the MexTAg model involves induction of ARD in situ following asbestos exposure, where TAg expression phenocopies p16 loss, effectively bypassing p53/p16 mediated cell cycle control [ 21 ].\t In contrast the MexTAg model involves induction of [GENE] [EXPE] following asbestos exposure where TAg expression phenocopies p16 loss effectively bypassing p53/p16 mediated cell cycle control [ 21 ]2020\tPMC7493396\twave\tinhibitor\tStewart et al. [ 42 ] found that the aortic AIx and carotid-femoral pulse wave velocity increases after the application of a nitric oxide synthase inhibitor, thus pointing out the importance of basal nitric oxide on functional regulation of central arteries in humans.\t Stewart et al [ 42 ] found that the aortic AIx and carotid-femoral pulse [GENE] velocity increases after the application of a nitric oxide synthase [EXPE] thus pointing out the importance of basal nitric oxide on functional regulation of central arteries in humans2020\tPMC7493399\tspp\tstaining\tAdditionally, microscopy using India ink staining is performed to detect capsulated strains in  K. pneumoniae  and  Streptococcus  spp.\t Additionally microscopy using India ink [EXPE] is performed to detect capsulated strains in  K pneumoniae  and  Streptococcus  [GENE]2020\tPMC7493400\tcpu\talignment\tThis strategy has been implemented for CPU SIMD units by Wozniak and a GPU version was implemented in CUDAlign, which targets the use case of Megabase (DNA) alignment where the sequences to be aligned are very long [ 10 ,  11 ].\t This strategy has been implemented for [GENE] SIMD units by Wozniak and a GPU version was implemented in CUDAlign which targets the use case of Megabase (DNA) [EXPE] where the sequences to be aligned are very long [ 10   11 ]2020\tPMC7493400\tsms\tblock\tIn NVIDIA hardware, the threads of a block are scheduled on to the SMs in groups of 32 known as warps.\t In NVIDIA hardware the threads of a [EXPE] are scheduled on to the [GENE] in groups of 32 known as warps2020\tPMC7493400\tgap\talignments\tFor DNA alignments we used the same scores for all algorithms, i.e. match-score of 6, mismatch penalty of 4, gap open penalty of 4 and gap extension penalty of 1.\t For DNA [EXPE] we used the same scores for all algorithms ie match-score of 6 mismatch penalty of 4 [GENE] open penalty of 4 and gap extension penalty of 12020\tPMC7493400\tcpu\tbioinformatics\tThese experiments were again performed using a single socket (16 CPU cores) and a single GPU first and then repeated for full nodes to evaluate their ability for large scale bioinformatics tools.\t These experiments were again performed using a single socket (16 [GENE] cores) and a single GPU first and then repeated for full nodes to evaluate their ability for large scale [EXPE] tools2020\tPMC7493400\tcpu\talignment\tWe demonstrated the performance of this strategy by implementing the Smith-Waterman algorithm, an optimal local alignment algorithm, and comparing its performance with similar approaches for CPU SIMD units and the existing fastest GPU implementations available for DNA and Protein alignment.\t We demonstrated the performance of this strategy by implementing the Smith-Waterman algorithm an optimal local [EXPE] algorithm and comparing its performance with similar approaches for [GENE] SIMD units and the existing fastest GPU implementations available for DNA and Protein alignment2020\tPMC7493402\ttnfa\tdrug\tCollectively, these results suggest that the three drug delivery formulations with entrapped IFX successfully targeted  Tnfa  in the inflamed colon and had an anti-inflammatory effect in a DSS-induced colitis model.\t Collectively these results suggest that the three [EXPE] delivery formulations with entrapped IFX successfully targeted  [GENE]  in the inflamed colon and had an anti-inflammatory effect in a DSS-induced colitis model2020\tPMC7493402\ttnfa\tdrug\tOur results indicate that drug delivery formulations significantly increased MFI values for lymphocytes in patients with ulcerative colitis, while the mRNA expression of  Tnfa ,  Il1b , and  Il17  was significantly decreased.\t Our results indicate that [EXPE] delivery formulations significantly increased MFI values for lymphocytes in patients with ulcerative colitis while the mRNA expression of  [GENE]   Il1b  and  Il17  was significantly decreased2020\tPMC7493402\til1b\tdrug\tOur results indicate that drug delivery formulations significantly increased MFI values for lymphocytes in patients with ulcerative colitis, while the mRNA expression of  Tnfa ,  Il1b , and  Il17  was significantly decreased.\t Our results indicate that [EXPE] delivery formulations significantly increased MFI values for lymphocytes in patients with ulcerative colitis while the mRNA expression of  Tnfa   [GENE]  and  Il17  was significantly decreased2020\tPMC7493402\til17\tdrug\tOur results indicate that drug delivery formulations significantly increased MFI values for lymphocytes in patients with ulcerative colitis, while the mRNA expression of  Tnfa ,  Il1b , and  Il17  was significantly decreased.\t Our results indicate that [EXPE] delivery formulations significantly increased MFI values for lymphocytes in patients with ulcerative colitis while the mRNA expression of  Tnfa   Il1b  and  [GENE]  was significantly decreased2020\tPMC7493402\tcd4\tdrug\tOral drug delivery by EAC-L may be a novel means of transporting large molecule drugs to the intestines in a non-cytotoxic way, to stimulate CD4 +  T cells as well as macrophages.\t Oral [EXPE] delivery by EAC-L may be a novel means of transporting large molecule drugs to the intestines in a non-cytotoxic way to stimulate [GENE] +  T cells as well as macrophages2020\tPMC7493402\tbca\tassay\tBCA Protein Assay Kit and PageRuler Prestained Protein Ladders were purchased from Thermo Fisher Scientific (Waltham, MA, USA).\t [GENE] Protein [EXPE] Kit and PageRuler Prestained Protein Ladders were purchased from Thermo Fisher Scientific (Waltham MA USA)2019\tPMC7493424\tstop\tdepletion\tTherefore, a successful batchPC process should be stopped at  t stop  toavoid undesired depletion in purity and contamination of product.\t Therefore a successful batchPC process should be stopped at  t [GENE]  toavoid undesired [EXPE] in purity and contamination of product2019\tPMC7493424\tstop\tcrystallization\tThen, as shown in  eqs  8 – 12 , the SCM has three main additional parameters: stop time( t stop ), effective crystallization rateconstant ( k eff ), and effective order ofcrystallization ( n eff ).\t Then as shown in  eqs  8 – 12  the SCM has three main additional parameters: [GENE] time( t stop ) effective [EXPE] rateconstant ( k eff ) and effective order ofcrystallization ( n eff )2019\tPMC7493424\tstop\tcrystallization\tThen, as shown in  eqs  8 – 12 , the SCM has three main additional parameters: stop time( t stop ), effective crystallization rateconstant ( k eff ), and effective order ofcrystallization ( n eff ).\t Then as shown in  eqs  8 – 12  the SCM has three main additional parameters: stop time( t [GENE] ) effective [EXPE] rateconstant ( k eff ) and effective order ofcrystallization ( n eff )2019\tPMC7493424\tstop\tcrystallization\tThe SCM exploits as free parameters a stop time, an effective rateconstant, and an effective order of crystallization.\t The SCM exploits as free parameters a [GENE] time an effective rateconstant and an effective order of [EXPE]2020\tPMC7493695\tkras\tpatient\tAlthough there are differences in methodology and patient populations among these analyses, ECOG PS,  KRAS  status and number of metastatic sites are factors common to many models.\t Although there are differences in methodology and [EXPE] populations among these analyses ECOG PS  [GENE]  status and number of metastatic sites are factors common to many models2020\tPMC7493768\tinterleukin 6\tinhibitors\tImmunomodulatory agents such as steroids, interleukin 6 inhibitors, and interleukin 1 inhibitors are currently being assessed in clinical trials for safety and efficacy in COVID-19.\t Immunomodulatory agents such as steroids [GENE] [EXPE] and interleukin 1 inhibitors are currently being assessed in clinical trials for safety and efficacy in COVID-192020\tPMC7493768\tinterleukin 6\tinhibitors\tImmunomodulatory agents such as steroids, interleukin 6 inhibitors, and interleukin 1 inhibitors are currently being assessed in clinical trials for safety and efficacy in COVID-19.\t Immunomodulatory agents such as steroids [GENE] inhibitors and interleukin 1 [EXPE] are currently being assessed in clinical trials for safety and efficacy in COVID-192020\tPMC7493771\tcd4\tdatabase\tLast CD4 +  T-cell count and plasma HIV RNA (viral load) were the most recent values registered at the clinical database, usually within the last 6 months period.\t Last [GENE] +  T-cell count and plasma HIV RNA (viral load) were the most recent values registered at the clinical [EXPE] usually within the last 6 months period2020\tPMC7493775\tkiller\tinhibitors\tIncreasing evidence reveals potential therapeutic agents acting directly against SARS-CoV-2, such as interferon (IFN), RdRp inhibitors, protease inhibitors, coronaviral protease inhibitor, viral entry blocker, neuraminidase inhibitor, vaccine, antibody, agent targeting the SARS-CoV-2 RNA genome, natural killer cells, and nucleocytoplasmic trafficking inhibitors.\t Increasing evidence reveals potential therapeutic agents acting directly against SARS-CoV-2 such as interferon (IFN) RdRp inhibitors protease [EXPE] coronaviral protease inhibitor viral entry blocker neuraminidase inhibitor vaccine antibody agent targeting the SARS-CoV-2 RNA genome natural [GENE] cells and nucleocytoplasmic trafficking inhibitors2020\tPMC7493775\tkiller\tinhibitor\tIncreasing evidence reveals potential therapeutic agents acting directly against SARS-CoV-2, such as interferon (IFN), RdRp inhibitors, protease inhibitors, coronaviral protease inhibitor, viral entry blocker, neuraminidase inhibitor, vaccine, antibody, agent targeting the SARS-CoV-2 RNA genome, natural killer cells, and nucleocytoplasmic trafficking inhibitors.\t Increasing evidence reveals potential therapeutic agents acting directly against SARS-CoV-2 such as interferon (IFN) RdRp inhibitors protease inhibitors coronaviral protease inhibitor viral entry blocker neuraminidase [EXPE] vaccine antibody agent targeting the SARS-CoV-2 RNA genome natural [GENE] cells and nucleocytoplasmic trafficking inhibitors2020\tPMC7493775\tkiller\tinhibitors\tIncreasing evidence reveals potential therapeutic agents acting directly against SARS-CoV-2, such as interferon (IFN), RdRp inhibitors, protease inhibitors, coronaviral protease inhibitor, viral entry blocker, neuraminidase inhibitor, vaccine, antibody, agent targeting the SARS-CoV-2 RNA genome, natural killer cells, and nucleocytoplasmic trafficking inhibitors.\t Increasing evidence reveals potential therapeutic agents acting directly against SARS-CoV-2 such as interferon (IFN) RdRp inhibitors protease inhibitors coronaviral protease inhibitor viral entry blocker neuraminidase inhibitor vaccine antibody agent targeting the SARS-CoV-2 RNA genome natural [GENE] cells and nucleocytoplasmic trafficking [EXPE]2020\tPMC7493775\tifn\tinhibition\tSeveral effector antiviral mechanisms of IFN are known, such as mRNA translation inhibition, enhancement of RNA degradation, RNA editing, targeting viral nucleocapsids, and inhibiting RNA synthesis.\t Several effector antiviral mechanisms of [GENE] are known such as mRNA translation [EXPE] enhancement of RNA degradation RNA editing targeting viral nucleocapsids and inhibiting RNA synthesis2020\tPMC7493775\tifn\tinfection\t6  Among the type I IFN, IFN-α is quickly stimulated in innate immune response to initial virus infection.\t 6  Among the type I [GENE] IFN-α is quickly stimulated in innate immune response to initial virus [EXPE]2020\tPMC7493775\tifn\tinhibited\tIFN-α and β inhibit the replication of SARS-CoV. 7 , 8  However, IFN-γ was identified to lack antiviral activity against SARS-CoV. 9  Previous study demonstrated that SARS-CoV inhibited IFN transcription in infected cells and the additional IFN could partly resume innate immunity against SARS-CoV. 10  Pegylated IFN-α2b, a licensed drug for chronic hepatitis B and C, showed the anti-SARS-CoV activity by decreasing viral replication and lung damage.\t IFN-α and β inhibit the replication of SARS-CoV 7  8  However IFN-γ was identified to lack antiviral activity against SARS-CoV 9  Previous study demonstrated that SARS-CoV [EXPE] IFN transcription in infected cells and the additional [GENE] could partly resume innate immunity against SARS-CoV 10  Pegylated IFN-α2b a licensed drug for chronic hepatitis B and C showed the anti-SARS-CoV activity by decreasing viral replication and lung damage2020\tPMC7493775\tifn\tinfected\tIFN-α and β inhibit the replication of SARS-CoV. 7 , 8  However, IFN-γ was identified to lack antiviral activity against SARS-CoV. 9  Previous study demonstrated that SARS-CoV inhibited IFN transcription in infected cells and the additional IFN could partly resume innate immunity against SARS-CoV. 10  Pegylated IFN-α2b, a licensed drug for chronic hepatitis B and C, showed the anti-SARS-CoV activity by decreasing viral replication and lung damage.\t IFN-α and β inhibit the replication of SARS-CoV 7  8  However IFN-γ was identified to lack antiviral activity against SARS-CoV 9  Previous study demonstrated that SARS-CoV inhibited IFN transcription in [EXPE] cells and the additional [GENE] could partly resume innate immunity against SARS-CoV 10  Pegylated IFN-α2b a licensed drug for chronic hepatitis B and C showed the anti-SARS-CoV activity by decreasing viral replication and lung damage2020\tPMC7493775\tace2\tinterfering\tIn a recent study, it was shown that SARS-CoV-2 recognizes ACE2 more efficiently than SARS-CoV. 5  Therefore, interfering with the interaction between S protein of SARS-CoV-2 and ACE2 might be a potential approach for antiviral therapy.\t In a recent study it was shown that SARS-CoV-2 recognizes [GENE] more efficiently than SARS-CoV 5  Therefore [EXPE] with the interaction between S protein of SARS-CoV-2 and ACE2 might be a potential approach for antiviral therapy2020\tPMC7493775\tace2\tinterfering\tIn a recent study, it was shown that SARS-CoV-2 recognizes ACE2 more efficiently than SARS-CoV. 5  Therefore, interfering with the interaction between S protein of SARS-CoV-2 and ACE2 might be a potential approach for antiviral therapy.\t In a recent study it was shown that SARS-CoV-2 recognizes ACE2 more efficiently than SARS-CoV 5  Therefore [EXPE] with the interaction between S protein of SARS-CoV-2 and [GENE] might be a potential approach for antiviral therapy2020\tPMC7493775\tace2\thigh-throughput\tUsing the world’s most powerful supercomputer, SUMMIT, the high-throughput screening of the possible docking models and identification of novel small molecules which can bind to the viral S protein or S protein–human ACE2 interface has been proposed.\t Using the world’s most powerful supercomputer SUMMIT the [EXPE] screening of the possible docking models and identification of novel small molecules which can bind to the viral S protein or S protein–human [GENE] interface has been proposed2020\tPMC7493775\ttmprss2\tinhibitor\t37  Hence, camostat mesylate, a TMPRSS2 inhibitor, can eliminate SARS-CoV-2 infection  in vitro  assay.\t 37  Hence camostat mesylate a [GENE] [EXPE] can eliminate SARS-CoV-2 infection  in vitro  assay2020\tPMC7493778\tiga\tinfected\tIn patients infected by SARS-CoV-1 in 2003, the immunoglobulin IgA was observed in the serum, followed by IgM and IgG. 19  The IgM and IgG are useful for indicating whether the person has been infected, and whether the infection has triggered host immunological response.\t In patients infected by SARS-CoV-1 in 2003 the immunoglobulin [GENE] was observed in the serum followed by IgM and IgG 19  The IgM and IgG are useful for indicating whether the person has been [EXPE] and whether the infection has triggered host immunological response2020\tPMC7493780\tace2\tstorm\tThe downregulation of ACE2 leads to decreased ANG1-7 level and increased ANG2 level, which may induce uncontrollable cytokine storm and could lead to organ dysfunction in critical cases.\t The downregulation of [GENE] leads to decreased ANG1-7 level and increased ANG2 level which may induce uncontrollable cytokine [EXPE] and could lead to organ dysfunction in critical cases2020\tPMC7493780\tang2\tstorm\tThe downregulation of ACE2 leads to decreased ANG1-7 level and increased ANG2 level, which may induce uncontrollable cytokine storm and could lead to organ dysfunction in critical cases.\t The downregulation of ACE2 leads to decreased ANG1-7 level and increased [GENE] level which may induce uncontrollable cytokine [EXPE] and could lead to organ dysfunction in critical cases2020\tPMC7493780\tang\tinfection\tExperimental models of acute lung injury, including a model of SARS-CoV infection, suggest that ARBs may mitigate COVID-19 by attenuating Ang II–mediated acute lung injury by blocking AT1R.\t Experimental models of acute lung injury including a model of SARS-CoV [EXPE] suggest that ARBs may mitigate COVID-19 by attenuating [GENE] II–mediated acute lung injury by blocking AT1R2020\tPMC7493780\tace2\tinhibitors\t46  RAAS inhibitors on ACE2 are complex and should not be assumed that changes in ACE2 levels reflect changes in ACE2 levels in the lung, which is the portal of entry for SARS-CoV2.\t 46  RAAS [EXPE] on [GENE] are complex and should not be assumed that changes in ACE2 levels reflect changes in ACE2 levels in the lung which is the portal of entry for SARS-CoV22020\tPMC7493780\tp2y12\tinhibition\tTicagrelor is unique in having the most potent anti-inflammatory properties via dual inhibition of platelet P2Y12 receptor and equilibrative nucleoside transporter 1 (ENT1), which contributes to inhibition of cellular adenosine uptake.\t Ticagrelor is unique in having the most potent anti-inflammatory properties via dual inhibition of platelet [GENE] receptor and equilibrative nucleoside transporter 1 (ENT1) which contributes to [EXPE] of cellular adenosine uptake2020\tPMC7493780\tp2y12\tinhibitors\t49 , 50  However, P2Y12 inhibitors could aggregate DAH according to published literatures.\t 49  50  However [GENE] [EXPE] could aggregate DAH according to published literatures2020\tPMC7493780\tp2y12\tinhibitor\t52  Zhou et al suggested among patients with COVID-19 who are currently on DAPT, maintaining P2Y12 inhibitor monotherapy (preferably ticagrelor) may be scientifically reasonable for patients with PCI performed ≥3 months.\t 52  Zhou et al suggested among patients with COVID-19 who are currently on DAPT maintaining [GENE] [EXPE] monotherapy (preferably ticagrelor) may be scientifically reasonable for patients with PCI performed ≥3 months2020\tPMC7493780\tpci\tinhibitor\t52  Zhou et al suggested among patients with COVID-19 who are currently on DAPT, maintaining P2Y12 inhibitor monotherapy (preferably ticagrelor) may be scientifically reasonable for patients with PCI performed ≥3 months.\t 52  Zhou et al suggested among patients with COVID-19 who are currently on DAPT maintaining P2Y12 [EXPE] monotherapy (preferably ticagrelor) may be scientifically reasonable for patients with [GENE] performed ≥3 months2020\tPMC7493780\tmyd88\tinfection\tStatins are known to have anti-inflammatory effects which involved in Myd88 and downstream nuclear factor kappa B signaling pathways, which was highly activated in SARS-CoV infection.\t Statins are known to have anti-inflammatory effects which involved in [GENE] and downstream nuclear factor kappa B signaling pathways which was highly activated in SARS-CoV [EXPE]2020\tPMC7493780\tstatin\tinfection\tFor now, statin therapy should be continued in patients with suspected COVID-19 infection with existing cardiovascular comorbidities since no evidence show harmful and acute cardiac injury could also occur in COVID-19.\t For now [GENE] therapy should be continued in patients with suspected COVID-19 [EXPE] with existing cardiovascular comorbidities since no evidence show harmful and acute cardiac injury could also occur in COVID-192020\tPMC7493781\tprep\tdatabase\tBased on compulsory HIV diagnosis declarations and antiretrovirals reimbursement, this database covers more than 95% of HIV-infected patients and PrEP users living in the Rhône department.\t Based on compulsory HIV diagnosis declarations and antiretrovirals reimbursement this [EXPE] covers more than 95% of HIV-infected patients and [GENE] users living in the Rhône department2020\tPMC7493781\tprep\tinfection\tThe only factor associated with COVID-19 was age, both in univariable [odds ratio (OR) 1.01 per year (1.01–1.01%)] and in multivariable analyses [OR 1.01 per year (1.01–1.01%)], while male gender [OR 0.97 (0.89–1.06)], HIV infection [OR 0.73 (0.44–1.58)] and PrEP use [OR 1.1 (0.38–3.21)] were not.\t The only factor associated with COVID-19 was age both in univariable [odds ratio (OR) 101 per year (101–101%)] and in multivariable analyses [OR 101 per year (101–101%)] while male gender [OR 097 (089–106)] HIV [EXPE] [OR 073 (044–158)] and [GENE] use [OR 11 (038–321)] were not2020\tPMC7493781\tcd4\tdatabase\tWhile 36.4% of HIV-infected patients in our database were born outside Western Europe, a factor that could contribute to precariousness, and since CD4 +  cell count was below 361/μl in a quarter of our patients, these results are reassuring regarding the epidemiological impact of COVID-19 in this population.\t While 364% of HIV-infected patients in our [EXPE] were born outside Western Europe a factor that could contribute to precariousness and since [GENE] +  cell count was below 361/μl in a quarter of our patients these results are reassuring regarding the epidemiological impact of COVID-19 in this population2020\tPMC7493783\tace2\tinhibitor\tInspecting conserved amino acids within ACE2 domain, Hoffmann group perform SARS-CoV-2 to transmit cell entry depends on ACE2 and transmembrane serine protease 2 two proteins and is blocked by applied clinically proven protease inhibitor.\t Inspecting conserved amino acids within [GENE] domain Hoffmann group perform SARS-CoV-2 to transmit cell entry depends on ACE2 and transmembrane serine protease 2 two proteins and is blocked by applied clinically proven protease [EXPE]2020\tPMC7493783\ttransmembrane serine protease 2\tblocked\tInspecting conserved amino acids within ACE2 domain, Hoffmann group perform SARS-CoV-2 to transmit cell entry depends on ACE2 and transmembrane serine protease 2 two proteins and is blocked by applied clinically proven protease inhibitor.\t Inspecting conserved amino acids within ACE2 domain Hoffmann group perform SARS-CoV-2 to transmit cell entry depends on ACE2 and [GENE] two proteins and is [EXPE] by applied clinically proven protease inhibitor2020\tPMC7493783\tserine protease 2\tinhibitor\tInspecting conserved amino acids within ACE2 domain, Hoffmann group perform SARS-CoV-2 to transmit cell entry depends on ACE2 and transmembrane serine protease 2 two proteins and is blocked by applied clinically proven protease inhibitor.\t Inspecting conserved amino acids within ACE2 domain Hoffmann group perform SARS-CoV-2 to transmit cell entry depends on ACE2 and transmembrane [GENE] two proteins and is blocked by applied clinically proven protease [EXPE]2020\tPMC7493802\tsacs\tcrystals\tIn others, the crystals are formed in idioblasts, specialized secretory cells with a distinctive form (vesicles, sacs, or tubes).\t In others the [EXPE] are formed in idioblasts specialized secretory cells with a distinctive form (vesicles [GENE] or tubes)2020\tPMC7493802\ttraits\thigh resolution\tThe high resolution images obtained by both techniques were able to evidence each of the studied morphological traits in the archaeobotanical samples from Monte Castelo.\t The [EXPE] images obtained by both techniques were able to evidence each of the studied morphological [GENE] in the archaeobotanical samples from Monte Castelo2020\tPMC7493885\tmyod\tinteractome\tMore recently, a direct role of MyoD in reorganizing the three-dimensional chromatin interactome during the myogenic conversion, has been reported 20 .\t More recently a direct role of [GENE] in reorganizing the three-dimensional chromatin [EXPE] during the myogenic conversion has been reported 202020\tPMC7493885\tsnail\tblocked\tSimilarly, the access of MyoD to a number of differentiation genes, before the onset of differentiation, is blocked by a repressor complex containing Snail and the histone deacetylases I and II, which is removed only upon differentiation stimuli 23 .\t Similarly the access of MyoD to a number of differentiation genes before the onset of differentiation is [EXPE] by a repressor complex containing [GENE] and the histone deacetylases I and II which is removed only upon differentiation stimuli 232020\tPMC7493885\tezh2\tinhibition\tAn additional strategy by which active PARP1 promotes chromatin accessibility, involves the inhibition of EZH2 activity, through PARylation of the histone methyltransferase, and the consequent decrease of the global levels of H3K27me3 46 , 47 .\t An additional strategy by which active PARP1 promotes chromatin accessibility involves the [EXPE] of [GENE] activity through PARylation of the histone methyltransferase and the consequent decrease of the global levels of H3K27me3 46  472020\tPMC7493885\tparp1\tblock\tOn the other hand, inactive PARP1 was recognized to be a critical component of the corepressor complexes Groucho/TLE and CtBP, which block transcription from the  MASH1  and  p21  promoters respectively 49 , 50 .\t On the other hand inactive [GENE] was recognized to be a critical component of the corepressor complexes Groucho/TLE and CtBP which [EXPE] transcription from the  MASH1  and  p21  promoters respectively 49  502020\tPMC7493885\tparp1\tknock-out\tThis function was initially underestimated, due to the absence of evident phenotypes, apart from the hypersensitivity to DNA damage, in PARP1 knock-out mice, probably as a consequence of redundant and/or compensatory roles of other PARP family members 59 .\t This function was initially underestimated due to the absence of evident phenotypes apart from the hypersensitivity to DNA damage in [GENE] [EXPE] mice probably as a consequence of redundant and/or compensatory roles of other PARP family members 592020\tPMC7493885\tparp\tknock-out\tThis function was initially underestimated, due to the absence of evident phenotypes, apart from the hypersensitivity to DNA damage, in PARP1 knock-out mice, probably as a consequence of redundant and/or compensatory roles of other PARP family members 59 .\t This function was initially underestimated due to the absence of evident phenotypes apart from the hypersensitivity to DNA damage in PARP1 [EXPE] mice probably as a consequence of redundant and/or compensatory roles of other [GENE] family members 592020\tPMC7493885\tmyod\tinterfering\tIn the present work we provide evidence that PARP1 participates in the transcriptional control of some paradigmatic examples of MyoD target genes by interfering, independently of its catalytic activity, with the recruitment of this myogenic factor to their regulatory regions within chromatin.\t In the present work we provide evidence that PARP1 participates in the transcriptional control of some paradigmatic examples of [GENE] target genes by [EXPE] independently of its catalytic activity with the recruitment of this myogenic factor to their regulatory regions within chromatin2020\tPMC7493885\tparp1\tdepletion\tTo explore this hypothesis, we first examined the effects of PARP1 depletion on muscle gene expression in C2.7 cells stably knocked-down for PARP1.\t To explore this hypothesis we first examined the effects of PARP1 [EXPE] on muscle gene expression in C27 cells stably knocked-down for [GENE]2020\tPMC7493885\tparp1\thairpin\tFor this purpose, we employed a short hairpin RNA for PARP1 (shPARP1) cloned into a retroviral vector as previously described 45 .\t For this purpose we employed a short [EXPE] RNA for [GENE] (shPARP1) cloned into a retroviral vector as previously described 452020\tPMC7493885\tparp1\tretroviral\tFor this purpose, we employed a short hairpin RNA for PARP1 (shPARP1) cloned into a retroviral vector as previously described 45 .\t For this purpose we employed a short hairpin RNA for [GENE] (shPARP1) cloned into a [EXPE] vector as previously described 452020\tPMC7493885\tparp1\tknock-down\tRemarkably, as reported in Fig.  1 b, the knock-down of PARP1 correlated with an increased induction of  p57  and  myogenin  expression in differentiated cells.\t Remarkably as reported in Fig  1 b the [EXPE] of [GENE] correlated with an increased induction of  p57  and  myogenin  expression in differentiated cells2020\tPMC7493885\tp57\tknock-down\tRemarkably, as reported in Fig.  1 b, the knock-down of PARP1 correlated with an increased induction of  p57  and  myogenin  expression in differentiated cells.\t Remarkably as reported in Fig  1 b the [EXPE] of PARP1 correlated with an increased induction of  [GENE]  and  myogenin  expression in differentiated cells2020\tPMC7493885\tp21\tinhibitor\tA similar effect was observed on the induction of  p21 , another Cip/Kip inhibitor, and of  Mef2C , another muscle-regulatory factor, both directly up-regulated by MyoD at early stages of muscle differentiation 1 .\t A similar effect was observed on the induction of  [GENE]  another Cip/Kip [EXPE] and of  Mef2C  another muscle-regulatory factor both directly up-regulated by MyoD at early stages of muscle differentiation 12020\tPMC7493885\tmyod\tinhibitor\tA similar effect was observed on the induction of  p21 , another Cip/Kip inhibitor, and of  Mef2C , another muscle-regulatory factor, both directly up-regulated by MyoD at early stages of muscle differentiation 1 .\t A similar effect was observed on the induction of  p21  another Cip/Kip [EXPE] and of  Mef2C  another muscle-regulatory factor both directly up-regulated by [GENE] at early stages of muscle differentiation 12020\tPMC7493885\tparp1\tdepletion\tThe observation that PARP1 depletion did not affect the basal, but only the induced expression of these genes, is easily explained by the well-established occurrence of multiple repressive mechanisms that prevent MyoD activity in proliferating myoblasts 65  and suggests that PARP1 participates in keeping under control the MyoD-target genes during the differentiation process.\t The observation that [GENE] [EXPE] did not affect the basal but only the induced expression of these genes is easily explained by the well-established occurrence of multiple repressive mechanisms that prevent MyoD activity in proliferating myoblasts 65  and suggests that PARP1 participates in keeping under control the MyoD-target genes during the differentiation process2020\tPMC7493885\tparp1\tco-transfected\tshPARP1 myoblasts were co-transfected with either the puc19—human PARP1 vector or with the empty vector, together with a selection vector containing the hygromycin resistance gene.\t shPARP1 myoblasts were [EXPE] with either the puc19—human [GENE] vector or with the empty vector together with a selection vector containing the hygromycin resistance gene2020\tPMC7493885\tp57\tdepletion\tRemarkably, as shown in Fig.  2 b, and conversely to the effect of PARP1 depletion, PARP1 re-expression impaired the induction of  p57 ,  myogenin ,  p21  and  Mef2C  RNA levels, compared to shPARP1 control cells.\t Remarkably as shown in Fig  2 b and conversely to the effect of PARP1 [EXPE] PARP1 re-expression impaired the induction of  [GENE]   myogenin   p21  and  Mef2C  RNA levels compared to shPARP1 control cells2020\tPMC7493885\tmyogenin\tdepletion\tRemarkably, as shown in Fig.  2 b, and conversely to the effect of PARP1 depletion, PARP1 re-expression impaired the induction of  p57 ,  myogenin ,  p21  and  Mef2C  RNA levels, compared to shPARP1 control cells.\t Remarkably as shown in Fig  2 b and conversely to the effect of PARP1 [EXPE] PARP1 re-expression impaired the induction of  p57   [GENE]   p21  and  Mef2C  RNA levels compared to shPARP1 control cells2020\tPMC7493885\tmef2c\tdepletion\tRemarkably, as shown in Fig.  2 b, and conversely to the effect of PARP1 depletion, PARP1 re-expression impaired the induction of  p57 ,  myogenin ,  p21  and  Mef2C  RNA levels, compared to shPARP1 control cells.\t Remarkably as shown in Fig  2 b and conversely to the effect of PARP1 [EXPE] PARP1 re-expression impaired the induction of  p57   myogenin   p21  and  [GENE]  RNA levels compared to shPARP1 control cells2020\tPMC7493885\tmyod\tover-expression\tThe impaired induction of MyoD targets was also observed in response to the transient over-expression of PARP1, as reported for  p57  and  myogenin  in Supplementary Fig.  S4 .\t The impaired induction of [GENE] targets was also observed in response to the transient [EXPE] of PARP1 as reported for  p57  and  myogenin  in Supplementary Fig  S42020\tPMC7493885\tp57\tover-expression\tThe impaired induction of MyoD targets was also observed in response to the transient over-expression of PARP1, as reported for  p57  and  myogenin  in Supplementary Fig.  S4 .\t The impaired induction of MyoD targets was also observed in response to the transient [EXPE] of PARP1 as reported for  [GENE]  and  myogenin  in Supplementary Fig  S42020\tPMC7493885\tparp1\tinterfering\tConsidering that the association of PARP1 with KvDMR1 and  myogenin  promoter declines during differentiation, in concomitance with the onset of MyoD recruitment, we speculated that PARP1 could repress  p57  and  myogenin  expression by interfering with the binding of MyoD to their regulatory regions.\t Considering that the association of [GENE] with KvDMR1 and  myogenin  promoter declines during differentiation in concomitance with the onset of MyoD recruitment we speculated that PARP1 could repress  p57  and  myogenin  expression by [EXPE] with the binding of MyoD to their regulatory regions2020\tPMC7493885\tmyogenin\tinterfering\tConsidering that the association of PARP1 with KvDMR1 and  myogenin  promoter declines during differentiation, in concomitance with the onset of MyoD recruitment, we speculated that PARP1 could repress  p57  and  myogenin  expression by interfering with the binding of MyoD to their regulatory regions.\t Considering that the association of PARP1 with KvDMR1 and  [GENE]  promoter declines during differentiation in concomitance with the onset of MyoD recruitment we speculated that PARP1 could repress  p57  and  myogenin  expression by [EXPE] with the binding of MyoD to their regulatory regions2020\tPMC7493885\tmyod\tinterfering\tConsidering that the association of PARP1 with KvDMR1 and  myogenin  promoter declines during differentiation, in concomitance with the onset of MyoD recruitment, we speculated that PARP1 could repress  p57  and  myogenin  expression by interfering with the binding of MyoD to their regulatory regions.\t Considering that the association of PARP1 with KvDMR1 and  myogenin  promoter declines during differentiation in concomitance with the onset of [GENE] recruitment we speculated that PARP1 could repress  p57  and  myogenin  expression by [EXPE] with the binding of MyoD to their regulatory regions2020\tPMC7493885\tparp1\tinterfering\tConsidering that the association of PARP1 with KvDMR1 and  myogenin  promoter declines during differentiation, in concomitance with the onset of MyoD recruitment, we speculated that PARP1 could repress  p57  and  myogenin  expression by interfering with the binding of MyoD to their regulatory regions.\t Considering that the association of PARP1 with KvDMR1 and  myogenin  promoter declines during differentiation in concomitance with the onset of MyoD recruitment we speculated that [GENE] could repress  p57  and  myogenin  expression by [EXPE] with the binding of MyoD to their regulatory regions2020\tPMC7493885\tmyogenin\tinterfering\tConsidering that the association of PARP1 with KvDMR1 and  myogenin  promoter declines during differentiation, in concomitance with the onset of MyoD recruitment, we speculated that PARP1 could repress  p57  and  myogenin  expression by interfering with the binding of MyoD to their regulatory regions.\t Considering that the association of PARP1 with KvDMR1 and  myogenin  promoter declines during differentiation in concomitance with the onset of MyoD recruitment we speculated that PARP1 could repress  p57  and  [GENE]  expression by [EXPE] with the binding of MyoD to their regulatory regions2020\tPMC7493885\tmyod\tinterfering\tConsidering that the association of PARP1 with KvDMR1 and  myogenin  promoter declines during differentiation, in concomitance with the onset of MyoD recruitment, we speculated that PARP1 could repress  p57  and  myogenin  expression by interfering with the binding of MyoD to their regulatory regions.\t Considering that the association of PARP1 with KvDMR1 and  myogenin  promoter declines during differentiation in concomitance with the onset of MyoD recruitment we speculated that PARP1 could repress  p57  and  myogenin  expression by [EXPE] with the binding of [GENE] to their regulatory regions2020\tPMC7493885\tparp1\tchip\tChIP assays for the interaction of PARP1 or MyoD with KvDMR1 and  myogenin  promoter were performed in cells cultured in differentiation conditions, in which MyoD is normally recruited to these regions.\t [EXPE] assays for the interaction of [GENE] or MyoD with KvDMR1 and  myogenin  promoter were performed in cells cultured in differentiation conditions in which MyoD is normally recruited to these regions2020\tPMC7493885\tparp1\tassays\tChIP assays for the interaction of PARP1 or MyoD with KvDMR1 and  myogenin  promoter were performed in cells cultured in differentiation conditions, in which MyoD is normally recruited to these regions.\t ChIP [EXPE] for the interaction of [GENE] or MyoD with KvDMR1 and  myogenin  promoter were performed in cells cultured in differentiation conditions in which MyoD is normally recruited to these regions2020\tPMC7493885\tmyod\tchip\tChIP assays for the interaction of PARP1 or MyoD with KvDMR1 and  myogenin  promoter were performed in cells cultured in differentiation conditions, in which MyoD is normally recruited to these regions.\t [EXPE] assays for the interaction of PARP1 or [GENE] with KvDMR1 and  myogenin  promoter were performed in cells cultured in differentiation conditions in which MyoD is normally recruited to these regions2020\tPMC7493885\tmyogenin\tchip\tChIP assays for the interaction of PARP1 or MyoD with KvDMR1 and  myogenin  promoter were performed in cells cultured in differentiation conditions, in which MyoD is normally recruited to these regions.\t [EXPE] assays for the interaction of PARP1 or MyoD with KvDMR1 and  [GENE]  promoter were performed in cells cultured in differentiation conditions in which MyoD is normally recruited to these regions2020\tPMC7493885\tparp1\tdepleted\tAs shown in Fig.  4 , cells depleted of PARP1 show decreased PARP1 binding, as expected, while cells re-expressing PARP1 showed increased PARP1 binding to both regions.\t As shown in Fig  4  cells [EXPE] of [GENE] show decreased PARP1 binding as expected while cells re-expressing PARP1 showed increased PARP1 binding to both regions2020\tPMC7493885\tparp1\tdepleted\tAs shown in Fig.  4 , cells depleted of PARP1 show decreased PARP1 binding, as expected, while cells re-expressing PARP1 showed increased PARP1 binding to both regions.\t As shown in Fig  4  cells [EXPE] of PARP1 show decreased [GENE] binding as expected while cells re-expressing PARP1 showed increased PARP1 binding to both regions2020\tPMC7493885\tparp1\tdepleted\tAs shown in Fig.  4 , cells depleted of PARP1 show decreased PARP1 binding, as expected, while cells re-expressing PARP1 showed increased PARP1 binding to both regions.\t As shown in Fig  4  cells [EXPE] of PARP1 show decreased PARP1 binding as expected while cells re-expressing PARP1 showed increased [GENE] binding to both regions2020\tPMC7493885\tparp1\tinhibitors\tTo directly address whether the transcriptional control of  p57  and  myogenin  by PARP1 was independent of the enzyme activity, we measured the expression of the two genes in myoblast cells induced to differentiate in the presence of pharmacological PARP inhibitors.\t To directly address whether the transcriptional control of  p57  and  myogenin  by [GENE] was independent of the enzyme activity we measured the expression of the two genes in myoblast cells induced to differentiate in the presence of pharmacological PARP [EXPE]2020\tPMC7493885\tparp\tinhibitors\tTo directly address whether the transcriptional control of  p57  and  myogenin  by PARP1 was independent of the enzyme activity, we measured the expression of the two genes in myoblast cells induced to differentiate in the presence of pharmacological PARP inhibitors.\t To directly address whether the transcriptional control of  p57  and  myogenin  by PARP1 was independent of the enzyme activity we measured the expression of the two genes in myoblast cells induced to differentiate in the presence of pharmacological [GENE] [EXPE]2020\tPMC7493885\tp57\tinhibition\tHowever, the inhibition of the enzyme activity, unlike the depletion of the protein, did not promote, rather it slightly inhibited  p57  and  myogenin  induction (Fig.  6 ), indicating that PARP1 represses the expression of the two genes through a catalytic-independent mechanism.\t However the [EXPE] of the enzyme activity unlike the depletion of the protein did not promote rather it slightly inhibited  [GENE]  and  myogenin  induction (Fig  6 ) indicating that PARP1 represses the expression of the two genes through a catalytic-independent mechanism2020\tPMC7493885\tmyogenin\tinhibition\tHowever, the inhibition of the enzyme activity, unlike the depletion of the protein, did not promote, rather it slightly inhibited  p57  and  myogenin  induction (Fig.  6 ), indicating that PARP1 represses the expression of the two genes through a catalytic-independent mechanism.\t However the [EXPE] of the enzyme activity unlike the depletion of the protein did not promote rather it slightly inhibited  p57  and  [GENE]  induction (Fig  6 ) indicating that PARP1 represses the expression of the two genes through a catalytic-independent mechanism2020\tPMC7493885\tmyogenin\tinhibited\tHowever, the inhibition of the enzyme activity, unlike the depletion of the protein, did not promote, rather it slightly inhibited  p57  and  myogenin  induction (Fig.  6 ), indicating that PARP1 represses the expression of the two genes through a catalytic-independent mechanism.\t However the inhibition of the enzyme activity unlike the depletion of the protein did not promote rather it slightly [EXPE]  p57  and  [GENE]  induction (Fig  6 ) indicating that PARP1 represses the expression of the two genes through a catalytic-independent mechanism2020\tPMC7493885\tparp1\tinhibition\tHowever, the inhibition of the enzyme activity, unlike the depletion of the protein, did not promote, rather it slightly inhibited  p57  and  myogenin  induction (Fig.  6 ), indicating that PARP1 represses the expression of the two genes through a catalytic-independent mechanism.\t However the [EXPE] of the enzyme activity unlike the depletion of the protein did not promote rather it slightly inhibited  p57  and  myogenin  induction (Fig  6 ) indicating that [GENE] represses the expression of the two genes through a catalytic-independent mechanism2020\tPMC7493885\tparp1\tdepletion\tHowever, the inhibition of the enzyme activity, unlike the depletion of the protein, did not promote, rather it slightly inhibited  p57  and  myogenin  induction (Fig.  6 ), indicating that PARP1 represses the expression of the two genes through a catalytic-independent mechanism.\t However the inhibition of the enzyme activity unlike the [EXPE] of the protein did not promote rather it slightly inhibited  p57  and  myogenin  induction (Fig  6 ) indicating that [GENE] represses the expression of the two genes through a catalytic-independent mechanism2020\tPMC7493885\tparp1\tinhibited\tHowever, the inhibition of the enzyme activity, unlike the depletion of the protein, did not promote, rather it slightly inhibited  p57  and  myogenin  induction (Fig.  6 ), indicating that PARP1 represses the expression of the two genes through a catalytic-independent mechanism.\t However the inhibition of the enzyme activity unlike the depletion of the protein did not promote rather it slightly [EXPE]  p57  and  myogenin  induction (Fig  6 ) indicating that [GENE] represses the expression of the two genes through a catalytic-independent mechanism2020\tPMC7493885\tparp1\tinhibition\tThis effect, ascribed both to the inhibition of the enzyme activity and to the induction of a conformational change of PARP1 72 , was especially detected in the presence of DNA strand breaks.\t This effect ascribed both to the [EXPE] of the enzyme activity and to the induction of a conformational change of [GENE] 72  was especially detected in the presence of DNA strand breaks2020\tPMC7493885\tparp1\tchip\tTo verify whether Olaparib treatment affected PARP1 binding to MyoD targets, we performed ChIP assays in C2 cells differentiated in the presence or absence of Olaparib treatment.\t To verify whether Olaparib treatment affected [GENE] binding to MyoD targets we performed [EXPE] assays in C2 cells differentiated in the presence or absence of Olaparib treatment2020\tPMC7493885\tparp1\tassays\tTo verify whether Olaparib treatment affected PARP1 binding to MyoD targets, we performed ChIP assays in C2 cells differentiated in the presence or absence of Olaparib treatment.\t To verify whether Olaparib treatment affected [GENE] binding to MyoD targets we performed ChIP [EXPE] in C2 cells differentiated in the presence or absence of Olaparib treatment2020\tPMC7493885\tmyod\tchip\tTo verify whether Olaparib treatment affected PARP1 binding to MyoD targets, we performed ChIP assays in C2 cells differentiated in the presence or absence of Olaparib treatment.\t To verify whether Olaparib treatment affected PARP1 binding to [GENE] targets we performed [EXPE] assays in C2 cells differentiated in the presence or absence of Olaparib treatment2020\tPMC7493885\tmyod\tassays\tTo verify whether Olaparib treatment affected PARP1 binding to MyoD targets, we performed ChIP assays in C2 cells differentiated in the presence or absence of Olaparib treatment.\t To verify whether Olaparib treatment affected PARP1 binding to [GENE] targets we performed ChIP [EXPE] in C2 cells differentiated in the presence or absence of Olaparib treatment2020\tPMC7493885\tparp1\tinhibitors\tThe molecular mechanisms of PARP1 trapping by PARP inhibitors have not been completely clarified yet 73 , nor we can say whether the increased PARP1 binding to muscle genes after Olabarib treatment involves its trapping on DNA breaks.\t The molecular mechanisms of [GENE] trapping by PARP [EXPE] have not been completely clarified yet 73  nor we can say whether the increased PARP1 binding to muscle genes after Olabarib treatment involves its trapping on DNA breaks2020\tPMC7493885\tparp\tinhibitors\tThe molecular mechanisms of PARP1 trapping by PARP inhibitors have not been completely clarified yet 73 , nor we can say whether the increased PARP1 binding to muscle genes after Olabarib treatment involves its trapping on DNA breaks.\t The molecular mechanisms of PARP1 trapping by [GENE] [EXPE] have not been completely clarified yet 73  nor we can say whether the increased PARP1 binding to muscle genes after Olabarib treatment involves its trapping on DNA breaks2020\tPMC7493885\tparp1\tinhibitors\tThe molecular mechanisms of PARP1 trapping by PARP inhibitors have not been completely clarified yet 73 , nor we can say whether the increased PARP1 binding to muscle genes after Olabarib treatment involves its trapping on DNA breaks.\t The molecular mechanisms of PARP1 trapping by PARP [EXPE] have not been completely clarified yet 73  nor we can say whether the increased [GENE] binding to muscle genes after Olabarib treatment involves its trapping on DNA breaks2020\tPMC7493885\tmyogenin\tchip-seq\tBy inspecting the ChIP-seq data for muscle cells from ENCODE/Caltech, we noticed that the levels of H3K4me3 at KvDMR1 and  myogenin  promoter, were lower in undifferentiated respect to differentiated cells.\t By inspecting the [EXPE] data for muscle cells from ENCODE/Caltech we noticed that the levels of H3K4me3 at KvDMR1 and  [GENE]  promoter were lower in undifferentiated respect to differentiated cells2020\tPMC7493885\tparp1\tchip\tTo assess the possible relationship of these chromatin changes with the differential binding of PARP1, we performed ChIP assays for H3K4me3 in cells re-expressing PARP1 compared to silenced cells.\t To assess the possible relationship of these chromatin changes with the differential binding of [GENE] we performed [EXPE] assays for H3K4me3 in cells re-expressing PARP1 compared to silenced cells2020\tPMC7493885\tparp1\tassays\tTo assess the possible relationship of these chromatin changes with the differential binding of PARP1, we performed ChIP assays for H3K4me3 in cells re-expressing PARP1 compared to silenced cells.\t To assess the possible relationship of these chromatin changes with the differential binding of [GENE] we performed ChIP [EXPE] for H3K4me3 in cells re-expressing PARP1 compared to silenced cells2020\tPMC7493885\tparp1\tsilenced\tTo assess the possible relationship of these chromatin changes with the differential binding of PARP1, we performed ChIP assays for H3K4me3 in cells re-expressing PARP1 compared to silenced cells.\t To assess the possible relationship of these chromatin changes with the differential binding of [GENE] we performed ChIP assays for H3K4me3 in cells re-expressing PARP1 compared to [EXPE] cells2020\tPMC7493885\tparp1\tsilenced\tTo assess the possible relationship of these chromatin changes with the differential binding of PARP1, we performed ChIP assays for H3K4me3 in cells re-expressing PARP1 compared to silenced cells.\t To assess the possible relationship of these chromatin changes with the differential binding of PARP1 we performed ChIP assays for H3K4me3 in cells re-expressing [GENE] compared to [EXPE] cells2020\tPMC7493885\tparp1\tdepleted\tWhen PARP1 is depleted, the binding of MyoD and the accumulation of H3K4me3 to the regulatory regions are further facilitated, resulting in increased up-regulation of MyoD targets.\t When [GENE] is [EXPE] the binding of MyoD and the accumulation of H3K4me3 to the regulatory regions are further facilitated resulting in increased up-regulation of MyoD targets2020\tPMC7493885\tmyod\tdepleted\tWhen PARP1 is depleted, the binding of MyoD and the accumulation of H3K4me3 to the regulatory regions are further facilitated, resulting in increased up-regulation of MyoD targets.\t When PARP1 is [EXPE] the binding of [GENE] and the accumulation of H3K4me3 to the regulatory regions are further facilitated resulting in increased up-regulation of MyoD targets2020\tPMC7493885\tparp1\tdepletion\tWe found that PARP1 depletion promotes the induction of  p57 ,  myogenin ,  Mef2C  and  p21 , while PARP1 re-expression reduces their up-regulation.\t We found that [GENE] [EXPE] promotes the induction of  p57   myogenin   Mef2C  and  p21  while PARP1 re-expression reduces their up-regulation2020\tPMC7493885\tp57\tdepletion\tWe found that PARP1 depletion promotes the induction of  p57 ,  myogenin ,  Mef2C  and  p21 , while PARP1 re-expression reduces their up-regulation.\t We found that PARP1 [EXPE] promotes the induction of  [GENE]   myogenin   Mef2C  and  p21  while PARP1 re-expression reduces their up-regulation2020\tPMC7493885\tmyogenin\tdepletion\tWe found that PARP1 depletion promotes the induction of  p57 ,  myogenin ,  Mef2C  and  p21 , while PARP1 re-expression reduces their up-regulation.\t We found that PARP1 [EXPE] promotes the induction of  p57   [GENE]   Mef2C  and  p21  while PARP1 re-expression reduces their up-regulation2020\tPMC7493885\tparp1\tdepletion\tWe found that PARP1 depletion promotes the induction of  p57 ,  myogenin ,  Mef2C  and  p21 , while PARP1 re-expression reduces their up-regulation.\t We found that PARP1 [EXPE] promotes the induction of  p57   myogenin   Mef2C  and  p21  while [GENE] re-expression reduces their up-regulation2020\tPMC7493885\tparp1\tdepletion\tIt is worth noticing that the loss of PARP1, although necessary, does not appear sufficient for inducing MyoD targets, as indicated by the observation that the basal expression of these genes, in undifferentiated cells, was not up-regulated upon PARP1 depletion.\t It is worth noticing that the loss of [GENE] although necessary does not appear sufficient for inducing MyoD targets as indicated by the observation that the basal expression of these genes in undifferentiated cells was not up-regulated upon PARP1 [EXPE]2020\tPMC7493885\tmyod\tdepletion\tIt is worth noticing that the loss of PARP1, although necessary, does not appear sufficient for inducing MyoD targets, as indicated by the observation that the basal expression of these genes, in undifferentiated cells, was not up-regulated upon PARP1 depletion.\t It is worth noticing that the loss of PARP1 although necessary does not appear sufficient for inducing [GENE] targets as indicated by the observation that the basal expression of these genes in undifferentiated cells was not up-regulated upon PARP1 [EXPE]2020\tPMC7493885\tparp1\tdepletion\tIt is worth noticing that the loss of PARP1, although necessary, does not appear sufficient for inducing MyoD targets, as indicated by the observation that the basal expression of these genes, in undifferentiated cells, was not up-regulated upon PARP1 depletion.\t It is worth noticing that the loss of PARP1 although necessary does not appear sufficient for inducing MyoD targets as indicated by the observation that the basal expression of these genes in undifferentiated cells was not up-regulated upon [GENE] [EXPE]2020\tPMC7493885\tparp\tinhibition\tMost importantly, the inhibition of PARP activity by each of two different inhibitors, Veliparib and Olaparib, does not increase  myogenin  and  p57  expression as PARP1 depletion does.\t Most importantly the [EXPE] of [GENE] activity by each of two different inhibitors Veliparib and Olaparib does not increase  myogenin  and  p57  expression as PARP1 depletion does2020\tPMC7493885\tparp\tinhibitors\tMost importantly, the inhibition of PARP activity by each of two different inhibitors, Veliparib and Olaparib, does not increase  myogenin  and  p57  expression as PARP1 depletion does.\t Most importantly the inhibition of [GENE] activity by each of two different [EXPE] Veliparib and Olaparib does not increase  myogenin  and  p57  expression as PARP1 depletion does2020\tPMC7493885\tparp\tdepletion\tMost importantly, the inhibition of PARP activity by each of two different inhibitors, Veliparib and Olaparib, does not increase  myogenin  and  p57  expression as PARP1 depletion does.\t Most importantly the inhibition of [GENE] activity by each of two different inhibitors Veliparib and Olaparib does not increase  myogenin  and  p57  expression as PARP1 [EXPE] does2020\tPMC7493885\tmyogenin\tinhibition\tMost importantly, the inhibition of PARP activity by each of two different inhibitors, Veliparib and Olaparib, does not increase  myogenin  and  p57  expression as PARP1 depletion does.\t Most importantly the [EXPE] of PARP activity by each of two different inhibitors Veliparib and Olaparib does not increase  [GENE]  and  p57  expression as PARP1 depletion does2020\tPMC7493885\tmyogenin\tinhibitors\tMost importantly, the inhibition of PARP activity by each of two different inhibitors, Veliparib and Olaparib, does not increase  myogenin  and  p57  expression as PARP1 depletion does.\t Most importantly the inhibition of PARP activity by each of two different [EXPE] Veliparib and Olaparib does not increase  [GENE]  and  p57  expression as PARP1 depletion does2020\tPMC7493885\tmyogenin\tdepletion\tMost importantly, the inhibition of PARP activity by each of two different inhibitors, Veliparib and Olaparib, does not increase  myogenin  and  p57  expression as PARP1 depletion does.\t Most importantly the inhibition of PARP activity by each of two different inhibitors Veliparib and Olaparib does not increase  [GENE]  and  p57  expression as PARP1 [EXPE] does2020\tPMC7493885\tp57\tinhibition\tMost importantly, the inhibition of PARP activity by each of two different inhibitors, Veliparib and Olaparib, does not increase  myogenin  and  p57  expression as PARP1 depletion does.\t Most importantly the [EXPE] of PARP activity by each of two different inhibitors Veliparib and Olaparib does not increase  myogenin  and  [GENE]  expression as PARP1 depletion does2020\tPMC7493885\tp57\tdepletion\tMost importantly, the inhibition of PARP activity by each of two different inhibitors, Veliparib and Olaparib, does not increase  myogenin  and  p57  expression as PARP1 depletion does.\t Most importantly the inhibition of PARP activity by each of two different inhibitors Veliparib and Olaparib does not increase  myogenin  and  [GENE]  expression as PARP1 [EXPE] does2020\tPMC7493885\tparp1\tinhibition\tMost importantly, the inhibition of PARP activity by each of two different inhibitors, Veliparib and Olaparib, does not increase  myogenin  and  p57  expression as PARP1 depletion does.\t Most importantly the [EXPE] of PARP activity by each of two different inhibitors Veliparib and Olaparib does not increase  myogenin  and  p57  expression as [GENE] depletion does2020\tPMC7493885\tparp1\tinhibitors\tMost importantly, the inhibition of PARP activity by each of two different inhibitors, Veliparib and Olaparib, does not increase  myogenin  and  p57  expression as PARP1 depletion does.\t Most importantly the inhibition of PARP activity by each of two different [EXPE] Veliparib and Olaparib does not increase  myogenin  and  p57  expression as [GENE] depletion does2020\tPMC7493885\tparp1\tdepletion\tMost importantly, the inhibition of PARP activity by each of two different inhibitors, Veliparib and Olaparib, does not increase  myogenin  and  p57  expression as PARP1 depletion does.\t Most importantly the inhibition of PARP activity by each of two different inhibitors Veliparib and Olaparib does not increase  myogenin  and  p57  expression as [GENE] [EXPE] does2020\tPMC7493885\tctcf\tinhibition\tHowever, it is very unlikely that this is the case, since PARP1-dependent regulation of CTCF requires CTCF PARylation 83 , whereas we found that the ability of MyoD to activate its targets is not influenced by the inhibition of PARP activity.\t However it is very unlikely that this is the case since PARP1-dependent regulation of [GENE] requires CTCF PARylation 83  whereas we found that the ability of MyoD to activate its targets is not influenced by the [EXPE] of PARP activity2020\tPMC7493885\tctcf\tinhibition\tHowever, it is very unlikely that this is the case, since PARP1-dependent regulation of CTCF requires CTCF PARylation 83 , whereas we found that the ability of MyoD to activate its targets is not influenced by the inhibition of PARP activity.\t However it is very unlikely that this is the case since PARP1-dependent regulation of CTCF requires [GENE] PARylation 83  whereas we found that the ability of MyoD to activate its targets is not influenced by the [EXPE] of PARP activity2020\tPMC7493885\tmyod\tinhibition\tHowever, it is very unlikely that this is the case, since PARP1-dependent regulation of CTCF requires CTCF PARylation 83 , whereas we found that the ability of MyoD to activate its targets is not influenced by the inhibition of PARP activity.\t However it is very unlikely that this is the case since PARP1-dependent regulation of CTCF requires CTCF PARylation 83  whereas we found that the ability of [GENE] to activate its targets is not influenced by the [EXPE] of PARP activity2020\tPMC7493885\tparp\tinhibition\tHowever, it is very unlikely that this is the case, since PARP1-dependent regulation of CTCF requires CTCF PARylation 83 , whereas we found that the ability of MyoD to activate its targets is not influenced by the inhibition of PARP activity.\t However it is very unlikely that this is the case since PARP1-dependent regulation of CTCF requires CTCF PARylation 83  whereas we found that the ability of MyoD to activate its targets is not influenced by the [EXPE] of [GENE] activity2020\tPMC7493885\tparp1\tinhibition\tInterestingly, although active PARP1 inhibits the histone demethylase KDM5B through its PARylation, which results in the accumulation of the active mark H3K4me3 at several genomic regions 48 , it has been reported that inactive PARP1 prevents the deposition of the same histone modification at IL-6 promoter, through the inhibition of the histone methyltransferase MLL1, leading to the suppression of  IL-6  expression 74 .\t Interestingly although active [GENE] inhibits the histone demethylase KDM5B through its PARylation which results in the accumulation of the active mark H3K4me3 at several genomic regions 48  it has been reported that inactive PARP1 prevents the deposition of the same histone modification at IL-6 promoter through the [EXPE] of the histone methyltransferase MLL1 leading to the suppression of  IL-6  expression 742020\tPMC7493885\tkdm5b\tinhibition\tInterestingly, although active PARP1 inhibits the histone demethylase KDM5B through its PARylation, which results in the accumulation of the active mark H3K4me3 at several genomic regions 48 , it has been reported that inactive PARP1 prevents the deposition of the same histone modification at IL-6 promoter, through the inhibition of the histone methyltransferase MLL1, leading to the suppression of  IL-6  expression 74 .\t Interestingly although active PARP1 inhibits the histone demethylase [GENE] through its PARylation which results in the accumulation of the active mark H3K4me3 at several genomic regions 48  it has been reported that inactive PARP1 prevents the deposition of the same histone modification at IL-6 promoter through the [EXPE] of the histone methyltransferase MLL1 leading to the suppression of  IL-6  expression 742020\tPMC7493885\tmark\tinhibition\tInterestingly, although active PARP1 inhibits the histone demethylase KDM5B through its PARylation, which results in the accumulation of the active mark H3K4me3 at several genomic regions 48 , it has been reported that inactive PARP1 prevents the deposition of the same histone modification at IL-6 promoter, through the inhibition of the histone methyltransferase MLL1, leading to the suppression of  IL-6  expression 74 .\t Interestingly although active PARP1 inhibits the histone demethylase KDM5B through its PARylation which results in the accumulation of the active [GENE] H3K4me3 at several genomic regions 48  it has been reported that inactive PARP1 prevents the deposition of the same histone modification at IL-6 promoter through the [EXPE] of the histone methyltransferase MLL1 leading to the suppression of  IL-6  expression 742020\tPMC7493885\tparp1\tinhibition\tInterestingly, although active PARP1 inhibits the histone demethylase KDM5B through its PARylation, which results in the accumulation of the active mark H3K4me3 at several genomic regions 48 , it has been reported that inactive PARP1 prevents the deposition of the same histone modification at IL-6 promoter, through the inhibition of the histone methyltransferase MLL1, leading to the suppression of  IL-6  expression 74 .\t Interestingly although active PARP1 inhibits the histone demethylase KDM5B through its PARylation which results in the accumulation of the active mark H3K4me3 at several genomic regions 48  it has been reported that inactive [GENE] prevents the deposition of the same histone modification at IL-6 promoter through the [EXPE] of the histone methyltransferase MLL1 leading to the suppression of  IL-6  expression 742020\tPMC7493885\til-6\tinhibition\tInterestingly, although active PARP1 inhibits the histone demethylase KDM5B through its PARylation, which results in the accumulation of the active mark H3K4me3 at several genomic regions 48 , it has been reported that inactive PARP1 prevents the deposition of the same histone modification at IL-6 promoter, through the inhibition of the histone methyltransferase MLL1, leading to the suppression of  IL-6  expression 74 .\t Interestingly although active PARP1 inhibits the histone demethylase KDM5B through its PARylation which results in the accumulation of the active mark H3K4me3 at several genomic regions 48  it has been reported that inactive PARP1 prevents the deposition of the same histone modification at [GENE] promoter through the [EXPE] of the histone methyltransferase MLL1 leading to the suppression of  IL-6  expression 742020\tPMC7493885\til-6\tinhibition\tInterestingly, although active PARP1 inhibits the histone demethylase KDM5B through its PARylation, which results in the accumulation of the active mark H3K4me3 at several genomic regions 48 , it has been reported that inactive PARP1 prevents the deposition of the same histone modification at IL-6 promoter, through the inhibition of the histone methyltransferase MLL1, leading to the suppression of  IL-6  expression 74 .\t Interestingly although active PARP1 inhibits the histone demethylase KDM5B through its PARylation which results in the accumulation of the active mark H3K4me3 at several genomic regions 48  it has been reported that inactive PARP1 prevents the deposition of the same histone modification at IL-6 promoter through the [EXPE] of the histone methyltransferase MLL1 leading to the suppression of  [GENE]  expression 742020\tPMC7493885\tparp\tinhibitor\tIt is worth mentioning that the PARP inhibitor Olaparib, already approved for the therapy of some tumor types defective for homologous recombination DNA repair, is currently under investigation for the possible treatment of inflammatory and oxidative stress diseases 86 .\t It is worth mentioning that the [GENE] [EXPE] Olaparib already approved for the therapy of some tumor types defective for homologous recombination DNA repair is currently under investigation for the possible treatment of inflammatory and oxidative stress diseases 862020\tPMC7493885\tparp1\tknock-down\tFor the stable knock-down of PARP1, C2.7 cells were incubated with the BOSC23 retroviral supernatant supplemented with 4 μg/ml polybrene for 8 h and then re-fed with fresh medium.\t For the stable [EXPE] of [GENE] C27 cells were incubated with the BOSC23 retroviral supernatant supplemented with 4 μg/ml polybrene for 8 h and then re-fed with fresh medium2020\tPMC7493885\ttbs\tblocked\tMembranes were blocked in 2% non-fat dry milk in TBS containing 0.05% Tween 20 for 1 h at room temperature and incubated with the primary antibodies overnight at 4 °C, then washed three times and incubated with peroxidase-conjugated anti-mouse or anti-rabbit secondary antibodies (Bio-Rad).\t Membranes were [EXPE] in 2% non-fat dry milk in [GENE] containing 005% Tween 20 for 1 h at room temperature and incubated with the primary antibodies overnight at 4 °C then washed three times and incubated with peroxidase-conjugated anti-mouse or anti-rabbit secondary antibodies (Bio-Rad)2020\tPMC7493885\tparp1\tassays\tChIP assays for PARP1, PAR and MyoD were carried out as previously described using 150 µg of chromatin for MyoD, and 75 µg for PARP1 and PAR.\t ChIP [EXPE] for [GENE] PAR and MyoD were carried out as previously described using 150 µg of chromatin for MyoD and 75 µg for PARP1 and PAR2020\tPMC7493885\tpar\tchip\tChIP assays for PARP1, PAR and MyoD were carried out as previously described using 150 µg of chromatin for MyoD, and 75 µg for PARP1 and PAR.\t [EXPE] assays for PARP1 [GENE] and MyoD were carried out as previously described using 150 µg of chromatin for MyoD and 75 µg for PARP1 and PAR2020\tPMC7493885\tpar\tassays\tChIP assays for PARP1, PAR and MyoD were carried out as previously described using 150 µg of chromatin for MyoD, and 75 µg for PARP1 and PAR.\t ChIP [EXPE] for PARP1 [GENE] and MyoD were carried out as previously described using 150 µg of chromatin for MyoD and 75 µg for PARP1 and PAR2020\tPMC7493885\tmyod\tchip\tChIP assays for PARP1, PAR and MyoD were carried out as previously described using 150 µg of chromatin for MyoD, and 75 µg for PARP1 and PAR.\t [EXPE] assays for PARP1 PAR and [GENE] were carried out as previously described using 150 µg of chromatin for MyoD and 75 µg for PARP1 and PAR2020\tPMC7493885\tmyod\tchip\tChIP assays for PARP1, PAR and MyoD were carried out as previously described using 150 µg of chromatin for MyoD, and 75 µg for PARP1 and PAR.\t [EXPE] assays for PARP1 PAR and MyoD were carried out as previously described using 150 µg of chromatin for [GENE] and 75 µg for PARP1 and PAR2020\tPMC7493885\tparp1\tassays\tChIP assays for PARP1, PAR and MyoD were carried out as previously described using 150 µg of chromatin for MyoD, and 75 µg for PARP1 and PAR.\t ChIP [EXPE] for PARP1 PAR and MyoD were carried out as previously described using 150 µg of chromatin for MyoD and 75 µg for [GENE] and PAR2020\tPMC7493885\tpar\tchip\tChIP assays for PARP1, PAR and MyoD were carried out as previously described using 150 µg of chromatin for MyoD, and 75 µg for PARP1 and PAR.\t [EXPE] assays for PARP1 PAR and MyoD were carried out as previously described using 150 µg of chromatin for MyoD and 75 µg for PARP1 and [GENE]2020\tPMC7493886\tugt\tncbi\tIn a more recent study, Li et al. isolated 144 sequences suspected to be UGTs by re-analyzing the public transcript data of  S. rebaudiana  from NCBI (SRR1576548), among them 68 were unambiguously identified as UGT genes 15 .\t In a more recent study Li et al isolated 144 sequences suspected to be UGTs by re-analyzing the public transcript data of  S rebaudiana  from [EXPE] (SRR1576548) among them 68 were unambiguously identified as [GENE] genes 152020\tPMC7493886\tdpi\tconfocal\tExpression of recombinant proteins was verified by confocal laser scanning microscopy (CLSM) at 5 dpi.\t Expression of recombinant proteins was verified by [EXPE] laser scanning microscopy (CLSM) at 5 [GENE]2020\tPMC7493889\tskip\tchromatography\tDue to that advantage it is possible to skip the column chromatography step, what significantly reduces the time and cost of the analysis (SFPE-vials-MS and SFPE-MS procedures).\t Due to that advantage it is possible to [GENE] the column [EXPE] step what significantly reduces the time and cost of the analysis (SFPE-vials-MS and SFPE-MS procedures)2020\tPMC7493895\tspp\tdrug\tIn  Aspergillus  spp., bZIP TFs including AtfA, NapA, AflR, RsmA and Apyap1 have been demonstrated to be the key factors responding to oxidative, osmotic, environmental and drug stresses 10 – 13 .\t In  Aspergillus  [GENE] bZIP TFs including AtfA NapA AflR RsmA and Apyap1 have been demonstrated to be the key factors responding to oxidative osmotic environmental and [EXPE] stresses 10 – 132020\tPMC7493895\tatfa\tdrug\tIn  Aspergillus  spp., bZIP TFs including AtfA, NapA, AflR, RsmA and Apyap1 have been demonstrated to be the key factors responding to oxidative, osmotic, environmental and drug stresses 10 – 13 .\t In  Aspergillus  spp bZIP TFs including [GENE] NapA AflR RsmA and Apyap1 have been demonstrated to be the key factors responding to oxidative osmotic environmental and [EXPE] stresses 10 – 132020\tPMC7493895\tnapa\tdrug\tIn  Aspergillus  spp., bZIP TFs including AtfA, NapA, AflR, RsmA and Apyap1 have been demonstrated to be the key factors responding to oxidative, osmotic, environmental and drug stresses 10 – 13 .\t In  Aspergillus  spp bZIP TFs including AtfA [GENE] AflR RsmA and Apyap1 have been demonstrated to be the key factors responding to oxidative osmotic environmental and [EXPE] stresses 10 – 132020\tPMC7493895\tcbs\tdatabase\tFull-length  T. asperellum  bZIP protein (TabZIP protein) sequences were obtained from the  T. asperellum  CBS 433.97 v1.0 JGI database ( https://genome.jgi.doe.gov/) 21 , and conserved domains were predicted using the NCBI tool Blastp.\t Full-length  T asperellum  bZIP protein (TabZIP protein) sequences were obtained from the  T asperellum  [GENE] 43397 v10 JGI [EXPE] ( https://genomejgidoegov/) 21  and conserved domains were predicted using the NCBI tool Blastp2020\tPMC7493895\tcbs\tncbi\tFull-length  T. asperellum  bZIP protein (TabZIP protein) sequences were obtained from the  T. asperellum  CBS 433.97 v1.0 JGI database ( https://genome.jgi.doe.gov/) 21 , and conserved domains were predicted using the NCBI tool Blastp.\t Full-length  T asperellum  bZIP protein (TabZIP protein) sequences were obtained from the  T asperellum  [GENE] 43397 v10 JGI database ( https://genomejgidoegov/) 21  and conserved domains were predicted using the [EXPE] tool Blastp2020\tPMC7493895\tcbs\tblastp\tFull-length  T. asperellum  bZIP protein (TabZIP protein) sequences were obtained from the  T. asperellum  CBS 433.97 v1.0 JGI database ( https://genome.jgi.doe.gov/) 21 , and conserved domains were predicted using the NCBI tool Blastp.\t Full-length  T asperellum  bZIP protein (TabZIP protein) sequences were obtained from the  T asperellum  [GENE] 43397 v10 JGI database ( https://genomejgidoegov/) 21  and conserved domains were predicted using the NCBI tool [EXPE]2020\tPMC7493897\twave\tx-ray\tContrary to previous cases with the modulation by the tail of the plasma wave drive pulse 23 , 25 , where the electron beam experiences a long acceleration period before it catches the laser pulse which resulting in limited controllability of the X-ray source, we reach the betatron resonance immediately from the moment of injection.\t Contrary to previous cases with the modulation by the tail of the plasma [GENE] drive pulse 23  25  where the electron beam experiences a long acceleration period before it catches the laser pulse which resulting in limited controllability of the [EXPE] source we reach the betatron resonance immediately from the moment of injection2020\tPMC7493899\tpoc\tassay\tAlthough polymerase chain reaction (PCR) is accepted as a gold standard method in clinical laboratories due to its high sensitivity and reliability, the precise control of temperature for thermal cycling and fluorescence-based detection system render the whole system bulky and expensive, making the PCR assay unsuitable for POC DNA testing.\t Although polymerase chain reaction (PCR) is accepted as a gold standard method in clinical laboratories due to its high sensitivity and reliability the precise control of temperature for thermal cycling and fluorescence-based detection system render the whole system bulky and expensive making the PCR [EXPE] unsuitable for [GENE] DNA testing2020\tPMC7493899\tlamp\tassay\tA colorimetric LAMP assay is also commercialized by New England Biolabs Inc. using a pH-sensitive dye 9 , 10 .\t A colorimetric [GENE] [EXPE] is also commercialized by New England Biolabs Inc using a pH-sensitive dye 9  102020\tPMC7493899\tlamp\tchip\tThe smartphone camera is positioned opposite to the LAMP chip, and five white LEDs (6,000 K) are installed on the top to shine a light toward the LAMP chip.\t The smartphone camera is positioned opposite to the [GENE] [EXPE] and five white LEDs (6000 K) are installed on the top to shine a light toward the LAMP chip2020\tPMC7493899\tlamp\treal-time\tThus, a customized color model can predict the amplification process, so the real-time monitoring of the colorimetric LAMP reaction can be executed quantitatively as well as qualitatively using a smartphone.\t Thus a customized color model can predict the amplification process so the [EXPE] monitoring of the colorimetric [GENE] reaction can be executed quantitatively as well as qualitatively using a smartphone2020\tPMC7493899\tlamp\tassay\tHowever, the hue value revealed the least variation of the colorimetric values among the chambers before and after the LAMP assay and the excellent LAMP profiles in accordance with the genomic DNA copy number, demonstrating the most appropriate approach for real-time monitoring of LAMP (Fig.  4 F–H).\t However the hue value revealed the least variation of the colorimetric values among the chambers before and after the LAMP [EXPE] and the excellent [GENE] profiles in accordance with the genomic DNA copy number demonstrating the most appropriate approach for real-time monitoring of LAMP (Fig  4 F–H)2020\tPMC7493899\tlamp\treal-time\tHowever, the hue value revealed the least variation of the colorimetric values among the chambers before and after the LAMP assay and the excellent LAMP profiles in accordance with the genomic DNA copy number, demonstrating the most appropriate approach for real-time monitoring of LAMP (Fig.  4 F–H).\t However the hue value revealed the least variation of the colorimetric values among the chambers before and after the LAMP assay and the excellent [GENE] profiles in accordance with the genomic DNA copy number demonstrating the most appropriate approach for [EXPE] monitoring of LAMP (Fig  4 F–H)2020\tPMC7493899\tapp\tassay\tTo demonstrate the capability of the proposed qLAMP app, we performed an additional LAMP assay, in which the LAMP reaction proceeded at 65 °C for 50 min on a chip that contained one chamber without DNA templates, three chambers from #2 to #4 with 1.32 × 10 5  copy numbers, and other three chambers from #5 to #7 with 1.32 × 10 6  copy number.\t To demonstrate the capability of the proposed qLAMP [GENE] we performed an additional LAMP [EXPE] in which the LAMP reaction proceeded at 65 °C for 50 min on a chip that contained one chamber without DNA templates three chambers from #2 to #4 with 132 × 10 5  copy numbers and other three chambers from #5 to #7 with 132 × 10 6  copy number2020\tPMC7493899\tlamp\tassay\tTo demonstrate the capability of the proposed qLAMP app, we performed an additional LAMP assay, in which the LAMP reaction proceeded at 65 °C for 50 min on a chip that contained one chamber without DNA templates, three chambers from #2 to #4 with 1.32 × 10 5  copy numbers, and other three chambers from #5 to #7 with 1.32 × 10 6  copy number.\t To demonstrate the capability of the proposed qLAMP app we performed an additional [GENE] [EXPE] in which the LAMP reaction proceeded at 65 °C for 50 min on a chip that contained one chamber without DNA templates three chambers from #2 to #4 with 132 × 10 5  copy numbers and other three chambers from #5 to #7 with 132 × 10 6  copy number2020\tPMC7493899\tlamp\tassay\tIn fact, the reaction time of LAMP is normally completed less than 1 h, while qPCR takes more than 2 h. The colorimetric assay enables us to qualitatively judge the success of the rapid LAMP reaction with ease, but the quantitative analysis for the colorimetric LAMP has been considered difficult due to vague definition during the color transition and lack of digital description for color change.\t In fact the reaction time of [GENE] is normally completed less than 1 h while qPCR takes more than 2 h The colorimetric [EXPE] enables us to qualitatively judge the success of the rapid LAMP reaction with ease but the quantitative analysis for the colorimetric LAMP has been considered difficult due to vague definition during the color transition and lack of digital description for color change2020\tPMC7493899\tlamp\tqpcr\tIn fact, the reaction time of LAMP is normally completed less than 1 h, while qPCR takes more than 2 h. The colorimetric assay enables us to qualitatively judge the success of the rapid LAMP reaction with ease, but the quantitative analysis for the colorimetric LAMP has been considered difficult due to vague definition during the color transition and lack of digital description for color change.\t In fact the reaction time of LAMP is normally completed less than 1 h while [EXPE] takes more than 2 h The colorimetric assay enables us to qualitatively judge the success of the rapid LAMP reaction with ease but the quantitative analysis for the colorimetric [GENE] has been considered difficult due to vague definition during the color transition and lack of digital description for color change2020\tPMC7493899\tapp\tpurified\tWe demonstrated the feasibility of the quantification of colorimetric isothermal amplification on the smartphone and its open-source app using the purified genomic DNA templates as well as the bacterial cells (Fig.  S6 ).\t We demonstrated the feasibility of the quantification of colorimetric isothermal amplification on the smartphone and its open-source [GENE] using the [EXPE] genomic DNA templates as well as the bacterial cells (Fig  S6 )2020\tPMC7493912\tran\tscreening\tThe trial, which ran between May 2017 and May 2019 in central Côte d’Ivoire in the Gbèkè district, aimed to investigate whether the use of screening plus EaveTubes (SET) on top of universal coverage of LLINs (PermaNet 2.0), provides greater protection against malaria than LLINs alone.\t The trial which [GENE] between May 2017 and May 2019 in central Côte d’Ivoire in the Gbèkè district aimed to investigate whether the use of [EXPE] plus EaveTubes (SET) on top of universal coverage of LLINs (PermaNet 20) provides greater protection against malaria than LLINs alone2020\tPMC7493912\tcrt\tmicroarray\tAll of the villages involved in the CRT were at least 2 km apart; however, to capture the whole range of over/under expressed genes in mosquitoes from the study area, two villages much further away from each other were selected for microarray analysis.\t All of the villages involved in the [GENE] were at least 2 km apart; however to capture the whole range of over/under expressed genes in mosquitoes from the study area two villages much further away from each other were selected for [EXPE] analysis2020\tPMC7493914\tmsc\tflow cytometry\tUsing flow cytometry, we evaluated the stem cell characteristics of each population, including the colony-forming ability, proliferation, and expression of MSC markers.\t Using [EXPE] we evaluated the stem cell characteristics of each population including the colony-forming ability proliferation and expression of [GENE] markers2020\tPMC7493914\tcd29\tstained\tAfter filtration, the collected cells were stained with fluorescent-labelled antibodies targeting the mesenchymal cell surface markers CD73, CD29, CD44, CD73, CD90, CD271, CD31, CD45, and CD235a.\t After filtration the collected cells were [EXPE] with fluorescent-labelled antibodies targeting the mesenchymal cell surface markers CD73 [GENE] CD44 CD73 CD90 CD271 CD31 CD45 and CD235a2020\tPMC7493914\tcd73\tfiltration\tAfter filtration, the collected cells were stained with fluorescent-labelled antibodies targeting the mesenchymal cell surface markers CD73, CD29, CD44, CD73, CD90, CD271, CD31, CD45, and CD235a.\t After [EXPE] the collected cells were stained with fluorescent-labelled antibodies targeting the mesenchymal cell surface markers CD73 CD29 CD44 [GENE] CD90 CD271 CD31 CD45 and CD235a2020\tPMC7493914\tcd73\tstained\tAfter filtration, the collected cells were stained with fluorescent-labelled antibodies targeting the mesenchymal cell surface markers CD73, CD29, CD44, CD73, CD90, CD271, CD31, CD45, and CD235a.\t After filtration the collected cells were [EXPE] with fluorescent-labelled antibodies targeting the mesenchymal cell surface markers CD73 CD29 CD44 [GENE] CD90 CD271 CD31 CD45 and CD235a2020\tPMC7493914\tcd90\tstained\tAfter filtration, the collected cells were stained with fluorescent-labelled antibodies targeting the mesenchymal cell surface markers CD73, CD29, CD44, CD73, CD90, CD271, CD31, CD45, and CD235a.\t After filtration the collected cells were [EXPE] with fluorescent-labelled antibodies targeting the mesenchymal cell surface markers CD73 CD29 CD44 CD73 [GENE] CD271 CD31 CD45 and CD235a2020\tPMC7493914\tcd271\tfiltration\tAfter filtration, the collected cells were stained with fluorescent-labelled antibodies targeting the mesenchymal cell surface markers CD73, CD29, CD44, CD73, CD90, CD271, CD31, CD45, and CD235a.\t After [EXPE] the collected cells were stained with fluorescent-labelled antibodies targeting the mesenchymal cell surface markers CD73 CD29 CD44 CD73 CD90 [GENE] CD31 CD45 and CD235a2020\tPMC7493914\tcd31\tstained\tAfter filtration, the collected cells were stained with fluorescent-labelled antibodies targeting the mesenchymal cell surface markers CD73, CD29, CD44, CD73, CD90, CD271, CD31, CD45, and CD235a.\t After filtration the collected cells were [EXPE] with fluorescent-labelled antibodies targeting the mesenchymal cell surface markers CD73 CD29 CD44 CD73 CD90 CD271 [GENE] CD45 and CD235a2020\tPMC7493914\tcd235a\tfiltration\tAfter filtration, the collected cells were stained with fluorescent-labelled antibodies targeting the mesenchymal cell surface markers CD73, CD29, CD44, CD73, CD90, CD271, CD31, CD45, and CD235a.\t After [EXPE] the collected cells were stained with fluorescent-labelled antibodies targeting the mesenchymal cell surface markers CD73 CD29 CD44 CD73 CD90 CD271 CD31 CD45 and [GENE]2020\tPMC7493914\tcd235a\tstained\tAfter filtration, the collected cells were stained with fluorescent-labelled antibodies targeting the mesenchymal cell surface markers CD73, CD29, CD44, CD73, CD90, CD271, CD31, CD45, and CD235a.\t After filtration the collected cells were [EXPE] with fluorescent-labelled antibodies targeting the mesenchymal cell surface markers CD73 CD29 CD44 CD73 CD90 CD271 CD31 CD45 and [GENE]2020\tPMC7493914\tmsc\tflow cytometry\tFlow cytometry demonstrated that freshly harvested cells (labelled with the suffix “_tissue” in Fig.  3 ) rarely expressed MSC markers.\t [EXPE] demonstrated that freshly harvested cells (labelled with the suffix “_tissue” in Fig  3 ) rarely expressed [GENE] markers2020\tPMC7493914\tgmp\tfacs\tAlthough FACS is frequently used in the laboratory usages, a clinical grade (Good Manufacturing Practice; GMP-grade) flow cytometry has several disadvantages such as low speed, a GMP facility space and cost consuming.\t Although [EXPE] is frequently used in the laboratory usages a clinical grade (Good Manufacturing Practice; GMP-grade) flow cytometry has several disadvantages such as low speed a [GENE] facility space and cost consuming2020\tPMC7493914\tgmp\tflow cytometry\tAlthough FACS is frequently used in the laboratory usages, a clinical grade (Good Manufacturing Practice; GMP-grade) flow cytometry has several disadvantages such as low speed, a GMP facility space and cost consuming.\t Although FACS is frequently used in the laboratory usages a clinical grade (Good Manufacturing Practice; GMP-grade) [EXPE] has several disadvantages such as low speed a [GENE] facility space and cost consuming2020\tPMC7493914\taria\tflow cytometry\tFlow cytometry and sorting were performed on a FACS Aria II instrument (BD).\t [EXPE] and sorting were performed on a FACS [GENE] II instrument (BD)2020\tPMC7493914\taria\tfacs\tPI fluorescence was used to remove dead cells, and APC-conjugated anti-CD73 (Biolegend) was used for single-colour staining, followed by sorting with flow cytometry analysis on the FACS Aria II system (BD).\t PI fluorescence was used to remove dead cells and APC-conjugated anti-CD73 (Biolegend) was used for single-colour staining followed by sorting with flow cytometry analysis on the [EXPE] [GENE] II system (BD)2020\tPMC7493926\ttrefoil factor 1\tinhibitor\tFor example, urinary trefoil factor 1 (TFF1) can inhibit calcium oxalate crystal growth and aggregation 6 , 7 , whereas bikunin (urinary trypsin inhibitor or α-1-microglobulin) can inhibit calcium oxalate crystallization, growth, and aggregation 8 , 9 .\t For example urinary [GENE] (TFF1) can inhibit calcium oxalate crystal growth and aggregation 6  7  whereas bikunin (urinary trypsin [EXPE] or α-1-microglobulin) can inhibit calcium oxalate crystallization growth and aggregation 8  92020\tPMC7493926\ttrefoil factor 1\tcrystallization\tFor example, urinary trefoil factor 1 (TFF1) can inhibit calcium oxalate crystal growth and aggregation 6 , 7 , whereas bikunin (urinary trypsin inhibitor or α-1-microglobulin) can inhibit calcium oxalate crystallization, growth, and aggregation 8 , 9 .\t For example urinary [GENE] (TFF1) can inhibit calcium oxalate crystal growth and aggregation 6  7  whereas bikunin (urinary trypsin inhibitor or α-1-microglobulin) can inhibit calcium oxalate [EXPE] growth and aggregation 8  92020\tPMC7493926\tbikunin\tcrystal\tFor example, urinary trefoil factor 1 (TFF1) can inhibit calcium oxalate crystal growth and aggregation 6 , 7 , whereas bikunin (urinary trypsin inhibitor or α-1-microglobulin) can inhibit calcium oxalate crystallization, growth, and aggregation 8 , 9 .\t For example urinary trefoil factor 1 (TFF1) can inhibit calcium oxalate [EXPE] growth and aggregation 6  7  whereas [GENE] (urinary trypsin inhibitor or α-1-microglobulin) can inhibit calcium oxalate crystallization growth and aggregation 8  92020\tPMC7493926\tbikunin\tinhibitor\tFor example, urinary trefoil factor 1 (TFF1) can inhibit calcium oxalate crystal growth and aggregation 6 , 7 , whereas bikunin (urinary trypsin inhibitor or α-1-microglobulin) can inhibit calcium oxalate crystallization, growth, and aggregation 8 , 9 .\t For example urinary trefoil factor 1 (TFF1) can inhibit calcium oxalate crystal growth and aggregation 6  7  whereas [GENE] (urinary trypsin [EXPE] or α-1-microglobulin) can inhibit calcium oxalate crystallization growth and aggregation 8  92020\tPMC7493926\tsymbol\tuniprot\tIn either case, the search result will show brief information of the resulting modulator, including its StoneMod ID, protein name, UniProt ID, gene name, and gene symbol (Fig.  4 F).\t In either case the search result will show brief information of the resulting modulator including its StoneMod ID protein name [EXPE] ID gene name and gene [GENE] (Fig  4 F)2020\tPMC7493926\tsymbol\tncbi\tThe gene information (retrieved mainly from the NCBI Gene database) provides gene name, gene symbol, and hyperlink to the gene annotation database (i.e., Ensembl) (Fig.  5 ; panel (ii)).\t The gene information (retrieved mainly from the [EXPE] Gene database) provides gene name gene [GENE] and hyperlink to the gene annotation database (ie Ensembl) (Fig  5 ; panel (ii))2020\tPMC7493926\tsymbol\tdatabase\tThe gene information (retrieved mainly from the NCBI Gene database) provides gene name, gene symbol, and hyperlink to the gene annotation database (i.e., Ensembl) (Fig.  5 ; panel (ii)).\t The gene information (retrieved mainly from the NCBI Gene database) provides gene name gene [GENE] and hyperlink to the gene annotation [EXPE] (ie Ensembl) (Fig  5 ; panel (ii))2020\tPMC7493926\tosteopontin\tcrystal\tFor example, there are three modulators (albumin, osteopontin, and uromodulin) that are in the “contradictory” category for crystal growth (Fig.  4 C).\t For example there are three modulators (albumin [GENE] and uromodulin) that are in the “contradictory” category for [EXPE] growth (Fig  4 C)2020\tPMC7493926\tsymbol\tncbi\tFor gene information, gene name and symbol were retrieved from the NCBI Gene database ( https://www.ncbi.nlm.nih.gov/gene ) 16 .\t For gene information gene name and [GENE] were retrieved from the [EXPE] Gene database ( https://wwwncbinlmnihgov/gene ) 162020\tPMC7493926\tsymbol\tdatabase\tFor gene information, gene name and symbol were retrieved from the NCBI Gene database ( https://www.ncbi.nlm.nih.gov/gene ) 16 .\t For gene information gene name and [GENE] were retrieved from the NCBI Gene [EXPE] ( https://wwwncbinlmnihgov/gene ) 162020\tPMC7493926\tphp\tdatabase\tStoneMod database website was built by using WampServer ( https://www.wampserver.com ), which is a freely open-source and cross-platform server that supports applications and creation of database using Apache2, PHP and MySQL in Linux subsystem.\t StoneMod [EXPE] website was built by using WampServer ( https://wwwwampservercom ) which is a freely open-source and cross-platform server that supports applications and creation of database using Apache2 [GENE] and MySQL in Linux subsystem2020\tPMC7493926\tphp\tdatabase\tStoneMod database website was built by using WampServer ( https://www.wampserver.com ), which is a freely open-source and cross-platform server that supports applications and creation of database using Apache2, PHP and MySQL in Linux subsystem.\t StoneMod database website was built by using WampServer ( https://wwwwampservercom ) which is a freely open-source and cross-platform server that supports applications and creation of [EXPE] using Apache2 [GENE] and MySQL in Linux subsystem2020\tPMC7493927\tpbt\tdatabase\tUsing the database of electronic medical records at our hospital, age, gender, body mass index (BMI), primary disease diagnosis, performance status (PS) (0–4), and details of treatment before PBT (chemotherapy, other radiotherapy, presence or absence of surgery) were extracted for each patient.\t Using the [EXPE] of electronic medical records at our hospital age gender body mass index (BMI) primary disease diagnosis performance status (PS) (0–4) and details of treatment before [GENE] (chemotherapy other radiotherapy presence or absence of surgery) were extracted for each patient2020\tPMC7493927\tpbt\timaging\tTo determine whether general anaesthesia or sedation was necessary during PBT, an anaesthesiologist participated in CT imaging during treatment planning.\t To determine whether general anaesthesia or sedation was necessary during [GENE] an anaesthesiologist participated in CT [EXPE] during treatment planning2020\tPMC7493930\tinsulin\tblock\tTNF-α leads to stimulation IKKβ/NF-κB pathway that causes serine kinase phosphorylation of insulin receptor substrates (IRSs), which can block insulin signaling and eventually lead to the occurrence of IR.\t TNF-α leads to stimulation IKKβ/NF-κB pathway that causes serine kinase phosphorylation of [GENE] receptor substrates (IRSs) which can [EXPE] insulin signaling and eventually lead to the occurrence of IR2020\tPMC7493930\tinsulin receptor\tblock\tTNF-α leads to stimulation IKKβ/NF-κB pathway that causes serine kinase phosphorylation of insulin receptor substrates (IRSs), which can block insulin signaling and eventually lead to the occurrence of IR.\t TNF-α leads to stimulation IKKβ/NF-κB pathway that causes serine kinase phosphorylation of [GENE] substrates (IRSs) which can [EXPE] insulin signaling and eventually lead to the occurrence of IR2020\tPMC7493930\tinsulin\tblock\tTNF-α leads to stimulation IKKβ/NF-κB pathway that causes serine kinase phosphorylation of insulin receptor substrates (IRSs), which can block insulin signaling and eventually lead to the occurrence of IR.\t TNF-α leads to stimulation IKKβ/NF-κB pathway that causes serine kinase phosphorylation of insulin receptor substrates (IRSs) which can [EXPE] [GENE] signaling and eventually lead to the occurrence of IR2020\tPMC7493930\tnps\tsem\tThe SEM result estimated the diameter of NPs in the range of 30–50 nm.\t The [EXPE] result estimated the diameter of [GENE] in the range of 30–50 nm2020\tPMC7493930\tbace1\trestored\tQCSPIONs restored the excessive expression levels of BACE1 and AβPP towards control values better than pure QC (fold change = 0.91,  P  = 0.0017 for BACE1 and fold change = 1.20,  P  = 0.0067 for AβPP).\t QCSPIONs [EXPE] the excessive expression levels of [GENE] and AβPP towards control values better than pure QC (fold change = 091  P  = 00017 for BACE1 and fold change = 120  P  = 00067 for AβPP)2020\tPMC7493930\tbace1\trestored\tQCSPIONs restored the excessive expression levels of BACE1 and AβPP towards control values better than pure QC (fold change = 0.91,  P  = 0.0017 for BACE1 and fold change = 1.20,  P  = 0.0067 for AβPP).\t QCSPIONs [EXPE] the excessive expression levels of BACE1 and AβPP towards control values better than pure QC (fold change = 091  P  = 00017 for [GENE] and fold change = 120  P  = 00067 for AβPP)2020\tPMC7493930\tbace1\tinhibitors\tFurthermore, the structure of all studied inhibitors of BACE1 are represented in Fig.  5 A. General view of interactions of Lanabecestat-BACE1 (Fig.  5 B) and QC-BACE1 (Fig.  5 C) complexes where represented.\t Furthermore the structure of all studied [EXPE] of [GENE] are represented in Fig  5 A General view of interactions of Lanabecestat-BACE1 (Fig  5 B) and QC-BACE1 (Fig  5 C) complexes where represented2020\tPMC7493930\tbace1\tinhibitors\tLanabecestat-BACE1 complex was selected for representation as it contains the lowest binding free energy compared to other inhibitors of BACE1.\t Lanabecestat-BACE1 complex was selected for representation as it contains the lowest binding free energy compared to other [EXPE] of [GENE]2020\tPMC7493930\tbace1\tinhibitor\tTherefore, QC would be suggested as a better inhibitor for IKK and BACE1, as the interaction energy between QC and both proteins was lower than the binding energy between the protein and different inhibitors targeted IKK and BACE1.\t Therefore QC would be suggested as a better [EXPE] for IKK and [GENE] as the interaction energy between QC and both proteins was lower than the binding energy between the protein and different inhibitors targeted IKK and BACE12020\tPMC7493930\tbace1\tinhibitor\tTherefore, QC would be suggested as a better inhibitor for IKK and BACE1, as the interaction energy between QC and both proteins was lower than the binding energy between the protein and different inhibitors targeted IKK and BACE1.\t Therefore QC would be suggested as a better [EXPE] for IKK and BACE1 as the interaction energy between QC and both proteins was lower than the binding energy between the protein and different inhibitors targeted IKK and [GENE]2020\tPMC7493930\tbace1\tinhibitors\tTherefore, QC would be suggested as a better inhibitor for IKK and BACE1, as the interaction energy between QC and both proteins was lower than the binding energy between the protein and different inhibitors targeted IKK and BACE1.\t Therefore QC would be suggested as a better inhibitor for IKK and BACE1 as the interaction energy between QC and both proteins was lower than the binding energy between the protein and different [EXPE] targeted IKK and [GENE]2020\tPMC7493930\ttraf6\tinhibitors\tHowever, results obtained for other 3 proteins including NF-κB, TNF-α, and TRAF6 indicate that the binding energy between proteins and its specific inhibitors was lower than or similar to protein-QC.\t However results obtained for other 3 proteins including NF-κB TNF-α and [GENE] indicate that the binding energy between proteins and its specific [EXPE] was lower than or similar to protein-QC2020\tPMC7493930\tp65\tinhibition\tKaltschmidt and colleague revealed that inhibition of NF-κB by repressor IkB or Knockout of p65 in neuronal cells led to defects in neuroprotection and loss of learning and memory.\t Kaltschmidt and colleague revealed that [EXPE] of NF-κB by repressor IkB or Knockout of [GENE] in neuronal cells led to defects in neuroprotection and loss of learning and memory2020\tPMC7493930\ttraf6\tinhibitor\tSTZ, streptozotocin; TLR, Toll-like receptors; MYD88, Myeloid differentiation primary response gene 88; IRAK, Interleukin 1 Receptor Associated Kinase 1; TRAF6, TNF receptor-associated factor 6; IKK, Inhibitor of nuclear factor Kappa-B kinase; NF-κB, Nuclear factor-kappa BAPP, Amyloid precursor protein; BACE1, β-site amyloid precursor protein cleaving enzyme 1; BCL-2, B-cell lymphoma 2; BAX, BCL2-associated X protein.\t STZ streptozotocin; TLR Toll-like receptors; MYD88 Myeloid differentiation primary response gene 88; IRAK Interleukin 1 Receptor Associated Kinase 1; [GENE] TNF receptor-associated factor 6; IKK [EXPE] of nuclear factor Kappa-B kinase; NF-κB Nuclear factor-kappa BAPP Amyloid precursor protein; BACE1 β-site amyloid precursor protein cleaving enzyme 1; BCL-2 B-cell lymphoma 2; BAX BCL2-associated X protein2020\tPMC7493930\tbcl-2\tinhibitor\tSTZ, streptozotocin; TLR, Toll-like receptors; MYD88, Myeloid differentiation primary response gene 88; IRAK, Interleukin 1 Receptor Associated Kinase 1; TRAF6, TNF receptor-associated factor 6; IKK, Inhibitor of nuclear factor Kappa-B kinase; NF-κB, Nuclear factor-kappa BAPP, Amyloid precursor protein; BACE1, β-site amyloid precursor protein cleaving enzyme 1; BCL-2, B-cell lymphoma 2; BAX, BCL2-associated X protein.\t STZ streptozotocin; TLR Toll-like receptors; MYD88 Myeloid differentiation primary response gene 88; IRAK Interleukin 1 Receptor Associated Kinase 1; TRAF6 TNF receptor-associated factor 6; IKK [EXPE] of nuclear factor Kappa-B kinase; NF-κB Nuclear factor-kappa BAPP Amyloid precursor protein; BACE1 β-site amyloid precursor protein cleaving enzyme 1; [GENE] B-cell lymphoma 2; BAX BCL2-associated X protein2020\tPMC7493930\tbax\tinhibitor\tSTZ, streptozotocin; TLR, Toll-like receptors; MYD88, Myeloid differentiation primary response gene 88; IRAK, Interleukin 1 Receptor Associated Kinase 1; TRAF6, TNF receptor-associated factor 6; IKK, Inhibitor of nuclear factor Kappa-B kinase; NF-κB, Nuclear factor-kappa BAPP, Amyloid precursor protein; BACE1, β-site amyloid precursor protein cleaving enzyme 1; BCL-2, B-cell lymphoma 2; BAX, BCL2-associated X protein.\t STZ streptozotocin; TLR Toll-like receptors; MYD88 Myeloid differentiation primary response gene 88; IRAK Interleukin 1 Receptor Associated Kinase 1; TRAF6 TNF receptor-associated factor 6; IKK [EXPE] of nuclear factor Kappa-B kinase; NF-κB Nuclear factor-kappa BAPP Amyloid precursor protein; BACE1 β-site amyloid precursor protein cleaving enzyme 1; BCL-2 B-cell lymphoma 2; [GENE] BCL2-associated X protein2020\tPMC7493930\tbace1\toverexpression\tFurthermore, our results showed a significant upregulation of miR-9 in the hippocampus of diabetic rats (Fig.  2 ) which is another response to the excessive expression of NF-κB and the abnormal inflammatory condition, because miR-9 can directly regulate NF-κB. Excessive expression of miR-9 may also be responsible for overexpression of BACE1 because modulation of BACE1 by miR-9 has been previously reported as the role of this miRNA in AD development 64 .\t Furthermore our results showed a significant upregulation of miR-9 in the hippocampus of diabetic rats (Fig  2 ) which is another response to the excessive expression of NF-κB and the abnormal inflammatory condition because miR-9 can directly regulate NF-κB Excessive expression of miR-9 may also be responsible for [EXPE] of BACE1 because modulation of [GENE] by miR-9 has been previously reported as the role of this miRNA in AD development 642020\tPMC7493934\tam2\tgenotype\tThe averaged allele frequencies suggests that the relative frequency of AM2 genotype to the D5/T32 genotype ranges from 67 to 73% (Supplementary Figure  S6A ).\t The averaged allele frequencies suggests that the relative frequency of [GENE] [EXPE] to the D5/T32 genotype ranges from 67 to 73% (Supplementary Figure  S6A )2020\tPMC7493934\tspin\tpurified\tDNA recovered from the aqueous phase was purified via silica gel spin filtration (Collection Tube 2 of the MoBio kit).\t DNA recovered from the aqueous phase was [EXPE] via silica gel [GENE] filtration (Collection Tube 2 of the MoBio kit)2020\tPMC7493939\tipl\timaging\tImaging contrasts of memory paradigms that require retrieval of perceptual information show activation of the right IPL in 96% (43/45) of cases.\t [EXPE] contrasts of memory paradigms that require retrieval of perceptual information show activation of the right [GENE] in 96% (43/45) of cases2020\tPMC7493939\tipl\timaging\tFigure  1 B illustrates the proportion of these semantically, and perceptually defined imaging contrasts that were associated with IPL activations in each hemisphere.\t Figure  1 B illustrates the proportion of these semantically and perceptually defined [EXPE] contrasts that were associated with [GENE] activations in each hemisphere2020\tPMC7493940\tcat\telectroporation\tWe then brought zoospores to a final concentration of 1 × 10 7  zoospores/mL. In preparation for electroporation, we loaded 100 uL of this 1 × 10 7  zoospores/mL suspension into a 0.2 cm electroporation cuvette (Bulldog Bio 12,358–346) along with either: 100 uL of 2 mg/mL 3000MWCO fluorescein-labelled dextrans (Thermo-Fisher, Cat. no. 3305) in SM buffer for experimental treatments, or 100 uL SM buffer for control treatments.\t We then brought zoospores to a final concentration of 1 × 10 7  zoospores/mL In preparation for [EXPE] we loaded 100 uL of this 1 × 10 7  zoospores/mL suspension into a 02 cm electroporation cuvette (Bulldog Bio 12358–346) along with either: 100 uL of 2 mg/mL 3000MWCO fluorescein-labelled dextrans (Thermo-Fisher [GENE] no 3305) in SM buffer for experimental treatments or 100 uL SM buffer for control treatments2020\tPMC7493940\tnis\tflow cytometry\tTo corroborate flow cytometry measurements, we imaged live cells on a Nikon Ti2-E inverted microscope equipped with a 100 × PlanApo objective and sCMOS 4mp camera (PCO Panda) using NIS Elements software to capture images in FITC (LED illuminator at 488 nm) and DIC (white LED transmitted light) images.\t To corroborate [EXPE] measurements we imaged live cells on a Nikon Ti2-E inverted microscope equipped with a 100 × PlanApo objective and sCMOS 4mp camera (PCO Panda) using [GENE] Elements software to capture images in FITC (LED illuminator at 488 nm) and DIC (white LED transmitted light) images2020\tPMC7493940\tdic\tflow cytometry\tTo corroborate flow cytometry measurements, we imaged live cells on a Nikon Ti2-E inverted microscope equipped with a 100 × PlanApo objective and sCMOS 4mp camera (PCO Panda) using NIS Elements software to capture images in FITC (LED illuminator at 488 nm) and DIC (white LED transmitted light) images.\t To corroborate [EXPE] measurements we imaged live cells on a Nikon Ti2-E inverted microscope equipped with a 100 × PlanApo objective and sCMOS 4mp camera (PCO Panda) using NIS Elements software to capture images in FITC (LED illuminator at 488 nm) and [GENE] (white LED transmitted light) images2020\tPMC7493962\trad\tvisualized\tGels were visualized using BIO RAD Faros FX Molecular Imager (532 nm EX, 605 nm BP), and quantification was performed using Quantity One software.\t Gels were [EXPE] using BIO [GENE] Faros FX Molecular Imager (532 nm EX 605 nm BP) and quantification was performed using Quantity One software2020\tPMC7493962\tnan\tnmr\tThe heteronuclear NMR experiments 58  were recorded with uniformly  15 N-labeled HUSpm (1 mM, dissolved in 50 mM Na 2 HPO 4 /NaH 2 PO 4  buffer containing 0.1 mM NaN 3  in 95/5 H 2 O/D 2 O (v/v) mixture with pH 7.2) at 30 °C on Varian NMR-system 700 MHz spectrometer (Varian-Agilent, USA) equipped with  1 H/ 13 C/ 15 N gradient cryoprobe.\t The heteronuclear [EXPE] experiments 58  were recorded with uniformly  15 N-labeled HUSpm (1 mM dissolved in 50 mM Na 2 HPO 4 /NaH 2 PO 4  buffer containing 01 mM [GENE] 3  in 95/5 H 2 O/D 2 O (v/v) mixture with pH 72) at 30 °C on Varian NMR-system 700 MHz spectrometer (Varian-Agilent USA) equipped with  1 H/ 13 C/ 15 N gradient cryoprobe2020\tPMC7493991\tcd4\tstaining\tIn brief, for cell surface staining, 0.1 × 10 6  cells/50 µl in staining buffer were incubated with a cocktail containing anti-human antibodies against CD3 (APCH7, clone SK7), CD4 (PerCP/Cy5.5, clone HIT8a and FITC, clone RPA-T4), IL-6R (PE-Cy7, cloneUV4) and IL-23R (PE, clone 218213) for 45 min at 4 °C.\t In brief for cell surface [EXPE] 01 × 10 6  cells/50 µl in staining buffer were incubated with a cocktail containing anti-human antibodies against CD3 (APCH7 clone SK7) [GENE] (PerCP/Cy55 clone HIT8a and FITC clone RPA-T4) IL-6R (PE-Cy7 cloneUV4) and IL-23R (PE clone 218213) for 45 min at 4 °C2020\tPMC7493991\tcd4\tstaining\tIn brief, for cell surface staining, 0.1 × 10 6  cells/50 µl in staining buffer were incubated with a cocktail containing anti-human antibodies against CD3 (APCH7, clone SK7), CD4 (PerCP/Cy5.5, clone HIT8a and FITC, clone RPA-T4), IL-6R (PE-Cy7, cloneUV4) and IL-23R (PE, clone 218213) for 45 min at 4 °C.\t In brief for cell surface staining 01 × 10 6  cells/50 µl in [EXPE] buffer were incubated with a cocktail containing anti-human antibodies against CD3 (APCH7 clone SK7) [GENE] (PerCP/Cy55 clone HIT8a and FITC clone RPA-T4) IL-6R (PE-Cy7 cloneUV4) and IL-23R (PE clone 218213) for 45 min at 4 °C2020\tPMC7493991\til-23r\tstaining\tIn brief, for cell surface staining, 0.1 × 10 6  cells/50 µl in staining buffer were incubated with a cocktail containing anti-human antibodies against CD3 (APCH7, clone SK7), CD4 (PerCP/Cy5.5, clone HIT8a and FITC, clone RPA-T4), IL-6R (PE-Cy7, cloneUV4) and IL-23R (PE, clone 218213) for 45 min at 4 °C.\t In brief for cell surface [EXPE] 01 × 10 6  cells/50 µl in staining buffer were incubated with a cocktail containing anti-human antibodies against CD3 (APCH7 clone SK7) CD4 (PerCP/Cy55 clone HIT8a and FITC clone RPA-T4) IL-6R (PE-Cy7 cloneUV4) and [GENE] (PE clone 218213) for 45 min at 4 °C2020\tPMC7493991\tdiva\tfacs\tMulti-color flow cytometry analysis was performed on FACS canto with DIVA software (BD Bioscience, USA).\t Multi-color flow cytometry analysis was performed on [EXPE] canto with [GENE] software (BD Bioscience USA)2020\tPMC7493991\tcd8\tflow cytometry\tThe following anti-human flurochrome labeled antibodies against CD3 (Per cpcy-5.5, clone: UCHT1), CD4 (APC-H7, clone: SK3), CD8 (PE-Cy7, clone: RPA-T8), CD25 (FITC, clone: M-A251) and FOXP3 (APC, clone: 259D/C7) for cell sorting by flow cytometry on BD FACS AriaTM as per manufacturer’s instructions.\t The following anti-human flurochrome labeled antibodies against CD3 (Per cpcy-55 clone: UCHT1) CD4 (APC-H7 clone: SK3) [GENE] (PE-Cy7 clone: RPA-T8) CD25 (FITC clone: M-A251) and FOXP3 (APC clone: 259D/C7) for cell sorting by [EXPE] on BD FACS AriaTM as per manufacturer’s instructions2020\tPMC7493991\tcd8\tfacs\tThe following anti-human flurochrome labeled antibodies against CD3 (Per cpcy-5.5, clone: UCHT1), CD4 (APC-H7, clone: SK3), CD8 (PE-Cy7, clone: RPA-T8), CD25 (FITC, clone: M-A251) and FOXP3 (APC, clone: 259D/C7) for cell sorting by flow cytometry on BD FACS AriaTM as per manufacturer’s instructions.\t The following anti-human flurochrome labeled antibodies against CD3 (Per cpcy-55 clone: UCHT1) CD4 (APC-H7 clone: SK3) [GENE] (PE-Cy7 clone: RPA-T8) CD25 (FITC clone: M-A251) and FOXP3 (APC clone: 259D/C7) for cell sorting by flow cytometry on BD [EXPE] AriaTM as per manufacturer’s instructions2020\tPMC7493991\tcd25\tflow cytometry\tThe following anti-human flurochrome labeled antibodies against CD3 (Per cpcy-5.5, clone: UCHT1), CD4 (APC-H7, clone: SK3), CD8 (PE-Cy7, clone: RPA-T8), CD25 (FITC, clone: M-A251) and FOXP3 (APC, clone: 259D/C7) for cell sorting by flow cytometry on BD FACS AriaTM as per manufacturer’s instructions.\t The following anti-human flurochrome labeled antibodies against CD3 (Per cpcy-55 clone: UCHT1) CD4 (APC-H7 clone: SK3) CD8 (PE-Cy7 clone: RPA-T8) [GENE] (FITC clone: M-A251) and FOXP3 (APC clone: 259D/C7) for cell sorting by [EXPE] on BD FACS AriaTM as per manufacturer’s instructions2020\tPMC7493991\tcd25\tfacs\tThe following anti-human flurochrome labeled antibodies against CD3 (Per cpcy-5.5, clone: UCHT1), CD4 (APC-H7, clone: SK3), CD8 (PE-Cy7, clone: RPA-T8), CD25 (FITC, clone: M-A251) and FOXP3 (APC, clone: 259D/C7) for cell sorting by flow cytometry on BD FACS AriaTM as per manufacturer’s instructions.\t The following anti-human flurochrome labeled antibodies against CD3 (Per cpcy-55 clone: UCHT1) CD4 (APC-H7 clone: SK3) CD8 (PE-Cy7 clone: RPA-T8) [GENE] (FITC clone: M-A251) and FOXP3 (APC clone: 259D/C7) for cell sorting by flow cytometry on BD [EXPE] AriaTM as per manufacturer’s instructions2020\tPMC7493991\tfoxp3\tflow cytometry\tThe following anti-human flurochrome labeled antibodies against CD3 (Per cpcy-5.5, clone: UCHT1), CD4 (APC-H7, clone: SK3), CD8 (PE-Cy7, clone: RPA-T8), CD25 (FITC, clone: M-A251) and FOXP3 (APC, clone: 259D/C7) for cell sorting by flow cytometry on BD FACS AriaTM as per manufacturer’s instructions.\t The following anti-human flurochrome labeled antibodies against CD3 (Per cpcy-55 clone: UCHT1) CD4 (APC-H7 clone: SK3) CD8 (PE-Cy7 clone: RPA-T8) CD25 (FITC clone: M-A251) and [GENE] (APC clone: 259D/C7) for cell sorting by [EXPE] on BD FACS AriaTM as per manufacturer’s instructions2020\tPMC7493991\tfoxp3\tfacs\tThe following anti-human flurochrome labeled antibodies against CD3 (Per cpcy-5.5, clone: UCHT1), CD4 (APC-H7, clone: SK3), CD8 (PE-Cy7, clone: RPA-T8), CD25 (FITC, clone: M-A251) and FOXP3 (APC, clone: 259D/C7) for cell sorting by flow cytometry on BD FACS AriaTM as per manufacturer’s instructions.\t The following anti-human flurochrome labeled antibodies against CD3 (Per cpcy-55 clone: UCHT1) CD4 (APC-H7 clone: SK3) CD8 (PE-Cy7 clone: RPA-T8) CD25 (FITC clone: M-A251) and [GENE] (APC clone: 259D/C7) for cell sorting by flow cytometry on BD [EXPE] AriaTM as per manufacturer’s instructions2020\tPMC7493991\thprt1\tq-pcr\tThese were then subjected to q-PCR (ABI 7000, Applied Bio-systems, Singapore) for 2 h. Threshold cycle (Ct) values of specific gene were normalized with housekeeping genes ( β2M ,  HPRT1 ,  RPL13A ,  GAPDH  and  ACTB ) and expressed as ΔCt (Table  2 ).\t These were then subjected to [EXPE] (ABI 7000 Applied Bio-systems Singapore) for 2 h Threshold cycle (Ct) values of specific gene were normalized with housekeeping genes ( β2M   [GENE]   RPL13A   GAPDH  and  ACTB ) and expressed as ΔCt (Table  2 )2020\tPMC7493991\tcd4\tin situ\tTable 2 In situ gene expression (Mean ± SD) of Th17 signature and associated molecules in CD3 + CD4 +  T cells isolated from 48 h MLSA stimulated PBMCs.\t Table 2 [EXPE] gene expression (Mean ± SD) of Th17 signature and associated molecules in CD3 + [GENE] +  T cells isolated from 48 h MLSA stimulated PBMCs2020\tPMC7493991\tcd4\tqpcr\tGene expression of isolated CD4 +  T cells of leprosy patients (NR vs T1R) were analyzed for 21 signature genes of Th17 lineage and associated molecules with a rationale to understand the differences between the immunopathology/inflammation associated with localized T1R reactions via qPCR assay (Fig.  1 ).\t Gene expression of isolated [GENE] +  T cells of leprosy patients (NR vs T1R) were analyzed for 21 signature genes of Th17 lineage and associated molecules with a rationale to understand the differences between the immunopathology/inflammation associated with localized T1R reactions via [EXPE] assay (Fig  1 )2020\tPMC7493991\til-17a\telisa\tMoving ahead we next estimated the protein levels of IL-17A by sandwich ELISA in supernatants of all combinations of T1R and NR patients.\t Moving ahead we next estimated the protein levels of [GENE] by sandwich [EXPE] in supernatants of all combinations of T1R and NR patients2020\tPMC7493991\til-6\tinhibition\tA report by Heink et al. 36  showed many sources of IL-6 production via different mechanisms involved in generation of pathogenic Th17 cells and the inhibition of Treg cells in-vivo.\t A report by Heink et al 36  showed many sources of [GENE] production via different mechanisms involved in generation of pathogenic Th17 cells and the [EXPE] of Treg cells in-vivo2020\tPMC7493991\til-6\tinfection\tTherefore, increased IL-6R expression might be due to engagement of IL-6, the production of which is able to reduce  Mycobacterium  infection 42 , 43 .\t Therefore increased IL-6R expression might be due to engagement of [GENE] the production of which is able to reduce  Mycobacterium  [EXPE] 42  432020\tPMC7493991\tth1\tinhibited\tMore significantly, our in-vitro data showed that blocking of IL-6R signaling on CD4 +  T cells significantly inhibited non-specific (PHA-stimulated) and MLSA specific production of IL-17A, but not IFN-γ as IL-6 is not involved in Th1 cell differentiation.\t More significantly our in-vitro data showed that blocking of IL-6R signaling on CD4 +  T cells significantly [EXPE] non-specific (PHA-stimulated) and MLSA specific production of IL-17A but not IFN-γ as IL-6 is not involved in [GENE] cell differentiation2020\tPMC7493998\ttnfrsf11b\tstaining\tConsistent with the gene expression results, histochemical staining for osteoclasts revealed increased abundance of osteoclasts in the cortical bone of both  Tnfrsf11b − / −  and  Dmp1-Cre;Tnfrsf11b f/f  mice ( Figure S4 ).\t Consistent with the gene expression results histochemical [EXPE] for osteoclasts revealed increased abundance of osteoclasts in the cortical bone of both  [GENE] − / −  and  Dmp1-Cre;Tnfrsf11b f/f  mice ( Figure S4 )2020\tPMC7493998\topg\tsuppress\tResults from the  Dmp1-Cre -mediated deletion suggest that osteoblasts, osteocytes, muscle cells, or some combination of these are major sources of the OPG that suppress osteoclast formation.\t Results from the  Dmp1-Cre -mediated deletion suggest that osteoblasts osteocytes muscle cells or some combination of these are major sources of the [GENE] that [EXPE] osteoclast formation2020\tPMC7493998\topg\tsuppress\tMoreover, the inability of circulating OPG to suppress bone resorption strongly suggests that the cellular source of OPG must be located near the bone surface, also arguing against a role for myocytes.\t Moreover the inability of circulating [GENE] to [EXPE] bone resorption strongly suggests that the cellular source of OPG must be located near the bone surface also arguing against a role for myocytes2020\tPMC7493998\topg\tsuppress\tMoreover, the inability of circulating OPG to suppress bone resorption strongly suggests that the cellular source of OPG must be located near the bone surface, also arguing against a role for myocytes.\t Moreover the inability of circulating OPG to [EXPE] bone resorption strongly suggests that the cellular source of [GENE] must be located near the bone surface also arguing against a role for myocytes2020\tPMC7493998\ttnfrsf11b\tknockout\tIn contrast to the  Tnfrsf11b − / −  mice, porosity in the conditional knockout mice was not uniform but localized to the lateral, posterior, and medial regions of the cortex, which is evident upon visual examination of sections from all the mice in each group ( Figure S5 ).\t In contrast to the  [GENE] − / −  mice porosity in the conditional [EXPE] mice was not uniform but localized to the lateral posterior and medial regions of the cortex which is evident upon visual examination of sections from all the mice in each group ( Figure S5 )2020\tPMC7493998\trankl\tknockout\tWe observed such a reduction in RANKL conditional knockout mice, which exhibit low numbers of both osteoclasts and osteoblasts ( Fujiwara et al., 2016 ).\t We observed such a reduction in [GENE] conditional [EXPE] mice which exhibit low numbers of both osteoclasts and osteoblasts ( Fujiwara et al 2016 )2020\tPMC7493998\topg\tknockout\tWhile reciprocal regulation of RANKL and OPG in a single cell type may be important for the control of resorption at certain sites, evidence from the current study, combined with RANKL conditional knockout studies, suggests that the cell type producing OPG in remodeling cancellous bone is distinct from the cell type that produces RANKL.\t While reciprocal regulation of RANKL and [GENE] in a single cell type may be important for the control of resorption at certain sites evidence from the current study combined with RANKL conditional [EXPE] studies suggests that the cell type producing OPG in remodeling cancellous bone is distinct from the cell type that produces RANKL2020\tPMC7493998\trankl\tknockout\tWhile reciprocal regulation of RANKL and OPG in a single cell type may be important for the control of resorption at certain sites, evidence from the current study, combined with RANKL conditional knockout studies, suggests that the cell type producing OPG in remodeling cancellous bone is distinct from the cell type that produces RANKL.\t While reciprocal regulation of RANKL and OPG in a single cell type may be important for the control of resorption at certain sites evidence from the current study combined with RANKL conditional [EXPE] studies suggests that the cell type producing OPG in remodeling cancellous bone is distinct from the cell type that produces [GENE]2020\tPMC7493998\topg\tsuppress\tSimilarly, we found that normal levels of circulating OPG could not suppress bone resorption in mice with deletion of OPG in osteoblasts and osteocytes.\t Similarly we found that normal levels of circulating [GENE] could not [EXPE] bone resorption in mice with deletion of OPG in osteoblasts and osteocytes2020\tPMC7493998\topg\tinhibition\tConsistent with these observations, two independent groups have demonstrated that OPG interaction with heparan sulfate proteoglycans on the cell surface is required for optimal inhibition of RANKL ( Li et al., 2016 ;  Nozawa et al., 2018 ).\t Consistent with these observations two independent groups have demonstrated that [GENE] interaction with heparan sulfate proteoglycans on the cell surface is required for optimal [EXPE] of RANKL ( Li et al 2016 ;  Nozawa et al 2018 )2020\tPMC7493998\trankl\tinhibition\tConsistent with these observations, two independent groups have demonstrated that OPG interaction with heparan sulfate proteoglycans on the cell surface is required for optimal inhibition of RANKL ( Li et al., 2016 ;  Nozawa et al., 2018 ).\t Consistent with these observations two independent groups have demonstrated that OPG interaction with heparan sulfate proteoglycans on the cell surface is required for optimal [EXPE] of [GENE] ( Li et al 2016 ;  Nozawa et al 2018 )2020\tPMC7493998\trankl\tblock\tThese studies support the idea that the local concentration of OPG near the cell surface is a key factor in its ability to block the activity of RANKL.\t These studies support the idea that the local concentration of OPG near the cell surface is a key factor in its ability to [EXPE] the activity of [GENE]2020\tPMC7494017\tsav1\tassays\tMany of the above-mentioned studies used individual WW domains or truncated WW12 tandem of SAV1 for binding assays.\t Many of the above-mentioned studies used individual WW domains or truncated WW12 tandem of [GENE] for binding [EXPE]2020\tPMC7494017\tsav1\tpurified\tWe purified a highly conserved SAV1 fragment containing its WW12 tandem and a highly conserved extension sequence immediately following WW12 (residues E198–Q285 in mouse SAV1 and termed as SAV1 WW12ex;  Figure 1A ) and a fragment of LATS1 containing all four PY motifs (PY1–4 covering residues N361–E582;  Figure 1B ).\t We [EXPE] a highly conserved [GENE] fragment containing its WW12 tandem and a highly conserved extension sequence immediately following WW12 (residues E198–Q285 in mouse SAV1 and termed as SAV1 WW12ex;  Figure 1A ) and a fragment of LATS1 containing all four PY motifs (PY1–4 covering residues N361–E582;  Figure 1B )2020\tPMC7494017\tlats1\tassay\tIsothermal titration calorimetry (ITC)-based assay only detected a very weak binding between SAV1 WW12ex and LATS1 PY1–4 (K d  > 100 μM;  Figure 1C ).\t Isothermal titration calorimetry (ITC)-based [EXPE] only detected a very weak binding between SAV1 WW12ex and [GENE] PY1–4 (K d  > 100 μM;  Figure 1C )2020\tPMC7494017\tsav1\tchromatography\tThis weak interaction was further verified by size-exclusion chromatography showing that mixing of the equal molar amount of SAV1 WW12ex and LATS1 PY1–4 did not cause obvious elution volume changes of either protein ( Figure 1D ).\t This weak interaction was further verified by size-exclusion [EXPE] showing that mixing of the equal molar amount of [GENE] WW12ex and LATS1 PY1–4 did not cause obvious elution volume changes of either protein ( Figure 1D )2020\tPMC7494017\tlats1\tchromatography\tThis weak interaction was further verified by size-exclusion chromatography showing that mixing of the equal molar amount of SAV1 WW12ex and LATS1 PY1–4 did not cause obvious elution volume changes of either protein ( Figure 1D ).\t This weak interaction was further verified by size-exclusion [EXPE] showing that mixing of the equal molar amount of SAV1 WW12ex and [GENE] PY1–4 did not cause obvious elution volume changes of either protein ( Figure 1D )2020\tPMC7494017\tdendrin\tfiltration\tAnalytical gel filtration chromatography analysis also showed that mixing of SAV1 WW12ex and dendrin PY23 only induced a very small elution peak shift of dendrin PY23 ( Figure 1F ), consistent with the very weak interaction between SAV1 WW12ex and dendrin PY23.\t Analytical gel [EXPE] chromatography analysis also showed that mixing of SAV1 WW12ex and dendrin PY23 only induced a very small elution peak shift of [GENE] PY23 ( Figure 1F ) consistent with the very weak interaction between SAV1 WW12ex and dendrin PY232020\tPMC7494017\tdendrin\tchromatography\tAnalytical gel filtration chromatography analysis also showed that mixing of SAV1 WW12ex and dendrin PY23 only induced a very small elution peak shift of dendrin PY23 ( Figure 1F ), consistent with the very weak interaction between SAV1 WW12ex and dendrin PY23.\t Analytical gel filtration [EXPE] analysis also showed that mixing of SAV1 WW12ex and dendrin PY23 only induced a very small elution peak shift of dendrin PY23 ( Figure 1F ) consistent with the very weak interaction between SAV1 WW12ex and [GENE] PY232020\tPMC7494017\tsav1\titc\tIndeed, a weak interaction (K d  ~91 μM) between WW12 and the extension sequence of SAV1 could be detected by ITC ( Figure 1G ).\t Indeed a weak interaction (K d  ~91 μM) between WW12 and the extension sequence of [GENE] could be detected by [EXPE] ( Figure 1G )2020\tPMC7494017\tsav1\tcrystal\tTo understand the molecular basis governing the SAV1 WW12ex dimerization, we determined the crystal structure of mouse SAV1 WW12ex at the 1.7-Å resolution ( Figure 2A ;  Table S1 ).\t To understand the molecular basis governing the [GENE] WW12ex dimerization we determined the [EXPE] structure of mouse SAV1 WW12ex at the 17-Å resolution ( Figure 2A ;  Table S1 )2020\tPMC7494017\tsav1\tblocked\tThe structure clearly shows that the target binding sites of both WW domains are occupied by the extension sequence, revealing that SAV1 WW12ex indeed adopts an autoinhibited conformation (i.e., the target binding site of the WW tandem is blocked by its own tail extension;  Figure 2B ).\t The structure clearly shows that the target binding sites of both WW domains are occupied by the extension sequence revealing that [GENE] WW12ex indeed adopts an autoinhibited conformation (ie the target binding site of the WW tandem is [EXPE] by its own tail extension;  Figure 2B )2020\tPMC7494017\tasp\tnmr\tIn the NMR structure of the WW2 dimer, Ser245 is in the dimeric interface ( Figure 5E ), and substitution of S245 with Asp converted WW12 into a homogeneous monomer ( Figure S5A ).\t In the [EXPE] structure of the WW2 dimer Ser245 is in the dimeric interface ( Figure 5E ) and substitution of S245 with [GENE] converted WW12 into a homogeneous monomer ( Figure S5A )2020\tPMC7494017\ts5a\tnmr\tIn the NMR structure of the WW2 dimer, Ser245 is in the dimeric interface ( Figure 5E ), and substitution of S245 with Asp converted WW12 into a homogeneous monomer ( Figure S5A ).\t In the [EXPE] structure of the WW2 dimer Ser245 is in the dimeric interface ( Figure 5E ) and substitution of S245 with Asp converted WW12 into a homogeneous monomer ( Figure [GENE] )2020\tPMC7494017\tsav1\tstarvation\tMoreover, cells expressing SAV1-Y273E/S245D or SAV-Y273E (to a less extent) showed diminished LATS1 phosphorylation under serum starvation ( Figure S5B ), further indicating that the WW12ex-mediated SAV1 dimer formation is important for MST activation and subsequent LATS phosphorylation.\t Moreover cells expressing SAV1-Y273E/S245D or SAV-Y273E (to a less extent) showed diminished LATS1 phosphorylation under serum [EXPE] ( Figure S5B ) further indicating that the WW12ex-mediated [GENE] dimer formation is important for MST activation and subsequent LATS phosphorylation2020\tPMC7494017\tmst\tstarvation\tMoreover, cells expressing SAV1-Y273E/S245D or SAV-Y273E (to a less extent) showed diminished LATS1 phosphorylation under serum starvation ( Figure S5B ), further indicating that the WW12ex-mediated SAV1 dimer formation is important for MST activation and subsequent LATS phosphorylation.\t Moreover cells expressing SAV1-Y273E/S245D or SAV-Y273E (to a less extent) showed diminished LATS1 phosphorylation under serum [EXPE] ( Figure S5B ) further indicating that the WW12ex-mediated SAV1 dimer formation is important for [GENE] activation and subsequent LATS phosphorylation2020\tPMC7494017\tdendrin\timpair\tExcept for the R214K and S245L, the rest of the six variants were found to impair either SAV1 WW12ex dimer formation and/or target binding (assayed using dendrin PY23 as a putative target for the binding assay;  Figures 6C ,  6D , and  S6 ).\t Except for the R214K and S245L the rest of the six variants were found to [EXPE] either SAV1 WW12ex dimer formation and/or target binding (assayed using [GENE] PY23 as a putative target for the binding assay;  Figures 6C   6D  and  S6 )2020\tPMC7494017\tsav1\tfiltration\tAnalytical gel filtration chromatography analysis clearly showed that the R233Q, D254H, Y262H, and Y273H mutations of SAV1 WW12ex all displayed impaired dimer formation ( Figures 6C  and  6D ; cf.\t Analytical gel [EXPE] chromatography analysis clearly showed that the R233Q D254H Y262H and Y273H mutations of [GENE] WW12ex all displayed impaired dimer formation ( Figures 6C  and  6D ; cf2020\tPMC7494017\tsav1\tchromatography\tAnalytical gel filtration chromatography analysis clearly showed that the R233Q, D254H, Y262H, and Y273H mutations of SAV1 WW12ex all displayed impaired dimer formation ( Figures 6C  and  6D ; cf.\t Analytical gel filtration [EXPE] analysis clearly showed that the R233Q D254H Y262H and Y273H mutations of [GENE] WW12ex all displayed impaired dimer formation ( Figures 6C  and  6D ; cf2020\tPMC7494017\tsav1\timpair\tTherefore, R233Q mutation is expected to disturb the structural coupling of the WW12 tandem and consequently impair the SAV1 WW12ex dimer formation and its putative target binding ( Figure S6B ).\t Therefore R233Q mutation is expected to disturb the structural coupling of the WW12 tandem and consequently [EXPE] the [GENE] WW12ex dimer formation and its putative target binding ( Figure S6B )2020\tPMC7494017\tsav1\timpair\tThe R233Q mutation has been reported to impair the tumor-suppression ability of SAV1 in mice ( Jiang et al., 2019 ).\t The R233Q mutation has been reported to [EXPE] the tumor-suppression ability of [GENE] in mice ( Jiang et al 2019 )2020\tPMC7494017\tsav1\timpair\tFinally, our structural and biochemical analysis of the eight SAV1 variants found in patients with cancers revealed that a number of such variants impair SAV1 dimer formation and subsequent MST activation ( Figures 5G ,  5H , and  6 ).\t Finally our structural and biochemical analysis of the eight [GENE] variants found in patients with cancers revealed that a number of such variants [EXPE] SAV1 dimer formation and subsequent MST activation ( Figures 5G   5H  and  6 )2020\tPMC7494017\tsav1\timpair\tFinally, our structural and biochemical analysis of the eight SAV1 variants found in patients with cancers revealed that a number of such variants impair SAV1 dimer formation and subsequent MST activation ( Figures 5G ,  5H , and  6 ).\t Finally our structural and biochemical analysis of the eight SAV1 variants found in patients with cancers revealed that a number of such variants [EXPE] [GENE] dimer formation and subsequent MST activation ( Figures 5G   5H  and  6 )2020\tPMC7494017\tmst\timpair\tFinally, our structural and biochemical analysis of the eight SAV1 variants found in patients with cancers revealed that a number of such variants impair SAV1 dimer formation and subsequent MST activation ( Figures 5G ,  5H , and  6 ).\t Finally our structural and biochemical analysis of the eight SAV1 variants found in patients with cancers revealed that a number of such variants [EXPE] SAV1 dimer formation and subsequent [GENE] activation ( Figures 5G   5H  and  6 )2020\tPMC7494019\tcms\trestore\tEnhancing the ability of MI victims to regenerate lost CMs and restore cardiac function is a major focus within the field of regenerative medicine ( Sadek and Olson, 2020 ).\t Enhancing the ability of MI victims to regenerate lost [GENE] and [EXPE] cardiac function is a major focus within the field of regenerative medicine ( Sadek and Olson 2020 )2020\tPMC7494019\tcms\ttranscriptome\tIn CMs, Tp53 has been implicated as a key regulator of the cardiac transcriptome, and increased Tp53 levels have been shown to be associated with cardiac hypertrophy and remodeling ( Mak et al., 2017 ;  Nomura et al., 2018 ).\t In [GENE] Tp53 has been implicated as a key regulator of the cardiac [EXPE] and increased Tp53 levels have been shown to be associated with cardiac hypertrophy and remodeling ( Mak et al 2017 ;  Nomura et al 2018 )2020\tPMC7494019\ttp53\tinhibition\tGenetic reduction of Tp53 levels increased CM proliferation, either during heart regeneration or upon direct mitogen stimulation, whereas myocardial inhibition of Mdm2 decreased CM proliferation.\t Genetic reduction of [GENE] levels increased CM proliferation either during heart regeneration or upon direct mitogen stimulation whereas myocardial [EXPE] of Mdm2 decreased CM proliferation2020\tPMC7494019\tmdm2\tinhibition\tGenetic reduction of Tp53 levels increased CM proliferation, either during heart regeneration or upon direct mitogen stimulation, whereas myocardial inhibition of Mdm2 decreased CM proliferation.\t Genetic reduction of Tp53 levels increased CM proliferation either during heart regeneration or upon direct mitogen stimulation whereas myocardial [EXPE] of [GENE] decreased CM proliferation2020\tPMC7494019\ttp53\tsuppress\tOur experiments indicate that zebrafish heart regeneration is enabled by a mechanism in which injury-induced mitogens suppress Tp53.\t Our experiments indicate that zebrafish heart regeneration is enabled by a mechanism in which injury-induced mitogens [EXPE] [GENE]2020\tPMC7494019\ttp53\ttranscriptome\tStatistical tests reflected sample variability, but trends were consistent with the analyses of our transcriptome data and with a recent proteomics study assessing Tp53 levels by mass spectrometry after resection of the zebrafish ventricle ( Ma et al., 2018 ).\t Statistical tests reflected sample variability but trends were consistent with the analyses of our [EXPE] data and with a recent proteomics study assessing [GENE] levels by mass spectrometry after resection of the zebrafish ventricle ( Ma et al 2018 )2020\tPMC7494019\tdpi\ttranscriptome\tBased on our previously published transcriptome datasets,  mdm2  transcripts are increased at 7 and 14 dpi at 1.7- and 2.6-fold those of uninjured levels, respectively ( Figure S2B ;  Goldman et al., 2017 ;  Kang et al., 2016 ).\t Based on our previously published [EXPE] datasets  mdm2  transcripts are increased at 7 and 14 [GENE] at 17- and 26-fold those of uninjured levels respectively ( Figure S2B ;  Goldman et al 2017 ;  Kang et al 2016 )2020\tPMC7494019\ttp53\ttranscriptome\tTranscriptome sequencing of uninjured and regenerating  tp53 M214K  hearts revealed significant expression changes from wild types in a relatively small number of genes, 42 and 82, respectively, which represent a variety of cellular processes as characterized by gene ontology terms and IPA ( Figure S2 ;  Tables S3  and  S4 ).\t [EXPE] sequencing of uninjured and regenerating  [GENE] M214K  hearts revealed significant expression changes from wild types in a relatively small number of genes 42 and 82 respectively which represent a variety of cellular processes as characterized by gene ontology terms and IPA ( Figure S2 ;  Tables S3  and  S4 )2020\tPMC7494019\tnrg1\toverexpression\tTo determine effects of Nrg1 overexpression on expression of  mdm2 , we first performed ISH on  cmlc2 : CreER ;  β-act2 : BSNrg1  fish 14 days after induction of the  nrg1  transgene.\t To determine effects of [GENE] [EXPE] on expression of  mdm2  we first performed ISH on  cmlc2 : CreER ;  β-act2 : BSNrg1  fish 14 days after induction of the  nrg1  transgene2020\tPMC7494019\tmdm2\tfish\tTo determine effects of Nrg1 overexpression on expression of  mdm2 , we first performed ISH on  cmlc2 : CreER ;  β-act2 : BSNrg1  fish 14 days after induction of the  nrg1  transgene.\t To determine effects of Nrg1 overexpression on expression of  [GENE]  we first performed ISH on  cmlc2 : CreER ;  β-act2 : BSNrg1  [EXPE] 14 days after induction of the  nrg1  transgene2020\tPMC7494019\tmdm2\ttransgene\tTo determine effects of Nrg1 overexpression on expression of  mdm2 , we first performed ISH on  cmlc2 : CreER ;  β-act2 : BSNrg1  fish 14 days after induction of the  nrg1  transgene.\t To determine effects of Nrg1 overexpression on expression of  [GENE]  we first performed ISH on  cmlc2 : CreER ;  β-act2 : BSNrg1  fish 14 days after induction of the  nrg1  [EXPE]2020\tPMC7494019\tnrg1\toverexpression\tTo determine effects of Nrg1 overexpression on expression of  mdm2 , we first performed ISH on  cmlc2 : CreER ;  β-act2 : BSNrg1  fish 14 days after induction of the  nrg1  transgene.\t To determine effects of Nrg1 [EXPE] on expression of  mdm2  we first performed ISH on  cmlc2 : CreER ;  β-act2 : BSNrg1  fish 14 days after induction of the  [GENE]  transgene2020\tPMC7494019\tnrg1\ttransgene\tTo determine effects of Nrg1 overexpression on expression of  mdm2 , we first performed ISH on  cmlc2 : CreER ;  β-act2 : BSNrg1  fish 14 days after induction of the  nrg1  transgene.\t To determine effects of Nrg1 overexpression on expression of  mdm2  we first performed ISH on  cmlc2 : CreER ;  β-act2 : BSNrg1  fish 14 days after induction of the  [GENE]  [EXPE]2020\tPMC7494019\tmdm2\toverexpression\tWhereas  mdm2  was undetectable in control hearts as described above,  nrg1  overexpression for 14 days led to strong and consistent  mdm2  expression in CMs within the cortical wall by ISH ( Figure S4A ).\t Whereas  [GENE]  was undetectable in control hearts as described above  nrg1  [EXPE] for 14 days led to strong and consistent  mdm2  expression in CMs within the cortical wall by ISH ( Figure S4A )2020\tPMC7494019\tnrg1\toverexpression\tWhereas  mdm2  was undetectable in control hearts as described above,  nrg1  overexpression for 14 days led to strong and consistent  mdm2  expression in CMs within the cortical wall by ISH ( Figure S4A ).\t Whereas  mdm2  was undetectable in control hearts as described above  [GENE]  [EXPE] for 14 days led to strong and consistent  mdm2  expression in CMs within the cortical wall by ISH ( Figure S4A )2020\tPMC7494019\tvegfa\toverexpression\tTo examine effects of a second CM mitogen, we experimentally induced myocardial Vegfa overexpression, which hypervascularizes the adult zebrafish heart in the absence of injury but also has mitogenic effects on CMs ( Karra et al., 2018 ).\t To examine effects of a second CM mitogen we experimentally induced myocardial [GENE] [EXPE] which hypervascularizes the adult zebrafish heart in the absence of injury but also has mitogenic effects on CMs ( Karra et al 2018 )2020\tPMC7494019\tcms\toverexpression\tVisualization of EGFP in  cmlc2 : CreER ,  β-act2 : BSVegfa , and  mdm2 : EGFP  hearts revealed analogous findings as with  nrg1  overexpression, with  mdm2 :EGFP fluorescence activated in areas of proliferating CMs ( Figure 3B ).\t Visualization of EGFP in  cmlc2 : CreER   β-act2 : BSVegfa  and  mdm2 : EGFP  hearts revealed analogous findings as with  nrg1  [EXPE] with  mdm2 :EGFP fluorescence activated in areas of proliferating [GENE] ( Figure 3B )2020\tPMC7494019\tnrg1\tfish\tIn addition,  mdm2 - and  gata4 -directed fluorescence were tightly co-localized in adult  cmlc2:CreER ;  β-act2:BSNrg1 ;  mdm2:EGFP ;  gata4:dsRed  fish after 14 days of  nrg1  overexpression ( Figure 4D ).\t In addition  mdm2 - and  gata4 -directed fluorescence were tightly co-localized in adult  cmlc2:CreER ;  β-act2:BSNrg1 ;  mdm2:EGFP ;  gata4:dsRed  [EXPE] after 14 days of  [GENE]  overexpression ( Figure 4D )2020\tPMC7494212\tafp\tinfection\tNotably, AFP levels can be increased in patients with active hepatitis, and thus, AFP is less accurate in patients with active HCV infection, whereas AFP has higher sensitivity in other subgroups (e.g., patients with cirrhosis and HIV infection [ 24 , 25 ] .\t Notably [GENE] levels can be increased in patients with active hepatitis and thus AFP is less accurate in patients with active HCV infection whereas AFP has higher sensitivity in other subgroups (eg patients with cirrhosis and HIV [EXPE] [ 24  25 ]2020\tPMC7494212\tafp\tinfection\tNotably, AFP levels can be increased in patients with active hepatitis, and thus, AFP is less accurate in patients with active HCV infection, whereas AFP has higher sensitivity in other subgroups (e.g., patients with cirrhosis and HIV infection [ 24 , 25 ] .\t Notably AFP levels can be increased in patients with active hepatitis and thus [GENE] is less accurate in patients with active HCV [EXPE] whereas AFP has higher sensitivity in other subgroups (eg patients with cirrhosis and HIV infection [ 24  25 ]2020\tPMC7494212\tafp\tinfection\tNotably, AFP levels can be increased in patients with active hepatitis, and thus, AFP is less accurate in patients with active HCV infection, whereas AFP has higher sensitivity in other subgroups (e.g., patients with cirrhosis and HIV infection [ 24 , 25 ] .\t Notably AFP levels can be increased in patients with active hepatitis and thus AFP is less accurate in patients with active HCV [EXPE] whereas [GENE] has higher sensitivity in other subgroups (eg patients with cirrhosis and HIV infection [ 24  25 ]2020\tPMC7494212\tafp\tinfection\tNotably, AFP levels can be increased in patients with active hepatitis, and thus, AFP is less accurate in patients with active HCV infection, whereas AFP has higher sensitivity in other subgroups (e.g., patients with cirrhosis and HIV infection [ 24 , 25 ] .\t Notably AFP levels can be increased in patients with active hepatitis and thus AFP is less accurate in patients with active HCV infection whereas [GENE] has higher sensitivity in other subgroups (eg patients with cirrhosis and HIV [EXPE] [ 24  25 ]2020\tPMC7494215\ttap\tscreening\tThe MAP study will examine constructs that tap into both categories and, thereby, be positioned to develop an effective general population screening tool (Aim 2).\t The MAP study will examine constructs that [GENE] into both categories and thereby be positioned to develop an effective general population [EXPE] tool (Aim 2)2020\tPMC7494215\taps\tscreening\tWith the addition of Attenuated Psychosis Syndrome (APS) as a condition for further study in the DSM-5, along with Other Specified Schizophrenia Spectrum and Other Psychotic Disorder which includes APS, valid screening of suspected APS may become important for practitioners with little background in psychosis-risk who may be increasingly assessing for APS.\t With the addition of Attenuated Psychosis Syndrome (APS) as a condition for further study in the DSM-5 along with Other Specified Schizophrenia Spectrum and Other Psychotic Disorder which includes [GENE] valid [EXPE] of suspected APS may become important for practitioners with little background in psychosis-risk who may be increasingly assessing for APS2020\tPMC7494215\taps\tscreening\tThis is the time for such a screening tool to be developed, when APS is still a condition for further study, as it is essential to prepare for wide-spread use of the diagnosis.\t This is the time for such a [EXPE] tool to be developed when [GENE] is still a condition for further study as it is essential to prepare for wide-spread use of the diagnosis"
     ]
    }
   ],
   "source": [
    "!tail AfterBiobert_0525_2.csv -n 1"
   ]
  },
  {
   "cell_type": "code",
   "execution_count": null,
   "metadata": {
    "colab": {
     "base_uri": "https://localhost:8080/"
    },
    "executionInfo": {
     "elapsed": 495,
     "status": "ok",
     "timestamp": 1617537964051,
     "user": {
      "displayName": "Kei Ito",
      "photoUrl": "",
      "userId": "08573809377227797936"
     },
     "user_tz": -540
    },
    "id": "rkqR4q61xRcw",
    "outputId": "8945794c-5eae-410f-9faa-0c7c63c5c8dc"
   },
   "outputs": [
    {
     "data": {
      "text/plain": [
       "70.0"
      ]
     },
     "execution_count": 36,
     "metadata": {
      "tags": []
     },
     "output_type": "execute_result"
    }
   ],
   "source": [
    "1.26/100*20000000/3600"
   ]
  },
  {
   "cell_type": "code",
   "execution_count": null,
   "metadata": {
    "id": "S373HhsHsy_3"
   },
   "outputs": [],
   "source": [
    "!wc -"
   ]
  },
  {
   "cell_type": "code",
   "execution_count": null,
   "metadata": {
    "id": "LPD0iBqJzHmz"
   },
   "outputs": [],
   "source": [
    "import time\n",
    "time.sleep(3600)"
   ]
  },
  {
   "cell_type": "code",
   "execution_count": null,
   "metadata": {
    "id": "qRZSbrZ3tVlI"
   },
   "outputs": [],
   "source": [
    "3.7/200*20000000/3600"
   ]
  },
  {
   "cell_type": "code",
   "execution_count": null,
   "metadata": {
    "colab": {
     "base_uri": "https://localhost:8080/"
    },
    "executionInfo": {
     "elapsed": 549,
     "status": "ok",
     "timestamp": 1617537299846,
     "user": {
      "displayName": "Kei Ito",
      "photoUrl": "",
      "userId": "08573809377227797936"
     },
     "user_tz": -540
    },
    "id": "wNnfK4yvhR16",
    "outputId": "2390baab-0aeb-473d-e37a-6c6cd246fe3c"
   },
   "outputs": [
    {
     "name": "stdout",
     "output_type": "stream",
     "text": [
      "71 AfterBiobert_210403.csv\n"
     ]
    }
   ],
   "source": [
    "!wc -l AfterBiobert_210403.csv"
   ]
  },
  {
   "cell_type": "code",
   "execution_count": null,
   "metadata": {
    "id": "cPWDMy33syd8"
   },
   "outputs": [],
   "source": []
  },
  {
   "cell_type": "code",
   "execution_count": null,
   "metadata": {
    "id": "OzQWYT5qgHsw"
   },
   "outputs": [],
   "source": [
    "!wc -l Chikan_ver2.csv"
   ]
  },
  {
   "cell_type": "code",
   "execution_count": null,
   "metadata": {
    "id": "KcTaPHa9gKFE"
   },
   "outputs": [],
   "source": []
  }
 ],
 "metadata": {
  "accelerator": "GPU",
  "colab": {
   "collapsed_sections": [
    "rnLQ5WCZXAvh"
   ],
   "machine_shape": "hm",
   "name": "210920_リファクタリング_BERT_Fine-tuningで性能は上がるか？",
   "provenance": [
    {
     "file_id": "1snvR429gh3fMWC930by-n3lfXwH57kxA",
     "timestamp": 1631355187254
    },
    {
     "file_id": "10qUTvs08VVFq1ZaNsp3RRGrz8FuEC_Mm",
     "timestamp": 1621952436233
    },
    {
     "file_id": "1Uty8NFTT7d-ZRHE4Y5QvlP1nyb6_EagB",
     "timestamp": 1621951856678
    },
    {
     "file_id": "1wLGM1XhqRgFRJ_v4j4WgJuCEK96hOsz7",
     "timestamp": 1617767244732
    },
    {
     "file_id": "1rGJ5zyqo5pXHVajG4NFwko1VqQ3Vq17z",
     "timestamp": 1617425306680
    },
    {
     "file_id": "12ixIECwPf81KfS2bdIVDIqOFknzC9Y4Q",
     "timestamp": 1614575454916
    }
   ]
  },
  "kernelspec": {
   "display_name": "Python 3",
   "language": "python",
   "name": "python3"
  },
  "language_info": {
   "codemirror_mode": {
    "name": "ipython",
    "version": 3
   },
   "file_extension": ".py",
   "mimetype": "text/x-python",
   "name": "python",
   "nbconvert_exporter": "python",
   "pygments_lexer": "ipython3",
   "version": "3.6.9"
  },
  "widgets": {
   "application/vnd.jupyter.widget-state+json": {
    "011452f516da4fed94d1af498ec37ce8": {
     "model_module": "@jupyter-widgets/controls",
     "model_module_version": "1.5.0",
     "model_name": "HTMLModel",
     "state": {
      "_dom_classes": [],
      "_model_module": "@jupyter-widgets/controls",
      "_model_module_version": "1.5.0",
      "_model_name": "HTMLModel",
      "_view_count": null,
      "_view_module": "@jupyter-widgets/controls",
      "_view_module_version": "1.5.0",
      "_view_name": "HTMLView",
      "description": "",
      "description_tooltip": null,
      "layout": "IPY_MODEL_c49be13ab57e4dacad58d036a91c3c12",
      "placeholder": "​",
      "style": "IPY_MODEL_ed65f867c9934e29a49942e999773fe7",
      "value": " 3484144/? [00:20&lt;00:00, 142825.17it/s]"
     }
    },
    "0553da58ee014d39aaf08ff451a7587e": {
     "model_module": "@jupyter-widgets/base",
     "model_module_version": "1.2.0",
     "model_name": "LayoutModel",
     "state": {
      "_model_module": "@jupyter-widgets/base",
      "_model_module_version": "1.2.0",
      "_model_name": "LayoutModel",
      "_view_count": null,
      "_view_module": "@jupyter-widgets/base",
      "_view_module_version": "1.2.0",
      "_view_name": "LayoutView",
      "align_content": null,
      "align_items": null,
      "align_self": null,
      "border": null,
      "bottom": null,
      "display": null,
      "flex": null,
      "flex_flow": null,
      "grid_area": null,
      "grid_auto_columns": null,
      "grid_auto_flow": null,
      "grid_auto_rows": null,
      "grid_column": null,
      "grid_gap": null,
      "grid_row": null,
      "grid_template_areas": null,
      "grid_template_columns": null,
      "grid_template_rows": null,
      "height": null,
      "justify_content": null,
      "justify_items": null,
      "left": null,
      "margin": null,
      "max_height": null,
      "max_width": null,
      "min_height": null,
      "min_width": null,
      "object_fit": null,
      "object_position": null,
      "order": null,
      "overflow": null,
      "overflow_x": null,
      "overflow_y": null,
      "padding": null,
      "right": null,
      "top": null,
      "visibility": null,
      "width": null
     }
    },
    "0602906878ce44aa81c628ee59abc89b": {
     "model_module": "@jupyter-widgets/base",
     "model_module_version": "1.2.0",
     "model_name": "LayoutModel",
     "state": {
      "_model_module": "@jupyter-widgets/base",
      "_model_module_version": "1.2.0",
      "_model_name": "LayoutModel",
      "_view_count": null,
      "_view_module": "@jupyter-widgets/base",
      "_view_module_version": "1.2.0",
      "_view_name": "LayoutView",
      "align_content": null,
      "align_items": null,
      "align_self": null,
      "border": null,
      "bottom": null,
      "display": null,
      "flex": null,
      "flex_flow": null,
      "grid_area": null,
      "grid_auto_columns": null,
      "grid_auto_flow": null,
      "grid_auto_rows": null,
      "grid_column": null,
      "grid_gap": null,
      "grid_row": null,
      "grid_template_areas": null,
      "grid_template_columns": null,
      "grid_template_rows": null,
      "height": null,
      "justify_content": null,
      "justify_items": null,
      "left": null,
      "margin": null,
      "max_height": null,
      "max_width": null,
      "min_height": null,
      "min_width": null,
      "object_fit": null,
      "object_position": null,
      "order": null,
      "overflow": null,
      "overflow_x": null,
      "overflow_y": null,
      "padding": null,
      "right": null,
      "top": null,
      "visibility": null,
      "width": null
     }
    },
    "092bffed0e9645a9b4b9c7efd209416c": {
     "model_module": "@jupyter-widgets/base",
     "model_module_version": "1.2.0",
     "model_name": "LayoutModel",
     "state": {
      "_model_module": "@jupyter-widgets/base",
      "_model_module_version": "1.2.0",
      "_model_name": "LayoutModel",
      "_view_count": null,
      "_view_module": "@jupyter-widgets/base",
      "_view_module_version": "1.2.0",
      "_view_name": "LayoutView",
      "align_content": null,
      "align_items": null,
      "align_self": null,
      "border": null,
      "bottom": null,
      "display": null,
      "flex": null,
      "flex_flow": null,
      "grid_area": null,
      "grid_auto_columns": null,
      "grid_auto_flow": null,
      "grid_auto_rows": null,
      "grid_column": null,
      "grid_gap": null,
      "grid_row": null,
      "grid_template_areas": null,
      "grid_template_columns": null,
      "grid_template_rows": null,
      "height": null,
      "justify_content": null,
      "justify_items": null,
      "left": null,
      "margin": null,
      "max_height": null,
      "max_width": null,
      "min_height": null,
      "min_width": null,
      "object_fit": null,
      "object_position": null,
      "order": null,
      "overflow": null,
      "overflow_x": null,
      "overflow_y": null,
      "padding": null,
      "right": null,
      "top": null,
      "visibility": null,
      "width": null
     }
    },
    "0ac74ce668cb42b1bac3e1bc94eb2584": {
     "model_module": "@jupyter-widgets/controls",
     "model_module_version": "1.5.0",
     "model_name": "HTMLModel",
     "state": {
      "_dom_classes": [],
      "_model_module": "@jupyter-widgets/controls",
      "_model_module_version": "1.5.0",
      "_model_name": "HTMLModel",
      "_view_count": null,
      "_view_module": "@jupyter-widgets/controls",
      "_view_module_version": "1.5.0",
      "_view_name": "HTMLView",
      "description": "",
      "description_tooltip": null,
      "layout": "IPY_MODEL_e0cacb3b2e924c04814578f81946b811",
      "placeholder": "​",
      "style": "IPY_MODEL_500e5c42076540d982ddf91fd045d226",
      "value": " 1/1 [00:03&lt;00:00,  3.76s/it]"
     }
    },
    "0bfe5a47a9a74bd3884275602403e123": {
     "model_module": "@jupyter-widgets/controls",
     "model_module_version": "1.5.0",
     "model_name": "HTMLModel",
     "state": {
      "_dom_classes": [],
      "_model_module": "@jupyter-widgets/controls",
      "_model_module_version": "1.5.0",
      "_model_name": "HTMLModel",
      "_view_count": null,
      "_view_module": "@jupyter-widgets/controls",
      "_view_module_version": "1.5.0",
      "_view_name": "HTMLView",
      "description": "",
      "description_tooltip": null,
      "layout": "IPY_MODEL_2db9059675184e68856e798e89759567",
      "placeholder": "​",
      "style": "IPY_MODEL_f018ae25a7f347ea8de64393ea8c2a29",
      "value": "100%"
     }
    },
    "0e4d34cc408246c39e45c65e51231d87": {
     "model_module": "@jupyter-widgets/controls",
     "model_module_version": "1.5.0",
     "model_name": "HBoxModel",
     "state": {
      "_dom_classes": [],
      "_model_module": "@jupyter-widgets/controls",
      "_model_module_version": "1.5.0",
      "_model_name": "HBoxModel",
      "_view_count": null,
      "_view_module": "@jupyter-widgets/controls",
      "_view_module_version": "1.5.0",
      "_view_name": "HBoxView",
      "box_style": "",
      "children": [
       "IPY_MODEL_0bfe5a47a9a74bd3884275602403e123",
       "IPY_MODEL_c2d37d11829c4e1cb732483ffb4e5164",
       "IPY_MODEL_4e4e7a4e12be44368bf9889a4d64d5e1"
      ],
      "layout": "IPY_MODEL_4f8ed25e503444f98a170e4a541f763a"
     }
    },
    "0f1d8c9ab81d43e98ab4f74a4642ebbc": {
     "model_module": "@jupyter-widgets/controls",
     "model_module_version": "1.5.0",
     "model_name": "HTMLModel",
     "state": {
      "_dom_classes": [],
      "_model_module": "@jupyter-widgets/controls",
      "_model_module_version": "1.5.0",
      "_model_name": "HTMLModel",
      "_view_count": null,
      "_view_module": "@jupyter-widgets/controls",
      "_view_module_version": "1.5.0",
      "_view_name": "HTMLView",
      "description": "",
      "description_tooltip": null,
      "layout": "IPY_MODEL_26c2f9e2d866487fa36f87bd0a36c428",
      "placeholder": "​",
      "style": "IPY_MODEL_47272304dc474008b1bcffc204933ff5",
      "value": " 1/1 [00:03&lt;00:00,  3.16s/it]"
     }
    },
    "0fce19e758ed4caba6179d23c10a3da6": {
     "model_module": "@jupyter-widgets/controls",
     "model_module_version": "1.5.0",
     "model_name": "HTMLModel",
     "state": {
      "_dom_classes": [],
      "_model_module": "@jupyter-widgets/controls",
      "_model_module_version": "1.5.0",
      "_model_name": "HTMLModel",
      "_view_count": null,
      "_view_module": "@jupyter-widgets/controls",
      "_view_module_version": "1.5.0",
      "_view_name": "HTMLView",
      "description": "",
      "description_tooltip": null,
      "layout": "IPY_MODEL_94b54245ad7141aa904725e463e86bb0",
      "placeholder": "​",
      "style": "IPY_MODEL_9d0403b6d9004db9b3063b585e3193ee",
      "value": " 1/1 [00:03&lt;00:00,  3.19s/it]"
     }
    },
    "1369bd53f8564b798d3b1108616da62a": {
     "model_module": "@jupyter-widgets/base",
     "model_module_version": "1.2.0",
     "model_name": "LayoutModel",
     "state": {
      "_model_module": "@jupyter-widgets/base",
      "_model_module_version": "1.2.0",
      "_model_name": "LayoutModel",
      "_view_count": null,
      "_view_module": "@jupyter-widgets/base",
      "_view_module_version": "1.2.0",
      "_view_name": "LayoutView",
      "align_content": null,
      "align_items": null,
      "align_self": null,
      "border": null,
      "bottom": null,
      "display": null,
      "flex": null,
      "flex_flow": null,
      "grid_area": null,
      "grid_auto_columns": null,
      "grid_auto_flow": null,
      "grid_auto_rows": null,
      "grid_column": null,
      "grid_gap": null,
      "grid_row": null,
      "grid_template_areas": null,
      "grid_template_columns": null,
      "grid_template_rows": null,
      "height": null,
      "justify_content": null,
      "justify_items": null,
      "left": null,
      "margin": null,
      "max_height": null,
      "max_width": null,
      "min_height": null,
      "min_width": null,
      "object_fit": null,
      "object_position": null,
      "order": null,
      "overflow": null,
      "overflow_x": null,
      "overflow_y": null,
      "padding": null,
      "right": null,
      "top": null,
      "visibility": null,
      "width": null
     }
    },
    "15f965848823424dabf986fd7276cbb1": {
     "model_module": "@jupyter-widgets/base",
     "model_module_version": "1.2.0",
     "model_name": "LayoutModel",
     "state": {
      "_model_module": "@jupyter-widgets/base",
      "_model_module_version": "1.2.0",
      "_model_name": "LayoutModel",
      "_view_count": null,
      "_view_module": "@jupyter-widgets/base",
      "_view_module_version": "1.2.0",
      "_view_name": "LayoutView",
      "align_content": null,
      "align_items": null,
      "align_self": null,
      "border": null,
      "bottom": null,
      "display": null,
      "flex": null,
      "flex_flow": null,
      "grid_area": null,
      "grid_auto_columns": null,
      "grid_auto_flow": null,
      "grid_auto_rows": null,
      "grid_column": null,
      "grid_gap": null,
      "grid_row": null,
      "grid_template_areas": null,
      "grid_template_columns": null,
      "grid_template_rows": null,
      "height": null,
      "justify_content": null,
      "justify_items": null,
      "left": null,
      "margin": null,
      "max_height": null,
      "max_width": null,
      "min_height": null,
      "min_width": null,
      "object_fit": null,
      "object_position": null,
      "order": null,
      "overflow": null,
      "overflow_x": null,
      "overflow_y": null,
      "padding": null,
      "right": null,
      "top": null,
      "visibility": null,
      "width": null
     }
    },
    "172ebff1a6cd4fe18e38e730f8cc9123": {
     "model_module": "@jupyter-widgets/base",
     "model_module_version": "1.2.0",
     "model_name": "LayoutModel",
     "state": {
      "_model_module": "@jupyter-widgets/base",
      "_model_module_version": "1.2.0",
      "_model_name": "LayoutModel",
      "_view_count": null,
      "_view_module": "@jupyter-widgets/base",
      "_view_module_version": "1.2.0",
      "_view_name": "LayoutView",
      "align_content": null,
      "align_items": null,
      "align_self": null,
      "border": null,
      "bottom": null,
      "display": null,
      "flex": null,
      "flex_flow": null,
      "grid_area": null,
      "grid_auto_columns": null,
      "grid_auto_flow": null,
      "grid_auto_rows": null,
      "grid_column": null,
      "grid_gap": null,
      "grid_row": null,
      "grid_template_areas": null,
      "grid_template_columns": null,
      "grid_template_rows": null,
      "height": null,
      "justify_content": null,
      "justify_items": null,
      "left": null,
      "margin": null,
      "max_height": null,
      "max_width": null,
      "min_height": null,
      "min_width": null,
      "object_fit": null,
      "object_position": null,
      "order": null,
      "overflow": null,
      "overflow_x": null,
      "overflow_y": null,
      "padding": null,
      "right": null,
      "top": null,
      "visibility": null,
      "width": null
     }
    },
    "17d23266359e405da8682f3fc55b9a25": {
     "model_module": "@jupyter-widgets/controls",
     "model_module_version": "1.5.0",
     "model_name": "DescriptionStyleModel",
     "state": {
      "_model_module": "@jupyter-widgets/controls",
      "_model_module_version": "1.5.0",
      "_model_name": "DescriptionStyleModel",
      "_view_count": null,
      "_view_module": "@jupyter-widgets/base",
      "_view_module_version": "1.2.0",
      "_view_name": "StyleView",
      "description_width": ""
     }
    },
    "1b15a6396ded4ffba3a0cbe10477bd5d": {
     "model_module": "@jupyter-widgets/controls",
     "model_module_version": "1.5.0",
     "model_name": "ProgressStyleModel",
     "state": {
      "_model_module": "@jupyter-widgets/controls",
      "_model_module_version": "1.5.0",
      "_model_name": "ProgressStyleModel",
      "_view_count": null,
      "_view_module": "@jupyter-widgets/base",
      "_view_module_version": "1.2.0",
      "_view_name": "StyleView",
      "bar_color": null,
      "description_width": ""
     }
    },
    "1bd6eb07e1984e49a9edb1da64e82dab": {
     "model_module": "@jupyter-widgets/controls",
     "model_module_version": "1.5.0",
     "model_name": "HBoxModel",
     "state": {
      "_dom_classes": [],
      "_model_module": "@jupyter-widgets/controls",
      "_model_module_version": "1.5.0",
      "_model_name": "HBoxModel",
      "_view_count": null,
      "_view_module": "@jupyter-widgets/controls",
      "_view_module_version": "1.5.0",
      "_view_name": "HBoxView",
      "box_style": "",
      "children": [
       "IPY_MODEL_77408c72741946cd8487ddf44235ab74",
       "IPY_MODEL_69154883cc3f427dbad0dc7aad49d029",
       "IPY_MODEL_0ac74ce668cb42b1bac3e1bc94eb2584"
      ],
      "layout": "IPY_MODEL_d6bfc97d593944e986f9b7cb6e742f1e"
     }
    },
    "1cc0686a77bb40b0a01dd229b2b8f67d": {
     "model_module": "@jupyter-widgets/controls",
     "model_module_version": "1.5.0",
     "model_name": "DescriptionStyleModel",
     "state": {
      "_model_module": "@jupyter-widgets/controls",
      "_model_module_version": "1.5.0",
      "_model_name": "DescriptionStyleModel",
      "_view_count": null,
      "_view_module": "@jupyter-widgets/base",
      "_view_module_version": "1.2.0",
      "_view_name": "StyleView",
      "description_width": ""
     }
    },
    "1cde37fca2124d2aa004772b30253e96": {
     "model_module": "@jupyter-widgets/controls",
     "model_module_version": "1.5.0",
     "model_name": "FloatProgressModel",
     "state": {
      "_dom_classes": [],
      "_model_module": "@jupyter-widgets/controls",
      "_model_module_version": "1.5.0",
      "_model_name": "FloatProgressModel",
      "_view_count": null,
      "_view_module": "@jupyter-widgets/controls",
      "_view_module_version": "1.5.0",
      "_view_name": "ProgressView",
      "bar_style": "success",
      "description": "",
      "description_tooltip": null,
      "layout": "IPY_MODEL_e4322864e396434092a04a68142cac48",
      "max": 1,
      "min": 0,
      "orientation": "horizontal",
      "style": "IPY_MODEL_1b15a6396ded4ffba3a0cbe10477bd5d",
      "value": 1
     }
    },
    "1db6cdaa3e9b49cc8cc50aab073df511": {
     "model_module": "@jupyter-widgets/base",
     "model_module_version": "1.2.0",
     "model_name": "LayoutModel",
     "state": {
      "_model_module": "@jupyter-widgets/base",
      "_model_module_version": "1.2.0",
      "_model_name": "LayoutModel",
      "_view_count": null,
      "_view_module": "@jupyter-widgets/base",
      "_view_module_version": "1.2.0",
      "_view_name": "LayoutView",
      "align_content": null,
      "align_items": null,
      "align_self": null,
      "border": null,
      "bottom": null,
      "display": null,
      "flex": null,
      "flex_flow": null,
      "grid_area": null,
      "grid_auto_columns": null,
      "grid_auto_flow": null,
      "grid_auto_rows": null,
      "grid_column": null,
      "grid_gap": null,
      "grid_row": null,
      "grid_template_areas": null,
      "grid_template_columns": null,
      "grid_template_rows": null,
      "height": null,
      "justify_content": null,
      "justify_items": null,
      "left": null,
      "margin": null,
      "max_height": null,
      "max_width": null,
      "min_height": null,
      "min_width": null,
      "object_fit": null,
      "object_position": null,
      "order": null,
      "overflow": null,
      "overflow_x": null,
      "overflow_y": null,
      "padding": null,
      "right": null,
      "top": null,
      "visibility": null,
      "width": null
     }
    },
    "1e1ae2955187477dba8fa8101ab27c00": {
     "model_module": "@jupyter-widgets/base",
     "model_module_version": "1.2.0",
     "model_name": "LayoutModel",
     "state": {
      "_model_module": "@jupyter-widgets/base",
      "_model_module_version": "1.2.0",
      "_model_name": "LayoutModel",
      "_view_count": null,
      "_view_module": "@jupyter-widgets/base",
      "_view_module_version": "1.2.0",
      "_view_name": "LayoutView",
      "align_content": null,
      "align_items": null,
      "align_self": null,
      "border": null,
      "bottom": null,
      "display": null,
      "flex": null,
      "flex_flow": null,
      "grid_area": null,
      "grid_auto_columns": null,
      "grid_auto_flow": null,
      "grid_auto_rows": null,
      "grid_column": null,
      "grid_gap": null,
      "grid_row": null,
      "grid_template_areas": null,
      "grid_template_columns": null,
      "grid_template_rows": null,
      "height": null,
      "justify_content": null,
      "justify_items": null,
      "left": null,
      "margin": null,
      "max_height": null,
      "max_width": null,
      "min_height": null,
      "min_width": null,
      "object_fit": null,
      "object_position": null,
      "order": null,
      "overflow": null,
      "overflow_x": null,
      "overflow_y": null,
      "padding": null,
      "right": null,
      "top": null,
      "visibility": null,
      "width": null
     }
    },
    "2166a4f6bfc14e88ac3500239c927e86": {
     "model_module": "@jupyter-widgets/base",
     "model_module_version": "1.2.0",
     "model_name": "LayoutModel",
     "state": {
      "_model_module": "@jupyter-widgets/base",
      "_model_module_version": "1.2.0",
      "_model_name": "LayoutModel",
      "_view_count": null,
      "_view_module": "@jupyter-widgets/base",
      "_view_module_version": "1.2.0",
      "_view_name": "LayoutView",
      "align_content": null,
      "align_items": null,
      "align_self": null,
      "border": null,
      "bottom": null,
      "display": null,
      "flex": null,
      "flex_flow": null,
      "grid_area": null,
      "grid_auto_columns": null,
      "grid_auto_flow": null,
      "grid_auto_rows": null,
      "grid_column": null,
      "grid_gap": null,
      "grid_row": null,
      "grid_template_areas": null,
      "grid_template_columns": null,
      "grid_template_rows": null,
      "height": null,
      "justify_content": null,
      "justify_items": null,
      "left": null,
      "margin": null,
      "max_height": null,
      "max_width": null,
      "min_height": null,
      "min_width": null,
      "object_fit": null,
      "object_position": null,
      "order": null,
      "overflow": null,
      "overflow_x": null,
      "overflow_y": null,
      "padding": null,
      "right": null,
      "top": null,
      "visibility": null,
      "width": null
     }
    },
    "21f3bc2f68a547cdae6780c97100f7d3": {
     "model_module": "@jupyter-widgets/base",
     "model_module_version": "1.2.0",
     "model_name": "LayoutModel",
     "state": {
      "_model_module": "@jupyter-widgets/base",
      "_model_module_version": "1.2.0",
      "_model_name": "LayoutModel",
      "_view_count": null,
      "_view_module": "@jupyter-widgets/base",
      "_view_module_version": "1.2.0",
      "_view_name": "LayoutView",
      "align_content": null,
      "align_items": null,
      "align_self": null,
      "border": null,
      "bottom": null,
      "display": null,
      "flex": null,
      "flex_flow": null,
      "grid_area": null,
      "grid_auto_columns": null,
      "grid_auto_flow": null,
      "grid_auto_rows": null,
      "grid_column": null,
      "grid_gap": null,
      "grid_row": null,
      "grid_template_areas": null,
      "grid_template_columns": null,
      "grid_template_rows": null,
      "height": null,
      "justify_content": null,
      "justify_items": null,
      "left": null,
      "margin": null,
      "max_height": null,
      "max_width": null,
      "min_height": null,
      "min_width": null,
      "object_fit": null,
      "object_position": null,
      "order": null,
      "overflow": null,
      "overflow_x": null,
      "overflow_y": null,
      "padding": null,
      "right": null,
      "top": null,
      "visibility": null,
      "width": null
     }
    },
    "25e66ad564ac4fc7b1c23320726811a6": {
     "model_module": "@jupyter-widgets/controls",
     "model_module_version": "1.5.0",
     "model_name": "DescriptionStyleModel",
     "state": {
      "_model_module": "@jupyter-widgets/controls",
      "_model_module_version": "1.5.0",
      "_model_name": "DescriptionStyleModel",
      "_view_count": null,
      "_view_module": "@jupyter-widgets/base",
      "_view_module_version": "1.2.0",
      "_view_name": "StyleView",
      "description_width": ""
     }
    },
    "26c2f9e2d866487fa36f87bd0a36c428": {
     "model_module": "@jupyter-widgets/base",
     "model_module_version": "1.2.0",
     "model_name": "LayoutModel",
     "state": {
      "_model_module": "@jupyter-widgets/base",
      "_model_module_version": "1.2.0",
      "_model_name": "LayoutModel",
      "_view_count": null,
      "_view_module": "@jupyter-widgets/base",
      "_view_module_version": "1.2.0",
      "_view_name": "LayoutView",
      "align_content": null,
      "align_items": null,
      "align_self": null,
      "border": null,
      "bottom": null,
      "display": null,
      "flex": null,
      "flex_flow": null,
      "grid_area": null,
      "grid_auto_columns": null,
      "grid_auto_flow": null,
      "grid_auto_rows": null,
      "grid_column": null,
      "grid_gap": null,
      "grid_row": null,
      "grid_template_areas": null,
      "grid_template_columns": null,
      "grid_template_rows": null,
      "height": null,
      "justify_content": null,
      "justify_items": null,
      "left": null,
      "margin": null,
      "max_height": null,
      "max_width": null,
      "min_height": null,
      "min_width": null,
      "object_fit": null,
      "object_position": null,
      "order": null,
      "overflow": null,
      "overflow_x": null,
      "overflow_y": null,
      "padding": null,
      "right": null,
      "top": null,
      "visibility": null,
      "width": null
     }
    },
    "27dcb261fe064461b4a5eee9ac8b7681": {
     "model_module": "@jupyter-widgets/base",
     "model_module_version": "1.2.0",
     "model_name": "LayoutModel",
     "state": {
      "_model_module": "@jupyter-widgets/base",
      "_model_module_version": "1.2.0",
      "_model_name": "LayoutModel",
      "_view_count": null,
      "_view_module": "@jupyter-widgets/base",
      "_view_module_version": "1.2.0",
      "_view_name": "LayoutView",
      "align_content": null,
      "align_items": null,
      "align_self": null,
      "border": null,
      "bottom": null,
      "display": null,
      "flex": null,
      "flex_flow": null,
      "grid_area": null,
      "grid_auto_columns": null,
      "grid_auto_flow": null,
      "grid_auto_rows": null,
      "grid_column": null,
      "grid_gap": null,
      "grid_row": null,
      "grid_template_areas": null,
      "grid_template_columns": null,
      "grid_template_rows": null,
      "height": null,
      "justify_content": null,
      "justify_items": null,
      "left": null,
      "margin": null,
      "max_height": null,
      "max_width": null,
      "min_height": null,
      "min_width": null,
      "object_fit": null,
      "object_position": null,
      "order": null,
      "overflow": null,
      "overflow_x": null,
      "overflow_y": null,
      "padding": null,
      "right": null,
      "top": null,
      "visibility": null,
      "width": null
     }
    },
    "29c1a6da97d44450bbd454f7c3b8e319": {
     "model_module": "@jupyter-widgets/controls",
     "model_module_version": "1.5.0",
     "model_name": "DescriptionStyleModel",
     "state": {
      "_model_module": "@jupyter-widgets/controls",
      "_model_module_version": "1.5.0",
      "_model_name": "DescriptionStyleModel",
      "_view_count": null,
      "_view_module": "@jupyter-widgets/base",
      "_view_module_version": "1.2.0",
      "_view_name": "StyleView",
      "description_width": ""
     }
    },
    "2b601eca30554ac5834b37421b519c39": {
     "model_module": "@jupyter-widgets/controls",
     "model_module_version": "1.5.0",
     "model_name": "DescriptionStyleModel",
     "state": {
      "_model_module": "@jupyter-widgets/controls",
      "_model_module_version": "1.5.0",
      "_model_name": "DescriptionStyleModel",
      "_view_count": null,
      "_view_module": "@jupyter-widgets/base",
      "_view_module_version": "1.2.0",
      "_view_name": "StyleView",
      "description_width": ""
     }
    },
    "2ba58f9efe87440ba1e335f09cd29ff0": {
     "model_module": "@jupyter-widgets/controls",
     "model_module_version": "1.5.0",
     "model_name": "HBoxModel",
     "state": {
      "_dom_classes": [],
      "_model_module": "@jupyter-widgets/controls",
      "_model_module_version": "1.5.0",
      "_model_name": "HBoxModel",
      "_view_count": null,
      "_view_module": "@jupyter-widgets/controls",
      "_view_module_version": "1.5.0",
      "_view_name": "HBoxView",
      "box_style": "",
      "children": [
       "IPY_MODEL_b914821a0c99420badb4868477bf6a16",
       "IPY_MODEL_7df4f70ecc1f4dc2b3b4683f9ae11798",
       "IPY_MODEL_c88cac4a723a4477beefbf88ca1754d7"
      ],
      "layout": "IPY_MODEL_66d3d87e9f88404686d41e2766349810"
     }
    },
    "2ccc55b9214743179a0b023c84e394fb": {
     "model_module": "@jupyter-widgets/controls",
     "model_module_version": "1.5.0",
     "model_name": "HTMLModel",
     "state": {
      "_dom_classes": [],
      "_model_module": "@jupyter-widgets/controls",
      "_model_module_version": "1.5.0",
      "_model_name": "HTMLModel",
      "_view_count": null,
      "_view_module": "@jupyter-widgets/controls",
      "_view_module_version": "1.5.0",
      "_view_name": "HTMLView",
      "description": "",
      "description_tooltip": null,
      "layout": "IPY_MODEL_fc33ab3ee3364496a9e991c38867cd79",
      "placeholder": "​",
      "style": "IPY_MODEL_7251745d1c3c4109a88582aa88ba3f3d",
      "value": " 1/1 [00:03&lt;00:00,  3.82s/it]"
     }
    },
    "2db9059675184e68856e798e89759567": {
     "model_module": "@jupyter-widgets/base",
     "model_module_version": "1.2.0",
     "model_name": "LayoutModel",
     "state": {
      "_model_module": "@jupyter-widgets/base",
      "_model_module_version": "1.2.0",
      "_model_name": "LayoutModel",
      "_view_count": null,
      "_view_module": "@jupyter-widgets/base",
      "_view_module_version": "1.2.0",
      "_view_name": "LayoutView",
      "align_content": null,
      "align_items": null,
      "align_self": null,
      "border": null,
      "bottom": null,
      "display": null,
      "flex": null,
      "flex_flow": null,
      "grid_area": null,
      "grid_auto_columns": null,
      "grid_auto_flow": null,
      "grid_auto_rows": null,
      "grid_column": null,
      "grid_gap": null,
      "grid_row": null,
      "grid_template_areas": null,
      "grid_template_columns": null,
      "grid_template_rows": null,
      "height": null,
      "justify_content": null,
      "justify_items": null,
      "left": null,
      "margin": null,
      "max_height": null,
      "max_width": null,
      "min_height": null,
      "min_width": null,
      "object_fit": null,
      "object_position": null,
      "order": null,
      "overflow": null,
      "overflow_x": null,
      "overflow_y": null,
      "padding": null,
      "right": null,
      "top": null,
      "visibility": null,
      "width": null
     }
    },
    "3039c6b812854e03a285ac1fca251e80": {
     "model_module": "@jupyter-widgets/base",
     "model_module_version": "1.2.0",
     "model_name": "LayoutModel",
     "state": {
      "_model_module": "@jupyter-widgets/base",
      "_model_module_version": "1.2.0",
      "_model_name": "LayoutModel",
      "_view_count": null,
      "_view_module": "@jupyter-widgets/base",
      "_view_module_version": "1.2.0",
      "_view_name": "LayoutView",
      "align_content": null,
      "align_items": null,
      "align_self": null,
      "border": null,
      "bottom": null,
      "display": null,
      "flex": null,
      "flex_flow": null,
      "grid_area": null,
      "grid_auto_columns": null,
      "grid_auto_flow": null,
      "grid_auto_rows": null,
      "grid_column": null,
      "grid_gap": null,
      "grid_row": null,
      "grid_template_areas": null,
      "grid_template_columns": null,
      "grid_template_rows": null,
      "height": null,
      "justify_content": null,
      "justify_items": null,
      "left": null,
      "margin": null,
      "max_height": null,
      "max_width": null,
      "min_height": null,
      "min_width": null,
      "object_fit": null,
      "object_position": null,
      "order": null,
      "overflow": null,
      "overflow_x": null,
      "overflow_y": null,
      "padding": null,
      "right": null,
      "top": null,
      "visibility": null,
      "width": null
     }
    },
    "32cafa24ab2c42abafce7fd37b89e169": {
     "model_module": "@jupyter-widgets/base",
     "model_module_version": "1.2.0",
     "model_name": "LayoutModel",
     "state": {
      "_model_module": "@jupyter-widgets/base",
      "_model_module_version": "1.2.0",
      "_model_name": "LayoutModel",
      "_view_count": null,
      "_view_module": "@jupyter-widgets/base",
      "_view_module_version": "1.2.0",
      "_view_name": "LayoutView",
      "align_content": null,
      "align_items": null,
      "align_self": null,
      "border": null,
      "bottom": null,
      "display": null,
      "flex": null,
      "flex_flow": null,
      "grid_area": null,
      "grid_auto_columns": null,
      "grid_auto_flow": null,
      "grid_auto_rows": null,
      "grid_column": null,
      "grid_gap": null,
      "grid_row": null,
      "grid_template_areas": null,
      "grid_template_columns": null,
      "grid_template_rows": null,
      "height": null,
      "justify_content": null,
      "justify_items": null,
      "left": null,
      "margin": null,
      "max_height": null,
      "max_width": null,
      "min_height": null,
      "min_width": null,
      "object_fit": null,
      "object_position": null,
      "order": null,
      "overflow": null,
      "overflow_x": null,
      "overflow_y": null,
      "padding": null,
      "right": null,
      "top": null,
      "visibility": null,
      "width": null
     }
    },
    "35c08b5dce504841914bac4a558b984a": {
     "model_module": "@jupyter-widgets/controls",
     "model_module_version": "1.5.0",
     "model_name": "HTMLModel",
     "state": {
      "_dom_classes": [],
      "_model_module": "@jupyter-widgets/controls",
      "_model_module_version": "1.5.0",
      "_model_name": "HTMLModel",
      "_view_count": null,
      "_view_module": "@jupyter-widgets/controls",
      "_view_module_version": "1.5.0",
      "_view_name": "HTMLView",
      "description": "",
      "description_tooltip": null,
      "layout": "IPY_MODEL_ef2b1c245f9a41b1b33042ec4377137d",
      "placeholder": "​",
      "style": "IPY_MODEL_47b6fe2ab62d4c928676fc307c15e82e",
      "value": "100%"
     }
    },
    "39845d77360b4ca8ab88dc82c59b78b9": {
     "model_module": "@jupyter-widgets/base",
     "model_module_version": "1.2.0",
     "model_name": "LayoutModel",
     "state": {
      "_model_module": "@jupyter-widgets/base",
      "_model_module_version": "1.2.0",
      "_model_name": "LayoutModel",
      "_view_count": null,
      "_view_module": "@jupyter-widgets/base",
      "_view_module_version": "1.2.0",
      "_view_name": "LayoutView",
      "align_content": null,
      "align_items": null,
      "align_self": null,
      "border": null,
      "bottom": null,
      "display": null,
      "flex": null,
      "flex_flow": null,
      "grid_area": null,
      "grid_auto_columns": null,
      "grid_auto_flow": null,
      "grid_auto_rows": null,
      "grid_column": null,
      "grid_gap": null,
      "grid_row": null,
      "grid_template_areas": null,
      "grid_template_columns": null,
      "grid_template_rows": null,
      "height": null,
      "justify_content": null,
      "justify_items": null,
      "left": null,
      "margin": null,
      "max_height": null,
      "max_width": null,
      "min_height": null,
      "min_width": null,
      "object_fit": null,
      "object_position": null,
      "order": null,
      "overflow": null,
      "overflow_x": null,
      "overflow_y": null,
      "padding": null,
      "right": null,
      "top": null,
      "visibility": null,
      "width": null
     }
    },
    "3cd11ccf65f047889eed1243d225a563": {
     "model_module": "@jupyter-widgets/controls",
     "model_module_version": "1.5.0",
     "model_name": "HTMLModel",
     "state": {
      "_dom_classes": [],
      "_model_module": "@jupyter-widgets/controls",
      "_model_module_version": "1.5.0",
      "_model_name": "HTMLModel",
      "_view_count": null,
      "_view_module": "@jupyter-widgets/controls",
      "_view_module_version": "1.5.0",
      "_view_name": "HTMLView",
      "description": "",
      "description_tooltip": null,
      "layout": "IPY_MODEL_f006ad14ad0f404caecdd3bce3afd635",
      "placeholder": "​",
      "style": "IPY_MODEL_17d23266359e405da8682f3fc55b9a25",
      "value": " 80/80 [00:30&lt;00:00,  2.69it/s]"
     }
    },
    "3e2a599bd17f4d788f2ac4ba08a26ceb": {
     "model_module": "@jupyter-widgets/controls",
     "model_module_version": "1.5.0",
     "model_name": "DescriptionStyleModel",
     "state": {
      "_model_module": "@jupyter-widgets/controls",
      "_model_module_version": "1.5.0",
      "_model_name": "DescriptionStyleModel",
      "_view_count": null,
      "_view_module": "@jupyter-widgets/base",
      "_view_module_version": "1.2.0",
      "_view_name": "StyleView",
      "description_width": ""
     }
    },
    "40d85fc1085945d39180bcf2d7b0e73e": {
     "model_module": "@jupyter-widgets/controls",
     "model_module_version": "1.5.0",
     "model_name": "DescriptionStyleModel",
     "state": {
      "_model_module": "@jupyter-widgets/controls",
      "_model_module_version": "1.5.0",
      "_model_name": "DescriptionStyleModel",
      "_view_count": null,
      "_view_module": "@jupyter-widgets/base",
      "_view_module_version": "1.2.0",
      "_view_name": "StyleView",
      "description_width": ""
     }
    },
    "41e208c65b9748b59e74d3bfec333712": {
     "model_module": "@jupyter-widgets/controls",
     "model_module_version": "1.5.0",
     "model_name": "DescriptionStyleModel",
     "state": {
      "_model_module": "@jupyter-widgets/controls",
      "_model_module_version": "1.5.0",
      "_model_name": "DescriptionStyleModel",
      "_view_count": null,
      "_view_module": "@jupyter-widgets/base",
      "_view_module_version": "1.2.0",
      "_view_name": "StyleView",
      "description_width": ""
     }
    },
    "436461e55c1a4aa48f5600665488408e": {
     "model_module": "@jupyter-widgets/controls",
     "model_module_version": "1.5.0",
     "model_name": "DescriptionStyleModel",
     "state": {
      "_model_module": "@jupyter-widgets/controls",
      "_model_module_version": "1.5.0",
      "_model_name": "DescriptionStyleModel",
      "_view_count": null,
      "_view_module": "@jupyter-widgets/base",
      "_view_module_version": "1.2.0",
      "_view_name": "StyleView",
      "description_width": ""
     }
    },
    "43e1fbc1094044b2a1ac003cd0d811c1": {
     "model_module": "@jupyter-widgets/base",
     "model_module_version": "1.2.0",
     "model_name": "LayoutModel",
     "state": {
      "_model_module": "@jupyter-widgets/base",
      "_model_module_version": "1.2.0",
      "_model_name": "LayoutModel",
      "_view_count": null,
      "_view_module": "@jupyter-widgets/base",
      "_view_module_version": "1.2.0",
      "_view_name": "LayoutView",
      "align_content": null,
      "align_items": null,
      "align_self": null,
      "border": null,
      "bottom": null,
      "display": null,
      "flex": null,
      "flex_flow": null,
      "grid_area": null,
      "grid_auto_columns": null,
      "grid_auto_flow": null,
      "grid_auto_rows": null,
      "grid_column": null,
      "grid_gap": null,
      "grid_row": null,
      "grid_template_areas": null,
      "grid_template_columns": null,
      "grid_template_rows": null,
      "height": null,
      "justify_content": null,
      "justify_items": null,
      "left": null,
      "margin": null,
      "max_height": null,
      "max_width": null,
      "min_height": null,
      "min_width": null,
      "object_fit": null,
      "object_position": null,
      "order": null,
      "overflow": null,
      "overflow_x": null,
      "overflow_y": null,
      "padding": null,
      "right": null,
      "top": null,
      "visibility": null,
      "width": null
     }
    },
    "46312c661f464f119293b8f12d6ed69a": {
     "model_module": "@jupyter-widgets/controls",
     "model_module_version": "1.5.0",
     "model_name": "FloatProgressModel",
     "state": {
      "_dom_classes": [],
      "_model_module": "@jupyter-widgets/controls",
      "_model_module_version": "1.5.0",
      "_model_name": "FloatProgressModel",
      "_view_count": null,
      "_view_module": "@jupyter-widgets/controls",
      "_view_module_version": "1.5.0",
      "_view_name": "ProgressView",
      "bar_style": "success",
      "description": "",
      "description_tooltip": null,
      "layout": "IPY_MODEL_def4deb532db4d54a8bc517e5bae2ca4",
      "max": 80,
      "min": 0,
      "orientation": "horizontal",
      "style": "IPY_MODEL_cc6c1829094f4cfe92d5fec3c14ec8e6",
      "value": 80
     }
    },
    "46db75d6afe44f7a9a7df77d5f16d358": {
     "model_module": "@jupyter-widgets/base",
     "model_module_version": "1.2.0",
     "model_name": "LayoutModel",
     "state": {
      "_model_module": "@jupyter-widgets/base",
      "_model_module_version": "1.2.0",
      "_model_name": "LayoutModel",
      "_view_count": null,
      "_view_module": "@jupyter-widgets/base",
      "_view_module_version": "1.2.0",
      "_view_name": "LayoutView",
      "align_content": null,
      "align_items": null,
      "align_self": null,
      "border": null,
      "bottom": null,
      "display": null,
      "flex": null,
      "flex_flow": null,
      "grid_area": null,
      "grid_auto_columns": null,
      "grid_auto_flow": null,
      "grid_auto_rows": null,
      "grid_column": null,
      "grid_gap": null,
      "grid_row": null,
      "grid_template_areas": null,
      "grid_template_columns": null,
      "grid_template_rows": null,
      "height": null,
      "justify_content": null,
      "justify_items": null,
      "left": null,
      "margin": null,
      "max_height": null,
      "max_width": null,
      "min_height": null,
      "min_width": null,
      "object_fit": null,
      "object_position": null,
      "order": null,
      "overflow": null,
      "overflow_x": null,
      "overflow_y": null,
      "padding": null,
      "right": null,
      "top": null,
      "visibility": null,
      "width": null
     }
    },
    "46ec9f1347ea458eb5552543788950c4": {
     "model_module": "@jupyter-widgets/base",
     "model_module_version": "1.2.0",
     "model_name": "LayoutModel",
     "state": {
      "_model_module": "@jupyter-widgets/base",
      "_model_module_version": "1.2.0",
      "_model_name": "LayoutModel",
      "_view_count": null,
      "_view_module": "@jupyter-widgets/base",
      "_view_module_version": "1.2.0",
      "_view_name": "LayoutView",
      "align_content": null,
      "align_items": null,
      "align_self": null,
      "border": null,
      "bottom": null,
      "display": null,
      "flex": null,
      "flex_flow": null,
      "grid_area": null,
      "grid_auto_columns": null,
      "grid_auto_flow": null,
      "grid_auto_rows": null,
      "grid_column": null,
      "grid_gap": null,
      "grid_row": null,
      "grid_template_areas": null,
      "grid_template_columns": null,
      "grid_template_rows": null,
      "height": null,
      "justify_content": null,
      "justify_items": null,
      "left": null,
      "margin": null,
      "max_height": null,
      "max_width": null,
      "min_height": null,
      "min_width": null,
      "object_fit": null,
      "object_position": null,
      "order": null,
      "overflow": null,
      "overflow_x": null,
      "overflow_y": null,
      "padding": null,
      "right": null,
      "top": null,
      "visibility": null,
      "width": null
     }
    },
    "47272304dc474008b1bcffc204933ff5": {
     "model_module": "@jupyter-widgets/controls",
     "model_module_version": "1.5.0",
     "model_name": "DescriptionStyleModel",
     "state": {
      "_model_module": "@jupyter-widgets/controls",
      "_model_module_version": "1.5.0",
      "_model_name": "DescriptionStyleModel",
      "_view_count": null,
      "_view_module": "@jupyter-widgets/base",
      "_view_module_version": "1.2.0",
      "_view_name": "StyleView",
      "description_width": ""
     }
    },
    "47b6fe2ab62d4c928676fc307c15e82e": {
     "model_module": "@jupyter-widgets/controls",
     "model_module_version": "1.5.0",
     "model_name": "DescriptionStyleModel",
     "state": {
      "_model_module": "@jupyter-widgets/controls",
      "_model_module_version": "1.5.0",
      "_model_name": "DescriptionStyleModel",
      "_view_count": null,
      "_view_module": "@jupyter-widgets/base",
      "_view_module_version": "1.2.0",
      "_view_name": "StyleView",
      "description_width": ""
     }
    },
    "48a86b02556847eb86376ee19042632d": {
     "model_module": "@jupyter-widgets/controls",
     "model_module_version": "1.5.0",
     "model_name": "HTMLModel",
     "state": {
      "_dom_classes": [],
      "_model_module": "@jupyter-widgets/controls",
      "_model_module_version": "1.5.0",
      "_model_name": "HTMLModel",
      "_view_count": null,
      "_view_module": "@jupyter-widgets/controls",
      "_view_module_version": "1.5.0",
      "_view_name": "HTMLView",
      "description": "",
      "description_tooltip": null,
      "layout": "IPY_MODEL_79083f3b0a454ff3b96c2f2a85f29e2a",
      "placeholder": "​",
      "style": "IPY_MODEL_6e63d069295b4aa4a0b13a8d5f0c05ee",
      "value": " 2770270/? [02:48&lt;00:00, 87930.73it/s]"
     }
    },
    "4afef81af5c64e809b526cb88360ce26": {
     "model_module": "@jupyter-widgets/base",
     "model_module_version": "1.2.0",
     "model_name": "LayoutModel",
     "state": {
      "_model_module": "@jupyter-widgets/base",
      "_model_module_version": "1.2.0",
      "_model_name": "LayoutModel",
      "_view_count": null,
      "_view_module": "@jupyter-widgets/base",
      "_view_module_version": "1.2.0",
      "_view_name": "LayoutView",
      "align_content": null,
      "align_items": null,
      "align_self": null,
      "border": null,
      "bottom": null,
      "display": null,
      "flex": null,
      "flex_flow": null,
      "grid_area": null,
      "grid_auto_columns": null,
      "grid_auto_flow": null,
      "grid_auto_rows": null,
      "grid_column": null,
      "grid_gap": null,
      "grid_row": null,
      "grid_template_areas": null,
      "grid_template_columns": null,
      "grid_template_rows": null,
      "height": null,
      "justify_content": null,
      "justify_items": null,
      "left": null,
      "margin": null,
      "max_height": null,
      "max_width": null,
      "min_height": null,
      "min_width": null,
      "object_fit": null,
      "object_position": null,
      "order": null,
      "overflow": null,
      "overflow_x": null,
      "overflow_y": null,
      "padding": null,
      "right": null,
      "top": null,
      "visibility": null,
      "width": null
     }
    },
    "4c3d845906cb441db331b6cb3ce2587c": {
     "model_module": "@jupyter-widgets/controls",
     "model_module_version": "1.5.0",
     "model_name": "HBoxModel",
     "state": {
      "_dom_classes": [],
      "_model_module": "@jupyter-widgets/controls",
      "_model_module_version": "1.5.0",
      "_model_name": "HBoxModel",
      "_view_count": null,
      "_view_module": "@jupyter-widgets/controls",
      "_view_module_version": "1.5.0",
      "_view_name": "HBoxView",
      "box_style": "",
      "children": [
       "IPY_MODEL_cc9fae9ed1d74008866e239f1a0a4506",
       "IPY_MODEL_9bfd7dfd70714aba925209282774d5a6",
       "IPY_MODEL_6ef1671ffce9460ba8ccc33566b4d6d0"
      ],
      "layout": "IPY_MODEL_ad4f0e7dfc0f40349f868cc3f6a9c68a"
     }
    },
    "4d164b32679b408189328dd93b413fac": {
     "model_module": "@jupyter-widgets/controls",
     "model_module_version": "1.5.0",
     "model_name": "HTMLModel",
     "state": {
      "_dom_classes": [],
      "_model_module": "@jupyter-widgets/controls",
      "_model_module_version": "1.5.0",
      "_model_name": "HTMLModel",
      "_view_count": null,
      "_view_module": "@jupyter-widgets/controls",
      "_view_module_version": "1.5.0",
      "_view_name": "HTMLView",
      "description": "",
      "description_tooltip": null,
      "layout": "IPY_MODEL_b5e74e59076949119472910475d14dea",
      "placeholder": "​",
      "style": "IPY_MODEL_29c1a6da97d44450bbd454f7c3b8e319",
      "value": " 436M/436M [00:07&lt;00:00, 62.0MB/s]"
     }
    },
    "4d46ceebd32f44f6a82f95a6645324a4": {
     "model_module": "@jupyter-widgets/controls",
     "model_module_version": "1.5.0",
     "model_name": "DescriptionStyleModel",
     "state": {
      "_model_module": "@jupyter-widgets/controls",
      "_model_module_version": "1.5.0",
      "_model_name": "DescriptionStyleModel",
      "_view_count": null,
      "_view_module": "@jupyter-widgets/base",
      "_view_module_version": "1.2.0",
      "_view_name": "StyleView",
      "description_width": ""
     }
    },
    "4e4e7a4e12be44368bf9889a4d64d5e1": {
     "model_module": "@jupyter-widgets/controls",
     "model_module_version": "1.5.0",
     "model_name": "HTMLModel",
     "state": {
      "_dom_classes": [],
      "_model_module": "@jupyter-widgets/controls",
      "_model_module_version": "1.5.0",
      "_model_name": "HTMLModel",
      "_view_count": null,
      "_view_module": "@jupyter-widgets/controls",
      "_view_module_version": "1.5.0",
      "_view_name": "HTMLView",
      "description": "",
      "description_tooltip": null,
      "layout": "IPY_MODEL_acce0d9c286a45828a9bc6183f057e99",
      "placeholder": "​",
      "style": "IPY_MODEL_8c3023551e4b4abcbe62564ffb6e607e",
      "value": " 80/80 [00:38&lt;00:00,  2.14it/s]"
     }
    },
    "4edfd464bd0f44ee8b06252d768f27d5": {
     "model_module": "@jupyter-widgets/controls",
     "model_module_version": "1.5.0",
     "model_name": "HTMLModel",
     "state": {
      "_dom_classes": [],
      "_model_module": "@jupyter-widgets/controls",
      "_model_module_version": "1.5.0",
      "_model_name": "HTMLModel",
      "_view_count": null,
      "_view_module": "@jupyter-widgets/controls",
      "_view_module_version": "1.5.0",
      "_view_name": "HTMLView",
      "description": "",
      "description_tooltip": null,
      "layout": "IPY_MODEL_4afef81af5c64e809b526cb88360ce26",
      "placeholder": "​",
      "style": "IPY_MODEL_2b601eca30554ac5834b37421b519c39",
      "value": ""
     }
    },
    "4f8ed25e503444f98a170e4a541f763a": {
     "model_module": "@jupyter-widgets/base",
     "model_module_version": "1.2.0",
     "model_name": "LayoutModel",
     "state": {
      "_model_module": "@jupyter-widgets/base",
      "_model_module_version": "1.2.0",
      "_model_name": "LayoutModel",
      "_view_count": null,
      "_view_module": "@jupyter-widgets/base",
      "_view_module_version": "1.2.0",
      "_view_name": "LayoutView",
      "align_content": null,
      "align_items": null,
      "align_self": null,
      "border": null,
      "bottom": null,
      "display": null,
      "flex": null,
      "flex_flow": null,
      "grid_area": null,
      "grid_auto_columns": null,
      "grid_auto_flow": null,
      "grid_auto_rows": null,
      "grid_column": null,
      "grid_gap": null,
      "grid_row": null,
      "grid_template_areas": null,
      "grid_template_columns": null,
      "grid_template_rows": null,
      "height": null,
      "justify_content": null,
      "justify_items": null,
      "left": null,
      "margin": null,
      "max_height": null,
      "max_width": null,
      "min_height": null,
      "min_width": null,
      "object_fit": null,
      "object_position": null,
      "order": null,
      "overflow": null,
      "overflow_x": null,
      "overflow_y": null,
      "padding": null,
      "right": null,
      "top": null,
      "visibility": null,
      "width": null
     }
    },
    "500e5c42076540d982ddf91fd045d226": {
     "model_module": "@jupyter-widgets/controls",
     "model_module_version": "1.5.0",
     "model_name": "DescriptionStyleModel",
     "state": {
      "_model_module": "@jupyter-widgets/controls",
      "_model_module_version": "1.5.0",
      "_model_name": "DescriptionStyleModel",
      "_view_count": null,
      "_view_module": "@jupyter-widgets/base",
      "_view_module_version": "1.2.0",
      "_view_name": "StyleView",
      "description_width": ""
     }
    },
    "51907a0879894082bd12ba7404e626cb": {
     "model_module": "@jupyter-widgets/controls",
     "model_module_version": "1.5.0",
     "model_name": "HTMLModel",
     "state": {
      "_dom_classes": [],
      "_model_module": "@jupyter-widgets/controls",
      "_model_module_version": "1.5.0",
      "_model_name": "HTMLModel",
      "_view_count": null,
      "_view_module": "@jupyter-widgets/controls",
      "_view_module_version": "1.5.0",
      "_view_name": "HTMLView",
      "description": "",
      "description_tooltip": null,
      "layout": "IPY_MODEL_f41f55c723894203a19629f221e56750",
      "placeholder": "​",
      "style": "IPY_MODEL_9bc92fae9ad64de98fcb799f93687bd4",
      "value": "100%"
     }
    },
    "52d9d0d109bf488bb6e81b5d4cbec8c4": {
     "model_module": "@jupyter-widgets/controls",
     "model_module_version": "1.5.0",
     "model_name": "HBoxModel",
     "state": {
      "_dom_classes": [],
      "_model_module": "@jupyter-widgets/controls",
      "_model_module_version": "1.5.0",
      "_model_name": "HBoxModel",
      "_view_count": null,
      "_view_module": "@jupyter-widgets/controls",
      "_view_module_version": "1.5.0",
      "_view_name": "HBoxView",
      "box_style": "",
      "children": [
       "IPY_MODEL_35c08b5dce504841914bac4a558b984a",
       "IPY_MODEL_765e8e656cee4da7ab3a4886bb73ee41",
       "IPY_MODEL_c4fb94f582524eceadcc1dbb0b21aec9"
      ],
      "layout": "IPY_MODEL_97d72a06657a4c0e9e8ec4ac15890470"
     }
    },
    "55b0d7df5e794e17a2f6bd4125790fc6": {
     "model_module": "@jupyter-widgets/base",
     "model_module_version": "1.2.0",
     "model_name": "LayoutModel",
     "state": {
      "_model_module": "@jupyter-widgets/base",
      "_model_module_version": "1.2.0",
      "_model_name": "LayoutModel",
      "_view_count": null,
      "_view_module": "@jupyter-widgets/base",
      "_view_module_version": "1.2.0",
      "_view_name": "LayoutView",
      "align_content": null,
      "align_items": null,
      "align_self": null,
      "border": null,
      "bottom": null,
      "display": null,
      "flex": null,
      "flex_flow": null,
      "grid_area": null,
      "grid_auto_columns": null,
      "grid_auto_flow": null,
      "grid_auto_rows": null,
      "grid_column": null,
      "grid_gap": null,
      "grid_row": null,
      "grid_template_areas": null,
      "grid_template_columns": null,
      "grid_template_rows": null,
      "height": null,
      "justify_content": null,
      "justify_items": null,
      "left": null,
      "margin": null,
      "max_height": null,
      "max_width": null,
      "min_height": null,
      "min_width": null,
      "object_fit": null,
      "object_position": null,
      "order": null,
      "overflow": null,
      "overflow_x": null,
      "overflow_y": null,
      "padding": null,
      "right": null,
      "top": null,
      "visibility": null,
      "width": null
     }
    },
    "561016b4bf664295a012d4e4657562cd": {
     "model_module": "@jupyter-widgets/controls",
     "model_module_version": "1.5.0",
     "model_name": "HBoxModel",
     "state": {
      "_dom_classes": [],
      "_model_module": "@jupyter-widgets/controls",
      "_model_module_version": "1.5.0",
      "_model_name": "HBoxModel",
      "_view_count": null,
      "_view_module": "@jupyter-widgets/controls",
      "_view_module_version": "1.5.0",
      "_view_name": "HBoxView",
      "box_style": "",
      "children": [
       "IPY_MODEL_64eb5d9779724efcbe8f7cd131a7ef0d",
       "IPY_MODEL_b5c8edf78439446fbe9f5275947f111f",
       "IPY_MODEL_2ccc55b9214743179a0b023c84e394fb"
      ],
      "layout": "IPY_MODEL_ff0667f3ef964189891d797f86a28ef7"
     }
    },
    "57c7fe354d5b46bdb68e073e9032876d": {
     "model_module": "@jupyter-widgets/base",
     "model_module_version": "1.2.0",
     "model_name": "LayoutModel",
     "state": {
      "_model_module": "@jupyter-widgets/base",
      "_model_module_version": "1.2.0",
      "_model_name": "LayoutModel",
      "_view_count": null,
      "_view_module": "@jupyter-widgets/base",
      "_view_module_version": "1.2.0",
      "_view_name": "LayoutView",
      "align_content": null,
      "align_items": null,
      "align_self": null,
      "border": null,
      "bottom": null,
      "display": null,
      "flex": null,
      "flex_flow": null,
      "grid_area": null,
      "grid_auto_columns": null,
      "grid_auto_flow": null,
      "grid_auto_rows": null,
      "grid_column": null,
      "grid_gap": null,
      "grid_row": null,
      "grid_template_areas": null,
      "grid_template_columns": null,
      "grid_template_rows": null,
      "height": null,
      "justify_content": null,
      "justify_items": null,
      "left": null,
      "margin": null,
      "max_height": null,
      "max_width": null,
      "min_height": null,
      "min_width": null,
      "object_fit": null,
      "object_position": null,
      "order": null,
      "overflow": null,
      "overflow_x": null,
      "overflow_y": null,
      "padding": null,
      "right": null,
      "top": null,
      "visibility": null,
      "width": null
     }
    },
    "5815331f57c84030bedbc64ed69dd55b": {
     "model_module": "@jupyter-widgets/controls",
     "model_module_version": "1.5.0",
     "model_name": "FloatProgressModel",
     "state": {
      "_dom_classes": [],
      "_model_module": "@jupyter-widgets/controls",
      "_model_module_version": "1.5.0",
      "_model_name": "FloatProgressModel",
      "_view_count": null,
      "_view_module": "@jupyter-widgets/controls",
      "_view_module_version": "1.5.0",
      "_view_name": "ProgressView",
      "bar_style": "success",
      "description": "",
      "description_tooltip": null,
      "layout": "IPY_MODEL_ad703b026db34a8e91fe0c876683d412",
      "max": 1,
      "min": 0,
      "orientation": "horizontal",
      "style": "IPY_MODEL_e154310a7065462f8a58d3e37ee55e71",
      "value": 1
     }
    },
    "5aa25bf45d9447deaaed8f5104c498da": {
     "model_module": "@jupyter-widgets/controls",
     "model_module_version": "1.5.0",
     "model_name": "HTMLModel",
     "state": {
      "_dom_classes": [],
      "_model_module": "@jupyter-widgets/controls",
      "_model_module_version": "1.5.0",
      "_model_name": "HTMLModel",
      "_view_count": null,
      "_view_module": "@jupyter-widgets/controls",
      "_view_module_version": "1.5.0",
      "_view_name": "HTMLView",
      "description": "",
      "description_tooltip": null,
      "layout": "IPY_MODEL_0602906878ce44aa81c628ee59abc89b",
      "placeholder": "​",
      "style": "IPY_MODEL_843fa0122ba14210b854da344eb4e799",
      "value": "100%"
     }
    },
    "611533082d9742feb7adeb0e374bad10": {
     "model_module": "@jupyter-widgets/controls",
     "model_module_version": "1.5.0",
     "model_name": "HBoxModel",
     "state": {
      "_dom_classes": [],
      "_model_module": "@jupyter-widgets/controls",
      "_model_module_version": "1.5.0",
      "_model_name": "HBoxModel",
      "_view_count": null,
      "_view_module": "@jupyter-widgets/controls",
      "_view_module_version": "1.5.0",
      "_view_name": "HBoxView",
      "box_style": "",
      "children": [
       "IPY_MODEL_51907a0879894082bd12ba7404e626cb",
       "IPY_MODEL_46312c661f464f119293b8f12d6ed69a",
       "IPY_MODEL_3cd11ccf65f047889eed1243d225a563"
      ],
      "layout": "IPY_MODEL_c24767ec76a64a4ba8e9479d6b762442"
     }
    },
    "61deb4565bf44c538b921cea90d1f127": {
     "model_module": "@jupyter-widgets/base",
     "model_module_version": "1.2.0",
     "model_name": "LayoutModel",
     "state": {
      "_model_module": "@jupyter-widgets/base",
      "_model_module_version": "1.2.0",
      "_model_name": "LayoutModel",
      "_view_count": null,
      "_view_module": "@jupyter-widgets/base",
      "_view_module_version": "1.2.0",
      "_view_name": "LayoutView",
      "align_content": null,
      "align_items": null,
      "align_self": null,
      "border": null,
      "bottom": null,
      "display": null,
      "flex": null,
      "flex_flow": null,
      "grid_area": null,
      "grid_auto_columns": null,
      "grid_auto_flow": null,
      "grid_auto_rows": null,
      "grid_column": null,
      "grid_gap": null,
      "grid_row": null,
      "grid_template_areas": null,
      "grid_template_columns": null,
      "grid_template_rows": null,
      "height": null,
      "justify_content": null,
      "justify_items": null,
      "left": null,
      "margin": null,
      "max_height": null,
      "max_width": null,
      "min_height": null,
      "min_width": null,
      "object_fit": null,
      "object_position": null,
      "order": null,
      "overflow": null,
      "overflow_x": null,
      "overflow_y": null,
      "padding": null,
      "right": null,
      "top": null,
      "visibility": null,
      "width": null
     }
    },
    "640bdf26ce7040898e38082dee00311c": {
     "model_module": "@jupyter-widgets/controls",
     "model_module_version": "1.5.0",
     "model_name": "FloatProgressModel",
     "state": {
      "_dom_classes": [],
      "_model_module": "@jupyter-widgets/controls",
      "_model_module_version": "1.5.0",
      "_model_name": "FloatProgressModel",
      "_view_count": null,
      "_view_module": "@jupyter-widgets/controls",
      "_view_module_version": "1.5.0",
      "_view_name": "ProgressView",
      "bar_style": "success",
      "description": "",
      "description_tooltip": null,
      "layout": "IPY_MODEL_f4954082463e471eb5650bd1115bc833",
      "max": 1,
      "min": 0,
      "orientation": "horizontal",
      "style": "IPY_MODEL_698a5d988e6a47fa90a5205d96ff0deb",
      "value": 1
     }
    },
    "6448696c4e5b4b07a113cc7a23bf1d05": {
     "model_module": "@jupyter-widgets/controls",
     "model_module_version": "1.5.0",
     "model_name": "DescriptionStyleModel",
     "state": {
      "_model_module": "@jupyter-widgets/controls",
      "_model_module_version": "1.5.0",
      "_model_name": "DescriptionStyleModel",
      "_view_count": null,
      "_view_module": "@jupyter-widgets/base",
      "_view_module_version": "1.2.0",
      "_view_name": "StyleView",
      "description_width": ""
     }
    },
    "649f163804324fc19aef6be061d3613d": {
     "model_module": "@jupyter-widgets/controls",
     "model_module_version": "1.5.0",
     "model_name": "ProgressStyleModel",
     "state": {
      "_model_module": "@jupyter-widgets/controls",
      "_model_module_version": "1.5.0",
      "_model_name": "ProgressStyleModel",
      "_view_count": null,
      "_view_module": "@jupyter-widgets/base",
      "_view_module_version": "1.2.0",
      "_view_name": "StyleView",
      "bar_color": null,
      "description_width": ""
     }
    },
    "64eb5d9779724efcbe8f7cd131a7ef0d": {
     "model_module": "@jupyter-widgets/controls",
     "model_module_version": "1.5.0",
     "model_name": "HTMLModel",
     "state": {
      "_dom_classes": [],
      "_model_module": "@jupyter-widgets/controls",
      "_model_module_version": "1.5.0",
      "_model_name": "HTMLModel",
      "_view_count": null,
      "_view_module": "@jupyter-widgets/controls",
      "_view_module_version": "1.5.0",
      "_view_name": "HTMLView",
      "description": "",
      "description_tooltip": null,
      "layout": "IPY_MODEL_b891e155c8924d51b4a1a519e819b86b",
      "placeholder": "​",
      "style": "IPY_MODEL_889d8612bb924c1a85f98b6f58193f2f",
      "value": "100%"
     }
    },
    "6546be0b03db4f72ae79c8bd39213506": {
     "model_module": "@jupyter-widgets/controls",
     "model_module_version": "1.5.0",
     "model_name": "HTMLModel",
     "state": {
      "_dom_classes": [],
      "_model_module": "@jupyter-widgets/controls",
      "_model_module_version": "1.5.0",
      "_model_name": "HTMLModel",
      "_view_count": null,
      "_view_module": "@jupyter-widgets/controls",
      "_view_module_version": "1.5.0",
      "_view_name": "HTMLView",
      "description": "",
      "description_tooltip": null,
      "layout": "IPY_MODEL_88547389bf244cac8b767ca5c1b03308",
      "placeholder": "​",
      "style": "IPY_MODEL_d5bc593c1b8b43df97c40222197a907c",
      "value": ""
     }
    },
    "66d3d87e9f88404686d41e2766349810": {
     "model_module": "@jupyter-widgets/base",
     "model_module_version": "1.2.0",
     "model_name": "LayoutModel",
     "state": {
      "_model_module": "@jupyter-widgets/base",
      "_model_module_version": "1.2.0",
      "_model_name": "LayoutModel",
      "_view_count": null,
      "_view_module": "@jupyter-widgets/base",
      "_view_module_version": "1.2.0",
      "_view_name": "LayoutView",
      "align_content": null,
      "align_items": null,
      "align_self": null,
      "border": null,
      "bottom": null,
      "display": null,
      "flex": null,
      "flex_flow": null,
      "grid_area": null,
      "grid_auto_columns": null,
      "grid_auto_flow": null,
      "grid_auto_rows": null,
      "grid_column": null,
      "grid_gap": null,
      "grid_row": null,
      "grid_template_areas": null,
      "grid_template_columns": null,
      "grid_template_rows": null,
      "height": null,
      "justify_content": null,
      "justify_items": null,
      "left": null,
      "margin": null,
      "max_height": null,
      "max_width": null,
      "min_height": null,
      "min_width": null,
      "object_fit": null,
      "object_position": null,
      "order": null,
      "overflow": null,
      "overflow_x": null,
      "overflow_y": null,
      "padding": null,
      "right": null,
      "top": null,
      "visibility": null,
      "width": null
     }
    },
    "6772e582b4044346a91405d4b8b9d9bc": {
     "model_module": "@jupyter-widgets/controls",
     "model_module_version": "1.5.0",
     "model_name": "ProgressStyleModel",
     "state": {
      "_model_module": "@jupyter-widgets/controls",
      "_model_module_version": "1.5.0",
      "_model_name": "ProgressStyleModel",
      "_view_count": null,
      "_view_module": "@jupyter-widgets/base",
      "_view_module_version": "1.2.0",
      "_view_name": "StyleView",
      "bar_color": null,
      "description_width": ""
     }
    },
    "69154883cc3f427dbad0dc7aad49d029": {
     "model_module": "@jupyter-widgets/controls",
     "model_module_version": "1.5.0",
     "model_name": "FloatProgressModel",
     "state": {
      "_dom_classes": [],
      "_model_module": "@jupyter-widgets/controls",
      "_model_module_version": "1.5.0",
      "_model_name": "FloatProgressModel",
      "_view_count": null,
      "_view_module": "@jupyter-widgets/controls",
      "_view_module_version": "1.5.0",
      "_view_name": "ProgressView",
      "bar_style": "success",
      "description": "",
      "description_tooltip": null,
      "layout": "IPY_MODEL_2166a4f6bfc14e88ac3500239c927e86",
      "max": 1,
      "min": 0,
      "orientation": "horizontal",
      "style": "IPY_MODEL_649f163804324fc19aef6be061d3613d",
      "value": 1
     }
    },
    "698a5d988e6a47fa90a5205d96ff0deb": {
     "model_module": "@jupyter-widgets/controls",
     "model_module_version": "1.5.0",
     "model_name": "ProgressStyleModel",
     "state": {
      "_model_module": "@jupyter-widgets/controls",
      "_model_module_version": "1.5.0",
      "_model_name": "ProgressStyleModel",
      "_view_count": null,
      "_view_module": "@jupyter-widgets/base",
      "_view_module_version": "1.2.0",
      "_view_name": "StyleView",
      "bar_color": null,
      "description_width": ""
     }
    },
    "6e63d069295b4aa4a0b13a8d5f0c05ee": {
     "model_module": "@jupyter-widgets/controls",
     "model_module_version": "1.5.0",
     "model_name": "DescriptionStyleModel",
     "state": {
      "_model_module": "@jupyter-widgets/controls",
      "_model_module_version": "1.5.0",
      "_model_name": "DescriptionStyleModel",
      "_view_count": null,
      "_view_module": "@jupyter-widgets/base",
      "_view_module_version": "1.2.0",
      "_view_name": "StyleView",
      "description_width": ""
     }
    },
    "6ef1671ffce9460ba8ccc33566b4d6d0": {
     "model_module": "@jupyter-widgets/controls",
     "model_module_version": "1.5.0",
     "model_name": "HTMLModel",
     "state": {
      "_dom_classes": [],
      "_model_module": "@jupyter-widgets/controls",
      "_model_module_version": "1.5.0",
      "_model_name": "HTMLModel",
      "_view_count": null,
      "_view_module": "@jupyter-widgets/controls",
      "_view_module_version": "1.5.0",
      "_view_name": "HTMLView",
      "description": "",
      "description_tooltip": null,
      "layout": "IPY_MODEL_46db75d6afe44f7a9a7df77d5f16d358",
      "placeholder": "​",
      "style": "IPY_MODEL_72f3a1aca2bd42f1a5247f34229b4577",
      "value": " 313/313 [00:00&lt;00:00, 12.7kB/s]"
     }
    },
    "705330ab1f7e402b8475c8fcaea488a5": {
     "model_module": "@jupyter-widgets/base",
     "model_module_version": "1.2.0",
     "model_name": "LayoutModel",
     "state": {
      "_model_module": "@jupyter-widgets/base",
      "_model_module_version": "1.2.0",
      "_model_name": "LayoutModel",
      "_view_count": null,
      "_view_module": "@jupyter-widgets/base",
      "_view_module_version": "1.2.0",
      "_view_name": "LayoutView",
      "align_content": null,
      "align_items": null,
      "align_self": null,
      "border": null,
      "bottom": null,
      "display": null,
      "flex": null,
      "flex_flow": null,
      "grid_area": null,
      "grid_auto_columns": null,
      "grid_auto_flow": null,
      "grid_auto_rows": null,
      "grid_column": null,
      "grid_gap": null,
      "grid_row": null,
      "grid_template_areas": null,
      "grid_template_columns": null,
      "grid_template_rows": null,
      "height": null,
      "justify_content": null,
      "justify_items": null,
      "left": null,
      "margin": null,
      "max_height": null,
      "max_width": null,
      "min_height": null,
      "min_width": null,
      "object_fit": null,
      "object_position": null,
      "order": null,
      "overflow": null,
      "overflow_x": null,
      "overflow_y": null,
      "padding": null,
      "right": null,
      "top": null,
      "visibility": null,
      "width": null
     }
    },
    "7129ac8ba89545d0ad8c44310120d66e": {
     "model_module": "@jupyter-widgets/controls",
     "model_module_version": "1.5.0",
     "model_name": "HTMLModel",
     "state": {
      "_dom_classes": [],
      "_model_module": "@jupyter-widgets/controls",
      "_model_module_version": "1.5.0",
      "_model_name": "HTMLModel",
      "_view_count": null,
      "_view_module": "@jupyter-widgets/controls",
      "_view_module_version": "1.5.0",
      "_view_name": "HTMLView",
      "description": "",
      "description_tooltip": null,
      "layout": "IPY_MODEL_cbe3548d644d450c866f9d256b569d1a",
      "placeholder": "​",
      "style": "IPY_MODEL_25e66ad564ac4fc7b1c23320726811a6",
      "value": "Downloading: 100%"
     }
    },
    "7251745d1c3c4109a88582aa88ba3f3d": {
     "model_module": "@jupyter-widgets/controls",
     "model_module_version": "1.5.0",
     "model_name": "DescriptionStyleModel",
     "state": {
      "_model_module": "@jupyter-widgets/controls",
      "_model_module_version": "1.5.0",
      "_model_name": "DescriptionStyleModel",
      "_view_count": null,
      "_view_module": "@jupyter-widgets/base",
      "_view_module_version": "1.2.0",
      "_view_name": "StyleView",
      "description_width": ""
     }
    },
    "72f00d6877094537bb76358a389fa19e": {
     "model_module": "@jupyter-widgets/controls",
     "model_module_version": "1.5.0",
     "model_name": "HTMLModel",
     "state": {
      "_dom_classes": [],
      "_model_module": "@jupyter-widgets/controls",
      "_model_module_version": "1.5.0",
      "_model_name": "HTMLModel",
      "_view_count": null,
      "_view_module": "@jupyter-widgets/controls",
      "_view_module_version": "1.5.0",
      "_view_name": "HTMLView",
      "description": "",
      "description_tooltip": null,
      "layout": "IPY_MODEL_172ebff1a6cd4fe18e38e730f8cc9123",
      "placeholder": "​",
      "style": "IPY_MODEL_6448696c4e5b4b07a113cc7a23bf1d05",
      "value": " 1/1 [00:03&lt;00:00,  3.18s/it]"
     }
    },
    "72f3a1aca2bd42f1a5247f34229b4577": {
     "model_module": "@jupyter-widgets/controls",
     "model_module_version": "1.5.0",
     "model_name": "DescriptionStyleModel",
     "state": {
      "_model_module": "@jupyter-widgets/controls",
      "_model_module_version": "1.5.0",
      "_model_name": "DescriptionStyleModel",
      "_view_count": null,
      "_view_module": "@jupyter-widgets/base",
      "_view_module_version": "1.2.0",
      "_view_name": "StyleView",
      "description_width": ""
     }
    },
    "739d7c615bc54901bc4ebd584ea1fc73": {
     "model_module": "@jupyter-widgets/controls",
     "model_module_version": "1.5.0",
     "model_name": "HBoxModel",
     "state": {
      "_dom_classes": [],
      "_model_module": "@jupyter-widgets/controls",
      "_model_module_version": "1.5.0",
      "_model_name": "HBoxModel",
      "_view_count": null,
      "_view_module": "@jupyter-widgets/controls",
      "_view_module_version": "1.5.0",
      "_view_name": "HBoxView",
      "box_style": "",
      "children": [
       "IPY_MODEL_5aa25bf45d9447deaaed8f5104c498da",
       "IPY_MODEL_c419347b47f94262bb6a6a98218701e9",
       "IPY_MODEL_f699f97a286e424d8a6c2ba821c5606d"
      ],
      "layout": "IPY_MODEL_1e1ae2955187477dba8fa8101ab27c00"
     }
    },
    "73fbcb59870a409fb59f829a40d6eed6": {
     "model_module": "@jupyter-widgets/controls",
     "model_module_version": "1.5.0",
     "model_name": "ProgressStyleModel",
     "state": {
      "_model_module": "@jupyter-widgets/controls",
      "_model_module_version": "1.5.0",
      "_model_name": "ProgressStyleModel",
      "_view_count": null,
      "_view_module": "@jupyter-widgets/base",
      "_view_module_version": "1.2.0",
      "_view_name": "StyleView",
      "bar_color": null,
      "description_width": ""
     }
    },
    "7652eccd31374b8e964840d1c9be6488": {
     "model_module": "@jupyter-widgets/base",
     "model_module_version": "1.2.0",
     "model_name": "LayoutModel",
     "state": {
      "_model_module": "@jupyter-widgets/base",
      "_model_module_version": "1.2.0",
      "_model_name": "LayoutModel",
      "_view_count": null,
      "_view_module": "@jupyter-widgets/base",
      "_view_module_version": "1.2.0",
      "_view_name": "LayoutView",
      "align_content": null,
      "align_items": null,
      "align_self": null,
      "border": null,
      "bottom": null,
      "display": null,
      "flex": null,
      "flex_flow": null,
      "grid_area": null,
      "grid_auto_columns": null,
      "grid_auto_flow": null,
      "grid_auto_rows": null,
      "grid_column": null,
      "grid_gap": null,
      "grid_row": null,
      "grid_template_areas": null,
      "grid_template_columns": null,
      "grid_template_rows": null,
      "height": null,
      "justify_content": null,
      "justify_items": null,
      "left": null,
      "margin": null,
      "max_height": null,
      "max_width": null,
      "min_height": null,
      "min_width": null,
      "object_fit": null,
      "object_position": null,
      "order": null,
      "overflow": null,
      "overflow_x": null,
      "overflow_y": null,
      "padding": null,
      "right": null,
      "top": null,
      "visibility": null,
      "width": null
     }
    },
    "765e8e656cee4da7ab3a4886bb73ee41": {
     "model_module": "@jupyter-widgets/controls",
     "model_module_version": "1.5.0",
     "model_name": "FloatProgressModel",
     "state": {
      "_dom_classes": [],
      "_model_module": "@jupyter-widgets/controls",
      "_model_module_version": "1.5.0",
      "_model_name": "FloatProgressModel",
      "_view_count": null,
      "_view_module": "@jupyter-widgets/controls",
      "_view_module_version": "1.5.0",
      "_view_name": "ProgressView",
      "bar_style": "success",
      "description": "",
      "description_tooltip": null,
      "layout": "IPY_MODEL_092bffed0e9645a9b4b9c7efd209416c",
      "max": 80,
      "min": 0,
      "orientation": "horizontal",
      "style": "IPY_MODEL_9689467311c64f81b20ae8937b9cafaa",
      "value": 80
     }
    },
    "77408c72741946cd8487ddf44235ab74": {
     "model_module": "@jupyter-widgets/controls",
     "model_module_version": "1.5.0",
     "model_name": "HTMLModel",
     "state": {
      "_dom_classes": [],
      "_model_module": "@jupyter-widgets/controls",
      "_model_module_version": "1.5.0",
      "_model_name": "HTMLModel",
      "_view_count": null,
      "_view_module": "@jupyter-widgets/controls",
      "_view_module_version": "1.5.0",
      "_view_name": "HTMLView",
      "description": "",
      "description_tooltip": null,
      "layout": "IPY_MODEL_61deb4565bf44c538b921cea90d1f127",
      "placeholder": "​",
      "style": "IPY_MODEL_40d85fc1085945d39180bcf2d7b0e73e",
      "value": "100%"
     }
    },
    "78a3cfeeed2b46409675c2f66d3a4189": {
     "model_module": "@jupyter-widgets/base",
     "model_module_version": "1.2.0",
     "model_name": "LayoutModel",
     "state": {
      "_model_module": "@jupyter-widgets/base",
      "_model_module_version": "1.2.0",
      "_model_name": "LayoutModel",
      "_view_count": null,
      "_view_module": "@jupyter-widgets/base",
      "_view_module_version": "1.2.0",
      "_view_name": "LayoutView",
      "align_content": null,
      "align_items": null,
      "align_self": null,
      "border": null,
      "bottom": null,
      "display": null,
      "flex": null,
      "flex_flow": null,
      "grid_area": null,
      "grid_auto_columns": null,
      "grid_auto_flow": null,
      "grid_auto_rows": null,
      "grid_column": null,
      "grid_gap": null,
      "grid_row": null,
      "grid_template_areas": null,
      "grid_template_columns": null,
      "grid_template_rows": null,
      "height": null,
      "justify_content": null,
      "justify_items": null,
      "left": null,
      "margin": null,
      "max_height": null,
      "max_width": null,
      "min_height": null,
      "min_width": null,
      "object_fit": null,
      "object_position": null,
      "order": null,
      "overflow": null,
      "overflow_x": null,
      "overflow_y": null,
      "padding": null,
      "right": null,
      "top": null,
      "visibility": null,
      "width": null
     }
    },
    "78a53dd2f2eb4709942772fd3266d1c8": {
     "model_module": "@jupyter-widgets/controls",
     "model_module_version": "1.5.0",
     "model_name": "HBoxModel",
     "state": {
      "_dom_classes": [],
      "_model_module": "@jupyter-widgets/controls",
      "_model_module_version": "1.5.0",
      "_model_name": "HBoxModel",
      "_view_count": null,
      "_view_module": "@jupyter-widgets/controls",
      "_view_module_version": "1.5.0",
      "_view_name": "HBoxView",
      "box_style": "",
      "children": [
       "IPY_MODEL_6546be0b03db4f72ae79c8bd39213506",
       "IPY_MODEL_640bdf26ce7040898e38082dee00311c",
       "IPY_MODEL_48a86b02556847eb86376ee19042632d"
      ],
      "layout": "IPY_MODEL_0553da58ee014d39aaf08ff451a7587e"
     }
    },
    "78e742f65ef04810b212da6a808b1a09": {
     "model_module": "@jupyter-widgets/controls",
     "model_module_version": "1.5.0",
     "model_name": "HTMLModel",
     "state": {
      "_dom_classes": [],
      "_model_module": "@jupyter-widgets/controls",
      "_model_module_version": "1.5.0",
      "_model_name": "HTMLModel",
      "_view_count": null,
      "_view_module": "@jupyter-widgets/controls",
      "_view_module_version": "1.5.0",
      "_view_name": "HTMLView",
      "description": "",
      "description_tooltip": null,
      "layout": "IPY_MODEL_55b0d7df5e794e17a2f6bd4125790fc6",
      "placeholder": "​",
      "style": "IPY_MODEL_c4f9fe2fd2454df2a1e64c5138d36c36",
      "value": "100%"
     }
    },
    "79083f3b0a454ff3b96c2f2a85f29e2a": {
     "model_module": "@jupyter-widgets/base",
     "model_module_version": "1.2.0",
     "model_name": "LayoutModel",
     "state": {
      "_model_module": "@jupyter-widgets/base",
      "_model_module_version": "1.2.0",
      "_model_name": "LayoutModel",
      "_view_count": null,
      "_view_module": "@jupyter-widgets/base",
      "_view_module_version": "1.2.0",
      "_view_name": "LayoutView",
      "align_content": null,
      "align_items": null,
      "align_self": null,
      "border": null,
      "bottom": null,
      "display": null,
      "flex": null,
      "flex_flow": null,
      "grid_area": null,
      "grid_auto_columns": null,
      "grid_auto_flow": null,
      "grid_auto_rows": null,
      "grid_column": null,
      "grid_gap": null,
      "grid_row": null,
      "grid_template_areas": null,
      "grid_template_columns": null,
      "grid_template_rows": null,
      "height": null,
      "justify_content": null,
      "justify_items": null,
      "left": null,
      "margin": null,
      "max_height": null,
      "max_width": null,
      "min_height": null,
      "min_width": null,
      "object_fit": null,
      "object_position": null,
      "order": null,
      "overflow": null,
      "overflow_x": null,
      "overflow_y": null,
      "padding": null,
      "right": null,
      "top": null,
      "visibility": null,
      "width": null
     }
    },
    "79c64cbe6d09493283fa7b10bd8e45df": {
     "model_module": "@jupyter-widgets/controls",
     "model_module_version": "1.5.0",
     "model_name": "HBoxModel",
     "state": {
      "_dom_classes": [],
      "_model_module": "@jupyter-widgets/controls",
      "_model_module_version": "1.5.0",
      "_model_name": "HBoxModel",
      "_view_count": null,
      "_view_module": "@jupyter-widgets/controls",
      "_view_module_version": "1.5.0",
      "_view_name": "HBoxView",
      "box_style": "",
      "children": [
       "IPY_MODEL_78e742f65ef04810b212da6a808b1a09",
       "IPY_MODEL_94b9040d60a04971995c8747a5d73110",
       "IPY_MODEL_de9fa598fe7a4d878fd8b5ddd8149b96"
      ],
      "layout": "IPY_MODEL_d9af19c543f54c8781761ce2ad952cd0"
     }
    },
    "7c23d72107d847bdb7c7896b54c9a750": {
     "model_module": "@jupyter-widgets/controls",
     "model_module_version": "1.5.0",
     "model_name": "HBoxModel",
     "state": {
      "_dom_classes": [],
      "_model_module": "@jupyter-widgets/controls",
      "_model_module_version": "1.5.0",
      "_model_name": "HBoxModel",
      "_view_count": null,
      "_view_module": "@jupyter-widgets/controls",
      "_view_module_version": "1.5.0",
      "_view_name": "HBoxView",
      "box_style": "",
      "children": [
       "IPY_MODEL_ea6fb468052f40a1a4a8aabe3e2e1917",
       "IPY_MODEL_da6a5ede58fc474cb115b7cd610f8aeb",
       "IPY_MODEL_7e8d5c14bf884a43b9b6e8786af0a070"
      ],
      "layout": "IPY_MODEL_e7f95c77edb54d20aab50c03297c39db"
     }
    },
    "7df4f70ecc1f4dc2b3b4683f9ae11798": {
     "model_module": "@jupyter-widgets/controls",
     "model_module_version": "1.5.0",
     "model_name": "FloatProgressModel",
     "state": {
      "_dom_classes": [],
      "_model_module": "@jupyter-widgets/controls",
      "_model_module_version": "1.5.0",
      "_model_name": "FloatProgressModel",
      "_view_count": null,
      "_view_module": "@jupyter-widgets/controls",
      "_view_module_version": "1.5.0",
      "_view_name": "ProgressView",
      "bar_style": "success",
      "description": "",
      "description_tooltip": null,
      "layout": "IPY_MODEL_43e1fbc1094044b2a1ac003cd0d811c1",
      "max": 80,
      "min": 0,
      "orientation": "horizontal",
      "style": "IPY_MODEL_c60cf980738645f7b31d6e4c94e768af",
      "value": 80
     }
    },
    "7e8d5c14bf884a43b9b6e8786af0a070": {
     "model_module": "@jupyter-widgets/controls",
     "model_module_version": "1.5.0",
     "model_name": "HTMLModel",
     "state": {
      "_dom_classes": [],
      "_model_module": "@jupyter-widgets/controls",
      "_model_module_version": "1.5.0",
      "_model_name": "HTMLModel",
      "_view_count": null,
      "_view_module": "@jupyter-widgets/controls",
      "_view_module_version": "1.5.0",
      "_view_name": "HTMLView",
      "description": "",
      "description_tooltip": null,
      "layout": "IPY_MODEL_21f3bc2f68a547cdae6780c97100f7d3",
      "placeholder": "​",
      "style": "IPY_MODEL_e7567cfe840c47c08d253ed2a97fbbda",
      "value": " 1/1 [00:03&lt;00:00,  3.74s/it]"
     }
    },
    "7f06eae3128f4038a41ffa1e5a99de08": {
     "model_module": "@jupyter-widgets/controls",
     "model_module_version": "1.5.0",
     "model_name": "ProgressStyleModel",
     "state": {
      "_model_module": "@jupyter-widgets/controls",
      "_model_module_version": "1.5.0",
      "_model_name": "ProgressStyleModel",
      "_view_count": null,
      "_view_module": "@jupyter-widgets/base",
      "_view_module_version": "1.2.0",
      "_view_name": "StyleView",
      "bar_color": null,
      "description_width": ""
     }
    },
    "82baae3ae255434fb8d02c9e6111f82c": {
     "model_module": "@jupyter-widgets/controls",
     "model_module_version": "1.5.0",
     "model_name": "HTMLModel",
     "state": {
      "_dom_classes": [],
      "_model_module": "@jupyter-widgets/controls",
      "_model_module_version": "1.5.0",
      "_model_name": "HTMLModel",
      "_view_count": null,
      "_view_module": "@jupyter-widgets/controls",
      "_view_module_version": "1.5.0",
      "_view_name": "HTMLView",
      "description": "",
      "description_tooltip": null,
      "layout": "IPY_MODEL_bc3b95d347b74b6bb320d3531ee5ac71",
      "placeholder": "​",
      "style": "IPY_MODEL_3e2a599bd17f4d788f2ac4ba08a26ceb",
      "value": " 213k/213k [00:00&lt;00:00, 2.77MB/s]"
     }
    },
    "836f1b9ece5e416d88ab12b4c21743e6": {
     "model_module": "@jupyter-widgets/base",
     "model_module_version": "1.2.0",
     "model_name": "LayoutModel",
     "state": {
      "_model_module": "@jupyter-widgets/base",
      "_model_module_version": "1.2.0",
      "_model_name": "LayoutModel",
      "_view_count": null,
      "_view_module": "@jupyter-widgets/base",
      "_view_module_version": "1.2.0",
      "_view_name": "LayoutView",
      "align_content": null,
      "align_items": null,
      "align_self": null,
      "border": null,
      "bottom": null,
      "display": null,
      "flex": null,
      "flex_flow": null,
      "grid_area": null,
      "grid_auto_columns": null,
      "grid_auto_flow": null,
      "grid_auto_rows": null,
      "grid_column": null,
      "grid_gap": null,
      "grid_row": null,
      "grid_template_areas": null,
      "grid_template_columns": null,
      "grid_template_rows": null,
      "height": null,
      "justify_content": null,
      "justify_items": null,
      "left": null,
      "margin": null,
      "max_height": null,
      "max_width": null,
      "min_height": null,
      "min_width": null,
      "object_fit": null,
      "object_position": null,
      "order": null,
      "overflow": null,
      "overflow_x": null,
      "overflow_y": null,
      "padding": null,
      "right": null,
      "top": null,
      "visibility": null,
      "width": null
     }
    },
    "83b029f7ba8a4578885052430ff82392": {
     "model_module": "@jupyter-widgets/base",
     "model_module_version": "1.2.0",
     "model_name": "LayoutModel",
     "state": {
      "_model_module": "@jupyter-widgets/base",
      "_model_module_version": "1.2.0",
      "_model_name": "LayoutModel",
      "_view_count": null,
      "_view_module": "@jupyter-widgets/base",
      "_view_module_version": "1.2.0",
      "_view_name": "LayoutView",
      "align_content": null,
      "align_items": null,
      "align_self": null,
      "border": null,
      "bottom": null,
      "display": null,
      "flex": null,
      "flex_flow": null,
      "grid_area": null,
      "grid_auto_columns": null,
      "grid_auto_flow": null,
      "grid_auto_rows": null,
      "grid_column": null,
      "grid_gap": null,
      "grid_row": null,
      "grid_template_areas": null,
      "grid_template_columns": null,
      "grid_template_rows": null,
      "height": null,
      "justify_content": null,
      "justify_items": null,
      "left": null,
      "margin": null,
      "max_height": null,
      "max_width": null,
      "min_height": null,
      "min_width": null,
      "object_fit": null,
      "object_position": null,
      "order": null,
      "overflow": null,
      "overflow_x": null,
      "overflow_y": null,
      "padding": null,
      "right": null,
      "top": null,
      "visibility": null,
      "width": null
     }
    },
    "83d93e7c2aef4796853282467ab28924": {
     "model_module": "@jupyter-widgets/controls",
     "model_module_version": "1.5.0",
     "model_name": "ProgressStyleModel",
     "state": {
      "_model_module": "@jupyter-widgets/controls",
      "_model_module_version": "1.5.0",
      "_model_name": "ProgressStyleModel",
      "_view_count": null,
      "_view_module": "@jupyter-widgets/base",
      "_view_module_version": "1.2.0",
      "_view_name": "StyleView",
      "bar_color": null,
      "description_width": ""
     }
    },
    "843fa0122ba14210b854da344eb4e799": {
     "model_module": "@jupyter-widgets/controls",
     "model_module_version": "1.5.0",
     "model_name": "DescriptionStyleModel",
     "state": {
      "_model_module": "@jupyter-widgets/controls",
      "_model_module_version": "1.5.0",
      "_model_name": "DescriptionStyleModel",
      "_view_count": null,
      "_view_module": "@jupyter-widgets/base",
      "_view_module_version": "1.2.0",
      "_view_name": "StyleView",
      "description_width": ""
     }
    },
    "8440cb7d0bfe47bebd351a151ff82f08": {
     "model_module": "@jupyter-widgets/controls",
     "model_module_version": "1.5.0",
     "model_name": "FloatProgressModel",
     "state": {
      "_dom_classes": [],
      "_model_module": "@jupyter-widgets/controls",
      "_model_module_version": "1.5.0",
      "_model_name": "FloatProgressModel",
      "_view_count": null,
      "_view_module": "@jupyter-widgets/controls",
      "_view_module_version": "1.5.0",
      "_view_name": "ProgressView",
      "bar_style": "success",
      "description": "",
      "description_tooltip": null,
      "layout": "IPY_MODEL_1db6cdaa3e9b49cc8cc50aab073df511",
      "max": 1,
      "min": 0,
      "orientation": "horizontal",
      "style": "IPY_MODEL_927b6f01f98a4799a6538da5892a5e13",
      "value": 1
     }
    },
    "87b482a6b93c4e28ba1f26c75fae3098": {
     "model_module": "@jupyter-widgets/controls",
     "model_module_version": "1.5.0",
     "model_name": "DescriptionStyleModel",
     "state": {
      "_model_module": "@jupyter-widgets/controls",
      "_model_module_version": "1.5.0",
      "_model_name": "DescriptionStyleModel",
      "_view_count": null,
      "_view_module": "@jupyter-widgets/base",
      "_view_module_version": "1.2.0",
      "_view_name": "StyleView",
      "description_width": ""
     }
    },
    "88547389bf244cac8b767ca5c1b03308": {
     "model_module": "@jupyter-widgets/base",
     "model_module_version": "1.2.0",
     "model_name": "LayoutModel",
     "state": {
      "_model_module": "@jupyter-widgets/base",
      "_model_module_version": "1.2.0",
      "_model_name": "LayoutModel",
      "_view_count": null,
      "_view_module": "@jupyter-widgets/base",
      "_view_module_version": "1.2.0",
      "_view_name": "LayoutView",
      "align_content": null,
      "align_items": null,
      "align_self": null,
      "border": null,
      "bottom": null,
      "display": null,
      "flex": null,
      "flex_flow": null,
      "grid_area": null,
      "grid_auto_columns": null,
      "grid_auto_flow": null,
      "grid_auto_rows": null,
      "grid_column": null,
      "grid_gap": null,
      "grid_row": null,
      "grid_template_areas": null,
      "grid_template_columns": null,
      "grid_template_rows": null,
      "height": null,
      "justify_content": null,
      "justify_items": null,
      "left": null,
      "margin": null,
      "max_height": null,
      "max_width": null,
      "min_height": null,
      "min_width": null,
      "object_fit": null,
      "object_position": null,
      "order": null,
      "overflow": null,
      "overflow_x": null,
      "overflow_y": null,
      "padding": null,
      "right": null,
      "top": null,
      "visibility": null,
      "width": null
     }
    },
    "8899c1175c374f94ae4deb88de1b3390": {
     "model_module": "@jupyter-widgets/controls",
     "model_module_version": "1.5.0",
     "model_name": "ProgressStyleModel",
     "state": {
      "_model_module": "@jupyter-widgets/controls",
      "_model_module_version": "1.5.0",
      "_model_name": "ProgressStyleModel",
      "_view_count": null,
      "_view_module": "@jupyter-widgets/base",
      "_view_module_version": "1.2.0",
      "_view_name": "StyleView",
      "bar_color": null,
      "description_width": ""
     }
    },
    "889d8612bb924c1a85f98b6f58193f2f": {
     "model_module": "@jupyter-widgets/controls",
     "model_module_version": "1.5.0",
     "model_name": "DescriptionStyleModel",
     "state": {
      "_model_module": "@jupyter-widgets/controls",
      "_model_module_version": "1.5.0",
      "_model_name": "DescriptionStyleModel",
      "_view_count": null,
      "_view_module": "@jupyter-widgets/base",
      "_view_module_version": "1.2.0",
      "_view_name": "StyleView",
      "description_width": ""
     }
    },
    "8905217c1bb14f14939e153d86cc1834": {
     "model_module": "@jupyter-widgets/controls",
     "model_module_version": "1.5.0",
     "model_name": "DescriptionStyleModel",
     "state": {
      "_model_module": "@jupyter-widgets/controls",
      "_model_module_version": "1.5.0",
      "_model_name": "DescriptionStyleModel",
      "_view_count": null,
      "_view_module": "@jupyter-widgets/base",
      "_view_module_version": "1.2.0",
      "_view_name": "StyleView",
      "description_width": ""
     }
    },
    "8a00cf63e6bf46448cbee17b3860b193": {
     "model_module": "@jupyter-widgets/controls",
     "model_module_version": "1.5.0",
     "model_name": "DescriptionStyleModel",
     "state": {
      "_model_module": "@jupyter-widgets/controls",
      "_model_module_version": "1.5.0",
      "_model_name": "DescriptionStyleModel",
      "_view_count": null,
      "_view_module": "@jupyter-widgets/base",
      "_view_module_version": "1.2.0",
      "_view_name": "StyleView",
      "description_width": ""
     }
    },
    "8bb38435b41d4d34bb6857e9454f6a51": {
     "model_module": "@jupyter-widgets/base",
     "model_module_version": "1.2.0",
     "model_name": "LayoutModel",
     "state": {
      "_model_module": "@jupyter-widgets/base",
      "_model_module_version": "1.2.0",
      "_model_name": "LayoutModel",
      "_view_count": null,
      "_view_module": "@jupyter-widgets/base",
      "_view_module_version": "1.2.0",
      "_view_name": "LayoutView",
      "align_content": null,
      "align_items": null,
      "align_self": null,
      "border": null,
      "bottom": null,
      "display": null,
      "flex": null,
      "flex_flow": null,
      "grid_area": null,
      "grid_auto_columns": null,
      "grid_auto_flow": null,
      "grid_auto_rows": null,
      "grid_column": null,
      "grid_gap": null,
      "grid_row": null,
      "grid_template_areas": null,
      "grid_template_columns": null,
      "grid_template_rows": null,
      "height": null,
      "justify_content": null,
      "justify_items": null,
      "left": null,
      "margin": null,
      "max_height": null,
      "max_width": null,
      "min_height": null,
      "min_width": null,
      "object_fit": null,
      "object_position": null,
      "order": null,
      "overflow": null,
      "overflow_x": null,
      "overflow_y": null,
      "padding": null,
      "right": null,
      "top": null,
      "visibility": null,
      "width": null
     }
    },
    "8c3023551e4b4abcbe62564ffb6e607e": {
     "model_module": "@jupyter-widgets/controls",
     "model_module_version": "1.5.0",
     "model_name": "DescriptionStyleModel",
     "state": {
      "_model_module": "@jupyter-widgets/controls",
      "_model_module_version": "1.5.0",
      "_model_name": "DescriptionStyleModel",
      "_view_count": null,
      "_view_module": "@jupyter-widgets/base",
      "_view_module_version": "1.2.0",
      "_view_name": "StyleView",
      "description_width": ""
     }
    },
    "8e475a6b115e475cbd22dc530ee8deb8": {
     "model_module": "@jupyter-widgets/controls",
     "model_module_version": "1.5.0",
     "model_name": "HBoxModel",
     "state": {
      "_dom_classes": [],
      "_model_module": "@jupyter-widgets/controls",
      "_model_module_version": "1.5.0",
      "_model_name": "HBoxModel",
      "_view_count": null,
      "_view_module": "@jupyter-widgets/controls",
      "_view_module_version": "1.5.0",
      "_view_name": "HBoxView",
      "box_style": "",
      "children": [
       "IPY_MODEL_e6dd7b1017194035be7e73bf81c7bbea",
       "IPY_MODEL_8440cb7d0bfe47bebd351a151ff82f08",
       "IPY_MODEL_72f00d6877094537bb76358a389fa19e"
      ],
      "layout": "IPY_MODEL_836f1b9ece5e416d88ab12b4c21743e6"
     }
    },
    "8e920d8a1dda4de9ac68f11bcc7a0005": {
     "model_module": "@jupyter-widgets/controls",
     "model_module_version": "1.5.0",
     "model_name": "HBoxModel",
     "state": {
      "_dom_classes": [],
      "_model_module": "@jupyter-widgets/controls",
      "_model_module_version": "1.5.0",
      "_model_name": "HBoxModel",
      "_view_count": null,
      "_view_module": "@jupyter-widgets/controls",
      "_view_module_version": "1.5.0",
      "_view_name": "HBoxView",
      "box_style": "",
      "children": [
       "IPY_MODEL_7129ac8ba89545d0ad8c44310120d66e",
       "IPY_MODEL_ff238655e9a849deb3fea8e28e971326",
       "IPY_MODEL_4d164b32679b408189328dd93b413fac"
      ],
      "layout": "IPY_MODEL_bc66c18c560941e7962bf261024c6046"
     }
    },
    "8eb0638a245347f19d07ba7a5404d8e7": {
     "model_module": "@jupyter-widgets/base",
     "model_module_version": "1.2.0",
     "model_name": "LayoutModel",
     "state": {
      "_model_module": "@jupyter-widgets/base",
      "_model_module_version": "1.2.0",
      "_model_name": "LayoutModel",
      "_view_count": null,
      "_view_module": "@jupyter-widgets/base",
      "_view_module_version": "1.2.0",
      "_view_name": "LayoutView",
      "align_content": null,
      "align_items": null,
      "align_self": null,
      "border": null,
      "bottom": null,
      "display": null,
      "flex": null,
      "flex_flow": null,
      "grid_area": null,
      "grid_auto_columns": null,
      "grid_auto_flow": null,
      "grid_auto_rows": null,
      "grid_column": null,
      "grid_gap": null,
      "grid_row": null,
      "grid_template_areas": null,
      "grid_template_columns": null,
      "grid_template_rows": null,
      "height": null,
      "justify_content": null,
      "justify_items": null,
      "left": null,
      "margin": null,
      "max_height": null,
      "max_width": null,
      "min_height": null,
      "min_width": null,
      "object_fit": null,
      "object_position": null,
      "order": null,
      "overflow": null,
      "overflow_x": null,
      "overflow_y": null,
      "padding": null,
      "right": null,
      "top": null,
      "visibility": null,
      "width": "20px"
     }
    },
    "927b6f01f98a4799a6538da5892a5e13": {
     "model_module": "@jupyter-widgets/controls",
     "model_module_version": "1.5.0",
     "model_name": "ProgressStyleModel",
     "state": {
      "_model_module": "@jupyter-widgets/controls",
      "_model_module_version": "1.5.0",
      "_model_name": "ProgressStyleModel",
      "_view_count": null,
      "_view_module": "@jupyter-widgets/base",
      "_view_module_version": "1.2.0",
      "_view_name": "StyleView",
      "bar_color": null,
      "description_width": ""
     }
    },
    "94b54245ad7141aa904725e463e86bb0": {
     "model_module": "@jupyter-widgets/base",
     "model_module_version": "1.2.0",
     "model_name": "LayoutModel",
     "state": {
      "_model_module": "@jupyter-widgets/base",
      "_model_module_version": "1.2.0",
      "_model_name": "LayoutModel",
      "_view_count": null,
      "_view_module": "@jupyter-widgets/base",
      "_view_module_version": "1.2.0",
      "_view_name": "LayoutView",
      "align_content": null,
      "align_items": null,
      "align_self": null,
      "border": null,
      "bottom": null,
      "display": null,
      "flex": null,
      "flex_flow": null,
      "grid_area": null,
      "grid_auto_columns": null,
      "grid_auto_flow": null,
      "grid_auto_rows": null,
      "grid_column": null,
      "grid_gap": null,
      "grid_row": null,
      "grid_template_areas": null,
      "grid_template_columns": null,
      "grid_template_rows": null,
      "height": null,
      "justify_content": null,
      "justify_items": null,
      "left": null,
      "margin": null,
      "max_height": null,
      "max_width": null,
      "min_height": null,
      "min_width": null,
      "object_fit": null,
      "object_position": null,
      "order": null,
      "overflow": null,
      "overflow_x": null,
      "overflow_y": null,
      "padding": null,
      "right": null,
      "top": null,
      "visibility": null,
      "width": null
     }
    },
    "94b9040d60a04971995c8747a5d73110": {
     "model_module": "@jupyter-widgets/controls",
     "model_module_version": "1.5.0",
     "model_name": "FloatProgressModel",
     "state": {
      "_dom_classes": [],
      "_model_module": "@jupyter-widgets/controls",
      "_model_module_version": "1.5.0",
      "_model_name": "FloatProgressModel",
      "_view_count": null,
      "_view_module": "@jupyter-widgets/controls",
      "_view_module_version": "1.5.0",
      "_view_name": "ProgressView",
      "bar_style": "success",
      "description": "",
      "description_tooltip": null,
      "layout": "IPY_MODEL_e82dd7c5107d4e27a0ab951f188899ff",
      "max": 80,
      "min": 0,
      "orientation": "horizontal",
      "style": "IPY_MODEL_8899c1175c374f94ae4deb88de1b3390",
      "value": 80
     }
    },
    "9689467311c64f81b20ae8937b9cafaa": {
     "model_module": "@jupyter-widgets/controls",
     "model_module_version": "1.5.0",
     "model_name": "ProgressStyleModel",
     "state": {
      "_model_module": "@jupyter-widgets/controls",
      "_model_module_version": "1.5.0",
      "_model_name": "ProgressStyleModel",
      "_view_count": null,
      "_view_module": "@jupyter-widgets/base",
      "_view_module_version": "1.2.0",
      "_view_name": "StyleView",
      "bar_color": null,
      "description_width": ""
     }
    },
    "972dbd45fe7c4fda92a4054f0ec6d0dd": {
     "model_module": "@jupyter-widgets/controls",
     "model_module_version": "1.5.0",
     "model_name": "FloatProgressModel",
     "state": {
      "_dom_classes": [],
      "_model_module": "@jupyter-widgets/controls",
      "_model_module_version": "1.5.0",
      "_model_name": "FloatProgressModel",
      "_view_count": null,
      "_view_module": "@jupyter-widgets/controls",
      "_view_module_version": "1.5.0",
      "_view_name": "ProgressView",
      "bar_style": "success",
      "description": "",
      "description_tooltip": null,
      "layout": "IPY_MODEL_8eb0638a245347f19d07ba7a5404d8e7",
      "max": 1,
      "min": 0,
      "orientation": "horizontal",
      "style": "IPY_MODEL_df7531faab614836a685d5ae2ce6618f",
      "value": 1
     }
    },
    "97d72a06657a4c0e9e8ec4ac15890470": {
     "model_module": "@jupyter-widgets/base",
     "model_module_version": "1.2.0",
     "model_name": "LayoutModel",
     "state": {
      "_model_module": "@jupyter-widgets/base",
      "_model_module_version": "1.2.0",
      "_model_name": "LayoutModel",
      "_view_count": null,
      "_view_module": "@jupyter-widgets/base",
      "_view_module_version": "1.2.0",
      "_view_name": "LayoutView",
      "align_content": null,
      "align_items": null,
      "align_self": null,
      "border": null,
      "bottom": null,
      "display": null,
      "flex": null,
      "flex_flow": null,
      "grid_area": null,
      "grid_auto_columns": null,
      "grid_auto_flow": null,
      "grid_auto_rows": null,
      "grid_column": null,
      "grid_gap": null,
      "grid_row": null,
      "grid_template_areas": null,
      "grid_template_columns": null,
      "grid_template_rows": null,
      "height": null,
      "justify_content": null,
      "justify_items": null,
      "left": null,
      "margin": null,
      "max_height": null,
      "max_width": null,
      "min_height": null,
      "min_width": null,
      "object_fit": null,
      "object_position": null,
      "order": null,
      "overflow": null,
      "overflow_x": null,
      "overflow_y": null,
      "padding": null,
      "right": null,
      "top": null,
      "visibility": null,
      "width": null
     }
    },
    "98c915b06a04432a883611db31835c3b": {
     "model_module": "@jupyter-widgets/controls",
     "model_module_version": "1.5.0",
     "model_name": "HTMLModel",
     "state": {
      "_dom_classes": [],
      "_model_module": "@jupyter-widgets/controls",
      "_model_module_version": "1.5.0",
      "_model_name": "HTMLModel",
      "_view_count": null,
      "_view_module": "@jupyter-widgets/controls",
      "_view_module_version": "1.5.0",
      "_view_name": "HTMLView",
      "description": "",
      "description_tooltip": null,
      "layout": "IPY_MODEL_8bb38435b41d4d34bb6857e9454f6a51",
      "placeholder": "​",
      "style": "IPY_MODEL_1cc0686a77bb40b0a01dd229b2b8f67d",
      "value": "100%"
     }
    },
    "9bc92fae9ad64de98fcb799f93687bd4": {
     "model_module": "@jupyter-widgets/controls",
     "model_module_version": "1.5.0",
     "model_name": "DescriptionStyleModel",
     "state": {
      "_model_module": "@jupyter-widgets/controls",
      "_model_module_version": "1.5.0",
      "_model_name": "DescriptionStyleModel",
      "_view_count": null,
      "_view_module": "@jupyter-widgets/base",
      "_view_module_version": "1.2.0",
      "_view_name": "StyleView",
      "description_width": ""
     }
    },
    "9bfd7dfd70714aba925209282774d5a6": {
     "model_module": "@jupyter-widgets/controls",
     "model_module_version": "1.5.0",
     "model_name": "FloatProgressModel",
     "state": {
      "_dom_classes": [],
      "_model_module": "@jupyter-widgets/controls",
      "_model_module_version": "1.5.0",
      "_model_name": "FloatProgressModel",
      "_view_count": null,
      "_view_module": "@jupyter-widgets/controls",
      "_view_module_version": "1.5.0",
      "_view_name": "ProgressView",
      "bar_style": "success",
      "description": "",
      "description_tooltip": null,
      "layout": "IPY_MODEL_32cafa24ab2c42abafce7fd37b89e169",
      "max": 313,
      "min": 0,
      "orientation": "horizontal",
      "style": "IPY_MODEL_ac77b3eb57364754894b00627c61eb84",
      "value": 313
     }
    },
    "9d0403b6d9004db9b3063b585e3193ee": {
     "model_module": "@jupyter-widgets/controls",
     "model_module_version": "1.5.0",
     "model_name": "DescriptionStyleModel",
     "state": {
      "_model_module": "@jupyter-widgets/controls",
      "_model_module_version": "1.5.0",
      "_model_name": "DescriptionStyleModel",
      "_view_count": null,
      "_view_module": "@jupyter-widgets/base",
      "_view_module_version": "1.2.0",
      "_view_name": "StyleView",
      "description_width": ""
     }
    },
    "a89b6e8580984c46b2a6e4e085c3a58e": {
     "model_module": "@jupyter-widgets/controls",
     "model_module_version": "1.5.0",
     "model_name": "HBoxModel",
     "state": {
      "_dom_classes": [],
      "_model_module": "@jupyter-widgets/controls",
      "_model_module_version": "1.5.0",
      "_model_name": "HBoxModel",
      "_view_count": null,
      "_view_module": "@jupyter-widgets/controls",
      "_view_module_version": "1.5.0",
      "_view_name": "HBoxView",
      "box_style": "",
      "children": [
       "IPY_MODEL_4edfd464bd0f44ee8b06252d768f27d5",
       "IPY_MODEL_972dbd45fe7c4fda92a4054f0ec6d0dd",
       "IPY_MODEL_011452f516da4fed94d1af498ec37ce8"
      ],
      "layout": "IPY_MODEL_3039c6b812854e03a285ac1fca251e80"
     }
    },
    "ac77b3eb57364754894b00627c61eb84": {
     "model_module": "@jupyter-widgets/controls",
     "model_module_version": "1.5.0",
     "model_name": "ProgressStyleModel",
     "state": {
      "_model_module": "@jupyter-widgets/controls",
      "_model_module_version": "1.5.0",
      "_model_name": "ProgressStyleModel",
      "_view_count": null,
      "_view_module": "@jupyter-widgets/base",
      "_view_module_version": "1.2.0",
      "_view_name": "StyleView",
      "bar_color": null,
      "description_width": ""
     }
    },
    "acce0d9c286a45828a9bc6183f057e99": {
     "model_module": "@jupyter-widgets/base",
     "model_module_version": "1.2.0",
     "model_name": "LayoutModel",
     "state": {
      "_model_module": "@jupyter-widgets/base",
      "_model_module_version": "1.2.0",
      "_model_name": "LayoutModel",
      "_view_count": null,
      "_view_module": "@jupyter-widgets/base",
      "_view_module_version": "1.2.0",
      "_view_name": "LayoutView",
      "align_content": null,
      "align_items": null,
      "align_self": null,
      "border": null,
      "bottom": null,
      "display": null,
      "flex": null,
      "flex_flow": null,
      "grid_area": null,
      "grid_auto_columns": null,
      "grid_auto_flow": null,
      "grid_auto_rows": null,
      "grid_column": null,
      "grid_gap": null,
      "grid_row": null,
      "grid_template_areas": null,
      "grid_template_columns": null,
      "grid_template_rows": null,
      "height": null,
      "justify_content": null,
      "justify_items": null,
      "left": null,
      "margin": null,
      "max_height": null,
      "max_width": null,
      "min_height": null,
      "min_width": null,
      "object_fit": null,
      "object_position": null,
      "order": null,
      "overflow": null,
      "overflow_x": null,
      "overflow_y": null,
      "padding": null,
      "right": null,
      "top": null,
      "visibility": null,
      "width": null
     }
    },
    "ad4f0e7dfc0f40349f868cc3f6a9c68a": {
     "model_module": "@jupyter-widgets/base",
     "model_module_version": "1.2.0",
     "model_name": "LayoutModel",
     "state": {
      "_model_module": "@jupyter-widgets/base",
      "_model_module_version": "1.2.0",
      "_model_name": "LayoutModel",
      "_view_count": null,
      "_view_module": "@jupyter-widgets/base",
      "_view_module_version": "1.2.0",
      "_view_name": "LayoutView",
      "align_content": null,
      "align_items": null,
      "align_self": null,
      "border": null,
      "bottom": null,
      "display": null,
      "flex": null,
      "flex_flow": null,
      "grid_area": null,
      "grid_auto_columns": null,
      "grid_auto_flow": null,
      "grid_auto_rows": null,
      "grid_column": null,
      "grid_gap": null,
      "grid_row": null,
      "grid_template_areas": null,
      "grid_template_columns": null,
      "grid_template_rows": null,
      "height": null,
      "justify_content": null,
      "justify_items": null,
      "left": null,
      "margin": null,
      "max_height": null,
      "max_width": null,
      "min_height": null,
      "min_width": null,
      "object_fit": null,
      "object_position": null,
      "order": null,
      "overflow": null,
      "overflow_x": null,
      "overflow_y": null,
      "padding": null,
      "right": null,
      "top": null,
      "visibility": null,
      "width": null
     }
    },
    "ad703b026db34a8e91fe0c876683d412": {
     "model_module": "@jupyter-widgets/base",
     "model_module_version": "1.2.0",
     "model_name": "LayoutModel",
     "state": {
      "_model_module": "@jupyter-widgets/base",
      "_model_module_version": "1.2.0",
      "_model_name": "LayoutModel",
      "_view_count": null,
      "_view_module": "@jupyter-widgets/base",
      "_view_module_version": "1.2.0",
      "_view_name": "LayoutView",
      "align_content": null,
      "align_items": null,
      "align_self": null,
      "border": null,
      "bottom": null,
      "display": null,
      "flex": null,
      "flex_flow": null,
      "grid_area": null,
      "grid_auto_columns": null,
      "grid_auto_flow": null,
      "grid_auto_rows": null,
      "grid_column": null,
      "grid_gap": null,
      "grid_row": null,
      "grid_template_areas": null,
      "grid_template_columns": null,
      "grid_template_rows": null,
      "height": null,
      "justify_content": null,
      "justify_items": null,
      "left": null,
      "margin": null,
      "max_height": null,
      "max_width": null,
      "min_height": null,
      "min_width": null,
      "object_fit": null,
      "object_position": null,
      "order": null,
      "overflow": null,
      "overflow_x": null,
      "overflow_y": null,
      "padding": null,
      "right": null,
      "top": null,
      "visibility": null,
      "width": null
     }
    },
    "b5c8edf78439446fbe9f5275947f111f": {
     "model_module": "@jupyter-widgets/controls",
     "model_module_version": "1.5.0",
     "model_name": "FloatProgressModel",
     "state": {
      "_dom_classes": [],
      "_model_module": "@jupyter-widgets/controls",
      "_model_module_version": "1.5.0",
      "_model_name": "FloatProgressModel",
      "_view_count": null,
      "_view_module": "@jupyter-widgets/controls",
      "_view_module_version": "1.5.0",
      "_view_name": "ProgressView",
      "bar_style": "success",
      "description": "",
      "description_tooltip": null,
      "layout": "IPY_MODEL_39845d77360b4ca8ab88dc82c59b78b9",
      "max": 1,
      "min": 0,
      "orientation": "horizontal",
      "style": "IPY_MODEL_c9421db67dba44679ebf0e452965e3a4",
      "value": 1
     }
    },
    "b5e74e59076949119472910475d14dea": {
     "model_module": "@jupyter-widgets/base",
     "model_module_version": "1.2.0",
     "model_name": "LayoutModel",
     "state": {
      "_model_module": "@jupyter-widgets/base",
      "_model_module_version": "1.2.0",
      "_model_name": "LayoutModel",
      "_view_count": null,
      "_view_module": "@jupyter-widgets/base",
      "_view_module_version": "1.2.0",
      "_view_name": "LayoutView",
      "align_content": null,
      "align_items": null,
      "align_self": null,
      "border": null,
      "bottom": null,
      "display": null,
      "flex": null,
      "flex_flow": null,
      "grid_area": null,
      "grid_auto_columns": null,
      "grid_auto_flow": null,
      "grid_auto_rows": null,
      "grid_column": null,
      "grid_gap": null,
      "grid_row": null,
      "grid_template_areas": null,
      "grid_template_columns": null,
      "grid_template_rows": null,
      "height": null,
      "justify_content": null,
      "justify_items": null,
      "left": null,
      "margin": null,
      "max_height": null,
      "max_width": null,
      "min_height": null,
      "min_width": null,
      "object_fit": null,
      "object_position": null,
      "order": null,
      "overflow": null,
      "overflow_x": null,
      "overflow_y": null,
      "padding": null,
      "right": null,
      "top": null,
      "visibility": null,
      "width": null
     }
    },
    "b891e155c8924d51b4a1a519e819b86b": {
     "model_module": "@jupyter-widgets/base",
     "model_module_version": "1.2.0",
     "model_name": "LayoutModel",
     "state": {
      "_model_module": "@jupyter-widgets/base",
      "_model_module_version": "1.2.0",
      "_model_name": "LayoutModel",
      "_view_count": null,
      "_view_module": "@jupyter-widgets/base",
      "_view_module_version": "1.2.0",
      "_view_name": "LayoutView",
      "align_content": null,
      "align_items": null,
      "align_self": null,
      "border": null,
      "bottom": null,
      "display": null,
      "flex": null,
      "flex_flow": null,
      "grid_area": null,
      "grid_auto_columns": null,
      "grid_auto_flow": null,
      "grid_auto_rows": null,
      "grid_column": null,
      "grid_gap": null,
      "grid_row": null,
      "grid_template_areas": null,
      "grid_template_columns": null,
      "grid_template_rows": null,
      "height": null,
      "justify_content": null,
      "justify_items": null,
      "left": null,
      "margin": null,
      "max_height": null,
      "max_width": null,
      "min_height": null,
      "min_width": null,
      "object_fit": null,
      "object_position": null,
      "order": null,
      "overflow": null,
      "overflow_x": null,
      "overflow_y": null,
      "padding": null,
      "right": null,
      "top": null,
      "visibility": null,
      "width": null
     }
    },
    "b914821a0c99420badb4868477bf6a16": {
     "model_module": "@jupyter-widgets/controls",
     "model_module_version": "1.5.0",
     "model_name": "HTMLModel",
     "state": {
      "_dom_classes": [],
      "_model_module": "@jupyter-widgets/controls",
      "_model_module_version": "1.5.0",
      "_model_name": "HTMLModel",
      "_view_count": null,
      "_view_module": "@jupyter-widgets/controls",
      "_view_module_version": "1.5.0",
      "_view_name": "HTMLView",
      "description": "",
      "description_tooltip": null,
      "layout": "IPY_MODEL_c46f45a5aabe492ba354b19f7c78d714",
      "placeholder": "​",
      "style": "IPY_MODEL_e892669f12f94f4788db84f04ba1ede5",
      "value": "100%"
     }
    },
    "bc3b95d347b74b6bb320d3531ee5ac71": {
     "model_module": "@jupyter-widgets/base",
     "model_module_version": "1.2.0",
     "model_name": "LayoutModel",
     "state": {
      "_model_module": "@jupyter-widgets/base",
      "_model_module_version": "1.2.0",
      "_model_name": "LayoutModel",
      "_view_count": null,
      "_view_module": "@jupyter-widgets/base",
      "_view_module_version": "1.2.0",
      "_view_name": "LayoutView",
      "align_content": null,
      "align_items": null,
      "align_self": null,
      "border": null,
      "bottom": null,
      "display": null,
      "flex": null,
      "flex_flow": null,
      "grid_area": null,
      "grid_auto_columns": null,
      "grid_auto_flow": null,
      "grid_auto_rows": null,
      "grid_column": null,
      "grid_gap": null,
      "grid_row": null,
      "grid_template_areas": null,
      "grid_template_columns": null,
      "grid_template_rows": null,
      "height": null,
      "justify_content": null,
      "justify_items": null,
      "left": null,
      "margin": null,
      "max_height": null,
      "max_width": null,
      "min_height": null,
      "min_width": null,
      "object_fit": null,
      "object_position": null,
      "order": null,
      "overflow": null,
      "overflow_x": null,
      "overflow_y": null,
      "padding": null,
      "right": null,
      "top": null,
      "visibility": null,
      "width": null
     }
    },
    "bc66c18c560941e7962bf261024c6046": {
     "model_module": "@jupyter-widgets/base",
     "model_module_version": "1.2.0",
     "model_name": "LayoutModel",
     "state": {
      "_model_module": "@jupyter-widgets/base",
      "_model_module_version": "1.2.0",
      "_model_name": "LayoutModel",
      "_view_count": null,
      "_view_module": "@jupyter-widgets/base",
      "_view_module_version": "1.2.0",
      "_view_name": "LayoutView",
      "align_content": null,
      "align_items": null,
      "align_self": null,
      "border": null,
      "bottom": null,
      "display": null,
      "flex": null,
      "flex_flow": null,
      "grid_area": null,
      "grid_auto_columns": null,
      "grid_auto_flow": null,
      "grid_auto_rows": null,
      "grid_column": null,
      "grid_gap": null,
      "grid_row": null,
      "grid_template_areas": null,
      "grid_template_columns": null,
      "grid_template_rows": null,
      "height": null,
      "justify_content": null,
      "justify_items": null,
      "left": null,
      "margin": null,
      "max_height": null,
      "max_width": null,
      "min_height": null,
      "min_width": null,
      "object_fit": null,
      "object_position": null,
      "order": null,
      "overflow": null,
      "overflow_x": null,
      "overflow_y": null,
      "padding": null,
      "right": null,
      "top": null,
      "visibility": null,
      "width": null
     }
    },
    "c073172dda97468b93e4dee6d2795d2c": {
     "model_module": "@jupyter-widgets/base",
     "model_module_version": "1.2.0",
     "model_name": "LayoutModel",
     "state": {
      "_model_module": "@jupyter-widgets/base",
      "_model_module_version": "1.2.0",
      "_model_name": "LayoutModel",
      "_view_count": null,
      "_view_module": "@jupyter-widgets/base",
      "_view_module_version": "1.2.0",
      "_view_name": "LayoutView",
      "align_content": null,
      "align_items": null,
      "align_self": null,
      "border": null,
      "bottom": null,
      "display": null,
      "flex": null,
      "flex_flow": null,
      "grid_area": null,
      "grid_auto_columns": null,
      "grid_auto_flow": null,
      "grid_auto_rows": null,
      "grid_column": null,
      "grid_gap": null,
      "grid_row": null,
      "grid_template_areas": null,
      "grid_template_columns": null,
      "grid_template_rows": null,
      "height": null,
      "justify_content": null,
      "justify_items": null,
      "left": null,
      "margin": null,
      "max_height": null,
      "max_width": null,
      "min_height": null,
      "min_width": null,
      "object_fit": null,
      "object_position": null,
      "order": null,
      "overflow": null,
      "overflow_x": null,
      "overflow_y": null,
      "padding": null,
      "right": null,
      "top": null,
      "visibility": null,
      "width": null
     }
    },
    "c24767ec76a64a4ba8e9479d6b762442": {
     "model_module": "@jupyter-widgets/base",
     "model_module_version": "1.2.0",
     "model_name": "LayoutModel",
     "state": {
      "_model_module": "@jupyter-widgets/base",
      "_model_module_version": "1.2.0",
      "_model_name": "LayoutModel",
      "_view_count": null,
      "_view_module": "@jupyter-widgets/base",
      "_view_module_version": "1.2.0",
      "_view_name": "LayoutView",
      "align_content": null,
      "align_items": null,
      "align_self": null,
      "border": null,
      "bottom": null,
      "display": null,
      "flex": null,
      "flex_flow": null,
      "grid_area": null,
      "grid_auto_columns": null,
      "grid_auto_flow": null,
      "grid_auto_rows": null,
      "grid_column": null,
      "grid_gap": null,
      "grid_row": null,
      "grid_template_areas": null,
      "grid_template_columns": null,
      "grid_template_rows": null,
      "height": null,
      "justify_content": null,
      "justify_items": null,
      "left": null,
      "margin": null,
      "max_height": null,
      "max_width": null,
      "min_height": null,
      "min_width": null,
      "object_fit": null,
      "object_position": null,
      "order": null,
      "overflow": null,
      "overflow_x": null,
      "overflow_y": null,
      "padding": null,
      "right": null,
      "top": null,
      "visibility": null,
      "width": null
     }
    },
    "c2d37d11829c4e1cb732483ffb4e5164": {
     "model_module": "@jupyter-widgets/controls",
     "model_module_version": "1.5.0",
     "model_name": "FloatProgressModel",
     "state": {
      "_dom_classes": [],
      "_model_module": "@jupyter-widgets/controls",
      "_model_module_version": "1.5.0",
      "_model_name": "FloatProgressModel",
      "_view_count": null,
      "_view_module": "@jupyter-widgets/controls",
      "_view_module_version": "1.5.0",
      "_view_name": "ProgressView",
      "bar_style": "success",
      "description": "",
      "description_tooltip": null,
      "layout": "IPY_MODEL_e9d3a088f8c04410a63b425a98845e9f",
      "max": 80,
      "min": 0,
      "orientation": "horizontal",
      "style": "IPY_MODEL_f695f33a29a849ee87cdc6913301ae42",
      "value": 80
     }
    },
    "c419347b47f94262bb6a6a98218701e9": {
     "model_module": "@jupyter-widgets/controls",
     "model_module_version": "1.5.0",
     "model_name": "FloatProgressModel",
     "state": {
      "_dom_classes": [],
      "_model_module": "@jupyter-widgets/controls",
      "_model_module_version": "1.5.0",
      "_model_name": "FloatProgressModel",
      "_view_count": null,
      "_view_module": "@jupyter-widgets/controls",
      "_view_module_version": "1.5.0",
      "_view_name": "ProgressView",
      "bar_style": "success",
      "description": "",
      "description_tooltip": null,
      "layout": "IPY_MODEL_1369bd53f8564b798d3b1108616da62a",
      "max": 80,
      "min": 0,
      "orientation": "horizontal",
      "style": "IPY_MODEL_6772e582b4044346a91405d4b8b9d9bc",
      "value": 80
     }
    },
    "c46f45a5aabe492ba354b19f7c78d714": {
     "model_module": "@jupyter-widgets/base",
     "model_module_version": "1.2.0",
     "model_name": "LayoutModel",
     "state": {
      "_model_module": "@jupyter-widgets/base",
      "_model_module_version": "1.2.0",
      "_model_name": "LayoutModel",
      "_view_count": null,
      "_view_module": "@jupyter-widgets/base",
      "_view_module_version": "1.2.0",
      "_view_name": "LayoutView",
      "align_content": null,
      "align_items": null,
      "align_self": null,
      "border": null,
      "bottom": null,
      "display": null,
      "flex": null,
      "flex_flow": null,
      "grid_area": null,
      "grid_auto_columns": null,
      "grid_auto_flow": null,
      "grid_auto_rows": null,
      "grid_column": null,
      "grid_gap": null,
      "grid_row": null,
      "grid_template_areas": null,
      "grid_template_columns": null,
      "grid_template_rows": null,
      "height": null,
      "justify_content": null,
      "justify_items": null,
      "left": null,
      "margin": null,
      "max_height": null,
      "max_width": null,
      "min_height": null,
      "min_width": null,
      "object_fit": null,
      "object_position": null,
      "order": null,
      "overflow": null,
      "overflow_x": null,
      "overflow_y": null,
      "padding": null,
      "right": null,
      "top": null,
      "visibility": null,
      "width": null
     }
    },
    "c49be13ab57e4dacad58d036a91c3c12": {
     "model_module": "@jupyter-widgets/base",
     "model_module_version": "1.2.0",
     "model_name": "LayoutModel",
     "state": {
      "_model_module": "@jupyter-widgets/base",
      "_model_module_version": "1.2.0",
      "_model_name": "LayoutModel",
      "_view_count": null,
      "_view_module": "@jupyter-widgets/base",
      "_view_module_version": "1.2.0",
      "_view_name": "LayoutView",
      "align_content": null,
      "align_items": null,
      "align_self": null,
      "border": null,
      "bottom": null,
      "display": null,
      "flex": null,
      "flex_flow": null,
      "grid_area": null,
      "grid_auto_columns": null,
      "grid_auto_flow": null,
      "grid_auto_rows": null,
      "grid_column": null,
      "grid_gap": null,
      "grid_row": null,
      "grid_template_areas": null,
      "grid_template_columns": null,
      "grid_template_rows": null,
      "height": null,
      "justify_content": null,
      "justify_items": null,
      "left": null,
      "margin": null,
      "max_height": null,
      "max_width": null,
      "min_height": null,
      "min_width": null,
      "object_fit": null,
      "object_position": null,
      "order": null,
      "overflow": null,
      "overflow_x": null,
      "overflow_y": null,
      "padding": null,
      "right": null,
      "top": null,
      "visibility": null,
      "width": null
     }
    },
    "c4f9fe2fd2454df2a1e64c5138d36c36": {
     "model_module": "@jupyter-widgets/controls",
     "model_module_version": "1.5.0",
     "model_name": "DescriptionStyleModel",
     "state": {
      "_model_module": "@jupyter-widgets/controls",
      "_model_module_version": "1.5.0",
      "_model_name": "DescriptionStyleModel",
      "_view_count": null,
      "_view_module": "@jupyter-widgets/base",
      "_view_module_version": "1.2.0",
      "_view_name": "StyleView",
      "description_width": ""
     }
    },
    "c4fb94f582524eceadcc1dbb0b21aec9": {
     "model_module": "@jupyter-widgets/controls",
     "model_module_version": "1.5.0",
     "model_name": "HTMLModel",
     "state": {
      "_dom_classes": [],
      "_model_module": "@jupyter-widgets/controls",
      "_model_module_version": "1.5.0",
      "_model_name": "HTMLModel",
      "_view_count": null,
      "_view_module": "@jupyter-widgets/controls",
      "_view_module_version": "1.5.0",
      "_view_name": "HTMLView",
      "description": "",
      "description_tooltip": null,
      "layout": "IPY_MODEL_d9e1f835eade4948829aecaf19ed35b4",
      "placeholder": "​",
      "style": "IPY_MODEL_8a00cf63e6bf46448cbee17b3860b193",
      "value": " 80/80 [00:38&lt;00:00,  2.12it/s]"
     }
    },
    "c50622af9eb147629127e326131e3690": {
     "model_module": "@jupyter-widgets/base",
     "model_module_version": "1.2.0",
     "model_name": "LayoutModel",
     "state": {
      "_model_module": "@jupyter-widgets/base",
      "_model_module_version": "1.2.0",
      "_model_name": "LayoutModel",
      "_view_count": null,
      "_view_module": "@jupyter-widgets/base",
      "_view_module_version": "1.2.0",
      "_view_name": "LayoutView",
      "align_content": null,
      "align_items": null,
      "align_self": null,
      "border": null,
      "bottom": null,
      "display": null,
      "flex": null,
      "flex_flow": null,
      "grid_area": null,
      "grid_auto_columns": null,
      "grid_auto_flow": null,
      "grid_auto_rows": null,
      "grid_column": null,
      "grid_gap": null,
      "grid_row": null,
      "grid_template_areas": null,
      "grid_template_columns": null,
      "grid_template_rows": null,
      "height": null,
      "justify_content": null,
      "justify_items": null,
      "left": null,
      "margin": null,
      "max_height": null,
      "max_width": null,
      "min_height": null,
      "min_width": null,
      "object_fit": null,
      "object_position": null,
      "order": null,
      "overflow": null,
      "overflow_x": null,
      "overflow_y": null,
      "padding": null,
      "right": null,
      "top": null,
      "visibility": null,
      "width": null
     }
    },
    "c60cf980738645f7b31d6e4c94e768af": {
     "model_module": "@jupyter-widgets/controls",
     "model_module_version": "1.5.0",
     "model_name": "ProgressStyleModel",
     "state": {
      "_model_module": "@jupyter-widgets/controls",
      "_model_module_version": "1.5.0",
      "_model_name": "ProgressStyleModel",
      "_view_count": null,
      "_view_module": "@jupyter-widgets/base",
      "_view_module_version": "1.2.0",
      "_view_name": "StyleView",
      "bar_color": null,
      "description_width": ""
     }
    },
    "c6536368918f47b89eca18b342254ced": {
     "model_module": "@jupyter-widgets/base",
     "model_module_version": "1.2.0",
     "model_name": "LayoutModel",
     "state": {
      "_model_module": "@jupyter-widgets/base",
      "_model_module_version": "1.2.0",
      "_model_name": "LayoutModel",
      "_view_count": null,
      "_view_module": "@jupyter-widgets/base",
      "_view_module_version": "1.2.0",
      "_view_name": "LayoutView",
      "align_content": null,
      "align_items": null,
      "align_self": null,
      "border": null,
      "bottom": null,
      "display": null,
      "flex": null,
      "flex_flow": null,
      "grid_area": null,
      "grid_auto_columns": null,
      "grid_auto_flow": null,
      "grid_auto_rows": null,
      "grid_column": null,
      "grid_gap": null,
      "grid_row": null,
      "grid_template_areas": null,
      "grid_template_columns": null,
      "grid_template_rows": null,
      "height": null,
      "justify_content": null,
      "justify_items": null,
      "left": null,
      "margin": null,
      "max_height": null,
      "max_width": null,
      "min_height": null,
      "min_width": null,
      "object_fit": null,
      "object_position": null,
      "order": null,
      "overflow": null,
      "overflow_x": null,
      "overflow_y": null,
      "padding": null,
      "right": null,
      "top": null,
      "visibility": null,
      "width": null
     }
    },
    "c88cac4a723a4477beefbf88ca1754d7": {
     "model_module": "@jupyter-widgets/controls",
     "model_module_version": "1.5.0",
     "model_name": "HTMLModel",
     "state": {
      "_dom_classes": [],
      "_model_module": "@jupyter-widgets/controls",
      "_model_module_version": "1.5.0",
      "_model_name": "HTMLModel",
      "_view_count": null,
      "_view_module": "@jupyter-widgets/controls",
      "_view_module_version": "1.5.0",
      "_view_name": "HTMLView",
      "description": "",
      "description_tooltip": null,
      "layout": "IPY_MODEL_caaba6c134614195be4d7b19af69dbc8",
      "placeholder": "​",
      "style": "IPY_MODEL_f9115f41a75f43bfa16be88e52b98930",
      "value": " 80/80 [00:30&lt;00:00,  2.74it/s]"
     }
    },
    "c9421db67dba44679ebf0e452965e3a4": {
     "model_module": "@jupyter-widgets/controls",
     "model_module_version": "1.5.0",
     "model_name": "ProgressStyleModel",
     "state": {
      "_model_module": "@jupyter-widgets/controls",
      "_model_module_version": "1.5.0",
      "_model_name": "ProgressStyleModel",
      "_view_count": null,
      "_view_module": "@jupyter-widgets/base",
      "_view_module_version": "1.2.0",
      "_view_name": "StyleView",
      "bar_color": null,
      "description_width": ""
     }
    },
    "caaba6c134614195be4d7b19af69dbc8": {
     "model_module": "@jupyter-widgets/base",
     "model_module_version": "1.2.0",
     "model_name": "LayoutModel",
     "state": {
      "_model_module": "@jupyter-widgets/base",
      "_model_module_version": "1.2.0",
      "_model_name": "LayoutModel",
      "_view_count": null,
      "_view_module": "@jupyter-widgets/base",
      "_view_module_version": "1.2.0",
      "_view_name": "LayoutView",
      "align_content": null,
      "align_items": null,
      "align_self": null,
      "border": null,
      "bottom": null,
      "display": null,
      "flex": null,
      "flex_flow": null,
      "grid_area": null,
      "grid_auto_columns": null,
      "grid_auto_flow": null,
      "grid_auto_rows": null,
      "grid_column": null,
      "grid_gap": null,
      "grid_row": null,
      "grid_template_areas": null,
      "grid_template_columns": null,
      "grid_template_rows": null,
      "height": null,
      "justify_content": null,
      "justify_items": null,
      "left": null,
      "margin": null,
      "max_height": null,
      "max_width": null,
      "min_height": null,
      "min_width": null,
      "object_fit": null,
      "object_position": null,
      "order": null,
      "overflow": null,
      "overflow_x": null,
      "overflow_y": null,
      "padding": null,
      "right": null,
      "top": null,
      "visibility": null,
      "width": null
     }
    },
    "cbe3548d644d450c866f9d256b569d1a": {
     "model_module": "@jupyter-widgets/base",
     "model_module_version": "1.2.0",
     "model_name": "LayoutModel",
     "state": {
      "_model_module": "@jupyter-widgets/base",
      "_model_module_version": "1.2.0",
      "_model_name": "LayoutModel",
      "_view_count": null,
      "_view_module": "@jupyter-widgets/base",
      "_view_module_version": "1.2.0",
      "_view_name": "LayoutView",
      "align_content": null,
      "align_items": null,
      "align_self": null,
      "border": null,
      "bottom": null,
      "display": null,
      "flex": null,
      "flex_flow": null,
      "grid_area": null,
      "grid_auto_columns": null,
      "grid_auto_flow": null,
      "grid_auto_rows": null,
      "grid_column": null,
      "grid_gap": null,
      "grid_row": null,
      "grid_template_areas": null,
      "grid_template_columns": null,
      "grid_template_rows": null,
      "height": null,
      "justify_content": null,
      "justify_items": null,
      "left": null,
      "margin": null,
      "max_height": null,
      "max_width": null,
      "min_height": null,
      "min_width": null,
      "object_fit": null,
      "object_position": null,
      "order": null,
      "overflow": null,
      "overflow_x": null,
      "overflow_y": null,
      "padding": null,
      "right": null,
      "top": null,
      "visibility": null,
      "width": null
     }
    },
    "cc6c1829094f4cfe92d5fec3c14ec8e6": {
     "model_module": "@jupyter-widgets/controls",
     "model_module_version": "1.5.0",
     "model_name": "ProgressStyleModel",
     "state": {
      "_model_module": "@jupyter-widgets/controls",
      "_model_module_version": "1.5.0",
      "_model_name": "ProgressStyleModel",
      "_view_count": null,
      "_view_module": "@jupyter-widgets/base",
      "_view_module_version": "1.2.0",
      "_view_name": "StyleView",
      "bar_color": null,
      "description_width": ""
     }
    },
    "cc9fae9ed1d74008866e239f1a0a4506": {
     "model_module": "@jupyter-widgets/controls",
     "model_module_version": "1.5.0",
     "model_name": "HTMLModel",
     "state": {
      "_dom_classes": [],
      "_model_module": "@jupyter-widgets/controls",
      "_model_module_version": "1.5.0",
      "_model_name": "HTMLModel",
      "_view_count": null,
      "_view_module": "@jupyter-widgets/controls",
      "_view_module_version": "1.5.0",
      "_view_name": "HTMLView",
      "description": "",
      "description_tooltip": null,
      "layout": "IPY_MODEL_83b029f7ba8a4578885052430ff82392",
      "placeholder": "​",
      "style": "IPY_MODEL_ef136d66058b41f9b6390059c557360d",
      "value": "Downloading: 100%"
     }
    },
    "cccc5eb8ec5a40a3a97a2b0f650add32": {
     "model_module": "@jupyter-widgets/controls",
     "model_module_version": "1.5.0",
     "model_name": "HTMLModel",
     "state": {
      "_dom_classes": [],
      "_model_module": "@jupyter-widgets/controls",
      "_model_module_version": "1.5.0",
      "_model_name": "HTMLModel",
      "_view_count": null,
      "_view_module": "@jupyter-widgets/controls",
      "_view_module_version": "1.5.0",
      "_view_name": "HTMLView",
      "description": "",
      "description_tooltip": null,
      "layout": "IPY_MODEL_57c7fe354d5b46bdb68e073e9032876d",
      "placeholder": "​",
      "style": "IPY_MODEL_8905217c1bb14f14939e153d86cc1834",
      "value": "100%"
     }
    },
    "cdb8c8c6a15d48c0be0a931dae2efd76": {
     "model_module": "@jupyter-widgets/controls",
     "model_module_version": "1.5.0",
     "model_name": "HTMLModel",
     "state": {
      "_dom_classes": [],
      "_model_module": "@jupyter-widgets/controls",
      "_model_module_version": "1.5.0",
      "_model_name": "HTMLModel",
      "_view_count": null,
      "_view_module": "@jupyter-widgets/controls",
      "_view_module_version": "1.5.0",
      "_view_name": "HTMLView",
      "description": "",
      "description_tooltip": null,
      "layout": "IPY_MODEL_c50622af9eb147629127e326131e3690",
      "placeholder": "​",
      "style": "IPY_MODEL_4d46ceebd32f44f6a82f95a6645324a4",
      "value": "Downloading: 100%"
     }
    },
    "ce64d1c7edc14f749ea45a2eab4ed5c3": {
     "model_module": "@jupyter-widgets/controls",
     "model_module_version": "1.5.0",
     "model_name": "HBoxModel",
     "state": {
      "_dom_classes": [],
      "_model_module": "@jupyter-widgets/controls",
      "_model_module_version": "1.5.0",
      "_model_name": "HBoxModel",
      "_view_count": null,
      "_view_module": "@jupyter-widgets/controls",
      "_view_module_version": "1.5.0",
      "_view_name": "HBoxView",
      "box_style": "",
      "children": [
       "IPY_MODEL_cdb8c8c6a15d48c0be0a931dae2efd76",
       "IPY_MODEL_f22bf7b9a90444539afb0d9e28cd8896",
       "IPY_MODEL_82baae3ae255434fb8d02c9e6111f82c"
      ],
      "layout": "IPY_MODEL_15f965848823424dabf986fd7276cbb1"
     }
    },
    "d0a73b506c304fec9da61c01bc45814b": {
     "model_module": "@jupyter-widgets/controls",
     "model_module_version": "1.5.0",
     "model_name": "DescriptionStyleModel",
     "state": {
      "_model_module": "@jupyter-widgets/controls",
      "_model_module_version": "1.5.0",
      "_model_name": "DescriptionStyleModel",
      "_view_count": null,
      "_view_module": "@jupyter-widgets/base",
      "_view_module_version": "1.2.0",
      "_view_name": "StyleView",
      "description_width": ""
     }
    },
    "d5bc593c1b8b43df97c40222197a907c": {
     "model_module": "@jupyter-widgets/controls",
     "model_module_version": "1.5.0",
     "model_name": "DescriptionStyleModel",
     "state": {
      "_model_module": "@jupyter-widgets/controls",
      "_model_module_version": "1.5.0",
      "_model_name": "DescriptionStyleModel",
      "_view_count": null,
      "_view_module": "@jupyter-widgets/base",
      "_view_module_version": "1.2.0",
      "_view_name": "StyleView",
      "description_width": ""
     }
    },
    "d6bfc97d593944e986f9b7cb6e742f1e": {
     "model_module": "@jupyter-widgets/base",
     "model_module_version": "1.2.0",
     "model_name": "LayoutModel",
     "state": {
      "_model_module": "@jupyter-widgets/base",
      "_model_module_version": "1.2.0",
      "_model_name": "LayoutModel",
      "_view_count": null,
      "_view_module": "@jupyter-widgets/base",
      "_view_module_version": "1.2.0",
      "_view_name": "LayoutView",
      "align_content": null,
      "align_items": null,
      "align_self": null,
      "border": null,
      "bottom": null,
      "display": null,
      "flex": null,
      "flex_flow": null,
      "grid_area": null,
      "grid_auto_columns": null,
      "grid_auto_flow": null,
      "grid_auto_rows": null,
      "grid_column": null,
      "grid_gap": null,
      "grid_row": null,
      "grid_template_areas": null,
      "grid_template_columns": null,
      "grid_template_rows": null,
      "height": null,
      "justify_content": null,
      "justify_items": null,
      "left": null,
      "margin": null,
      "max_height": null,
      "max_width": null,
      "min_height": null,
      "min_width": null,
      "object_fit": null,
      "object_position": null,
      "order": null,
      "overflow": null,
      "overflow_x": null,
      "overflow_y": null,
      "padding": null,
      "right": null,
      "top": null,
      "visibility": null,
      "width": null
     }
    },
    "d805220ab1f3469eb8d446ec520501a8": {
     "model_module": "@jupyter-widgets/controls",
     "model_module_version": "1.5.0",
     "model_name": "HBoxModel",
     "state": {
      "_dom_classes": [],
      "_model_module": "@jupyter-widgets/controls",
      "_model_module_version": "1.5.0",
      "_model_name": "HBoxModel",
      "_view_count": null,
      "_view_module": "@jupyter-widgets/controls",
      "_view_module_version": "1.5.0",
      "_view_name": "HBoxView",
      "box_style": "",
      "children": [
       "IPY_MODEL_cccc5eb8ec5a40a3a97a2b0f650add32",
       "IPY_MODEL_1cde37fca2124d2aa004772b30253e96",
       "IPY_MODEL_0f1d8c9ab81d43e98ab4f74a4642ebbc"
      ],
      "layout": "IPY_MODEL_78a3cfeeed2b46409675c2f66d3a4189"
     }
    },
    "d9af19c543f54c8781761ce2ad952cd0": {
     "model_module": "@jupyter-widgets/base",
     "model_module_version": "1.2.0",
     "model_name": "LayoutModel",
     "state": {
      "_model_module": "@jupyter-widgets/base",
      "_model_module_version": "1.2.0",
      "_model_name": "LayoutModel",
      "_view_count": null,
      "_view_module": "@jupyter-widgets/base",
      "_view_module_version": "1.2.0",
      "_view_name": "LayoutView",
      "align_content": null,
      "align_items": null,
      "align_self": null,
      "border": null,
      "bottom": null,
      "display": null,
      "flex": null,
      "flex_flow": null,
      "grid_area": null,
      "grid_auto_columns": null,
      "grid_auto_flow": null,
      "grid_auto_rows": null,
      "grid_column": null,
      "grid_gap": null,
      "grid_row": null,
      "grid_template_areas": null,
      "grid_template_columns": null,
      "grid_template_rows": null,
      "height": null,
      "justify_content": null,
      "justify_items": null,
      "left": null,
      "margin": null,
      "max_height": null,
      "max_width": null,
      "min_height": null,
      "min_width": null,
      "object_fit": null,
      "object_position": null,
      "order": null,
      "overflow": null,
      "overflow_x": null,
      "overflow_y": null,
      "padding": null,
      "right": null,
      "top": null,
      "visibility": null,
      "width": null
     }
    },
    "d9e1f835eade4948829aecaf19ed35b4": {
     "model_module": "@jupyter-widgets/base",
     "model_module_version": "1.2.0",
     "model_name": "LayoutModel",
     "state": {
      "_model_module": "@jupyter-widgets/base",
      "_model_module_version": "1.2.0",
      "_model_name": "LayoutModel",
      "_view_count": null,
      "_view_module": "@jupyter-widgets/base",
      "_view_module_version": "1.2.0",
      "_view_name": "LayoutView",
      "align_content": null,
      "align_items": null,
      "align_self": null,
      "border": null,
      "bottom": null,
      "display": null,
      "flex": null,
      "flex_flow": null,
      "grid_area": null,
      "grid_auto_columns": null,
      "grid_auto_flow": null,
      "grid_auto_rows": null,
      "grid_column": null,
      "grid_gap": null,
      "grid_row": null,
      "grid_template_areas": null,
      "grid_template_columns": null,
      "grid_template_rows": null,
      "height": null,
      "justify_content": null,
      "justify_items": null,
      "left": null,
      "margin": null,
      "max_height": null,
      "max_width": null,
      "min_height": null,
      "min_width": null,
      "object_fit": null,
      "object_position": null,
      "order": null,
      "overflow": null,
      "overflow_x": null,
      "overflow_y": null,
      "padding": null,
      "right": null,
      "top": null,
      "visibility": null,
      "width": null
     }
    },
    "da6a5ede58fc474cb115b7cd610f8aeb": {
     "model_module": "@jupyter-widgets/controls",
     "model_module_version": "1.5.0",
     "model_name": "FloatProgressModel",
     "state": {
      "_dom_classes": [],
      "_model_module": "@jupyter-widgets/controls",
      "_model_module_version": "1.5.0",
      "_model_name": "FloatProgressModel",
      "_view_count": null,
      "_view_module": "@jupyter-widgets/controls",
      "_view_module_version": "1.5.0",
      "_view_name": "ProgressView",
      "bar_style": "success",
      "description": "",
      "description_tooltip": null,
      "layout": "IPY_MODEL_c6536368918f47b89eca18b342254ced",
      "max": 1,
      "min": 0,
      "orientation": "horizontal",
      "style": "IPY_MODEL_83d93e7c2aef4796853282467ab28924",
      "value": 1
     }
    },
    "de9fa598fe7a4d878fd8b5ddd8149b96": {
     "model_module": "@jupyter-widgets/controls",
     "model_module_version": "1.5.0",
     "model_name": "HTMLModel",
     "state": {
      "_dom_classes": [],
      "_model_module": "@jupyter-widgets/controls",
      "_model_module_version": "1.5.0",
      "_model_name": "HTMLModel",
      "_view_count": null,
      "_view_module": "@jupyter-widgets/controls",
      "_view_module_version": "1.5.0",
      "_view_name": "HTMLView",
      "description": "",
      "description_tooltip": null,
      "layout": "IPY_MODEL_46ec9f1347ea458eb5552543788950c4",
      "placeholder": "​",
      "style": "IPY_MODEL_87b482a6b93c4e28ba1f26c75fae3098",
      "value": " 80/80 [00:39&lt;00:00,  2.17it/s]"
     }
    },
    "def4deb532db4d54a8bc517e5bae2ca4": {
     "model_module": "@jupyter-widgets/base",
     "model_module_version": "1.2.0",
     "model_name": "LayoutModel",
     "state": {
      "_model_module": "@jupyter-widgets/base",
      "_model_module_version": "1.2.0",
      "_model_name": "LayoutModel",
      "_view_count": null,
      "_view_module": "@jupyter-widgets/base",
      "_view_module_version": "1.2.0",
      "_view_name": "LayoutView",
      "align_content": null,
      "align_items": null,
      "align_self": null,
      "border": null,
      "bottom": null,
      "display": null,
      "flex": null,
      "flex_flow": null,
      "grid_area": null,
      "grid_auto_columns": null,
      "grid_auto_flow": null,
      "grid_auto_rows": null,
      "grid_column": null,
      "grid_gap": null,
      "grid_row": null,
      "grid_template_areas": null,
      "grid_template_columns": null,
      "grid_template_rows": null,
      "height": null,
      "justify_content": null,
      "justify_items": null,
      "left": null,
      "margin": null,
      "max_height": null,
      "max_width": null,
      "min_height": null,
      "min_width": null,
      "object_fit": null,
      "object_position": null,
      "order": null,
      "overflow": null,
      "overflow_x": null,
      "overflow_y": null,
      "padding": null,
      "right": null,
      "top": null,
      "visibility": null,
      "width": null
     }
    },
    "df7531faab614836a685d5ae2ce6618f": {
     "model_module": "@jupyter-widgets/controls",
     "model_module_version": "1.5.0",
     "model_name": "ProgressStyleModel",
     "state": {
      "_model_module": "@jupyter-widgets/controls",
      "_model_module_version": "1.5.0",
      "_model_name": "ProgressStyleModel",
      "_view_count": null,
      "_view_module": "@jupyter-widgets/base",
      "_view_module_version": "1.2.0",
      "_view_name": "StyleView",
      "bar_color": null,
      "description_width": ""
     }
    },
    "e0cacb3b2e924c04814578f81946b811": {
     "model_module": "@jupyter-widgets/base",
     "model_module_version": "1.2.0",
     "model_name": "LayoutModel",
     "state": {
      "_model_module": "@jupyter-widgets/base",
      "_model_module_version": "1.2.0",
      "_model_name": "LayoutModel",
      "_view_count": null,
      "_view_module": "@jupyter-widgets/base",
      "_view_module_version": "1.2.0",
      "_view_name": "LayoutView",
      "align_content": null,
      "align_items": null,
      "align_self": null,
      "border": null,
      "bottom": null,
      "display": null,
      "flex": null,
      "flex_flow": null,
      "grid_area": null,
      "grid_auto_columns": null,
      "grid_auto_flow": null,
      "grid_auto_rows": null,
      "grid_column": null,
      "grid_gap": null,
      "grid_row": null,
      "grid_template_areas": null,
      "grid_template_columns": null,
      "grid_template_rows": null,
      "height": null,
      "justify_content": null,
      "justify_items": null,
      "left": null,
      "margin": null,
      "max_height": null,
      "max_width": null,
      "min_height": null,
      "min_width": null,
      "object_fit": null,
      "object_position": null,
      "order": null,
      "overflow": null,
      "overflow_x": null,
      "overflow_y": null,
      "padding": null,
      "right": null,
      "top": null,
      "visibility": null,
      "width": null
     }
    },
    "e154310a7065462f8a58d3e37ee55e71": {
     "model_module": "@jupyter-widgets/controls",
     "model_module_version": "1.5.0",
     "model_name": "ProgressStyleModel",
     "state": {
      "_model_module": "@jupyter-widgets/controls",
      "_model_module_version": "1.5.0",
      "_model_name": "ProgressStyleModel",
      "_view_count": null,
      "_view_module": "@jupyter-widgets/base",
      "_view_module_version": "1.2.0",
      "_view_name": "StyleView",
      "bar_color": null,
      "description_width": ""
     }
    },
    "e1ffa7470f974fa897b6e14eef0f8e01": {
     "model_module": "@jupyter-widgets/base",
     "model_module_version": "1.2.0",
     "model_name": "LayoutModel",
     "state": {
      "_model_module": "@jupyter-widgets/base",
      "_model_module_version": "1.2.0",
      "_model_name": "LayoutModel",
      "_view_count": null,
      "_view_module": "@jupyter-widgets/base",
      "_view_module_version": "1.2.0",
      "_view_name": "LayoutView",
      "align_content": null,
      "align_items": null,
      "align_self": null,
      "border": null,
      "bottom": null,
      "display": null,
      "flex": null,
      "flex_flow": null,
      "grid_area": null,
      "grid_auto_columns": null,
      "grid_auto_flow": null,
      "grid_auto_rows": null,
      "grid_column": null,
      "grid_gap": null,
      "grid_row": null,
      "grid_template_areas": null,
      "grid_template_columns": null,
      "grid_template_rows": null,
      "height": null,
      "justify_content": null,
      "justify_items": null,
      "left": null,
      "margin": null,
      "max_height": null,
      "max_width": null,
      "min_height": null,
      "min_width": null,
      "object_fit": null,
      "object_position": null,
      "order": null,
      "overflow": null,
      "overflow_x": null,
      "overflow_y": null,
      "padding": null,
      "right": null,
      "top": null,
      "visibility": null,
      "width": null
     }
    },
    "e4322864e396434092a04a68142cac48": {
     "model_module": "@jupyter-widgets/base",
     "model_module_version": "1.2.0",
     "model_name": "LayoutModel",
     "state": {
      "_model_module": "@jupyter-widgets/base",
      "_model_module_version": "1.2.0",
      "_model_name": "LayoutModel",
      "_view_count": null,
      "_view_module": "@jupyter-widgets/base",
      "_view_module_version": "1.2.0",
      "_view_name": "LayoutView",
      "align_content": null,
      "align_items": null,
      "align_self": null,
      "border": null,
      "bottom": null,
      "display": null,
      "flex": null,
      "flex_flow": null,
      "grid_area": null,
      "grid_auto_columns": null,
      "grid_auto_flow": null,
      "grid_auto_rows": null,
      "grid_column": null,
      "grid_gap": null,
      "grid_row": null,
      "grid_template_areas": null,
      "grid_template_columns": null,
      "grid_template_rows": null,
      "height": null,
      "justify_content": null,
      "justify_items": null,
      "left": null,
      "margin": null,
      "max_height": null,
      "max_width": null,
      "min_height": null,
      "min_width": null,
      "object_fit": null,
      "object_position": null,
      "order": null,
      "overflow": null,
      "overflow_x": null,
      "overflow_y": null,
      "padding": null,
      "right": null,
      "top": null,
      "visibility": null,
      "width": null
     }
    },
    "e6dd7b1017194035be7e73bf81c7bbea": {
     "model_module": "@jupyter-widgets/controls",
     "model_module_version": "1.5.0",
     "model_name": "HTMLModel",
     "state": {
      "_dom_classes": [],
      "_model_module": "@jupyter-widgets/controls",
      "_model_module_version": "1.5.0",
      "_model_name": "HTMLModel",
      "_view_count": null,
      "_view_module": "@jupyter-widgets/controls",
      "_view_module_version": "1.5.0",
      "_view_name": "HTMLView",
      "description": "",
      "description_tooltip": null,
      "layout": "IPY_MODEL_ecd4747ef5464ae2baddd0757b2ed2a1",
      "placeholder": "​",
      "style": "IPY_MODEL_41e208c65b9748b59e74d3bfec333712",
      "value": "100%"
     }
    },
    "e7567cfe840c47c08d253ed2a97fbbda": {
     "model_module": "@jupyter-widgets/controls",
     "model_module_version": "1.5.0",
     "model_name": "DescriptionStyleModel",
     "state": {
      "_model_module": "@jupyter-widgets/controls",
      "_model_module_version": "1.5.0",
      "_model_name": "DescriptionStyleModel",
      "_view_count": null,
      "_view_module": "@jupyter-widgets/base",
      "_view_module_version": "1.2.0",
      "_view_name": "StyleView",
      "description_width": ""
     }
    },
    "e7f95c77edb54d20aab50c03297c39db": {
     "model_module": "@jupyter-widgets/base",
     "model_module_version": "1.2.0",
     "model_name": "LayoutModel",
     "state": {
      "_model_module": "@jupyter-widgets/base",
      "_model_module_version": "1.2.0",
      "_model_name": "LayoutModel",
      "_view_count": null,
      "_view_module": "@jupyter-widgets/base",
      "_view_module_version": "1.2.0",
      "_view_name": "LayoutView",
      "align_content": null,
      "align_items": null,
      "align_self": null,
      "border": null,
      "bottom": null,
      "display": null,
      "flex": null,
      "flex_flow": null,
      "grid_area": null,
      "grid_auto_columns": null,
      "grid_auto_flow": null,
      "grid_auto_rows": null,
      "grid_column": null,
      "grid_gap": null,
      "grid_row": null,
      "grid_template_areas": null,
      "grid_template_columns": null,
      "grid_template_rows": null,
      "height": null,
      "justify_content": null,
      "justify_items": null,
      "left": null,
      "margin": null,
      "max_height": null,
      "max_width": null,
      "min_height": null,
      "min_width": null,
      "object_fit": null,
      "object_position": null,
      "order": null,
      "overflow": null,
      "overflow_x": null,
      "overflow_y": null,
      "padding": null,
      "right": null,
      "top": null,
      "visibility": null,
      "width": null
     }
    },
    "e82dd7c5107d4e27a0ab951f188899ff": {
     "model_module": "@jupyter-widgets/base",
     "model_module_version": "1.2.0",
     "model_name": "LayoutModel",
     "state": {
      "_model_module": "@jupyter-widgets/base",
      "_model_module_version": "1.2.0",
      "_model_name": "LayoutModel",
      "_view_count": null,
      "_view_module": "@jupyter-widgets/base",
      "_view_module_version": "1.2.0",
      "_view_name": "LayoutView",
      "align_content": null,
      "align_items": null,
      "align_self": null,
      "border": null,
      "bottom": null,
      "display": null,
      "flex": null,
      "flex_flow": null,
      "grid_area": null,
      "grid_auto_columns": null,
      "grid_auto_flow": null,
      "grid_auto_rows": null,
      "grid_column": null,
      "grid_gap": null,
      "grid_row": null,
      "grid_template_areas": null,
      "grid_template_columns": null,
      "grid_template_rows": null,
      "height": null,
      "justify_content": null,
      "justify_items": null,
      "left": null,
      "margin": null,
      "max_height": null,
      "max_width": null,
      "min_height": null,
      "min_width": null,
      "object_fit": null,
      "object_position": null,
      "order": null,
      "overflow": null,
      "overflow_x": null,
      "overflow_y": null,
      "padding": null,
      "right": null,
      "top": null,
      "visibility": null,
      "width": null
     }
    },
    "e892669f12f94f4788db84f04ba1ede5": {
     "model_module": "@jupyter-widgets/controls",
     "model_module_version": "1.5.0",
     "model_name": "DescriptionStyleModel",
     "state": {
      "_model_module": "@jupyter-widgets/controls",
      "_model_module_version": "1.5.0",
      "_model_name": "DescriptionStyleModel",
      "_view_count": null,
      "_view_module": "@jupyter-widgets/base",
      "_view_module_version": "1.2.0",
      "_view_name": "StyleView",
      "description_width": ""
     }
    },
    "e9d3a088f8c04410a63b425a98845e9f": {
     "model_module": "@jupyter-widgets/base",
     "model_module_version": "1.2.0",
     "model_name": "LayoutModel",
     "state": {
      "_model_module": "@jupyter-widgets/base",
      "_model_module_version": "1.2.0",
      "_model_name": "LayoutModel",
      "_view_count": null,
      "_view_module": "@jupyter-widgets/base",
      "_view_module_version": "1.2.0",
      "_view_name": "LayoutView",
      "align_content": null,
      "align_items": null,
      "align_self": null,
      "border": null,
      "bottom": null,
      "display": null,
      "flex": null,
      "flex_flow": null,
      "grid_area": null,
      "grid_auto_columns": null,
      "grid_auto_flow": null,
      "grid_auto_rows": null,
      "grid_column": null,
      "grid_gap": null,
      "grid_row": null,
      "grid_template_areas": null,
      "grid_template_columns": null,
      "grid_template_rows": null,
      "height": null,
      "justify_content": null,
      "justify_items": null,
      "left": null,
      "margin": null,
      "max_height": null,
      "max_width": null,
      "min_height": null,
      "min_width": null,
      "object_fit": null,
      "object_position": null,
      "order": null,
      "overflow": null,
      "overflow_x": null,
      "overflow_y": null,
      "padding": null,
      "right": null,
      "top": null,
      "visibility": null,
      "width": null
     }
    },
    "ea6fb468052f40a1a4a8aabe3e2e1917": {
     "model_module": "@jupyter-widgets/controls",
     "model_module_version": "1.5.0",
     "model_name": "HTMLModel",
     "state": {
      "_dom_classes": [],
      "_model_module": "@jupyter-widgets/controls",
      "_model_module_version": "1.5.0",
      "_model_name": "HTMLModel",
      "_view_count": null,
      "_view_module": "@jupyter-widgets/controls",
      "_view_module_version": "1.5.0",
      "_view_name": "HTMLView",
      "description": "",
      "description_tooltip": null,
      "layout": "IPY_MODEL_7652eccd31374b8e964840d1c9be6488",
      "placeholder": "​",
      "style": "IPY_MODEL_d0a73b506c304fec9da61c01bc45814b",
      "value": "100%"
     }
    },
    "ecd4747ef5464ae2baddd0757b2ed2a1": {
     "model_module": "@jupyter-widgets/base",
     "model_module_version": "1.2.0",
     "model_name": "LayoutModel",
     "state": {
      "_model_module": "@jupyter-widgets/base",
      "_model_module_version": "1.2.0",
      "_model_name": "LayoutModel",
      "_view_count": null,
      "_view_module": "@jupyter-widgets/base",
      "_view_module_version": "1.2.0",
      "_view_name": "LayoutView",
      "align_content": null,
      "align_items": null,
      "align_self": null,
      "border": null,
      "bottom": null,
      "display": null,
      "flex": null,
      "flex_flow": null,
      "grid_area": null,
      "grid_auto_columns": null,
      "grid_auto_flow": null,
      "grid_auto_rows": null,
      "grid_column": null,
      "grid_gap": null,
      "grid_row": null,
      "grid_template_areas": null,
      "grid_template_columns": null,
      "grid_template_rows": null,
      "height": null,
      "justify_content": null,
      "justify_items": null,
      "left": null,
      "margin": null,
      "max_height": null,
      "max_width": null,
      "min_height": null,
      "min_width": null,
      "object_fit": null,
      "object_position": null,
      "order": null,
      "overflow": null,
      "overflow_x": null,
      "overflow_y": null,
      "padding": null,
      "right": null,
      "top": null,
      "visibility": null,
      "width": null
     }
    },
    "ed65f867c9934e29a49942e999773fe7": {
     "model_module": "@jupyter-widgets/controls",
     "model_module_version": "1.5.0",
     "model_name": "DescriptionStyleModel",
     "state": {
      "_model_module": "@jupyter-widgets/controls",
      "_model_module_version": "1.5.0",
      "_model_name": "DescriptionStyleModel",
      "_view_count": null,
      "_view_module": "@jupyter-widgets/base",
      "_view_module_version": "1.2.0",
      "_view_name": "StyleView",
      "description_width": ""
     }
    },
    "ef136d66058b41f9b6390059c557360d": {
     "model_module": "@jupyter-widgets/controls",
     "model_module_version": "1.5.0",
     "model_name": "DescriptionStyleModel",
     "state": {
      "_model_module": "@jupyter-widgets/controls",
      "_model_module_version": "1.5.0",
      "_model_name": "DescriptionStyleModel",
      "_view_count": null,
      "_view_module": "@jupyter-widgets/base",
      "_view_module_version": "1.2.0",
      "_view_name": "StyleView",
      "description_width": ""
     }
    },
    "ef2b1c245f9a41b1b33042ec4377137d": {
     "model_module": "@jupyter-widgets/base",
     "model_module_version": "1.2.0",
     "model_name": "LayoutModel",
     "state": {
      "_model_module": "@jupyter-widgets/base",
      "_model_module_version": "1.2.0",
      "_model_name": "LayoutModel",
      "_view_count": null,
      "_view_module": "@jupyter-widgets/base",
      "_view_module_version": "1.2.0",
      "_view_name": "LayoutView",
      "align_content": null,
      "align_items": null,
      "align_self": null,
      "border": null,
      "bottom": null,
      "display": null,
      "flex": null,
      "flex_flow": null,
      "grid_area": null,
      "grid_auto_columns": null,
      "grid_auto_flow": null,
      "grid_auto_rows": null,
      "grid_column": null,
      "grid_gap": null,
      "grid_row": null,
      "grid_template_areas": null,
      "grid_template_columns": null,
      "grid_template_rows": null,
      "height": null,
      "justify_content": null,
      "justify_items": null,
      "left": null,
      "margin": null,
      "max_height": null,
      "max_width": null,
      "min_height": null,
      "min_width": null,
      "object_fit": null,
      "object_position": null,
      "order": null,
      "overflow": null,
      "overflow_x": null,
      "overflow_y": null,
      "padding": null,
      "right": null,
      "top": null,
      "visibility": null,
      "width": null
     }
    },
    "f006ad14ad0f404caecdd3bce3afd635": {
     "model_module": "@jupyter-widgets/base",
     "model_module_version": "1.2.0",
     "model_name": "LayoutModel",
     "state": {
      "_model_module": "@jupyter-widgets/base",
      "_model_module_version": "1.2.0",
      "_model_name": "LayoutModel",
      "_view_count": null,
      "_view_module": "@jupyter-widgets/base",
      "_view_module_version": "1.2.0",
      "_view_name": "LayoutView",
      "align_content": null,
      "align_items": null,
      "align_self": null,
      "border": null,
      "bottom": null,
      "display": null,
      "flex": null,
      "flex_flow": null,
      "grid_area": null,
      "grid_auto_columns": null,
      "grid_auto_flow": null,
      "grid_auto_rows": null,
      "grid_column": null,
      "grid_gap": null,
      "grid_row": null,
      "grid_template_areas": null,
      "grid_template_columns": null,
      "grid_template_rows": null,
      "height": null,
      "justify_content": null,
      "justify_items": null,
      "left": null,
      "margin": null,
      "max_height": null,
      "max_width": null,
      "min_height": null,
      "min_width": null,
      "object_fit": null,
      "object_position": null,
      "order": null,
      "overflow": null,
      "overflow_x": null,
      "overflow_y": null,
      "padding": null,
      "right": null,
      "top": null,
      "visibility": null,
      "width": null
     }
    },
    "f018ae25a7f347ea8de64393ea8c2a29": {
     "model_module": "@jupyter-widgets/controls",
     "model_module_version": "1.5.0",
     "model_name": "DescriptionStyleModel",
     "state": {
      "_model_module": "@jupyter-widgets/controls",
      "_model_module_version": "1.5.0",
      "_model_name": "DescriptionStyleModel",
      "_view_count": null,
      "_view_module": "@jupyter-widgets/base",
      "_view_module_version": "1.2.0",
      "_view_name": "StyleView",
      "description_width": ""
     }
    },
    "f22bf7b9a90444539afb0d9e28cd8896": {
     "model_module": "@jupyter-widgets/controls",
     "model_module_version": "1.5.0",
     "model_name": "FloatProgressModel",
     "state": {
      "_dom_classes": [],
      "_model_module": "@jupyter-widgets/controls",
      "_model_module_version": "1.5.0",
      "_model_name": "FloatProgressModel",
      "_view_count": null,
      "_view_module": "@jupyter-widgets/controls",
      "_view_module_version": "1.5.0",
      "_view_name": "ProgressView",
      "bar_style": "success",
      "description": "",
      "description_tooltip": null,
      "layout": "IPY_MODEL_27dcb261fe064461b4a5eee9ac8b7681",
      "max": 213450,
      "min": 0,
      "orientation": "horizontal",
      "style": "IPY_MODEL_73fbcb59870a409fb59f829a40d6eed6",
      "value": 213450
     }
    },
    "f41f55c723894203a19629f221e56750": {
     "model_module": "@jupyter-widgets/base",
     "model_module_version": "1.2.0",
     "model_name": "LayoutModel",
     "state": {
      "_model_module": "@jupyter-widgets/base",
      "_model_module_version": "1.2.0",
      "_model_name": "LayoutModel",
      "_view_count": null,
      "_view_module": "@jupyter-widgets/base",
      "_view_module_version": "1.2.0",
      "_view_name": "LayoutView",
      "align_content": null,
      "align_items": null,
      "align_self": null,
      "border": null,
      "bottom": null,
      "display": null,
      "flex": null,
      "flex_flow": null,
      "grid_area": null,
      "grid_auto_columns": null,
      "grid_auto_flow": null,
      "grid_auto_rows": null,
      "grid_column": null,
      "grid_gap": null,
      "grid_row": null,
      "grid_template_areas": null,
      "grid_template_columns": null,
      "grid_template_rows": null,
      "height": null,
      "justify_content": null,
      "justify_items": null,
      "left": null,
      "margin": null,
      "max_height": null,
      "max_width": null,
      "min_height": null,
      "min_width": null,
      "object_fit": null,
      "object_position": null,
      "order": null,
      "overflow": null,
      "overflow_x": null,
      "overflow_y": null,
      "padding": null,
      "right": null,
      "top": null,
      "visibility": null,
      "width": null
     }
    },
    "f4954082463e471eb5650bd1115bc833": {
     "model_module": "@jupyter-widgets/base",
     "model_module_version": "1.2.0",
     "model_name": "LayoutModel",
     "state": {
      "_model_module": "@jupyter-widgets/base",
      "_model_module_version": "1.2.0",
      "_model_name": "LayoutModel",
      "_view_count": null,
      "_view_module": "@jupyter-widgets/base",
      "_view_module_version": "1.2.0",
      "_view_name": "LayoutView",
      "align_content": null,
      "align_items": null,
      "align_self": null,
      "border": null,
      "bottom": null,
      "display": null,
      "flex": null,
      "flex_flow": null,
      "grid_area": null,
      "grid_auto_columns": null,
      "grid_auto_flow": null,
      "grid_auto_rows": null,
      "grid_column": null,
      "grid_gap": null,
      "grid_row": null,
      "grid_template_areas": null,
      "grid_template_columns": null,
      "grid_template_rows": null,
      "height": null,
      "justify_content": null,
      "justify_items": null,
      "left": null,
      "margin": null,
      "max_height": null,
      "max_width": null,
      "min_height": null,
      "min_width": null,
      "object_fit": null,
      "object_position": null,
      "order": null,
      "overflow": null,
      "overflow_x": null,
      "overflow_y": null,
      "padding": null,
      "right": null,
      "top": null,
      "visibility": null,
      "width": "20px"
     }
    },
    "f650ef0c02c44dcc8c0cdfbc65517bb6": {
     "model_module": "@jupyter-widgets/controls",
     "model_module_version": "1.5.0",
     "model_name": "HBoxModel",
     "state": {
      "_dom_classes": [],
      "_model_module": "@jupyter-widgets/controls",
      "_model_module_version": "1.5.0",
      "_model_name": "HBoxModel",
      "_view_count": null,
      "_view_module": "@jupyter-widgets/controls",
      "_view_module_version": "1.5.0",
      "_view_name": "HBoxView",
      "box_style": "",
      "children": [
       "IPY_MODEL_98c915b06a04432a883611db31835c3b",
       "IPY_MODEL_5815331f57c84030bedbc64ed69dd55b",
       "IPY_MODEL_0fce19e758ed4caba6179d23c10a3da6"
      ],
      "layout": "IPY_MODEL_e1ffa7470f974fa897b6e14eef0f8e01"
     }
    },
    "f695f33a29a849ee87cdc6913301ae42": {
     "model_module": "@jupyter-widgets/controls",
     "model_module_version": "1.5.0",
     "model_name": "ProgressStyleModel",
     "state": {
      "_model_module": "@jupyter-widgets/controls",
      "_model_module_version": "1.5.0",
      "_model_name": "ProgressStyleModel",
      "_view_count": null,
      "_view_module": "@jupyter-widgets/base",
      "_view_module_version": "1.2.0",
      "_view_name": "StyleView",
      "bar_color": null,
      "description_width": ""
     }
    },
    "f699f97a286e424d8a6c2ba821c5606d": {
     "model_module": "@jupyter-widgets/controls",
     "model_module_version": "1.5.0",
     "model_name": "HTMLModel",
     "state": {
      "_dom_classes": [],
      "_model_module": "@jupyter-widgets/controls",
      "_model_module_version": "1.5.0",
      "_model_name": "HTMLModel",
      "_view_count": null,
      "_view_module": "@jupyter-widgets/controls",
      "_view_module_version": "1.5.0",
      "_view_name": "HTMLView",
      "description": "",
      "description_tooltip": null,
      "layout": "IPY_MODEL_c073172dda97468b93e4dee6d2795d2c",
      "placeholder": "​",
      "style": "IPY_MODEL_436461e55c1a4aa48f5600665488408e",
      "value": " 80/80 [00:30&lt;00:00,  2.65it/s]"
     }
    },
    "f9115f41a75f43bfa16be88e52b98930": {
     "model_module": "@jupyter-widgets/controls",
     "model_module_version": "1.5.0",
     "model_name": "DescriptionStyleModel",
     "state": {
      "_model_module": "@jupyter-widgets/controls",
      "_model_module_version": "1.5.0",
      "_model_name": "DescriptionStyleModel",
      "_view_count": null,
      "_view_module": "@jupyter-widgets/base",
      "_view_module_version": "1.2.0",
      "_view_name": "StyleView",
      "description_width": ""
     }
    },
    "fc33ab3ee3364496a9e991c38867cd79": {
     "model_module": "@jupyter-widgets/base",
     "model_module_version": "1.2.0",
     "model_name": "LayoutModel",
     "state": {
      "_model_module": "@jupyter-widgets/base",
      "_model_module_version": "1.2.0",
      "_model_name": "LayoutModel",
      "_view_count": null,
      "_view_module": "@jupyter-widgets/base",
      "_view_module_version": "1.2.0",
      "_view_name": "LayoutView",
      "align_content": null,
      "align_items": null,
      "align_self": null,
      "border": null,
      "bottom": null,
      "display": null,
      "flex": null,
      "flex_flow": null,
      "grid_area": null,
      "grid_auto_columns": null,
      "grid_auto_flow": null,
      "grid_auto_rows": null,
      "grid_column": null,
      "grid_gap": null,
      "grid_row": null,
      "grid_template_areas": null,
      "grid_template_columns": null,
      "grid_template_rows": null,
      "height": null,
      "justify_content": null,
      "justify_items": null,
      "left": null,
      "margin": null,
      "max_height": null,
      "max_width": null,
      "min_height": null,
      "min_width": null,
      "object_fit": null,
      "object_position": null,
      "order": null,
      "overflow": null,
      "overflow_x": null,
      "overflow_y": null,
      "padding": null,
      "right": null,
      "top": null,
      "visibility": null,
      "width": null
     }
    },
    "ff0667f3ef964189891d797f86a28ef7": {
     "model_module": "@jupyter-widgets/base",
     "model_module_version": "1.2.0",
     "model_name": "LayoutModel",
     "state": {
      "_model_module": "@jupyter-widgets/base",
      "_model_module_version": "1.2.0",
      "_model_name": "LayoutModel",
      "_view_count": null,
      "_view_module": "@jupyter-widgets/base",
      "_view_module_version": "1.2.0",
      "_view_name": "LayoutView",
      "align_content": null,
      "align_items": null,
      "align_self": null,
      "border": null,
      "bottom": null,
      "display": null,
      "flex": null,
      "flex_flow": null,
      "grid_area": null,
      "grid_auto_columns": null,
      "grid_auto_flow": null,
      "grid_auto_rows": null,
      "grid_column": null,
      "grid_gap": null,
      "grid_row": null,
      "grid_template_areas": null,
      "grid_template_columns": null,
      "grid_template_rows": null,
      "height": null,
      "justify_content": null,
      "justify_items": null,
      "left": null,
      "margin": null,
      "max_height": null,
      "max_width": null,
      "min_height": null,
      "min_width": null,
      "object_fit": null,
      "object_position": null,
      "order": null,
      "overflow": null,
      "overflow_x": null,
      "overflow_y": null,
      "padding": null,
      "right": null,
      "top": null,
      "visibility": null,
      "width": null
     }
    },
    "ff238655e9a849deb3fea8e28e971326": {
     "model_module": "@jupyter-widgets/controls",
     "model_module_version": "1.5.0",
     "model_name": "FloatProgressModel",
     "state": {
      "_dom_classes": [],
      "_model_module": "@jupyter-widgets/controls",
      "_model_module_version": "1.5.0",
      "_model_name": "FloatProgressModel",
      "_view_count": null,
      "_view_module": "@jupyter-widgets/controls",
      "_view_module_version": "1.5.0",
      "_view_name": "ProgressView",
      "bar_style": "success",
      "description": "",
      "description_tooltip": null,
      "layout": "IPY_MODEL_705330ab1f7e402b8475c8fcaea488a5",
      "max": 435780550,
      "min": 0,
      "orientation": "horizontal",
      "style": "IPY_MODEL_7f06eae3128f4038a41ffa1e5a99de08",
      "value": 435780550
     }
    }
   }
  }
 },
 "nbformat": 4,
 "nbformat_minor": 1
}
