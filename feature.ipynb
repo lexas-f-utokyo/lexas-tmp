{
  "nbformat": 4,
  "nbformat_minor": 0,
  "metadata": {
    "colab": {
      "name": "210905_リファクタリング_特徴量作成",
      "provenance": [],
      "collapsed_sections": [
        "YYjwy9MT6I_1"
      ],
      "toc_visible": true,
      "machine_shape": "hm"
    },
    "kernelspec": {
      "display_name": "Python 3",
      "language": "python",
      "name": "python3"
    },
    "language_info": {
      "codemirror_mode": {
        "name": "ipython",
        "version": 3
      },
      "file_extension": ".py",
      "mimetype": "text/x-python",
      "name": "python",
      "nbconvert_exporter": "python",
      "pygments_lexer": "ipython3",
      "version": "3.6.9"
    },
    "widgets": {
      "application/vnd.jupyter.widget-state+json": {
        "431ef04bc41b47d4a4f5716e1c3dfb4a": {
          "model_module": "@jupyter-widgets/controls",
          "model_name": "HBoxModel",
          "model_module_version": "1.5.0",
          "state": {
            "_view_name": "HBoxView",
            "_dom_classes": [],
            "_model_name": "HBoxModel",
            "_view_module": "@jupyter-widgets/controls",
            "_model_module_version": "1.5.0",
            "_view_count": null,
            "_view_module_version": "1.5.0",
            "box_style": "",
            "layout": "IPY_MODEL_8a8cb0f35f6d41568093facd637275d5",
            "_model_module": "@jupyter-widgets/controls",
            "children": [
              "IPY_MODEL_dc42bab147dc404ea3ff51ab656f9e88",
              "IPY_MODEL_56e94c6621c942c9ac398d1c540e57fe",
              "IPY_MODEL_4170e202f1534d748d445fbd7faf514a"
            ]
          }
        },
        "8a8cb0f35f6d41568093facd637275d5": {
          "model_module": "@jupyter-widgets/base",
          "model_name": "LayoutModel",
          "model_module_version": "1.2.0",
          "state": {
            "_view_name": "LayoutView",
            "grid_template_rows": null,
            "right": null,
            "justify_content": null,
            "_view_module": "@jupyter-widgets/base",
            "overflow": null,
            "_model_module_version": "1.2.0",
            "_view_count": null,
            "flex_flow": null,
            "width": null,
            "min_width": null,
            "border": null,
            "align_items": null,
            "bottom": null,
            "_model_module": "@jupyter-widgets/base",
            "top": null,
            "grid_column": null,
            "overflow_y": null,
            "overflow_x": null,
            "grid_auto_flow": null,
            "grid_area": null,
            "grid_template_columns": null,
            "flex": null,
            "_model_name": "LayoutModel",
            "justify_items": null,
            "grid_row": null,
            "max_height": null,
            "align_content": null,
            "visibility": null,
            "align_self": null,
            "height": null,
            "min_height": null,
            "padding": null,
            "grid_auto_rows": null,
            "grid_gap": null,
            "max_width": null,
            "order": null,
            "_view_module_version": "1.2.0",
            "grid_template_areas": null,
            "object_position": null,
            "object_fit": null,
            "grid_auto_columns": null,
            "margin": null,
            "display": null,
            "left": null
          }
        },
        "dc42bab147dc404ea3ff51ab656f9e88": {
          "model_module": "@jupyter-widgets/controls",
          "model_name": "HTMLModel",
          "model_module_version": "1.5.0",
          "state": {
            "_view_name": "HTMLView",
            "style": "IPY_MODEL_a9b5dbdfcf98419f82cd1a129be051b5",
            "_dom_classes": [],
            "description": "",
            "_model_name": "HTMLModel",
            "placeholder": "​",
            "_view_module": "@jupyter-widgets/controls",
            "_model_module_version": "1.5.0",
            "value": "100%",
            "_view_count": null,
            "_view_module_version": "1.5.0",
            "description_tooltip": null,
            "_model_module": "@jupyter-widgets/controls",
            "layout": "IPY_MODEL_0dd5d30e4263410bb086d7ace6b31052"
          }
        },
        "56e94c6621c942c9ac398d1c540e57fe": {
          "model_module": "@jupyter-widgets/controls",
          "model_name": "FloatProgressModel",
          "model_module_version": "1.5.0",
          "state": {
            "_view_name": "ProgressView",
            "style": "IPY_MODEL_a75023d7f6204e81b76ec023c14fcdf4",
            "_dom_classes": [],
            "description": "",
            "_model_name": "FloatProgressModel",
            "bar_style": "success",
            "max": 22819,
            "_view_module": "@jupyter-widgets/controls",
            "_model_module_version": "1.5.0",
            "value": 22819,
            "_view_count": null,
            "_view_module_version": "1.5.0",
            "orientation": "horizontal",
            "min": 0,
            "description_tooltip": null,
            "_model_module": "@jupyter-widgets/controls",
            "layout": "IPY_MODEL_cbd798dc3cbb429eb3bcdc6bc311088c"
          }
        },
        "4170e202f1534d748d445fbd7faf514a": {
          "model_module": "@jupyter-widgets/controls",
          "model_name": "HTMLModel",
          "model_module_version": "1.5.0",
          "state": {
            "_view_name": "HTMLView",
            "style": "IPY_MODEL_bbecf63378b94b11920302aa03f1bd28",
            "_dom_classes": [],
            "description": "",
            "_model_name": "HTMLModel",
            "placeholder": "​",
            "_view_module": "@jupyter-widgets/controls",
            "_model_module_version": "1.5.0",
            "value": " 22819/22819 [00:04&lt;00:00, 4520.17it/s]",
            "_view_count": null,
            "_view_module_version": "1.5.0",
            "description_tooltip": null,
            "_model_module": "@jupyter-widgets/controls",
            "layout": "IPY_MODEL_9669082fae2b4eb581c04e72592f8606"
          }
        },
        "a9b5dbdfcf98419f82cd1a129be051b5": {
          "model_module": "@jupyter-widgets/controls",
          "model_name": "DescriptionStyleModel",
          "model_module_version": "1.5.0",
          "state": {
            "_view_name": "StyleView",
            "_model_name": "DescriptionStyleModel",
            "description_width": "",
            "_view_module": "@jupyter-widgets/base",
            "_model_module_version": "1.5.0",
            "_view_count": null,
            "_view_module_version": "1.2.0",
            "_model_module": "@jupyter-widgets/controls"
          }
        },
        "0dd5d30e4263410bb086d7ace6b31052": {
          "model_module": "@jupyter-widgets/base",
          "model_name": "LayoutModel",
          "model_module_version": "1.2.0",
          "state": {
            "_view_name": "LayoutView",
            "grid_template_rows": null,
            "right": null,
            "justify_content": null,
            "_view_module": "@jupyter-widgets/base",
            "overflow": null,
            "_model_module_version": "1.2.0",
            "_view_count": null,
            "flex_flow": null,
            "width": null,
            "min_width": null,
            "border": null,
            "align_items": null,
            "bottom": null,
            "_model_module": "@jupyter-widgets/base",
            "top": null,
            "grid_column": null,
            "overflow_y": null,
            "overflow_x": null,
            "grid_auto_flow": null,
            "grid_area": null,
            "grid_template_columns": null,
            "flex": null,
            "_model_name": "LayoutModel",
            "justify_items": null,
            "grid_row": null,
            "max_height": null,
            "align_content": null,
            "visibility": null,
            "align_self": null,
            "height": null,
            "min_height": null,
            "padding": null,
            "grid_auto_rows": null,
            "grid_gap": null,
            "max_width": null,
            "order": null,
            "_view_module_version": "1.2.0",
            "grid_template_areas": null,
            "object_position": null,
            "object_fit": null,
            "grid_auto_columns": null,
            "margin": null,
            "display": null,
            "left": null
          }
        },
        "a75023d7f6204e81b76ec023c14fcdf4": {
          "model_module": "@jupyter-widgets/controls",
          "model_name": "ProgressStyleModel",
          "model_module_version": "1.5.0",
          "state": {
            "_view_name": "StyleView",
            "_model_name": "ProgressStyleModel",
            "description_width": "",
            "_view_module": "@jupyter-widgets/base",
            "_model_module_version": "1.5.0",
            "_view_count": null,
            "_view_module_version": "1.2.0",
            "bar_color": null,
            "_model_module": "@jupyter-widgets/controls"
          }
        },
        "cbd798dc3cbb429eb3bcdc6bc311088c": {
          "model_module": "@jupyter-widgets/base",
          "model_name": "LayoutModel",
          "model_module_version": "1.2.0",
          "state": {
            "_view_name": "LayoutView",
            "grid_template_rows": null,
            "right": null,
            "justify_content": null,
            "_view_module": "@jupyter-widgets/base",
            "overflow": null,
            "_model_module_version": "1.2.0",
            "_view_count": null,
            "flex_flow": null,
            "width": null,
            "min_width": null,
            "border": null,
            "align_items": null,
            "bottom": null,
            "_model_module": "@jupyter-widgets/base",
            "top": null,
            "grid_column": null,
            "overflow_y": null,
            "overflow_x": null,
            "grid_auto_flow": null,
            "grid_area": null,
            "grid_template_columns": null,
            "flex": null,
            "_model_name": "LayoutModel",
            "justify_items": null,
            "grid_row": null,
            "max_height": null,
            "align_content": null,
            "visibility": null,
            "align_self": null,
            "height": null,
            "min_height": null,
            "padding": null,
            "grid_auto_rows": null,
            "grid_gap": null,
            "max_width": null,
            "order": null,
            "_view_module_version": "1.2.0",
            "grid_template_areas": null,
            "object_position": null,
            "object_fit": null,
            "grid_auto_columns": null,
            "margin": null,
            "display": null,
            "left": null
          }
        },
        "bbecf63378b94b11920302aa03f1bd28": {
          "model_module": "@jupyter-widgets/controls",
          "model_name": "DescriptionStyleModel",
          "model_module_version": "1.5.0",
          "state": {
            "_view_name": "StyleView",
            "_model_name": "DescriptionStyleModel",
            "description_width": "",
            "_view_module": "@jupyter-widgets/base",
            "_model_module_version": "1.5.0",
            "_view_count": null,
            "_view_module_version": "1.2.0",
            "_model_module": "@jupyter-widgets/controls"
          }
        },
        "9669082fae2b4eb581c04e72592f8606": {
          "model_module": "@jupyter-widgets/base",
          "model_name": "LayoutModel",
          "model_module_version": "1.2.0",
          "state": {
            "_view_name": "LayoutView",
            "grid_template_rows": null,
            "right": null,
            "justify_content": null,
            "_view_module": "@jupyter-widgets/base",
            "overflow": null,
            "_model_module_version": "1.2.0",
            "_view_count": null,
            "flex_flow": null,
            "width": null,
            "min_width": null,
            "border": null,
            "align_items": null,
            "bottom": null,
            "_model_module": "@jupyter-widgets/base",
            "top": null,
            "grid_column": null,
            "overflow_y": null,
            "overflow_x": null,
            "grid_auto_flow": null,
            "grid_area": null,
            "grid_template_columns": null,
            "flex": null,
            "_model_name": "LayoutModel",
            "justify_items": null,
            "grid_row": null,
            "max_height": null,
            "align_content": null,
            "visibility": null,
            "align_self": null,
            "height": null,
            "min_height": null,
            "padding": null,
            "grid_auto_rows": null,
            "grid_gap": null,
            "max_width": null,
            "order": null,
            "_view_module_version": "1.2.0",
            "grid_template_areas": null,
            "object_position": null,
            "object_fit": null,
            "grid_auto_columns": null,
            "margin": null,
            "display": null,
            "left": null
          }
        },
        "e2f0c9a1b025408bbb01b1241b8228f1": {
          "model_module": "@jupyter-widgets/controls",
          "model_name": "HBoxModel",
          "model_module_version": "1.5.0",
          "state": {
            "_view_name": "HBoxView",
            "_dom_classes": [],
            "_model_name": "HBoxModel",
            "_view_module": "@jupyter-widgets/controls",
            "_model_module_version": "1.5.0",
            "_view_count": null,
            "_view_module_version": "1.5.0",
            "box_style": "",
            "layout": "IPY_MODEL_7a16630ea8614d779e9f024a56887171",
            "_model_module": "@jupyter-widgets/controls",
            "children": [
              "IPY_MODEL_110f67883bde4d3c9ed7b3a20758bcbe",
              "IPY_MODEL_48900afcac2948369c6104873e70755f",
              "IPY_MODEL_4f8c870662774226a4d3376db7352c7a"
            ]
          }
        },
        "7a16630ea8614d779e9f024a56887171": {
          "model_module": "@jupyter-widgets/base",
          "model_name": "LayoutModel",
          "model_module_version": "1.2.0",
          "state": {
            "_view_name": "LayoutView",
            "grid_template_rows": null,
            "right": null,
            "justify_content": null,
            "_view_module": "@jupyter-widgets/base",
            "overflow": null,
            "_model_module_version": "1.2.0",
            "_view_count": null,
            "flex_flow": null,
            "width": null,
            "min_width": null,
            "border": null,
            "align_items": null,
            "bottom": null,
            "_model_module": "@jupyter-widgets/base",
            "top": null,
            "grid_column": null,
            "overflow_y": null,
            "overflow_x": null,
            "grid_auto_flow": null,
            "grid_area": null,
            "grid_template_columns": null,
            "flex": null,
            "_model_name": "LayoutModel",
            "justify_items": null,
            "grid_row": null,
            "max_height": null,
            "align_content": null,
            "visibility": null,
            "align_self": null,
            "height": null,
            "min_height": null,
            "padding": null,
            "grid_auto_rows": null,
            "grid_gap": null,
            "max_width": null,
            "order": null,
            "_view_module_version": "1.2.0",
            "grid_template_areas": null,
            "object_position": null,
            "object_fit": null,
            "grid_auto_columns": null,
            "margin": null,
            "display": null,
            "left": null
          }
        },
        "110f67883bde4d3c9ed7b3a20758bcbe": {
          "model_module": "@jupyter-widgets/controls",
          "model_name": "HTMLModel",
          "model_module_version": "1.5.0",
          "state": {
            "_view_name": "HTMLView",
            "style": "IPY_MODEL_cff12a79378d42cbacb0cf39ecdf5248",
            "_dom_classes": [],
            "description": "",
            "_model_name": "HTMLModel",
            "placeholder": "​",
            "_view_module": "@jupyter-widgets/controls",
            "_model_module_version": "1.5.0",
            "value": "100%",
            "_view_count": null,
            "_view_module_version": "1.5.0",
            "description_tooltip": null,
            "_model_module": "@jupyter-widgets/controls",
            "layout": "IPY_MODEL_53319c1645eb47918c7ef142b524c001"
          }
        },
        "48900afcac2948369c6104873e70755f": {
          "model_module": "@jupyter-widgets/controls",
          "model_name": "FloatProgressModel",
          "model_module_version": "1.5.0",
          "state": {
            "_view_name": "ProgressView",
            "style": "IPY_MODEL_a765c803fb41474caed5daf9c832b560",
            "_dom_classes": [],
            "description": "",
            "_model_name": "FloatProgressModel",
            "bar_style": "success",
            "max": 845810,
            "_view_module": "@jupyter-widgets/controls",
            "_model_module_version": "1.5.0",
            "value": 845810,
            "_view_count": null,
            "_view_module_version": "1.5.0",
            "orientation": "horizontal",
            "min": 0,
            "description_tooltip": null,
            "_model_module": "@jupyter-widgets/controls",
            "layout": "IPY_MODEL_6c3d5a905abf485c95a93890cd5b05e1"
          }
        },
        "4f8c870662774226a4d3376db7352c7a": {
          "model_module": "@jupyter-widgets/controls",
          "model_name": "HTMLModel",
          "model_module_version": "1.5.0",
          "state": {
            "_view_name": "HTMLView",
            "style": "IPY_MODEL_5455f2f3f48742608f00e31d3157869a",
            "_dom_classes": [],
            "description": "",
            "_model_name": "HTMLModel",
            "placeholder": "​",
            "_view_module": "@jupyter-widgets/controls",
            "_model_module_version": "1.5.0",
            "value": " 845810/845810 [00:04&lt;00:00, 176675.71it/s]",
            "_view_count": null,
            "_view_module_version": "1.5.0",
            "description_tooltip": null,
            "_model_module": "@jupyter-widgets/controls",
            "layout": "IPY_MODEL_d60e97054cfa4f86b8a3bae459607539"
          }
        },
        "cff12a79378d42cbacb0cf39ecdf5248": {
          "model_module": "@jupyter-widgets/controls",
          "model_name": "DescriptionStyleModel",
          "model_module_version": "1.5.0",
          "state": {
            "_view_name": "StyleView",
            "_model_name": "DescriptionStyleModel",
            "description_width": "",
            "_view_module": "@jupyter-widgets/base",
            "_model_module_version": "1.5.0",
            "_view_count": null,
            "_view_module_version": "1.2.0",
            "_model_module": "@jupyter-widgets/controls"
          }
        },
        "53319c1645eb47918c7ef142b524c001": {
          "model_module": "@jupyter-widgets/base",
          "model_name": "LayoutModel",
          "model_module_version": "1.2.0",
          "state": {
            "_view_name": "LayoutView",
            "grid_template_rows": null,
            "right": null,
            "justify_content": null,
            "_view_module": "@jupyter-widgets/base",
            "overflow": null,
            "_model_module_version": "1.2.0",
            "_view_count": null,
            "flex_flow": null,
            "width": null,
            "min_width": null,
            "border": null,
            "align_items": null,
            "bottom": null,
            "_model_module": "@jupyter-widgets/base",
            "top": null,
            "grid_column": null,
            "overflow_y": null,
            "overflow_x": null,
            "grid_auto_flow": null,
            "grid_area": null,
            "grid_template_columns": null,
            "flex": null,
            "_model_name": "LayoutModel",
            "justify_items": null,
            "grid_row": null,
            "max_height": null,
            "align_content": null,
            "visibility": null,
            "align_self": null,
            "height": null,
            "min_height": null,
            "padding": null,
            "grid_auto_rows": null,
            "grid_gap": null,
            "max_width": null,
            "order": null,
            "_view_module_version": "1.2.0",
            "grid_template_areas": null,
            "object_position": null,
            "object_fit": null,
            "grid_auto_columns": null,
            "margin": null,
            "display": null,
            "left": null
          }
        },
        "a765c803fb41474caed5daf9c832b560": {
          "model_module": "@jupyter-widgets/controls",
          "model_name": "ProgressStyleModel",
          "model_module_version": "1.5.0",
          "state": {
            "_view_name": "StyleView",
            "_model_name": "ProgressStyleModel",
            "description_width": "",
            "_view_module": "@jupyter-widgets/base",
            "_model_module_version": "1.5.0",
            "_view_count": null,
            "_view_module_version": "1.2.0",
            "bar_color": null,
            "_model_module": "@jupyter-widgets/controls"
          }
        },
        "6c3d5a905abf485c95a93890cd5b05e1": {
          "model_module": "@jupyter-widgets/base",
          "model_name": "LayoutModel",
          "model_module_version": "1.2.0",
          "state": {
            "_view_name": "LayoutView",
            "grid_template_rows": null,
            "right": null,
            "justify_content": null,
            "_view_module": "@jupyter-widgets/base",
            "overflow": null,
            "_model_module_version": "1.2.0",
            "_view_count": null,
            "flex_flow": null,
            "width": null,
            "min_width": null,
            "border": null,
            "align_items": null,
            "bottom": null,
            "_model_module": "@jupyter-widgets/base",
            "top": null,
            "grid_column": null,
            "overflow_y": null,
            "overflow_x": null,
            "grid_auto_flow": null,
            "grid_area": null,
            "grid_template_columns": null,
            "flex": null,
            "_model_name": "LayoutModel",
            "justify_items": null,
            "grid_row": null,
            "max_height": null,
            "align_content": null,
            "visibility": null,
            "align_self": null,
            "height": null,
            "min_height": null,
            "padding": null,
            "grid_auto_rows": null,
            "grid_gap": null,
            "max_width": null,
            "order": null,
            "_view_module_version": "1.2.0",
            "grid_template_areas": null,
            "object_position": null,
            "object_fit": null,
            "grid_auto_columns": null,
            "margin": null,
            "display": null,
            "left": null
          }
        },
        "5455f2f3f48742608f00e31d3157869a": {
          "model_module": "@jupyter-widgets/controls",
          "model_name": "DescriptionStyleModel",
          "model_module_version": "1.5.0",
          "state": {
            "_view_name": "StyleView",
            "_model_name": "DescriptionStyleModel",
            "description_width": "",
            "_view_module": "@jupyter-widgets/base",
            "_model_module_version": "1.5.0",
            "_view_count": null,
            "_view_module_version": "1.2.0",
            "_model_module": "@jupyter-widgets/controls"
          }
        },
        "d60e97054cfa4f86b8a3bae459607539": {
          "model_module": "@jupyter-widgets/base",
          "model_name": "LayoutModel",
          "model_module_version": "1.2.0",
          "state": {
            "_view_name": "LayoutView",
            "grid_template_rows": null,
            "right": null,
            "justify_content": null,
            "_view_module": "@jupyter-widgets/base",
            "overflow": null,
            "_model_module_version": "1.2.0",
            "_view_count": null,
            "flex_flow": null,
            "width": null,
            "min_width": null,
            "border": null,
            "align_items": null,
            "bottom": null,
            "_model_module": "@jupyter-widgets/base",
            "top": null,
            "grid_column": null,
            "overflow_y": null,
            "overflow_x": null,
            "grid_auto_flow": null,
            "grid_area": null,
            "grid_template_columns": null,
            "flex": null,
            "_model_name": "LayoutModel",
            "justify_items": null,
            "grid_row": null,
            "max_height": null,
            "align_content": null,
            "visibility": null,
            "align_self": null,
            "height": null,
            "min_height": null,
            "padding": null,
            "grid_auto_rows": null,
            "grid_gap": null,
            "max_width": null,
            "order": null,
            "_view_module_version": "1.2.0",
            "grid_template_areas": null,
            "object_position": null,
            "object_fit": null,
            "grid_auto_columns": null,
            "margin": null,
            "display": null,
            "left": null
          }
        },
        "fd88c0f53047449889c8a11c168a8f03": {
          "model_module": "@jupyter-widgets/controls",
          "model_name": "HBoxModel",
          "model_module_version": "1.5.0",
          "state": {
            "_view_name": "HBoxView",
            "_dom_classes": [],
            "_model_name": "HBoxModel",
            "_view_module": "@jupyter-widgets/controls",
            "_model_module_version": "1.5.0",
            "_view_count": null,
            "_view_module_version": "1.5.0",
            "box_style": "",
            "layout": "IPY_MODEL_39202cf292ad44a588a3e07570ac990a",
            "_model_module": "@jupyter-widgets/controls",
            "children": [
              "IPY_MODEL_b9972bf35ac04c2798dc92264a8567f3",
              "IPY_MODEL_e59f17b2104c44f69d6ebbdc52588235",
              "IPY_MODEL_0ff8081539324791991dd41c878526a2"
            ]
          }
        },
        "39202cf292ad44a588a3e07570ac990a": {
          "model_module": "@jupyter-widgets/base",
          "model_name": "LayoutModel",
          "model_module_version": "1.2.0",
          "state": {
            "_view_name": "LayoutView",
            "grid_template_rows": null,
            "right": null,
            "justify_content": null,
            "_view_module": "@jupyter-widgets/base",
            "overflow": null,
            "_model_module_version": "1.2.0",
            "_view_count": null,
            "flex_flow": null,
            "width": null,
            "min_width": null,
            "border": null,
            "align_items": null,
            "bottom": null,
            "_model_module": "@jupyter-widgets/base",
            "top": null,
            "grid_column": null,
            "overflow_y": null,
            "overflow_x": null,
            "grid_auto_flow": null,
            "grid_area": null,
            "grid_template_columns": null,
            "flex": null,
            "_model_name": "LayoutModel",
            "justify_items": null,
            "grid_row": null,
            "max_height": null,
            "align_content": null,
            "visibility": null,
            "align_self": null,
            "height": null,
            "min_height": null,
            "padding": null,
            "grid_auto_rows": null,
            "grid_gap": null,
            "max_width": null,
            "order": null,
            "_view_module_version": "1.2.0",
            "grid_template_areas": null,
            "object_position": null,
            "object_fit": null,
            "grid_auto_columns": null,
            "margin": null,
            "display": null,
            "left": null
          }
        },
        "b9972bf35ac04c2798dc92264a8567f3": {
          "model_module": "@jupyter-widgets/controls",
          "model_name": "HTMLModel",
          "model_module_version": "1.5.0",
          "state": {
            "_view_name": "HTMLView",
            "style": "IPY_MODEL_ab584a56a3014423bc03d85a8c593461",
            "_dom_classes": [],
            "description": "",
            "_model_name": "HTMLModel",
            "placeholder": "​",
            "_view_module": "@jupyter-widgets/controls",
            "_model_module_version": "1.5.0",
            "value": "100%",
            "_view_count": null,
            "_view_module_version": "1.5.0",
            "description_tooltip": null,
            "_model_module": "@jupyter-widgets/controls",
            "layout": "IPY_MODEL_69a9c424140f4e10b7c05e8ef1ee1f1d"
          }
        },
        "e59f17b2104c44f69d6ebbdc52588235": {
          "model_module": "@jupyter-widgets/controls",
          "model_name": "FloatProgressModel",
          "model_module_version": "1.5.0",
          "state": {
            "_view_name": "ProgressView",
            "style": "IPY_MODEL_5c9aa00db45a44d88e4388b6a98f9f9c",
            "_dom_classes": [],
            "description": "",
            "_model_name": "FloatProgressModel",
            "bar_style": "success",
            "max": 845810,
            "_view_module": "@jupyter-widgets/controls",
            "_model_module_version": "1.5.0",
            "value": 845810,
            "_view_count": null,
            "_view_module_version": "1.5.0",
            "orientation": "horizontal",
            "min": 0,
            "description_tooltip": null,
            "_model_module": "@jupyter-widgets/controls",
            "layout": "IPY_MODEL_c44baac90b0e407fae7e2bd1f2f6cee0"
          }
        },
        "0ff8081539324791991dd41c878526a2": {
          "model_module": "@jupyter-widgets/controls",
          "model_name": "HTMLModel",
          "model_module_version": "1.5.0",
          "state": {
            "_view_name": "HTMLView",
            "style": "IPY_MODEL_f66c5aa024c84e1e9d4787c4467f799f",
            "_dom_classes": [],
            "description": "",
            "_model_name": "HTMLModel",
            "placeholder": "​",
            "_view_module": "@jupyter-widgets/controls",
            "_model_module_version": "1.5.0",
            "value": " 845810/845810 [00:02&lt;00:00, 322139.55it/s]",
            "_view_count": null,
            "_view_module_version": "1.5.0",
            "description_tooltip": null,
            "_model_module": "@jupyter-widgets/controls",
            "layout": "IPY_MODEL_6888bd2e54b2425eb30b1e072872a35b"
          }
        },
        "ab584a56a3014423bc03d85a8c593461": {
          "model_module": "@jupyter-widgets/controls",
          "model_name": "DescriptionStyleModel",
          "model_module_version": "1.5.0",
          "state": {
            "_view_name": "StyleView",
            "_model_name": "DescriptionStyleModel",
            "description_width": "",
            "_view_module": "@jupyter-widgets/base",
            "_model_module_version": "1.5.0",
            "_view_count": null,
            "_view_module_version": "1.2.0",
            "_model_module": "@jupyter-widgets/controls"
          }
        },
        "69a9c424140f4e10b7c05e8ef1ee1f1d": {
          "model_module": "@jupyter-widgets/base",
          "model_name": "LayoutModel",
          "model_module_version": "1.2.0",
          "state": {
            "_view_name": "LayoutView",
            "grid_template_rows": null,
            "right": null,
            "justify_content": null,
            "_view_module": "@jupyter-widgets/base",
            "overflow": null,
            "_model_module_version": "1.2.0",
            "_view_count": null,
            "flex_flow": null,
            "width": null,
            "min_width": null,
            "border": null,
            "align_items": null,
            "bottom": null,
            "_model_module": "@jupyter-widgets/base",
            "top": null,
            "grid_column": null,
            "overflow_y": null,
            "overflow_x": null,
            "grid_auto_flow": null,
            "grid_area": null,
            "grid_template_columns": null,
            "flex": null,
            "_model_name": "LayoutModel",
            "justify_items": null,
            "grid_row": null,
            "max_height": null,
            "align_content": null,
            "visibility": null,
            "align_self": null,
            "height": null,
            "min_height": null,
            "padding": null,
            "grid_auto_rows": null,
            "grid_gap": null,
            "max_width": null,
            "order": null,
            "_view_module_version": "1.2.0",
            "grid_template_areas": null,
            "object_position": null,
            "object_fit": null,
            "grid_auto_columns": null,
            "margin": null,
            "display": null,
            "left": null
          }
        },
        "5c9aa00db45a44d88e4388b6a98f9f9c": {
          "model_module": "@jupyter-widgets/controls",
          "model_name": "ProgressStyleModel",
          "model_module_version": "1.5.0",
          "state": {
            "_view_name": "StyleView",
            "_model_name": "ProgressStyleModel",
            "description_width": "",
            "_view_module": "@jupyter-widgets/base",
            "_model_module_version": "1.5.0",
            "_view_count": null,
            "_view_module_version": "1.2.0",
            "bar_color": null,
            "_model_module": "@jupyter-widgets/controls"
          }
        },
        "c44baac90b0e407fae7e2bd1f2f6cee0": {
          "model_module": "@jupyter-widgets/base",
          "model_name": "LayoutModel",
          "model_module_version": "1.2.0",
          "state": {
            "_view_name": "LayoutView",
            "grid_template_rows": null,
            "right": null,
            "justify_content": null,
            "_view_module": "@jupyter-widgets/base",
            "overflow": null,
            "_model_module_version": "1.2.0",
            "_view_count": null,
            "flex_flow": null,
            "width": null,
            "min_width": null,
            "border": null,
            "align_items": null,
            "bottom": null,
            "_model_module": "@jupyter-widgets/base",
            "top": null,
            "grid_column": null,
            "overflow_y": null,
            "overflow_x": null,
            "grid_auto_flow": null,
            "grid_area": null,
            "grid_template_columns": null,
            "flex": null,
            "_model_name": "LayoutModel",
            "justify_items": null,
            "grid_row": null,
            "max_height": null,
            "align_content": null,
            "visibility": null,
            "align_self": null,
            "height": null,
            "min_height": null,
            "padding": null,
            "grid_auto_rows": null,
            "grid_gap": null,
            "max_width": null,
            "order": null,
            "_view_module_version": "1.2.0",
            "grid_template_areas": null,
            "object_position": null,
            "object_fit": null,
            "grid_auto_columns": null,
            "margin": null,
            "display": null,
            "left": null
          }
        },
        "f66c5aa024c84e1e9d4787c4467f799f": {
          "model_module": "@jupyter-widgets/controls",
          "model_name": "DescriptionStyleModel",
          "model_module_version": "1.5.0",
          "state": {
            "_view_name": "StyleView",
            "_model_name": "DescriptionStyleModel",
            "description_width": "",
            "_view_module": "@jupyter-widgets/base",
            "_model_module_version": "1.5.0",
            "_view_count": null,
            "_view_module_version": "1.2.0",
            "_model_module": "@jupyter-widgets/controls"
          }
        },
        "6888bd2e54b2425eb30b1e072872a35b": {
          "model_module": "@jupyter-widgets/base",
          "model_name": "LayoutModel",
          "model_module_version": "1.2.0",
          "state": {
            "_view_name": "LayoutView",
            "grid_template_rows": null,
            "right": null,
            "justify_content": null,
            "_view_module": "@jupyter-widgets/base",
            "overflow": null,
            "_model_module_version": "1.2.0",
            "_view_count": null,
            "flex_flow": null,
            "width": null,
            "min_width": null,
            "border": null,
            "align_items": null,
            "bottom": null,
            "_model_module": "@jupyter-widgets/base",
            "top": null,
            "grid_column": null,
            "overflow_y": null,
            "overflow_x": null,
            "grid_auto_flow": null,
            "grid_area": null,
            "grid_template_columns": null,
            "flex": null,
            "_model_name": "LayoutModel",
            "justify_items": null,
            "grid_row": null,
            "max_height": null,
            "align_content": null,
            "visibility": null,
            "align_self": null,
            "height": null,
            "min_height": null,
            "padding": null,
            "grid_auto_rows": null,
            "grid_gap": null,
            "max_width": null,
            "order": null,
            "_view_module_version": "1.2.0",
            "grid_template_areas": null,
            "object_position": null,
            "object_fit": null,
            "grid_auto_columns": null,
            "margin": null,
            "display": null,
            "left": null
          }
        },
        "858e3b406c5042c1b4daefbd7e03370e": {
          "model_module": "@jupyter-widgets/controls",
          "model_name": "HBoxModel",
          "model_module_version": "1.5.0",
          "state": {
            "_view_name": "HBoxView",
            "_dom_classes": [],
            "_model_name": "HBoxModel",
            "_view_module": "@jupyter-widgets/controls",
            "_model_module_version": "1.5.0",
            "_view_count": null,
            "_view_module_version": "1.5.0",
            "box_style": "",
            "layout": "IPY_MODEL_f7329e0cec3542f3b7a505eaebf6dafe",
            "_model_module": "@jupyter-widgets/controls",
            "children": [
              "IPY_MODEL_6b8bfa43da874a0ca05aff8a2f3be429",
              "IPY_MODEL_2ebacdc3fd054937a5c227179f723c45",
              "IPY_MODEL_2f215d06f35e4dcb9ad3aef63761ca0f"
            ]
          }
        },
        "f7329e0cec3542f3b7a505eaebf6dafe": {
          "model_module": "@jupyter-widgets/base",
          "model_name": "LayoutModel",
          "model_module_version": "1.2.0",
          "state": {
            "_view_name": "LayoutView",
            "grid_template_rows": null,
            "right": null,
            "justify_content": null,
            "_view_module": "@jupyter-widgets/base",
            "overflow": null,
            "_model_module_version": "1.2.0",
            "_view_count": null,
            "flex_flow": null,
            "width": null,
            "min_width": null,
            "border": null,
            "align_items": null,
            "bottom": null,
            "_model_module": "@jupyter-widgets/base",
            "top": null,
            "grid_column": null,
            "overflow_y": null,
            "overflow_x": null,
            "grid_auto_flow": null,
            "grid_area": null,
            "grid_template_columns": null,
            "flex": null,
            "_model_name": "LayoutModel",
            "justify_items": null,
            "grid_row": null,
            "max_height": null,
            "align_content": null,
            "visibility": null,
            "align_self": null,
            "height": null,
            "min_height": null,
            "padding": null,
            "grid_auto_rows": null,
            "grid_gap": null,
            "max_width": null,
            "order": null,
            "_view_module_version": "1.2.0",
            "grid_template_areas": null,
            "object_position": null,
            "object_fit": null,
            "grid_auto_columns": null,
            "margin": null,
            "display": null,
            "left": null
          }
        },
        "6b8bfa43da874a0ca05aff8a2f3be429": {
          "model_module": "@jupyter-widgets/controls",
          "model_name": "HTMLModel",
          "model_module_version": "1.5.0",
          "state": {
            "_view_name": "HTMLView",
            "style": "IPY_MODEL_9883fa55340d454798de73ed78e90626",
            "_dom_classes": [],
            "description": "",
            "_model_name": "HTMLModel",
            "placeholder": "​",
            "_view_module": "@jupyter-widgets/controls",
            "_model_module_version": "1.5.0",
            "value": "100%",
            "_view_count": null,
            "_view_module_version": "1.5.0",
            "description_tooltip": null,
            "_model_module": "@jupyter-widgets/controls",
            "layout": "IPY_MODEL_c9cdc9a07b7c4e068023a0930eaa6b59"
          }
        },
        "2ebacdc3fd054937a5c227179f723c45": {
          "model_module": "@jupyter-widgets/controls",
          "model_name": "FloatProgressModel",
          "model_module_version": "1.5.0",
          "state": {
            "_view_name": "ProgressView",
            "style": "IPY_MODEL_e7546647cf864c87aa97a44e35ed561e",
            "_dom_classes": [],
            "description": "",
            "_model_name": "FloatProgressModel",
            "bar_style": "success",
            "max": 17624,
            "_view_module": "@jupyter-widgets/controls",
            "_model_module_version": "1.5.0",
            "value": 17624,
            "_view_count": null,
            "_view_module_version": "1.5.0",
            "orientation": "horizontal",
            "min": 0,
            "description_tooltip": null,
            "_model_module": "@jupyter-widgets/controls",
            "layout": "IPY_MODEL_e3bedfa86df2423681280e9b0cd0a292"
          }
        },
        "2f215d06f35e4dcb9ad3aef63761ca0f": {
          "model_module": "@jupyter-widgets/controls",
          "model_name": "HTMLModel",
          "model_module_version": "1.5.0",
          "state": {
            "_view_name": "HTMLView",
            "style": "IPY_MODEL_8064700ce1034bc9a314f12c163d2cd8",
            "_dom_classes": [],
            "description": "",
            "_model_name": "HTMLModel",
            "placeholder": "​",
            "_view_module": "@jupyter-widgets/controls",
            "_model_module_version": "1.5.0",
            "value": " 17624/17624 [00:18&lt;00:00, 923.65it/s]",
            "_view_count": null,
            "_view_module_version": "1.5.0",
            "description_tooltip": null,
            "_model_module": "@jupyter-widgets/controls",
            "layout": "IPY_MODEL_98972de2f0f1489b97eac89bb2575c6a"
          }
        },
        "9883fa55340d454798de73ed78e90626": {
          "model_module": "@jupyter-widgets/controls",
          "model_name": "DescriptionStyleModel",
          "model_module_version": "1.5.0",
          "state": {
            "_view_name": "StyleView",
            "_model_name": "DescriptionStyleModel",
            "description_width": "",
            "_view_module": "@jupyter-widgets/base",
            "_model_module_version": "1.5.0",
            "_view_count": null,
            "_view_module_version": "1.2.0",
            "_model_module": "@jupyter-widgets/controls"
          }
        },
        "c9cdc9a07b7c4e068023a0930eaa6b59": {
          "model_module": "@jupyter-widgets/base",
          "model_name": "LayoutModel",
          "model_module_version": "1.2.0",
          "state": {
            "_view_name": "LayoutView",
            "grid_template_rows": null,
            "right": null,
            "justify_content": null,
            "_view_module": "@jupyter-widgets/base",
            "overflow": null,
            "_model_module_version": "1.2.0",
            "_view_count": null,
            "flex_flow": null,
            "width": null,
            "min_width": null,
            "border": null,
            "align_items": null,
            "bottom": null,
            "_model_module": "@jupyter-widgets/base",
            "top": null,
            "grid_column": null,
            "overflow_y": null,
            "overflow_x": null,
            "grid_auto_flow": null,
            "grid_area": null,
            "grid_template_columns": null,
            "flex": null,
            "_model_name": "LayoutModel",
            "justify_items": null,
            "grid_row": null,
            "max_height": null,
            "align_content": null,
            "visibility": null,
            "align_self": null,
            "height": null,
            "min_height": null,
            "padding": null,
            "grid_auto_rows": null,
            "grid_gap": null,
            "max_width": null,
            "order": null,
            "_view_module_version": "1.2.0",
            "grid_template_areas": null,
            "object_position": null,
            "object_fit": null,
            "grid_auto_columns": null,
            "margin": null,
            "display": null,
            "left": null
          }
        },
        "e7546647cf864c87aa97a44e35ed561e": {
          "model_module": "@jupyter-widgets/controls",
          "model_name": "ProgressStyleModel",
          "model_module_version": "1.5.0",
          "state": {
            "_view_name": "StyleView",
            "_model_name": "ProgressStyleModel",
            "description_width": "",
            "_view_module": "@jupyter-widgets/base",
            "_model_module_version": "1.5.0",
            "_view_count": null,
            "_view_module_version": "1.2.0",
            "bar_color": null,
            "_model_module": "@jupyter-widgets/controls"
          }
        },
        "e3bedfa86df2423681280e9b0cd0a292": {
          "model_module": "@jupyter-widgets/base",
          "model_name": "LayoutModel",
          "model_module_version": "1.2.0",
          "state": {
            "_view_name": "LayoutView",
            "grid_template_rows": null,
            "right": null,
            "justify_content": null,
            "_view_module": "@jupyter-widgets/base",
            "overflow": null,
            "_model_module_version": "1.2.0",
            "_view_count": null,
            "flex_flow": null,
            "width": null,
            "min_width": null,
            "border": null,
            "align_items": null,
            "bottom": null,
            "_model_module": "@jupyter-widgets/base",
            "top": null,
            "grid_column": null,
            "overflow_y": null,
            "overflow_x": null,
            "grid_auto_flow": null,
            "grid_area": null,
            "grid_template_columns": null,
            "flex": null,
            "_model_name": "LayoutModel",
            "justify_items": null,
            "grid_row": null,
            "max_height": null,
            "align_content": null,
            "visibility": null,
            "align_self": null,
            "height": null,
            "min_height": null,
            "padding": null,
            "grid_auto_rows": null,
            "grid_gap": null,
            "max_width": null,
            "order": null,
            "_view_module_version": "1.2.0",
            "grid_template_areas": null,
            "object_position": null,
            "object_fit": null,
            "grid_auto_columns": null,
            "margin": null,
            "display": null,
            "left": null
          }
        },
        "8064700ce1034bc9a314f12c163d2cd8": {
          "model_module": "@jupyter-widgets/controls",
          "model_name": "DescriptionStyleModel",
          "model_module_version": "1.5.0",
          "state": {
            "_view_name": "StyleView",
            "_model_name": "DescriptionStyleModel",
            "description_width": "",
            "_view_module": "@jupyter-widgets/base",
            "_model_module_version": "1.5.0",
            "_view_count": null,
            "_view_module_version": "1.2.0",
            "_model_module": "@jupyter-widgets/controls"
          }
        },
        "98972de2f0f1489b97eac89bb2575c6a": {
          "model_module": "@jupyter-widgets/base",
          "model_name": "LayoutModel",
          "model_module_version": "1.2.0",
          "state": {
            "_view_name": "LayoutView",
            "grid_template_rows": null,
            "right": null,
            "justify_content": null,
            "_view_module": "@jupyter-widgets/base",
            "overflow": null,
            "_model_module_version": "1.2.0",
            "_view_count": null,
            "flex_flow": null,
            "width": null,
            "min_width": null,
            "border": null,
            "align_items": null,
            "bottom": null,
            "_model_module": "@jupyter-widgets/base",
            "top": null,
            "grid_column": null,
            "overflow_y": null,
            "overflow_x": null,
            "grid_auto_flow": null,
            "grid_area": null,
            "grid_template_columns": null,
            "flex": null,
            "_model_name": "LayoutModel",
            "justify_items": null,
            "grid_row": null,
            "max_height": null,
            "align_content": null,
            "visibility": null,
            "align_self": null,
            "height": null,
            "min_height": null,
            "padding": null,
            "grid_auto_rows": null,
            "grid_gap": null,
            "max_width": null,
            "order": null,
            "_view_module_version": "1.2.0",
            "grid_template_areas": null,
            "object_position": null,
            "object_fit": null,
            "grid_auto_columns": null,
            "margin": null,
            "display": null,
            "left": null
          }
        }
      }
    }
  },
  "cells": [
    {
      "cell_type": "markdown",
      "metadata": {
        "id": "XJMvRGexv0WL"
      },
      "source": [
        "0820-Copy1が全ての雛形です。  \n",
        "201027textmining_3_hypertuning  \n",
        "201110_MGI追加のコピー  \n",
        "210816 catboost\n"
      ]
    },
    {
      "cell_type": "markdown",
      "metadata": {
        "id": "V5XKvoz5TcYV"
      },
      "source": [
        "#gene_to_symの作成"
      ]
    },
    {
      "cell_type": "code",
      "metadata": {
        "colab": {
          "base_uri": "https://localhost:8080/"
        },
        "id": "qEsHd2wUf_7Q",
        "outputId": "9c28cc75-4840-4d2b-debb-09cfc623d10f"
      },
      "source": [
        "from google.colab import drive\n",
        "drive.mount('/content/drive')\n",
        "%cd /content/drive/My Drive/Colab Notebooks/nlp\n",
        "import pandas as pd\n",
        "import numpy as np\n",
        "import pickle"
      ],
      "execution_count": null,
      "outputs": [
        {
          "output_type": "stream",
          "name": "stdout",
          "text": [
            "Mounted at /content/drive\n",
            "/content/drive/My Drive/Colab Notebooks/nlp\n"
          ]
        }
      ]
    },
    {
      "cell_type": "code",
      "metadata": {
        "colab": {
          "base_uri": "https://localhost:8080/"
        },
        "id": "q_9-CT32x9i9",
        "outputId": "f8e887f9-a81d-4965-a4a8-207bfecefb5c"
      },
      "source": [
        "!head HGNC_0908.txt"
      ],
      "execution_count": null,
      "outputs": [
        {
          "output_type": "stream",
          "name": "stdout",
          "text": [
            "Approved symbol\tApproved name\tPrevious symbols\tAlias symbols\tChromosome\tAlias names\tPrevious name\n",
            "A1BG\talpha-1-B glycoprotein\t\t\t19q13.43\t\t\n",
            "A1BG-AS1\tA1BG antisense RNA 1\tNCRNA00181, A1BGAS, A1BG-AS\tFLJ23569\t19q13.43\t\t\"non-protein coding RNA 181\", \"A1BG antisense RNA (non-protein coding)\", \"A1BG antisense RNA 1 (non-protein coding)\"\n",
            "A1CF\tAPOBEC1 complementation factor\t\tACF, ASP, ACF64, ACF65, APOBEC1CF\t10q11.23\t\t\n",
            "A1S9T\tsymbol withdrawn, see [HGNC:12469](/data/gene-symbol-report/#!/hgnc_id/HGNC:12469)\t\t\t\t\t\n",
            "A2M\talpha-2-macroglobulin\t\tFWP007, S863-7, CPAMD5\t12p13.31\t\t\n",
            "A2M-AS1\tA2M antisense RNA 1\t\t\t12p13.31\t\t\"A2M antisense RNA 1 (non-protein coding)\", \"A2M antisense RNA 1\"\n",
            "A2ML1\talpha-2-macroglobulin like 1\tCPAMD9\tFLJ25179, p170\t12p13.31\t\t\"C3 and PZP-like, alpha-2-macroglobulin domain containing 9\"\n",
            "A2ML1-AS1\tA2ML1 antisense RNA 1\t\t\t12p13.31\t\t\"A2ML1 antisense RNA 1 (non-protein coding)\"\n",
            "A2ML1-AS2\tA2ML1 antisense RNA 2\t\t\t12p13.31\t\t\"A2ML1 antisense RNA 2 (non-protein coding)\"\n"
          ]
        }
      ]
    },
    {
      "cell_type": "code",
      "metadata": {
        "colab": {
          "base_uri": "https://localhost:8080/",
          "height": 49
        },
        "id": "wQbWB8f_URhS",
        "outputId": "37cd181b-51f1-4e77-8a06-96e4965a4d9c"
      },
      "source": [
        "ju[[type(a) == float for a in ju[\"Approved symbol\"]]]"
      ],
      "execution_count": null,
      "outputs": [
        {
          "output_type": "execute_result",
          "data": {
            "text/html": [
              "<div>\n",
              "<style scoped>\n",
              "    .dataframe tbody tr th:only-of-type {\n",
              "        vertical-align: middle;\n",
              "    }\n",
              "\n",
              "    .dataframe tbody tr th {\n",
              "        vertical-align: top;\n",
              "    }\n",
              "\n",
              "    .dataframe thead th {\n",
              "        text-align: right;\n",
              "    }\n",
              "</style>\n",
              "<table border=\"1\" class=\"dataframe\">\n",
              "  <thead>\n",
              "    <tr style=\"text-align: right;\">\n",
              "      <th></th>\n",
              "      <th>Approved symbol</th>\n",
              "      <th>Approved name</th>\n",
              "      <th>Previous symbols</th>\n",
              "      <th>Alias symbols</th>\n",
              "      <th>Chromosome</th>\n",
              "      <th>Alias names</th>\n",
              "      <th>Previous name</th>\n",
              "    </tr>\n",
              "  </thead>\n",
              "  <tbody>\n",
              "  </tbody>\n",
              "</table>\n",
              "</div>"
            ],
            "text/plain": [
              "Empty DataFrame\n",
              "Columns: [Approved symbol, Approved name, Previous symbols, Alias symbols, Chromosome, Alias names, Previous name]\n",
              "Index: []"
            ]
          },
          "metadata": {},
          "execution_count": 6
        }
      ]
    },
    {
      "cell_type": "code",
      "metadata": {
        "id": "ZFyQeEFC_wkC"
      },
      "source": [
        "import pandas as pd\n",
        "#ju = pd.read_table(\"./HGNC_0908.txt\")#HGNCからダウンロードしたものを保存\n",
        "#ju = ju[[type(a) != float for a in ju[\"Approved symbol\"]]]\n",
        "#ju = ju[[\"withdrawn\" not in a for a in ju[\"Approved name\"]]]\n",
        "#sym = list(ju[\"Approved symbol\"])\n",
        "#asy = list(ju[\"Alias symbols\"])\n",
        "#nam = list(ju[\"Approved name\"])\n",
        "#ana = list(ju[\"Alias names\"])\n",
        "#pna = list(ju[\"Previous name\"])\n",
        "#psy = list(ju[\"Previous symbols\"])\n",
        "#chr = list(ju[\"Chromosome\"])\n",
        "\n",
        "sym,asy,nam,ana,pna,psy,chr = [],[],[],[],[],[],[]\n",
        "f = open(\"./HGNC_0908.txt\",\"r\")\n",
        "for line in f:\n",
        "  if line.startswith(\"Approved\"):continue\n",
        "  ls = line.strip(\"\\n\").split(\"\\t\")\n",
        "  sym.append(ls[0])\n",
        "  nam.append(ls[1])\n",
        "  psy.append(ls[2])\n",
        "  asy.append(ls[3])\n",
        "  chr.append(ls[4])\n",
        "  try:ana.append(ls[5])\n",
        "  except:print(ls)\n",
        "  pna.append(ls[6])\n",
        "f.close()\n",
        "\n",
        "gene_to_sym={}\n",
        "for n,s in enumerate(sym):\n",
        "  gene_to_sym[s.upper()] = s.upper()\n",
        "ch = set([s.upper() for s in sym])\n",
        "du = set()\n",
        "\n",
        "def geun_na(col,g_t_u,d):\n",
        "  for n in range(len(col)):\n",
        "      a = col[n]\n",
        "      if type(a) == float:continue#None\n",
        "      a = a.upper()\n",
        "      ts = a.split(\"\\\",\")\n",
        "      for aa in ts:\n",
        "        aa = aa.replace(\"\\\"\",\"\")\n",
        "        #if \"(\" in aa:\n",
        "        #  aa = aa[:aa.index(\"(\")-1]\n",
        "        aa = aa.strip()\n",
        "        if aa in ch:continue\n",
        "        if aa in g_t_u:\n",
        "          d.add(aa)\n",
        "          continue\n",
        "        g_t_u[aa]=sym[n]\n",
        "  return g_t_u,d\n",
        "\n",
        "def geun(col,g_t_u,d):\n",
        "  for n in range(len(col)):\n",
        "      a = col[n]\n",
        "      if type(a) == float:continue#None\n",
        "      a = a.upper()\n",
        "      for aa in a.split(','):\n",
        "        #aa = aa.replace(\"\\\"\",\"\")\n",
        "        #if \"(\" in aa:\n",
        "        #  aa = aa[:aa.index(\"(\")-1]\n",
        "        aa = aa.strip()\n",
        "        if aa in ch:continue\n",
        "        if aa in g_t_u:\n",
        "          d.add(aa)\n",
        "          continue\n",
        "        g_t_u[aa]=sym[n]\n",
        "  return g_t_u,d\n",
        "\n",
        "gene_to_sym,du = geun(asy,gene_to_sym,du)\n",
        "gene_to_sym,du = geun_na(nam,gene_to_sym,du) \n",
        "gene_to_sym,du = geun_na(ana,gene_to_sym,du) \n",
        "gene_to_sym,du = geun_na(pna,gene_to_sym,du) \n",
        "gene_to_sym,du = geun(psy,gene_to_sym,du) \n",
        "for d in du:\n",
        "  del gene_to_sym[d]\n",
        "gene_to_sym2 = {}\n",
        "for g in gene_to_sym:#haihun処理\n",
        "  gene_to_sym2[g] = gene_to_sym[g]\n",
        "  if \"-\" in g and g.replace(\"-\",\"\") not in gene_to_sym:\n",
        "    gene_to_sym2[g.replace(\"-\",\"\")] = gene_to_sym[g]\n",
        "gene_to_sym = gene_to_sym2"
      ],
      "execution_count": null,
      "outputs": []
    },
    {
      "cell_type": "code",
      "metadata": {
        "colab": {
          "base_uri": "https://localhost:8080/"
        },
        "id": "MDwGEPgjp7_K",
        "outputId": "67e0f4c5-daf5-4c30-ac45-29056233be9f"
      },
      "source": [
        "for g in gene_to_sym:\n",
        "  if gene_to_sym[g]==\"A1BG-AS1\":\n",
        "    print(g)"
      ],
      "execution_count": null,
      "outputs": [
        {
          "output_type": "stream",
          "name": "stdout",
          "text": [
            "A1BG-AS1\n",
            "A1BGAS1\n",
            "FLJ23569\n",
            "A1BG ANTISENSE RNA 1\n",
            "NON-PROTEIN CODING RNA 181\n",
            "NONPROTEIN CODING RNA 181\n",
            "A1BG ANTISENSE RNA (NON-PROTEIN CODING)\n",
            "A1BG ANTISENSE RNA (NONPROTEIN CODING)\n",
            "A1BG ANTISENSE RNA 1 (NON-PROTEIN CODING)\n",
            "A1BG ANTISENSE RNA 1 (NONPROTEIN CODING)\n",
            "NCRNA00181\n",
            "A1BGAS\n",
            "A1BG-AS\n"
          ]
        }
      ]
    },
    {
      "cell_type": "code",
      "metadata": {
        "colab": {
          "base_uri": "https://localhost:8080/",
          "height": 35
        },
        "id": "CCMShAXXwQ-B",
        "outputId": "ee8ce99e-67dd-4369-b60b-d3197f602f2b"
      },
      "source": [
        "gene_to_sym[\"ART\"]"
      ],
      "execution_count": null,
      "outputs": [
        {
          "output_type": "execute_result",
          "data": {
            "application/vnd.google.colaboratory.intrinsic+json": {
              "type": "string"
            },
            "text/plain": [
              "'AGRP'"
            ]
          },
          "metadata": {},
          "execution_count": 67
        }
      ]
    },
    {
      "cell_type": "code",
      "metadata": {
        "id": "VtfFHT_xFAxB"
      },
      "source": [
        "import pickle\n",
        "with open(\"gene_to_sym_0919.pickle\", \"wb\") as f:\n",
        "  pickle.dump(gene_to_sym,f)"
      ],
      "execution_count": null,
      "outputs": []
    },
    {
      "cell_type": "code",
      "metadata": {
        "colab": {
          "base_uri": "https://localhost:8080/"
        },
        "id": "uR9Lwvt-urgA",
        "outputId": "91924591-1bd2-4673-e696-79a458e39798"
      },
      "source": [
        "pna[:10]\n"
      ],
      "execution_count": null,
      "outputs": [
        {
          "output_type": "execute_result",
          "data": {
            "text/plain": [
              "[nan,\n",
              " 'non-protein coding RNA 181, \"A1BG antisense RNA (non-protein coding)\", \"A1BG antisense RNA 1 (non-protein coding)\"',\n",
              " nan,\n",
              " nan,\n",
              " 'A2M antisense RNA 1 (non-protein coding), \"A2M antisense RNA 1\"',\n",
              " 'C3 and PZP-like, alpha-2-macroglobulin domain containing 9',\n",
              " 'A2ML1 antisense RNA 1 (non-protein coding)',\n",
              " 'A2ML1 antisense RNA 2 (non-protein coding)',\n",
              " 'alpha-2-macroglobulin pseudogene',\n",
              " 'alpha 1,3-galactosyltransferase 2, pseudogene']"
            ]
          },
          "metadata": {},
          "execution_count": 46
        }
      ]
    },
    {
      "cell_type": "markdown",
      "metadata": {
        "id": "YYjwy9MT6I_1"
      },
      "source": [
        "#特徴量作成\n"
      ]
    },
    {
      "cell_type": "code",
      "metadata": {
        "id": "MjifEKf4VVgo"
      },
      "source": [
        "#chromosome\n",
        "chrdic = {}\n",
        "chrset = set()\n",
        "for n,s in enumerate(sym):\n",
        "  s = s.upper()\n",
        "  if type(chr[n]) == float:continue\n",
        "  if \"p\" in chr[n]:\n",
        "     c = chr[n][:chr[n].index(\"p\")+1]\n",
        "  elif \"q\" in chr[n]:\n",
        "     c = chr[n][:chr[n].index(\"q\")+1]\n",
        "  else:continue\n",
        "  if len(c) > 4:continue\n",
        "  if c == \"unp\":continue\n",
        "  chrset.add(c)\n",
        "  chrdic[s]=set([c])\n",
        "chrlist = sorted(list(chrset))\n",
        "chrnum = {}\n",
        "for n,e in enumerate(chrlist):\n",
        "  chrnum[e] = n"
      ],
      "execution_count": null,
      "outputs": []
    },
    {
      "cell_type": "code",
      "metadata": {
        "id": "bUQiR3OSwlTc"
      },
      "source": [
        "chrset"
      ],
      "execution_count": null,
      "outputs": []
    },
    {
      "cell_type": "code",
      "metadata": {
        "colab": {
          "base_uri": "https://localhost:8080/"
        },
        "id": "PiE9Umm5Kkeo",
        "outputId": "a7820014-b683-4db9-b1eb-660804d30fd6"
      },
      "source": [
        "#!wget http://geneontology.org/gene-associations/goa_human.gaf.gz\n",
        "#!gunzip goa_human.gaf.gz\n",
        "dfgo = pd.read_table(\"goa_human.gaf\",skiprows=41,header=None)\n",
        "ggdic = {}\n",
        "name = dfgo[2].tolist()\n",
        "goid = dfgo[4].tolist()\n",
        "goset= set(goid)\n",
        "no=set()\n",
        "for n in range(len(dfgo)):\n",
        "  nu = name[n].upper()\n",
        "  if nu in gene_to_sym:\n",
        "    u = gene_to_sym[nu]\n",
        "    if u not in ggdic:ggdic[u]=set()\n",
        "    ggdic[u].add(goid[n])\n",
        "  else:no.add(nu)\n",
        "golist = sorted(list(goset))\n",
        "gonum2 = {}\n",
        "for n in range(len(golist)):\n",
        "   gonum2[golist[n]]=n"
      ],
      "execution_count": null,
      "outputs": [
        {
          "output_type": "stream",
          "name": "stderr",
          "text": [
            "/usr/local/lib/python3.7/dist-packages/IPython/core/interactiveshell.py:2822: DtypeWarning: Columns (15) have mixed types.Specify dtype option on import or set low_memory=False.\n",
            "  if self.run_code(code, result):\n"
          ]
        }
      ]
    },
    {
      "cell_type": "code",
      "metadata": {
        "id": "S06qpEb0Vjbg"
      },
      "source": [
        "#mgi\n",
        "f = open(\"HMD_HumanPhenotype.rpt\",\"r\")\n",
        "mgidic = {}\n",
        "mgiset = set()\n",
        "for line in f:\n",
        "  line_s = line.strip().split(\"\\t\")\n",
        "  if len(line_s) >= 7:\n",
        "      if line_s[0].upper() not in gene_to_sym:\n",
        "        continue\n",
        "      mgidic[gene_to_sym[line_s[0].upper()]]= set(line_s[6].split(\", \"))\n",
        "      for n in line_s[6].split(\", \"):\n",
        "        mgiset.add(n)\n",
        "  else:\n",
        "    if line_s[0].upper() not in gene_to_sym:\n",
        "        continue\n",
        "    mgidic[gene_to_sym[line_s[0].upper()]] = set()\n",
        "mgilist = list(mgiset)\n",
        "mgilist.sort()\n",
        "mginum = {}\n",
        "for t in range(len(mgilist)):\n",
        "    mginum[mgilist[t]] =t\n",
        "f.close()"
      ],
      "execution_count": null,
      "outputs": []
    },
    {
      "cell_type": "code",
      "metadata": {
        "id": "hxUZfaNLBK0l"
      },
      "source": [
        "#HPO,OMIM,ORPHAN\n",
        "#!wget http://compbio.charite.de/jenkins/job/hpo.annotations/lastSuccessfulBuild/artifact/util/annotation/genes_to_phenotype.txt\n",
        "\n",
        "f = open(\"genes_to_phenotype.txt\", \"r\")\n",
        "a = 0\n",
        "hpodic = {}\n",
        "ormdic = {}\n",
        "for line in f:\n",
        "  if a== 0:\n",
        "    a=100\n",
        "    continue\n",
        "  ls = line.strip().split(\"\\t\")\n",
        "  g = ls[1].upper()\n",
        "  if g not in gene_to_sym:continue\n",
        "  g = gene_to_sym[g]\n",
        "  if g not in hpodic:hpodic[g] = set()\n",
        "  if g not in ormdic:ormdic[g] = set()\n",
        "  hpodic[g].add(ls[2])\n",
        "  ormdic[g].add(ls[8])\n",
        "hposet = set()\n",
        "ormset = set()\n",
        "for h in hpodic:\n",
        "  h1 = hpodic[h]\n",
        "  for hh1 in h1:\n",
        "    hposet.add(hh1)\n",
        "for oe in ormdic:\n",
        "  o1 = ormdic[oe]\n",
        "  for hh1 in o1:\n",
        "    ormset.add(hh1)\n",
        "p = sorted(list(hposet))\n",
        "o = sorted(list(ormset))\n",
        "hponum = {}\n",
        "ormnum = {}\n",
        "for t in range(len(p)):\n",
        "    hponum[p[t]] =t \n",
        "for t in range(len(o)):\n",
        "    ormnum[o[t]] =t "
      ],
      "execution_count": null,
      "outputs": []
    },
    {
      "cell_type": "code",
      "metadata": {
        "colab": {
          "base_uri": "https://localhost:8080/",
          "height": 103,
          "referenced_widgets": [
            "431ef04bc41b47d4a4f5716e1c3dfb4a",
            "8a8cb0f35f6d41568093facd637275d5",
            "dc42bab147dc404ea3ff51ab656f9e88",
            "56e94c6621c942c9ac398d1c540e57fe",
            "4170e202f1534d748d445fbd7faf514a",
            "a9b5dbdfcf98419f82cd1a129be051b5",
            "0dd5d30e4263410bb086d7ace6b31052",
            "a75023d7f6204e81b76ec023c14fcdf4",
            "cbd798dc3cbb429eb3bcdc6bc311088c",
            "bbecf63378b94b11920302aa03f1bd28",
            "9669082fae2b4eb581c04e72592f8606"
          ]
        },
        "id": "Ogr2d4BP8my7",
        "outputId": "bb5df38e-f7b2-4189-a29b-b5ec8e898d52"
      },
      "source": [
        "#!wget https://maayanlab.cloud/static/hdfs/harmonizome/data/encodetfppi/gene_attribute_matrix.txt.gz\n",
        "#引用元はHarmonizomeじゃなくてEncodeに変更\n",
        "#!unzip gene_attribute_matrix.txt.gz\n",
        "dft = pd.read_table('gene_attribute_matrix.txt')\n",
        "dftf = dft.loc[2:].copy()\n",
        "dftf.index=dftf[\"#\"]\n",
        "dftf=dftf.drop(\"#\",axis=1)\n",
        "dftf=dftf.drop(\"#.1\",axis=1)\n",
        "dftf=dftf.drop(\"GeneSym\",axis=1)\n",
        "dftf = dftf.astype('float16')\n",
        "from tqdm.notebook import tqdm\n",
        "tfdic = {}\n",
        "for g in dftf.index:\n",
        "  if g.upper() in gene_to_sym:\n",
        "    tfdic[gene_to_sym[g.upper()]] = set()  \n",
        "ind = dftf.index.tolist()\n",
        "col = dftf.columns.tolist()\n",
        "for n in tqdm(range(len(dftf))):\n",
        "  tu = dftf.iloc[n].tolist()\n",
        "  for nn in range(len(tu)):\n",
        "    if tu[nn] == 1.0:\n",
        "      if ind[n].upper() in gene_to_sym:\n",
        "         tfdic[gene_to_sym[ind[n].upper()]].add(\"TF:\"+col[nn])\n",
        "tfnum={}\n",
        "t = 0\n",
        "for g in col:\n",
        "  tfnum[\"TF:\"+g] = t\n",
        "  t += 1"
      ],
      "execution_count": null,
      "outputs": [
        {
          "output_type": "stream",
          "name": "stderr",
          "text": [
            "/usr/local/lib/python3.7/dist-packages/IPython/core/interactiveshell.py:2822: DtypeWarning: Columns (2,3,4,5,6,7,8,9,10,11,12,13,14,15,16,17,18,19,20,21,22,23,24,25,26,27,28,29,30,31,32,33,34,35,36,37,38,39,40,41,42,43,44,45,46,47,48,49,50,51,52,53,54,55,56,57,58,59,60,61,62,63,64,65,66,67,68,69,70,71,72,73,74,75,76,77,78,79,80,81,82,83,84,85,86,87,88,89,90,91,92,93,94,95,96,97,98,99,100,101,102,103,104,105,106,107,108,109,110,111,112,113,114,115,116,117,118,119,120,121,122,123,124,125,126,127,128,129,130,131,132,133,134,135,136,137,138,139,140,141,142,143,144,145,146,147,148,149,150,151,152,153,154,155,156,157,158,159,160,161,162,163,164,165,166,167,168,169,170,171,172,173,174,175,176,177,178,179,180,181,182,183) have mixed types.Specify dtype option on import or set low_memory=False.\n",
            "  if self.run_code(code, result):\n"
          ]
        },
        {
          "output_type": "display_data",
          "data": {
            "application/vnd.jupyter.widget-view+json": {
              "model_id": "431ef04bc41b47d4a4f5716e1c3dfb4a",
              "version_minor": 0,
              "version_major": 2
            },
            "text/plain": [
              "  0%|          | 0/22819 [00:00<?, ?it/s]"
            ]
          },
          "metadata": {}
        }
      ]
    },
    {
      "cell_type": "code",
      "metadata": {
        "id": "-ke8HZkoumGZ"
      },
      "source": [
        "#Biogrid\n",
        "#!wnget https://downloads.thebiogrid.org/Download/BioGRID/Release-Archive/BIOGRID-4.2.193/BIOGRID-ALL-4.2.193.tab3.zip\n",
        "#unzip BIOGRID-ALL-4.2.193.tab3.zip.1\n",
        "f = open(\"BIOGRID-ALL-4.2.193.tab3.txt\",\"r\")\n",
        "intdic={}\n",
        "intnum={}\n",
        "for line in f:\n",
        "  ls = line.strip().split(\"\\t\")\n",
        "  if ls[-2] == \"Homo sapiens\" and ls[-1] ==\"Homo sapiens\":\n",
        "      a = ls[7].upper()\n",
        "      b = ls[8].upper()\n",
        "      if a in gene_to_sym and b in gene_to_sym:\n",
        "        a = gene_to_sym[a]\n",
        "        b = gene_to_sym[b]\n",
        "        if a not in intdic: intdic[a] =set()\n",
        "        if b not in intdic: intdic[b] =set()\n",
        "        intdic[a].add(\"BG:\"+b)\n",
        "        intdic[b].add(\"BG:\"+a)\n",
        "ints = sorted([\"BG:\"+i for i in list(intdic.keys())])\n",
        "for n,ii in enumerate(ints):\n",
        "  intnum[ii] = n"
      ],
      "execution_count": null,
      "outputs": []
    },
    {
      "cell_type": "code",
      "metadata": {
        "id": "xRdDALJcObvs"
      },
      "source": [
        "#subcellular localization\n",
        "#!wget https://www.proteinatlas.org/download/subcellular_location.tsv.zip\n",
        "#!unzip subcellular_location.tsv.zip\n",
        "import pandas as pd\n",
        "df = pd.read_table('subcellular_location.tsv')\n",
        "sl = list(df[\"Main location\"])\n",
        "sl2 = set()\n",
        "for s in sl:\n",
        "  if type(s) == float:\n",
        "    continue\n",
        "  s2  = s.strip().split(\";\")\n",
        "  for ss2 in s2:\n",
        "    sl2.add(ss2)\n",
        "s = list(sl2)\n",
        "s.sort()\n",
        "slonum={}\n",
        "for t in range(len(s)):\n",
        "    slonum[s[t]] =t\n",
        "geneslo = set(df[\"Gene name\"])\n",
        "slodic = {}\n",
        "for g in geneslo:\n",
        "    if g.upper() not in gene_to_sym:\n",
        "      continue\n",
        "    gu = gene_to_sym[g.upper()]\n",
        "    try: \n",
        "            U = df[df[\"Gene name\"]==g]\n",
        "            tmp = list(U[\"Main location\"])[0]\n",
        "            if type(tmp) == float:\n",
        "              continue\n",
        "            slodic[gu] = set(tmp.strip().split(\";\"))\n",
        "    except KeyError :\n",
        "            print(\"KeyError:\", UniId)\n",
        " "
      ],
      "execution_count": null,
      "outputs": []
    },
    {
      "cell_type": "code",
      "metadata": {
        "colab": {
          "base_uri": "https://localhost:8080/",
          "height": 81,
          "referenced_widgets": [
            "e2f0c9a1b025408bbb01b1241b8228f1",
            "7a16630ea8614d779e9f024a56887171",
            "110f67883bde4d3c9ed7b3a20758bcbe",
            "48900afcac2948369c6104873e70755f",
            "4f8c870662774226a4d3376db7352c7a",
            "cff12a79378d42cbacb0cf39ecdf5248",
            "53319c1645eb47918c7ef142b524c001",
            "a765c803fb41474caed5daf9c832b560",
            "6c3d5a905abf485c95a93890cd5b05e1",
            "5455f2f3f48742608f00e31d3157869a",
            "d60e97054cfa4f86b8a3bae459607539",
            "fd88c0f53047449889c8a11c168a8f03",
            "39202cf292ad44a588a3e07570ac990a",
            "b9972bf35ac04c2798dc92264a8567f3",
            "e59f17b2104c44f69d6ebbdc52588235",
            "0ff8081539324791991dd41c878526a2",
            "ab584a56a3014423bc03d85a8c593461",
            "69a9c424140f4e10b7c05e8ef1ee1f1d",
            "5c9aa00db45a44d88e4388b6a98f9f9c",
            "c44baac90b0e407fae7e2bd1f2f6cee0",
            "f66c5aa024c84e1e9d4787c4467f799f",
            "6888bd2e54b2425eb30b1e072872a35b"
          ]
        },
        "id": "DgfjWzsolIwi",
        "outputId": "6bd47194-1d9c-4e6d-821f-c2ddf6076610"
      },
      "source": [
        "#Expression\n",
        "#!wget https://www.proteinatlas.org/download/rna_tissue_hpa.tsv.zip\n",
        "#!unzip rna_tissue_hpa.tsv.zip\n",
        "dfrna = pd.read_table(\"rna_tissue_hpa.tsv\")\n",
        "grouped = dfrna.groupby('Gene name')\n",
        "medi = {}\n",
        "sddi = {}\n",
        "gm = grouped.mean()[\"TPM\"].tolist()\n",
        "gi = grouped.mean()[\"TPM\"].index.tolist()\n",
        "gs = grouped.std()[\"TPM\"].tolist()\n",
        "for n in range(len(gm)):\n",
        "  medi[gi[n]] = gm[n]\n",
        "  sddi[gi[n]] = gs[n]\n",
        "from tqdm.notebook import tqdm\n",
        "drg = dfrna[\"Gene name\"].tolist()\n",
        "drt = dfrna[\"TPM\"]\n",
        "sig = []\n",
        "for n in tqdm(range(len(dfrna))):\n",
        "  sig.append((drt[n]-medi[drg[n]])/(sddi[drg[n]]+0.001))\n",
        "dfrna[\"sigma\"]=sig\n",
        "drti = dfrna[\"Tissue\"].tolist()\n",
        "tisdic = {}\n",
        "for g in set(drg):\n",
        "  if g.upper() in gene_to_sym:tisdic[gene_to_sym[g.upper()]] = set()\n",
        "\n",
        "for n in tqdm(range(len(dfrna))):\n",
        "  g = drg[n].upper()\n",
        "  if g not in gene_to_sym:\n",
        "    #print(g)\n",
        "    continue\n",
        "  t = drti[n]\n",
        "  s = sig[n]\n",
        "  u = gene_to_sym[g]\n",
        "  if s >= 1.68: tisdic[u].add(t+\":H5\")\n",
        "  if  0.91 <= s <  1.68: tisdic[u].add(t+\":H4\")\n",
        "  if  0.53 <= s <  0.91: tisdic[u].add(t+\":H3\")\n",
        "  if  0.28 <= s <  0.53: tisdic[u].add(t+\":H2\")\n",
        "  if  0.09 <= s <  0.28: tisdic[u].add(t+\":H1\")\n",
        "  if -0.16 <= s < -0.25: tisdic[u].add(t+\":L1\")\n",
        "  if -0.25 <= s < -0.39: tisdic[u].add(t+\":L2\")\n",
        "  if -0.39 <= s < -0.25: tisdic[u].add(t+\":L3\")\n",
        "  if -0.65 <= s < -0.39: tisdic[u].add(t+\":L4\")\n",
        "  if s < -0.65: tisdic[u].add(t+\":L5\")\n",
        "tisnum = {}\n",
        "c = 0\n",
        "for t in sorted(list(set(drti))):\n",
        "  for n in range(1,6):\n",
        "    tisnum[t+\":H\"+str(n)]=c\n",
        "    c +=1\n",
        "  for n in range(1,6):\n",
        "    tisnum[t+\":L\"+str(n)]=c\n",
        "    c +=1"
      ],
      "execution_count": null,
      "outputs": [
        {
          "output_type": "display_data",
          "data": {
            "application/vnd.jupyter.widget-view+json": {
              "model_id": "e2f0c9a1b025408bbb01b1241b8228f1",
              "version_minor": 0,
              "version_major": 2
            },
            "text/plain": [
              "  0%|          | 0/845810 [00:00<?, ?it/s]"
            ]
          },
          "metadata": {}
        },
        {
          "output_type": "display_data",
          "data": {
            "application/vnd.jupyter.widget-view+json": {
              "model_id": "fd88c0f53047449889c8a11c168a8f03",
              "version_minor": 0,
              "version_major": 2
            },
            "text/plain": [
              "  0%|          | 0/845810 [00:00<?, ?it/s]"
            ]
          },
          "metadata": {}
        }
      ]
    },
    {
      "cell_type": "code",
      "metadata": {
        "colab": {
          "base_uri": "https://localhost:8080/"
        },
        "id": "S8vbKXpb3QLK",
        "outputId": "5e3cddd2-d592-44af-fa70-8802c5d0ed0e"
      },
      "source": [
        "ssig = sorted(sig)\n",
        "ssigl = ssig[:ssig.index(0)]\n",
        "ssigh = ssig[ssig.index(0):]\n",
        "for i in range(6):\n",
        "   print(ssigh[i*len(ssigh)//6])"
      ],
      "execution_count": null,
      "outputs": [
        {
          "output_type": "stream",
          "name": "stdout",
          "text": [
            "0.0\n",
            "0.09573919604237462\n",
            "0.2828015689225128\n",
            "0.5346948665116636\n",
            "0.9176327162495056\n",
            "1.6877739392289601\n"
          ]
        }
      ]
    },
    {
      "cell_type": "code",
      "metadata": {
        "colab": {
          "base_uri": "https://localhost:8080/",
          "height": 49,
          "referenced_widgets": [
            "858e3b406c5042c1b4daefbd7e03370e",
            "f7329e0cec3542f3b7a505eaebf6dafe",
            "6b8bfa43da874a0ca05aff8a2f3be429",
            "2ebacdc3fd054937a5c227179f723c45",
            "2f215d06f35e4dcb9ad3aef63761ca0f",
            "9883fa55340d454798de73ed78e90626",
            "c9cdc9a07b7c4e068023a0930eaa6b59",
            "e7546647cf864c87aa97a44e35ed561e",
            "e3bedfa86df2423681280e9b0cd0a292",
            "8064700ce1034bc9a314f12c163d2cd8",
            "98972de2f0f1489b97eac89bb2575c6a"
          ]
        },
        "id": "lO82GuPLzTzV",
        "outputId": "5bd26389-004e-408d-b764-43cd6a56e187"
      },
      "source": [
        "dfdep = pd.read_csv(\"Cricpr.csv\")\n",
        "dfdep = dfdep.drop(\"DepMap_ID\",axis=1)\n",
        "dfdep = dfdep.dropna()\n",
        "dfdep.columns = [d[:d.index(\"(\")-1].upper() for d in dfdep.columns]\n",
        "c = [a.upper() in gene_to_sym for a in dfdep.columns]\n",
        "dfdep = dfdep.loc[:,c]\n",
        "dfdep.columns = [gene_to_sym[a.upper()] for a in dfdep.columns]\n",
        "deppp = {}\n",
        "for d in tqdm(dfdep.columns):\n",
        "  deppp[d] = np.array(dfdep[d])"
      ],
      "execution_count": null,
      "outputs": [
        {
          "output_type": "display_data",
          "data": {
            "application/vnd.jupyter.widget-view+json": {
              "model_id": "858e3b406c5042c1b4daefbd7e03370e",
              "version_minor": 0,
              "version_major": 2
            },
            "text/plain": [
              "  0%|          | 0/17624 [00:00<?, ?it/s]"
            ]
          },
          "metadata": {}
        }
      ]
    },
    {
      "cell_type": "code",
      "metadata": {
        "id": "0eRivzuAJS7a"
      },
      "source": [
        "#word2vec\n",
        "import pickle\n",
        "with open(\"gene2vec.pickle\",\"rb\") as f:\n",
        "  gene2vec = pickle.load(f)"
      ],
      "execution_count": null,
      "outputs": []
    },
    {
      "cell_type": "code",
      "metadata": {
        "id": "VxPEALaou3O4"
      },
      "source": [
        "chrdic"
      ],
      "execution_count": null,
      "outputs": []
    },
    {
      "cell_type": "markdown",
      "metadata": {
        "id": "k3alRZkB3zJn"
      },
      "source": [
        "#alldic,allnum"
      ]
    },
    {
      "cell_type": "markdown",
      "metadata": {
        "id": "OBSyNPtDu_Bq"
      },
      "source": [
        "特徴量の一覧  \n",
        "　知識ベース  \n",
        "　　ggdic = GO, w2v  \n",
        "　データベース  \n",
        "    mgidic, slodic, hpodic, ormdic, intdic, tfdic, tisdic, chrdic, deppp"
      ]
    },
    {
      "cell_type": "code",
      "metadata": {
        "id": "WBDgJ0fKF8YA"
      },
      "source": [
        "#起動時間短縮のため、位置を決めてします\n",
        "#For webapp\n",
        "keys = ch\n",
        "alldic = {}\n",
        "for k in keys:\n",
        "  alldic[k]=set()#初期化\n",
        "def makedic(d):\n",
        "  for k in keys:\n",
        "    if k in d:\n",
        "      alldic[k] = alldic[k] | d[k]\n",
        "  return alldic\n",
        "alldic = makedic(ggdic)\n",
        "alldic = makedic(mgidic)\n",
        "alldic = makedic(slodic)\n",
        "alldic = makedic(hpodic)\n",
        "alldic = makedic(ormdic)\n",
        "alldic = makedic(intdic)\n",
        "alldic = makedic(tfdic)\n",
        "alldic = makedic(tisdic)\n",
        "alldic = makedic(chrdic)\n",
        "allnum = {}\n",
        "def makenum(dn):\n",
        "  a = len(allnum)\n",
        "  for k in dn:\n",
        "      allnum[k] = a+ dn[k]\n",
        "  return allnum\n",
        "allnum = makenum(gonum2)\n",
        "allnum = makenum(mginum)\n",
        "allnum = makenum(slonum)\n",
        "allnum = makenum(hponum)\n",
        "allnum = makenum(ormnum)\n",
        "allnum = makenum(intnum)\n",
        "allnum = makenum(tfnum)\n",
        "allnum = makenum(tisnum)\n",
        "allnum = makenum(chrnum)"
      ],
      "execution_count": null,
      "outputs": []
    },
    {
      "cell_type": "code",
      "metadata": {
        "id": "U8UQCTDjSvcl"
      },
      "source": [
        "import pickle\n",
        "with open(\"alldic_0909.pickle\", \"wb\") as f:\n",
        "  pickle.dump(alldic,f)\n",
        "with open(\"allnum_0909.pickle\", \"wb\") as f:\n",
        "  pickle.dump(allnum,f)\n",
        "#with open(\"model_0603.pickle\", \"wb\") as f:\n",
        "#  pickle.dump(model,f)"
      ],
      "execution_count": null,
      "outputs": []
    },
    {
      "cell_type": "code",
      "metadata": {
        "id": "JGXpzUxVIhx_"
      },
      "source": [
        "with open(\"deppp_0909.pickle\", \"wb\") as f:\n",
        "  pickle.dump(deppp,f)"
      ],
      "execution_count": null,
      "outputs": []
    },
    {
      "cell_type": "code",
      "metadata": {
        "id": "ywsufc6403SO"
      },
      "source": [
        "import time \n",
        "time.sleep(3600)"
      ],
      "execution_count": null,
      "outputs": []
    },
    {
      "cell_type": "markdown",
      "metadata": {
        "id": "jfc22w1_w_Ja"
      },
      "source": [
        "#datadic, datanum"
      ]
    },
    {
      "cell_type": "code",
      "metadata": {
        "id": "ESvK55nHxDFe"
      },
      "source": [
        "#起動時間短縮のため、位置を決めてします\n",
        "#For webapp\n",
        "keys = ch\n",
        "datdic = {}\n",
        "for k in keys:\n",
        "  datdic[k]=set()#初期化\n",
        "def makedic(d):\n",
        "  for k in keys:\n",
        "    if k in d:\n",
        "      datdic[k] = datdic[k] | d[k]\n",
        "  return datdic\n",
        "datdic = makedic(mgidic)\n",
        "datdic = makedic(slodic)\n",
        "datdic = makedic(hpodic)\n",
        "datdic = makedic(intdic)\n",
        "datdic = makedic(tfdic)\n",
        "datdic = makedic(tisdic)\n",
        "datdic = makedic(chrdic)\n",
        "datnum = {}\n",
        "def makenum(dn):\n",
        "  a = len(datnum)\n",
        "  for k in dn:\n",
        "      datnum[k] = a+ dn[k]\n",
        "  return datnum\n",
        "datnum = makenum(gonum2)\n",
        "datnum = makenum(mginum)\n",
        "datnum = makenum(slonum)\n",
        "datnum = makenum(hponum)\n",
        "datnum = makenum(intnum)\n",
        "datnum = makenum(tfnum)\n",
        "datnum = makenum(tisnum)\n",
        "datnum = makenum(chrnum)"
      ],
      "execution_count": null,
      "outputs": []
    },
    {
      "cell_type": "code",
      "metadata": {
        "id": "RumMSfN0xFhV"
      },
      "source": [
        "import pickle\n",
        "with open(\"datdic_0909.pickle\", \"wb\") as f:\n",
        "  pickle.dump(datdic,f)\n",
        "with open(\"datnum_0909.pickle\", \"wb\") as f:\n",
        "  pickle.dump(datnum,f)\n",
        "#with open(\"model_0603.pickle\", \"wb\") as f:\n",
        "#  pickle.dump(model,f)"
      ],
      "execution_count": null,
      "outputs": []
    },
    {
      "cell_type": "code",
      "metadata": {
        "colab": {
          "base_uri": "https://localhost:8080/"
        },
        "id": "Yvi71r6UxWtb",
        "outputId": "ef3fc0ad-9ce1-42a8-bcd8-a59883676d2b"
      },
      "source": [
        "len(datnum)\n",
        "len(allnum)"
      ],
      "execution_count": null,
      "outputs": [
        {
          "output_type": "execute_result",
          "data": {
            "text/plain": [
              "54046"
            ]
          },
          "metadata": {},
          "execution_count": 72
        }
      ]
    },
    {
      "cell_type": "code",
      "metadata": {
        "id": "ylW0CQxIxcCo"
      },
      "source": [
        ""
      ],
      "execution_count": null,
      "outputs": []
    }
  ]
}